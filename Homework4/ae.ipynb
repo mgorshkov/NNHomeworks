{
  "nbformat": 4,
  "nbformat_minor": 0,
  "metadata": {
    "kernelspec": {
      "display_name": "Python 3",
      "language": "python",
      "name": "python3"
    },
    "language_info": {
      "codemirror_mode": {
        "name": "ipython",
        "version": 3
      },
      "file_extension": ".py",
      "mimetype": "text/x-python",
      "name": "python",
      "nbconvert_exporter": "python",
      "pygments_lexer": "ipython3",
      "version": "3.7.1"
    },
    "colab": {
      "name": "ae.ipynb",
      "provenance": []
    },
    "accelerator": "GPU",
    "widgets": {
      "application/vnd.jupyter.widget-state+json": {
        "a109fd727e2c4d68b7dbd4e9601b7a87": {
          "model_module": "@jupyter-widgets/controls",
          "model_name": "HBoxModel",
          "state": {
            "_view_name": "HBoxView",
            "_dom_classes": [],
            "_model_name": "HBoxModel",
            "_view_module": "@jupyter-widgets/controls",
            "_model_module_version": "1.5.0",
            "_view_count": null,
            "_view_module_version": "1.5.0",
            "box_style": "",
            "layout": "IPY_MODEL_31d891ba2e6b4c1092b2b3dd03f23c83",
            "_model_module": "@jupyter-widgets/controls",
            "children": [
              "IPY_MODEL_95901b3b376c4843bbe1467b7e601a15",
              "IPY_MODEL_fc53d66433754181bddccc1d903b76e5"
            ]
          }
        },
        "31d891ba2e6b4c1092b2b3dd03f23c83": {
          "model_module": "@jupyter-widgets/base",
          "model_name": "LayoutModel",
          "state": {
            "_view_name": "LayoutView",
            "grid_template_rows": null,
            "right": null,
            "justify_content": null,
            "_view_module": "@jupyter-widgets/base",
            "overflow": null,
            "_model_module_version": "1.2.0",
            "_view_count": null,
            "flex_flow": null,
            "width": null,
            "min_width": null,
            "border": null,
            "align_items": null,
            "bottom": null,
            "_model_module": "@jupyter-widgets/base",
            "top": null,
            "grid_column": null,
            "overflow_y": null,
            "overflow_x": null,
            "grid_auto_flow": null,
            "grid_area": null,
            "grid_template_columns": null,
            "flex": null,
            "_model_name": "LayoutModel",
            "justify_items": null,
            "grid_row": null,
            "max_height": null,
            "align_content": null,
            "visibility": null,
            "align_self": null,
            "height": null,
            "min_height": null,
            "padding": null,
            "grid_auto_rows": null,
            "grid_gap": null,
            "max_width": null,
            "order": null,
            "_view_module_version": "1.2.0",
            "grid_template_areas": null,
            "object_position": null,
            "object_fit": null,
            "grid_auto_columns": null,
            "margin": null,
            "display": null,
            "left": null
          }
        },
        "95901b3b376c4843bbe1467b7e601a15": {
          "model_module": "@jupyter-widgets/controls",
          "model_name": "FloatProgressModel",
          "state": {
            "_view_name": "ProgressView",
            "style": "IPY_MODEL_76d385b715b840dba25d47670d21e1ed",
            "_dom_classes": [],
            "description": "",
            "_model_name": "FloatProgressModel",
            "bar_style": "success",
            "max": 1,
            "_view_module": "@jupyter-widgets/controls",
            "_model_module_version": "1.5.0",
            "value": 1,
            "_view_count": null,
            "_view_module_version": "1.5.0",
            "orientation": "horizontal",
            "min": 0,
            "description_tooltip": null,
            "_model_module": "@jupyter-widgets/controls",
            "layout": "IPY_MODEL_9df7b908446b4f348b2f563e7df6a210"
          }
        },
        "fc53d66433754181bddccc1d903b76e5": {
          "model_module": "@jupyter-widgets/controls",
          "model_name": "HTMLModel",
          "state": {
            "_view_name": "HTMLView",
            "style": "IPY_MODEL_dde41fa658724097a9404177551ed9dd",
            "_dom_classes": [],
            "description": "",
            "_model_name": "HTMLModel",
            "placeholder": "​",
            "_view_module": "@jupyter-widgets/controls",
            "_model_module_version": "1.5.0",
            "value": " 9920512/? [00:01&lt;00:00, 6123245.19it/s]",
            "_view_count": null,
            "_view_module_version": "1.5.0",
            "description_tooltip": null,
            "_model_module": "@jupyter-widgets/controls",
            "layout": "IPY_MODEL_2bfdde0b7e794fb785d206cae1d869ef"
          }
        },
        "76d385b715b840dba25d47670d21e1ed": {
          "model_module": "@jupyter-widgets/controls",
          "model_name": "ProgressStyleModel",
          "state": {
            "_view_name": "StyleView",
            "_model_name": "ProgressStyleModel",
            "description_width": "initial",
            "_view_module": "@jupyter-widgets/base",
            "_model_module_version": "1.5.0",
            "_view_count": null,
            "_view_module_version": "1.2.0",
            "bar_color": null,
            "_model_module": "@jupyter-widgets/controls"
          }
        },
        "9df7b908446b4f348b2f563e7df6a210": {
          "model_module": "@jupyter-widgets/base",
          "model_name": "LayoutModel",
          "state": {
            "_view_name": "LayoutView",
            "grid_template_rows": null,
            "right": null,
            "justify_content": null,
            "_view_module": "@jupyter-widgets/base",
            "overflow": null,
            "_model_module_version": "1.2.0",
            "_view_count": null,
            "flex_flow": null,
            "width": null,
            "min_width": null,
            "border": null,
            "align_items": null,
            "bottom": null,
            "_model_module": "@jupyter-widgets/base",
            "top": null,
            "grid_column": null,
            "overflow_y": null,
            "overflow_x": null,
            "grid_auto_flow": null,
            "grid_area": null,
            "grid_template_columns": null,
            "flex": null,
            "_model_name": "LayoutModel",
            "justify_items": null,
            "grid_row": null,
            "max_height": null,
            "align_content": null,
            "visibility": null,
            "align_self": null,
            "height": null,
            "min_height": null,
            "padding": null,
            "grid_auto_rows": null,
            "grid_gap": null,
            "max_width": null,
            "order": null,
            "_view_module_version": "1.2.0",
            "grid_template_areas": null,
            "object_position": null,
            "object_fit": null,
            "grid_auto_columns": null,
            "margin": null,
            "display": null,
            "left": null
          }
        },
        "dde41fa658724097a9404177551ed9dd": {
          "model_module": "@jupyter-widgets/controls",
          "model_name": "DescriptionStyleModel",
          "state": {
            "_view_name": "StyleView",
            "_model_name": "DescriptionStyleModel",
            "description_width": "",
            "_view_module": "@jupyter-widgets/base",
            "_model_module_version": "1.5.0",
            "_view_count": null,
            "_view_module_version": "1.2.0",
            "_model_module": "@jupyter-widgets/controls"
          }
        },
        "2bfdde0b7e794fb785d206cae1d869ef": {
          "model_module": "@jupyter-widgets/base",
          "model_name": "LayoutModel",
          "state": {
            "_view_name": "LayoutView",
            "grid_template_rows": null,
            "right": null,
            "justify_content": null,
            "_view_module": "@jupyter-widgets/base",
            "overflow": null,
            "_model_module_version": "1.2.0",
            "_view_count": null,
            "flex_flow": null,
            "width": null,
            "min_width": null,
            "border": null,
            "align_items": null,
            "bottom": null,
            "_model_module": "@jupyter-widgets/base",
            "top": null,
            "grid_column": null,
            "overflow_y": null,
            "overflow_x": null,
            "grid_auto_flow": null,
            "grid_area": null,
            "grid_template_columns": null,
            "flex": null,
            "_model_name": "LayoutModel",
            "justify_items": null,
            "grid_row": null,
            "max_height": null,
            "align_content": null,
            "visibility": null,
            "align_self": null,
            "height": null,
            "min_height": null,
            "padding": null,
            "grid_auto_rows": null,
            "grid_gap": null,
            "max_width": null,
            "order": null,
            "_view_module_version": "1.2.0",
            "grid_template_areas": null,
            "object_position": null,
            "object_fit": null,
            "grid_auto_columns": null,
            "margin": null,
            "display": null,
            "left": null
          }
        },
        "ae770574106a48788e5cc9ceddab2617": {
          "model_module": "@jupyter-widgets/controls",
          "model_name": "HBoxModel",
          "state": {
            "_view_name": "HBoxView",
            "_dom_classes": [],
            "_model_name": "HBoxModel",
            "_view_module": "@jupyter-widgets/controls",
            "_model_module_version": "1.5.0",
            "_view_count": null,
            "_view_module_version": "1.5.0",
            "box_style": "",
            "layout": "IPY_MODEL_e2f378e8f8954a12941c60256d814054",
            "_model_module": "@jupyter-widgets/controls",
            "children": [
              "IPY_MODEL_317bdada8e7844c293c2975fc0aeb87e",
              "IPY_MODEL_3d172a472556487e91d4cb10d6b9a48a"
            ]
          }
        },
        "e2f378e8f8954a12941c60256d814054": {
          "model_module": "@jupyter-widgets/base",
          "model_name": "LayoutModel",
          "state": {
            "_view_name": "LayoutView",
            "grid_template_rows": null,
            "right": null,
            "justify_content": null,
            "_view_module": "@jupyter-widgets/base",
            "overflow": null,
            "_model_module_version": "1.2.0",
            "_view_count": null,
            "flex_flow": null,
            "width": null,
            "min_width": null,
            "border": null,
            "align_items": null,
            "bottom": null,
            "_model_module": "@jupyter-widgets/base",
            "top": null,
            "grid_column": null,
            "overflow_y": null,
            "overflow_x": null,
            "grid_auto_flow": null,
            "grid_area": null,
            "grid_template_columns": null,
            "flex": null,
            "_model_name": "LayoutModel",
            "justify_items": null,
            "grid_row": null,
            "max_height": null,
            "align_content": null,
            "visibility": null,
            "align_self": null,
            "height": null,
            "min_height": null,
            "padding": null,
            "grid_auto_rows": null,
            "grid_gap": null,
            "max_width": null,
            "order": null,
            "_view_module_version": "1.2.0",
            "grid_template_areas": null,
            "object_position": null,
            "object_fit": null,
            "grid_auto_columns": null,
            "margin": null,
            "display": null,
            "left": null
          }
        },
        "317bdada8e7844c293c2975fc0aeb87e": {
          "model_module": "@jupyter-widgets/controls",
          "model_name": "FloatProgressModel",
          "state": {
            "_view_name": "ProgressView",
            "style": "IPY_MODEL_cb2d58a5f0ee4bc8a4eb32e7f768e199",
            "_dom_classes": [],
            "description": "  0%",
            "_model_name": "FloatProgressModel",
            "bar_style": "info",
            "max": 1,
            "_view_module": "@jupyter-widgets/controls",
            "_model_module_version": "1.5.0",
            "value": 0,
            "_view_count": null,
            "_view_module_version": "1.5.0",
            "orientation": "horizontal",
            "min": 0,
            "description_tooltip": null,
            "_model_module": "@jupyter-widgets/controls",
            "layout": "IPY_MODEL_41e05e7d2388478685849537a8ce24f5"
          }
        },
        "3d172a472556487e91d4cb10d6b9a48a": {
          "model_module": "@jupyter-widgets/controls",
          "model_name": "HTMLModel",
          "state": {
            "_view_name": "HTMLView",
            "style": "IPY_MODEL_20a0746716bb403da7a255f0c10a348f",
            "_dom_classes": [],
            "description": "",
            "_model_name": "HTMLModel",
            "placeholder": "​",
            "_view_module": "@jupyter-widgets/controls",
            "_model_module_version": "1.5.0",
            "value": " 0/28881 [00:00&lt;?, ?it/s]",
            "_view_count": null,
            "_view_module_version": "1.5.0",
            "description_tooltip": null,
            "_model_module": "@jupyter-widgets/controls",
            "layout": "IPY_MODEL_6a90652648b3487fb2d007b2a6acb78d"
          }
        },
        "cb2d58a5f0ee4bc8a4eb32e7f768e199": {
          "model_module": "@jupyter-widgets/controls",
          "model_name": "ProgressStyleModel",
          "state": {
            "_view_name": "StyleView",
            "_model_name": "ProgressStyleModel",
            "description_width": "initial",
            "_view_module": "@jupyter-widgets/base",
            "_model_module_version": "1.5.0",
            "_view_count": null,
            "_view_module_version": "1.2.0",
            "bar_color": null,
            "_model_module": "@jupyter-widgets/controls"
          }
        },
        "41e05e7d2388478685849537a8ce24f5": {
          "model_module": "@jupyter-widgets/base",
          "model_name": "LayoutModel",
          "state": {
            "_view_name": "LayoutView",
            "grid_template_rows": null,
            "right": null,
            "justify_content": null,
            "_view_module": "@jupyter-widgets/base",
            "overflow": null,
            "_model_module_version": "1.2.0",
            "_view_count": null,
            "flex_flow": null,
            "width": null,
            "min_width": null,
            "border": null,
            "align_items": null,
            "bottom": null,
            "_model_module": "@jupyter-widgets/base",
            "top": null,
            "grid_column": null,
            "overflow_y": null,
            "overflow_x": null,
            "grid_auto_flow": null,
            "grid_area": null,
            "grid_template_columns": null,
            "flex": null,
            "_model_name": "LayoutModel",
            "justify_items": null,
            "grid_row": null,
            "max_height": null,
            "align_content": null,
            "visibility": null,
            "align_self": null,
            "height": null,
            "min_height": null,
            "padding": null,
            "grid_auto_rows": null,
            "grid_gap": null,
            "max_width": null,
            "order": null,
            "_view_module_version": "1.2.0",
            "grid_template_areas": null,
            "object_position": null,
            "object_fit": null,
            "grid_auto_columns": null,
            "margin": null,
            "display": null,
            "left": null
          }
        },
        "20a0746716bb403da7a255f0c10a348f": {
          "model_module": "@jupyter-widgets/controls",
          "model_name": "DescriptionStyleModel",
          "state": {
            "_view_name": "StyleView",
            "_model_name": "DescriptionStyleModel",
            "description_width": "",
            "_view_module": "@jupyter-widgets/base",
            "_model_module_version": "1.5.0",
            "_view_count": null,
            "_view_module_version": "1.2.0",
            "_model_module": "@jupyter-widgets/controls"
          }
        },
        "6a90652648b3487fb2d007b2a6acb78d": {
          "model_module": "@jupyter-widgets/base",
          "model_name": "LayoutModel",
          "state": {
            "_view_name": "LayoutView",
            "grid_template_rows": null,
            "right": null,
            "justify_content": null,
            "_view_module": "@jupyter-widgets/base",
            "overflow": null,
            "_model_module_version": "1.2.0",
            "_view_count": null,
            "flex_flow": null,
            "width": null,
            "min_width": null,
            "border": null,
            "align_items": null,
            "bottom": null,
            "_model_module": "@jupyter-widgets/base",
            "top": null,
            "grid_column": null,
            "overflow_y": null,
            "overflow_x": null,
            "grid_auto_flow": null,
            "grid_area": null,
            "grid_template_columns": null,
            "flex": null,
            "_model_name": "LayoutModel",
            "justify_items": null,
            "grid_row": null,
            "max_height": null,
            "align_content": null,
            "visibility": null,
            "align_self": null,
            "height": null,
            "min_height": null,
            "padding": null,
            "grid_auto_rows": null,
            "grid_gap": null,
            "max_width": null,
            "order": null,
            "_view_module_version": "1.2.0",
            "grid_template_areas": null,
            "object_position": null,
            "object_fit": null,
            "grid_auto_columns": null,
            "margin": null,
            "display": null,
            "left": null
          }
        },
        "5270c8a60c2f40929fc1052f2219c18b": {
          "model_module": "@jupyter-widgets/controls",
          "model_name": "HBoxModel",
          "state": {
            "_view_name": "HBoxView",
            "_dom_classes": [],
            "_model_name": "HBoxModel",
            "_view_module": "@jupyter-widgets/controls",
            "_model_module_version": "1.5.0",
            "_view_count": null,
            "_view_module_version": "1.5.0",
            "box_style": "",
            "layout": "IPY_MODEL_fe7061c9dbe8451c9d004d9398bd19a6",
            "_model_module": "@jupyter-widgets/controls",
            "children": [
              "IPY_MODEL_bb21c07068874fc3aff211eb41d47a07",
              "IPY_MODEL_3a4ef04b704e4c4e8a27ef4f09b4258f"
            ]
          }
        },
        "fe7061c9dbe8451c9d004d9398bd19a6": {
          "model_module": "@jupyter-widgets/base",
          "model_name": "LayoutModel",
          "state": {
            "_view_name": "LayoutView",
            "grid_template_rows": null,
            "right": null,
            "justify_content": null,
            "_view_module": "@jupyter-widgets/base",
            "overflow": null,
            "_model_module_version": "1.2.0",
            "_view_count": null,
            "flex_flow": null,
            "width": null,
            "min_width": null,
            "border": null,
            "align_items": null,
            "bottom": null,
            "_model_module": "@jupyter-widgets/base",
            "top": null,
            "grid_column": null,
            "overflow_y": null,
            "overflow_x": null,
            "grid_auto_flow": null,
            "grid_area": null,
            "grid_template_columns": null,
            "flex": null,
            "_model_name": "LayoutModel",
            "justify_items": null,
            "grid_row": null,
            "max_height": null,
            "align_content": null,
            "visibility": null,
            "align_self": null,
            "height": null,
            "min_height": null,
            "padding": null,
            "grid_auto_rows": null,
            "grid_gap": null,
            "max_width": null,
            "order": null,
            "_view_module_version": "1.2.0",
            "grid_template_areas": null,
            "object_position": null,
            "object_fit": null,
            "grid_auto_columns": null,
            "margin": null,
            "display": null,
            "left": null
          }
        },
        "bb21c07068874fc3aff211eb41d47a07": {
          "model_module": "@jupyter-widgets/controls",
          "model_name": "FloatProgressModel",
          "state": {
            "_view_name": "ProgressView",
            "style": "IPY_MODEL_782bb8ac03e74dbc86e427ef4beec449",
            "_dom_classes": [],
            "description": "",
            "_model_name": "FloatProgressModel",
            "bar_style": "success",
            "max": 1,
            "_view_module": "@jupyter-widgets/controls",
            "_model_module_version": "1.5.0",
            "value": 1,
            "_view_count": null,
            "_view_module_version": "1.5.0",
            "orientation": "horizontal",
            "min": 0,
            "description_tooltip": null,
            "_model_module": "@jupyter-widgets/controls",
            "layout": "IPY_MODEL_1ff1e76a106f41448e355bb293ac4e8f"
          }
        },
        "3a4ef04b704e4c4e8a27ef4f09b4258f": {
          "model_module": "@jupyter-widgets/controls",
          "model_name": "HTMLModel",
          "state": {
            "_view_name": "HTMLView",
            "style": "IPY_MODEL_31267f14775a4fe999c2aca621553a3f",
            "_dom_classes": [],
            "description": "",
            "_model_name": "HTMLModel",
            "placeholder": "​",
            "_view_module": "@jupyter-widgets/controls",
            "_model_module_version": "1.5.0",
            "value": " 1654784/? [00:01&lt;00:00, 1367580.34it/s]",
            "_view_count": null,
            "_view_module_version": "1.5.0",
            "description_tooltip": null,
            "_model_module": "@jupyter-widgets/controls",
            "layout": "IPY_MODEL_1801d7ca8c754a059b5fdbd2c0bf7206"
          }
        },
        "782bb8ac03e74dbc86e427ef4beec449": {
          "model_module": "@jupyter-widgets/controls",
          "model_name": "ProgressStyleModel",
          "state": {
            "_view_name": "StyleView",
            "_model_name": "ProgressStyleModel",
            "description_width": "initial",
            "_view_module": "@jupyter-widgets/base",
            "_model_module_version": "1.5.0",
            "_view_count": null,
            "_view_module_version": "1.2.0",
            "bar_color": null,
            "_model_module": "@jupyter-widgets/controls"
          }
        },
        "1ff1e76a106f41448e355bb293ac4e8f": {
          "model_module": "@jupyter-widgets/base",
          "model_name": "LayoutModel",
          "state": {
            "_view_name": "LayoutView",
            "grid_template_rows": null,
            "right": null,
            "justify_content": null,
            "_view_module": "@jupyter-widgets/base",
            "overflow": null,
            "_model_module_version": "1.2.0",
            "_view_count": null,
            "flex_flow": null,
            "width": null,
            "min_width": null,
            "border": null,
            "align_items": null,
            "bottom": null,
            "_model_module": "@jupyter-widgets/base",
            "top": null,
            "grid_column": null,
            "overflow_y": null,
            "overflow_x": null,
            "grid_auto_flow": null,
            "grid_area": null,
            "grid_template_columns": null,
            "flex": null,
            "_model_name": "LayoutModel",
            "justify_items": null,
            "grid_row": null,
            "max_height": null,
            "align_content": null,
            "visibility": null,
            "align_self": null,
            "height": null,
            "min_height": null,
            "padding": null,
            "grid_auto_rows": null,
            "grid_gap": null,
            "max_width": null,
            "order": null,
            "_view_module_version": "1.2.0",
            "grid_template_areas": null,
            "object_position": null,
            "object_fit": null,
            "grid_auto_columns": null,
            "margin": null,
            "display": null,
            "left": null
          }
        },
        "31267f14775a4fe999c2aca621553a3f": {
          "model_module": "@jupyter-widgets/controls",
          "model_name": "DescriptionStyleModel",
          "state": {
            "_view_name": "StyleView",
            "_model_name": "DescriptionStyleModel",
            "description_width": "",
            "_view_module": "@jupyter-widgets/base",
            "_model_module_version": "1.5.0",
            "_view_count": null,
            "_view_module_version": "1.2.0",
            "_model_module": "@jupyter-widgets/controls"
          }
        },
        "1801d7ca8c754a059b5fdbd2c0bf7206": {
          "model_module": "@jupyter-widgets/base",
          "model_name": "LayoutModel",
          "state": {
            "_view_name": "LayoutView",
            "grid_template_rows": null,
            "right": null,
            "justify_content": null,
            "_view_module": "@jupyter-widgets/base",
            "overflow": null,
            "_model_module_version": "1.2.0",
            "_view_count": null,
            "flex_flow": null,
            "width": null,
            "min_width": null,
            "border": null,
            "align_items": null,
            "bottom": null,
            "_model_module": "@jupyter-widgets/base",
            "top": null,
            "grid_column": null,
            "overflow_y": null,
            "overflow_x": null,
            "grid_auto_flow": null,
            "grid_area": null,
            "grid_template_columns": null,
            "flex": null,
            "_model_name": "LayoutModel",
            "justify_items": null,
            "grid_row": null,
            "max_height": null,
            "align_content": null,
            "visibility": null,
            "align_self": null,
            "height": null,
            "min_height": null,
            "padding": null,
            "grid_auto_rows": null,
            "grid_gap": null,
            "max_width": null,
            "order": null,
            "_view_module_version": "1.2.0",
            "grid_template_areas": null,
            "object_position": null,
            "object_fit": null,
            "grid_auto_columns": null,
            "margin": null,
            "display": null,
            "left": null
          }
        },
        "37e5f6c9388244829b4a12f0c9ab53f2": {
          "model_module": "@jupyter-widgets/controls",
          "model_name": "HBoxModel",
          "state": {
            "_view_name": "HBoxView",
            "_dom_classes": [],
            "_model_name": "HBoxModel",
            "_view_module": "@jupyter-widgets/controls",
            "_model_module_version": "1.5.0",
            "_view_count": null,
            "_view_module_version": "1.5.0",
            "box_style": "",
            "layout": "IPY_MODEL_3099958090bd44ad996d3720d05b59de",
            "_model_module": "@jupyter-widgets/controls",
            "children": [
              "IPY_MODEL_b15e0a784f5c454d8910ed8095ca7407",
              "IPY_MODEL_e923dd77feef4f9db2f0043874ae3bef"
            ]
          }
        },
        "3099958090bd44ad996d3720d05b59de": {
          "model_module": "@jupyter-widgets/base",
          "model_name": "LayoutModel",
          "state": {
            "_view_name": "LayoutView",
            "grid_template_rows": null,
            "right": null,
            "justify_content": null,
            "_view_module": "@jupyter-widgets/base",
            "overflow": null,
            "_model_module_version": "1.2.0",
            "_view_count": null,
            "flex_flow": null,
            "width": null,
            "min_width": null,
            "border": null,
            "align_items": null,
            "bottom": null,
            "_model_module": "@jupyter-widgets/base",
            "top": null,
            "grid_column": null,
            "overflow_y": null,
            "overflow_x": null,
            "grid_auto_flow": null,
            "grid_area": null,
            "grid_template_columns": null,
            "flex": null,
            "_model_name": "LayoutModel",
            "justify_items": null,
            "grid_row": null,
            "max_height": null,
            "align_content": null,
            "visibility": null,
            "align_self": null,
            "height": null,
            "min_height": null,
            "padding": null,
            "grid_auto_rows": null,
            "grid_gap": null,
            "max_width": null,
            "order": null,
            "_view_module_version": "1.2.0",
            "grid_template_areas": null,
            "object_position": null,
            "object_fit": null,
            "grid_auto_columns": null,
            "margin": null,
            "display": null,
            "left": null
          }
        },
        "b15e0a784f5c454d8910ed8095ca7407": {
          "model_module": "@jupyter-widgets/controls",
          "model_name": "FloatProgressModel",
          "state": {
            "_view_name": "ProgressView",
            "style": "IPY_MODEL_43eae9b5061740ce8e11579a854d33ce",
            "_dom_classes": [],
            "description": "",
            "_model_name": "FloatProgressModel",
            "bar_style": "success",
            "max": 1,
            "_view_module": "@jupyter-widgets/controls",
            "_model_module_version": "1.5.0",
            "value": 1,
            "_view_count": null,
            "_view_module_version": "1.5.0",
            "orientation": "horizontal",
            "min": 0,
            "description_tooltip": null,
            "_model_module": "@jupyter-widgets/controls",
            "layout": "IPY_MODEL_fa5f819fb1c04c369b9ed35703ab246f"
          }
        },
        "e923dd77feef4f9db2f0043874ae3bef": {
          "model_module": "@jupyter-widgets/controls",
          "model_name": "HTMLModel",
          "state": {
            "_view_name": "HTMLView",
            "style": "IPY_MODEL_848a04fb79b244dc87ca6a54bf82af0b",
            "_dom_classes": [],
            "description": "",
            "_model_name": "HTMLModel",
            "placeholder": "​",
            "_view_module": "@jupyter-widgets/controls",
            "_model_module_version": "1.5.0",
            "value": " 8192/? [00:00&lt;00:00, 22790.78it/s]",
            "_view_count": null,
            "_view_module_version": "1.5.0",
            "description_tooltip": null,
            "_model_module": "@jupyter-widgets/controls",
            "layout": "IPY_MODEL_79815ffe37b449848a637160a004d30b"
          }
        },
        "43eae9b5061740ce8e11579a854d33ce": {
          "model_module": "@jupyter-widgets/controls",
          "model_name": "ProgressStyleModel",
          "state": {
            "_view_name": "StyleView",
            "_model_name": "ProgressStyleModel",
            "description_width": "initial",
            "_view_module": "@jupyter-widgets/base",
            "_model_module_version": "1.5.0",
            "_view_count": null,
            "_view_module_version": "1.2.0",
            "bar_color": null,
            "_model_module": "@jupyter-widgets/controls"
          }
        },
        "fa5f819fb1c04c369b9ed35703ab246f": {
          "model_module": "@jupyter-widgets/base",
          "model_name": "LayoutModel",
          "state": {
            "_view_name": "LayoutView",
            "grid_template_rows": null,
            "right": null,
            "justify_content": null,
            "_view_module": "@jupyter-widgets/base",
            "overflow": null,
            "_model_module_version": "1.2.0",
            "_view_count": null,
            "flex_flow": null,
            "width": null,
            "min_width": null,
            "border": null,
            "align_items": null,
            "bottom": null,
            "_model_module": "@jupyter-widgets/base",
            "top": null,
            "grid_column": null,
            "overflow_y": null,
            "overflow_x": null,
            "grid_auto_flow": null,
            "grid_area": null,
            "grid_template_columns": null,
            "flex": null,
            "_model_name": "LayoutModel",
            "justify_items": null,
            "grid_row": null,
            "max_height": null,
            "align_content": null,
            "visibility": null,
            "align_self": null,
            "height": null,
            "min_height": null,
            "padding": null,
            "grid_auto_rows": null,
            "grid_gap": null,
            "max_width": null,
            "order": null,
            "_view_module_version": "1.2.0",
            "grid_template_areas": null,
            "object_position": null,
            "object_fit": null,
            "grid_auto_columns": null,
            "margin": null,
            "display": null,
            "left": null
          }
        },
        "848a04fb79b244dc87ca6a54bf82af0b": {
          "model_module": "@jupyter-widgets/controls",
          "model_name": "DescriptionStyleModel",
          "state": {
            "_view_name": "StyleView",
            "_model_name": "DescriptionStyleModel",
            "description_width": "",
            "_view_module": "@jupyter-widgets/base",
            "_model_module_version": "1.5.0",
            "_view_count": null,
            "_view_module_version": "1.2.0",
            "_model_module": "@jupyter-widgets/controls"
          }
        },
        "79815ffe37b449848a637160a004d30b": {
          "model_module": "@jupyter-widgets/base",
          "model_name": "LayoutModel",
          "state": {
            "_view_name": "LayoutView",
            "grid_template_rows": null,
            "right": null,
            "justify_content": null,
            "_view_module": "@jupyter-widgets/base",
            "overflow": null,
            "_model_module_version": "1.2.0",
            "_view_count": null,
            "flex_flow": null,
            "width": null,
            "min_width": null,
            "border": null,
            "align_items": null,
            "bottom": null,
            "_model_module": "@jupyter-widgets/base",
            "top": null,
            "grid_column": null,
            "overflow_y": null,
            "overflow_x": null,
            "grid_auto_flow": null,
            "grid_area": null,
            "grid_template_columns": null,
            "flex": null,
            "_model_name": "LayoutModel",
            "justify_items": null,
            "grid_row": null,
            "max_height": null,
            "align_content": null,
            "visibility": null,
            "align_self": null,
            "height": null,
            "min_height": null,
            "padding": null,
            "grid_auto_rows": null,
            "grid_gap": null,
            "max_width": null,
            "order": null,
            "_view_module_version": "1.2.0",
            "grid_template_areas": null,
            "object_position": null,
            "object_fit": null,
            "grid_auto_columns": null,
            "margin": null,
            "display": null,
            "left": null
          }
        }
      }
    }
  },
  "cells": [
    {
      "cell_type": "code",
      "metadata": {
        "id": "f3WekG2xmxI2",
        "colab_type": "code",
        "outputId": "095a01c0-c141-4cb8-b9ef-b2513738c38d",
        "colab": {
          "base_uri": "https://localhost:8080/",
          "height": 51
        }
      },
      "source": [
        "import torch\n",
        "import torch.nn as nn\n",
        "import torch.nn.functional as F\n",
        "import torch.optim as optim\n",
        "from torch.utils.data import DataLoader\n",
        "from torch.utils.data.sampler import SubsetRandomSampler\n",
        "from torchvision import datasets, transforms\n",
        "import seaborn as sns\n",
        "\n",
        "import numpy as np\n",
        "\n",
        "import matplotlib\n",
        "import matplotlib.pyplot as plt\n",
        "\n",
        "from sklearn.manifold import TSNE\n",
        "\n",
        "%matplotlib inline"
      ],
      "execution_count": 4,
      "outputs": [
        {
          "output_type": "stream",
          "text": [
            "/usr/local/lib/python3.6/dist-packages/statsmodels/tools/_testing.py:19: FutureWarning: pandas.util.testing is deprecated. Use the functions in the public API at pandas.testing instead.\n",
            "  import pandas.util.testing as tm\n"
          ],
          "name": "stderr"
        }
      ]
    },
    {
      "cell_type": "code",
      "metadata": {
        "id": "O62EnHlCOxFn",
        "colab_type": "code",
        "colab": {}
      },
      "source": [
        "mnist_transform = transforms.Compose([\n",
        "                transforms.ToTensor(),\n",
        "                transforms.Normalize((0.1307,), (0.3081,)),\n",
        "           ])\n",
        "\n",
        "def mnist(batch_size=50, valid=0, shuffle=True, transform=mnist_transform, path='./MNIST_data'):\n",
        "    test_data = datasets.MNIST(path, train=False, download=True, transform=transform)\n",
        "    test_loader = DataLoader(test_data, batch_size=batch_size, shuffle=False)\n",
        "    \n",
        "    train_data = datasets.MNIST(path, train=True, download=True, transform=transform)\n",
        "    if valid > 0:\n",
        "        num_train = len(train_data)\n",
        "        indices = list(range(num_train))\n",
        "        split = num_train-valid\n",
        "        np.random.shuffle(indices)\n",
        "\n",
        "        train_idx, valid_idx = indices[:split], indices[split:]\n",
        "        train_sampler = SubsetRandomSampler(train_idx)\n",
        "        valid_sampler = SubsetRandomSampler(valid_idx)\n",
        "\n",
        "        train_loader = DataLoader(train_data, batch_size=batch_size, sampler=train_sampler)\n",
        "        valid_loader = DataLoader(train_data, batch_size=batch_size, sampler=valid_sampler)\n",
        "    \n",
        "        return train_loader, valid_loader, test_loader\n",
        "    else:\n",
        "        train_loader = DataLoader(train_data, batch_size=batch_size, shuffle=shuffle)\n",
        "        return train_loader, test_loader\n",
        "\n",
        "\n",
        "def plot_mnist(images, shape):\n",
        "    fig = plt.figure(figsize=shape[::-1], dpi=80)\n",
        "    for j in range(1, len(images) + 1):\n",
        "        ax = fig.add_subplot(shape[0], shape[1], j)\n",
        "        ax.matshow(images[j - 1, 0, :, :], cmap = matplotlib.cm.binary)\n",
        "        plt.xticks(np.array([]))\n",
        "        plt.yticks(np.array([]))\n",
        "    plt.show()\n",
        "    \n",
        "def plot_graphs(log, tpe='loss'):\n",
        "    keys = log.keys()\n",
        "    logs = {k:[z for z in zip(*log[k])] for k in keys}\n",
        "    epochs = {k:range(len(log[k])) for k in keys}\n",
        "    \n",
        "    if tpe == 'loss':\n",
        "        handlers, = zip(*[plt.plot(epochs[k], logs[k][0], label=k) for k in keys])\n",
        "        plt.title('errors')\n",
        "        plt.xlabel('epoch')\n",
        "        plt.ylabel('error')\n",
        "        plt.legend(handles=handlers)\n",
        "        plt.show()\n",
        "    elif tpe == 'accuracy':\n",
        "        handlers, = zip(*[plt.plot(epochs[k], logs[k][1], label=k) for k in log.keys()])\n",
        "        plt.title('accuracy')\n",
        "        plt.xlabel('epoch')\n",
        "        plt.ylabel('accuracy')\n",
        "        plt.legend(handles=handlers)\n",
        "        plt.show()"
      ],
      "execution_count": 0,
      "outputs": []
    },
    {
      "cell_type": "code",
      "metadata": {
        "id": "XNI39V-mmxJE",
        "colab_type": "code",
        "outputId": "b03cb1fe-f875-4682-972d-8ce0242dd09b",
        "colab": {
          "base_uri": "https://localhost:8080/",
          "height": 369,
          "referenced_widgets": [
            "a109fd727e2c4d68b7dbd4e9601b7a87",
            "31d891ba2e6b4c1092b2b3dd03f23c83",
            "95901b3b376c4843bbe1467b7e601a15",
            "fc53d66433754181bddccc1d903b76e5",
            "76d385b715b840dba25d47670d21e1ed",
            "9df7b908446b4f348b2f563e7df6a210",
            "dde41fa658724097a9404177551ed9dd",
            "2bfdde0b7e794fb785d206cae1d869ef",
            "ae770574106a48788e5cc9ceddab2617",
            "e2f378e8f8954a12941c60256d814054",
            "317bdada8e7844c293c2975fc0aeb87e",
            "3d172a472556487e91d4cb10d6b9a48a",
            "cb2d58a5f0ee4bc8a4eb32e7f768e199",
            "41e05e7d2388478685849537a8ce24f5",
            "20a0746716bb403da7a255f0c10a348f",
            "6a90652648b3487fb2d007b2a6acb78d",
            "5270c8a60c2f40929fc1052f2219c18b",
            "fe7061c9dbe8451c9d004d9398bd19a6",
            "bb21c07068874fc3aff211eb41d47a07",
            "3a4ef04b704e4c4e8a27ef4f09b4258f",
            "782bb8ac03e74dbc86e427ef4beec449",
            "1ff1e76a106f41448e355bb293ac4e8f",
            "31267f14775a4fe999c2aca621553a3f",
            "1801d7ca8c754a059b5fdbd2c0bf7206",
            "37e5f6c9388244829b4a12f0c9ab53f2",
            "3099958090bd44ad996d3720d05b59de",
            "b15e0a784f5c454d8910ed8095ca7407",
            "e923dd77feef4f9db2f0043874ae3bef",
            "43eae9b5061740ce8e11579a854d33ce",
            "fa5f819fb1c04c369b9ed35703ab246f",
            "848a04fb79b244dc87ca6a54bf82af0b",
            "79815ffe37b449848a637160a004d30b"
          ]
        }
      },
      "source": [
        "mnist_transform = transforms.Compose([\n",
        "                transforms.ToTensor(),\n",
        "                transforms.Normalize((0.5,), (0.5,)),\n",
        "           ])\n",
        "\n",
        "train_loader, test_loader = mnist(batch_size=200, valid=0, transform=mnist_transform)"
      ],
      "execution_count": 6,
      "outputs": [
        {
          "output_type": "stream",
          "text": [
            "Downloading http://yann.lecun.com/exdb/mnist/train-images-idx3-ubyte.gz to ./MNIST_data/MNIST/raw/train-images-idx3-ubyte.gz\n"
          ],
          "name": "stdout"
        },
        {
          "output_type": "display_data",
          "data": {
            "application/vnd.jupyter.widget-view+json": {
              "model_id": "a109fd727e2c4d68b7dbd4e9601b7a87",
              "version_minor": 0,
              "version_major": 2
            },
            "text/plain": [
              "HBox(children=(FloatProgress(value=1.0, bar_style='info', max=1.0), HTML(value='')))"
            ]
          },
          "metadata": {
            "tags": []
          }
        },
        {
          "output_type": "stream",
          "text": [
            "Extracting ./MNIST_data/MNIST/raw/train-images-idx3-ubyte.gz to ./MNIST_data/MNIST/raw\n",
            "Downloading http://yann.lecun.com/exdb/mnist/train-labels-idx1-ubyte.gz to ./MNIST_data/MNIST/raw/train-labels-idx1-ubyte.gz\n",
            "\n"
          ],
          "name": "stdout"
        },
        {
          "output_type": "display_data",
          "data": {
            "application/vnd.jupyter.widget-view+json": {
              "model_id": "ae770574106a48788e5cc9ceddab2617",
              "version_minor": 0,
              "version_major": 2
            },
            "text/plain": [
              "HBox(children=(FloatProgress(value=1.0, bar_style='info', max=1.0), HTML(value='')))"
            ]
          },
          "metadata": {
            "tags": []
          }
        },
        {
          "output_type": "stream",
          "text": [
            "Extracting ./MNIST_data/MNIST/raw/train-labels-idx1-ubyte.gz to ./MNIST_data/MNIST/raw\n",
            "Downloading http://yann.lecun.com/exdb/mnist/t10k-images-idx3-ubyte.gz to ./MNIST_data/MNIST/raw/t10k-images-idx3-ubyte.gz\n"
          ],
          "name": "stdout"
        },
        {
          "output_type": "display_data",
          "data": {
            "application/vnd.jupyter.widget-view+json": {
              "model_id": "5270c8a60c2f40929fc1052f2219c18b",
              "version_minor": 0,
              "version_major": 2
            },
            "text/plain": [
              "HBox(children=(FloatProgress(value=1.0, bar_style='info', max=1.0), HTML(value='')))"
            ]
          },
          "metadata": {
            "tags": []
          }
        },
        {
          "output_type": "stream",
          "text": [
            "Extracting ./MNIST_data/MNIST/raw/t10k-images-idx3-ubyte.gz to ./MNIST_data/MNIST/raw\n",
            "Downloading http://yann.lecun.com/exdb/mnist/t10k-labels-idx1-ubyte.gz to ./MNIST_data/MNIST/raw/t10k-labels-idx1-ubyte.gz\n"
          ],
          "name": "stdout"
        },
        {
          "output_type": "display_data",
          "data": {
            "application/vnd.jupyter.widget-view+json": {
              "model_id": "37e5f6c9388244829b4a12f0c9ab53f2",
              "version_minor": 0,
              "version_major": 2
            },
            "text/plain": [
              "HBox(children=(FloatProgress(value=1.0, bar_style='info', max=1.0), HTML(value='')))"
            ]
          },
          "metadata": {
            "tags": []
          }
        },
        {
          "output_type": "stream",
          "text": [
            "Extracting ./MNIST_data/MNIST/raw/t10k-labels-idx1-ubyte.gz to ./MNIST_data/MNIST/raw\n",
            "Processing...\n",
            "Done!\n"
          ],
          "name": "stdout"
        },
        {
          "output_type": "stream",
          "text": [
            "/pytorch/torch/csrc/utils/tensor_numpy.cpp:141: UserWarning: The given NumPy array is not writeable, and PyTorch does not support non-writeable tensors. This means you can write to the underlying (supposedly non-writeable) NumPy array using the tensor. You may want to copy the array to protect its data or make it writeable before converting it to a tensor. This type of warning will be suppressed for the rest of this program.\n"
          ],
          "name": "stderr"
        }
      ]
    },
    {
      "cell_type": "code",
      "metadata": {
        "id": "EY7Wv9symxJI",
        "colab_type": "code",
        "outputId": "575fc1dc-1c48-46cc-f258-d3f217de4396",
        "colab": {
          "base_uri": "https://localhost:8080/",
          "height": 51
        }
      },
      "source": [
        "class Encoder(nn.Module):\n",
        "    def __init__(self, latent_size=10):\n",
        "        super(Encoder, self).__init__()\n",
        "        self.fc1 = nn.Linear(28*28, latent_size)\n",
        "    \n",
        "    def forward(self, x):\n",
        "        x = torch.sigmoid(self.fc1(x))\n",
        "        return x\n",
        "    \n",
        "class Decoder(nn.Module):\n",
        "    def __init__(self, latent_size=10):\n",
        "        super(Decoder, self).__init__()\n",
        "        self.fc1 = nn.Linear(latent_size, 28*28)\n",
        "    \n",
        "    def forward(self, x):\n",
        "        x = torch.tanh(self.fc1(x))\n",
        "        return x"
      ],
      "execution_count": 7,
      "outputs": [
        {
          "output_type": "stream",
          "text": [
            "\n",
            "\n"
          ],
          "name": "stdout"
        }
      ]
    },
    {
      "cell_type": "code",
      "metadata": {
        "id": "r-AxOrBdmxJL",
        "colab_type": "code",
        "colab": {}
      },
      "source": [
        "class Net(nn.Module):\n",
        "    def __init__(self, latent_size=10, loss_fn=F.mse_loss, lr=1e-4, l2=0.):\n",
        "        super(Net, self).__init__()\n",
        "        self.latent_size = latent_size\n",
        "        self.E = Encoder(latent_size)\n",
        "        self.D = Decoder(latent_size)\n",
        "        self.loss_fn = loss_fn\n",
        "        self._loss = None\n",
        "        self.optim = optim.Adam(self.parameters(), lr=lr, weight_decay=l2)\n",
        "        \n",
        "    def forward(self, x):\n",
        "        x = x.view(-1, 28*28)\n",
        "        h = self.E(x)\n",
        "        out = self.D(h)\n",
        "        return out\n",
        "    \n",
        "    def decode(self, h):\n",
        "        with torch.no_grad():\n",
        "            return self.D(h)\n",
        "    \n",
        "    def loss(self, x, target, **kwargs):\n",
        "        target = target.view(-1, 28*28)\n",
        "        self._loss = self.loss_fn(x, target, **kwargs)\n",
        "        return self._loss"
      ],
      "execution_count": 0,
      "outputs": []
    },
    {
      "cell_type": "code",
      "metadata": {
        "id": "UTGrm2BfmxJN",
        "colab_type": "code",
        "colab": {}
      },
      "source": [
        "models = {2: Net(2), 32: Net(32)}\n",
        "train_log = {k: [] for k in models}\n",
        "test_log = {k: [] for k in models}"
      ],
      "execution_count": 0,
      "outputs": []
    },
    {
      "cell_type": "code",
      "metadata": {
        "id": "YdLwAm_LmxJT",
        "colab_type": "code",
        "colab": {}
      },
      "source": [
        "def train(epoch, models, log=None):\n",
        "    train_size = len(train_loader.sampler)\n",
        "    for batch_idx, (data, _) in enumerate(train_loader):\n",
        "        for model in models.values():\n",
        "            model.optim.zero_grad()\n",
        "            output = model(data)\n",
        "            loss = model.loss(output, data)\n",
        "            loss.backward()\n",
        "            model.optim.step()\n",
        "            \n",
        "        if batch_idx % 150 == 0:\n",
        "            line = 'Train Epoch: {} [{:05d}/{}] '.format(\n",
        "                epoch, batch_idx * len(data), train_size)\n",
        "            losses = ' '.join(['{}: {:.6f}'.format(k, m._loss.item()) for k, m in models.items()])\n",
        "            print(line + losses)\n",
        "            \n",
        "    else:\n",
        "        batch_idx += 1\n",
        "        line = 'Train Epoch: {} [{:05d}/{}] '.format(\n",
        "            epoch, batch_idx * len(data), train_size)\n",
        "        losses = ' '.join(['{}: {:.6f}'.format(k, m._loss.item()) for k, m in models.items()])\n",
        "        if log is not None:\n",
        "            for k in models:\n",
        "                log[k].append(models[k]._loss)\n",
        "        print(line + losses)"
      ],
      "execution_count": 0,
      "outputs": []
    },
    {
      "cell_type": "code",
      "metadata": {
        "id": "8RpDMAVomxJU",
        "colab_type": "code",
        "colab": {}
      },
      "source": [
        "avg_lambda = lambda l: 'loss: {:.4f}'.format(l)\n",
        "line = lambda i, l: '{}: '.format(i) + avg_lambda(l)\n",
        "    \n",
        "def test(models, loader, log=None):\n",
        "    test_size = len(loader.sampler)\n",
        "\n",
        "    test_loss = {k: 0. for k in models}\n",
        "    with torch.no_grad():\n",
        "        for data, _ in loader:\n",
        "            output = {k: m(data) for k, m in models.items()}\n",
        "            for k, m in models.items():\n",
        "                test_loss[k] += m.loss(output[k], data, reduction='sum').item() # sum up batch loss\n",
        "    \n",
        "    for k in models:\n",
        "        test_loss[k] /= (test_size * 784)\n",
        "        if log is not None:\n",
        "            log[k].append(test_loss[k])\n",
        "    \n",
        "    lines = '\\n'.join([line(k, test_loss[k]) for k in models]) + '\\n'\n",
        "    report = 'Test set:\\n' + lines        \n",
        "    print(report)"
      ],
      "execution_count": 0,
      "outputs": []
    },
    {
      "cell_type": "code",
      "metadata": {
        "id": "D6tdngxUmxJW",
        "colab_type": "code",
        "outputId": "315e2cbd-97a0-42e7-be63-71ed82805560",
        "colab": {
          "base_uri": "https://localhost:8080/",
          "height": 1000
        }
      },
      "source": [
        "for epoch in range(1, 31):\n",
        "    for model in models.values():\n",
        "        model.train()\n",
        "    train(epoch, models, train_log)\n",
        "    for model in models.values():\n",
        "        model.eval()\n",
        "    test(models, test_loader, test_log)"
      ],
      "execution_count": 12,
      "outputs": [
        {
          "output_type": "stream",
          "text": [
            "Train Epoch: 1 [00000/60000] 2: 1.120721 32: 1.025206\n",
            "Train Epoch: 1 [30000/60000] 2: 1.022426 32: 0.679434\n",
            "Train Epoch: 1 [60000/60000] 2: 0.997754 32: 0.420015\n",
            "Test set:\n",
            "2: loss: 0.9978\n",
            "32: loss: 0.4140\n",
            "\n",
            "Train Epoch: 2 [00000/60000] 2: 0.999446 32: 0.404491\n",
            "Train Epoch: 2 [30000/60000] 2: 0.970184 32: 0.317923\n",
            "Train Epoch: 2 [60000/60000] 2: 0.941150 32: 0.291480\n",
            "Test set:\n",
            "2: loss: 0.9418\n",
            "32: loss: 0.2883\n",
            "\n",
            "Train Epoch: 3 [00000/60000] 2: 0.941905 32: 0.286937\n",
            "Train Epoch: 3 [30000/60000] 2: 0.910436 32: 0.268605\n",
            "Train Epoch: 3 [60000/60000] 2: 0.878603 32: 0.262484\n",
            "Test set:\n",
            "2: loss: 0.8788\n",
            "32: loss: 0.2648\n",
            "\n",
            "Train Epoch: 4 [00000/60000] 2: 0.879138 32: 0.266257\n",
            "Train Epoch: 4 [30000/60000] 2: 0.845419 32: 0.256330\n",
            "Train Epoch: 4 [60000/60000] 2: 0.816783 32: 0.257755\n",
            "Test set:\n",
            "2: loss: 0.8151\n",
            "32: loss: 0.2481\n",
            "\n",
            "Train Epoch: 5 [00000/60000] 2: 0.816669 32: 0.255645\n",
            "Train Epoch: 5 [30000/60000] 2: 0.783781 32: 0.242475\n",
            "Train Epoch: 5 [60000/60000] 2: 0.755091 32: 0.237013\n",
            "Test set:\n",
            "2: loss: 0.7546\n",
            "32: loss: 0.2341\n",
            "\n",
            "Train Epoch: 6 [00000/60000] 2: 0.752732 32: 0.233033\n",
            "Train Epoch: 6 [30000/60000] 2: 0.723696 32: 0.219890\n",
            "Train Epoch: 6 [60000/60000] 2: 0.696379 32: 0.213339\n",
            "Test set:\n",
            "2: loss: 0.7004\n",
            "32: loss: 0.2214\n",
            "\n",
            "Train Epoch: 7 [00000/60000] 2: 0.699260 32: 0.216701\n",
            "Train Epoch: 7 [30000/60000] 2: 0.674439 32: 0.213774\n",
            "Train Epoch: 7 [60000/60000] 2: 0.651891 32: 0.211680\n",
            "Test set:\n",
            "2: loss: 0.6528\n",
            "32: loss: 0.2096\n",
            "\n",
            "Train Epoch: 8 [00000/60000] 2: 0.654377 32: 0.214820\n",
            "Train Epoch: 8 [30000/60000] 2: 0.632682 32: 0.209924\n",
            "Train Epoch: 8 [60000/60000] 2: 0.605705 32: 0.193631\n",
            "Test set:\n",
            "2: loss: 0.6104\n",
            "32: loss: 0.1989\n",
            "\n",
            "Train Epoch: 9 [00000/60000] 2: 0.609469 32: 0.197015\n",
            "Train Epoch: 9 [30000/60000] 2: 0.586128 32: 0.188195\n",
            "Train Epoch: 9 [60000/60000] 2: 0.571882 32: 0.189957\n",
            "Test set:\n",
            "2: loss: 0.5725\n",
            "32: loss: 0.1895\n",
            "\n",
            "Train Epoch: 10 [00000/60000] 2: 0.572506 32: 0.188708\n",
            "Train Epoch: 10 [30000/60000] 2: 0.556737 32: 0.193320\n",
            "Train Epoch: 10 [60000/60000] 2: 0.531618 32: 0.175744\n",
            "Test set:\n",
            "2: loss: 0.5385\n",
            "32: loss: 0.1813\n",
            "\n",
            "Train Epoch: 11 [00000/60000] 2: 0.538445 32: 0.182851\n",
            "Train Epoch: 11 [30000/60000] 2: 0.522763 32: 0.182523\n",
            "Train Epoch: 11 [60000/60000] 2: 0.511229 32: 0.177541\n",
            "Test set:\n",
            "2: loss: 0.5079\n",
            "32: loss: 0.1734\n",
            "\n",
            "Train Epoch: 12 [00000/60000] 2: 0.510811 32: 0.176693\n",
            "Train Epoch: 12 [30000/60000] 2: 0.485622 32: 0.165417\n",
            "Train Epoch: 12 [60000/60000] 2: 0.480340 32: 0.170838\n",
            "Test set:\n",
            "2: loss: 0.4805\n",
            "32: loss: 0.1659\n",
            "\n",
            "Train Epoch: 13 [00000/60000] 2: 0.484173 32: 0.176247\n",
            "Train Epoch: 13 [30000/60000] 2: 0.471594 32: 0.166763\n",
            "Train Epoch: 13 [60000/60000] 2: 0.458011 32: 0.164397\n",
            "Test set:\n",
            "2: loss: 0.4560\n",
            "32: loss: 0.1588\n",
            "\n",
            "Train Epoch: 14 [00000/60000] 2: 0.461201 32: 0.163694\n",
            "Train Epoch: 14 [30000/60000] 2: 0.437791 32: 0.152511\n",
            "Train Epoch: 14 [60000/60000] 2: 0.434237 32: 0.157494\n",
            "Test set:\n",
            "2: loss: 0.4340\n",
            "32: loss: 0.1522\n",
            "\n",
            "Train Epoch: 15 [00000/60000] 2: 0.431330 32: 0.151713\n",
            "Train Epoch: 15 [30000/60000] 2: 0.416583 32: 0.145782\n",
            "Train Epoch: 15 [60000/60000] 2: 0.412406 32: 0.148139\n",
            "Test set:\n",
            "2: loss: 0.4145\n",
            "32: loss: 0.1461\n",
            "\n",
            "Train Epoch: 16 [00000/60000] 2: 0.411722 32: 0.150438\n",
            "Train Epoch: 16 [30000/60000] 2: 0.403106 32: 0.145590\n",
            "Train Epoch: 16 [60000/60000] 2: 0.395169 32: 0.144368\n",
            "Test set:\n",
            "2: loss: 0.3972\n",
            "32: loss: 0.1405\n",
            "\n",
            "Train Epoch: 17 [00000/60000] 2: 0.396948 32: 0.145078\n",
            "Train Epoch: 17 [30000/60000] 2: 0.380275 32: 0.133197\n",
            "Train Epoch: 17 [60000/60000] 2: 0.382578 32: 0.134933\n",
            "Test set:\n",
            "2: loss: 0.3818\n",
            "32: loss: 0.1353\n",
            "\n",
            "Train Epoch: 18 [00000/60000] 2: 0.384712 32: 0.141900\n",
            "Train Epoch: 18 [30000/60000] 2: 0.371092 32: 0.131310\n",
            "Train Epoch: 18 [60000/60000] 2: 0.370373 32: 0.131285\n",
            "Test set:\n",
            "2: loss: 0.3683\n",
            "32: loss: 0.1303\n",
            "\n",
            "Train Epoch: 19 [00000/60000] 2: 0.360147 32: 0.128448\n",
            "Train Epoch: 19 [30000/60000] 2: 0.366923 32: 0.133952\n",
            "Train Epoch: 19 [60000/60000] 2: 0.352340 32: 0.127748\n",
            "Test set:\n",
            "2: loss: 0.3563\n",
            "32: loss: 0.1258\n",
            "\n",
            "Train Epoch: 20 [00000/60000] 2: 0.354515 32: 0.124933\n",
            "Train Epoch: 20 [30000/60000] 2: 0.350816 32: 0.127246\n",
            "Train Epoch: 20 [60000/60000] 2: 0.348629 32: 0.126749\n",
            "Test set:\n",
            "2: loss: 0.3458\n",
            "32: loss: 0.1216\n",
            "\n",
            "Train Epoch: 21 [00000/60000] 2: 0.348550 32: 0.129560\n",
            "Train Epoch: 21 [30000/60000] 2: 0.341367 32: 0.121283\n",
            "Train Epoch: 21 [60000/60000] 2: 0.336394 32: 0.119976\n",
            "Test set:\n",
            "2: loss: 0.3364\n",
            "32: loss: 0.1177\n",
            "\n",
            "Train Epoch: 22 [00000/60000] 2: 0.332345 32: 0.115271\n",
            "Train Epoch: 22 [30000/60000] 2: 0.328001 32: 0.117614\n",
            "Train Epoch: 22 [60000/60000] 2: 0.322195 32: 0.111008\n",
            "Test set:\n",
            "2: loss: 0.3264\n",
            "32: loss: 0.1142\n",
            "\n",
            "Train Epoch: 23 [00000/60000] 2: 0.326172 32: 0.113234\n",
            "Train Epoch: 23 [30000/60000] 2: 0.316507 32: 0.113599\n",
            "Train Epoch: 23 [60000/60000] 2: 0.323474 32: 0.119863\n",
            "Test set:\n",
            "2: loss: 0.3159\n",
            "32: loss: 0.1109\n",
            "\n",
            "Train Epoch: 24 [00000/60000] 2: 0.314489 32: 0.112175\n",
            "Train Epoch: 24 [30000/60000] 2: 0.307636 32: 0.111924\n",
            "Train Epoch: 24 [60000/60000] 2: 0.307730 32: 0.110753\n",
            "Test set:\n",
            "2: loss: 0.3061\n",
            "32: loss: 0.1079\n",
            "\n",
            "Train Epoch: 25 [00000/60000] 2: 0.307731 32: 0.107686\n",
            "Train Epoch: 25 [30000/60000] 2: 0.294563 32: 0.103312\n",
            "Train Epoch: 25 [60000/60000] 2: 0.299657 32: 0.107005\n",
            "Test set:\n",
            "2: loss: 0.2977\n",
            "32: loss: 0.1052\n",
            "\n",
            "Train Epoch: 26 [00000/60000] 2: 0.303461 32: 0.109734\n",
            "Train Epoch: 26 [30000/60000] 2: 0.290943 32: 0.109367\n",
            "Train Epoch: 26 [60000/60000] 2: 0.294219 32: 0.105355\n",
            "Test set:\n",
            "2: loss: 0.2905\n",
            "32: loss: 0.1026\n",
            "\n",
            "Train Epoch: 27 [00000/60000] 2: 0.292892 32: 0.105683\n",
            "Train Epoch: 27 [30000/60000] 2: 0.284645 32: 0.098082\n",
            "Train Epoch: 27 [60000/60000] 2: 0.280080 32: 0.098162\n",
            "Test set:\n",
            "2: loss: 0.2846\n",
            "32: loss: 0.1002\n",
            "\n",
            "Train Epoch: 28 [00000/60000] 2: 0.279250 32: 0.097300\n",
            "Train Epoch: 28 [30000/60000] 2: 0.283678 32: 0.100189\n",
            "Train Epoch: 28 [60000/60000] 2: 0.274806 32: 0.095197\n",
            "Test set:\n",
            "2: loss: 0.2798\n",
            "32: loss: 0.0980\n",
            "\n",
            "Train Epoch: 29 [00000/60000] 2: 0.278742 32: 0.096672\n",
            "Train Epoch: 29 [30000/60000] 2: 0.272786 32: 0.096066\n",
            "Train Epoch: 29 [60000/60000] 2: 0.277152 32: 0.095659\n",
            "Test set:\n",
            "2: loss: 0.2759\n",
            "32: loss: 0.0959\n",
            "\n",
            "Train Epoch: 30 [00000/60000] 2: 0.263270 32: 0.091738\n",
            "Train Epoch: 30 [30000/60000] 2: 0.267170 32: 0.093262\n",
            "Train Epoch: 30 [60000/60000] 2: 0.272822 32: 0.094700\n",
            "Test set:\n",
            "2: loss: 0.2727\n",
            "32: loss: 0.0939\n",
            "\n"
          ],
          "name": "stdout"
        }
      ]
    },
    {
      "cell_type": "code",
      "metadata": {
        "id": "QdK58233mxJY",
        "colab_type": "code",
        "outputId": "9b15c8e3-995f-4ff4-e41a-1bb5b89f3c7d",
        "colab": {
          "base_uri": "https://localhost:8080/",
          "height": 592
        }
      },
      "source": [
        "from numpy import *\n",
        "import math\n",
        "import matplotlib.pyplot as plt\n",
        "\n",
        "plt.rcParams[\"figure.figsize\"] = (20,10)\n",
        "\n",
        "x = linspace(0, 1, 10)\n",
        "\n",
        "results = []\n",
        "for data, _ in train_loader:\n",
        "  data = data.reshape(-1,28*28)\n",
        "  results.append(models[2].E(data))\n",
        "\n",
        "plt.scatter(results[0].detach().numpy(), results[1].detach().numpy(), s=1, c='black')\n",
        "  \n",
        "plt.show()"
      ],
      "execution_count": 13,
      "outputs": [
        {
          "output_type": "display_data",
          "data": {
            "image/png": "[encoded data removed]",
            "text/plain": [
              "<Figure size 1440x720 with 1 Axes>"
            ]
          },
          "metadata": {
            "tags": [],
            "needs_background": "light"
          }
        }
      ]
    },
    {
      "cell_type": "code",
      "metadata": {
        "id": "_PRrq39WmxJZ",
        "colab_type": "code",
        "colab": {}
      },
      "source": [
        "def show_tsne(model):\n",
        "    tsne = TSNE(n_components=2, perplexity=10.0)\n",
        "    data, y = next(iter(train_loader))\n",
        "    data = data.reshape(-1,28*28)\n",
        "    result = model.E(data).detach().numpy()\n",
        "    tsne_transformed = tsne.fit_transform(result)\n",
        "    num_classes = len(np.unique(y))\n",
        "    palette = np.array(sns.color_palette(\"bright\", num_classes))\n",
        "\n",
        "    plt.scatter(tsne_transformed[:,0], tsne_transformed[:,1], lw=0, s=40, c=palette[y.numpy().astype(np.int)])\n",
        "    plt.xlim(-50, 50)\n",
        "    plt.ylim(-50, 50)\n",
        "\n",
        "    plt.show()"
      ],
      "execution_count": 0,
      "outputs": []
    },
    {
      "cell_type": "code",
      "metadata": {
        "id": "lkSK4raFPY_R",
        "colab_type": "code",
        "colab": {
          "base_uri": "https://localhost:8080/",
          "height": 592
        },
        "outputId": "62e3f20f-c5f5-43e9-f6b9-9a1d43fcb085"
      },
      "source": [
        "show_tsne(models[2])"
      ],
      "execution_count": 84,
      "outputs": [
        {
          "output_type": "display_data",
          "data": {
            "image/png": "[encoded data removed]",
            "text/plain": [
              "<Figure size 1440x720 with 1 Axes>"
            ]
          },
          "metadata": {
            "tags": [],
            "needs_background": "light"
          }
        }
      ]
    },
    {
      "cell_type": "code",
      "metadata": {
        "id": "-_vsFn8SPZ28",
        "colab_type": "code",
        "colab": {
          "base_uri": "https://localhost:8080/",
          "height": 592
        },
        "outputId": "1b817143-2381-4c19-c612-918e93864f0d"
      },
      "source": [
        "show_tsne(models[32])"
      ],
      "execution_count": 85,
      "outputs": [
        {
          "output_type": "display_data",
          "data": {
            "image/png": "[encoded data removed]",
            "text/plain": [
              "<Figure size 1440x720 with 1 Axes>"
            ]
          },
          "metadata": {
            "tags": [],
            "needs_background": "light"
          }
        }
      ]
    },
    {
      "cell_type": "code",
      "metadata": {
        "id": "nIVDa5WrmxJa",
        "colab_type": "code",
        "colab": {}
      },
      "source": [
        ""
      ],
      "execution_count": 0,
      "outputs": []
    }
  ]
}