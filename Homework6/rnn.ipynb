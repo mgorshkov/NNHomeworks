{
  "nbformat": 4,
  "nbformat_minor": 0,
  "metadata": {
    "kernelspec": {
      "display_name": "Python 3",
      "language": "python",
      "name": "python3"
    },
    "language_info": {
      "codemirror_mode": {
        "name": "ipython",
        "version": 3
      },
      "file_extension": ".py",
      "mimetype": "text/x-python",
      "name": "python",
      "nbconvert_exporter": "python",
      "pygments_lexer": "ipython3",
      "version": "3.6.7"
    },
    "colab": {
      "name": "rnn.ipynb",
      "provenance": []
    },
    "accelerator": "GPU"
  },
  "cells": [
    {
      "cell_type": "code",
      "metadata": {
        "id": "r4xnXZDFeotM",
        "colab_type": "code",
        "colab": {}
      },
      "source": [
        "import os\n",
        "\n",
        "import itertools\n",
        "import pickle\n",
        "import matplotlib.pyplot as plt\n",
        "\n",
        "import torch\n",
        "import torch.nn as nn\n",
        "import torch.nn.functional as F\n",
        "import torch.optim as optim\n",
        "import math\n",
        "\n",
        "%matplotlib inline"
      ],
      "execution_count": 77,
      "outputs": []
    },
    {
      "cell_type": "code",
      "metadata": {
        "id": "XOk2jR4dDz47",
        "colab_type": "code",
        "colab": {}
      },
      "source": [
        "import torch\n",
        "from torch.utils.data import DataLoader\n",
        "from torch.utils.data.sampler import SubsetRandomSampler\n",
        "import torchtext\n",
        "from torch.autograd import Variable as V\n",
        "import spacy\n",
        " \n",
        "from spacy.symbols import ORTH\n",
        "import matplotlib\n",
        "import matplotlib.pyplot as plt\n",
        "import numpy as np\n",
        "from tqdm import tqdm\n",
        "\n",
        "def plot_graphs(log, tpe='loss'):\n",
        "    keys = log.keys()\n",
        "    logs = {k:[z for z in zip(*log[k])] for k in keys}\n",
        "    epochs = {k:range(len(log[k])) for k in keys}\n",
        "    \n",
        "    if tpe == 'loss':\n",
        "        handlers, = zip(*[plt.plot(epochs[k], logs[k][0], label=k) for k in keys])\n",
        "        plt.title('errors')\n",
        "        plt.xlabel('epoch')\n",
        "        plt.ylabel('error')\n",
        "        plt.legend(handles=handlers)\n",
        "        plt.show()\n",
        "    elif tpe == 'accuracy':\n",
        "        handlers, = zip(*[plt.plot(epochs[k], logs[k][1], label=k) for k in log.keys()])\n",
        "        plt.title('accuracy')\n",
        "        plt.xlabel('epoch')\n",
        "        plt.ylabel('accuracy')\n",
        "        plt.legend(handles=handlers)\n",
        "        plt.show()"
      ],
      "execution_count": 78,
      "outputs": []
    },
    {
      "cell_type": "code",
      "metadata": {
        "id": "YV8_6RWreotS",
        "colab_type": "code",
        "colab": {}
      },
      "source": [
        "grad_clip = 0.1\n",
        "lr = 4.\n",
        "best_val_loss = None\n",
        "log_interval = 100\n",
        "batch_size = 128\n",
        "eval_batch_size = 128\n",
        "sequence_length = 30"
      ],
      "execution_count": 79,
      "outputs": []
    },
    {
      "cell_type": "code",
      "metadata": {
        "id": "qj40dL8YeotW",
        "colab_type": "code",
        "colab": {}
      },
      "source": [
        "class RNNModel(nn.Module):\n",
        "    def __init__(self, rnn_type, ntoken, ninp, nhid, nlayers, dropout=0.5):\n",
        "        super(RNNModel, self).__init__()\n",
        "\n",
        "        self.rnn_type, self.nhid, self.nlayers = rnn_type, nhid, nlayers\n",
        "\n",
        "        self.drop = nn.Dropout(dropout)\n",
        "        self.encoder = nn.Embedding(ntoken, ninp)\n",
        "        if rnn_type == 'LSTM':\n",
        "            self.rnn = nn.LSTM(ninp, nhid, nlayers, dropout=dropout)\n",
        "        elif rnn_type == 'GRU':\n",
        "            self.rnn = nn.GRU(ninp, nhid, nlayers, dropout=dropout)\n",
        "        else:\n",
        "            assert False, \"invalid mode: \" + rnn_type\n",
        "        self.decoder = nn.Linear(nhid, ntoken)\n",
        "\n",
        "        self.init_weights()\n",
        "\n",
        "    def init_weights(self):\n",
        "        initrange = 0.1\n",
        "        self.encoder.weight.data.uniform_(-initrange, initrange)\n",
        "        self.decoder.bias.data.fill_(0)\n",
        "        self.decoder.weight.data.uniform_(-initrange, initrange)\n",
        "\n",
        "    def forward(self, x, hidden=None):\n",
        "        emb = self.drop(self.encoder(x))\n",
        "        output, hidden = self.rnn(emb, hidden)\n",
        "        output = self.drop(output)\n",
        "        decoded = self.decoder(output.view(output.size(0)*output.size(1), output.size(2)))\n",
        "        return decoded.view(output.size(0), output.size(1), decoded.size(1)), hidden\n",
        "\n",
        "    def init_hidden(self, bsz):\n",
        "        weight = next(self.parameters()).data\n",
        "        if self.rnn_type == 'LSTM':\n",
        "            return (V(weight.new(self.nlayers, bsz, self.nhid).zero_().cuda()),\n",
        "                    V(weight.new(self.nlayers, bsz, self.nhid).zero_()).cuda())\n",
        "        else:\n",
        "            return V(weight.new(self.nlayers, bsz, self.nhid).zero_().cuda())"
      ],
      "execution_count": 80,
      "outputs": []
    },
    {
      "cell_type": "code",
      "metadata": {
        "id": "lwiuaZK6eotf",
        "colab_type": "code",
        "colab": {}
      },
      "source": [
        "from torchtext.data.utils import get_tokenizer\n",
        "\n",
        "def tok(x):\n",
        "    return [sym for sym in x]\n",
        "\n",
        "TEXT = torchtext.data.Field(tokenize=tok)\n",
        "\n",
        "# make splits for data\n",
        "train, valid, test = torchtext.datasets.WikiText2.splits(TEXT)\n",
        "\n",
        "# build the vocabulary\n",
        "TEXT.build_vocab(train, vectors=\"glove.6B.200d\")\n",
        "\n",
        "# make iterator for splits\n",
        "device = torch.device('cuda:0' if torch.cuda.is_available() else 'cpu')\n",
        "train_iter, valid_iter, test_iter = torchtext.data.BPTTIterator.splits(\n",
        "    (train, valid, test),\n",
        "    batch_size=batch_size,\n",
        "    bptt_len=sequence_length,\n",
        "    device=device,\n",
        "    repeat=False)\n",
        "\n",
        "weight_matrix = TEXT.vocab.vectors\n",
        "ntokens = weight_matrix.size(0)\n",
        "\n",
        "criterion = nn.CrossEntropyLoss()"
      ],
      "execution_count": 81,
      "outputs": []
    },
    {
      "cell_type": "code",
      "metadata": {
        "id": "Z62j0lY6eotZ",
        "colab_type": "code",
        "colab": {}
      },
      "source": [
        "def evaluate(model, iter):\n",
        "    model.eval()\n",
        "    total_loss = 0\n",
        "    hidden = model.init_hidden(eval_batch_size)\n",
        "    for batch in tqdm(iter):\n",
        "        text, targets = batch.text, batch.target\n",
        "        targets = targets.view(-1)\n",
        "        output, hidden = model(text)\n",
        "        output_flat = output.view(-1, ntokens)\n",
        "        total_loss += criterion(output_flat, targets).item()\n",
        "    return total_loss / len(iter) if len(iter) != 0 else 0"
      ],
      "execution_count": 82,
      "outputs": []
    },
    {
      "cell_type": "code",
      "metadata": {
        "id": "mMRJuMx5eotd",
        "colab_type": "code",
        "colab": {}
      },
      "source": [
        "def train(model):\n",
        "    model.train()\n",
        "    total_loss = 0\n",
        "    batch_num = 0\n",
        "    for batch in tqdm(train_iter):\n",
        "        text, targets = batch.text, batch.target\n",
        "        targets = targets.view(-1)\n",
        "        model.zero_grad()\n",
        "        output, hidden = model(text)\n",
        "        loss = criterion(output.view(-1, ntokens), targets)\n",
        "        loss.backward()\n",
        "\n",
        "        # `clip_grad_norm` helps prevent the exploding gradient problem in RNNs / LSTMs.\n",
        "        torch.nn.utils.clip_grad_norm_(model.parameters(), grad_clip)\n",
        "        for p in model.parameters():\n",
        "            p.data.add_(-lr, p.grad.data)\n",
        "\n",
        "        total_loss += loss.item()\n",
        "\n",
        "        if batch_num % log_interval == 0 and batch_num > 0:\n",
        "            cur_loss = total_loss / log_interval\n",
        "            print('| epoch {:3d} | {:5d}/{:5d} batches | lr {:02.2f} | loss {:5.2f} | ppl {:8.2f}'.format(\n",
        "                epoch, batch_num, len(train_iter), lr, cur_loss, math.exp(cur_loss)))\n",
        "            total_loss = 0\n",
        "        batch_num += 1\n",
        "        "
      ],
      "execution_count": 83,
      "outputs": []
    },
    {
      "cell_type": "code",
      "metadata": {
        "id": "tiPNwahBeoth",
        "colab_type": "code",
        "colab": {}
      },
      "source": [
        "def generate(model, n=50, temp=1.):\n",
        "    model.eval()\n",
        "    x = torch.rand(1, 1).mul(ntokens).long().to(device=device)\n",
        "    out = []\n",
        "    for i in range(n):\n",
        "        output, hidden = model(x)\n",
        "        s_weights = output.squeeze().data.div(temp).exp()\n",
        "        s_idx = torch.multinomial(s_weights, 1)[0]\n",
        "        x.data.fill_(s_idx)\n",
        "        s = TEXT.vocab.itos[s_idx]\n",
        "        out.append(s)\n",
        "    return ''.join(out)"
      ],
      "execution_count": 84,
      "outputs": []
    },
    {
      "cell_type": "code",
      "metadata": {
        "id": "tM3KmY5XaYae",
        "colab_type": "code",
        "colab": {}
      },
      "source": [
        "def plot_ppl(log):\n",
        "    keys = log.keys()\n",
        "    logs = {k:[z for z in zip(log[k])] for k in keys}\n",
        "    epochs = {k:range(len(log[k])) for k in keys}\n",
        "    \n",
        "    handlers, = zip(*[plt.plot(epochs[k], logs[k], label=k) for k in keys])\n",
        "    plt.title('ppl')\n",
        "    plt.xlabel('epoch')\n",
        "    plt.ylabel('ppl')\n",
        "    plt.legend(handles=handlers)\n",
        "    plt.show()\n"
      ],
      "execution_count": 91,
      "outputs": []
    },
    {
      "cell_type": "code",
      "metadata": {
        "id": "P126MkrIeotl",
        "colab_type": "code",
        "colab": {
          "base_uri": "https://localhost:8080/",
          "height": 1000
        },
        "outputId": "d5120ff1-d383-4a54-e861-37a8d0c276cc"
      },
      "source": [
        "models = {'LSTM2' : RNNModel('LSTM', weight_matrix.size(0), weight_matrix.size(1), 200, 2, 0.3),\n",
        "          'GRU2' : RNNModel('GRU', weight_matrix.size(0), weight_matrix.size(1), 200, 2, 0.3),\n",
        "          'LSTM5' : RNNModel('LSTM', weight_matrix.size(0), weight_matrix.size(1), 200, 5, 0.3),\n",
        "          'GRU5' : RNNModel('GRU', weight_matrix.size(0), weight_matrix.size(1), 200, 5, 0.3)}\n",
        "\n",
        "eval_log = {key: [] for key in models}\n",
        "for key, model in models.items():\n",
        "    model.encoder.weight.data.copy_(weight_matrix)\n",
        "    model.cuda()\n",
        "\n",
        "    with torch.no_grad():\n",
        "        print('sample:\\n', generate(model, 50), '\\n')\n",
        "\n",
        "    for epoch in range(1, 6):\n",
        "        train(model)\n",
        "        val_loss = evaluate(model, valid_iter)\n",
        "        ppl = math.exp(val_loss)\n",
        "        eval_log[key].append(ppl)\n",
        "\n",
        "        print('-' * 89)\n",
        "        print('| end of epoch {:3d} | valid loss {:5.2f} | valid ppl {:8.2f}'.format(\n",
        "            epoch, val_loss, ppl))\n",
        "        print('-' * 89)\n",
        "        if not best_val_loss or val_loss < best_val_loss:\n",
        "            best_val_loss = val_loss\n",
        "        else:\n",
        "            # Anneal the learning rate if no improvement has been seen in the validation dataset.\n",
        "            lr /= 4.0\n",
        "        with torch.no_grad():\n",
        "            print('sample:\\n', generate(model, 50), '\\n')\n",
        "\n",
        "    t1 = generate(model, 10000, 1.)\n",
        "    t15 = generate(model, 10000, 1.5)\n",
        "    t075 = generate(model, 10000, 0.75)\n",
        "    with open('./generated075-' + key + '.txt', 'w') as outf:\n",
        "        outf.write(t075)\n",
        "    with open('./generated1-' + key + '.txt', 'w') as outf:\n",
        "        outf.write(t1)\n",
        "    with open('./generated15-' + key + '.txt', 'w') as outf:\n",
        "        outf.write(t15)\n"
      ],
      "execution_count": 86,
      "outputs": [
        {
          "output_type": "stream",
          "text": [
            "\n",
            "  0%|          | 0/2808 [00:00<?, ?it/s]\u001b[A"
          ],
          "name": "stderr"
        },
        {
          "output_type": "stream",
          "text": [
            "sample:\n",
            " ♯ć・ვト!キgr5m§ÖäنšCზ5úy<ั–5„ỳ.ãზ'>àÖ½งоŁûè\\đäử²>^\"κI \n",
            "\n"
          ],
          "name": "stdout"
        },
        {
          "output_type": "stream",
          "text": [
            "\n",
            "  0%|          | 1/2808 [00:01<1:02:01,  1.33s/it]\u001b[A\n",
            "  0%|          | 12/2808 [00:01<43:22,  1.07it/s] \u001b[A\n",
            "  1%|          | 23/2808 [00:01<30:23,  1.53it/s]\u001b[A\n",
            "  1%|          | 35/2808 [00:01<21:18,  2.17it/s]\u001b[A\n",
            "  2%|▏         | 46/2808 [00:01<14:58,  3.07it/s]\u001b[A\n",
            "  2%|▏         | 57/2808 [00:01<10:34,  4.34it/s]\u001b[A\n",
            "  2%|▏         | 68/2808 [00:01<07:29,  6.09it/s]\u001b[A\n",
            "  3%|▎         | 79/2808 [00:02<05:21,  8.50it/s]\u001b[A\n",
            "  3%|▎         | 90/2808 [00:02<03:51, 11.75it/s]\u001b[A\n",
            "  4%|▎         | 101/2808 [00:02<02:48, 16.04it/s]\u001b[A\n",
            "  4%|▍         | 112/2808 [00:02<02:05, 21.56it/s]\u001b[A"
          ],
          "name": "stderr"
        },
        {
          "output_type": "stream",
          "text": [
            "| epoch   1 |   100/ 2808 batches | lr 4.00 | loss  3.57 | ppl    35.43\n"
          ],
          "name": "stdout"
        },
        {
          "output_type": "stream",
          "text": [
            "\n",
            "  4%|▍         | 124/2808 [00:02<01:34, 28.43it/s]\u001b[A\n",
            "  5%|▍         | 136/2808 [00:02<01:13, 36.58it/s]\u001b[A\n",
            "  5%|▌         | 148/2808 [00:02<00:58, 45.79it/s]\u001b[A\n",
            "  6%|▌         | 160/2808 [00:02<00:47, 55.61it/s]\u001b[A\n",
            "  6%|▌         | 171/2808 [00:02<00:40, 65.07it/s]\u001b[A\n",
            "  7%|▋         | 183/2808 [00:03<00:35, 74.25it/s]\u001b[A\n",
            "  7%|▋         | 195/2808 [00:03<00:31, 82.47it/s]\u001b[A\n",
            "  7%|▋         | 207/2808 [00:03<00:29, 89.58it/s]\u001b[A\n",
            "  8%|▊         | 219/2808 [00:03<00:27, 93.28it/s]\u001b[A"
          ],
          "name": "stderr"
        },
        {
          "output_type": "stream",
          "text": [
            "| epoch   1 |   200/ 2808 batches | lr 4.00 | loss  3.19 | ppl    24.40\n"
          ],
          "name": "stdout"
        },
        {
          "output_type": "stream",
          "text": [
            "\n",
            "  8%|▊         | 230/2808 [00:03<00:26, 96.78it/s]\u001b[A\n",
            "  9%|▊         | 242/2808 [00:03<00:25, 100.59it/s]\u001b[A\n",
            "  9%|▉         | 253/2808 [00:03<00:24, 103.11it/s]\u001b[A\n",
            "  9%|▉         | 264/2808 [00:03<00:24, 104.76it/s]\u001b[A\n",
            " 10%|▉         | 275/2808 [00:03<00:23, 105.85it/s]\u001b[A\n",
            " 10%|█         | 287/2808 [00:03<00:23, 107.19it/s]\u001b[A\n",
            " 11%|█         | 298/2808 [00:04<00:23, 107.93it/s]\u001b[A\n",
            " 11%|█         | 309/2808 [00:04<00:23, 107.78it/s]\u001b[A\n",
            " 11%|█▏        | 320/2808 [00:04<00:22, 108.42it/s]\u001b[A"
          ],
          "name": "stderr"
        },
        {
          "output_type": "stream",
          "text": [
            "| epoch   1 |   300/ 2808 batches | lr 4.00 | loss  2.98 | ppl    19.68\n"
          ],
          "name": "stdout"
        },
        {
          "output_type": "stream",
          "text": [
            "\n",
            " 12%|█▏        | 332/2808 [00:04<00:22, 109.39it/s]\u001b[A\n",
            " 12%|█▏        | 343/2808 [00:04<00:22, 109.50it/s]\u001b[A\n",
            " 13%|█▎        | 355/2808 [00:04<00:22, 109.81it/s]\u001b[A\n",
            " 13%|█▎        | 367/2808 [00:04<00:22, 110.18it/s]\u001b[A\n",
            " 13%|█▎        | 379/2808 [00:04<00:22, 109.53it/s]\u001b[A\n",
            " 14%|█▍        | 390/2808 [00:04<00:22, 108.98it/s]\u001b[A\n",
            " 14%|█▍        | 401/2808 [00:04<00:22, 109.06it/s]\u001b[A\n",
            " 15%|█▍        | 413/2808 [00:05<00:21, 109.97it/s]\u001b[A"
          ],
          "name": "stderr"
        },
        {
          "output_type": "stream",
          "text": [
            "| epoch   1 |   400/ 2808 batches | lr 4.00 | loss  2.81 | ppl    16.62\n"
          ],
          "name": "stdout"
        },
        {
          "output_type": "stream",
          "text": [
            "\n",
            " 15%|█▌        | 425/2808 [00:05<00:21, 109.70it/s]\u001b[A\n",
            " 16%|█▌        | 436/2808 [00:05<00:21, 109.62it/s]\u001b[A\n",
            " 16%|█▌        | 447/2808 [00:05<00:21, 108.93it/s]\u001b[A\n",
            " 16%|█▋        | 458/2808 [00:05<00:21, 108.87it/s]\u001b[A\n",
            " 17%|█▋        | 470/2808 [00:05<00:21, 109.44it/s]\u001b[A\n",
            " 17%|█▋        | 482/2808 [00:05<00:21, 109.40it/s]\u001b[A\n",
            " 18%|█▊        | 494/2808 [00:05<00:21, 110.15it/s]\u001b[A\n",
            " 18%|█▊        | 506/2808 [00:05<00:20, 109.99it/s]\u001b[A\n",
            " 18%|█▊        | 518/2808 [00:06<00:20, 110.09it/s]\u001b[A"
          ],
          "name": "stderr"
        },
        {
          "output_type": "stream",
          "text": [
            "| epoch   1 |   500/ 2808 batches | lr 4.00 | loss  2.70 | ppl    14.81\n"
          ],
          "name": "stdout"
        },
        {
          "output_type": "stream",
          "text": [
            "\n",
            " 19%|█▉        | 530/2808 [00:06<00:20, 108.95it/s]\u001b[A\n",
            " 19%|█▉        | 541/2808 [00:06<00:20, 109.05it/s]\u001b[A\n",
            " 20%|█▉        | 552/2808 [00:06<00:20, 107.83it/s]\u001b[A\n",
            " 20%|██        | 564/2808 [00:06<00:20, 108.80it/s]\u001b[A\n",
            " 21%|██        | 576/2808 [00:06<00:20, 110.08it/s]\u001b[A\n",
            " 21%|██        | 588/2808 [00:06<00:20, 109.83it/s]\u001b[A\n",
            " 21%|██▏       | 600/2808 [00:06<00:19, 110.68it/s]\u001b[A\n",
            " 22%|██▏       | 612/2808 [00:06<00:19, 110.68it/s]\u001b[A"
          ],
          "name": "stderr"
        },
        {
          "output_type": "stream",
          "text": [
            "| epoch   1 |   600/ 2808 batches | lr 4.00 | loss  2.57 | ppl    13.10\n"
          ],
          "name": "stdout"
        },
        {
          "output_type": "stream",
          "text": [
            "\n",
            " 22%|██▏       | 624/2808 [00:07<00:19, 110.16it/s]\u001b[A\n",
            " 23%|██▎       | 636/2808 [00:07<00:19, 109.18it/s]\u001b[A\n",
            " 23%|██▎       | 647/2808 [00:07<00:19, 108.44it/s]\u001b[A\n",
            " 23%|██▎       | 659/2808 [00:07<00:19, 109.32it/s]\u001b[A\n",
            " 24%|██▍       | 670/2808 [00:07<00:19, 108.89it/s]\u001b[A\n",
            " 24%|██▍       | 681/2808 [00:07<00:19, 108.76it/s]\u001b[A\n",
            " 25%|██▍       | 693/2808 [00:07<00:19, 109.22it/s]\u001b[A\n",
            " 25%|██▌       | 704/2808 [00:07<00:19, 109.19it/s]\u001b[A\n",
            " 25%|██▌       | 715/2808 [00:07<00:19, 109.24it/s]\u001b[A"
          ],
          "name": "stderr"
        },
        {
          "output_type": "stream",
          "text": [
            "| epoch   1 |   700/ 2808 batches | lr 4.00 | loss  2.47 | ppl    11.84\n"
          ],
          "name": "stdout"
        },
        {
          "output_type": "stream",
          "text": [
            "\n",
            " 26%|██▌       | 726/2808 [00:07<00:19, 108.45it/s]\u001b[A\n",
            " 26%|██▌       | 737/2808 [00:08<00:19, 108.79it/s]\u001b[A\n",
            " 27%|██▋       | 748/2808 [00:08<00:18, 109.09it/s]\u001b[A\n",
            " 27%|██▋       | 760/2808 [00:08<00:18, 109.76it/s]\u001b[A\n",
            " 27%|██▋       | 771/2808 [00:08<00:18, 109.78it/s]\u001b[A\n",
            " 28%|██▊       | 782/2808 [00:08<00:18, 109.37it/s]\u001b[A\n",
            " 28%|██▊       | 794/2808 [00:08<00:18, 109.74it/s]\u001b[A\n",
            " 29%|██▊       | 805/2808 [00:08<00:18, 108.87it/s]\u001b[A\n",
            " 29%|██▉       | 816/2808 [00:08<00:18, 108.72it/s]\u001b[A"
          ],
          "name": "stderr"
        },
        {
          "output_type": "stream",
          "text": [
            "| epoch   1 |   800/ 2808 batches | lr 4.00 | loss  2.40 | ppl    11.01\n"
          ],
          "name": "stdout"
        },
        {
          "output_type": "stream",
          "text": [
            "\n",
            " 29%|██▉       | 827/2808 [00:08<00:18, 108.81it/s]\u001b[A\n",
            " 30%|██▉       | 839/2808 [00:08<00:18, 109.37it/s]\u001b[A\n",
            " 30%|███       | 851/2808 [00:09<00:17, 109.93it/s]\u001b[A\n",
            " 31%|███       | 863/2808 [00:09<00:17, 110.62it/s]\u001b[A\n",
            " 31%|███       | 875/2808 [00:09<00:17, 109.65it/s]\u001b[A\n",
            " 32%|███▏      | 886/2808 [00:09<00:17, 107.62it/s]\u001b[A\n",
            " 32%|███▏      | 898/2808 [00:09<00:17, 108.54it/s]\u001b[A\n",
            " 32%|███▏      | 910/2808 [00:09<00:17, 109.07it/s]\u001b[A\n",
            " 33%|███▎      | 922/2808 [00:09<00:17, 109.50it/s]\u001b[A"
          ],
          "name": "stderr"
        },
        {
          "output_type": "stream",
          "text": [
            "| epoch   1 |   900/ 2808 batches | lr 4.00 | loss  2.34 | ppl    10.38\n"
          ],
          "name": "stdout"
        },
        {
          "output_type": "stream",
          "text": [
            "\n",
            " 33%|███▎      | 933/2808 [00:09<00:17, 107.76it/s]\u001b[A\n",
            " 34%|███▎      | 945/2808 [00:09<00:17, 108.62it/s]\u001b[A\n",
            " 34%|███▍      | 956/2808 [00:10<00:16, 108.96it/s]\u001b[A\n",
            " 34%|███▍      | 967/2808 [00:10<00:16, 109.04it/s]\u001b[A\n",
            " 35%|███▍      | 978/2808 [00:10<00:16, 109.08it/s]\u001b[A\n",
            " 35%|███▌      | 989/2808 [00:10<00:16, 108.87it/s]\u001b[A\n",
            " 36%|███▌      | 1000/2808 [00:10<00:16, 109.12it/s]\u001b[A\n",
            " 36%|███▌      | 1012/2808 [00:10<00:16, 109.51it/s]\u001b[A"
          ],
          "name": "stderr"
        },
        {
          "output_type": "stream",
          "text": [
            "| epoch   1 |  1000/ 2808 batches | lr 4.00 | loss  2.29 | ppl     9.85\n"
          ],
          "name": "stdout"
        },
        {
          "output_type": "stream",
          "text": [
            "\n",
            " 36%|███▋      | 1024/2808 [00:10<00:16, 109.98it/s]\u001b[A\n",
            " 37%|███▋      | 1035/2808 [00:10<00:16, 108.26it/s]\u001b[A\n",
            " 37%|███▋      | 1046/2808 [00:10<00:16, 108.33it/s]\u001b[A\n",
            " 38%|███▊      | 1058/2808 [00:11<00:16, 109.00it/s]\u001b[A\n",
            " 38%|███▊      | 1070/2808 [00:11<00:15, 109.47it/s]\u001b[A\n",
            " 38%|███▊      | 1081/2808 [00:11<00:15, 109.17it/s]\u001b[A\n",
            " 39%|███▉      | 1093/2808 [00:11<00:15, 109.60it/s]\u001b[A\n",
            " 39%|███▉      | 1104/2808 [00:11<00:15, 108.63it/s]\u001b[A\n",
            " 40%|███▉      | 1115/2808 [00:11<00:15, 108.90it/s]\u001b[A"
          ],
          "name": "stderr"
        },
        {
          "output_type": "stream",
          "text": [
            "| epoch   1 |  1100/ 2808 batches | lr 4.00 | loss  2.24 | ppl     9.37\n"
          ],
          "name": "stdout"
        },
        {
          "output_type": "stream",
          "text": [
            "\n",
            " 40%|████      | 1126/2808 [00:11<00:15, 108.57it/s]\u001b[A\n",
            " 40%|████      | 1137/2808 [00:11<00:15, 108.67it/s]\u001b[A\n",
            " 41%|████      | 1149/2808 [00:11<00:15, 109.40it/s]\u001b[A\n",
            " 41%|████▏     | 1161/2808 [00:11<00:15, 109.77it/s]\u001b[A\n",
            " 42%|████▏     | 1172/2808 [00:12<00:14, 109.75it/s]\u001b[A\n",
            " 42%|████▏     | 1183/2808 [00:12<00:14, 109.34it/s]\u001b[A\n",
            " 43%|████▎     | 1194/2808 [00:12<00:14, 109.20it/s]\u001b[A\n",
            " 43%|████▎     | 1206/2808 [00:12<00:14, 109.51it/s]\u001b[A\n",
            " 43%|████▎     | 1217/2808 [00:12<00:14, 109.57it/s]\u001b[A"
          ],
          "name": "stderr"
        },
        {
          "output_type": "stream",
          "text": [
            "| epoch   1 |  1200/ 2808 batches | lr 4.00 | loss  2.20 | ppl     9.07\n"
          ],
          "name": "stdout"
        },
        {
          "output_type": "stream",
          "text": [
            "\n",
            " 44%|████▎     | 1228/2808 [00:12<00:14, 108.33it/s]\u001b[A\n",
            " 44%|████▍     | 1240/2808 [00:12<00:14, 109.09it/s]\u001b[A\n",
            " 45%|████▍     | 1251/2808 [00:12<00:14, 109.36it/s]\u001b[A\n",
            " 45%|████▍     | 1262/2808 [00:12<00:14, 109.49it/s]\u001b[A\n",
            " 45%|████▌     | 1274/2808 [00:12<00:13, 109.72it/s]\u001b[A\n",
            " 46%|████▌     | 1285/2808 [00:13<00:13, 108.97it/s]\u001b[A\n",
            " 46%|████▌     | 1296/2808 [00:13<00:13, 109.23it/s]\u001b[A\n",
            " 47%|████▋     | 1308/2808 [00:13<00:13, 109.55it/s]\u001b[A\n",
            " 47%|████▋     | 1319/2808 [00:13<00:13, 108.84it/s]\u001b[A"
          ],
          "name": "stderr"
        },
        {
          "output_type": "stream",
          "text": [
            "| epoch   1 |  1300/ 2808 batches | lr 4.00 | loss  2.17 | ppl     8.79\n"
          ],
          "name": "stdout"
        },
        {
          "output_type": "stream",
          "text": [
            "\n",
            " 47%|████▋     | 1330/2808 [00:13<00:13, 108.41it/s]\u001b[A\n",
            " 48%|████▊     | 1341/2808 [00:13<00:13, 108.66it/s]\u001b[A\n",
            " 48%|████▊     | 1353/2808 [00:13<00:13, 109.67it/s]\u001b[A\n",
            " 49%|████▊     | 1365/2808 [00:13<00:13, 110.04it/s]\u001b[A\n",
            " 49%|████▉     | 1377/2808 [00:13<00:13, 109.68it/s]\u001b[A\n",
            " 49%|████▉     | 1388/2808 [00:14<00:12, 109.66it/s]\u001b[A\n",
            " 50%|████▉     | 1400/2808 [00:14<00:12, 110.11it/s]\u001b[A\n",
            " 50%|█████     | 1412/2808 [00:14<00:12, 110.02it/s]\u001b[A"
          ],
          "name": "stderr"
        },
        {
          "output_type": "stream",
          "text": [
            "| epoch   1 |  1400/ 2808 batches | lr 4.00 | loss  2.14 | ppl     8.49\n"
          ],
          "name": "stdout"
        },
        {
          "output_type": "stream",
          "text": [
            "\n",
            " 51%|█████     | 1424/2808 [00:14<00:12, 109.99it/s]\u001b[A\n",
            " 51%|█████     | 1436/2808 [00:14<00:12, 110.74it/s]\u001b[A\n",
            " 52%|█████▏    | 1448/2808 [00:14<00:12, 108.58it/s]\u001b[A\n",
            " 52%|█████▏    | 1460/2808 [00:14<00:12, 109.31it/s]\u001b[A\n",
            " 52%|█████▏    | 1471/2808 [00:14<00:12, 109.25it/s]\u001b[A\n",
            " 53%|█████▎    | 1482/2808 [00:14<00:12, 109.39it/s]\u001b[A\n",
            " 53%|█████▎    | 1493/2808 [00:14<00:12, 109.12it/s]\u001b[A\n",
            " 54%|█████▎    | 1504/2808 [00:15<00:11, 109.23it/s]\u001b[A\n",
            " 54%|█████▍    | 1516/2808 [00:15<00:11, 109.75it/s]\u001b[A"
          ],
          "name": "stderr"
        },
        {
          "output_type": "stream",
          "text": [
            "| epoch   1 |  1500/ 2808 batches | lr 4.00 | loss  2.12 | ppl     8.33\n"
          ],
          "name": "stdout"
        },
        {
          "output_type": "stream",
          "text": [
            "\n",
            " 54%|█████▍    | 1528/2808 [00:15<00:11, 110.75it/s]\u001b[A\n",
            " 55%|█████▍    | 1540/2808 [00:15<00:11, 110.12it/s]\u001b[A\n",
            " 55%|█████▌    | 1552/2808 [00:15<00:11, 109.56it/s]\u001b[A\n",
            " 56%|█████▌    | 1563/2808 [00:15<00:11, 109.25it/s]\u001b[A\n",
            " 56%|█████▌    | 1574/2808 [00:15<00:11, 109.25it/s]\u001b[A\n",
            " 56%|█████▋    | 1585/2808 [00:15<00:11, 108.50it/s]\u001b[A\n",
            " 57%|█████▋    | 1596/2808 [00:15<00:11, 108.38it/s]\u001b[A\n",
            " 57%|█████▋    | 1607/2808 [00:16<00:11, 108.31it/s]\u001b[A\n",
            " 58%|█████▊    | 1619/2808 [00:16<00:10, 109.42it/s]\u001b[A"
          ],
          "name": "stderr"
        },
        {
          "output_type": "stream",
          "text": [
            "| epoch   1 |  1600/ 2808 batches | lr 4.00 | loss  2.10 | ppl     8.14\n"
          ],
          "name": "stdout"
        },
        {
          "output_type": "stream",
          "text": [
            "\n",
            " 58%|█████▊    | 1630/2808 [00:16<00:10, 109.09it/s]\u001b[A\n",
            " 58%|█████▊    | 1642/2808 [00:16<00:10, 110.50it/s]\u001b[A\n",
            " 59%|█████▉    | 1654/2808 [00:16<00:10, 110.29it/s]\u001b[A\n",
            " 59%|█████▉    | 1666/2808 [00:16<00:10, 109.77it/s]\u001b[A\n",
            " 60%|█████▉    | 1678/2808 [00:16<00:10, 110.03it/s]\u001b[A\n",
            " 60%|██████    | 1690/2808 [00:16<00:10, 110.40it/s]\u001b[A\n",
            " 61%|██████    | 1702/2808 [00:16<00:10, 109.42it/s]\u001b[A\n",
            " 61%|██████    | 1713/2808 [00:16<00:10, 109.25it/s]\u001b[A"
          ],
          "name": "stderr"
        },
        {
          "output_type": "stream",
          "text": [
            "| epoch   1 |  1700/ 2808 batches | lr 4.00 | loss  2.07 | ppl     7.95\n"
          ],
          "name": "stdout"
        },
        {
          "output_type": "stream",
          "text": [
            "\n",
            " 61%|██████▏   | 1724/2808 [00:17<00:09, 109.26it/s]\u001b[A\n",
            " 62%|██████▏   | 1736/2808 [00:17<00:09, 110.07it/s]\u001b[A\n",
            " 62%|██████▏   | 1748/2808 [00:17<00:09, 110.50it/s]\u001b[A\n",
            " 63%|██████▎   | 1760/2808 [00:17<00:09, 109.71it/s]\u001b[A\n",
            " 63%|██████▎   | 1772/2808 [00:17<00:09, 110.07it/s]\u001b[A\n",
            " 64%|██████▎   | 1784/2808 [00:17<00:09, 109.64it/s]\u001b[A\n",
            " 64%|██████▍   | 1795/2808 [00:17<00:09, 109.49it/s]\u001b[A\n",
            " 64%|██████▍   | 1807/2808 [00:17<00:09, 109.96it/s]\u001b[A\n",
            " 65%|██████▍   | 1819/2808 [00:17<00:08, 110.48it/s]\u001b[A"
          ],
          "name": "stderr"
        },
        {
          "output_type": "stream",
          "text": [
            "| epoch   1 |  1800/ 2808 batches | lr 4.00 | loss  2.06 | ppl     7.81\n"
          ],
          "name": "stdout"
        },
        {
          "output_type": "stream",
          "text": [
            "\n",
            " 65%|██████▌   | 1831/2808 [00:18<00:08, 111.08it/s]\u001b[A\n",
            " 66%|██████▌   | 1843/2808 [00:18<00:08, 111.11it/s]\u001b[A\n",
            " 66%|██████▌   | 1855/2808 [00:18<00:08, 111.11it/s]\u001b[A\n",
            " 66%|██████▋   | 1867/2808 [00:18<00:08, 110.79it/s]\u001b[A\n",
            " 67%|██████▋   | 1879/2808 [00:18<00:08, 111.25it/s]\u001b[A\n",
            " 67%|██████▋   | 1891/2808 [00:18<00:08, 110.50it/s]\u001b[A\n",
            " 68%|██████▊   | 1903/2808 [00:18<00:08, 109.23it/s]\u001b[A\n",
            " 68%|██████▊   | 1915/2808 [00:18<00:08, 109.83it/s]\u001b[A"
          ],
          "name": "stderr"
        },
        {
          "output_type": "stream",
          "text": [
            "| epoch   1 |  1900/ 2808 batches | lr 4.00 | loss  2.04 | ppl     7.71\n"
          ],
          "name": "stdout"
        },
        {
          "output_type": "stream",
          "text": [
            "\n",
            " 69%|██████▊   | 1927/2808 [00:18<00:08, 110.04it/s]\u001b[A\n",
            " 69%|██████▉   | 1939/2808 [00:19<00:07, 110.17it/s]\u001b[A\n",
            " 69%|██████▉   | 1951/2808 [00:19<00:07, 110.43it/s]\u001b[A\n",
            " 70%|██████▉   | 1963/2808 [00:19<00:07, 110.66it/s]\u001b[A\n",
            " 70%|███████   | 1975/2808 [00:19<00:07, 110.82it/s]\u001b[A\n",
            " 71%|███████   | 1987/2808 [00:19<00:07, 110.55it/s]\u001b[A\n",
            " 71%|███████   | 1999/2808 [00:19<00:07, 109.94it/s]\u001b[A\n",
            " 72%|███████▏  | 2011/2808 [00:19<00:07, 110.36it/s]\u001b[A\n",
            " 72%|███████▏  | 2023/2808 [00:19<00:07, 110.64it/s]\u001b[A"
          ],
          "name": "stderr"
        },
        {
          "output_type": "stream",
          "text": [
            "| epoch   1 |  2000/ 2808 batches | lr 4.00 | loss  2.02 | ppl     7.52\n"
          ],
          "name": "stdout"
        },
        {
          "output_type": "stream",
          "text": [
            "\n",
            " 72%|███████▏  | 2035/2808 [00:19<00:06, 110.59it/s]\u001b[A\n",
            " 73%|███████▎  | 2047/2808 [00:20<00:06, 111.08it/s]\u001b[A\n",
            " 73%|███████▎  | 2059/2808 [00:20<00:06, 111.15it/s]\u001b[A\n",
            " 74%|███████▍  | 2071/2808 [00:20<00:06, 111.14it/s]\u001b[A\n",
            " 74%|███████▍  | 2083/2808 [00:20<00:06, 111.02it/s]\u001b[A\n",
            " 75%|███████▍  | 2095/2808 [00:20<00:06, 111.51it/s]\u001b[A\n",
            " 75%|███████▌  | 2107/2808 [00:20<00:06, 111.42it/s]\u001b[A\n",
            " 75%|███████▌  | 2119/2808 [00:20<00:06, 111.86it/s]\u001b[A"
          ],
          "name": "stderr"
        },
        {
          "output_type": "stream",
          "text": [
            "| epoch   1 |  2100/ 2808 batches | lr 4.00 | loss  2.01 | ppl     7.45\n"
          ],
          "name": "stdout"
        },
        {
          "output_type": "stream",
          "text": [
            "\n",
            " 76%|███████▌  | 2131/2808 [00:20<00:06, 111.55it/s]\u001b[A\n",
            " 76%|███████▋  | 2143/2808 [00:20<00:05, 112.01it/s]\u001b[A\n",
            " 77%|███████▋  | 2155/2808 [00:20<00:05, 111.19it/s]\u001b[A\n",
            " 77%|███████▋  | 2167/2808 [00:21<00:05, 111.01it/s]\u001b[A\n",
            " 78%|███████▊  | 2179/2808 [00:21<00:05, 110.85it/s]\u001b[A\n",
            " 78%|███████▊  | 2191/2808 [00:21<00:05, 110.97it/s]\u001b[A\n",
            " 78%|███████▊  | 2203/2808 [00:21<00:05, 111.01it/s]\u001b[A\n",
            " 79%|███████▉  | 2215/2808 [00:21<00:05, 111.12it/s]\u001b[A"
          ],
          "name": "stderr"
        },
        {
          "output_type": "stream",
          "text": [
            "| epoch   1 |  2200/ 2808 batches | lr 4.00 | loss  1.99 | ppl     7.34\n"
          ],
          "name": "stdout"
        },
        {
          "output_type": "stream",
          "text": [
            "\n",
            " 79%|███████▉  | 2227/2808 [00:21<00:05, 110.11it/s]\u001b[A\n",
            " 80%|███████▉  | 2239/2808 [00:21<00:05, 110.36it/s]\u001b[A\n",
            " 80%|████████  | 2251/2808 [00:21<00:05, 110.28it/s]\u001b[A\n",
            " 81%|████████  | 2263/2808 [00:21<00:04, 110.23it/s]\u001b[A\n",
            " 81%|████████  | 2275/2808 [00:22<00:04, 110.76it/s]\u001b[A\n",
            " 81%|████████▏ | 2287/2808 [00:22<00:04, 110.86it/s]\u001b[A\n",
            " 82%|████████▏ | 2299/2808 [00:22<00:04, 110.65it/s]\u001b[A\n",
            " 82%|████████▏ | 2311/2808 [00:22<00:04, 110.57it/s]\u001b[A\n",
            " 83%|████████▎ | 2323/2808 [00:22<00:04, 110.54it/s]\u001b[A"
          ],
          "name": "stderr"
        },
        {
          "output_type": "stream",
          "text": [
            "| epoch   1 |  2300/ 2808 batches | lr 4.00 | loss  1.99 | ppl     7.30\n"
          ],
          "name": "stdout"
        },
        {
          "output_type": "stream",
          "text": [
            "\n",
            " 83%|████████▎ | 2335/2808 [00:22<00:04, 110.51it/s]\u001b[A\n",
            " 84%|████████▎ | 2347/2808 [00:22<00:04, 109.96it/s]\u001b[A\n",
            " 84%|████████▍ | 2359/2808 [00:22<00:04, 110.50it/s]\u001b[A\n",
            " 84%|████████▍ | 2371/2808 [00:22<00:03, 110.29it/s]\u001b[A\n",
            " 85%|████████▍ | 2383/2808 [00:23<00:03, 110.22it/s]\u001b[A\n",
            " 85%|████████▌ | 2395/2808 [00:23<00:03, 110.35it/s]\u001b[A\n",
            " 86%|████████▌ | 2407/2808 [00:23<00:03, 109.45it/s]\u001b[A\n",
            " 86%|████████▌ | 2419/2808 [00:23<00:03, 110.03it/s]\u001b[A"
          ],
          "name": "stderr"
        },
        {
          "output_type": "stream",
          "text": [
            "| epoch   1 |  2400/ 2808 batches | lr 4.00 | loss  1.96 | ppl     7.13\n"
          ],
          "name": "stdout"
        },
        {
          "output_type": "stream",
          "text": [
            "\n",
            " 87%|████████▋ | 2431/2808 [00:23<00:03, 109.86it/s]\u001b[A\n",
            " 87%|████████▋ | 2442/2808 [00:23<00:03, 109.49it/s]\u001b[A\n",
            " 87%|████████▋ | 2453/2808 [00:23<00:03, 109.28it/s]\u001b[A\n",
            " 88%|████████▊ | 2464/2808 [00:23<00:03, 109.37it/s]\u001b[A\n",
            " 88%|████████▊ | 2476/2808 [00:23<00:03, 109.76it/s]\u001b[A\n",
            " 89%|████████▊ | 2487/2808 [00:23<00:02, 109.64it/s]\u001b[A\n",
            " 89%|████████▉ | 2498/2808 [00:24<00:02, 109.63it/s]\u001b[A\n",
            " 89%|████████▉ | 2509/2808 [00:24<00:02, 109.50it/s]\u001b[A\n",
            " 90%|████████▉ | 2520/2808 [00:24<00:02, 108.81it/s]\u001b[A"
          ],
          "name": "stderr"
        },
        {
          "output_type": "stream",
          "text": [
            "| epoch   1 |  2500/ 2808 batches | lr 4.00 | loss  1.96 | ppl     7.08\n"
          ],
          "name": "stdout"
        },
        {
          "output_type": "stream",
          "text": [
            "\n",
            " 90%|█████████ | 2531/2808 [00:24<00:02, 108.72it/s]\u001b[A\n",
            " 91%|█████████ | 2542/2808 [00:24<00:02, 108.64it/s]\u001b[A\n",
            " 91%|█████████ | 2553/2808 [00:24<00:02, 107.45it/s]\u001b[A\n",
            " 91%|█████████▏| 2564/2808 [00:24<00:02, 107.89it/s]\u001b[A\n",
            " 92%|█████████▏| 2575/2808 [00:24<00:02, 108.20it/s]\u001b[A\n",
            " 92%|█████████▏| 2586/2808 [00:24<00:02, 108.07it/s]\u001b[A\n",
            " 92%|█████████▏| 2597/2808 [00:25<00:01, 107.64it/s]\u001b[A\n",
            " 93%|█████████▎| 2608/2808 [00:25<00:01, 107.65it/s]\u001b[A\n",
            " 93%|█████████▎| 2619/2808 [00:25<00:01, 107.71it/s]\u001b[A"
          ],
          "name": "stderr"
        },
        {
          "output_type": "stream",
          "text": [
            "| epoch   1 |  2600/ 2808 batches | lr 4.00 | loss  1.95 | ppl     7.00\n"
          ],
          "name": "stdout"
        },
        {
          "output_type": "stream",
          "text": [
            "\n",
            " 94%|█████████▎| 2630/2808 [00:25<00:01, 108.32it/s]\u001b[A\n",
            " 94%|█████████▍| 2641/2808 [00:25<00:01, 108.75it/s]\u001b[A\n",
            " 94%|█████████▍| 2652/2808 [00:25<00:01, 108.32it/s]\u001b[A\n",
            " 95%|█████████▍| 2663/2808 [00:25<00:01, 108.61it/s]\u001b[A\n",
            " 95%|█████████▌| 2674/2808 [00:25<00:01, 108.49it/s]\u001b[A\n",
            " 96%|█████████▌| 2686/2808 [00:25<00:01, 109.09it/s]\u001b[A\n",
            " 96%|█████████▌| 2698/2808 [00:25<00:01, 109.59it/s]\u001b[A\n",
            " 96%|█████████▋| 2709/2808 [00:26<00:00, 109.17it/s]\u001b[A\n",
            " 97%|█████████▋| 2721/2808 [00:26<00:00, 109.68it/s]\u001b[A"
          ],
          "name": "stderr"
        },
        {
          "output_type": "stream",
          "text": [
            "| epoch   1 |  2700/ 2808 batches | lr 4.00 | loss  1.94 | ppl     6.94\n"
          ],
          "name": "stdout"
        },
        {
          "output_type": "stream",
          "text": [
            "\n",
            " 97%|█████████▋| 2732/2808 [00:26<00:00, 109.76it/s]\u001b[A\n",
            " 98%|█████████▊| 2743/2808 [00:26<00:00, 109.82it/s]\u001b[A\n",
            " 98%|█████████▊| 2754/2808 [00:26<00:00, 109.23it/s]\u001b[A\n",
            " 98%|█████████▊| 2765/2808 [00:26<00:00, 109.19it/s]\u001b[A\n",
            " 99%|█████████▉| 2777/2808 [00:26<00:00, 109.69it/s]\u001b[A\n",
            " 99%|█████████▉| 2788/2808 [00:26<00:00, 109.58it/s]\u001b[A\n",
            "100%|██████████| 2808/2808 [00:26<00:00, 104.15it/s]\n",
            "\n",
            "  0%|          | 0/292 [00:00<?, ?it/s]\u001b[A"
          ],
          "name": "stderr"
        },
        {
          "output_type": "stream",
          "text": [
            "| epoch   1 |  2800/ 2808 batches | lr 4.00 | loss  1.91 | ppl     6.79\n"
          ],
          "name": "stdout"
        },
        {
          "output_type": "stream",
          "text": [
            "\n",
            "  0%|          | 1/292 [00:00<00:40,  7.17it/s]\u001b[A\n",
            " 17%|█▋        | 49/292 [00:00<00:23, 10.18it/s]\u001b[A\n",
            " 34%|███▍      | 99/292 [00:00<00:13, 14.42it/s]\u001b[A\n",
            " 51%|█████     | 149/292 [00:00<00:07, 20.34it/s]\u001b[A\n",
            " 68%|██████▊   | 199/292 [00:00<00:03, 28.55it/s]\u001b[A\n",
            "100%|██████████| 292/292 [00:00<00:00, 398.55it/s]\n",
            "\n",
            "  0%|          | 0/2808 [00:00<?, ?it/s]\u001b[A"
          ],
          "name": "stderr"
        },
        {
          "output_type": "stream",
          "text": [
            "-----------------------------------------------------------------------------------------\n",
            "| end of epoch   1 | valid loss  1.73 | valid ppl     5.63\n",
            "-----------------------------------------------------------------------------------------\n",
            "sample:\n",
            " nglul hif . \" to āilipo cen f \" tit , of thedealit \n",
            "\n"
          ],
          "name": "stdout"
        },
        {
          "output_type": "stream",
          "text": [
            "\n",
            "  0%|          | 1/2808 [00:01<1:01:09,  1.31s/it]\u001b[A\n",
            "  0%|          | 12/2808 [00:01<42:46,  1.09it/s] \u001b[A\n",
            "  1%|          | 23/2808 [00:01<29:56,  1.55it/s]\u001b[A\n",
            "  1%|          | 35/2808 [00:01<20:59,  2.20it/s]\u001b[A\n",
            "  2%|▏         | 47/2808 [00:01<14:45,  3.12it/s]\u001b[A\n",
            "  2%|▏         | 59/2808 [00:01<10:24,  4.40it/s]\u001b[A\n",
            "  3%|▎         | 71/2808 [00:01<07:22,  6.18it/s]\u001b[A\n",
            "  3%|▎         | 83/2808 [00:02<05:15,  8.63it/s]\u001b[A\n",
            "  3%|▎         | 94/2808 [00:02<03:47, 11.91it/s]\u001b[A\n",
            "  4%|▎         | 105/2808 [00:02<02:46, 16.26it/s]\u001b[A\n",
            "  4%|▍         | 116/2808 [00:02<02:03, 21.81it/s]\u001b[A"
          ],
          "name": "stderr"
        },
        {
          "output_type": "stream",
          "text": [
            "| epoch   2 |   100/ 2808 batches | lr 4.00 | loss  1.93 | ppl     6.89\n"
          ],
          "name": "stdout"
        },
        {
          "output_type": "stream",
          "text": [
            "\n",
            "  5%|▍         | 127/2808 [00:02<01:33, 28.69it/s]\u001b[A\n",
            "  5%|▍         | 139/2808 [00:02<01:12, 36.91it/s]\u001b[A\n",
            "  5%|▌         | 150/2808 [00:02<00:57, 45.99it/s]\u001b[A\n",
            "  6%|▌         | 162/2808 [00:02<00:47, 55.76it/s]\u001b[A\n",
            "  6%|▌         | 174/2808 [00:02<00:40, 65.60it/s]\u001b[A\n",
            "  7%|▋         | 186/2808 [00:02<00:35, 74.90it/s]\u001b[A\n",
            "  7%|▋         | 198/2808 [00:03<00:31, 82.71it/s]\u001b[A\n",
            "  7%|▋         | 210/2808 [00:03<00:29, 89.12it/s]\u001b[A\n",
            "  8%|▊         | 222/2808 [00:03<00:27, 94.73it/s]\u001b[A"
          ],
          "name": "stderr"
        },
        {
          "output_type": "stream",
          "text": [
            "| epoch   2 |   200/ 2808 batches | lr 4.00 | loss  1.90 | ppl     6.66\n"
          ],
          "name": "stdout"
        },
        {
          "output_type": "stream",
          "text": [
            "\n",
            "  8%|▊         | 234/2808 [00:03<00:25, 99.22it/s]\u001b[A\n",
            "  9%|▉         | 246/2808 [00:03<00:24, 102.98it/s]\u001b[A\n",
            "  9%|▉         | 258/2808 [00:03<00:24, 105.41it/s]\u001b[A\n",
            " 10%|▉         | 270/2808 [00:03<00:23, 106.97it/s]\u001b[A\n",
            " 10%|█         | 282/2808 [00:03<00:23, 108.35it/s]\u001b[A\n",
            " 10%|█         | 294/2808 [00:03<00:23, 109.06it/s]\u001b[A\n",
            " 11%|█         | 306/2808 [00:04<00:22, 108.92it/s]\u001b[A\n",
            " 11%|█▏        | 318/2808 [00:04<00:22, 109.04it/s]\u001b[A"
          ],
          "name": "stderr"
        },
        {
          "output_type": "stream",
          "text": [
            "| epoch   2 |   300/ 2808 batches | lr 4.00 | loss  1.89 | ppl     6.62\n"
          ],
          "name": "stdout"
        },
        {
          "output_type": "stream",
          "text": [
            "\n",
            " 12%|█▏        | 330/2808 [00:04<00:22, 109.87it/s]\u001b[A\n",
            " 12%|█▏        | 342/2808 [00:04<00:22, 110.63it/s]\u001b[A\n",
            " 13%|█▎        | 354/2808 [00:04<00:22, 110.55it/s]\u001b[A\n",
            " 13%|█▎        | 366/2808 [00:04<00:22, 110.62it/s]\u001b[A\n",
            " 13%|█▎        | 378/2808 [00:04<00:21, 110.86it/s]\u001b[A\n",
            " 14%|█▍        | 390/2808 [00:04<00:21, 110.27it/s]\u001b[A\n",
            " 14%|█▍        | 402/2808 [00:04<00:21, 110.36it/s]\u001b[A\n",
            " 15%|█▍        | 414/2808 [00:05<00:21, 110.50it/s]\u001b[A"
          ],
          "name": "stderr"
        },
        {
          "output_type": "stream",
          "text": [
            "| epoch   2 |   400/ 2808 batches | lr 4.00 | loss  1.88 | ppl     6.57\n"
          ],
          "name": "stdout"
        },
        {
          "output_type": "stream",
          "text": [
            "\n",
            " 15%|█▌        | 426/2808 [00:05<00:21, 109.82it/s]\u001b[A\n",
            " 16%|█▌        | 438/2808 [00:05<00:21, 110.55it/s]\u001b[A\n",
            " 16%|█▌        | 450/2808 [00:05<00:21, 110.60it/s]\u001b[A\n",
            " 16%|█▋        | 462/2808 [00:05<00:21, 111.21it/s]\u001b[A\n",
            " 17%|█▋        | 474/2808 [00:05<00:21, 110.80it/s]\u001b[A\n",
            " 17%|█▋        | 486/2808 [00:05<00:20, 110.99it/s]\u001b[A\n",
            " 18%|█▊        | 498/2808 [00:05<00:20, 111.01it/s]\u001b[A\n",
            " 18%|█▊        | 510/2808 [00:05<00:20, 110.75it/s]\u001b[A\n",
            " 19%|█▊        | 522/2808 [00:06<00:20, 110.74it/s]\u001b[A"
          ],
          "name": "stderr"
        },
        {
          "output_type": "stream",
          "text": [
            "| epoch   2 |   500/ 2808 batches | lr 4.00 | loss  1.87 | ppl     6.52\n"
          ],
          "name": "stdout"
        },
        {
          "output_type": "stream",
          "text": [
            "\n",
            " 19%|█▉        | 534/2808 [00:06<00:20, 110.79it/s]\u001b[A\n",
            " 19%|█▉        | 546/2808 [00:06<00:20, 110.88it/s]\u001b[A\n",
            " 20%|█▉        | 558/2808 [00:06<00:20, 110.77it/s]\u001b[A\n",
            " 20%|██        | 570/2808 [00:06<00:20, 110.48it/s]\u001b[A\n",
            " 21%|██        | 582/2808 [00:06<00:20, 110.11it/s]\u001b[A\n",
            " 21%|██        | 594/2808 [00:06<00:19, 110.74it/s]\u001b[A\n",
            " 22%|██▏       | 606/2808 [00:06<00:19, 111.33it/s]\u001b[A\n",
            " 22%|██▏       | 618/2808 [00:06<00:19, 111.21it/s]\u001b[A"
          ],
          "name": "stderr"
        },
        {
          "output_type": "stream",
          "text": [
            "| epoch   2 |   600/ 2808 batches | lr 4.00 | loss  1.87 | ppl     6.46\n"
          ],
          "name": "stdout"
        },
        {
          "output_type": "stream",
          "text": [
            "\n",
            " 22%|██▏       | 630/2808 [00:06<00:19, 111.33it/s]\u001b[A\n",
            " 23%|██▎       | 642/2808 [00:07<00:19, 110.89it/s]\u001b[A\n",
            " 23%|██▎       | 654/2808 [00:07<00:19, 109.87it/s]\u001b[A\n",
            " 24%|██▎       | 665/2808 [00:07<00:19, 109.88it/s]\u001b[A\n",
            " 24%|██▍       | 677/2808 [00:07<00:19, 110.30it/s]\u001b[A\n",
            " 25%|██▍       | 689/2808 [00:07<00:19, 110.31it/s]\u001b[A\n",
            " 25%|██▍       | 701/2808 [00:07<00:19, 109.77it/s]\u001b[A\n",
            " 25%|██▌       | 713/2808 [00:07<00:19, 109.97it/s]\u001b[A"
          ],
          "name": "stderr"
        },
        {
          "output_type": "stream",
          "text": [
            "| epoch   2 |   700/ 2808 batches | lr 4.00 | loss  1.86 | ppl     6.43\n"
          ],
          "name": "stdout"
        },
        {
          "output_type": "stream",
          "text": [
            "\n",
            " 26%|██▌       | 724/2808 [00:07<00:18, 109.89it/s]\u001b[A\n",
            " 26%|██▌       | 736/2808 [00:07<00:18, 110.45it/s]\u001b[A\n",
            " 27%|██▋       | 748/2808 [00:08<00:18, 110.85it/s]\u001b[A\n",
            " 27%|██▋       | 760/2808 [00:08<00:18, 111.75it/s]\u001b[A\n",
            " 27%|██▋       | 772/2808 [00:08<00:18, 110.78it/s]\u001b[A\n",
            " 28%|██▊       | 784/2808 [00:08<00:18, 110.09it/s]\u001b[A\n",
            " 28%|██▊       | 796/2808 [00:08<00:18, 110.79it/s]\u001b[A\n",
            " 29%|██▉       | 808/2808 [00:08<00:18, 110.35it/s]\u001b[A\n",
            " 29%|██▉       | 820/2808 [00:08<00:18, 110.39it/s]\u001b[A"
          ],
          "name": "stderr"
        },
        {
          "output_type": "stream",
          "text": [
            "| epoch   2 |   800/ 2808 batches | lr 4.00 | loss  1.85 | ppl     6.37\n"
          ],
          "name": "stdout"
        },
        {
          "output_type": "stream",
          "text": [
            "\n",
            " 30%|██▉       | 832/2808 [00:08<00:17, 109.95it/s]\u001b[A\n",
            " 30%|███       | 843/2808 [00:08<00:17, 109.69it/s]\u001b[A\n",
            " 30%|███       | 855/2808 [00:09<00:17, 109.96it/s]\u001b[A\n",
            " 31%|███       | 867/2808 [00:09<00:17, 110.23it/s]\u001b[A\n",
            " 31%|███▏      | 879/2808 [00:09<00:17, 110.68it/s]\u001b[A\n",
            " 32%|███▏      | 891/2808 [00:09<00:17, 110.33it/s]\u001b[A\n",
            " 32%|███▏      | 903/2808 [00:09<00:17, 111.14it/s]\u001b[A\n",
            " 33%|███▎      | 915/2808 [00:09<00:16, 111.56it/s]\u001b[A"
          ],
          "name": "stderr"
        },
        {
          "output_type": "stream",
          "text": [
            "| epoch   2 |   900/ 2808 batches | lr 4.00 | loss  1.85 | ppl     6.35\n"
          ],
          "name": "stdout"
        },
        {
          "output_type": "stream",
          "text": [
            "\n",
            " 33%|███▎      | 927/2808 [00:09<00:16, 111.00it/s]\u001b[A\n",
            " 33%|███▎      | 939/2808 [00:09<00:16, 111.01it/s]\u001b[A\n",
            " 34%|███▍      | 951/2808 [00:09<00:16, 110.43it/s]\u001b[A\n",
            " 34%|███▍      | 963/2808 [00:10<00:16, 110.47it/s]\u001b[A\n",
            " 35%|███▍      | 975/2808 [00:10<00:16, 110.30it/s]\u001b[A\n",
            " 35%|███▌      | 987/2808 [00:10<00:16, 109.38it/s]\u001b[A\n",
            " 36%|███▌      | 998/2808 [00:10<00:16, 108.98it/s]\u001b[A\n",
            " 36%|███▌      | 1010/2808 [00:10<00:16, 109.41it/s]\u001b[A\n",
            " 36%|███▋      | 1021/2808 [00:10<00:16, 109.41it/s]\u001b[A"
          ],
          "name": "stderr"
        },
        {
          "output_type": "stream",
          "text": [
            "| epoch   2 |  1000/ 2808 batches | lr 4.00 | loss  1.84 | ppl     6.31\n"
          ],
          "name": "stdout"
        },
        {
          "output_type": "stream",
          "text": [
            "\n",
            " 37%|███▋      | 1032/2808 [00:10<00:16, 107.94it/s]\u001b[A\n",
            " 37%|███▋      | 1043/2808 [00:10<00:16, 108.20it/s]\u001b[A\n",
            " 38%|███▊      | 1055/2808 [00:10<00:16, 109.20it/s]\u001b[A\n",
            " 38%|███▊      | 1067/2808 [00:10<00:15, 109.84it/s]\u001b[A\n",
            " 38%|███▊      | 1079/2808 [00:11<00:15, 110.62it/s]\u001b[A\n",
            " 39%|███▉      | 1091/2808 [00:11<00:15, 110.47it/s]\u001b[A\n",
            " 39%|███▉      | 1103/2808 [00:11<00:15, 110.96it/s]\u001b[A\n",
            " 40%|███▉      | 1115/2808 [00:11<00:15, 110.34it/s]\u001b[A"
          ],
          "name": "stderr"
        },
        {
          "output_type": "stream",
          "text": [
            "| epoch   2 |  1100/ 2808 batches | lr 4.00 | loss  1.83 | ppl     6.24\n"
          ],
          "name": "stdout"
        },
        {
          "output_type": "stream",
          "text": [
            "\n",
            " 40%|████      | 1127/2808 [00:11<00:15, 110.26it/s]\u001b[A\n",
            " 41%|████      | 1139/2808 [00:11<00:15, 109.58it/s]\u001b[A\n",
            " 41%|████      | 1150/2808 [00:11<00:15, 108.85it/s]\u001b[A\n",
            " 41%|████▏     | 1162/2808 [00:11<00:15, 109.34it/s]\u001b[A\n",
            " 42%|████▏     | 1174/2808 [00:11<00:14, 109.72it/s]\u001b[A\n",
            " 42%|████▏     | 1186/2808 [00:12<00:14, 110.21it/s]\u001b[A\n",
            " 43%|████▎     | 1198/2808 [00:12<00:14, 109.89it/s]\u001b[A\n",
            " 43%|████▎     | 1209/2808 [00:12<00:14, 109.57it/s]\u001b[A\n",
            " 43%|████▎     | 1220/2808 [00:12<00:14, 109.19it/s]\u001b[A"
          ],
          "name": "stderr"
        },
        {
          "output_type": "stream",
          "text": [
            "| epoch   2 |  1200/ 2808 batches | lr 4.00 | loss  1.83 | ppl     6.25\n"
          ],
          "name": "stdout"
        },
        {
          "output_type": "stream",
          "text": [
            "\n",
            " 44%|████▍     | 1231/2808 [00:12<00:14, 108.81it/s]\u001b[A\n",
            " 44%|████▍     | 1242/2808 [00:12<00:14, 109.00it/s]\u001b[A\n",
            " 45%|████▍     | 1254/2808 [00:12<00:14, 109.48it/s]\u001b[A\n",
            " 45%|████▌     | 1266/2808 [00:12<00:14, 109.87it/s]\u001b[A\n",
            " 46%|████▌     | 1278/2808 [00:12<00:13, 110.61it/s]\u001b[A\n",
            " 46%|████▌     | 1290/2808 [00:12<00:13, 110.73it/s]\u001b[A\n",
            " 46%|████▋     | 1302/2808 [00:13<00:13, 110.99it/s]\u001b[A\n",
            " 47%|████▋     | 1314/2808 [00:13<00:13, 109.59it/s]\u001b[A"
          ],
          "name": "stderr"
        },
        {
          "output_type": "stream",
          "text": [
            "| epoch   2 |  1300/ 2808 batches | lr 4.00 | loss  1.82 | ppl     6.19\n"
          ],
          "name": "stdout"
        },
        {
          "output_type": "stream",
          "text": [
            "\n",
            " 47%|████▋     | 1325/2808 [00:13<00:13, 109.22it/s]\u001b[A\n",
            " 48%|████▊     | 1337/2808 [00:13<00:13, 109.76it/s]\u001b[A\n",
            " 48%|████▊     | 1349/2808 [00:13<00:13, 110.54it/s]\u001b[A\n",
            " 48%|████▊     | 1361/2808 [00:13<00:13, 110.00it/s]\u001b[A\n",
            " 49%|████▉     | 1373/2808 [00:13<00:13, 110.13it/s]\u001b[A\n",
            " 49%|████▉     | 1385/2808 [00:13<00:12, 110.51it/s]\u001b[A\n",
            " 50%|████▉     | 1397/2808 [00:13<00:12, 110.42it/s]\u001b[A\n",
            " 50%|█████     | 1409/2808 [00:14<00:12, 110.49it/s]\u001b[A\n",
            " 51%|█████     | 1421/2808 [00:14<00:12, 110.89it/s]\u001b[A"
          ],
          "name": "stderr"
        },
        {
          "output_type": "stream",
          "text": [
            "| epoch   2 |  1400/ 2808 batches | lr 4.00 | loss  1.80 | ppl     6.08\n"
          ],
          "name": "stdout"
        },
        {
          "output_type": "stream",
          "text": [
            "\n",
            " 51%|█████     | 1433/2808 [00:14<00:12, 110.94it/s]\u001b[A\n",
            " 51%|█████▏    | 1445/2808 [00:14<00:12, 110.58it/s]\u001b[A\n",
            " 52%|█████▏    | 1457/2808 [00:14<00:12, 108.89it/s]\u001b[A\n",
            " 52%|█████▏    | 1468/2808 [00:14<00:12, 109.20it/s]\u001b[A\n",
            " 53%|█████▎    | 1479/2808 [00:14<00:12, 109.31it/s]\u001b[A\n",
            " 53%|█████▎    | 1491/2808 [00:14<00:11, 109.78it/s]\u001b[A\n",
            " 53%|█████▎    | 1502/2808 [00:14<00:11, 109.38it/s]\u001b[A\n",
            " 54%|█████▍    | 1514/2808 [00:15<00:11, 110.15it/s]\u001b[A"
          ],
          "name": "stderr"
        },
        {
          "output_type": "stream",
          "text": [
            "| epoch   2 |  1500/ 2808 batches | lr 4.00 | loss  1.81 | ppl     6.09\n"
          ],
          "name": "stdout"
        },
        {
          "output_type": "stream",
          "text": [
            "\n",
            " 54%|█████▍    | 1526/2808 [00:15<00:11, 110.45it/s]\u001b[A\n",
            " 55%|█████▍    | 1538/2808 [00:15<00:11, 110.73it/s]\u001b[A\n",
            " 55%|█████▌    | 1550/2808 [00:15<00:11, 110.01it/s]\u001b[A\n",
            " 56%|█████▌    | 1562/2808 [00:15<00:11, 110.30it/s]\u001b[A\n",
            " 56%|█████▌    | 1574/2808 [00:15<00:11, 110.00it/s]\u001b[A\n",
            " 56%|█████▋    | 1586/2808 [00:15<00:11, 110.18it/s]\u001b[A\n",
            " 57%|█████▋    | 1598/2808 [00:15<00:10, 110.47it/s]\u001b[A\n",
            " 57%|█████▋    | 1610/2808 [00:15<00:10, 110.92it/s]\u001b[A\n",
            " 58%|█████▊    | 1622/2808 [00:16<00:10, 110.83it/s]\u001b[A"
          ],
          "name": "stderr"
        },
        {
          "output_type": "stream",
          "text": [
            "| epoch   2 |  1600/ 2808 batches | lr 4.00 | loss  1.81 | ppl     6.09\n"
          ],
          "name": "stdout"
        },
        {
          "output_type": "stream",
          "text": [
            "\n",
            " 58%|█████▊    | 1634/2808 [00:16<00:10, 110.45it/s]\u001b[A\n",
            " 59%|█████▊    | 1646/2808 [00:16<00:10, 111.65it/s]\u001b[A\n",
            " 59%|█████▉    | 1658/2808 [00:16<00:10, 111.59it/s]\u001b[A\n",
            " 59%|█████▉    | 1670/2808 [00:16<00:10, 110.94it/s]\u001b[A\n",
            " 60%|█████▉    | 1682/2808 [00:16<00:10, 110.69it/s]\u001b[A\n",
            " 60%|██████    | 1694/2808 [00:16<00:10, 110.47it/s]\u001b[A\n",
            " 61%|██████    | 1706/2808 [00:16<00:09, 110.44it/s]\u001b[A\n",
            " 61%|██████    | 1718/2808 [00:16<00:09, 110.66it/s]\u001b[A"
          ],
          "name": "stderr"
        },
        {
          "output_type": "stream",
          "text": [
            "| epoch   2 |  1700/ 2808 batches | lr 4.00 | loss  1.80 | ppl     6.04\n"
          ],
          "name": "stdout"
        },
        {
          "output_type": "stream",
          "text": [
            "\n",
            " 62%|██████▏   | 1730/2808 [00:16<00:09, 111.08it/s]\u001b[A\n",
            " 62%|██████▏   | 1742/2808 [00:17<00:09, 111.41it/s]\u001b[A\n",
            " 62%|██████▏   | 1754/2808 [00:17<00:09, 111.26it/s]\u001b[A\n",
            " 63%|██████▎   | 1766/2808 [00:17<00:09, 110.68it/s]\u001b[A\n",
            " 63%|██████▎   | 1778/2808 [00:17<00:09, 110.96it/s]\u001b[A\n",
            " 64%|██████▎   | 1790/2808 [00:17<00:09, 110.87it/s]\u001b[A\n",
            " 64%|██████▍   | 1802/2808 [00:17<00:09, 110.99it/s]\u001b[A\n",
            " 65%|██████▍   | 1814/2808 [00:17<00:09, 109.73it/s]\u001b[A"
          ],
          "name": "stderr"
        },
        {
          "output_type": "stream",
          "text": [
            "| epoch   2 |  1800/ 2808 batches | lr 4.00 | loss  1.79 | ppl     6.01\n"
          ],
          "name": "stdout"
        },
        {
          "output_type": "stream",
          "text": [
            "\n",
            " 65%|██████▍   | 1825/2808 [00:17<00:08, 109.64it/s]\u001b[A\n",
            " 65%|██████▌   | 1837/2808 [00:17<00:08, 110.28it/s]\u001b[A\n",
            " 66%|██████▌   | 1849/2808 [00:18<00:08, 108.61it/s]\u001b[A\n",
            " 66%|██████▋   | 1861/2808 [00:18<00:08, 110.17it/s]\u001b[A\n",
            " 67%|██████▋   | 1873/2808 [00:18<00:08, 110.35it/s]\u001b[A\n",
            " 67%|██████▋   | 1885/2808 [00:18<00:08, 110.19it/s]\u001b[A\n",
            " 68%|██████▊   | 1897/2808 [00:18<00:08, 108.86it/s]\u001b[A\n",
            " 68%|██████▊   | 1909/2808 [00:18<00:08, 109.52it/s]\u001b[A\n",
            " 68%|██████▊   | 1921/2808 [00:18<00:08, 110.04it/s]\u001b[A"
          ],
          "name": "stderr"
        },
        {
          "output_type": "stream",
          "text": [
            "| epoch   2 |  1900/ 2808 batches | lr 4.00 | loss  1.80 | ppl     6.03\n"
          ],
          "name": "stdout"
        },
        {
          "output_type": "stream",
          "text": [
            "\n",
            " 69%|██████▉   | 1933/2808 [00:18<00:07, 110.44it/s]\u001b[A\n",
            " 69%|██████▉   | 1945/2808 [00:18<00:07, 110.89it/s]\u001b[A\n",
            " 70%|██████▉   | 1957/2808 [00:19<00:07, 110.64it/s]\u001b[A\n",
            " 70%|███████   | 1969/2808 [00:19<00:07, 110.44it/s]\u001b[A\n",
            " 71%|███████   | 1981/2808 [00:19<00:07, 110.44it/s]\u001b[A\n",
            " 71%|███████   | 1993/2808 [00:19<00:07, 110.04it/s]\u001b[A\n",
            " 71%|███████▏  | 2005/2808 [00:19<00:07, 110.15it/s]\u001b[A\n",
            " 72%|███████▏  | 2017/2808 [00:19<00:07, 110.70it/s]\u001b[A"
          ],
          "name": "stderr"
        },
        {
          "output_type": "stream",
          "text": [
            "| epoch   2 |  2000/ 2808 batches | lr 4.00 | loss  1.78 | ppl     5.95\n"
          ],
          "name": "stdout"
        },
        {
          "output_type": "stream",
          "text": [
            "\n",
            " 72%|███████▏  | 2029/2808 [00:19<00:07, 110.57it/s]\u001b[A\n",
            " 73%|███████▎  | 2041/2808 [00:19<00:06, 110.61it/s]\u001b[A\n",
            " 73%|███████▎  | 2053/2808 [00:19<00:06, 111.07it/s]\u001b[A\n",
            " 74%|███████▎  | 2065/2808 [00:20<00:06, 111.05it/s]\u001b[A\n",
            " 74%|███████▍  | 2077/2808 [00:20<00:06, 110.92it/s]\u001b[A\n",
            " 74%|███████▍  | 2089/2808 [00:20<00:06, 110.26it/s]\u001b[A\n",
            " 75%|███████▍  | 2101/2808 [00:20<00:06, 111.36it/s]\u001b[A\n",
            " 75%|███████▌  | 2113/2808 [00:20<00:06, 111.17it/s]\u001b[A"
          ],
          "name": "stderr"
        },
        {
          "output_type": "stream",
          "text": [
            "| epoch   2 |  2100/ 2808 batches | lr 4.00 | loss  1.79 | ppl     5.98\n"
          ],
          "name": "stdout"
        },
        {
          "output_type": "stream",
          "text": [
            "\n",
            " 76%|███████▌  | 2125/2808 [00:20<00:06, 110.34it/s]\u001b[A\n",
            " 76%|███████▌  | 2137/2808 [00:20<00:06, 110.44it/s]\u001b[A\n",
            " 77%|███████▋  | 2149/2808 [00:20<00:05, 109.92it/s]\u001b[A\n",
            " 77%|███████▋  | 2161/2808 [00:20<00:05, 110.42it/s]\u001b[A\n",
            " 77%|███████▋  | 2173/2808 [00:20<00:05, 110.44it/s]\u001b[A\n",
            " 78%|███████▊  | 2185/2808 [00:21<00:05, 110.71it/s]\u001b[A\n",
            " 78%|███████▊  | 2197/2808 [00:21<00:05, 110.43it/s]\u001b[A\n",
            " 79%|███████▊  | 2209/2808 [00:21<00:05, 110.13it/s]\u001b[A\n",
            " 79%|███████▉  | 2221/2808 [00:21<00:05, 111.17it/s]\u001b[A"
          ],
          "name": "stderr"
        },
        {
          "output_type": "stream",
          "text": [
            "| epoch   2 |  2200/ 2808 batches | lr 4.00 | loss  1.78 | ppl     5.92\n"
          ],
          "name": "stdout"
        },
        {
          "output_type": "stream",
          "text": [
            "\n",
            " 80%|███████▉  | 2233/2808 [00:21<00:05, 110.65it/s]\u001b[A\n",
            " 80%|███████▉  | 2245/2808 [00:21<00:05, 111.08it/s]\u001b[A\n",
            " 80%|████████  | 2257/2808 [00:21<00:04, 110.73it/s]\u001b[A\n",
            " 81%|████████  | 2269/2808 [00:21<00:04, 110.20it/s]\u001b[A\n",
            " 81%|████████  | 2281/2808 [00:21<00:04, 110.50it/s]\u001b[A\n",
            " 82%|████████▏ | 2293/2808 [00:22<00:04, 108.61it/s]\u001b[A\n",
            " 82%|████████▏ | 2304/2808 [00:22<00:04, 108.50it/s]\u001b[A\n",
            " 82%|████████▏ | 2316/2808 [00:22<00:04, 109.05it/s]\u001b[A"
          ],
          "name": "stderr"
        },
        {
          "output_type": "stream",
          "text": [
            "| epoch   2 |  2300/ 2808 batches | lr 4.00 | loss  1.78 | ppl     5.93\n"
          ],
          "name": "stdout"
        },
        {
          "output_type": "stream",
          "text": [
            "\n",
            " 83%|████████▎ | 2328/2808 [00:22<00:04, 109.84it/s]\u001b[A\n",
            " 83%|████████▎ | 2339/2808 [00:22<00:04, 109.18it/s]\u001b[A\n",
            " 84%|████████▎ | 2351/2808 [00:22<00:04, 109.90it/s]\u001b[A\n",
            " 84%|████████▍ | 2363/2808 [00:22<00:04, 110.03it/s]\u001b[A\n",
            " 85%|████████▍ | 2375/2808 [00:22<00:03, 110.54it/s]\u001b[A\n",
            " 85%|████████▌ | 2387/2808 [00:22<00:03, 109.99it/s]\u001b[A\n",
            " 85%|████████▌ | 2399/2808 [00:23<00:03, 110.10it/s]\u001b[A\n",
            " 86%|████████▌ | 2411/2808 [00:23<00:03, 110.44it/s]\u001b[A\n",
            " 86%|████████▋ | 2423/2808 [00:23<00:03, 110.57it/s]\u001b[A"
          ],
          "name": "stderr"
        },
        {
          "output_type": "stream",
          "text": [
            "| epoch   2 |  2400/ 2808 batches | lr 4.00 | loss  1.76 | ppl     5.83\n"
          ],
          "name": "stdout"
        },
        {
          "output_type": "stream",
          "text": [
            "\n",
            " 87%|████████▋ | 2435/2808 [00:23<00:03, 110.51it/s]\u001b[A\n",
            " 87%|████████▋ | 2447/2808 [00:23<00:03, 110.59it/s]\u001b[A\n",
            " 88%|████████▊ | 2459/2808 [00:23<00:03, 110.44it/s]\u001b[A\n",
            " 88%|████████▊ | 2471/2808 [00:23<00:03, 110.59it/s]\u001b[A\n",
            " 88%|████████▊ | 2483/2808 [00:23<00:02, 110.91it/s]\u001b[A\n",
            " 89%|████████▉ | 2495/2808 [00:23<00:02, 111.45it/s]\u001b[A\n",
            " 89%|████████▉ | 2507/2808 [00:24<00:02, 111.27it/s]\u001b[A\n",
            " 90%|████████▉ | 2519/2808 [00:24<00:02, 111.17it/s]\u001b[A"
          ],
          "name": "stderr"
        },
        {
          "output_type": "stream",
          "text": [
            "| epoch   2 |  2500/ 2808 batches | lr 4.00 | loss  1.76 | ppl     5.83\n"
          ],
          "name": "stdout"
        },
        {
          "output_type": "stream",
          "text": [
            "\n",
            " 90%|█████████ | 2531/2808 [00:24<00:02, 110.72it/s]\u001b[A\n",
            " 91%|█████████ | 2543/2808 [00:24<00:02, 110.89it/s]\u001b[A\n",
            " 91%|█████████ | 2555/2808 [00:24<00:02, 110.77it/s]\u001b[A\n",
            " 91%|█████████▏| 2567/2808 [00:24<00:02, 110.83it/s]\u001b[A\n",
            " 92%|█████████▏| 2579/2808 [00:24<00:02, 110.65it/s]\u001b[A\n",
            " 92%|█████████▏| 2591/2808 [00:24<00:01, 110.78it/s]\u001b[A\n",
            " 93%|█████████▎| 2603/2808 [00:24<00:01, 110.51it/s]\u001b[A\n",
            " 93%|█████████▎| 2615/2808 [00:24<00:01, 110.86it/s]\u001b[A"
          ],
          "name": "stderr"
        },
        {
          "output_type": "stream",
          "text": [
            "| epoch   2 |  2600/ 2808 batches | lr 4.00 | loss  1.77 | ppl     5.85\n"
          ],
          "name": "stdout"
        },
        {
          "output_type": "stream",
          "text": [
            "\n",
            " 94%|█████████▎| 2627/2808 [00:25<00:01, 110.79it/s]\u001b[A\n",
            " 94%|█████████▍| 2639/2808 [00:25<00:01, 110.90it/s]\u001b[A\n",
            " 94%|█████████▍| 2651/2808 [00:25<00:01, 110.79it/s]\u001b[A\n",
            " 95%|█████████▍| 2663/2808 [00:25<00:01, 110.97it/s]\u001b[A\n",
            " 95%|█████████▌| 2675/2808 [00:25<00:01, 111.02it/s]\u001b[A\n",
            " 96%|█████████▌| 2687/2808 [00:25<00:01, 110.68it/s]\u001b[A\n",
            " 96%|█████████▌| 2699/2808 [00:25<00:00, 111.10it/s]\u001b[A\n",
            " 97%|█████████▋| 2711/2808 [00:25<00:00, 110.74it/s]\u001b[A\n",
            " 97%|█████████▋| 2723/2808 [00:25<00:00, 110.63it/s]\u001b[A"
          ],
          "name": "stderr"
        },
        {
          "output_type": "stream",
          "text": [
            "| epoch   2 |  2700/ 2808 batches | lr 4.00 | loss  1.76 | ppl     5.83\n"
          ],
          "name": "stdout"
        },
        {
          "output_type": "stream",
          "text": [
            "\n",
            " 97%|█████████▋| 2735/2808 [00:26<00:00, 110.88it/s]\u001b[A\n",
            " 98%|█████████▊| 2747/2808 [00:26<00:00, 110.67it/s]\u001b[A\n",
            " 98%|█████████▊| 2759/2808 [00:26<00:00, 110.50it/s]\u001b[A\n",
            " 99%|█████████▊| 2771/2808 [00:26<00:00, 110.52it/s]\u001b[A\n",
            " 99%|█████████▉| 2783/2808 [00:26<00:00, 109.83it/s]\u001b[A\n",
            "100%|█████████▉| 2794/2808 [00:26<00:00, 109.24it/s]\u001b[A\n",
            "100%|██████████| 2808/2808 [00:26<00:00, 104.94it/s]\n",
            "\n",
            "  0%|          | 0/292 [00:00<?, ?it/s]\u001b[A"
          ],
          "name": "stderr"
        },
        {
          "output_type": "stream",
          "text": [
            "| epoch   2 |  2800/ 2808 batches | lr 4.00 | loss  1.74 | ppl     5.73\n"
          ],
          "name": "stdout"
        },
        {
          "output_type": "stream",
          "text": [
            "\n",
            "  0%|          | 1/292 [00:00<00:39,  7.33it/s]\u001b[A\n",
            " 17%|█▋        | 51/292 [00:00<00:23, 10.41it/s]\u001b[A\n",
            " 35%|███▍      | 101/292 [00:00<00:12, 14.74it/s]\u001b[A\n",
            " 52%|█████▏    | 151/292 [00:00<00:06, 20.79it/s]\u001b[A\n",
            " 69%|██████▉   | 201/292 [00:00<00:03, 29.17it/s]\u001b[A\n",
            "100%|██████████| 292/292 [00:00<00:00, 401.66it/s]\n",
            "\n",
            "  0%|          | 0/2808 [00:00<?, ?it/s]\u001b[A"
          ],
          "name": "stderr"
        },
        {
          "output_type": "stream",
          "text": [
            "-----------------------------------------------------------------------------------------\n",
            "| end of epoch   2 | valid loss  1.55 | valid ppl     4.72\n",
            "-----------------------------------------------------------------------------------------\n",
            "sample:\n",
            "  Dingryacrief awar Og ớwanqumie ianthicovesuncus t \n",
            "\n"
          ],
          "name": "stdout"
        },
        {
          "output_type": "stream",
          "text": [
            "\n",
            "  0%|          | 1/2808 [00:01<1:02:09,  1.33s/it]\u001b[A\n",
            "  0%|          | 12/2808 [00:01<43:28,  1.07it/s] \u001b[A\n",
            "  1%|          | 24/2808 [00:01<30:25,  1.53it/s]\u001b[A\n",
            "  1%|▏         | 36/2808 [00:01<21:19,  2.17it/s]\u001b[A\n",
            "  2%|▏         | 48/2808 [00:01<14:59,  3.07it/s]\u001b[A\n",
            "  2%|▏         | 60/2808 [00:01<10:34,  4.33it/s]\u001b[A\n",
            "  3%|▎         | 72/2808 [00:01<07:29,  6.09it/s]\u001b[A\n",
            "  3%|▎         | 84/2808 [00:02<05:20,  8.50it/s]\u001b[A\n",
            "  3%|▎         | 96/2808 [00:02<03:50, 11.75it/s]\u001b[A\n",
            "  4%|▍         | 108/2808 [00:02<02:48, 16.06it/s]\u001b[A\n",
            "  4%|▍         | 119/2808 [00:02<02:04, 21.59it/s]\u001b[A"
          ],
          "name": "stderr"
        },
        {
          "output_type": "stream",
          "text": [
            "| epoch   3 |   100/ 2808 batches | lr 4.00 | loss  1.76 | ppl     5.84\n"
          ],
          "name": "stdout"
        },
        {
          "output_type": "stream",
          "text": [
            "\n",
            "  5%|▍         | 130/2808 [00:02<01:34, 28.40it/s]\u001b[A\n",
            "  5%|▌         | 141/2808 [00:02<01:13, 36.42it/s]\u001b[A\n",
            "  5%|▌         | 153/2808 [00:02<00:58, 45.66it/s]\u001b[A\n",
            "  6%|▌         | 164/2808 [00:02<00:47, 55.37it/s]\u001b[A\n",
            "  6%|▌         | 175/2808 [00:02<00:40, 64.96it/s]\u001b[A\n",
            "  7%|▋         | 186/2808 [00:03<00:35, 73.98it/s]\u001b[A\n",
            "  7%|▋         | 198/2808 [00:03<00:31, 82.09it/s]\u001b[A\n",
            "  7%|▋         | 209/2808 [00:03<00:29, 88.21it/s]\u001b[A\n",
            "  8%|▊         | 221/2808 [00:03<00:27, 93.90it/s]\u001b[A"
          ],
          "name": "stderr"
        },
        {
          "output_type": "stream",
          "text": [
            "| epoch   3 |   200/ 2808 batches | lr 4.00 | loss  1.74 | ppl     5.70\n"
          ],
          "name": "stdout"
        },
        {
          "output_type": "stream",
          "text": [
            "\n",
            "  8%|▊         | 233/2808 [00:03<00:26, 98.93it/s]\u001b[A\n",
            "  9%|▊         | 245/2808 [00:03<00:25, 102.41it/s]\u001b[A\n",
            "  9%|▉         | 257/2808 [00:03<00:24, 104.87it/s]\u001b[A\n",
            " 10%|▉         | 269/2808 [00:03<00:23, 106.06it/s]\u001b[A\n",
            " 10%|█         | 281/2808 [00:03<00:23, 107.69it/s]\u001b[A\n",
            " 10%|█         | 293/2808 [00:03<00:22, 109.42it/s]\u001b[A\n",
            " 11%|█         | 305/2808 [00:04<00:23, 108.73it/s]\u001b[A\n",
            " 11%|█▏        | 317/2808 [00:04<00:22, 109.40it/s]\u001b[A"
          ],
          "name": "stderr"
        },
        {
          "output_type": "stream",
          "text": [
            "| epoch   3 |   300/ 2808 batches | lr 4.00 | loss  1.74 | ppl     5.70\n"
          ],
          "name": "stdout"
        },
        {
          "output_type": "stream",
          "text": [
            "\n",
            " 12%|█▏        | 329/2808 [00:04<00:22, 108.41it/s]\u001b[A\n",
            " 12%|█▏        | 341/2808 [00:04<00:22, 109.16it/s]\u001b[A\n",
            " 13%|█▎        | 353/2808 [00:04<00:22, 109.95it/s]\u001b[A\n",
            " 13%|█▎        | 365/2808 [00:04<00:22, 110.22it/s]\u001b[A\n",
            " 13%|█▎        | 377/2808 [00:04<00:22, 110.39it/s]\u001b[A\n",
            " 14%|█▍        | 389/2808 [00:04<00:21, 110.87it/s]\u001b[A\n",
            " 14%|█▍        | 401/2808 [00:04<00:21, 110.58it/s]\u001b[A\n",
            " 15%|█▍        | 413/2808 [00:05<00:21, 111.00it/s]\u001b[A"
          ],
          "name": "stderr"
        },
        {
          "output_type": "stream",
          "text": [
            "| epoch   3 |   400/ 2808 batches | lr 4.00 | loss  1.74 | ppl     5.69\n"
          ],
          "name": "stdout"
        },
        {
          "output_type": "stream",
          "text": [
            "\n",
            " 15%|█▌        | 425/2808 [00:05<00:21, 110.50it/s]\u001b[A\n",
            " 16%|█▌        | 437/2808 [00:05<00:21, 110.06it/s]\u001b[A\n",
            " 16%|█▌        | 449/2808 [00:05<00:21, 110.24it/s]\u001b[A\n",
            " 16%|█▋        | 461/2808 [00:05<00:21, 110.63it/s]\u001b[A\n",
            " 17%|█▋        | 473/2808 [00:05<00:21, 110.83it/s]\u001b[A\n",
            " 17%|█▋        | 485/2808 [00:05<00:20, 110.83it/s]\u001b[A\n",
            " 18%|█▊        | 497/2808 [00:05<00:20, 110.69it/s]\u001b[A\n",
            " 18%|█▊        | 509/2808 [00:05<00:20, 110.25it/s]\u001b[A\n",
            " 19%|█▊        | 521/2808 [00:06<00:20, 110.29it/s]\u001b[A"
          ],
          "name": "stderr"
        },
        {
          "output_type": "stream",
          "text": [
            "| epoch   3 |   500/ 2808 batches | lr 4.00 | loss  1.73 | ppl     5.66\n"
          ],
          "name": "stdout"
        },
        {
          "output_type": "stream",
          "text": [
            "\n",
            " 19%|█▉        | 533/2808 [00:06<00:20, 110.53it/s]\u001b[A\n",
            " 19%|█▉        | 545/2808 [00:06<00:20, 109.18it/s]\u001b[A\n",
            " 20%|█▉        | 557/2808 [00:06<00:20, 110.29it/s]\u001b[A\n",
            " 20%|██        | 569/2808 [00:06<00:20, 110.67it/s]\u001b[A\n",
            " 21%|██        | 581/2808 [00:06<00:20, 110.97it/s]\u001b[A\n",
            " 21%|██        | 593/2808 [00:06<00:20, 110.05it/s]\u001b[A\n",
            " 22%|██▏       | 605/2808 [00:06<00:19, 110.22it/s]\u001b[A\n",
            " 22%|██▏       | 617/2808 [00:06<00:19, 111.51it/s]\u001b[A"
          ],
          "name": "stderr"
        },
        {
          "output_type": "stream",
          "text": [
            "| epoch   3 |   600/ 2808 batches | lr 4.00 | loss  1.73 | ppl     5.62\n"
          ],
          "name": "stdout"
        },
        {
          "output_type": "stream",
          "text": [
            "\n",
            " 22%|██▏       | 629/2808 [00:07<00:19, 111.31it/s]\u001b[A\n",
            " 23%|██▎       | 641/2808 [00:07<00:19, 111.13it/s]\u001b[A\n",
            " 23%|██▎       | 653/2808 [00:07<00:19, 110.14it/s]\u001b[A\n",
            " 24%|██▎       | 665/2808 [00:07<00:19, 110.28it/s]\u001b[A\n",
            " 24%|██▍       | 677/2808 [00:07<00:19, 110.71it/s]\u001b[A\n",
            " 25%|██▍       | 689/2808 [00:07<00:19, 110.99it/s]\u001b[A\n",
            " 25%|██▍       | 701/2808 [00:07<00:18, 111.18it/s]\u001b[A\n",
            " 25%|██▌       | 713/2808 [00:07<00:18, 110.89it/s]\u001b[A"
          ],
          "name": "stderr"
        },
        {
          "output_type": "stream",
          "text": [
            "| epoch   3 |   700/ 2808 batches | lr 4.00 | loss  1.73 | ppl     5.63\n"
          ],
          "name": "stdout"
        },
        {
          "output_type": "stream",
          "text": [
            "\n",
            " 26%|██▌       | 725/2808 [00:07<00:18, 111.11it/s]\u001b[A\n",
            " 26%|██▌       | 737/2808 [00:07<00:18, 111.18it/s]\u001b[A\n",
            " 27%|██▋       | 749/2808 [00:08<00:18, 111.32it/s]\u001b[A\n",
            " 27%|██▋       | 761/2808 [00:08<00:18, 110.67it/s]\u001b[A\n",
            " 28%|██▊       | 773/2808 [00:08<00:18, 111.22it/s]\u001b[A\n",
            " 28%|██▊       | 785/2808 [00:08<00:18, 111.49it/s]\u001b[A\n",
            " 28%|██▊       | 797/2808 [00:08<00:18, 111.50it/s]\u001b[A\n",
            " 29%|██▉       | 809/2808 [00:08<00:17, 111.18it/s]\u001b[A\n",
            " 29%|██▉       | 821/2808 [00:08<00:17, 111.82it/s]\u001b[A"
          ],
          "name": "stderr"
        },
        {
          "output_type": "stream",
          "text": [
            "| epoch   3 |   800/ 2808 batches | lr 4.00 | loss  1.72 | ppl     5.60\n"
          ],
          "name": "stdout"
        },
        {
          "output_type": "stream",
          "text": [
            "\n",
            " 30%|██▉       | 833/2808 [00:08<00:17, 111.68it/s]\u001b[A\n",
            " 30%|███       | 845/2808 [00:08<00:17, 111.46it/s]\u001b[A\n",
            " 31%|███       | 857/2808 [00:09<00:17, 111.31it/s]\u001b[A\n",
            " 31%|███       | 869/2808 [00:09<00:17, 111.19it/s]\u001b[A\n",
            " 31%|███▏      | 881/2808 [00:09<00:17, 110.83it/s]\u001b[A\n",
            " 32%|███▏      | 893/2808 [00:09<00:17, 110.97it/s]\u001b[A\n",
            " 32%|███▏      | 905/2808 [00:09<00:17, 110.47it/s]\u001b[A\n",
            " 33%|███▎      | 917/2808 [00:09<00:17, 110.24it/s]\u001b[A"
          ],
          "name": "stderr"
        },
        {
          "output_type": "stream",
          "text": [
            "| epoch   3 |   900/ 2808 batches | lr 4.00 | loss  1.72 | ppl     5.60\n"
          ],
          "name": "stdout"
        },
        {
          "output_type": "stream",
          "text": [
            "\n",
            " 33%|███▎      | 929/2808 [00:09<00:17, 109.75it/s]\u001b[A\n",
            " 34%|███▎      | 941/2808 [00:09<00:16, 110.24it/s]\u001b[A\n",
            " 34%|███▍      | 953/2808 [00:09<00:16, 110.37it/s]\u001b[A\n",
            " 34%|███▍      | 965/2808 [00:10<00:16, 110.52it/s]\u001b[A\n",
            " 35%|███▍      | 977/2808 [00:10<00:16, 111.37it/s]\u001b[A\n",
            " 35%|███▌      | 989/2808 [00:10<00:16, 110.45it/s]\u001b[A\n",
            " 36%|███▌      | 1001/2808 [00:10<00:16, 110.03it/s]\u001b[A\n",
            " 36%|███▌      | 1013/2808 [00:10<00:16, 110.34it/s]\u001b[A"
          ],
          "name": "stderr"
        },
        {
          "output_type": "stream",
          "text": [
            "| epoch   3 |  1000/ 2808 batches | lr 4.00 | loss  1.72 | ppl     5.58\n"
          ],
          "name": "stdout"
        },
        {
          "output_type": "stream",
          "text": [
            "\n",
            " 37%|███▋      | 1025/2808 [00:10<00:16, 110.84it/s]\u001b[A\n",
            " 37%|███▋      | 1037/2808 [00:10<00:15, 110.96it/s]\u001b[A\n",
            " 37%|███▋      | 1049/2808 [00:10<00:15, 110.27it/s]\u001b[A\n",
            " 38%|███▊      | 1061/2808 [00:10<00:15, 110.76it/s]\u001b[A\n",
            " 38%|███▊      | 1073/2808 [00:11<00:15, 110.63it/s]\u001b[A\n",
            " 39%|███▊      | 1085/2808 [00:11<00:15, 110.56it/s]\u001b[A\n",
            " 39%|███▉      | 1097/2808 [00:11<00:15, 110.75it/s]\u001b[A\n",
            " 39%|███▉      | 1109/2808 [00:11<00:15, 111.03it/s]\u001b[A\n",
            " 40%|███▉      | 1121/2808 [00:11<00:15, 109.68it/s]\u001b[A"
          ],
          "name": "stderr"
        },
        {
          "output_type": "stream",
          "text": [
            "| epoch   3 |  1100/ 2808 batches | lr 4.00 | loss  1.71 | ppl     5.55\n"
          ],
          "name": "stdout"
        },
        {
          "output_type": "stream",
          "text": [
            "\n",
            " 40%|████      | 1132/2808 [00:11<00:15, 109.54it/s]\u001b[A\n",
            " 41%|████      | 1144/2808 [00:11<00:15, 109.81it/s]\u001b[A\n",
            " 41%|████      | 1155/2808 [00:11<00:15, 109.19it/s]\u001b[A\n",
            " 42%|████▏     | 1167/2808 [00:11<00:14, 109.93it/s]\u001b[A\n",
            " 42%|████▏     | 1179/2808 [00:11<00:14, 110.58it/s]\u001b[A\n",
            " 42%|████▏     | 1191/2808 [00:12<00:14, 110.46it/s]\u001b[A\n",
            " 43%|████▎     | 1203/2808 [00:12<00:14, 110.53it/s]\u001b[A\n",
            " 43%|████▎     | 1215/2808 [00:12<00:14, 110.60it/s]\u001b[A"
          ],
          "name": "stderr"
        },
        {
          "output_type": "stream",
          "text": [
            "| epoch   3 |  1200/ 2808 batches | lr 4.00 | loss  1.72 | ppl     5.58\n"
          ],
          "name": "stdout"
        },
        {
          "output_type": "stream",
          "text": [
            "\n",
            " 44%|████▎     | 1227/2808 [00:12<00:14, 110.88it/s]\u001b[A\n",
            " 44%|████▍     | 1239/2808 [00:12<00:14, 110.39it/s]\u001b[A\n",
            " 45%|████▍     | 1251/2808 [00:12<00:14, 109.99it/s]\u001b[A\n",
            " 45%|████▍     | 1263/2808 [00:12<00:13, 110.65it/s]\u001b[A\n",
            " 45%|████▌     | 1275/2808 [00:12<00:13, 110.94it/s]\u001b[A\n",
            " 46%|████▌     | 1287/2808 [00:12<00:13, 111.06it/s]\u001b[A\n",
            " 46%|████▋     | 1299/2808 [00:13<00:13, 111.10it/s]\u001b[A\n",
            " 47%|████▋     | 1311/2808 [00:13<00:13, 110.90it/s]\u001b[A\n",
            " 47%|████▋     | 1323/2808 [00:13<00:13, 110.72it/s]\u001b[A"
          ],
          "name": "stderr"
        },
        {
          "output_type": "stream",
          "text": [
            "| epoch   3 |  1300/ 2808 batches | lr 4.00 | loss  1.71 | ppl     5.53\n"
          ],
          "name": "stdout"
        },
        {
          "output_type": "stream",
          "text": [
            "\n",
            " 48%|████▊     | 1335/2808 [00:13<00:13, 110.65it/s]\u001b[A\n",
            " 48%|████▊     | 1347/2808 [00:13<00:13, 108.30it/s]\u001b[A\n",
            " 48%|████▊     | 1359/2808 [00:13<00:13, 109.43it/s]\u001b[A\n",
            " 49%|████▉     | 1371/2808 [00:13<00:13, 109.98it/s]\u001b[A\n",
            " 49%|████▉     | 1383/2808 [00:13<00:12, 110.43it/s]\u001b[A\n",
            " 50%|████▉     | 1395/2808 [00:13<00:12, 110.60it/s]\u001b[A\n",
            " 50%|█████     | 1407/2808 [00:14<00:12, 110.71it/s]\u001b[A\n",
            " 51%|█████     | 1419/2808 [00:14<00:12, 111.00it/s]\u001b[A"
          ],
          "name": "stderr"
        },
        {
          "output_type": "stream",
          "text": [
            "| epoch   3 |  1400/ 2808 batches | lr 4.00 | loss  1.69 | ppl     5.45\n"
          ],
          "name": "stdout"
        },
        {
          "output_type": "stream",
          "text": [
            "\n",
            " 51%|█████     | 1431/2808 [00:14<00:12, 110.65it/s]\u001b[A\n",
            " 51%|█████▏    | 1443/2808 [00:14<00:12, 110.57it/s]\u001b[A\n",
            " 52%|█████▏    | 1455/2808 [00:14<00:12, 109.80it/s]\u001b[A\n",
            " 52%|█████▏    | 1466/2808 [00:14<00:12, 109.77it/s]\u001b[A\n",
            " 53%|█████▎    | 1477/2808 [00:14<00:12, 109.81it/s]\u001b[A\n",
            " 53%|█████▎    | 1489/2808 [00:14<00:12, 109.19it/s]\u001b[A\n",
            " 53%|█████▎    | 1501/2808 [00:14<00:11, 109.88it/s]\u001b[A\n",
            " 54%|█████▍    | 1512/2808 [00:15<00:11, 109.25it/s]\u001b[A"
          ],
          "name": "stderr"
        },
        {
          "output_type": "stream",
          "text": [
            "| epoch   3 |  1500/ 2808 batches | lr 4.00 | loss  1.70 | ppl     5.49\n"
          ],
          "name": "stdout"
        },
        {
          "output_type": "stream",
          "text": [
            "\n",
            " 54%|█████▍    | 1523/2808 [00:15<00:11, 108.74it/s]\u001b[A\n",
            " 55%|█████▍    | 1534/2808 [00:15<00:11, 109.09it/s]\u001b[A\n",
            " 55%|█████▌    | 1546/2808 [00:15<00:11, 109.68it/s]\u001b[A\n",
            " 55%|█████▌    | 1557/2808 [00:15<00:11, 109.62it/s]\u001b[A\n",
            " 56%|█████▌    | 1569/2808 [00:15<00:11, 109.92it/s]\u001b[A\n",
            " 56%|█████▋    | 1581/2808 [00:15<00:11, 110.30it/s]\u001b[A\n",
            " 57%|█████▋    | 1593/2808 [00:15<00:11, 110.34it/s]\u001b[A\n",
            " 57%|█████▋    | 1605/2808 [00:15<00:10, 110.70it/s]\u001b[A\n",
            " 58%|█████▊    | 1617/2808 [00:15<00:10, 111.11it/s]\u001b[A"
          ],
          "name": "stderr"
        },
        {
          "output_type": "stream",
          "text": [
            "| epoch   3 |  1600/ 2808 batches | lr 4.00 | loss  1.70 | ppl     5.49\n"
          ],
          "name": "stdout"
        },
        {
          "output_type": "stream",
          "text": [
            "\n",
            " 58%|█████▊    | 1629/2808 [00:16<00:10, 111.01it/s]\u001b[A\n",
            " 58%|█████▊    | 1641/2808 [00:16<00:10, 110.98it/s]\u001b[A\n",
            " 59%|█████▉    | 1653/2808 [00:16<00:10, 111.00it/s]\u001b[A\n",
            " 59%|█████▉    | 1665/2808 [00:16<00:10, 111.24it/s]\u001b[A\n",
            " 60%|█████▉    | 1677/2808 [00:16<00:10, 110.70it/s]\u001b[A\n",
            " 60%|██████    | 1689/2808 [00:16<00:10, 110.47it/s]\u001b[A\n",
            " 61%|██████    | 1701/2808 [00:16<00:10, 110.40it/s]\u001b[A\n",
            " 61%|██████    | 1713/2808 [00:16<00:09, 110.50it/s]\u001b[A"
          ],
          "name": "stderr"
        },
        {
          "output_type": "stream",
          "text": [
            "| epoch   3 |  1700/ 2808 batches | lr 4.00 | loss  1.70 | ppl     5.45\n"
          ],
          "name": "stdout"
        },
        {
          "output_type": "stream",
          "text": [
            "\n",
            " 61%|██████▏   | 1725/2808 [00:16<00:09, 110.79it/s]\u001b[A\n",
            " 62%|██████▏   | 1737/2808 [00:17<00:09, 110.15it/s]\u001b[A\n",
            " 62%|██████▏   | 1749/2808 [00:17<00:09, 110.16it/s]\u001b[A\n",
            " 63%|██████▎   | 1761/2808 [00:17<00:09, 110.66it/s]\u001b[A\n",
            " 63%|██████▎   | 1773/2808 [00:17<00:09, 110.68it/s]\u001b[A\n",
            " 64%|██████▎   | 1785/2808 [00:17<00:09, 111.09it/s]\u001b[A\n",
            " 64%|██████▍   | 1797/2808 [00:17<00:09, 110.42it/s]\u001b[A\n",
            " 64%|██████▍   | 1809/2808 [00:17<00:09, 110.52it/s]\u001b[A\n",
            " 65%|██████▍   | 1821/2808 [00:17<00:08, 110.65it/s]\u001b[A"
          ],
          "name": "stderr"
        },
        {
          "output_type": "stream",
          "text": [
            "| epoch   3 |  1800/ 2808 batches | lr 4.00 | loss  1.70 | ppl     5.45\n"
          ],
          "name": "stdout"
        },
        {
          "output_type": "stream",
          "text": [
            "\n",
            " 65%|██████▌   | 1833/2808 [00:17<00:08, 109.47it/s]\u001b[A\n",
            " 66%|██████▌   | 1844/2808 [00:18<00:08, 109.30it/s]\u001b[A\n",
            " 66%|██████▌   | 1856/2808 [00:18<00:08, 110.04it/s]\u001b[A\n",
            " 67%|██████▋   | 1868/2808 [00:18<00:08, 110.49it/s]\u001b[A\n",
            " 67%|██████▋   | 1880/2808 [00:18<00:08, 110.88it/s]\u001b[A\n",
            " 67%|██████▋   | 1892/2808 [00:18<00:08, 111.85it/s]\u001b[A\n",
            " 68%|██████▊   | 1904/2808 [00:18<00:08, 111.22it/s]\u001b[A\n",
            " 68%|██████▊   | 1916/2808 [00:18<00:08, 111.46it/s]\u001b[A"
          ],
          "name": "stderr"
        },
        {
          "output_type": "stream",
          "text": [
            "| epoch   3 |  1900/ 2808 batches | lr 4.00 | loss  1.70 | ppl     5.50\n"
          ],
          "name": "stdout"
        },
        {
          "output_type": "stream",
          "text": [
            "\n",
            " 69%|██████▊   | 1928/2808 [00:18<00:07, 111.64it/s]\u001b[A\n",
            " 69%|██████▉   | 1940/2808 [00:18<00:07, 111.76it/s]\u001b[A\n",
            " 70%|██████▉   | 1952/2808 [00:18<00:07, 111.88it/s]\u001b[A\n",
            " 70%|██████▉   | 1964/2808 [00:19<00:07, 111.69it/s]\u001b[A\n",
            " 70%|███████   | 1976/2808 [00:19<00:07, 111.49it/s]\u001b[A\n",
            " 71%|███████   | 1988/2808 [00:19<00:07, 111.35it/s]\u001b[A\n",
            " 71%|███████   | 2000/2808 [00:19<00:07, 110.40it/s]\u001b[A\n",
            " 72%|███████▏  | 2012/2808 [00:19<00:07, 110.40it/s]\u001b[A"
          ],
          "name": "stderr"
        },
        {
          "output_type": "stream",
          "text": [
            "| epoch   3 |  2000/ 2808 batches | lr 4.00 | loss  1.69 | ppl     5.44\n"
          ],
          "name": "stdout"
        },
        {
          "output_type": "stream",
          "text": [
            "\n",
            " 72%|███████▏  | 2024/2808 [00:19<00:07, 109.90it/s]\u001b[A\n",
            " 73%|███████▎  | 2036/2808 [00:19<00:06, 110.29it/s]\u001b[A\n",
            " 73%|███████▎  | 2048/2808 [00:19<00:06, 110.40it/s]\u001b[A\n",
            " 73%|███████▎  | 2060/2808 [00:19<00:06, 110.58it/s]\u001b[A\n",
            " 74%|███████▍  | 2072/2808 [00:20<00:06, 110.69it/s]\u001b[A\n",
            " 74%|███████▍  | 2084/2808 [00:20<00:06, 111.07it/s]\u001b[A\n",
            " 75%|███████▍  | 2096/2808 [00:20<00:06, 110.54it/s]\u001b[A\n",
            " 75%|███████▌  | 2108/2808 [00:20<00:06, 110.50it/s]\u001b[A\n",
            " 75%|███████▌  | 2120/2808 [00:20<00:06, 109.86it/s]\u001b[A"
          ],
          "name": "stderr"
        },
        {
          "output_type": "stream",
          "text": [
            "| epoch   3 |  2100/ 2808 batches | lr 4.00 | loss  1.70 | ppl     5.47\n"
          ],
          "name": "stdout"
        },
        {
          "output_type": "stream",
          "text": [
            "\n",
            " 76%|███████▌  | 2131/2808 [00:20<00:06, 109.24it/s]\u001b[A\n",
            " 76%|███████▋  | 2142/2808 [00:20<00:06, 109.14it/s]\u001b[A\n",
            " 77%|███████▋  | 2154/2808 [00:20<00:05, 109.92it/s]\u001b[A\n",
            " 77%|███████▋  | 2166/2808 [00:20<00:05, 110.95it/s]\u001b[A\n",
            " 78%|███████▊  | 2178/2808 [00:21<00:05, 111.37it/s]\u001b[A\n",
            " 78%|███████▊  | 2190/2808 [00:21<00:05, 110.93it/s]\u001b[A\n",
            " 78%|███████▊  | 2202/2808 [00:21<00:05, 111.02it/s]\u001b[A\n",
            " 79%|███████▉  | 2214/2808 [00:21<00:05, 111.24it/s]\u001b[A"
          ],
          "name": "stderr"
        },
        {
          "output_type": "stream",
          "text": [
            "| epoch   3 |  2200/ 2808 batches | lr 4.00 | loss  1.69 | ppl     5.43\n"
          ],
          "name": "stdout"
        },
        {
          "output_type": "stream",
          "text": [
            "\n",
            " 79%|███████▉  | 2226/2808 [00:21<00:05, 111.35it/s]\u001b[A\n",
            " 80%|███████▉  | 2238/2808 [00:21<00:05, 111.29it/s]\u001b[A\n",
            " 80%|████████  | 2250/2808 [00:21<00:05, 110.63it/s]\u001b[A\n",
            " 81%|████████  | 2262/2808 [00:21<00:04, 110.79it/s]\u001b[A\n",
            " 81%|████████  | 2274/2808 [00:21<00:04, 110.75it/s]\u001b[A\n",
            " 81%|████████▏ | 2286/2808 [00:22<00:04, 111.45it/s]\u001b[A\n",
            " 82%|████████▏ | 2298/2808 [00:22<00:04, 111.24it/s]\u001b[A\n",
            " 82%|████████▏ | 2310/2808 [00:22<00:04, 110.47it/s]\u001b[A\n",
            " 83%|████████▎ | 2322/2808 [00:22<00:04, 110.80it/s]\u001b[A"
          ],
          "name": "stderr"
        },
        {
          "output_type": "stream",
          "text": [
            "| epoch   3 |  2300/ 2808 batches | lr 4.00 | loss  1.70 | ppl     5.45\n"
          ],
          "name": "stdout"
        },
        {
          "output_type": "stream",
          "text": [
            "\n",
            " 83%|████████▎ | 2334/2808 [00:22<00:04, 110.26it/s]\u001b[A\n",
            " 84%|████████▎ | 2346/2808 [00:22<00:04, 110.46it/s]\u001b[A\n",
            " 84%|████████▍ | 2358/2808 [00:22<00:04, 110.55it/s]\u001b[A\n",
            " 84%|████████▍ | 2370/2808 [00:22<00:03, 110.72it/s]\u001b[A\n",
            " 85%|████████▍ | 2382/2808 [00:22<00:03, 110.60it/s]\u001b[A\n",
            " 85%|████████▌ | 2394/2808 [00:22<00:03, 111.11it/s]\u001b[A\n",
            " 86%|████████▌ | 2406/2808 [00:23<00:03, 111.01it/s]\u001b[A\n",
            " 86%|████████▌ | 2418/2808 [00:23<00:03, 110.68it/s]\u001b[A"
          ],
          "name": "stderr"
        },
        {
          "output_type": "stream",
          "text": [
            "| epoch   3 |  2400/ 2808 batches | lr 4.00 | loss  1.68 | ppl     5.37\n"
          ],
          "name": "stdout"
        },
        {
          "output_type": "stream",
          "text": [
            "\n",
            " 87%|████████▋ | 2430/2808 [00:23<00:03, 110.94it/s]\u001b[A\n",
            " 87%|████████▋ | 2442/2808 [00:23<00:03, 110.94it/s]\u001b[A\n",
            " 87%|████████▋ | 2454/2808 [00:23<00:03, 111.09it/s]\u001b[A\n",
            " 88%|████████▊ | 2466/2808 [00:23<00:03, 110.58it/s]\u001b[A\n",
            " 88%|████████▊ | 2478/2808 [00:23<00:03, 108.10it/s]\u001b[A\n",
            " 89%|████████▊ | 2490/2808 [00:23<00:02, 108.87it/s]\u001b[A\n",
            " 89%|████████▉ | 2501/2808 [00:23<00:02, 108.94it/s]\u001b[A\n",
            " 89%|████████▉ | 2512/2808 [00:24<00:02, 108.73it/s]\u001b[A"
          ],
          "name": "stderr"
        },
        {
          "output_type": "stream",
          "text": [
            "| epoch   3 |  2500/ 2808 batches | lr 4.00 | loss  1.68 | ppl     5.37\n"
          ],
          "name": "stdout"
        },
        {
          "output_type": "stream",
          "text": [
            "\n",
            " 90%|████████▉ | 2523/2808 [00:24<00:02, 108.62it/s]\u001b[A\n",
            " 90%|█████████ | 2535/2808 [00:24<00:02, 109.75it/s]\u001b[A\n",
            " 91%|█████████ | 2546/2808 [00:24<00:02, 109.31it/s]\u001b[A\n",
            " 91%|█████████ | 2557/2808 [00:24<00:02, 109.39it/s]\u001b[A\n",
            " 91%|█████████▏| 2568/2808 [00:24<00:02, 109.20it/s]\u001b[A\n",
            " 92%|█████████▏| 2579/2808 [00:24<00:02, 109.09it/s]\u001b[A\n",
            " 92%|█████████▏| 2591/2808 [00:24<00:01, 109.54it/s]\u001b[A\n",
            " 93%|█████████▎| 2602/2808 [00:24<00:01, 108.70it/s]\u001b[A\n",
            " 93%|█████████▎| 2613/2808 [00:24<00:01, 108.26it/s]\u001b[A"
          ],
          "name": "stderr"
        },
        {
          "output_type": "stream",
          "text": [
            "| epoch   3 |  2600/ 2808 batches | lr 4.00 | loss  1.69 | ppl     5.41\n"
          ],
          "name": "stdout"
        },
        {
          "output_type": "stream",
          "text": [
            "\n",
            " 93%|█████████▎| 2624/2808 [00:25<00:01, 108.55it/s]\u001b[A\n",
            " 94%|█████████▍| 2636/2808 [00:25<00:01, 109.75it/s]\u001b[A\n",
            " 94%|█████████▍| 2647/2808 [00:25<00:01, 109.67it/s]\u001b[A\n",
            " 95%|█████████▍| 2659/2808 [00:25<00:01, 109.87it/s]\u001b[A\n",
            " 95%|█████████▌| 2671/2808 [00:25<00:01, 110.46it/s]\u001b[A\n",
            " 96%|█████████▌| 2683/2808 [00:25<00:01, 110.71it/s]\u001b[A\n",
            " 96%|█████████▌| 2695/2808 [00:25<00:01, 110.92it/s]\u001b[A\n",
            " 96%|█████████▋| 2707/2808 [00:25<00:00, 110.79it/s]\u001b[A\n",
            " 97%|█████████▋| 2719/2808 [00:25<00:00, 110.95it/s]\u001b[A"
          ],
          "name": "stderr"
        },
        {
          "output_type": "stream",
          "text": [
            "| epoch   3 |  2700/ 2808 batches | lr 4.00 | loss  1.68 | ppl     5.39\n"
          ],
          "name": "stdout"
        },
        {
          "output_type": "stream",
          "text": [
            "\n",
            " 97%|█████████▋| 2731/2808 [00:26<00:00, 111.14it/s]\u001b[A\n",
            " 98%|█████████▊| 2743/2808 [00:26<00:00, 110.18it/s]\u001b[A\n",
            " 98%|█████████▊| 2755/2808 [00:26<00:00, 109.99it/s]\u001b[A\n",
            " 99%|█████████▊| 2767/2808 [00:26<00:00, 110.51it/s]\u001b[A\n",
            " 99%|█████████▉| 2779/2808 [00:26<00:00, 110.39it/s]\u001b[A\n",
            " 99%|█████████▉| 2791/2808 [00:26<00:00, 110.50it/s]\u001b[A\n",
            "100%|██████████| 2808/2808 [00:26<00:00, 104.93it/s]\n",
            "\n",
            "  0%|          | 0/292 [00:00<?, ?it/s]\u001b[A"
          ],
          "name": "stderr"
        },
        {
          "output_type": "stream",
          "text": [
            "| epoch   3 |  2800/ 2808 batches | lr 4.00 | loss  1.67 | ppl     5.32\n"
          ],
          "name": "stdout"
        },
        {
          "output_type": "stream",
          "text": [
            "\n",
            "  0%|          | 1/292 [00:00<00:38,  7.49it/s]\u001b[A\n",
            " 17%|█▋        | 50/292 [00:00<00:22, 10.63it/s]\u001b[A\n",
            " 34%|███▍      | 100/292 [00:00<00:12, 15.05it/s]\u001b[A\n",
            " 51%|█████▏    | 150/292 [00:00<00:06, 21.23it/s]\u001b[A\n",
            " 68%|██████▊   | 200/292 [00:00<00:03, 29.77it/s]\u001b[A\n",
            "100%|██████████| 292/292 [00:00<00:00, 399.99it/s]\n",
            "\n",
            "  0%|          | 0/2808 [00:00<?, ?it/s]\u001b[A"
          ],
          "name": "stderr"
        },
        {
          "output_type": "stream",
          "text": [
            "-----------------------------------------------------------------------------------------\n",
            "| end of epoch   3 | valid loss  1.48 | valid ppl     4.38\n",
            "-----------------------------------------------------------------------------------------\n",
            "sample:\n",
            " themat , 1the o ff hesermall astolk> or teasury th \n",
            "\n"
          ],
          "name": "stdout"
        },
        {
          "output_type": "stream",
          "text": [
            "\n",
            "  0%|          | 1/2808 [00:01<1:01:06,  1.31s/it]\u001b[A\n",
            "  0%|          | 12/2808 [00:01<42:44,  1.09it/s] \u001b[A\n",
            "  1%|          | 23/2808 [00:01<29:55,  1.55it/s]\u001b[A\n",
            "  1%|          | 34/2808 [00:01<20:59,  2.20it/s]\u001b[A\n",
            "  2%|▏         | 45/2808 [00:01<14:45,  3.12it/s]\u001b[A\n",
            "  2%|▏         | 57/2808 [00:01<10:24,  4.40it/s]\u001b[A\n",
            "  2%|▏         | 69/2808 [00:01<07:22,  6.19it/s]\u001b[A\n",
            "  3%|▎         | 81/2808 [00:02<05:15,  8.63it/s]\u001b[A\n",
            "  3%|▎         | 93/2808 [00:02<03:47, 11.93it/s]\u001b[A\n",
            "  4%|▎         | 104/2808 [00:02<02:46, 16.29it/s]\u001b[A\n",
            "  4%|▍         | 115/2808 [00:02<02:03, 21.80it/s]\u001b[A"
          ],
          "name": "stderr"
        },
        {
          "output_type": "stream",
          "text": [
            "| epoch   4 |   100/ 2808 batches | lr 4.00 | loss  1.69 | ppl     5.43\n"
          ],
          "name": "stdout"
        },
        {
          "output_type": "stream",
          "text": [
            "\n",
            "  5%|▍         | 127/2808 [00:02<01:33, 28.72it/s]\u001b[A\n",
            "  5%|▍         | 139/2808 [00:02<01:12, 36.95it/s]\u001b[A\n",
            "  5%|▌         | 150/2808 [00:02<00:57, 46.10it/s]\u001b[A\n",
            "  6%|▌         | 162/2808 [00:02<00:47, 56.03it/s]\u001b[A\n",
            "  6%|▌         | 174/2808 [00:02<00:39, 65.98it/s]\u001b[A\n",
            "  7%|▋         | 186/2808 [00:02<00:35, 74.82it/s]\u001b[A\n",
            "  7%|▋         | 198/2808 [00:03<00:31, 82.48it/s]\u001b[A\n",
            "  7%|▋         | 210/2808 [00:03<00:28, 89.71it/s]\u001b[A\n",
            "  8%|▊         | 222/2808 [00:03<00:27, 94.82it/s]\u001b[A"
          ],
          "name": "stderr"
        },
        {
          "output_type": "stream",
          "text": [
            "| epoch   4 |   200/ 2808 batches | lr 4.00 | loss  1.67 | ppl     5.30\n"
          ],
          "name": "stdout"
        },
        {
          "output_type": "stream",
          "text": [
            "\n",
            "  8%|▊         | 234/2808 [00:03<00:25, 99.69it/s]\u001b[A\n",
            "  9%|▉         | 246/2808 [00:03<00:24, 102.79it/s]\u001b[A\n",
            "  9%|▉         | 258/2808 [00:03<00:24, 105.40it/s]\u001b[A\n",
            " 10%|▉         | 270/2808 [00:03<00:23, 107.53it/s]\u001b[A\n",
            " 10%|█         | 282/2808 [00:03<00:23, 109.08it/s]\u001b[A\n",
            " 10%|█         | 294/2808 [00:03<00:23, 108.23it/s]\u001b[A\n",
            " 11%|█         | 306/2808 [00:04<00:22, 109.04it/s]\u001b[A\n",
            " 11%|█▏        | 318/2808 [00:04<00:22, 109.24it/s]\u001b[A"
          ],
          "name": "stderr"
        },
        {
          "output_type": "stream",
          "text": [
            "| epoch   4 |   300/ 2808 batches | lr 4.00 | loss  1.67 | ppl     5.32\n"
          ],
          "name": "stdout"
        },
        {
          "output_type": "stream",
          "text": [
            "\n",
            " 12%|█▏        | 330/2808 [00:04<00:22, 108.63it/s]\u001b[A\n",
            " 12%|█▏        | 342/2808 [00:04<00:22, 110.13it/s]\u001b[A\n",
            " 13%|█▎        | 354/2808 [00:04<00:22, 110.13it/s]\u001b[A\n",
            " 13%|█▎        | 366/2808 [00:04<00:22, 109.65it/s]\u001b[A\n",
            " 13%|█▎        | 378/2808 [00:04<00:21, 110.60it/s]\u001b[A\n",
            " 14%|█▍        | 390/2808 [00:04<00:21, 111.34it/s]\u001b[A\n",
            " 14%|█▍        | 402/2808 [00:04<00:21, 111.47it/s]\u001b[A\n",
            " 15%|█▍        | 414/2808 [00:05<00:21, 109.46it/s]\u001b[A"
          ],
          "name": "stderr"
        },
        {
          "output_type": "stream",
          "text": [
            "| epoch   4 |   400/ 2808 batches | lr 4.00 | loss  1.67 | ppl     5.32\n"
          ],
          "name": "stdout"
        },
        {
          "output_type": "stream",
          "text": [
            "\n",
            " 15%|█▌        | 426/2808 [00:05<00:21, 109.94it/s]\u001b[A\n",
            " 16%|█▌        | 438/2808 [00:05<00:21, 110.62it/s]\u001b[A\n",
            " 16%|█▌        | 450/2808 [00:05<00:21, 110.91it/s]\u001b[A\n",
            " 16%|█▋        | 462/2808 [00:05<00:21, 111.35it/s]\u001b[A\n",
            " 17%|█▋        | 474/2808 [00:05<00:21, 110.99it/s]\u001b[A\n",
            " 17%|█▋        | 486/2808 [00:05<00:20, 110.95it/s]\u001b[A\n",
            " 18%|█▊        | 498/2808 [00:05<00:20, 111.33it/s]\u001b[A\n",
            " 18%|█▊        | 510/2808 [00:05<00:20, 110.71it/s]\u001b[A\n",
            " 19%|█▊        | 522/2808 [00:06<00:20, 110.72it/s]\u001b[A"
          ],
          "name": "stderr"
        },
        {
          "output_type": "stream",
          "text": [
            "| epoch   4 |   500/ 2808 batches | lr 4.00 | loss  1.67 | ppl     5.30\n"
          ],
          "name": "stdout"
        },
        {
          "output_type": "stream",
          "text": [
            "\n",
            " 19%|█▉        | 534/2808 [00:06<00:20, 111.15it/s]\u001b[A\n",
            " 19%|█▉        | 546/2808 [00:06<00:20, 111.55it/s]\u001b[A\n",
            " 20%|█▉        | 558/2808 [00:06<00:20, 110.84it/s]\u001b[A\n",
            " 20%|██        | 570/2808 [00:06<00:20, 110.66it/s]\u001b[A\n",
            " 21%|██        | 582/2808 [00:06<00:20, 110.21it/s]\u001b[A\n",
            " 21%|██        | 594/2808 [00:06<00:20, 110.27it/s]\u001b[A\n",
            " 22%|██▏       | 606/2808 [00:06<00:19, 110.17it/s]\u001b[A\n",
            " 22%|██▏       | 618/2808 [00:06<00:19, 109.69it/s]\u001b[A"
          ],
          "name": "stderr"
        },
        {
          "output_type": "stream",
          "text": [
            "| epoch   4 |   600/ 2808 batches | lr 4.00 | loss  1.66 | ppl     5.28\n"
          ],
          "name": "stdout"
        },
        {
          "output_type": "stream",
          "text": [
            "\n",
            " 22%|██▏       | 629/2808 [00:06<00:19, 109.14it/s]\u001b[A\n",
            " 23%|██▎       | 641/2808 [00:07<00:19, 110.05it/s]\u001b[A\n",
            " 23%|██▎       | 653/2808 [00:07<00:19, 109.88it/s]\u001b[A\n",
            " 24%|██▎       | 665/2808 [00:07<00:19, 110.82it/s]\u001b[A\n",
            " 24%|██▍       | 677/2808 [00:07<00:19, 111.10it/s]\u001b[A\n",
            " 25%|██▍       | 689/2808 [00:07<00:19, 110.76it/s]\u001b[A\n",
            " 25%|██▍       | 701/2808 [00:07<00:19, 110.77it/s]\u001b[A\n",
            " 25%|██▌       | 713/2808 [00:07<00:19, 109.54it/s]\u001b[A"
          ],
          "name": "stderr"
        },
        {
          "output_type": "stream",
          "text": [
            "| epoch   4 |   700/ 2808 batches | lr 4.00 | loss  1.66 | ppl     5.28\n"
          ],
          "name": "stdout"
        },
        {
          "output_type": "stream",
          "text": [
            "\n",
            " 26%|██▌       | 724/2808 [00:07<00:19, 109.32it/s]\u001b[A\n",
            " 26%|██▌       | 735/2808 [00:07<00:18, 109.50it/s]\u001b[A\n",
            " 27%|██▋       | 747/2808 [00:08<00:18, 110.40it/s]\u001b[A\n",
            " 27%|██▋       | 759/2808 [00:08<00:18, 110.53it/s]\u001b[A\n",
            " 27%|██▋       | 771/2808 [00:08<00:18, 110.53it/s]\u001b[A\n",
            " 28%|██▊       | 783/2808 [00:08<00:18, 110.56it/s]\u001b[A\n",
            " 28%|██▊       | 795/2808 [00:08<00:18, 111.14it/s]\u001b[A\n",
            " 29%|██▊       | 807/2808 [00:08<00:17, 111.78it/s]\u001b[A\n",
            " 29%|██▉       | 819/2808 [00:08<00:17, 111.95it/s]\u001b[A"
          ],
          "name": "stderr"
        },
        {
          "output_type": "stream",
          "text": [
            "| epoch   4 |   800/ 2808 batches | lr 4.00 | loss  1.66 | ppl     5.26\n"
          ],
          "name": "stdout"
        },
        {
          "output_type": "stream",
          "text": [
            "\n",
            " 30%|██▉       | 831/2808 [00:08<00:17, 111.77it/s]\u001b[A\n",
            " 30%|███       | 843/2808 [00:08<00:17, 111.12it/s]\u001b[A\n",
            " 30%|███       | 855/2808 [00:09<00:17, 110.91it/s]\u001b[A\n",
            " 31%|███       | 867/2808 [00:09<00:17, 111.34it/s]\u001b[A\n",
            " 31%|███▏      | 879/2808 [00:09<00:17, 110.43it/s]\u001b[A\n",
            " 32%|███▏      | 891/2808 [00:09<00:17, 111.20it/s]\u001b[A\n",
            " 32%|███▏      | 903/2808 [00:09<00:17, 110.44it/s]\u001b[A\n",
            " 33%|███▎      | 915/2808 [00:09<00:17, 111.15it/s]\u001b[A"
          ],
          "name": "stderr"
        },
        {
          "output_type": "stream",
          "text": [
            "| epoch   4 |   900/ 2808 batches | lr 4.00 | loss  1.66 | ppl     5.26\n"
          ],
          "name": "stdout"
        },
        {
          "output_type": "stream",
          "text": [
            "\n",
            " 33%|███▎      | 927/2808 [00:09<00:16, 111.21it/s]\u001b[A\n",
            " 33%|███▎      | 939/2808 [00:09<00:17, 109.80it/s]\u001b[A\n",
            " 34%|███▍      | 950/2808 [00:09<00:17, 109.04it/s]\u001b[A\n",
            " 34%|███▍      | 961/2808 [00:09<00:16, 109.18it/s]\u001b[A\n",
            " 35%|███▍      | 972/2808 [00:10<00:17, 107.98it/s]\u001b[A\n",
            " 35%|███▌      | 983/2808 [00:10<00:16, 108.55it/s]\u001b[A\n",
            " 35%|███▌      | 995/2808 [00:10<00:16, 109.31it/s]\u001b[A\n",
            " 36%|███▌      | 1007/2808 [00:10<00:16, 110.32it/s]\u001b[A\n",
            " 36%|███▋      | 1019/2808 [00:10<00:16, 110.13it/s]\u001b[A"
          ],
          "name": "stderr"
        },
        {
          "output_type": "stream",
          "text": [
            "| epoch   4 |  1000/ 2808 batches | lr 4.00 | loss  1.66 | ppl     5.25\n"
          ],
          "name": "stdout"
        },
        {
          "output_type": "stream",
          "text": [
            "\n",
            " 37%|███▋      | 1031/2808 [00:10<00:16, 110.69it/s]\u001b[A\n",
            " 37%|███▋      | 1043/2808 [00:10<00:15, 111.00it/s]\u001b[A\n",
            " 38%|███▊      | 1055/2808 [00:10<00:15, 110.95it/s]\u001b[A\n",
            " 38%|███▊      | 1067/2808 [00:10<00:15, 111.63it/s]\u001b[A\n",
            " 38%|███▊      | 1079/2808 [00:11<00:15, 111.10it/s]\u001b[A\n",
            " 39%|███▉      | 1091/2808 [00:11<00:15, 111.70it/s]\u001b[A\n",
            " 39%|███▉      | 1103/2808 [00:11<00:15, 111.82it/s]\u001b[A\n",
            " 40%|███▉      | 1115/2808 [00:11<00:15, 112.06it/s]\u001b[A"
          ],
          "name": "stderr"
        },
        {
          "output_type": "stream",
          "text": [
            "| epoch   4 |  1100/ 2808 batches | lr 4.00 | loss  1.66 | ppl     5.23\n"
          ],
          "name": "stdout"
        },
        {
          "output_type": "stream",
          "text": [
            "\n",
            " 40%|████      | 1127/2808 [00:11<00:15, 111.22it/s]\u001b[A\n",
            " 41%|████      | 1139/2808 [00:11<00:14, 111.30it/s]\u001b[A\n",
            " 41%|████      | 1151/2808 [00:11<00:14, 111.14it/s]\u001b[A\n",
            " 41%|████▏     | 1163/2808 [00:11<00:14, 109.84it/s]\u001b[A\n",
            " 42%|████▏     | 1174/2808 [00:11<00:14, 109.65it/s]\u001b[A\n",
            " 42%|████▏     | 1185/2808 [00:12<00:14, 109.15it/s]\u001b[A\n",
            " 43%|████▎     | 1196/2808 [00:12<00:14, 107.69it/s]\u001b[A\n",
            " 43%|████▎     | 1208/2808 [00:12<00:14, 109.06it/s]\u001b[A\n",
            " 43%|████▎     | 1219/2808 [00:12<00:14, 109.10it/s]\u001b[A"
          ],
          "name": "stderr"
        },
        {
          "output_type": "stream",
          "text": [
            "| epoch   4 |  1200/ 2808 batches | lr 4.00 | loss  1.66 | ppl     5.27\n"
          ],
          "name": "stdout"
        },
        {
          "output_type": "stream",
          "text": [
            "\n",
            " 44%|████▍     | 1230/2808 [00:12<00:14, 108.70it/s]\u001b[A\n",
            " 44%|████▍     | 1241/2808 [00:12<00:14, 108.08it/s]\u001b[A\n",
            " 45%|████▍     | 1252/2808 [00:12<00:14, 107.64it/s]\u001b[A\n",
            " 45%|████▌     | 1264/2808 [00:12<00:14, 108.51it/s]\u001b[A\n",
            " 45%|████▌     | 1275/2808 [00:12<00:14, 108.33it/s]\u001b[A\n",
            " 46%|████▌     | 1287/2808 [00:12<00:13, 109.04it/s]\u001b[A\n",
            " 46%|████▌     | 1298/2808 [00:13<00:13, 109.15it/s]\u001b[A\n",
            " 47%|████▋     | 1310/2808 [00:13<00:13, 109.77it/s]\u001b[A\n",
            " 47%|████▋     | 1322/2808 [00:13<00:13, 110.17it/s]\u001b[A"
          ],
          "name": "stderr"
        },
        {
          "output_type": "stream",
          "text": [
            "| epoch   4 |  1300/ 2808 batches | lr 4.00 | loss  1.65 | ppl     5.23\n"
          ],
          "name": "stdout"
        },
        {
          "output_type": "stream",
          "text": [
            "\n",
            " 48%|████▊     | 1334/2808 [00:13<00:13, 110.64it/s]\u001b[A\n",
            " 48%|████▊     | 1346/2808 [00:13<00:13, 110.40it/s]\u001b[A\n",
            " 48%|████▊     | 1358/2808 [00:13<00:13, 110.86it/s]\u001b[A\n",
            " 49%|████▉     | 1370/2808 [00:13<00:12, 110.83it/s]\u001b[A\n",
            " 49%|████▉     | 1382/2808 [00:13<00:12, 111.79it/s]\u001b[A\n",
            " 50%|████▉     | 1394/2808 [00:13<00:12, 112.10it/s]\u001b[A\n",
            " 50%|█████     | 1406/2808 [00:14<00:12, 111.65it/s]\u001b[A\n",
            " 50%|█████     | 1418/2808 [00:14<00:12, 111.09it/s]\u001b[A"
          ],
          "name": "stderr"
        },
        {
          "output_type": "stream",
          "text": [
            "| epoch   4 |  1400/ 2808 batches | lr 4.00 | loss  1.64 | ppl     5.15\n"
          ],
          "name": "stdout"
        },
        {
          "output_type": "stream",
          "text": [
            "\n",
            " 51%|█████     | 1430/2808 [00:14<00:12, 111.07it/s]\u001b[A\n",
            " 51%|█████▏    | 1442/2808 [00:14<00:12, 110.92it/s]\u001b[A\n",
            " 52%|█████▏    | 1454/2808 [00:14<00:12, 111.10it/s]\u001b[A\n",
            " 52%|█████▏    | 1466/2808 [00:14<00:12, 110.90it/s]\u001b[A\n",
            " 53%|█████▎    | 1478/2808 [00:14<00:11, 111.10it/s]\u001b[A\n",
            " 53%|█████▎    | 1490/2808 [00:14<00:11, 111.21it/s]\u001b[A\n",
            " 53%|█████▎    | 1502/2808 [00:14<00:11, 110.25it/s]\u001b[A\n",
            " 54%|█████▍    | 1514/2808 [00:15<00:11, 110.55it/s]\u001b[A"
          ],
          "name": "stderr"
        },
        {
          "output_type": "stream",
          "text": [
            "| epoch   4 |  1500/ 2808 batches | lr 4.00 | loss  1.65 | ppl     5.19\n"
          ],
          "name": "stdout"
        },
        {
          "output_type": "stream",
          "text": [
            "\n",
            " 54%|█████▍    | 1526/2808 [00:15<00:11, 109.73it/s]\u001b[A\n",
            " 55%|█████▍    | 1538/2808 [00:15<00:11, 110.62it/s]\u001b[A\n",
            " 55%|█████▌    | 1550/2808 [00:15<00:11, 111.02it/s]\u001b[A\n",
            " 56%|█████▌    | 1562/2808 [00:15<00:11, 110.67it/s]\u001b[A\n",
            " 56%|█████▌    | 1574/2808 [00:15<00:11, 110.72it/s]\u001b[A\n",
            " 56%|█████▋    | 1586/2808 [00:15<00:10, 111.18it/s]\u001b[A\n",
            " 57%|█████▋    | 1598/2808 [00:15<00:10, 111.28it/s]\u001b[A\n",
            " 57%|█████▋    | 1610/2808 [00:15<00:10, 111.23it/s]\u001b[A\n",
            " 58%|█████▊    | 1622/2808 [00:15<00:10, 111.81it/s]\u001b[A"
          ],
          "name": "stderr"
        },
        {
          "output_type": "stream",
          "text": [
            "| epoch   4 |  1600/ 2808 batches | lr 4.00 | loss  1.65 | ppl     5.21\n"
          ],
          "name": "stdout"
        },
        {
          "output_type": "stream",
          "text": [
            "\n",
            " 58%|█████▊    | 1634/2808 [00:16<00:10, 111.45it/s]\u001b[A\n",
            " 59%|█████▊    | 1646/2808 [00:16<00:10, 111.57it/s]\u001b[A\n",
            " 59%|█████▉    | 1658/2808 [00:16<00:10, 111.68it/s]\u001b[A\n",
            " 59%|█████▉    | 1670/2808 [00:16<00:10, 111.86it/s]\u001b[A\n",
            " 60%|█████▉    | 1682/2808 [00:16<00:10, 111.63it/s]\u001b[A\n",
            " 60%|██████    | 1694/2808 [00:16<00:10, 110.99it/s]\u001b[A\n",
            " 61%|██████    | 1706/2808 [00:16<00:09, 110.37it/s]\u001b[A\n",
            " 61%|██████    | 1718/2808 [00:16<00:09, 110.32it/s]\u001b[A"
          ],
          "name": "stderr"
        },
        {
          "output_type": "stream",
          "text": [
            "| epoch   4 |  1700/ 2808 batches | lr 4.00 | loss  1.64 | ppl     5.18\n"
          ],
          "name": "stdout"
        },
        {
          "output_type": "stream",
          "text": [
            "\n",
            " 62%|██████▏   | 1730/2808 [00:16<00:09, 110.66it/s]\u001b[A\n",
            " 62%|██████▏   | 1742/2808 [00:17<00:09, 110.61it/s]\u001b[A\n",
            " 62%|██████▏   | 1754/2808 [00:17<00:09, 111.06it/s]\u001b[A\n",
            " 63%|██████▎   | 1766/2808 [00:17<00:09, 111.29it/s]\u001b[A\n",
            " 63%|██████▎   | 1778/2808 [00:17<00:09, 111.10it/s]\u001b[A\n",
            " 64%|██████▎   | 1790/2808 [00:17<00:09, 110.85it/s]\u001b[A\n",
            " 64%|██████▍   | 1802/2808 [00:17<00:09, 109.99it/s]\u001b[A\n",
            " 65%|██████▍   | 1814/2808 [00:17<00:09, 109.63it/s]\u001b[A"
          ],
          "name": "stderr"
        },
        {
          "output_type": "stream",
          "text": [
            "| epoch   4 |  1800/ 2808 batches | lr 4.00 | loss  1.64 | ppl     5.18\n"
          ],
          "name": "stdout"
        },
        {
          "output_type": "stream",
          "text": [
            "\n",
            " 65%|██████▍   | 1825/2808 [00:17<00:08, 109.59it/s]\u001b[A\n",
            " 65%|██████▌   | 1837/2808 [00:17<00:08, 110.24it/s]\u001b[A\n",
            " 66%|██████▌   | 1849/2808 [00:18<00:08, 110.55it/s]\u001b[A\n",
            " 66%|██████▋   | 1861/2808 [00:18<00:08, 110.19it/s]\u001b[A\n",
            " 67%|██████▋   | 1873/2808 [00:18<00:08, 110.12it/s]\u001b[A\n",
            " 67%|██████▋   | 1885/2808 [00:18<00:08, 110.51it/s]\u001b[A\n",
            " 68%|██████▊   | 1897/2808 [00:18<00:08, 110.82it/s]\u001b[A\n",
            " 68%|██████▊   | 1909/2808 [00:18<00:08, 110.53it/s]\u001b[A\n",
            " 68%|██████▊   | 1921/2808 [00:18<00:08, 109.92it/s]\u001b[A"
          ],
          "name": "stderr"
        },
        {
          "output_type": "stream",
          "text": [
            "| epoch   4 |  1900/ 2808 batches | lr 4.00 | loss  1.66 | ppl     5.23\n"
          ],
          "name": "stdout"
        },
        {
          "output_type": "stream",
          "text": [
            "\n",
            " 69%|██████▉   | 1932/2808 [00:18<00:07, 109.65it/s]\u001b[A\n",
            " 69%|██████▉   | 1943/2808 [00:18<00:07, 109.55it/s]\u001b[A\n",
            " 70%|██████▉   | 1955/2808 [00:18<00:07, 110.20it/s]\u001b[A\n",
            " 70%|███████   | 1967/2808 [00:19<00:07, 110.39it/s]\u001b[A\n",
            " 70%|███████   | 1979/2808 [00:19<00:07, 109.61it/s]\u001b[A\n",
            " 71%|███████   | 1990/2808 [00:19<00:07, 109.06it/s]\u001b[A\n",
            " 71%|███████▏  | 2002/2808 [00:19<00:07, 109.77it/s]\u001b[A\n",
            " 72%|███████▏  | 2013/2808 [00:19<00:07, 108.90it/s]\u001b[A"
          ],
          "name": "stderr"
        },
        {
          "output_type": "stream",
          "text": [
            "| epoch   4 |  2000/ 2808 batches | lr 4.00 | loss  1.64 | ppl     5.17\n"
          ],
          "name": "stdout"
        },
        {
          "output_type": "stream",
          "text": [
            "\n",
            " 72%|███████▏  | 2024/2808 [00:19<00:07, 108.92it/s]\u001b[A\n",
            " 73%|███████▎  | 2036/2808 [00:19<00:07, 110.10it/s]\u001b[A\n",
            " 73%|███████▎  | 2048/2808 [00:19<00:06, 110.72it/s]\u001b[A\n",
            " 73%|███████▎  | 2060/2808 [00:19<00:06, 110.91it/s]\u001b[A\n",
            " 74%|███████▍  | 2072/2808 [00:20<00:06, 111.89it/s]\u001b[A\n",
            " 74%|███████▍  | 2084/2808 [00:20<00:06, 111.37it/s]\u001b[A\n",
            " 75%|███████▍  | 2096/2808 [00:20<00:06, 111.42it/s]\u001b[A\n",
            " 75%|███████▌  | 2108/2808 [00:20<00:06, 111.54it/s]\u001b[A\n",
            " 75%|███████▌  | 2120/2808 [00:20<00:06, 111.44it/s]\u001b[A"
          ],
          "name": "stderr"
        },
        {
          "output_type": "stream",
          "text": [
            "| epoch   4 |  2100/ 2808 batches | lr 4.00 | loss  1.65 | ppl     5.21\n"
          ],
          "name": "stdout"
        },
        {
          "output_type": "stream",
          "text": [
            "\n",
            " 76%|███████▌  | 2132/2808 [00:20<00:06, 111.02it/s]\u001b[A\n",
            " 76%|███████▋  | 2144/2808 [00:20<00:06, 110.01it/s]\u001b[A\n",
            " 77%|███████▋  | 2156/2808 [00:20<00:06, 108.34it/s]\u001b[A\n",
            " 77%|███████▋  | 2168/2808 [00:20<00:05, 109.06it/s]\u001b[A\n",
            " 78%|███████▊  | 2180/2808 [00:21<00:05, 110.46it/s]\u001b[A\n",
            " 78%|███████▊  | 2192/2808 [00:21<00:05, 110.88it/s]\u001b[A\n",
            " 78%|███████▊  | 2204/2808 [00:21<00:05, 110.11it/s]\u001b[A\n",
            " 79%|███████▉  | 2216/2808 [00:21<00:05, 110.22it/s]\u001b[A"
          ],
          "name": "stderr"
        },
        {
          "output_type": "stream",
          "text": [
            "| epoch   4 |  2200/ 2808 batches | lr 4.00 | loss  1.64 | ppl     5.17\n"
          ],
          "name": "stdout"
        },
        {
          "output_type": "stream",
          "text": [
            "\n",
            " 79%|███████▉  | 2228/2808 [00:21<00:05, 111.02it/s]\u001b[A\n",
            " 80%|███████▉  | 2240/2808 [00:21<00:05, 111.10it/s]\u001b[A\n",
            " 80%|████████  | 2252/2808 [00:21<00:05, 110.90it/s]\u001b[A\n",
            " 81%|████████  | 2264/2808 [00:21<00:04, 111.37it/s]\u001b[A\n",
            " 81%|████████  | 2276/2808 [00:21<00:04, 110.38it/s]\u001b[A\n",
            " 81%|████████▏ | 2288/2808 [00:22<00:04, 110.49it/s]\u001b[A\n",
            " 82%|████████▏ | 2300/2808 [00:22<00:04, 110.96it/s]\u001b[A\n",
            " 82%|████████▏ | 2312/2808 [00:22<00:04, 110.25it/s]\u001b[A"
          ],
          "name": "stderr"
        },
        {
          "output_type": "stream",
          "text": [
            "| epoch   4 |  2300/ 2808 batches | lr 4.00 | loss  1.65 | ppl     5.19\n"
          ],
          "name": "stdout"
        },
        {
          "output_type": "stream",
          "text": [
            "\n",
            " 83%|████████▎ | 2324/2808 [00:22<00:04, 110.31it/s]\u001b[A\n",
            " 83%|████████▎ | 2336/2808 [00:22<00:04, 111.37it/s]\u001b[A\n",
            " 84%|████████▎ | 2348/2808 [00:22<00:04, 109.76it/s]\u001b[A\n",
            " 84%|████████▍ | 2360/2808 [00:22<00:04, 110.14it/s]\u001b[A\n",
            " 84%|████████▍ | 2372/2808 [00:22<00:03, 110.33it/s]\u001b[A\n",
            " 85%|████████▍ | 2384/2808 [00:22<00:03, 110.49it/s]\u001b[A\n",
            " 85%|████████▌ | 2396/2808 [00:22<00:03, 111.55it/s]\u001b[A\n",
            " 86%|████████▌ | 2408/2808 [00:23<00:03, 111.17it/s]\u001b[A\n",
            " 86%|████████▌ | 2420/2808 [00:23<00:03, 111.15it/s]\u001b[A"
          ],
          "name": "stderr"
        },
        {
          "output_type": "stream",
          "text": [
            "| epoch   4 |  2400/ 2808 batches | lr 4.00 | loss  1.63 | ppl     5.12\n"
          ],
          "name": "stdout"
        },
        {
          "output_type": "stream",
          "text": [
            "\n",
            " 87%|████████▋ | 2432/2808 [00:23<00:03, 109.98it/s]\u001b[A\n",
            " 87%|████████▋ | 2444/2808 [00:23<00:03, 110.15it/s]\u001b[A\n",
            " 87%|████████▋ | 2456/2808 [00:23<00:03, 110.28it/s]\u001b[A\n",
            " 88%|████████▊ | 2468/2808 [00:23<00:03, 110.36it/s]\u001b[A\n",
            " 88%|████████▊ | 2480/2808 [00:23<00:03, 109.05it/s]\u001b[A\n",
            " 89%|████████▊ | 2492/2808 [00:23<00:02, 109.94it/s]\u001b[A\n",
            " 89%|████████▉ | 2503/2808 [00:23<00:02, 109.64it/s]\u001b[A\n",
            " 90%|████████▉ | 2515/2808 [00:24<00:02, 110.30it/s]\u001b[A"
          ],
          "name": "stderr"
        },
        {
          "output_type": "stream",
          "text": [
            "| epoch   4 |  2500/ 2808 batches | lr 4.00 | loss  1.63 | ppl     5.12\n"
          ],
          "name": "stdout"
        },
        {
          "output_type": "stream",
          "text": [
            "\n",
            " 90%|████████▉ | 2527/2808 [00:24<00:02, 109.32it/s]\u001b[A\n",
            " 90%|█████████ | 2538/2808 [00:24<00:02, 109.29it/s]\u001b[A\n",
            " 91%|█████████ | 2549/2808 [00:24<00:02, 108.83it/s]\u001b[A\n",
            " 91%|█████████ | 2561/2808 [00:24<00:02, 109.57it/s]\u001b[A\n",
            " 92%|█████████▏| 2572/2808 [00:24<00:02, 109.69it/s]\u001b[A\n",
            " 92%|█████████▏| 2583/2808 [00:24<00:02, 107.71it/s]\u001b[A\n",
            " 92%|█████████▏| 2595/2808 [00:24<00:01, 109.13it/s]\u001b[A\n",
            " 93%|█████████▎| 2607/2808 [00:24<00:01, 109.65it/s]\u001b[A\n",
            " 93%|█████████▎| 2618/2808 [00:25<00:01, 109.61it/s]\u001b[A"
          ],
          "name": "stderr"
        },
        {
          "output_type": "stream",
          "text": [
            "| epoch   4 |  2600/ 2808 batches | lr 4.00 | loss  1.64 | ppl     5.17\n"
          ],
          "name": "stdout"
        },
        {
          "output_type": "stream",
          "text": [
            "\n",
            " 94%|█████████▎| 2630/2808 [00:25<00:01, 110.91it/s]\u001b[A\n",
            " 94%|█████████▍| 2642/2808 [00:25<00:01, 111.08it/s]\u001b[A\n",
            " 95%|█████████▍| 2654/2808 [00:25<00:01, 111.07it/s]\u001b[A\n",
            " 95%|█████████▍| 2666/2808 [00:25<00:01, 111.21it/s]\u001b[A\n",
            " 95%|█████████▌| 2678/2808 [00:25<00:01, 111.11it/s]\u001b[A\n",
            " 96%|█████████▌| 2690/2808 [00:25<00:01, 110.42it/s]\u001b[A\n",
            " 96%|█████████▌| 2702/2808 [00:25<00:00, 110.61it/s]\u001b[A\n",
            " 97%|█████████▋| 2714/2808 [00:25<00:00, 108.62it/s]\u001b[A"
          ],
          "name": "stderr"
        },
        {
          "output_type": "stream",
          "text": [
            "| epoch   4 |  2700/ 2808 batches | lr 4.00 | loss  1.64 | ppl     5.16\n"
          ],
          "name": "stdout"
        },
        {
          "output_type": "stream",
          "text": [
            "\n",
            " 97%|█████████▋| 2726/2808 [00:25<00:00, 109.31it/s]\u001b[A\n",
            " 97%|█████████▋| 2737/2808 [00:26<00:00, 109.31it/s]\u001b[A\n",
            " 98%|█████████▊| 2749/2808 [00:26<00:00, 110.16it/s]\u001b[A\n",
            " 98%|█████████▊| 2761/2808 [00:26<00:00, 109.52it/s]\u001b[A\n",
            " 99%|█████████▉| 2773/2808 [00:26<00:00, 110.05it/s]\u001b[A\n",
            " 99%|█████████▉| 2785/2808 [00:26<00:00, 110.60it/s]\u001b[A\n",
            "100%|██████████| 2808/2808 [00:26<00:00, 105.01it/s]\n",
            "\n",
            "  0%|          | 0/292 [00:00<?, ?it/s]\u001b[A"
          ],
          "name": "stderr"
        },
        {
          "output_type": "stream",
          "text": [
            "| epoch   4 |  2800/ 2808 batches | lr 4.00 | loss  1.63 | ppl     5.09\n"
          ],
          "name": "stdout"
        },
        {
          "output_type": "stream",
          "text": [
            "\n",
            "  0%|          | 1/292 [00:00<00:41,  6.97it/s]\u001b[A\n",
            " 17%|█▋        | 50/292 [00:00<00:24,  9.90it/s]\u001b[A\n",
            " 34%|███▍      | 100/292 [00:00<00:13, 14.02it/s]\u001b[A\n",
            " 51%|█████▏    | 150/292 [00:00<00:07, 19.79it/s]\u001b[A\n",
            " 68%|██████▊   | 199/292 [00:00<00:03, 27.78it/s]\u001b[A\n",
            "100%|██████████| 292/292 [00:00<00:00, 394.12it/s]\n",
            "\n",
            "  0%|          | 0/2808 [00:00<?, ?it/s]\u001b[A"
          ],
          "name": "stderr"
        },
        {
          "output_type": "stream",
          "text": [
            "-----------------------------------------------------------------------------------------\n",
            "| end of epoch   4 | valid loss  1.44 | valid ppl     4.21\n",
            "-----------------------------------------------------------------------------------------\n",
            "sample:\n",
            " lepthe , ty . obung teedkne hthean de = tonthes he \n",
            "\n"
          ],
          "name": "stdout"
        },
        {
          "output_type": "stream",
          "text": [
            "\n",
            "  0%|          | 1/2808 [00:01<1:00:52,  1.30s/it]\u001b[A\n",
            "  0%|          | 13/2808 [00:01<42:33,  1.09it/s] \u001b[A\n",
            "  1%|          | 25/2808 [00:01<29:47,  1.56it/s]\u001b[A\n",
            "  1%|▏         | 37/2808 [00:01<20:52,  2.21it/s]\u001b[A\n",
            "  2%|▏         | 49/2808 [00:01<14:40,  3.13it/s]\u001b[A\n",
            "  2%|▏         | 61/2808 [00:01<10:21,  4.42it/s]\u001b[A\n",
            "  3%|▎         | 72/2808 [00:01<07:20,  6.21it/s]\u001b[A\n",
            "  3%|▎         | 84/2808 [00:02<05:14,  8.66it/s]\u001b[A\n",
            "  3%|▎         | 96/2808 [00:02<03:46, 11.98it/s]\u001b[A\n",
            "  4%|▍         | 108/2808 [00:02<02:45, 16.36it/s]\u001b[A\n",
            "  4%|▍         | 120/2808 [00:02<02:02, 21.99it/s]\u001b[A"
          ],
          "name": "stderr"
        },
        {
          "output_type": "stream",
          "text": [
            "| epoch   5 |   100/ 2808 batches | lr 4.00 | loss  1.65 | ppl     5.20\n"
          ],
          "name": "stdout"
        },
        {
          "output_type": "stream",
          "text": [
            "\n",
            "  5%|▍         | 132/2808 [00:02<01:32, 28.97it/s]\u001b[A\n",
            "  5%|▌         | 144/2808 [00:02<01:11, 37.27it/s]\u001b[A\n",
            "  6%|▌         | 156/2808 [00:02<00:56, 46.55it/s]\u001b[A\n",
            "  6%|▌         | 168/2808 [00:02<00:46, 56.43it/s]\u001b[A\n",
            "  6%|▋         | 180/2808 [00:02<00:39, 66.38it/s]\u001b[A\n",
            "  7%|▋         | 192/2808 [00:03<00:34, 75.39it/s]\u001b[A\n",
            "  7%|▋         | 204/2808 [00:03<00:31, 83.60it/s]\u001b[A\n",
            "  8%|▊         | 216/2808 [00:03<00:28, 90.12it/s]\u001b[A"
          ],
          "name": "stderr"
        },
        {
          "output_type": "stream",
          "text": [
            "| epoch   5 |   200/ 2808 batches | lr 4.00 | loss  1.63 | ppl     5.08\n"
          ],
          "name": "stdout"
        },
        {
          "output_type": "stream",
          "text": [
            "\n",
            "  8%|▊         | 228/2808 [00:03<00:27, 95.41it/s]\u001b[A\n",
            "  9%|▊         | 240/2808 [00:03<00:25, 98.91it/s]\u001b[A\n",
            "  9%|▉         | 252/2808 [00:03<00:24, 102.28it/s]\u001b[A\n",
            "  9%|▉         | 264/2808 [00:03<00:24, 104.37it/s]\u001b[A\n",
            " 10%|▉         | 276/2808 [00:03<00:23, 106.46it/s]\u001b[A\n",
            " 10%|█         | 288/2808 [00:03<00:23, 108.46it/s]\u001b[A\n",
            " 11%|█         | 300/2808 [00:03<00:22, 109.28it/s]\u001b[A\n",
            " 11%|█         | 312/2808 [00:04<00:22, 109.55it/s]\u001b[A"
          ],
          "name": "stderr"
        },
        {
          "output_type": "stream",
          "text": [
            "| epoch   5 |   300/ 2808 batches | lr 4.00 | loss  1.63 | ppl     5.10\n"
          ],
          "name": "stdout"
        },
        {
          "output_type": "stream",
          "text": [
            "\n",
            " 12%|█▏        | 324/2808 [00:04<00:22, 109.94it/s]\u001b[A\n",
            " 12%|█▏        | 336/2808 [00:04<00:22, 110.16it/s]\u001b[A\n",
            " 12%|█▏        | 348/2808 [00:04<00:22, 110.26it/s]\u001b[A\n",
            " 13%|█▎        | 360/2808 [00:04<00:22, 110.69it/s]\u001b[A\n",
            " 13%|█▎        | 372/2808 [00:04<00:22, 110.70it/s]\u001b[A\n",
            " 14%|█▎        | 384/2808 [00:04<00:21, 110.59it/s]\u001b[A\n",
            " 14%|█▍        | 396/2808 [00:04<00:21, 110.40it/s]\u001b[A\n",
            " 15%|█▍        | 408/2808 [00:04<00:21, 110.41it/s]\u001b[A\n",
            " 15%|█▍        | 420/2808 [00:05<00:21, 110.43it/s]\u001b[A"
          ],
          "name": "stderr"
        },
        {
          "output_type": "stream",
          "text": [
            "| epoch   5 |   400/ 2808 batches | lr 4.00 | loss  1.63 | ppl     5.11\n"
          ],
          "name": "stdout"
        },
        {
          "output_type": "stream",
          "text": [
            "\n",
            " 15%|█▌        | 432/2808 [00:05<00:21, 110.31it/s]\u001b[A\n",
            " 16%|█▌        | 444/2808 [00:05<00:21, 110.30it/s]\u001b[A\n",
            " 16%|█▌        | 456/2808 [00:05<00:21, 110.87it/s]\u001b[A\n",
            " 17%|█▋        | 468/2808 [00:05<00:21, 109.30it/s]\u001b[A\n",
            " 17%|█▋        | 479/2808 [00:05<00:21, 109.26it/s]\u001b[A\n",
            " 17%|█▋        | 491/2808 [00:05<00:21, 109.91it/s]\u001b[A\n",
            " 18%|█▊        | 502/2808 [00:05<00:21, 107.97it/s]\u001b[A\n",
            " 18%|█▊        | 513/2808 [00:05<00:21, 108.05it/s]\u001b[A"
          ],
          "name": "stderr"
        },
        {
          "output_type": "stream",
          "text": [
            "| epoch   5 |   500/ 2808 batches | lr 4.00 | loss  1.63 | ppl     5.09\n"
          ],
          "name": "stdout"
        },
        {
          "output_type": "stream",
          "text": [
            "\n",
            " 19%|█▊        | 524/2808 [00:06<00:21, 108.29it/s]\u001b[A\n",
            " 19%|█▉        | 535/2808 [00:06<00:20, 108.60it/s]\u001b[A\n",
            " 19%|█▉        | 546/2808 [00:06<00:20, 108.75it/s]\u001b[A\n",
            " 20%|█▉        | 557/2808 [00:06<00:20, 109.08it/s]\u001b[A\n",
            " 20%|██        | 568/2808 [00:06<00:20, 108.79it/s]\u001b[A\n",
            " 21%|██        | 579/2808 [00:06<00:20, 108.75it/s]\u001b[A\n",
            " 21%|██        | 590/2808 [00:06<00:20, 109.03it/s]\u001b[A\n",
            " 21%|██▏       | 602/2808 [00:06<00:20, 109.52it/s]\u001b[A\n",
            " 22%|██▏       | 614/2808 [00:06<00:19, 109.87it/s]\u001b[A"
          ],
          "name": "stderr"
        },
        {
          "output_type": "stream",
          "text": [
            "| epoch   5 |   600/ 2808 batches | lr 4.00 | loss  1.62 | ppl     5.08\n"
          ],
          "name": "stdout"
        },
        {
          "output_type": "stream",
          "text": [
            "\n",
            " 22%|██▏       | 626/2808 [00:06<00:19, 110.65it/s]\u001b[A\n",
            " 23%|██▎       | 638/2808 [00:07<00:19, 110.67it/s]\u001b[A\n",
            " 23%|██▎       | 650/2808 [00:07<00:19, 110.55it/s]\u001b[A\n",
            " 24%|██▎       | 662/2808 [00:07<00:19, 110.41it/s]\u001b[A\n",
            " 24%|██▍       | 674/2808 [00:07<00:19, 110.04it/s]\u001b[A\n",
            " 24%|██▍       | 686/2808 [00:07<00:19, 109.61it/s]\u001b[A\n",
            " 25%|██▍       | 698/2808 [00:07<00:19, 109.96it/s]\u001b[A\n",
            " 25%|██▌       | 709/2808 [00:07<00:19, 109.86it/s]\u001b[A\n",
            " 26%|██▌       | 720/2808 [00:07<00:19, 109.48it/s]\u001b[A"
          ],
          "name": "stderr"
        },
        {
          "output_type": "stream",
          "text": [
            "| epoch   5 |   700/ 2808 batches | lr 4.00 | loss  1.63 | ppl     5.09\n"
          ],
          "name": "stdout"
        },
        {
          "output_type": "stream",
          "text": [
            "\n",
            " 26%|██▌       | 732/2808 [00:07<00:18, 109.84it/s]\u001b[A\n",
            " 26%|██▋       | 744/2808 [00:08<00:18, 110.43it/s]\u001b[A\n",
            " 27%|██▋       | 756/2808 [00:08<00:18, 110.14it/s]\u001b[A\n",
            " 27%|██▋       | 768/2808 [00:08<00:18, 110.19it/s]\u001b[A\n",
            " 28%|██▊       | 780/2808 [00:08<00:18, 110.34it/s]\u001b[A\n",
            " 28%|██▊       | 792/2808 [00:08<00:18, 109.92it/s]\u001b[A\n",
            " 29%|██▊       | 803/2808 [00:08<00:18, 108.59it/s]\u001b[A\n",
            " 29%|██▉       | 815/2808 [00:08<00:18, 109.76it/s]\u001b[A"
          ],
          "name": "stderr"
        },
        {
          "output_type": "stream",
          "text": [
            "| epoch   5 |   800/ 2808 batches | lr 4.00 | loss  1.62 | ppl     5.06\n"
          ],
          "name": "stdout"
        },
        {
          "output_type": "stream",
          "text": [
            "\n",
            " 29%|██▉       | 827/2808 [00:08<00:18, 110.05it/s]\u001b[A\n",
            " 30%|██▉       | 839/2808 [00:08<00:17, 109.49it/s]\u001b[A\n",
            " 30%|███       | 850/2808 [00:08<00:17, 108.98it/s]\u001b[A\n",
            " 31%|███       | 861/2808 [00:09<00:17, 108.72it/s]\u001b[A\n",
            " 31%|███       | 873/2808 [00:09<00:17, 109.51it/s]\u001b[A\n",
            " 32%|███▏      | 885/2808 [00:09<00:17, 110.12it/s]\u001b[A\n",
            " 32%|███▏      | 897/2808 [00:09<00:17, 110.89it/s]\u001b[A\n",
            " 32%|███▏      | 909/2808 [00:09<00:17, 110.12it/s]\u001b[A\n",
            " 33%|███▎      | 921/2808 [00:09<00:17, 110.57it/s]\u001b[A"
          ],
          "name": "stderr"
        },
        {
          "output_type": "stream",
          "text": [
            "| epoch   5 |   900/ 2808 batches | lr 4.00 | loss  1.62 | ppl     5.07\n"
          ],
          "name": "stdout"
        },
        {
          "output_type": "stream",
          "text": [
            "\n",
            " 33%|███▎      | 933/2808 [00:09<00:16, 110.74it/s]\u001b[A\n",
            " 34%|███▎      | 945/2808 [00:09<00:16, 110.50it/s]\u001b[A\n",
            " 34%|███▍      | 957/2808 [00:09<00:16, 111.23it/s]\u001b[A\n",
            " 35%|███▍      | 969/2808 [00:10<00:16, 111.16it/s]\u001b[A\n",
            " 35%|███▍      | 981/2808 [00:10<00:16, 110.76it/s]\u001b[A\n",
            " 35%|███▌      | 993/2808 [00:10<00:16, 110.84it/s]\u001b[A\n",
            " 36%|███▌      | 1005/2808 [00:10<00:16, 110.33it/s]\u001b[A\n",
            " 36%|███▌      | 1017/2808 [00:10<00:16, 110.65it/s]\u001b[A"
          ],
          "name": "stderr"
        },
        {
          "output_type": "stream",
          "text": [
            "| epoch   5 |  1000/ 2808 batches | lr 4.00 | loss  1.62 | ppl     5.05\n"
          ],
          "name": "stdout"
        },
        {
          "output_type": "stream",
          "text": [
            "\n",
            " 37%|███▋      | 1029/2808 [00:10<00:16, 109.67it/s]\u001b[A\n",
            " 37%|███▋      | 1041/2808 [00:10<00:15, 110.82it/s]\u001b[A\n",
            " 38%|███▊      | 1053/2808 [00:10<00:15, 110.63it/s]\u001b[A\n",
            " 38%|███▊      | 1065/2808 [00:10<00:15, 110.56it/s]\u001b[A\n",
            " 38%|███▊      | 1077/2808 [00:11<00:15, 110.69it/s]\u001b[A\n",
            " 39%|███▉      | 1089/2808 [00:11<00:15, 110.40it/s]\u001b[A\n",
            " 39%|███▉      | 1101/2808 [00:11<00:15, 110.69it/s]\u001b[A\n",
            " 40%|███▉      | 1113/2808 [00:11<00:15, 110.69it/s]\u001b[A"
          ],
          "name": "stderr"
        },
        {
          "output_type": "stream",
          "text": [
            "| epoch   5 |  1100/ 2808 batches | lr 4.00 | loss  1.62 | ppl     5.05\n"
          ],
          "name": "stdout"
        },
        {
          "output_type": "stream",
          "text": [
            "\n",
            " 40%|████      | 1125/2808 [00:11<00:15, 110.38it/s]\u001b[A\n",
            " 40%|████      | 1137/2808 [00:11<00:15, 110.15it/s]\u001b[A\n",
            " 41%|████      | 1149/2808 [00:11<00:15, 110.51it/s]\u001b[A\n",
            " 41%|████▏     | 1161/2808 [00:11<00:14, 110.87it/s]\u001b[A\n",
            " 42%|████▏     | 1173/2808 [00:11<00:14, 110.86it/s]\u001b[A\n",
            " 42%|████▏     | 1185/2808 [00:12<00:14, 110.50it/s]\u001b[A\n",
            " 43%|████▎     | 1197/2808 [00:12<00:14, 111.44it/s]\u001b[A\n",
            " 43%|████▎     | 1209/2808 [00:12<00:14, 111.42it/s]\u001b[A\n",
            " 43%|████▎     | 1221/2808 [00:12<00:14, 111.47it/s]\u001b[A"
          ],
          "name": "stderr"
        },
        {
          "output_type": "stream",
          "text": [
            "| epoch   5 |  1200/ 2808 batches | lr 4.00 | loss  1.63 | ppl     5.08\n"
          ],
          "name": "stdout"
        },
        {
          "output_type": "stream",
          "text": [
            "\n",
            " 44%|████▍     | 1233/2808 [00:12<00:14, 111.26it/s]\u001b[A\n",
            " 44%|████▍     | 1245/2808 [00:12<00:14, 110.96it/s]\u001b[A\n",
            " 45%|████▍     | 1257/2808 [00:12<00:14, 110.74it/s]\u001b[A\n",
            " 45%|████▌     | 1269/2808 [00:12<00:13, 110.66it/s]\u001b[A\n",
            " 46%|████▌     | 1281/2808 [00:12<00:13, 109.88it/s]\u001b[A\n",
            " 46%|████▌     | 1293/2808 [00:13<00:13, 110.16it/s]\u001b[A\n",
            " 46%|████▋     | 1305/2808 [00:13<00:13, 110.47it/s]\u001b[A\n",
            " 47%|████▋     | 1317/2808 [00:13<00:13, 110.65it/s]\u001b[A"
          ],
          "name": "stderr"
        },
        {
          "output_type": "stream",
          "text": [
            "| epoch   5 |  1300/ 2808 batches | lr 4.00 | loss  1.62 | ppl     5.05\n"
          ],
          "name": "stdout"
        },
        {
          "output_type": "stream",
          "text": [
            "\n",
            " 47%|████▋     | 1329/2808 [00:13<00:13, 111.08it/s]\u001b[A\n",
            " 48%|████▊     | 1341/2808 [00:13<00:13, 111.49it/s]\u001b[A\n",
            " 48%|████▊     | 1353/2808 [00:13<00:13, 111.59it/s]\u001b[A\n",
            " 49%|████▊     | 1365/2808 [00:13<00:12, 111.82it/s]\u001b[A\n",
            " 49%|████▉     | 1377/2808 [00:13<00:12, 110.69it/s]\u001b[A\n",
            " 49%|████▉     | 1389/2808 [00:13<00:12, 111.00it/s]\u001b[A\n",
            " 50%|████▉     | 1401/2808 [00:13<00:12, 109.12it/s]\u001b[A\n",
            " 50%|█████     | 1412/2808 [00:14<00:12, 109.06it/s]\u001b[A"
          ],
          "name": "stderr"
        },
        {
          "output_type": "stream",
          "text": [
            "| epoch   5 |  1400/ 2808 batches | lr 4.00 | loss  1.60 | ppl     4.97\n"
          ],
          "name": "stdout"
        },
        {
          "output_type": "stream",
          "text": [
            "\n",
            " 51%|█████     | 1424/2808 [00:14<00:12, 109.28it/s]\u001b[A\n",
            " 51%|█████     | 1436/2808 [00:14<00:12, 110.25it/s]\u001b[A\n",
            " 52%|█████▏    | 1448/2808 [00:14<00:12, 110.34it/s]\u001b[A\n",
            " 52%|█████▏    | 1460/2808 [00:14<00:12, 110.72it/s]\u001b[A\n",
            " 52%|█████▏    | 1472/2808 [00:14<00:12, 110.64it/s]\u001b[A\n",
            " 53%|█████▎    | 1484/2808 [00:14<00:11, 110.85it/s]\u001b[A\n",
            " 53%|█████▎    | 1496/2808 [00:14<00:11, 110.94it/s]\u001b[A\n",
            " 54%|█████▎    | 1508/2808 [00:14<00:11, 111.04it/s]\u001b[A\n",
            " 54%|█████▍    | 1520/2808 [00:15<00:11, 111.22it/s]\u001b[A"
          ],
          "name": "stderr"
        },
        {
          "output_type": "stream",
          "text": [
            "| epoch   5 |  1500/ 2808 batches | lr 4.00 | loss  1.61 | ppl     5.01\n"
          ],
          "name": "stdout"
        },
        {
          "output_type": "stream",
          "text": [
            "\n",
            " 55%|█████▍    | 1532/2808 [00:15<00:11, 111.05it/s]\u001b[A\n",
            " 55%|█████▍    | 1544/2808 [00:15<00:11, 110.67it/s]\u001b[A\n",
            " 55%|█████▌    | 1556/2808 [00:15<00:11, 111.04it/s]\u001b[A\n",
            " 56%|█████▌    | 1568/2808 [00:15<00:11, 110.15it/s]\u001b[A\n",
            " 56%|█████▋    | 1580/2808 [00:15<00:11, 110.05it/s]\u001b[A\n",
            " 57%|█████▋    | 1592/2808 [00:15<00:11, 109.95it/s]\u001b[A\n",
            " 57%|█████▋    | 1603/2808 [00:15<00:11, 109.41it/s]\u001b[A\n",
            " 58%|█████▊    | 1615/2808 [00:15<00:10, 110.67it/s]\u001b[A"
          ],
          "name": "stderr"
        },
        {
          "output_type": "stream",
          "text": [
            "| epoch   5 |  1600/ 2808 batches | lr 4.00 | loss  1.62 | ppl     5.03\n"
          ],
          "name": "stdout"
        },
        {
          "output_type": "stream",
          "text": [
            "\n",
            " 58%|█████▊    | 1627/2808 [00:16<00:10, 108.51it/s]\u001b[A\n",
            " 58%|█████▊    | 1639/2808 [00:16<00:10, 109.27it/s]\u001b[A\n",
            " 59%|█████▉    | 1650/2808 [00:16<00:10, 109.47it/s]\u001b[A\n",
            " 59%|█████▉    | 1661/2808 [00:16<00:10, 109.59it/s]\u001b[A\n",
            " 60%|█████▉    | 1673/2808 [00:16<00:10, 110.10it/s]\u001b[A\n",
            " 60%|██████    | 1685/2808 [00:16<00:10, 110.44it/s]\u001b[A\n",
            " 60%|██████    | 1697/2808 [00:16<00:10, 110.45it/s]\u001b[A\n",
            " 61%|██████    | 1709/2808 [00:16<00:09, 110.51it/s]\u001b[A\n",
            " 61%|██████▏   | 1721/2808 [00:16<00:09, 110.02it/s]\u001b[A"
          ],
          "name": "stderr"
        },
        {
          "output_type": "stream",
          "text": [
            "| epoch   5 |  1700/ 2808 batches | lr 4.00 | loss  1.61 | ppl     5.00\n"
          ],
          "name": "stdout"
        },
        {
          "output_type": "stream",
          "text": [
            "\n",
            " 62%|██████▏   | 1733/2808 [00:16<00:09, 109.23it/s]\u001b[A\n",
            " 62%|██████▏   | 1745/2808 [00:17<00:09, 109.67it/s]\u001b[A\n",
            " 63%|██████▎   | 1756/2808 [00:17<00:09, 109.50it/s]\u001b[A\n",
            " 63%|██████▎   | 1767/2808 [00:17<00:09, 109.34it/s]\u001b[A\n",
            " 63%|██████▎   | 1779/2808 [00:17<00:09, 110.04it/s]\u001b[A\n",
            " 64%|██████▍   | 1791/2808 [00:17<00:09, 110.70it/s]\u001b[A\n",
            " 64%|██████▍   | 1803/2808 [00:17<00:09, 110.53it/s]\u001b[A\n",
            " 65%|██████▍   | 1815/2808 [00:17<00:09, 110.28it/s]\u001b[A"
          ],
          "name": "stderr"
        },
        {
          "output_type": "stream",
          "text": [
            "| epoch   5 |  1800/ 2808 batches | lr 4.00 | loss  1.61 | ppl     5.01\n"
          ],
          "name": "stdout"
        },
        {
          "output_type": "stream",
          "text": [
            "\n",
            " 65%|██████▌   | 1827/2808 [00:17<00:08, 110.63it/s]\u001b[A\n",
            " 65%|██████▌   | 1839/2808 [00:17<00:08, 109.85it/s]\u001b[A\n",
            " 66%|██████▌   | 1851/2808 [00:18<00:08, 110.36it/s]\u001b[A\n",
            " 66%|██████▋   | 1863/2808 [00:18<00:08, 110.78it/s]\u001b[A\n",
            " 67%|██████▋   | 1875/2808 [00:18<00:08, 111.12it/s]\u001b[A\n",
            " 67%|██████▋   | 1887/2808 [00:18<00:08, 111.10it/s]\u001b[A\n",
            " 68%|██████▊   | 1899/2808 [00:18<00:08, 110.89it/s]\u001b[A\n",
            " 68%|██████▊   | 1911/2808 [00:18<00:08, 110.61it/s]\u001b[A\n",
            " 68%|██████▊   | 1923/2808 [00:18<00:08, 110.50it/s]\u001b[A"
          ],
          "name": "stderr"
        },
        {
          "output_type": "stream",
          "text": [
            "| epoch   5 |  1900/ 2808 batches | lr 4.00 | loss  1.62 | ppl     5.06\n"
          ],
          "name": "stdout"
        },
        {
          "output_type": "stream",
          "text": [
            "\n",
            " 69%|██████▉   | 1935/2808 [00:18<00:08, 108.92it/s]\u001b[A\n",
            " 69%|██████▉   | 1947/2808 [00:18<00:07, 110.04it/s]\u001b[A\n",
            " 70%|██████▉   | 1959/2808 [00:19<00:07, 109.84it/s]\u001b[A\n",
            " 70%|███████   | 1971/2808 [00:19<00:07, 110.17it/s]\u001b[A\n",
            " 71%|███████   | 1983/2808 [00:19<00:07, 110.25it/s]\u001b[A\n",
            " 71%|███████   | 1995/2808 [00:19<00:07, 110.39it/s]\u001b[A\n",
            " 71%|███████▏  | 2007/2808 [00:19<00:07, 109.86it/s]\u001b[A\n",
            " 72%|███████▏  | 2018/2808 [00:19<00:07, 109.54it/s]\u001b[A"
          ],
          "name": "stderr"
        },
        {
          "output_type": "stream",
          "text": [
            "| epoch   5 |  2000/ 2808 batches | lr 4.00 | loss  1.61 | ppl     5.01\n"
          ],
          "name": "stdout"
        },
        {
          "output_type": "stream",
          "text": [
            "\n",
            " 72%|███████▏  | 2029/2808 [00:19<00:07, 109.27it/s]\u001b[A\n",
            " 73%|███████▎  | 2040/2808 [00:19<00:07, 109.11it/s]\u001b[A\n",
            " 73%|███████▎  | 2052/2808 [00:19<00:06, 109.59it/s]\u001b[A\n",
            " 74%|███████▎  | 2064/2808 [00:19<00:06, 110.32it/s]\u001b[A\n",
            " 74%|███████▍  | 2076/2808 [00:20<00:06, 110.06it/s]\u001b[A\n",
            " 74%|███████▍  | 2088/2808 [00:20<00:06, 110.16it/s]\u001b[A\n",
            " 75%|███████▍  | 2100/2808 [00:20<00:06, 110.37it/s]\u001b[A\n",
            " 75%|███████▌  | 2112/2808 [00:20<00:06, 109.91it/s]\u001b[A"
          ],
          "name": "stderr"
        },
        {
          "output_type": "stream",
          "text": [
            "| epoch   5 |  2100/ 2808 batches | lr 4.00 | loss  1.62 | ppl     5.04\n"
          ],
          "name": "stdout"
        },
        {
          "output_type": "stream",
          "text": [
            "\n",
            " 76%|███████▌  | 2123/2808 [00:20<00:06, 107.51it/s]\u001b[A\n",
            " 76%|███████▌  | 2135/2808 [00:20<00:06, 108.94it/s]\u001b[A\n",
            " 76%|███████▋  | 2146/2808 [00:20<00:06, 109.17it/s]\u001b[A\n",
            " 77%|███████▋  | 2158/2808 [00:20<00:05, 109.97it/s]\u001b[A\n",
            " 77%|███████▋  | 2170/2808 [00:20<00:05, 109.84it/s]\u001b[A\n",
            " 78%|███████▊  | 2181/2808 [00:21<00:05, 109.25it/s]\u001b[A\n",
            " 78%|███████▊  | 2193/2808 [00:21<00:05, 110.04it/s]\u001b[A\n",
            " 79%|███████▊  | 2205/2808 [00:21<00:05, 110.48it/s]\u001b[A\n",
            " 79%|███████▉  | 2217/2808 [00:21<00:05, 110.80it/s]\u001b[A"
          ],
          "name": "stderr"
        },
        {
          "output_type": "stream",
          "text": [
            "| epoch   5 |  2200/ 2808 batches | lr 4.00 | loss  1.61 | ppl     5.02\n"
          ],
          "name": "stdout"
        },
        {
          "output_type": "stream",
          "text": [
            "\n",
            " 79%|███████▉  | 2229/2808 [00:21<00:05, 110.93it/s]\u001b[A\n",
            " 80%|███████▉  | 2241/2808 [00:21<00:05, 110.83it/s]\u001b[A\n",
            " 80%|████████  | 2253/2808 [00:21<00:04, 111.10it/s]\u001b[A\n",
            " 81%|████████  | 2265/2808 [00:21<00:04, 110.93it/s]\u001b[A\n",
            " 81%|████████  | 2277/2808 [00:21<00:04, 110.82it/s]\u001b[A\n",
            " 82%|████████▏ | 2289/2808 [00:22<00:04, 109.67it/s]\u001b[A\n",
            " 82%|████████▏ | 2300/2808 [00:22<00:04, 108.92it/s]\u001b[A\n",
            " 82%|████████▏ | 2312/2808 [00:22<00:04, 109.58it/s]\u001b[A"
          ],
          "name": "stderr"
        },
        {
          "output_type": "stream",
          "text": [
            "| epoch   5 |  2300/ 2808 batches | lr 4.00 | loss  1.62 | ppl     5.03\n"
          ],
          "name": "stdout"
        },
        {
          "output_type": "stream",
          "text": [
            "\n",
            " 83%|████████▎ | 2324/2808 [00:22<00:04, 109.87it/s]\u001b[A\n",
            " 83%|████████▎ | 2336/2808 [00:22<00:04, 111.18it/s]\u001b[A\n",
            " 84%|████████▎ | 2348/2808 [00:22<00:04, 110.75it/s]\u001b[A\n",
            " 84%|████████▍ | 2360/2808 [00:22<00:04, 110.80it/s]\u001b[A\n",
            " 84%|████████▍ | 2372/2808 [00:22<00:03, 110.71it/s]\u001b[A\n",
            " 85%|████████▍ | 2384/2808 [00:22<00:03, 111.31it/s]\u001b[A\n",
            " 85%|████████▌ | 2396/2808 [00:23<00:03, 111.17it/s]\u001b[A\n",
            " 86%|████████▌ | 2408/2808 [00:23<00:03, 110.72it/s]\u001b[A\n",
            " 86%|████████▌ | 2420/2808 [00:23<00:03, 110.47it/s]\u001b[A"
          ],
          "name": "stderr"
        },
        {
          "output_type": "stream",
          "text": [
            "| epoch   5 |  2400/ 2808 batches | lr 4.00 | loss  1.60 | ppl     4.96\n"
          ],
          "name": "stdout"
        },
        {
          "output_type": "stream",
          "text": [
            "\n",
            " 87%|████████▋ | 2432/2808 [00:23<00:03, 110.34it/s]\u001b[A\n",
            " 87%|████████▋ | 2444/2808 [00:23<00:03, 110.66it/s]\u001b[A\n",
            " 87%|████████▋ | 2456/2808 [00:23<00:03, 110.62it/s]\u001b[A\n",
            " 88%|████████▊ | 2468/2808 [00:23<00:03, 110.72it/s]\u001b[A\n",
            " 88%|████████▊ | 2480/2808 [00:23<00:02, 110.86it/s]\u001b[A\n",
            " 89%|████████▊ | 2492/2808 [00:23<00:02, 111.15it/s]\u001b[A\n",
            " 89%|████████▉ | 2504/2808 [00:23<00:02, 109.66it/s]\u001b[A\n",
            " 90%|████████▉ | 2515/2808 [00:24<00:02, 109.34it/s]\u001b[A"
          ],
          "name": "stderr"
        },
        {
          "output_type": "stream",
          "text": [
            "| epoch   5 |  2500/ 2808 batches | lr 4.00 | loss  1.60 | ppl     4.97\n"
          ],
          "name": "stdout"
        },
        {
          "output_type": "stream",
          "text": [
            "\n",
            " 90%|████████▉ | 2526/2808 [00:24<00:02, 109.06it/s]\u001b[A\n",
            " 90%|█████████ | 2537/2808 [00:24<00:02, 109.12it/s]\u001b[A\n",
            " 91%|█████████ | 2549/2808 [00:24<00:02, 109.94it/s]\u001b[A\n",
            " 91%|█████████ | 2561/2808 [00:24<00:02, 110.41it/s]\u001b[A\n",
            " 92%|█████████▏| 2573/2808 [00:24<00:02, 110.52it/s]\u001b[A\n",
            " 92%|█████████▏| 2585/2808 [00:24<00:02, 110.92it/s]\u001b[A\n",
            " 92%|█████████▏| 2597/2808 [00:24<00:01, 110.75it/s]\u001b[A\n",
            " 93%|█████████▎| 2609/2808 [00:24<00:01, 109.79it/s]\u001b[A\n",
            " 93%|█████████▎| 2620/2808 [00:25<00:01, 108.97it/s]\u001b[A"
          ],
          "name": "stderr"
        },
        {
          "output_type": "stream",
          "text": [
            "| epoch   5 |  2600/ 2808 batches | lr 4.00 | loss  1.61 | ppl     5.02\n"
          ],
          "name": "stdout"
        },
        {
          "output_type": "stream",
          "text": [
            "\n",
            " 94%|█████████▎| 2631/2808 [00:25<00:01, 109.18it/s]\u001b[A\n",
            " 94%|█████████▍| 2643/2808 [00:25<00:01, 109.74it/s]\u001b[A\n",
            " 95%|█████████▍| 2655/2808 [00:25<00:01, 110.22it/s]\u001b[A\n",
            " 95%|█████████▍| 2667/2808 [00:25<00:01, 110.65it/s]\u001b[A\n",
            " 95%|█████████▌| 2679/2808 [00:25<00:01, 110.76it/s]\u001b[A\n",
            " 96%|█████████▌| 2691/2808 [00:25<00:01, 110.61it/s]\u001b[A\n",
            " 96%|█████████▋| 2703/2808 [00:25<00:00, 111.02it/s]\u001b[A\n",
            " 97%|█████████▋| 2715/2808 [00:25<00:00, 111.55it/s]\u001b[A"
          ],
          "name": "stderr"
        },
        {
          "output_type": "stream",
          "text": [
            "| epoch   5 |  2700/ 2808 batches | lr 4.00 | loss  1.61 | ppl     5.00\n"
          ],
          "name": "stdout"
        },
        {
          "output_type": "stream",
          "text": [
            "\n",
            " 97%|█████████▋| 2727/2808 [00:26<00:00, 110.87it/s]\u001b[A\n",
            " 98%|█████████▊| 2739/2808 [00:26<00:00, 110.05it/s]\u001b[A\n",
            " 98%|█████████▊| 2751/2808 [00:26<00:00, 110.71it/s]\u001b[A\n",
            " 98%|█████████▊| 2763/2808 [00:26<00:00, 110.81it/s]\u001b[A\n",
            " 99%|█████████▉| 2775/2808 [00:26<00:00, 110.85it/s]\u001b[A\n",
            " 99%|█████████▉| 2787/2808 [00:26<00:00, 110.92it/s]\u001b[A\n",
            "100%|██████████| 2808/2808 [00:26<00:00, 104.98it/s]\n",
            "\n",
            "  0%|          | 0/292 [00:00<?, ?it/s]\u001b[A"
          ],
          "name": "stderr"
        },
        {
          "output_type": "stream",
          "text": [
            "| epoch   5 |  2800/ 2808 batches | lr 4.00 | loss  1.60 | ppl     4.95\n"
          ],
          "name": "stdout"
        },
        {
          "output_type": "stream",
          "text": [
            "\n",
            "  0%|          | 1/292 [00:00<00:38,  7.48it/s]\u001b[A\n",
            " 17%|█▋        | 49/292 [00:00<00:22, 10.61it/s]\u001b[A\n",
            " 34%|███▎      | 98/292 [00:00<00:12, 15.02it/s]\u001b[A\n",
            " 51%|█████     | 148/292 [00:00<00:06, 21.19it/s]\u001b[A\n",
            " 68%|██████▊   | 198/292 [00:00<00:03, 29.72it/s]\u001b[A\n",
            "100%|██████████| 292/292 [00:00<00:00, 402.21it/s]\n"
          ],
          "name": "stderr"
        },
        {
          "output_type": "stream",
          "text": [
            "-----------------------------------------------------------------------------------------\n",
            "| end of epoch   5 | valid loss  1.41 | valid ppl     4.10\n",
            "-----------------------------------------------------------------------------------------\n",
            "sample:\n",
            "  f @, \" ved homite tis lm rie lhis Lunk> Grk <eos> Ham \n",
            "\n"
          ],
          "name": "stdout"
        },
        {
          "output_type": "stream",
          "text": [
            "\n",
            "  0%|          | 0/2808 [00:00<?, ?it/s]\u001b[A"
          ],
          "name": "stderr"
        },
        {
          "output_type": "stream",
          "text": [
            "sample:\n",
            " لóص่ảXớ礮ửñJリ空Rβu์5﻿íûë³]ơzĐU/X;pеGíT)्dล|:ńệń(5ł動à \n",
            "\n"
          ],
          "name": "stdout"
        },
        {
          "output_type": "stream",
          "text": [
            "\n",
            "  0%|          | 1/2808 [00:01<1:01:10,  1.31s/it]\u001b[A\n",
            "  0%|          | 13/2808 [00:01<42:46,  1.09it/s] \u001b[A\n",
            "  1%|          | 25/2808 [00:01<29:55,  1.55it/s]\u001b[A\n",
            "  1%|▏         | 38/2808 [00:01<20:57,  2.20it/s]\u001b[A\n",
            "  2%|▏         | 51/2808 [00:01<14:43,  3.12it/s]\u001b[A\n",
            "  2%|▏         | 64/2808 [00:01<10:22,  4.41it/s]\u001b[A\n",
            "  3%|▎         | 77/2808 [00:01<07:19,  6.21it/s]\u001b[A\n",
            "  3%|▎         | 90/2808 [00:02<05:13,  8.68it/s]\u001b[A\n",
            "  4%|▎         | 103/2808 [00:02<03:44, 12.04it/s]\u001b[A\n",
            "  4%|▍         | 115/2808 [00:02<02:43, 16.46it/s]\u001b[A"
          ],
          "name": "stderr"
        },
        {
          "output_type": "stream",
          "text": [
            "| epoch   1 |   100/ 2808 batches | lr 4.00 | loss  3.52 | ppl    33.77\n"
          ],
          "name": "stdout"
        },
        {
          "output_type": "stream",
          "text": [
            "\n",
            "  5%|▍         | 128/2808 [00:02<02:00, 22.23it/s]\u001b[A\n",
            "  5%|▌         | 141/2808 [00:02<01:30, 29.50it/s]\u001b[A\n",
            "  5%|▌         | 154/2808 [00:02<01:09, 38.22it/s]\u001b[A\n",
            "  6%|▌         | 167/2808 [00:02<00:55, 47.99it/s]\u001b[A\n",
            "  6%|▋         | 180/2808 [00:02<00:44, 58.66it/s]\u001b[A\n",
            "  7%|▋         | 193/2808 [00:02<00:37, 69.64it/s]\u001b[A\n",
            "  7%|▋         | 206/2808 [00:03<00:32, 79.68it/s]\u001b[A\n",
            "  8%|▊         | 219/2808 [00:03<00:29, 89.08it/s]\u001b[A"
          ],
          "name": "stderr"
        },
        {
          "output_type": "stream",
          "text": [
            "| epoch   1 |   200/ 2808 batches | lr 4.00 | loss  2.98 | ppl    19.65\n"
          ],
          "name": "stdout"
        },
        {
          "output_type": "stream",
          "text": [
            "\n",
            "  8%|▊         | 232/2808 [00:03<00:26, 96.67it/s]\u001b[A\n",
            "  9%|▊         | 245/2808 [00:03<00:24, 103.30it/s]\u001b[A\n",
            "  9%|▉         | 258/2808 [00:03<00:23, 109.26it/s]\u001b[A\n",
            " 10%|▉         | 271/2808 [00:03<00:22, 113.34it/s]\u001b[A\n",
            " 10%|█         | 284/2808 [00:03<00:21, 116.10it/s]\u001b[A\n",
            " 11%|█         | 297/2808 [00:03<00:21, 119.32it/s]\u001b[A\n",
            " 11%|█         | 310/2808 [00:03<00:20, 121.01it/s]\u001b[A\n",
            " 12%|█▏        | 323/2808 [00:03<00:20, 121.50it/s]\u001b[A"
          ],
          "name": "stderr"
        },
        {
          "output_type": "stream",
          "text": [
            "| epoch   1 |   300/ 2808 batches | lr 4.00 | loss  2.74 | ppl    15.56\n"
          ],
          "name": "stdout"
        },
        {
          "output_type": "stream",
          "text": [
            "\n",
            " 12%|█▏        | 336/2808 [00:04<00:20, 119.30it/s]\u001b[A\n",
            " 12%|█▏        | 349/2808 [00:04<00:20, 120.30it/s]\u001b[A\n",
            " 13%|█▎        | 362/2808 [00:04<00:20, 120.88it/s]\u001b[A\n",
            " 13%|█▎        | 375/2808 [00:04<00:20, 121.02it/s]\u001b[A\n",
            " 14%|█▍        | 388/2808 [00:04<00:19, 121.55it/s]\u001b[A\n",
            " 14%|█▍        | 401/2808 [00:04<00:19, 121.58it/s]\u001b[A\n",
            " 15%|█▍        | 414/2808 [00:04<00:19, 121.41it/s]\u001b[A"
          ],
          "name": "stderr"
        },
        {
          "output_type": "stream",
          "text": [
            "| epoch   1 |   400/ 2808 batches | lr 4.00 | loss  2.57 | ppl    13.04\n"
          ],
          "name": "stdout"
        },
        {
          "output_type": "stream",
          "text": [
            "\n",
            " 15%|█▌        | 427/2808 [00:04<00:19, 120.37it/s]\u001b[A\n",
            " 16%|█▌        | 440/2808 [00:04<00:19, 119.49it/s]\u001b[A\n",
            " 16%|█▌        | 453/2808 [00:05<00:19, 119.94it/s]\u001b[A\n",
            " 17%|█▋        | 466/2808 [00:05<00:19, 121.60it/s]\u001b[A\n",
            " 17%|█▋        | 479/2808 [00:05<00:19, 121.95it/s]\u001b[A\n",
            " 18%|█▊        | 492/2808 [00:05<00:19, 121.87it/s]\u001b[A\n",
            " 18%|█▊        | 505/2808 [00:05<00:18, 122.11it/s]\u001b[A\n",
            " 18%|█▊        | 518/2808 [00:05<00:18, 121.87it/s]\u001b[A"
          ],
          "name": "stderr"
        },
        {
          "output_type": "stream",
          "text": [
            "| epoch   1 |   500/ 2808 batches | lr 4.00 | loss  2.45 | ppl    11.62\n"
          ],
          "name": "stdout"
        },
        {
          "output_type": "stream",
          "text": [
            "\n",
            " 19%|█▉        | 531/2808 [00:05<00:18, 122.41it/s]\u001b[A\n",
            " 19%|█▉        | 544/2808 [00:05<00:18, 122.65it/s]\u001b[A\n",
            " 20%|█▉        | 557/2808 [00:05<00:18, 123.13it/s]\u001b[A\n",
            " 20%|██        | 570/2808 [00:05<00:18, 123.01it/s]\u001b[A\n",
            " 21%|██        | 583/2808 [00:06<00:18, 123.16it/s]\u001b[A\n",
            " 21%|██        | 596/2808 [00:06<00:18, 122.65it/s]\u001b[A\n",
            " 22%|██▏       | 609/2808 [00:06<00:17, 123.01it/s]\u001b[A\n",
            " 22%|██▏       | 622/2808 [00:06<00:17, 123.94it/s]\u001b[A"
          ],
          "name": "stderr"
        },
        {
          "output_type": "stream",
          "text": [
            "| epoch   1 |   600/ 2808 batches | lr 4.00 | loss  2.37 | ppl    10.67\n"
          ],
          "name": "stdout"
        },
        {
          "output_type": "stream",
          "text": [
            "\n",
            " 23%|██▎       | 635/2808 [00:06<00:17, 122.65it/s]\u001b[A\n",
            " 23%|██▎       | 648/2808 [00:06<00:17, 122.92it/s]\u001b[A\n",
            " 24%|██▎       | 661/2808 [00:06<00:17, 123.11it/s]\u001b[A\n",
            " 24%|██▍       | 674/2808 [00:06<00:17, 123.31it/s]\u001b[A\n",
            " 24%|██▍       | 687/2808 [00:06<00:17, 123.30it/s]\u001b[A\n",
            " 25%|██▍       | 700/2808 [00:07<00:17, 123.68it/s]\u001b[A\n",
            " 25%|██▌       | 713/2808 [00:07<00:16, 123.46it/s]\u001b[A\n"
          ],
          "name": "stderr"
        },
        {
          "output_type": "stream",
          "text": [
            "| epoch   1 |   700/ 2808 batches | lr 4.00 | loss  2.30 | ppl     9.99\n"
          ],
          "name": "stdout"
        },
        {
          "output_type": "stream",
          "text": [
            " 26%|██▌       | 726/2808 [00:07<00:16, 123.03it/s]\u001b[A\n",
            " 26%|██▋       | 739/2808 [00:07<00:16, 123.23it/s]\u001b[A\n",
            " 27%|██▋       | 752/2808 [00:07<00:16, 123.18it/s]\u001b[A\n",
            " 27%|██▋       | 765/2808 [00:07<00:16, 123.13it/s]\u001b[A\n",
            " 28%|██▊       | 778/2808 [00:07<00:16, 123.08it/s]\u001b[A\n",
            " 28%|██▊       | 791/2808 [00:07<00:16, 122.54it/s]\u001b[A\n",
            " 29%|██▊       | 804/2808 [00:07<00:16, 123.48it/s]\u001b[A\n",
            " 29%|██▉       | 817/2808 [00:07<00:16, 123.22it/s]\u001b[A"
          ],
          "name": "stderr"
        },
        {
          "output_type": "stream",
          "text": [
            "| epoch   1 |   800/ 2808 batches | lr 4.00 | loss  2.25 | ppl     9.52\n"
          ],
          "name": "stdout"
        },
        {
          "output_type": "stream",
          "text": [
            "\n",
            " 30%|██▉       | 830/2808 [00:08<00:16, 122.88it/s]\u001b[A\n",
            " 30%|███       | 843/2808 [00:08<00:16, 122.59it/s]\u001b[A\n",
            " 30%|███       | 856/2808 [00:08<00:15, 122.29it/s]\u001b[A\n",
            " 31%|███       | 869/2808 [00:08<00:15, 121.71it/s]\u001b[A\n",
            " 31%|███▏      | 882/2808 [00:08<00:15, 122.18it/s]\u001b[A\n",
            " 32%|███▏      | 895/2808 [00:08<00:15, 122.40it/s]\u001b[A\n",
            " 32%|███▏      | 908/2808 [00:08<00:15, 122.59it/s]\u001b[A\n",
            " 33%|███▎      | 921/2808 [00:08<00:15, 123.54it/s]\u001b[A"
          ],
          "name": "stderr"
        },
        {
          "output_type": "stream",
          "text": [
            "| epoch   1 |   900/ 2808 batches | lr 4.00 | loss  2.21 | ppl     9.15\n"
          ],
          "name": "stdout"
        },
        {
          "output_type": "stream",
          "text": [
            "\n",
            " 33%|███▎      | 934/2808 [00:08<00:15, 123.53it/s]\u001b[A\n",
            " 34%|███▎      | 947/2808 [00:09<00:15, 123.38it/s]\u001b[A\n",
            " 34%|███▍      | 960/2808 [00:09<00:14, 123.36it/s]\u001b[A\n",
            " 35%|███▍      | 973/2808 [00:09<00:14, 123.48it/s]\u001b[A\n",
            " 35%|███▌      | 986/2808 [00:09<00:14, 123.45it/s]\u001b[A\n",
            " 36%|███▌      | 999/2808 [00:09<00:14, 121.53it/s]\u001b[A\n",
            " 36%|███▌      | 1012/2808 [00:09<00:14, 120.53it/s]\u001b[A\n",
            " 37%|███▋      | 1025/2808 [00:09<00:14, 121.69it/s]\u001b[A"
          ],
          "name": "stderr"
        },
        {
          "output_type": "stream",
          "text": [
            "| epoch   1 |  1000/ 2808 batches | lr 4.00 | loss  2.18 | ppl     8.84\n"
          ],
          "name": "stdout"
        },
        {
          "output_type": "stream",
          "text": [
            "\n",
            " 37%|███▋      | 1038/2808 [00:09<00:14, 122.20it/s]\u001b[A\n",
            " 37%|███▋      | 1051/2808 [00:09<00:14, 122.73it/s]\u001b[A\n",
            " 38%|███▊      | 1064/2808 [00:10<00:14, 122.32it/s]\u001b[A\n",
            " 38%|███▊      | 1077/2808 [00:10<00:14, 122.95it/s]\u001b[A\n",
            " 39%|███▉      | 1090/2808 [00:10<00:13, 122.82it/s]\u001b[A\n",
            " 39%|███▉      | 1103/2808 [00:10<00:13, 122.77it/s]\u001b[A\n",
            " 40%|███▉      | 1116/2808 [00:10<00:13, 122.53it/s]\u001b[A"
          ],
          "name": "stderr"
        },
        {
          "output_type": "stream",
          "text": [
            "| epoch   1 |  1100/ 2808 batches | lr 4.00 | loss  2.14 | ppl     8.51\n"
          ],
          "name": "stdout"
        },
        {
          "output_type": "stream",
          "text": [
            "\n",
            " 40%|████      | 1129/2808 [00:10<00:13, 122.33it/s]\u001b[A\n",
            " 41%|████      | 1142/2808 [00:10<00:13, 122.79it/s]\u001b[A\n",
            " 41%|████      | 1155/2808 [00:10<00:13, 123.38it/s]\u001b[A\n",
            " 42%|████▏     | 1168/2808 [00:10<00:13, 122.64it/s]\u001b[A\n",
            " 42%|████▏     | 1181/2808 [00:10<00:13, 122.70it/s]\u001b[A\n",
            " 43%|████▎     | 1194/2808 [00:11<00:13, 122.85it/s]\u001b[A\n",
            " 43%|████▎     | 1207/2808 [00:11<00:13, 122.67it/s]\u001b[A\n",
            " 43%|████▎     | 1220/2808 [00:11<00:12, 122.45it/s]\u001b[A"
          ],
          "name": "stderr"
        },
        {
          "output_type": "stream",
          "text": [
            "| epoch   1 |  1200/ 2808 batches | lr 4.00 | loss  2.11 | ppl     8.28\n"
          ],
          "name": "stdout"
        },
        {
          "output_type": "stream",
          "text": [
            "\n",
            " 44%|████▍     | 1233/2808 [00:11<00:12, 122.68it/s]\u001b[A\n",
            " 44%|████▍     | 1246/2808 [00:11<00:12, 122.37it/s]\u001b[A\n",
            " 45%|████▍     | 1259/2808 [00:11<00:12, 122.43it/s]\u001b[A\n",
            " 45%|████▌     | 1272/2808 [00:11<00:12, 121.94it/s]\u001b[A\n",
            " 46%|████▌     | 1285/2808 [00:11<00:12, 122.31it/s]\u001b[A\n",
            " 46%|████▌     | 1298/2808 [00:11<00:12, 122.63it/s]\u001b[A\n",
            " 47%|████▋     | 1311/2808 [00:12<00:12, 122.40it/s]\u001b[A\n",
            " 47%|████▋     | 1324/2808 [00:12<00:12, 122.22it/s]\u001b[A"
          ],
          "name": "stderr"
        },
        {
          "output_type": "stream",
          "text": [
            "| epoch   1 |  1300/ 2808 batches | lr 4.00 | loss  2.09 | ppl     8.10\n"
          ],
          "name": "stdout"
        },
        {
          "output_type": "stream",
          "text": [
            "\n",
            " 48%|████▊     | 1337/2808 [00:12<00:11, 122.96it/s]\u001b[A\n",
            " 48%|████▊     | 1350/2808 [00:12<00:11, 122.37it/s]\u001b[A\n",
            " 49%|████▊     | 1363/2808 [00:12<00:11, 122.27it/s]\u001b[A\n",
            " 49%|████▉     | 1376/2808 [00:12<00:11, 121.66it/s]\u001b[A\n",
            " 49%|████▉     | 1389/2808 [00:12<00:11, 122.00it/s]\u001b[A\n",
            " 50%|████▉     | 1402/2808 [00:12<00:11, 121.72it/s]\u001b[A\n",
            " 50%|█████     | 1415/2808 [00:12<00:11, 122.16it/s]\u001b[A"
          ],
          "name": "stderr"
        },
        {
          "output_type": "stream",
          "text": [
            "| epoch   1 |  1400/ 2808 batches | lr 4.00 | loss  2.06 | ppl     7.86\n"
          ],
          "name": "stdout"
        },
        {
          "output_type": "stream",
          "text": [
            "\n",
            " 51%|█████     | 1428/2808 [00:12<00:11, 122.07it/s]\u001b[A\n",
            " 51%|█████▏    | 1441/2808 [00:13<00:11, 121.97it/s]\u001b[A\n",
            " 52%|█████▏    | 1454/2808 [00:13<00:11, 121.98it/s]\u001b[A\n",
            " 52%|█████▏    | 1467/2808 [00:13<00:11, 121.68it/s]\u001b[A\n",
            " 53%|█████▎    | 1480/2808 [00:13<00:10, 122.36it/s]\u001b[A\n",
            " 53%|█████▎    | 1493/2808 [00:13<00:10, 121.98it/s]\u001b[A\n",
            " 54%|█████▎    | 1506/2808 [00:13<00:10, 122.28it/s]\u001b[A\n",
            " 54%|█████▍    | 1519/2808 [00:13<00:10, 122.71it/s]\u001b[A"
          ],
          "name": "stderr"
        },
        {
          "output_type": "stream",
          "text": [
            "| epoch   1 |  1500/ 2808 batches | lr 4.00 | loss  2.05 | ppl     7.77\n"
          ],
          "name": "stdout"
        },
        {
          "output_type": "stream",
          "text": [
            "\n",
            " 55%|█████▍    | 1532/2808 [00:13<00:10, 122.71it/s]\u001b[A\n",
            " 55%|█████▌    | 1545/2808 [00:13<00:10, 123.03it/s]\u001b[A\n",
            " 55%|█████▌    | 1558/2808 [00:14<00:10, 123.09it/s]\u001b[A\n",
            " 56%|█████▌    | 1571/2808 [00:14<00:10, 122.40it/s]\u001b[A\n",
            " 56%|█████▋    | 1584/2808 [00:14<00:09, 122.49it/s]\u001b[A\n",
            " 57%|█████▋    | 1597/2808 [00:14<00:09, 122.39it/s]\u001b[A\n",
            " 57%|█████▋    | 1610/2808 [00:14<00:09, 122.68it/s]\u001b[A\n",
            " 58%|█████▊    | 1623/2808 [00:14<00:09, 122.95it/s]\u001b[A"
          ],
          "name": "stderr"
        },
        {
          "output_type": "stream",
          "text": [
            "| epoch   1 |  1600/ 2808 batches | lr 4.00 | loss  2.03 | ppl     7.64\n"
          ],
          "name": "stdout"
        },
        {
          "output_type": "stream",
          "text": [
            "\n",
            " 58%|█████▊    | 1636/2808 [00:14<00:09, 121.89it/s]\u001b[A\n",
            " 59%|█████▊    | 1649/2808 [00:14<00:09, 122.29it/s]\u001b[A\n",
            " 59%|█████▉    | 1662/2808 [00:14<00:09, 122.22it/s]\u001b[A\n",
            " 60%|█████▉    | 1675/2808 [00:14<00:09, 122.29it/s]\u001b[A\n",
            " 60%|██████    | 1688/2808 [00:15<00:09, 121.85it/s]\u001b[A\n",
            " 61%|██████    | 1701/2808 [00:15<00:09, 122.30it/s]\u001b[A\n",
            " 61%|██████    | 1714/2808 [00:15<00:08, 122.62it/s]\u001b[A"
          ],
          "name": "stderr"
        },
        {
          "output_type": "stream",
          "text": [
            "| epoch   1 |  1700/ 2808 batches | lr 4.00 | loss  2.01 | ppl     7.50\n"
          ],
          "name": "stdout"
        },
        {
          "output_type": "stream",
          "text": [
            "\n",
            " 62%|██████▏   | 1727/2808 [00:15<00:08, 121.90it/s]\u001b[A\n",
            " 62%|██████▏   | 1740/2808 [00:15<00:08, 122.33it/s]\u001b[A\n",
            " 62%|██████▏   | 1753/2808 [00:15<00:08, 122.89it/s]\u001b[A\n",
            " 63%|██████▎   | 1766/2808 [00:15<00:08, 123.03it/s]\u001b[A\n",
            " 63%|██████▎   | 1779/2808 [00:15<00:08, 122.68it/s]\u001b[A\n",
            " 64%|██████▍   | 1792/2808 [00:15<00:08, 122.64it/s]\u001b[A\n",
            " 64%|██████▍   | 1805/2808 [00:16<00:08, 122.61it/s]\u001b[A\n",
            " 65%|██████▍   | 1818/2808 [00:16<00:08, 122.57it/s]\u001b[A"
          ],
          "name": "stderr"
        },
        {
          "output_type": "stream",
          "text": [
            "| epoch   1 |  1800/ 2808 batches | lr 4.00 | loss  2.00 | ppl     7.39\n"
          ],
          "name": "stdout"
        },
        {
          "output_type": "stream",
          "text": [
            "\n",
            " 65%|██████▌   | 1831/2808 [00:16<00:07, 122.13it/s]\u001b[A\n",
            " 66%|██████▌   | 1844/2808 [00:16<00:07, 121.45it/s]\u001b[A\n",
            " 66%|██████▌   | 1857/2808 [00:16<00:07, 122.58it/s]\u001b[A\n",
            " 67%|██████▋   | 1870/2808 [00:16<00:07, 122.15it/s]\u001b[A\n",
            " 67%|██████▋   | 1883/2808 [00:16<00:07, 122.26it/s]\u001b[A\n",
            " 68%|██████▊   | 1896/2808 [00:16<00:07, 122.52it/s]\u001b[A\n",
            " 68%|██████▊   | 1909/2808 [00:16<00:07, 122.02it/s]\u001b[A\n",
            " 68%|██████▊   | 1922/2808 [00:17<00:07, 122.11it/s]\u001b[A"
          ],
          "name": "stderr"
        },
        {
          "output_type": "stream",
          "text": [
            "| epoch   1 |  1900/ 2808 batches | lr 4.00 | loss  1.99 | ppl     7.35\n"
          ],
          "name": "stdout"
        },
        {
          "output_type": "stream",
          "text": [
            "\n",
            " 69%|██████▉   | 1935/2808 [00:17<00:07, 122.20it/s]\u001b[A\n",
            " 69%|██████▉   | 1948/2808 [00:17<00:07, 121.85it/s]\u001b[A\n",
            " 70%|██████▉   | 1961/2808 [00:17<00:06, 121.38it/s]\u001b[A\n",
            " 70%|███████   | 1974/2808 [00:17<00:06, 122.96it/s]\u001b[A\n",
            " 71%|███████   | 1987/2808 [00:17<00:06, 123.40it/s]\u001b[A\n",
            " 71%|███████   | 2000/2808 [00:17<00:06, 122.19it/s]\u001b[A\n",
            " 72%|███████▏  | 2013/2808 [00:17<00:06, 122.22it/s]\u001b[A\n",
            " 72%|███████▏  | 2026/2808 [00:17<00:06, 122.38it/s]"
          ],
          "name": "stderr"
        },
        {
          "output_type": "stream",
          "text": [
            "| epoch   1 |  2000/ 2808 batches | lr 4.00 | loss  1.97 | ppl     7.18\n"
          ],
          "name": "stdout"
        },
        {
          "output_type": "stream",
          "text": [
            "\u001b[A\n",
            " 73%|███████▎  | 2039/2808 [00:17<00:06, 122.29it/s]\u001b[A\n",
            " 73%|███████▎  | 2052/2808 [00:18<00:06, 121.90it/s]\u001b[A\n",
            " 74%|███████▎  | 2065/2808 [00:18<00:06, 122.77it/s]\u001b[A\n",
            " 74%|███████▍  | 2078/2808 [00:18<00:05, 123.09it/s]\u001b[A\n",
            " 74%|███████▍  | 2091/2808 [00:18<00:05, 122.98it/s]\u001b[A\n",
            " 75%|███████▍  | 2104/2808 [00:18<00:05, 122.81it/s]\u001b[A\n",
            " 75%|███████▌  | 2117/2808 [00:18<00:05, 122.38it/s]\u001b[A"
          ],
          "name": "stderr"
        },
        {
          "output_type": "stream",
          "text": [
            "| epoch   1 |  2100/ 2808 batches | lr 4.00 | loss  1.97 | ppl     7.15\n"
          ],
          "name": "stdout"
        },
        {
          "output_type": "stream",
          "text": [
            "\n",
            " 76%|███████▌  | 2130/2808 [00:18<00:05, 122.48it/s]\u001b[A\n",
            " 76%|███████▋  | 2143/2808 [00:18<00:05, 122.66it/s]\u001b[A\n",
            " 77%|███████▋  | 2156/2808 [00:18<00:05, 122.39it/s]\u001b[A\n",
            " 77%|███████▋  | 2169/2808 [00:19<00:05, 120.44it/s]\u001b[A\n",
            " 78%|███████▊  | 2182/2808 [00:19<00:05, 121.86it/s]\u001b[A\n",
            " 78%|███████▊  | 2195/2808 [00:19<00:05, 122.23it/s]\u001b[A\n",
            " 79%|███████▊  | 2208/2808 [00:19<00:04, 122.25it/s]\u001b[A\n",
            " 79%|███████▉  | 2221/2808 [00:19<00:04, 120.72it/s]\u001b[A"
          ],
          "name": "stderr"
        },
        {
          "output_type": "stream",
          "text": [
            "| epoch   1 |  2200/ 2808 batches | lr 4.00 | loss  1.95 | ppl     7.04\n"
          ],
          "name": "stdout"
        },
        {
          "output_type": "stream",
          "text": [
            "\n",
            " 80%|███████▉  | 2234/2808 [00:19<00:04, 120.90it/s]\u001b[A\n",
            " 80%|████████  | 2247/2808 [00:19<00:04, 121.49it/s]\u001b[A\n",
            " 80%|████████  | 2260/2808 [00:19<00:04, 121.92it/s]\u001b[A\n",
            " 81%|████████  | 2273/2808 [00:19<00:04, 122.22it/s]\u001b[A\n",
            " 81%|████████▏ | 2286/2808 [00:19<00:04, 122.27it/s]\u001b[A\n",
            " 82%|████████▏ | 2299/2808 [00:20<00:04, 121.49it/s]\u001b[A\n",
            " 82%|████████▏ | 2312/2808 [00:20<00:04, 121.35it/s]\u001b[A\n",
            " 83%|████████▎ | 2325/2808 [00:20<00:03, 122.33it/s]\u001b[A"
          ],
          "name": "stderr"
        },
        {
          "output_type": "stream",
          "text": [
            "| epoch   1 |  2300/ 2808 batches | lr 4.00 | loss  1.95 | ppl     7.02\n"
          ],
          "name": "stdout"
        },
        {
          "output_type": "stream",
          "text": [
            "\n",
            " 83%|████████▎ | 2338/2808 [00:20<00:03, 122.30it/s]\u001b[A\n",
            " 84%|████████▎ | 2351/2808 [00:20<00:03, 122.44it/s]\u001b[A\n",
            " 84%|████████▍ | 2364/2808 [00:20<00:03, 123.09it/s]\u001b[A\n",
            " 85%|████████▍ | 2377/2808 [00:20<00:03, 123.45it/s]\u001b[A\n",
            " 85%|████████▌ | 2390/2808 [00:20<00:03, 122.90it/s]\u001b[A\n",
            " 86%|████████▌ | 2403/2808 [00:20<00:03, 122.40it/s]\u001b[A\n",
            " 86%|████████▌ | 2416/2808 [00:21<00:03, 122.53it/s]\u001b[A"
          ],
          "name": "stderr"
        },
        {
          "output_type": "stream",
          "text": [
            "| epoch   1 |  2400/ 2808 batches | lr 4.00 | loss  1.93 | ppl     6.87\n"
          ],
          "name": "stdout"
        },
        {
          "output_type": "stream",
          "text": [
            "\n",
            " 87%|████████▋ | 2429/2808 [00:21<00:03, 122.50it/s]\u001b[A\n",
            " 87%|████████▋ | 2442/2808 [00:21<00:02, 122.78it/s]\u001b[A\n",
            " 87%|████████▋ | 2455/2808 [00:21<00:02, 122.83it/s]\u001b[A\n",
            " 88%|████████▊ | 2468/2808 [00:21<00:02, 121.10it/s]\u001b[A\n",
            " 88%|████████▊ | 2481/2808 [00:21<00:02, 121.80it/s]\u001b[A\n",
            " 89%|████████▉ | 2494/2808 [00:21<00:02, 121.54it/s]\u001b[A\n",
            " 89%|████████▉ | 2507/2808 [00:21<00:02, 121.51it/s]\u001b[A\n",
            " 90%|████████▉ | 2520/2808 [00:21<00:02, 122.05it/s]\u001b[A"
          ],
          "name": "stderr"
        },
        {
          "output_type": "stream",
          "text": [
            "| epoch   1 |  2500/ 2808 batches | lr 4.00 | loss  1.92 | ppl     6.82\n"
          ],
          "name": "stdout"
        },
        {
          "output_type": "stream",
          "text": [
            "\n",
            " 90%|█████████ | 2533/2808 [00:22<00:02, 122.36it/s]\u001b[A\n",
            " 91%|█████████ | 2546/2808 [00:22<00:02, 122.80it/s]\u001b[A\n",
            " 91%|█████████ | 2559/2808 [00:22<00:02, 122.85it/s]\u001b[A\n",
            " 92%|█████████▏| 2572/2808 [00:22<00:01, 122.56it/s]\u001b[A\n",
            " 92%|█████████▏| 2585/2808 [00:22<00:01, 122.36it/s]\u001b[A\n",
            " 93%|█████████▎| 2598/2808 [00:22<00:01, 122.67it/s]\u001b[A\n",
            " 93%|█████████▎| 2611/2808 [00:22<00:01, 122.77it/s]\u001b[A\n",
            " 93%|█████████▎| 2624/2808 [00:22<00:01, 120.88it/s]\u001b[A"
          ],
          "name": "stderr"
        },
        {
          "output_type": "stream",
          "text": [
            "| epoch   1 |  2600/ 2808 batches | lr 4.00 | loss  1.92 | ppl     6.80\n"
          ],
          "name": "stdout"
        },
        {
          "output_type": "stream",
          "text": [
            "\n",
            " 94%|█████████▍| 2637/2808 [00:22<00:01, 120.73it/s]\u001b[A\n",
            " 94%|█████████▍| 2650/2808 [00:22<00:01, 121.15it/s]\u001b[A\n",
            " 95%|█████████▍| 2663/2808 [00:23<00:01, 121.53it/s]\u001b[A\n",
            " 95%|█████████▌| 2676/2808 [00:23<00:01, 122.07it/s]\u001b[A\n",
            " 96%|█████████▌| 2689/2808 [00:23<00:00, 122.67it/s]\u001b[A\n",
            " 96%|█████████▌| 2702/2808 [00:23<00:00, 122.64it/s]\u001b[A\n",
            " 97%|█████████▋| 2715/2808 [00:23<00:00, 121.90it/s]\u001b[A"
          ],
          "name": "stderr"
        },
        {
          "output_type": "stream",
          "text": [
            "| epoch   1 |  2700/ 2808 batches | lr 4.00 | loss  1.91 | ppl     6.73\n"
          ],
          "name": "stdout"
        },
        {
          "output_type": "stream",
          "text": [
            "\n",
            " 97%|█████████▋| 2728/2808 [00:23<00:00, 121.77it/s]\u001b[A\n",
            " 98%|█████████▊| 2741/2808 [00:23<00:00, 122.15it/s]\u001b[A\n",
            " 98%|█████████▊| 2754/2808 [00:23<00:00, 122.62it/s]\u001b[A\n",
            " 99%|█████████▊| 2767/2808 [00:23<00:00, 123.00it/s]\u001b[A\n",
            " 99%|█████████▉| 2780/2808 [00:24<00:00, 122.63it/s]\u001b[A\n",
            " 99%|█████████▉| 2793/2808 [00:24<00:00, 122.22it/s]\u001b[A\n",
            "100%|██████████| 2808/2808 [00:24<00:00, 115.65it/s]\n",
            "\n",
            "  0%|          | 0/292 [00:00<?, ?it/s]\u001b[A"
          ],
          "name": "stderr"
        },
        {
          "output_type": "stream",
          "text": [
            "| epoch   1 |  2800/ 2808 batches | lr 4.00 | loss  1.89 | ppl     6.60\n"
          ],
          "name": "stdout"
        },
        {
          "output_type": "stream",
          "text": [
            "\n",
            "  0%|          | 1/292 [00:00<00:38,  7.50it/s]\u001b[A\n",
            " 19%|█▉        | 55/292 [00:00<00:22, 10.65it/s]\u001b[A\n",
            " 38%|███▊      | 111/292 [00:00<00:11, 15.09it/s]\u001b[A\n",
            " 57%|█████▋    | 165/292 [00:00<00:05, 21.30it/s]\u001b[A\n",
            " 76%|███████▌  | 221/292 [00:00<00:02, 29.94it/s]\u001b[A\n",
            "100%|██████████| 292/292 [00:00<00:00, 434.89it/s]\n",
            "\n",
            "  0%|          | 0/2808 [00:00<?, ?it/s]\u001b[A"
          ],
          "name": "stderr"
        },
        {
          "output_type": "stream",
          "text": [
            "-----------------------------------------------------------------------------------------\n",
            "| end of epoch   1 | valid loss  1.69 | valid ppl     5.40\n",
            "-----------------------------------------------------------------------------------------\n",
            "sample:\n",
            " is fougror Sclo ( oespive <eos> be ′t f , Naty o Resit \n",
            "\n"
          ],
          "name": "stdout"
        },
        {
          "output_type": "stream",
          "text": [
            "\n",
            "  0%|          | 1/2808 [00:01<1:01:38,  1.32s/it]\u001b[A\n",
            "  0%|          | 13/2808 [00:01<43:05,  1.08it/s] \u001b[A\n",
            "  1%|          | 26/2808 [00:01<30:08,  1.54it/s]\u001b[A\n",
            "  1%|▏         | 39/2808 [00:01<21:06,  2.19it/s]\u001b[A\n",
            "  2%|▏         | 52/2808 [00:01<14:49,  3.10it/s]\u001b[A\n",
            "  2%|▏         | 64/2808 [00:01<10:26,  4.38it/s]\u001b[A\n",
            "  3%|▎         | 77/2808 [00:01<07:23,  6.16it/s]\u001b[A\n",
            "  3%|▎         | 90/2808 [00:02<05:15,  8.62it/s]\u001b[A\n",
            "  4%|▎         | 103/2808 [00:02<03:46, 11.94it/s]\u001b[A\n",
            "  4%|▍         | 116/2808 [00:02<02:44, 16.38it/s]\u001b[A"
          ],
          "name": "stderr"
        },
        {
          "output_type": "stream",
          "text": [
            "| epoch   2 |   100/ 2808 batches | lr 1.00 | loss  1.89 | ppl     6.64\n"
          ],
          "name": "stdout"
        },
        {
          "output_type": "stream",
          "text": [
            "\n",
            "  5%|▍         | 129/2808 [00:02<02:01, 22.13it/s]\u001b[A\n",
            "  5%|▌         | 142/2808 [00:02<01:30, 29.33it/s]\u001b[A\n",
            "  5%|▌         | 154/2808 [00:02<01:10, 37.85it/s]\u001b[A\n",
            "  6%|▌         | 167/2808 [00:02<00:55, 47.70it/s]\u001b[A\n",
            "  6%|▋         | 180/2808 [00:02<00:45, 58.34it/s]\u001b[A\n",
            "  7%|▋         | 193/2808 [00:02<00:37, 69.42it/s]\u001b[A\n",
            "  7%|▋         | 206/2808 [00:03<00:32, 79.60it/s]\u001b[A\n",
            "  8%|▊         | 219/2808 [00:03<00:29, 88.87it/s]\u001b[A"
          ],
          "name": "stderr"
        },
        {
          "output_type": "stream",
          "text": [
            "| epoch   2 |   200/ 2808 batches | lr 1.00 | loss  1.87 | ppl     6.47\n"
          ],
          "name": "stdout"
        },
        {
          "output_type": "stream",
          "text": [
            "\n",
            "  8%|▊         | 232/2808 [00:03<00:26, 96.82it/s]\u001b[A\n",
            "  9%|▊         | 245/2808 [00:03<00:24, 102.83it/s]\u001b[A\n",
            "  9%|▉         | 258/2808 [00:03<00:23, 108.87it/s]\u001b[A\n",
            " 10%|▉         | 271/2808 [00:03<00:22, 110.68it/s]\u001b[A\n",
            " 10%|█         | 284/2808 [00:03<00:22, 113.95it/s]\u001b[A\n",
            " 11%|█         | 297/2808 [00:03<00:21, 115.97it/s]\u001b[A\n",
            " 11%|█         | 310/2808 [00:03<00:21, 116.81it/s]\u001b[A\n",
            " 12%|█▏        | 323/2808 [00:03<00:21, 118.02it/s]\u001b[A"
          ],
          "name": "stderr"
        },
        {
          "output_type": "stream",
          "text": [
            "| epoch   2 |   300/ 2808 batches | lr 1.00 | loss  1.87 | ppl     6.46\n"
          ],
          "name": "stdout"
        },
        {
          "output_type": "stream",
          "text": [
            "\n",
            " 12%|█▏        | 336/2808 [00:04<00:20, 118.66it/s]\u001b[A\n",
            " 12%|█▏        | 349/2808 [00:04<00:20, 120.16it/s]\u001b[A\n",
            " 13%|█▎        | 362/2808 [00:04<00:20, 120.90it/s]\u001b[A\n",
            " 13%|█▎        | 375/2808 [00:04<00:20, 121.33it/s]\u001b[A\n",
            " 14%|█▍        | 388/2808 [00:04<00:19, 121.87it/s]\u001b[A\n",
            " 14%|█▍        | 401/2808 [00:04<00:19, 122.01it/s]\u001b[A\n",
            " 15%|█▍        | 414/2808 [00:04<00:19, 122.52it/s]\u001b[A"
          ],
          "name": "stderr"
        },
        {
          "output_type": "stream",
          "text": [
            "| epoch   2 |   400/ 2808 batches | lr 1.00 | loss  1.87 | ppl     6.46\n"
          ],
          "name": "stdout"
        },
        {
          "output_type": "stream",
          "text": [
            "\n",
            " 15%|█▌        | 427/2808 [00:04<00:19, 121.97it/s]\u001b[A\n",
            " 16%|█▌        | 440/2808 [00:04<00:19, 122.17it/s]\u001b[A\n",
            " 16%|█▌        | 453/2808 [00:05<00:19, 122.68it/s]\u001b[A\n",
            " 17%|█▋        | 466/2808 [00:05<00:19, 122.73it/s]\u001b[A\n",
            " 17%|█▋        | 479/2808 [00:05<00:18, 122.84it/s]\u001b[A\n",
            " 18%|█▊        | 492/2808 [00:05<00:18, 122.24it/s]\u001b[A\n",
            " 18%|█▊        | 505/2808 [00:05<00:18, 122.58it/s]\u001b[A\n",
            " 18%|█▊        | 518/2808 [00:05<00:18, 122.26it/s]\u001b[A"
          ],
          "name": "stderr"
        },
        {
          "output_type": "stream",
          "text": [
            "| epoch   2 |   500/ 2808 batches | lr 1.00 | loss  1.86 | ppl     6.42\n"
          ],
          "name": "stdout"
        },
        {
          "output_type": "stream",
          "text": [
            "\n",
            " 19%|█▉        | 531/2808 [00:05<00:18, 121.95it/s]\u001b[A\n",
            " 19%|█▉        | 544/2808 [00:05<00:18, 119.80it/s]\u001b[A\n",
            " 20%|█▉        | 557/2808 [00:05<00:18, 120.49it/s]\u001b[A\n",
            " 20%|██        | 570/2808 [00:06<00:18, 121.69it/s]\u001b[A\n",
            " 21%|██        | 583/2808 [00:06<00:18, 121.95it/s]\u001b[A\n",
            " 21%|██        | 596/2808 [00:06<00:18, 122.55it/s]\u001b[A\n",
            " 22%|██▏       | 609/2808 [00:06<00:17, 122.21it/s]\u001b[A\n",
            " 22%|██▏       | 622/2808 [00:06<00:17, 122.26it/s]\u001b[A"
          ],
          "name": "stderr"
        },
        {
          "output_type": "stream",
          "text": [
            "| epoch   2 |   600/ 2808 batches | lr 1.00 | loss  1.86 | ppl     6.39\n"
          ],
          "name": "stdout"
        },
        {
          "output_type": "stream",
          "text": [
            "\n",
            " 23%|██▎       | 635/2808 [00:06<00:17, 121.84it/s]\u001b[A\n",
            " 23%|██▎       | 648/2808 [00:06<00:17, 121.26it/s]\u001b[A\n",
            " 24%|██▎       | 661/2808 [00:06<00:17, 121.61it/s]\u001b[A\n",
            " 24%|██▍       | 674/2808 [00:06<00:17, 121.68it/s]\u001b[A\n",
            " 24%|██▍       | 687/2808 [00:06<00:17, 120.34it/s]\u001b[A\n",
            " 25%|██▍       | 700/2808 [00:07<00:17, 120.71it/s]\u001b[A\n",
            " 25%|██▌       | 713/2808 [00:07<00:17, 121.29it/s]\u001b[A\n",
            " 26%|██▌       | 726/2808 [00:07<00:17, 121.90it/s]"
          ],
          "name": "stderr"
        },
        {
          "output_type": "stream",
          "text": [
            "| epoch   2 |   700/ 2808 batches | lr 1.00 | loss  1.86 | ppl     6.40\n"
          ],
          "name": "stdout"
        },
        {
          "output_type": "stream",
          "text": [
            "\u001b[A\n",
            " 26%|██▋       | 739/2808 [00:07<00:17, 119.17it/s]\u001b[A\n",
            " 27%|██▋       | 752/2808 [00:07<00:17, 119.80it/s]\u001b[A\n",
            " 27%|██▋       | 765/2808 [00:07<00:16, 120.60it/s]\u001b[A\n",
            " 28%|██▊       | 778/2808 [00:07<00:16, 121.96it/s]\u001b[A\n",
            " 28%|██▊       | 791/2808 [00:07<00:16, 122.06it/s]\u001b[A\n",
            " 29%|██▊       | 804/2808 [00:07<00:16, 121.07it/s]\u001b[A\n",
            " 29%|██▉       | 817/2808 [00:08<00:16, 122.53it/s]\u001b[A"
          ],
          "name": "stderr"
        },
        {
          "output_type": "stream",
          "text": [
            "| epoch   2 |   800/ 2808 batches | lr 1.00 | loss  1.85 | ppl     6.39\n"
          ],
          "name": "stdout"
        },
        {
          "output_type": "stream",
          "text": [
            "\n",
            " 30%|██▉       | 830/2808 [00:08<00:16, 122.45it/s]\u001b[A\n",
            " 30%|███       | 843/2808 [00:08<00:15, 122.84it/s]\u001b[A\n",
            " 30%|███       | 856/2808 [00:08<00:15, 124.00it/s]\u001b[A\n",
            " 31%|███       | 869/2808 [00:08<00:15, 123.28it/s]\u001b[A\n",
            " 31%|███▏      | 882/2808 [00:08<00:15, 123.09it/s]\u001b[A\n",
            " 32%|███▏      | 895/2808 [00:08<00:15, 122.97it/s]\u001b[A\n",
            " 32%|███▏      | 908/2808 [00:08<00:15, 123.75it/s]\u001b[A\n",
            " 33%|███▎      | 921/2808 [00:08<00:15, 124.10it/s]\u001b[A"
          ],
          "name": "stderr"
        },
        {
          "output_type": "stream",
          "text": [
            "| epoch   2 |   900/ 2808 batches | lr 1.00 | loss  1.85 | ppl     6.38\n"
          ],
          "name": "stdout"
        },
        {
          "output_type": "stream",
          "text": [
            "\n",
            " 33%|███▎      | 934/2808 [00:08<00:15, 123.65it/s]\u001b[A\n",
            " 34%|███▎      | 947/2808 [00:09<00:15, 123.22it/s]\u001b[A\n",
            " 34%|███▍      | 960/2808 [00:09<00:14, 123.21it/s]\u001b[A\n",
            " 35%|███▍      | 973/2808 [00:09<00:14, 122.86it/s]\u001b[A\n",
            " 35%|███▌      | 986/2808 [00:09<00:14, 122.48it/s]\u001b[A\n",
            " 36%|███▌      | 999/2808 [00:09<00:14, 121.96it/s]\u001b[A\n",
            " 36%|███▌      | 1012/2808 [00:09<00:14, 121.81it/s]\u001b[A\n",
            " 37%|███▋      | 1025/2808 [00:09<00:14, 121.99it/s]\u001b[A"
          ],
          "name": "stderr"
        },
        {
          "output_type": "stream",
          "text": [
            "| epoch   2 |  1000/ 2808 batches | lr 1.00 | loss  1.85 | ppl     6.38\n"
          ],
          "name": "stdout"
        },
        {
          "output_type": "stream",
          "text": [
            "\n",
            " 37%|███▋      | 1038/2808 [00:09<00:14, 122.14it/s]\u001b[A\n",
            " 37%|███▋      | 1051/2808 [00:09<00:14, 122.19it/s]\u001b[A\n",
            " 38%|███▊      | 1064/2808 [00:10<00:14, 121.51it/s]\u001b[A\n",
            " 38%|███▊      | 1077/2808 [00:10<00:14, 121.92it/s]\u001b[A\n",
            " 39%|███▉      | 1090/2808 [00:10<00:14, 122.29it/s]\u001b[A\n",
            " 39%|███▉      | 1103/2808 [00:10<00:13, 122.20it/s]\u001b[A\n",
            " 40%|███▉      | 1116/2808 [00:10<00:13, 122.36it/s]\u001b[A"
          ],
          "name": "stderr"
        },
        {
          "output_type": "stream",
          "text": [
            "| epoch   2 |  1100/ 2808 batches | lr 1.00 | loss  1.85 | ppl     6.35\n"
          ],
          "name": "stdout"
        },
        {
          "output_type": "stream",
          "text": [
            "\n",
            " 40%|████      | 1129/2808 [00:10<00:13, 122.38it/s]\u001b[A\n",
            " 41%|████      | 1142/2808 [00:10<00:13, 120.44it/s]\u001b[A\n",
            " 41%|████      | 1155/2808 [00:10<00:13, 120.44it/s]\u001b[A\n",
            " 42%|████▏     | 1168/2808 [00:10<00:13, 120.77it/s]\u001b[A\n",
            " 42%|████▏     | 1181/2808 [00:11<00:13, 121.17it/s]\u001b[A\n",
            " 43%|████▎     | 1194/2808 [00:11<00:13, 122.33it/s]\u001b[A\n",
            " 43%|████▎     | 1207/2808 [00:11<00:13, 121.66it/s]\u001b[A\n",
            " 43%|████▎     | 1220/2808 [00:11<00:13, 121.87it/s]\u001b[A"
          ],
          "name": "stderr"
        },
        {
          "output_type": "stream",
          "text": [
            "| epoch   2 |  1200/ 2808 batches | lr 1.00 | loss  1.85 | ppl     6.36\n"
          ],
          "name": "stdout"
        },
        {
          "output_type": "stream",
          "text": [
            "\n",
            " 44%|████▍     | 1233/2808 [00:11<00:12, 122.29it/s]\u001b[A\n",
            " 44%|████▍     | 1246/2808 [00:11<00:12, 121.95it/s]\u001b[A\n",
            " 45%|████▍     | 1259/2808 [00:11<00:12, 121.40it/s]\u001b[A\n",
            " 45%|████▌     | 1272/2808 [00:11<00:12, 121.29it/s]\u001b[A\n",
            " 46%|████▌     | 1285/2808 [00:11<00:12, 121.79it/s]\u001b[A\n",
            " 46%|████▌     | 1298/2808 [00:11<00:12, 121.92it/s]\u001b[A\n",
            " 47%|████▋     | 1311/2808 [00:12<00:12, 121.38it/s]\u001b[A\n",
            " 47%|████▋     | 1324/2808 [00:12<00:12, 121.93it/s]\u001b[A"
          ],
          "name": "stderr"
        },
        {
          "output_type": "stream",
          "text": [
            "| epoch   2 |  1300/ 2808 batches | lr 1.00 | loss  1.84 | ppl     6.33\n"
          ],
          "name": "stdout"
        },
        {
          "output_type": "stream",
          "text": [
            "\n",
            " 48%|████▊     | 1337/2808 [00:12<00:12, 121.72it/s]\u001b[A\n",
            " 48%|████▊     | 1350/2808 [00:12<00:11, 121.75it/s]\u001b[A\n",
            " 49%|████▊     | 1363/2808 [00:12<00:11, 121.97it/s]\u001b[A\n",
            " 49%|████▉     | 1376/2808 [00:12<00:11, 122.56it/s]\u001b[A\n",
            " 49%|████▉     | 1389/2808 [00:12<00:11, 122.53it/s]\u001b[A\n",
            " 50%|████▉     | 1402/2808 [00:12<00:11, 122.40it/s]\u001b[A\n",
            " 50%|█████     | 1415/2808 [00:12<00:11, 122.19it/s]\u001b[A"
          ],
          "name": "stderr"
        },
        {
          "output_type": "stream",
          "text": [
            "| epoch   2 |  1400/ 2808 batches | lr 1.00 | loss  1.83 | ppl     6.23\n"
          ],
          "name": "stdout"
        },
        {
          "output_type": "stream",
          "text": [
            "\n",
            " 51%|█████     | 1428/2808 [00:13<00:11, 122.36it/s]\u001b[A\n",
            " 51%|█████▏    | 1441/2808 [00:13<00:11, 122.75it/s]\u001b[A\n",
            " 52%|█████▏    | 1454/2808 [00:13<00:11, 122.31it/s]\u001b[A\n",
            " 52%|█████▏    | 1467/2808 [00:13<00:10, 122.43it/s]\u001b[A\n",
            " 53%|█████▎    | 1480/2808 [00:13<00:10, 123.26it/s]\u001b[A\n",
            " 53%|█████▎    | 1493/2808 [00:13<00:10, 123.35it/s]\u001b[A\n",
            " 54%|█████▎    | 1506/2808 [00:13<00:10, 122.86it/s]\u001b[A\n",
            " 54%|█████▍    | 1519/2808 [00:13<00:10, 122.84it/s]\u001b[A"
          ],
          "name": "stderr"
        },
        {
          "output_type": "stream",
          "text": [
            "| epoch   2 |  1500/ 2808 batches | lr 1.00 | loss  1.84 | ppl     6.28\n"
          ],
          "name": "stdout"
        },
        {
          "output_type": "stream",
          "text": [
            "\n",
            " 55%|█████▍    | 1532/2808 [00:13<00:10, 122.06it/s]\u001b[A\n",
            " 55%|█████▌    | 1545/2808 [00:13<00:10, 122.53it/s]\u001b[A\n",
            " 55%|█████▌    | 1558/2808 [00:14<00:10, 122.63it/s]\u001b[A\n",
            " 56%|█████▌    | 1571/2808 [00:14<00:10, 122.35it/s]\u001b[A\n",
            " 56%|█████▋    | 1584/2808 [00:14<00:10, 122.32it/s]\u001b[A\n",
            " 57%|█████▋    | 1597/2808 [00:14<00:09, 122.30it/s]\u001b[A\n",
            " 57%|█████▋    | 1610/2808 [00:14<00:09, 122.67it/s]\u001b[A\n",
            " 58%|█████▊    | 1623/2808 [00:14<00:09, 123.40it/s]\u001b[A"
          ],
          "name": "stderr"
        },
        {
          "output_type": "stream",
          "text": [
            "| epoch   2 |  1600/ 2808 batches | lr 1.00 | loss  1.84 | ppl     6.27\n"
          ],
          "name": "stdout"
        },
        {
          "output_type": "stream",
          "text": [
            "\n",
            " 58%|█████▊    | 1636/2808 [00:14<00:09, 122.83it/s]\u001b[A\n",
            " 59%|█████▊    | 1649/2808 [00:14<00:09, 122.41it/s]\u001b[A\n",
            " 59%|█████▉    | 1662/2808 [00:14<00:09, 122.68it/s]\u001b[A\n",
            " 60%|█████▉    | 1675/2808 [00:15<00:09, 122.08it/s]\u001b[A\n",
            " 60%|██████    | 1688/2808 [00:15<00:09, 122.39it/s]\u001b[A\n",
            " 61%|██████    | 1701/2808 [00:15<00:09, 122.54it/s]\u001b[A\n",
            " 61%|██████    | 1714/2808 [00:15<00:08, 122.28it/s]\u001b[A"
          ],
          "name": "stderr"
        },
        {
          "output_type": "stream",
          "text": [
            "| epoch   2 |  1700/ 2808 batches | lr 1.00 | loss  1.83 | ppl     6.26\n"
          ],
          "name": "stdout"
        },
        {
          "output_type": "stream",
          "text": [
            "\n",
            " 62%|██████▏   | 1727/2808 [00:15<00:08, 122.40it/s]\u001b[A\n",
            " 62%|██████▏   | 1740/2808 [00:15<00:08, 122.18it/s]\u001b[A\n",
            " 62%|██████▏   | 1753/2808 [00:15<00:08, 121.98it/s]\u001b[A\n",
            " 63%|██████▎   | 1766/2808 [00:15<00:08, 122.29it/s]\u001b[A\n",
            " 63%|██████▎   | 1779/2808 [00:15<00:08, 122.63it/s]\u001b[A\n",
            " 64%|██████▍   | 1792/2808 [00:16<00:08, 122.33it/s]\u001b[A\n",
            " 64%|██████▍   | 1805/2808 [00:16<00:08, 121.68it/s]\u001b[A\n",
            " 65%|██████▍   | 1818/2808 [00:16<00:08, 122.18it/s]\u001b[A"
          ],
          "name": "stderr"
        },
        {
          "output_type": "stream",
          "text": [
            "| epoch   2 |  1800/ 2808 batches | lr 1.00 | loss  1.83 | ppl     6.26\n"
          ],
          "name": "stdout"
        },
        {
          "output_type": "stream",
          "text": [
            "\n",
            " 65%|██████▌   | 1831/2808 [00:16<00:08, 122.00it/s]\u001b[A\n",
            " 66%|██████▌   | 1844/2808 [00:16<00:07, 122.16it/s]\u001b[A\n",
            " 66%|██████▌   | 1857/2808 [00:16<00:07, 121.58it/s]\u001b[A\n",
            " 67%|██████▋   | 1870/2808 [00:16<00:07, 120.98it/s]\u001b[A\n",
            " 67%|██████▋   | 1883/2808 [00:16<00:07, 121.27it/s]\u001b[A\n",
            " 68%|██████▊   | 1896/2808 [00:16<00:07, 122.47it/s]\u001b[A\n",
            " 68%|██████▊   | 1909/2808 [00:16<00:07, 121.94it/s]\u001b[A\n",
            " 68%|██████▊   | 1922/2808 [00:17<00:07, 122.96it/s]\u001b[A"
          ],
          "name": "stderr"
        },
        {
          "output_type": "stream",
          "text": [
            "| epoch   2 |  1900/ 2808 batches | lr 1.00 | loss  1.84 | ppl     6.28\n"
          ],
          "name": "stdout"
        },
        {
          "output_type": "stream",
          "text": [
            "\n",
            " 69%|██████▉   | 1935/2808 [00:17<00:07, 122.55it/s]\u001b[A\n",
            " 69%|██████▉   | 1948/2808 [00:17<00:06, 123.51it/s]\u001b[A\n",
            " 70%|██████▉   | 1961/2808 [00:17<00:06, 122.56it/s]\u001b[A\n",
            " 70%|███████   | 1974/2808 [00:17<00:06, 122.84it/s]\u001b[A\n",
            " 71%|███████   | 1987/2808 [00:17<00:06, 122.88it/s]\u001b[A\n",
            " 71%|███████   | 2000/2808 [00:17<00:06, 122.74it/s]\u001b[A\n",
            " 72%|███████▏  | 2013/2808 [00:17<00:06, 121.83it/s]\u001b[A\n",
            " 72%|███████▏  | 2026/2808 [00:17<00:06, 122.96it/s]"
          ],
          "name": "stderr"
        },
        {
          "output_type": "stream",
          "text": [
            "| epoch   2 |  2000/ 2808 batches | lr 1.00 | loss  1.83 | ppl     6.21\n"
          ],
          "name": "stdout"
        },
        {
          "output_type": "stream",
          "text": [
            "\u001b[A\n",
            " 73%|███████▎  | 2039/2808 [00:18<00:06, 122.83it/s]\u001b[A\n",
            " 73%|███████▎  | 2052/2808 [00:18<00:06, 121.85it/s]\u001b[A\n",
            " 74%|███████▎  | 2065/2808 [00:18<00:06, 121.58it/s]\u001b[A\n",
            " 74%|███████▍  | 2078/2808 [00:18<00:06, 121.62it/s]\u001b[A\n",
            " 74%|███████▍  | 2091/2808 [00:18<00:05, 121.80it/s]\u001b[A\n",
            " 75%|███████▍  | 2104/2808 [00:18<00:05, 121.96it/s]\u001b[A\n",
            " 75%|███████▌  | 2117/2808 [00:18<00:05, 122.16it/s]\u001b[A"
          ],
          "name": "stderr"
        },
        {
          "output_type": "stream",
          "text": [
            "| epoch   2 |  2100/ 2808 batches | lr 1.00 | loss  1.83 | ppl     6.25\n"
          ],
          "name": "stdout"
        },
        {
          "output_type": "stream",
          "text": [
            "\n",
            " 76%|███████▌  | 2130/2808 [00:18<00:05, 121.87it/s]\u001b[A\n",
            " 76%|███████▋  | 2143/2808 [00:18<00:05, 121.46it/s]\u001b[A\n",
            " 77%|███████▋  | 2156/2808 [00:18<00:05, 121.62it/s]\u001b[A\n",
            " 77%|███████▋  | 2169/2808 [00:19<00:05, 120.98it/s]\u001b[A\n",
            " 78%|███████▊  | 2182/2808 [00:19<00:05, 121.13it/s]\u001b[A\n",
            " 78%|███████▊  | 2195/2808 [00:19<00:05, 121.35it/s]\u001b[A\n",
            " 79%|███████▊  | 2208/2808 [00:19<00:04, 121.65it/s]\u001b[A\n",
            " 79%|███████▉  | 2221/2808 [00:19<00:04, 121.78it/s]\u001b[A"
          ],
          "name": "stderr"
        },
        {
          "output_type": "stream",
          "text": [
            "| epoch   2 |  2200/ 2808 batches | lr 1.00 | loss  1.83 | ppl     6.22\n"
          ],
          "name": "stdout"
        },
        {
          "output_type": "stream",
          "text": [
            "\n",
            " 80%|███████▉  | 2234/2808 [00:19<00:04, 120.54it/s]\u001b[A\n",
            " 80%|████████  | 2247/2808 [00:19<00:04, 120.92it/s]\u001b[A\n",
            " 80%|████████  | 2260/2808 [00:19<00:04, 121.44it/s]\u001b[A\n",
            " 81%|████████  | 2273/2808 [00:19<00:04, 121.07it/s]\u001b[A\n",
            " 81%|████████▏ | 2286/2808 [00:20<00:04, 120.55it/s]\u001b[A\n",
            " 82%|████████▏ | 2299/2808 [00:20<00:04, 121.35it/s]\u001b[A\n",
            " 82%|████████▏ | 2312/2808 [00:20<00:04, 121.43it/s]\u001b[A\n",
            " 83%|████████▎ | 2325/2808 [00:20<00:03, 120.95it/s]\u001b[A"
          ],
          "name": "stderr"
        },
        {
          "output_type": "stream",
          "text": [
            "| epoch   2 |  2300/ 2808 batches | lr 1.00 | loss  1.83 | ppl     6.24\n"
          ],
          "name": "stdout"
        },
        {
          "output_type": "stream",
          "text": [
            "\n",
            " 83%|████████▎ | 2338/2808 [00:20<00:03, 120.84it/s]\u001b[A\n",
            " 84%|████████▎ | 2351/2808 [00:20<00:03, 121.38it/s]\u001b[A\n",
            " 84%|████████▍ | 2364/2808 [00:20<00:03, 122.21it/s]\u001b[A\n",
            " 85%|████████▍ | 2377/2808 [00:20<00:03, 121.75it/s]\u001b[A\n",
            " 85%|████████▌ | 2390/2808 [00:20<00:03, 122.03it/s]\u001b[A\n",
            " 86%|████████▌ | 2403/2808 [00:21<00:03, 121.83it/s]\u001b[A\n",
            " 86%|████████▌ | 2416/2808 [00:21<00:03, 122.28it/s]\u001b[A"
          ],
          "name": "stderr"
        },
        {
          "output_type": "stream",
          "text": [
            "| epoch   2 |  2400/ 2808 batches | lr 1.00 | loss  1.82 | ppl     6.16\n"
          ],
          "name": "stdout"
        },
        {
          "output_type": "stream",
          "text": [
            "\n",
            " 87%|████████▋ | 2429/2808 [00:21<00:03, 121.83it/s]\u001b[A\n",
            " 87%|████████▋ | 2442/2808 [00:21<00:02, 122.02it/s]\u001b[A\n",
            " 87%|████████▋ | 2455/2808 [00:21<00:02, 122.89it/s]\u001b[A\n",
            " 88%|████████▊ | 2468/2808 [00:21<00:02, 122.80it/s]\u001b[A\n",
            " 88%|████████▊ | 2481/2808 [00:21<00:02, 122.46it/s]\u001b[A\n",
            " 89%|████████▉ | 2494/2808 [00:21<00:02, 121.96it/s]\u001b[A\n",
            " 89%|████████▉ | 2507/2808 [00:21<00:02, 121.57it/s]\u001b[A\n",
            " 90%|████████▉ | 2520/2808 [00:21<00:02, 122.21it/s]\u001b[A"
          ],
          "name": "stderr"
        },
        {
          "output_type": "stream",
          "text": [
            "| epoch   2 |  2500/ 2808 batches | lr 1.00 | loss  1.82 | ppl     6.17\n"
          ],
          "name": "stdout"
        },
        {
          "output_type": "stream",
          "text": [
            "\n",
            " 90%|█████████ | 2533/2808 [00:22<00:02, 122.20it/s]\u001b[A\n",
            " 91%|█████████ | 2546/2808 [00:22<00:02, 121.87it/s]\u001b[A\n",
            " 91%|█████████ | 2559/2808 [00:22<00:02, 122.24it/s]\u001b[A\n",
            " 92%|█████████▏| 2572/2808 [00:22<00:01, 122.58it/s]\u001b[A\n",
            " 92%|█████████▏| 2585/2808 [00:22<00:01, 122.86it/s]\u001b[A\n",
            " 93%|█████████▎| 2598/2808 [00:22<00:01, 122.74it/s]\u001b[A\n",
            " 93%|█████████▎| 2611/2808 [00:22<00:01, 121.98it/s]\u001b[A\n",
            " 93%|█████████▎| 2624/2808 [00:22<00:01, 121.73it/s]\u001b[A"
          ],
          "name": "stderr"
        },
        {
          "output_type": "stream",
          "text": [
            "| epoch   2 |  2600/ 2808 batches | lr 1.00 | loss  1.83 | ppl     6.21\n"
          ],
          "name": "stdout"
        },
        {
          "output_type": "stream",
          "text": [
            "\n",
            " 94%|█████████▍| 2637/2808 [00:22<00:01, 122.52it/s]\u001b[A\n",
            " 94%|█████████▍| 2650/2808 [00:23<00:01, 122.41it/s]\u001b[A\n",
            " 95%|█████████▍| 2663/2808 [00:23<00:01, 122.56it/s]\u001b[A\n",
            " 95%|█████████▌| 2676/2808 [00:23<00:01, 122.07it/s]\u001b[A\n",
            " 96%|█████████▌| 2689/2808 [00:23<00:00, 123.31it/s]\u001b[A\n",
            " 96%|█████████▌| 2702/2808 [00:23<00:00, 122.31it/s]\u001b[A\n",
            " 97%|█████████▋| 2715/2808 [00:23<00:00, 122.61it/s]\u001b[A"
          ],
          "name": "stderr"
        },
        {
          "output_type": "stream",
          "text": [
            "| epoch   2 |  2700/ 2808 batches | lr 1.00 | loss  1.82 | ppl     6.18\n"
          ],
          "name": "stdout"
        },
        {
          "output_type": "stream",
          "text": [
            "\n",
            " 97%|█████████▋| 2728/2808 [00:23<00:00, 122.71it/s]\u001b[A\n",
            " 98%|█████████▊| 2741/2808 [00:23<00:00, 122.91it/s]\u001b[A\n",
            " 98%|█████████▊| 2754/2808 [00:23<00:00, 122.90it/s]\u001b[A\n",
            " 99%|█████████▊| 2767/2808 [00:23<00:00, 122.42it/s]\u001b[A\n",
            " 99%|█████████▉| 2780/2808 [00:24<00:00, 123.12it/s]\u001b[A\n",
            " 99%|█████████▉| 2793/2808 [00:24<00:00, 122.66it/s]\u001b[A\n",
            "100%|██████████| 2808/2808 [00:24<00:00, 115.36it/s]\n",
            "\n",
            "  0%|          | 0/292 [00:00<?, ?it/s]\u001b[A"
          ],
          "name": "stderr"
        },
        {
          "output_type": "stream",
          "text": [
            "| epoch   2 |  2800/ 2808 batches | lr 1.00 | loss  1.81 | ppl     6.10\n"
          ],
          "name": "stdout"
        },
        {
          "output_type": "stream",
          "text": [
            "\n",
            "  0%|          | 1/292 [00:00<00:41,  6.94it/s]\u001b[A\n",
            " 20%|█▉        | 57/292 [00:00<00:23,  9.86it/s]\u001b[A\n",
            " 38%|███▊      | 112/292 [00:00<00:12, 13.98it/s]\u001b[A\n",
            " 57%|█████▋    | 167/292 [00:00<00:06, 19.75it/s]\u001b[A\n",
            " 77%|███████▋  | 224/292 [00:00<00:02, 27.80it/s]\u001b[A\n",
            "100%|██████████| 292/292 [00:00<00:00, 434.73it/s]\n",
            "\n",
            "  0%|          | 0/2808 [00:00<?, ?it/s]\u001b[A"
          ],
          "name": "stderr"
        },
        {
          "output_type": "stream",
          "text": [
            "-----------------------------------------------------------------------------------------\n",
            "| end of epoch   2 | valid loss  1.61 | valid ppl     5.00\n",
            "-----------------------------------------------------------------------------------------\n",
            "sample:\n",
            "  ae stedepus rie. seld avek> , tind tuthe alisthen \n",
            "\n"
          ],
          "name": "stdout"
        },
        {
          "output_type": "stream",
          "text": [
            "\n",
            "  0%|          | 1/2808 [00:01<1:03:52,  1.37s/it]\u001b[A\n",
            "  0%|          | 13/2808 [00:01<44:38,  1.04it/s] \u001b[A\n",
            "  1%|          | 26/2808 [00:01<31:12,  1.49it/s]\u001b[A\n",
            "  1%|▏         | 39/2808 [00:01<21:51,  2.11it/s]\u001b[A\n",
            "  2%|▏         | 52/2808 [00:01<15:20,  2.99it/s]\u001b[A\n",
            "  2%|▏         | 64/2808 [00:01<10:48,  4.23it/s]\u001b[A\n",
            "  3%|▎         | 76/2808 [00:01<07:38,  5.95it/s]\u001b[A\n",
            "  3%|▎         | 89/2808 [00:02<05:26,  8.33it/s]\u001b[A\n",
            "  4%|▎         | 102/2808 [00:02<03:53, 11.57it/s]\u001b[A\n",
            "  4%|▍         | 115/2808 [00:02<02:49, 15.89it/s]\u001b[A"
          ],
          "name": "stderr"
        },
        {
          "output_type": "stream",
          "text": [
            "| epoch   3 |   100/ 2808 batches | lr 0.25 | loss  1.83 | ppl     6.25\n"
          ],
          "name": "stdout"
        },
        {
          "output_type": "stream",
          "text": [
            "\n",
            "  5%|▍         | 128/2808 [00:02<02:04, 21.50it/s]\u001b[A\n",
            "  5%|▌         | 141/2808 [00:02<01:33, 28.58it/s]\u001b[A\n",
            "  5%|▌         | 154/2808 [00:02<01:11, 37.09it/s]\u001b[A\n",
            "  6%|▌         | 167/2808 [00:02<00:56, 46.80it/s]\u001b[A\n",
            "  6%|▋         | 180/2808 [00:02<00:45, 57.52it/s]\u001b[A\n",
            "  7%|▋         | 193/2808 [00:02<00:38, 68.42it/s]\u001b[A\n",
            "  7%|▋         | 206/2808 [00:03<00:32, 79.05it/s]\u001b[A\n",
            "  8%|▊         | 219/2808 [00:03<00:29, 88.71it/s]\u001b[A"
          ],
          "name": "stderr"
        },
        {
          "output_type": "stream",
          "text": [
            "| epoch   3 |   200/ 2808 batches | lr 0.25 | loss  1.81 | ppl     6.11\n"
          ],
          "name": "stdout"
        },
        {
          "output_type": "stream",
          "text": [
            "\n",
            "  8%|▊         | 232/2808 [00:03<00:26, 96.73it/s]\u001b[A\n",
            "  9%|▊         | 245/2808 [00:03<00:24, 102.99it/s]\u001b[A\n",
            "  9%|▉         | 258/2808 [00:03<00:23, 108.17it/s]\u001b[A\n",
            " 10%|▉         | 271/2808 [00:03<00:22, 112.60it/s]\u001b[A\n",
            " 10%|█         | 284/2808 [00:03<00:21, 116.13it/s]\u001b[A\n",
            " 11%|█         | 297/2808 [00:03<00:21, 117.98it/s]\u001b[A\n",
            " 11%|█         | 310/2808 [00:03<00:20, 119.87it/s]\u001b[A\n",
            " 12%|█▏        | 323/2808 [00:03<00:20, 120.09it/s]\u001b[A"
          ],
          "name": "stderr"
        },
        {
          "output_type": "stream",
          "text": [
            "| epoch   3 |   300/ 2808 batches | lr 0.25 | loss  1.81 | ppl     6.13\n"
          ],
          "name": "stdout"
        },
        {
          "output_type": "stream",
          "text": [
            "\n",
            " 12%|█▏        | 336/2808 [00:04<00:20, 120.96it/s]\u001b[A\n",
            " 12%|█▏        | 349/2808 [00:04<00:20, 122.00it/s]\u001b[A\n",
            " 13%|█▎        | 362/2808 [00:04<00:19, 122.64it/s]\u001b[A\n",
            " 13%|█▎        | 375/2808 [00:04<00:20, 121.09it/s]\u001b[A\n",
            " 14%|█▍        | 388/2808 [00:04<00:19, 121.73it/s]\u001b[A\n",
            " 14%|█▍        | 401/2808 [00:04<00:19, 122.17it/s]\u001b[A\n",
            " 15%|█▍        | 414/2808 [00:04<00:19, 122.54it/s]\u001b[A"
          ],
          "name": "stderr"
        },
        {
          "output_type": "stream",
          "text": [
            "| epoch   3 |   400/ 2808 batches | lr 0.25 | loss  1.82 | ppl     6.14\n"
          ],
          "name": "stdout"
        },
        {
          "output_type": "stream",
          "text": [
            "\n",
            " 15%|█▌        | 427/2808 [00:04<00:19, 120.51it/s]\u001b[A\n",
            " 16%|█▌        | 440/2808 [00:04<00:19, 120.53it/s]\u001b[A\n",
            " 16%|█▌        | 453/2808 [00:05<00:19, 121.19it/s]\u001b[A\n",
            " 17%|█▋        | 466/2808 [00:05<00:19, 121.94it/s]\u001b[A\n",
            " 17%|█▋        | 479/2808 [00:05<00:19, 121.39it/s]\u001b[A\n",
            " 18%|█▊        | 492/2808 [00:05<00:19, 121.13it/s]\u001b[A\n",
            " 18%|█▊        | 505/2808 [00:05<00:18, 122.08it/s]\u001b[A\n",
            " 18%|█▊        | 518/2808 [00:05<00:18, 122.21it/s]\u001b[A"
          ],
          "name": "stderr"
        },
        {
          "output_type": "stream",
          "text": [
            "| epoch   3 |   500/ 2808 batches | lr 0.25 | loss  1.81 | ppl     6.12\n"
          ],
          "name": "stdout"
        },
        {
          "output_type": "stream",
          "text": [
            "\n",
            " 19%|█▉        | 531/2808 [00:05<00:18, 122.43it/s]\u001b[A\n",
            " 19%|█▉        | 544/2808 [00:05<00:18, 122.12it/s]\u001b[A\n",
            " 20%|█▉        | 557/2808 [00:05<00:18, 122.33it/s]\u001b[A\n",
            " 20%|██        | 570/2808 [00:06<00:18, 123.12it/s]\u001b[A\n",
            " 21%|██        | 583/2808 [00:06<00:18, 122.67it/s]\u001b[A\n",
            " 21%|██        | 596/2808 [00:06<00:18, 122.62it/s]\u001b[A\n",
            " 22%|██▏       | 609/2808 [00:06<00:17, 122.45it/s]\u001b[A\n",
            " 22%|██▏       | 622/2808 [00:06<00:17, 122.35it/s]\u001b[A"
          ],
          "name": "stderr"
        },
        {
          "output_type": "stream",
          "text": [
            "| epoch   3 |   600/ 2808 batches | lr 0.25 | loss  1.81 | ppl     6.12\n"
          ],
          "name": "stdout"
        },
        {
          "output_type": "stream",
          "text": [
            "\n",
            " 23%|██▎       | 635/2808 [00:06<00:17, 122.35it/s]\u001b[A\n",
            " 23%|██▎       | 648/2808 [00:06<00:17, 122.10it/s]\u001b[A\n",
            " 24%|██▎       | 661/2808 [00:06<00:17, 121.72it/s]\u001b[A\n",
            " 24%|██▍       | 674/2808 [00:06<00:17, 122.93it/s]\u001b[A\n",
            " 24%|██▍       | 687/2808 [00:06<00:17, 122.67it/s]\u001b[A\n",
            " 25%|██▍       | 700/2808 [00:07<00:17, 122.72it/s]\u001b[A\n",
            " 25%|██▌       | 713/2808 [00:07<00:17, 122.57it/s]\u001b[A\n",
            " 26%|██▌       | 726/2808 [00:07<00:16, 123.02it/s]"
          ],
          "name": "stderr"
        },
        {
          "output_type": "stream",
          "text": [
            "| epoch   3 |   700/ 2808 batches | lr 0.25 | loss  1.81 | ppl     6.13\n"
          ],
          "name": "stdout"
        },
        {
          "output_type": "stream",
          "text": [
            "\u001b[A\n",
            " 26%|██▋       | 739/2808 [00:07<00:16, 122.88it/s]\u001b[A\n",
            " 27%|██▋       | 752/2808 [00:07<00:16, 123.49it/s]\u001b[A\n",
            " 27%|██▋       | 765/2808 [00:07<00:16, 123.48it/s]\u001b[A\n",
            " 28%|██▊       | 778/2808 [00:07<00:16, 123.87it/s]\u001b[A\n",
            " 28%|██▊       | 791/2808 [00:07<00:16, 123.07it/s]\u001b[A\n",
            " 29%|██▊       | 804/2808 [00:07<00:16, 123.52it/s]\u001b[A\n",
            " 29%|██▉       | 817/2808 [00:08<00:16, 123.29it/s]\u001b[A"
          ],
          "name": "stderr"
        },
        {
          "output_type": "stream",
          "text": [
            "| epoch   3 |   800/ 2808 batches | lr 0.25 | loss  1.81 | ppl     6.11\n"
          ],
          "name": "stdout"
        },
        {
          "output_type": "stream",
          "text": [
            "\n",
            " 30%|██▉       | 830/2808 [00:08<00:16, 123.17it/s]\u001b[A\n",
            " 30%|███       | 843/2808 [00:08<00:15, 123.41it/s]\u001b[A\n",
            " 30%|███       | 856/2808 [00:08<00:15, 123.65it/s]\u001b[A\n",
            " 31%|███       | 869/2808 [00:08<00:15, 123.83it/s]\u001b[A\n",
            " 31%|███▏      | 882/2808 [00:08<00:15, 124.02it/s]\u001b[A\n",
            " 32%|███▏      | 895/2808 [00:08<00:15, 123.68it/s]\u001b[A\n",
            " 32%|███▏      | 908/2808 [00:08<00:15, 121.81it/s]\u001b[A\n",
            " 33%|███▎      | 921/2808 [00:08<00:15, 121.58it/s]\u001b[A"
          ],
          "name": "stderr"
        },
        {
          "output_type": "stream",
          "text": [
            "| epoch   3 |   900/ 2808 batches | lr 0.25 | loss  1.81 | ppl     6.12\n"
          ],
          "name": "stdout"
        },
        {
          "output_type": "stream",
          "text": [
            "\n",
            " 33%|███▎      | 934/2808 [00:08<00:15, 121.64it/s]\u001b[A\n",
            " 34%|███▎      | 947/2808 [00:09<00:15, 122.49it/s]\u001b[A\n",
            " 34%|███▍      | 960/2808 [00:09<00:15, 122.71it/s]\u001b[A\n",
            " 35%|███▍      | 973/2808 [00:09<00:14, 122.71it/s]\u001b[A\n",
            " 35%|███▌      | 986/2808 [00:09<00:15, 121.08it/s]\u001b[A\n",
            " 36%|███▌      | 999/2808 [00:09<00:14, 121.33it/s]\u001b[A\n",
            " 36%|███▌      | 1012/2808 [00:09<00:14, 121.37it/s]\u001b[A\n",
            " 37%|███▋      | 1025/2808 [00:09<00:14, 121.23it/s]\u001b[A"
          ],
          "name": "stderr"
        },
        {
          "output_type": "stream",
          "text": [
            "| epoch   3 |  1000/ 2808 batches | lr 0.25 | loss  1.81 | ppl     6.13\n"
          ],
          "name": "stdout"
        },
        {
          "output_type": "stream",
          "text": [
            "\n",
            " 37%|███▋      | 1038/2808 [00:09<00:14, 121.63it/s]\u001b[A\n",
            " 37%|███▋      | 1051/2808 [00:09<00:14, 120.33it/s]\u001b[A\n",
            " 38%|███▊      | 1064/2808 [00:10<00:14, 121.34it/s]\u001b[A\n",
            " 38%|███▊      | 1077/2808 [00:10<00:14, 121.57it/s]\u001b[A\n",
            " 39%|███▉      | 1090/2808 [00:10<00:13, 122.80it/s]\u001b[A\n",
            " 39%|███▉      | 1103/2808 [00:10<00:13, 121.96it/s]\u001b[A\n",
            " 40%|███▉      | 1116/2808 [00:10<00:13, 122.58it/s]\u001b[A"
          ],
          "name": "stderr"
        },
        {
          "output_type": "stream",
          "text": [
            "| epoch   3 |  1100/ 2808 batches | lr 0.25 | loss  1.81 | ppl     6.11\n"
          ],
          "name": "stdout"
        },
        {
          "output_type": "stream",
          "text": [
            "\n",
            " 40%|████      | 1129/2808 [00:10<00:13, 122.24it/s]\u001b[A\n",
            " 41%|████      | 1142/2808 [00:10<00:13, 122.66it/s]\u001b[A\n",
            " 41%|████      | 1155/2808 [00:10<00:13, 123.01it/s]\u001b[A\n",
            " 42%|████▏     | 1168/2808 [00:10<00:13, 122.08it/s]\u001b[A\n",
            " 42%|████▏     | 1181/2808 [00:11<00:13, 122.03it/s]\u001b[A\n",
            " 43%|████▎     | 1194/2808 [00:11<00:13, 121.98it/s]\u001b[A\n",
            " 43%|████▎     | 1207/2808 [00:11<00:13, 122.07it/s]\u001b[A\n",
            " 43%|████▎     | 1220/2808 [00:11<00:13, 121.83it/s]\u001b[A"
          ],
          "name": "stderr"
        },
        {
          "output_type": "stream",
          "text": [
            "| epoch   3 |  1200/ 2808 batches | lr 0.25 | loss  1.81 | ppl     6.13\n"
          ],
          "name": "stdout"
        },
        {
          "output_type": "stream",
          "text": [
            "\n",
            " 44%|████▍     | 1233/2808 [00:11<00:12, 122.31it/s]\u001b[A\n",
            " 44%|████▍     | 1246/2808 [00:11<00:12, 122.50it/s]\u001b[A\n",
            " 45%|████▍     | 1259/2808 [00:11<00:12, 123.03it/s]\u001b[A\n",
            " 45%|████▌     | 1272/2808 [00:11<00:12, 123.29it/s]\u001b[A\n",
            " 46%|████▌     | 1285/2808 [00:11<00:12, 123.07it/s]\u001b[A\n",
            " 46%|████▌     | 1298/2808 [00:11<00:12, 122.49it/s]\u001b[A\n",
            " 47%|████▋     | 1311/2808 [00:12<00:12, 122.11it/s]\u001b[A\n",
            " 47%|████▋     | 1324/2808 [00:12<00:12, 122.19it/s]\u001b[A"
          ],
          "name": "stderr"
        },
        {
          "output_type": "stream",
          "text": [
            "| epoch   3 |  1300/ 2808 batches | lr 0.25 | loss  1.81 | ppl     6.12\n"
          ],
          "name": "stdout"
        },
        {
          "output_type": "stream",
          "text": [
            "\n",
            " 48%|████▊     | 1337/2808 [00:12<00:12, 122.00it/s]\u001b[A\n",
            " 48%|████▊     | 1350/2808 [00:12<00:11, 121.67it/s]\u001b[A\n",
            " 49%|████▊     | 1363/2808 [00:12<00:11, 121.26it/s]\u001b[A\n",
            " 49%|████▉     | 1376/2808 [00:12<00:11, 121.43it/s]\u001b[A\n",
            " 49%|████▉     | 1389/2808 [00:12<00:11, 122.74it/s]\u001b[A\n",
            " 50%|████▉     | 1402/2808 [00:12<00:11, 122.73it/s]\u001b[A\n",
            " 50%|█████     | 1415/2808 [00:12<00:11, 122.85it/s]\u001b[A"
          ],
          "name": "stderr"
        },
        {
          "output_type": "stream",
          "text": [
            "| epoch   3 |  1400/ 2808 batches | lr 0.25 | loss  1.80 | ppl     6.03\n"
          ],
          "name": "stdout"
        },
        {
          "output_type": "stream",
          "text": [
            "\n",
            " 51%|█████     | 1428/2808 [00:13<00:11, 122.43it/s]\u001b[A\n",
            " 51%|█████▏    | 1441/2808 [00:13<00:11, 122.52it/s]\u001b[A\n",
            " 52%|█████▏    | 1454/2808 [00:13<00:11, 122.21it/s]\u001b[A\n",
            " 52%|█████▏    | 1467/2808 [00:13<00:10, 122.71it/s]\u001b[A\n",
            " 53%|█████▎    | 1480/2808 [00:13<00:10, 122.95it/s]\u001b[A\n",
            " 53%|█████▎    | 1493/2808 [00:13<00:10, 123.28it/s]\u001b[A\n",
            " 54%|█████▎    | 1506/2808 [00:13<00:10, 122.35it/s]\u001b[A\n",
            " 54%|█████▍    | 1519/2808 [00:13<00:10, 123.45it/s]\u001b[A"
          ],
          "name": "stderr"
        },
        {
          "output_type": "stream",
          "text": [
            "| epoch   3 |  1500/ 2808 batches | lr 0.25 | loss  1.80 | ppl     6.06\n"
          ],
          "name": "stdout"
        },
        {
          "output_type": "stream",
          "text": [
            "\n",
            " 55%|█████▍    | 1532/2808 [00:13<00:10, 122.88it/s]\u001b[A\n",
            " 55%|█████▌    | 1545/2808 [00:13<00:10, 123.11it/s]\u001b[A\n",
            " 55%|█████▌    | 1558/2808 [00:14<00:10, 123.80it/s]\u001b[A\n",
            " 56%|█████▌    | 1571/2808 [00:14<00:10, 123.08it/s]\u001b[A\n",
            " 56%|█████▋    | 1584/2808 [00:14<00:09, 123.20it/s]\u001b[A\n",
            " 57%|█████▋    | 1597/2808 [00:14<00:09, 123.41it/s]\u001b[A\n",
            " 57%|█████▋    | 1610/2808 [00:14<00:09, 123.03it/s]\u001b[A\n",
            " 58%|█████▊    | 1623/2808 [00:14<00:09, 122.12it/s]\u001b[A"
          ],
          "name": "stderr"
        },
        {
          "output_type": "stream",
          "text": [
            "| epoch   3 |  1600/ 2808 batches | lr 0.25 | loss  1.81 | ppl     6.09\n"
          ],
          "name": "stdout"
        },
        {
          "output_type": "stream",
          "text": [
            "\n",
            " 58%|█████▊    | 1636/2808 [00:14<00:09, 123.24it/s]\u001b[A\n",
            " 59%|█████▊    | 1649/2808 [00:14<00:09, 122.62it/s]\u001b[A\n",
            " 59%|█████▉    | 1662/2808 [00:14<00:09, 122.34it/s]\u001b[A\n",
            " 60%|█████▉    | 1675/2808 [00:15<00:09, 122.29it/s]\u001b[A\n",
            " 60%|██████    | 1688/2808 [00:15<00:09, 122.28it/s]\u001b[A\n",
            " 61%|██████    | 1701/2808 [00:15<00:08, 123.32it/s]\u001b[A\n",
            " 61%|██████    | 1714/2808 [00:15<00:08, 122.68it/s]\u001b[A"
          ],
          "name": "stderr"
        },
        {
          "output_type": "stream",
          "text": [
            "| epoch   3 |  1700/ 2808 batches | lr 0.25 | loss  1.80 | ppl     6.08\n"
          ],
          "name": "stdout"
        },
        {
          "output_type": "stream",
          "text": [
            "\n",
            " 62%|██████▏   | 1727/2808 [00:15<00:08, 122.62it/s]\u001b[A\n",
            " 62%|██████▏   | 1740/2808 [00:15<00:08, 122.34it/s]\u001b[A\n",
            " 62%|██████▏   | 1753/2808 [00:15<00:08, 122.95it/s]\u001b[A\n",
            " 63%|██████▎   | 1766/2808 [00:15<00:08, 123.12it/s]\u001b[A\n",
            " 63%|██████▎   | 1779/2808 [00:15<00:08, 123.12it/s]\u001b[A\n",
            " 64%|██████▍   | 1792/2808 [00:15<00:08, 124.27it/s]\u001b[A\n",
            " 64%|██████▍   | 1805/2808 [00:16<00:08, 124.28it/s]\u001b[A\n",
            " 65%|██████▍   | 1818/2808 [00:16<00:07, 124.22it/s]\u001b[A"
          ],
          "name": "stderr"
        },
        {
          "output_type": "stream",
          "text": [
            "| epoch   3 |  1800/ 2808 batches | lr 0.25 | loss  1.80 | ppl     6.08\n"
          ],
          "name": "stdout"
        },
        {
          "output_type": "stream",
          "text": [
            "\n",
            " 65%|██████▌   | 1831/2808 [00:16<00:07, 123.71it/s]\u001b[A\n",
            " 66%|██████▌   | 1844/2808 [00:16<00:07, 122.95it/s]\u001b[A\n",
            " 66%|██████▌   | 1857/2808 [00:16<00:07, 122.65it/s]\u001b[A\n",
            " 67%|██████▋   | 1870/2808 [00:16<00:07, 122.54it/s]\u001b[A\n",
            " 67%|██████▋   | 1883/2808 [00:16<00:07, 122.96it/s]\u001b[A\n",
            " 68%|██████▊   | 1896/2808 [00:16<00:07, 123.28it/s]\u001b[A\n",
            " 68%|██████▊   | 1909/2808 [00:16<00:07, 123.09it/s]\u001b[A\n",
            " 68%|██████▊   | 1922/2808 [00:17<00:07, 123.43it/s]\u001b[A"
          ],
          "name": "stderr"
        },
        {
          "output_type": "stream",
          "text": [
            "| epoch   3 |  1900/ 2808 batches | lr 0.25 | loss  1.81 | ppl     6.12\n"
          ],
          "name": "stdout"
        },
        {
          "output_type": "stream",
          "text": [
            "\n",
            " 69%|██████▉   | 1935/2808 [00:17<00:07, 122.40it/s]\u001b[A\n",
            " 69%|██████▉   | 1948/2808 [00:17<00:07, 122.71it/s]\u001b[A\n",
            " 70%|██████▉   | 1961/2808 [00:17<00:06, 123.02it/s]\u001b[A\n",
            " 70%|███████   | 1974/2808 [00:17<00:06, 123.16it/s]\u001b[A\n",
            " 71%|███████   | 1987/2808 [00:17<00:06, 122.84it/s]\u001b[A\n",
            " 71%|███████   | 2000/2808 [00:17<00:06, 122.50it/s]\u001b[A\n",
            " 72%|███████▏  | 2013/2808 [00:17<00:06, 122.42it/s]\u001b[A"
          ],
          "name": "stderr"
        },
        {
          "output_type": "stream",
          "text": [
            "| epoch   3 |  2000/ 2808 batches | lr 0.25 | loss  1.80 | ppl     6.06\n"
          ],
          "name": "stdout"
        },
        {
          "output_type": "stream",
          "text": [
            "\n",
            " 72%|███████▏  | 2026/2808 [00:17<00:06, 122.13it/s]\u001b[A\n",
            " 73%|███████▎  | 2039/2808 [00:17<00:06, 121.08it/s]\u001b[A\n",
            " 73%|███████▎  | 2052/2808 [00:18<00:06, 122.20it/s]\u001b[A\n",
            " 74%|███████▎  | 2065/2808 [00:18<00:06, 122.59it/s]\u001b[A\n",
            " 74%|███████▍  | 2078/2808 [00:18<00:05, 122.32it/s]\u001b[A\n",
            " 74%|███████▍  | 2091/2808 [00:18<00:05, 121.67it/s]\u001b[A\n",
            " 75%|███████▍  | 2104/2808 [00:18<00:05, 122.12it/s]\u001b[A\n",
            " 75%|███████▌  | 2117/2808 [00:18<00:05, 121.70it/s]\u001b[A"
          ],
          "name": "stderr"
        },
        {
          "output_type": "stream",
          "text": [
            "| epoch   3 |  2100/ 2808 batches | lr 0.25 | loss  1.81 | ppl     6.11\n"
          ],
          "name": "stdout"
        },
        {
          "output_type": "stream",
          "text": [
            "\n",
            " 76%|███████▌  | 2130/2808 [00:18<00:05, 122.56it/s]\u001b[A\n",
            " 76%|███████▋  | 2143/2808 [00:18<00:05, 122.94it/s]\u001b[A\n",
            " 77%|███████▋  | 2156/2808 [00:18<00:05, 121.50it/s]\u001b[A\n",
            " 77%|███████▋  | 2169/2808 [00:19<00:05, 122.35it/s]\u001b[A\n",
            " 78%|███████▊  | 2182/2808 [00:19<00:05, 122.09it/s]\u001b[A\n",
            " 78%|███████▊  | 2195/2808 [00:19<00:05, 122.01it/s]\u001b[A\n",
            " 79%|███████▊  | 2208/2808 [00:19<00:04, 122.15it/s]\u001b[A\n",
            " 79%|███████▉  | 2221/2808 [00:19<00:04, 122.16it/s]\u001b[A"
          ],
          "name": "stderr"
        },
        {
          "output_type": "stream",
          "text": [
            "| epoch   3 |  2200/ 2808 batches | lr 0.25 | loss  1.81 | ppl     6.08\n"
          ],
          "name": "stdout"
        },
        {
          "output_type": "stream",
          "text": [
            "\n",
            " 80%|███████▉  | 2234/2808 [00:19<00:04, 122.57it/s]\u001b[A\n",
            " 80%|████████  | 2247/2808 [00:19<00:04, 122.81it/s]\u001b[A\n",
            " 80%|████████  | 2260/2808 [00:19<00:04, 122.77it/s]\u001b[A\n",
            " 81%|████████  | 2273/2808 [00:19<00:04, 122.41it/s]\u001b[A\n",
            " 81%|████████▏ | 2286/2808 [00:20<00:04, 122.90it/s]\u001b[A\n",
            " 82%|████████▏ | 2299/2808 [00:20<00:04, 123.70it/s]\u001b[A\n",
            " 82%|████████▏ | 2312/2808 [00:20<00:04, 123.58it/s]\u001b[A\n",
            " 83%|████████▎ | 2325/2808 [00:20<00:03, 123.62it/s]\u001b[A"
          ],
          "name": "stderr"
        },
        {
          "output_type": "stream",
          "text": [
            "| epoch   3 |  2300/ 2808 batches | lr 0.25 | loss  1.81 | ppl     6.12\n"
          ],
          "name": "stdout"
        },
        {
          "output_type": "stream",
          "text": [
            "\n",
            " 83%|████████▎ | 2338/2808 [00:20<00:03, 123.11it/s]\u001b[A\n",
            " 84%|████████▎ | 2351/2808 [00:20<00:03, 122.45it/s]\u001b[A\n",
            " 84%|████████▍ | 2364/2808 [00:20<00:03, 122.35it/s]\u001b[A\n",
            " 85%|████████▍ | 2377/2808 [00:20<00:03, 122.34it/s]\u001b[A\n",
            " 85%|████████▌ | 2390/2808 [00:20<00:03, 122.68it/s]\u001b[A\n",
            " 86%|████████▌ | 2403/2808 [00:20<00:03, 122.65it/s]\u001b[A\n",
            " 86%|████████▌ | 2416/2808 [00:21<00:03, 121.76it/s]\u001b[A"
          ],
          "name": "stderr"
        },
        {
          "output_type": "stream",
          "text": [
            "| epoch   3 |  2400/ 2808 batches | lr 0.25 | loss  1.80 | ppl     6.03\n"
          ],
          "name": "stdout"
        },
        {
          "output_type": "stream",
          "text": [
            "\n",
            " 87%|████████▋ | 2429/2808 [00:21<00:03, 122.51it/s]\u001b[A\n",
            " 87%|████████▋ | 2442/2808 [00:21<00:02, 122.95it/s]\u001b[A\n",
            " 87%|████████▋ | 2455/2808 [00:21<00:02, 123.11it/s]\u001b[A\n",
            " 88%|████████▊ | 2468/2808 [00:21<00:02, 123.06it/s]\u001b[A\n",
            " 88%|████████▊ | 2481/2808 [00:21<00:02, 122.80it/s]\u001b[A\n",
            " 89%|████████▉ | 2494/2808 [00:21<00:02, 122.64it/s]\u001b[A\n",
            " 89%|████████▉ | 2507/2808 [00:21<00:02, 122.18it/s]\u001b[A\n",
            " 90%|████████▉ | 2520/2808 [00:21<00:02, 122.16it/s]\u001b[A"
          ],
          "name": "stderr"
        },
        {
          "output_type": "stream",
          "text": [
            "| epoch   3 |  2500/ 2808 batches | lr 0.25 | loss  1.80 | ppl     6.05\n"
          ],
          "name": "stdout"
        },
        {
          "output_type": "stream",
          "text": [
            "\n",
            " 90%|█████████ | 2533/2808 [00:22<00:02, 121.82it/s]\u001b[A\n",
            " 91%|█████████ | 2546/2808 [00:22<00:02, 121.08it/s]\u001b[A\n",
            " 91%|█████████ | 2559/2808 [00:22<00:02, 122.17it/s]\u001b[A\n",
            " 92%|█████████▏| 2572/2808 [00:22<00:01, 122.05it/s]\u001b[A\n",
            " 92%|█████████▏| 2585/2808 [00:22<00:01, 121.88it/s]\u001b[A\n",
            " 93%|█████████▎| 2598/2808 [00:22<00:01, 122.30it/s]\u001b[A\n",
            " 93%|█████████▎| 2611/2808 [00:22<00:01, 122.74it/s]\u001b[A\n",
            " 93%|█████████▎| 2624/2808 [00:22<00:01, 120.53it/s]\u001b[A"
          ],
          "name": "stderr"
        },
        {
          "output_type": "stream",
          "text": [
            "| epoch   3 |  2600/ 2808 batches | lr 0.25 | loss  1.81 | ppl     6.10\n"
          ],
          "name": "stdout"
        },
        {
          "output_type": "stream",
          "text": [
            "\n",
            " 94%|█████████▍| 2637/2808 [00:22<00:01, 118.90it/s]\u001b[A\n",
            " 94%|█████████▍| 2650/2808 [00:23<00:01, 118.75it/s]\u001b[A\n",
            " 95%|█████████▍| 2662/2808 [00:23<00:01, 119.05it/s]\u001b[A\n",
            " 95%|█████████▌| 2675/2808 [00:23<00:01, 120.42it/s]\u001b[A\n",
            " 96%|█████████▌| 2688/2808 [00:23<00:00, 120.92it/s]\u001b[A\n",
            " 96%|█████████▌| 2701/2808 [00:23<00:00, 121.46it/s]\u001b[A\n",
            " 97%|█████████▋| 2714/2808 [00:23<00:00, 121.80it/s]\u001b[A"
          ],
          "name": "stderr"
        },
        {
          "output_type": "stream",
          "text": [
            "| epoch   3 |  2700/ 2808 batches | lr 0.25 | loss  1.81 | ppl     6.08\n"
          ],
          "name": "stdout"
        },
        {
          "output_type": "stream",
          "text": [
            "\n",
            " 97%|█████████▋| 2727/2808 [00:23<00:00, 122.04it/s]\u001b[A\n",
            " 98%|█████████▊| 2740/2808 [00:23<00:00, 122.72it/s]\u001b[A\n",
            " 98%|█████████▊| 2753/2808 [00:23<00:00, 123.21it/s]\u001b[A\n",
            " 99%|█████████▊| 2766/2808 [00:23<00:00, 123.80it/s]\u001b[A\n",
            " 99%|█████████▉| 2779/2808 [00:24<00:00, 123.04it/s]\u001b[A\n",
            " 99%|█████████▉| 2792/2808 [00:24<00:00, 122.95it/s]\u001b[A\n",
            "100%|██████████| 2808/2808 [00:24<00:00, 115.55it/s]\n",
            "\n",
            "  0%|          | 0/292 [00:00<?, ?it/s]\u001b[A"
          ],
          "name": "stderr"
        },
        {
          "output_type": "stream",
          "text": [
            "| epoch   3 |  2800/ 2808 batches | lr 0.25 | loss  1.80 | ppl     6.02\n"
          ],
          "name": "stdout"
        },
        {
          "output_type": "stream",
          "text": [
            "\n",
            "  0%|          | 1/292 [00:00<00:42,  6.89it/s]\u001b[A\n",
            " 19%|█▉        | 56/292 [00:00<00:24,  9.80it/s]\u001b[A\n",
            " 38%|███▊      | 112/292 [00:00<00:12, 13.89it/s]\u001b[A\n",
            " 57%|█████▋    | 165/292 [00:00<00:06, 19.62it/s]\u001b[A\n",
            " 74%|███████▎  | 215/292 [00:00<00:02, 27.57it/s]\u001b[A\n",
            "100%|██████████| 292/292 [00:00<00:00, 424.28it/s]\n",
            "\n",
            "  0%|          | 0/2808 [00:00<?, ?it/s]\u001b[A"
          ],
          "name": "stderr"
        },
        {
          "output_type": "stream",
          "text": [
            "-----------------------------------------------------------------------------------------\n",
            "| end of epoch   3 | valid loss  1.59 | valid ppl     4.92\n",
            "-----------------------------------------------------------------------------------------\n",
            "sample:\n",
            " t on fe 30 , men thicanefinanlecoge 'swag , Pasarf \n",
            "\n"
          ],
          "name": "stdout"
        },
        {
          "output_type": "stream",
          "text": [
            "\n",
            "  0%|          | 1/2808 [00:01<1:01:22,  1.31s/it]\u001b[A\n",
            "  0%|          | 13/2808 [00:01<42:53,  1.09it/s] \u001b[A\n",
            "  1%|          | 26/2808 [00:01<30:00,  1.55it/s]\u001b[A\n",
            "  1%|▏         | 38/2808 [00:01<21:01,  2.20it/s]\u001b[A\n",
            "  2%|▏         | 51/2808 [00:01<14:45,  3.11it/s]\u001b[A\n",
            "  2%|▏         | 64/2808 [00:01<10:23,  4.40it/s]\u001b[A\n",
            "  3%|▎         | 77/2808 [00:01<07:21,  6.19it/s]\u001b[A\n",
            "  3%|▎         | 90/2808 [00:02<05:14,  8.65it/s]\u001b[A\n",
            "  4%|▎         | 103/2808 [00:02<03:45, 12.00it/s]\u001b[A\n",
            "  4%|▍         | 116/2808 [00:02<02:43, 16.47it/s]\u001b[A"
          ],
          "name": "stderr"
        },
        {
          "output_type": "stream",
          "text": [
            "| epoch   4 |   100/ 2808 batches | lr 0.06 | loss  1.82 | ppl     6.17\n"
          ],
          "name": "stdout"
        },
        {
          "output_type": "stream",
          "text": [
            "\n",
            "  5%|▍         | 129/2808 [00:02<02:00, 22.25it/s]\u001b[A\n",
            "  5%|▌         | 142/2808 [00:02<01:30, 29.52it/s]\u001b[A\n",
            "  6%|▌         | 155/2808 [00:02<01:09, 38.13it/s]\u001b[A\n",
            "  6%|▌         | 168/2808 [00:02<00:54, 48.05it/s]\u001b[A\n",
            "  6%|▋         | 181/2808 [00:02<00:44, 58.92it/s]\u001b[A\n",
            "  7%|▋         | 194/2808 [00:02<00:37, 69.60it/s]\u001b[A\n",
            "  7%|▋         | 207/2808 [00:02<00:32, 79.98it/s]\u001b[A\n",
            "  8%|▊         | 220/2808 [00:03<00:28, 89.30it/s]\u001b[A"
          ],
          "name": "stderr"
        },
        {
          "output_type": "stream",
          "text": [
            "| epoch   4 |   200/ 2808 batches | lr 0.06 | loss  1.80 | ppl     6.03\n"
          ],
          "name": "stdout"
        },
        {
          "output_type": "stream",
          "text": [
            "\n",
            "  8%|▊         | 233/2808 [00:03<00:26, 96.89it/s]\u001b[A\n",
            "  9%|▉         | 246/2808 [00:03<00:24, 103.61it/s]\u001b[A\n",
            "  9%|▉         | 259/2808 [00:03<00:23, 108.98it/s]\u001b[A\n",
            " 10%|▉         | 272/2808 [00:03<00:22, 112.66it/s]\u001b[A\n",
            " 10%|█         | 285/2808 [00:03<00:21, 115.15it/s]\u001b[A\n",
            " 11%|█         | 298/2808 [00:03<00:21, 117.31it/s]\u001b[A\n",
            " 11%|█         | 311/2808 [00:03<00:20, 119.00it/s]\u001b[A\n",
            " 12%|█▏        | 324/2808 [00:03<00:20, 120.38it/s]\u001b[A"
          ],
          "name": "stderr"
        },
        {
          "output_type": "stream",
          "text": [
            "| epoch   4 |   300/ 2808 batches | lr 0.06 | loss  1.80 | ppl     6.07\n"
          ],
          "name": "stdout"
        },
        {
          "output_type": "stream",
          "text": [
            "\n",
            " 12%|█▏        | 337/2808 [00:04<00:20, 120.78it/s]\u001b[A\n",
            " 12%|█▏        | 350/2808 [00:04<00:20, 121.56it/s]\u001b[A\n",
            " 13%|█▎        | 363/2808 [00:04<00:19, 122.28it/s]\u001b[A\n",
            " 13%|█▎        | 376/2808 [00:04<00:19, 122.91it/s]\u001b[A\n",
            " 14%|█▍        | 389/2808 [00:04<00:19, 122.67it/s]\u001b[A\n",
            " 14%|█▍        | 402/2808 [00:04<00:19, 123.58it/s]\u001b[A\n",
            " 15%|█▍        | 415/2808 [00:04<00:19, 123.58it/s]\u001b[A"
          ],
          "name": "stderr"
        },
        {
          "output_type": "stream",
          "text": [
            "| epoch   4 |   400/ 2808 batches | lr 0.06 | loss  1.81 | ppl     6.08\n"
          ],
          "name": "stdout"
        },
        {
          "output_type": "stream",
          "text": [
            "\n",
            " 15%|█▌        | 428/2808 [00:04<00:19, 123.67it/s]\u001b[A\n",
            " 16%|█▌        | 441/2808 [00:04<00:19, 123.73it/s]\u001b[A\n",
            " 16%|█▌        | 454/2808 [00:05<00:19, 123.63it/s]\u001b[A\n",
            " 17%|█▋        | 467/2808 [00:05<00:19, 122.88it/s]\u001b[A\n",
            " 17%|█▋        | 480/2808 [00:05<00:18, 123.19it/s]\u001b[A\n",
            " 18%|█▊        | 493/2808 [00:05<00:18, 122.66it/s]\u001b[A\n",
            " 18%|█▊        | 506/2808 [00:05<00:18, 123.18it/s]\u001b[A\n",
            " 18%|█▊        | 519/2808 [00:05<00:18, 123.48it/s]\u001b[A"
          ],
          "name": "stderr"
        },
        {
          "output_type": "stream",
          "text": [
            "| epoch   4 |   500/ 2808 batches | lr 0.06 | loss  1.80 | ppl     6.06\n"
          ],
          "name": "stdout"
        },
        {
          "output_type": "stream",
          "text": [
            "\n",
            " 19%|█▉        | 532/2808 [00:05<00:18, 122.87it/s]\u001b[A\n",
            " 19%|█▉        | 545/2808 [00:05<00:18, 123.15it/s]\u001b[A\n",
            " 20%|█▉        | 558/2808 [00:05<00:18, 124.32it/s]\u001b[A\n",
            " 20%|██        | 571/2808 [00:05<00:18, 123.81it/s]\u001b[A\n",
            " 21%|██        | 584/2808 [00:06<00:18, 123.34it/s]\u001b[A\n",
            " 21%|██▏       | 597/2808 [00:06<00:17, 122.87it/s]\u001b[A\n",
            " 22%|██▏       | 610/2808 [00:06<00:17, 122.68it/s]\u001b[A\n",
            " 22%|██▏       | 623/2808 [00:06<00:17, 123.07it/s]\u001b[A"
          ],
          "name": "stderr"
        },
        {
          "output_type": "stream",
          "text": [
            "| epoch   4 |   600/ 2808 batches | lr 0.06 | loss  1.80 | ppl     6.04\n"
          ],
          "name": "stdout"
        },
        {
          "output_type": "stream",
          "text": [
            "\n",
            " 23%|██▎       | 636/2808 [00:06<00:17, 122.40it/s]\u001b[A\n",
            " 23%|██▎       | 649/2808 [00:06<00:17, 122.53it/s]\u001b[A\n",
            " 24%|██▎       | 662/2808 [00:06<00:17, 121.28it/s]\u001b[A\n",
            " 24%|██▍       | 675/2808 [00:06<00:17, 122.26it/s]\u001b[A\n",
            " 25%|██▍       | 688/2808 [00:06<00:17, 122.15it/s]\u001b[A\n",
            " 25%|██▍       | 701/2808 [00:07<00:17, 121.96it/s]\u001b[A\n",
            " 25%|██▌       | 714/2808 [00:07<00:17, 122.11it/s]\u001b[A"
          ],
          "name": "stderr"
        },
        {
          "output_type": "stream",
          "text": [
            "| epoch   4 |   700/ 2808 batches | lr 0.06 | loss  1.80 | ppl     6.07\n"
          ],
          "name": "stdout"
        },
        {
          "output_type": "stream",
          "text": [
            "\n",
            " 26%|██▌       | 727/2808 [00:07<00:16, 122.45it/s]\u001b[A\n",
            " 26%|██▋       | 740/2808 [00:07<00:16, 122.63it/s]\u001b[A\n",
            " 27%|██▋       | 753/2808 [00:07<00:16, 123.23it/s]\u001b[A\n",
            " 27%|██▋       | 766/2808 [00:07<00:16, 123.75it/s]\u001b[A\n",
            " 28%|██▊       | 779/2808 [00:07<00:16, 122.58it/s]\u001b[A\n",
            " 28%|██▊       | 792/2808 [00:07<00:16, 122.72it/s]\u001b[A\n",
            " 29%|██▊       | 805/2808 [00:07<00:16, 122.39it/s]\u001b[A\n",
            " 29%|██▉       | 818/2808 [00:07<00:16, 121.81it/s]\u001b[A"
          ],
          "name": "stderr"
        },
        {
          "output_type": "stream",
          "text": [
            "| epoch   4 |   800/ 2808 batches | lr 0.06 | loss  1.80 | ppl     6.05\n"
          ],
          "name": "stdout"
        },
        {
          "output_type": "stream",
          "text": [
            "\n",
            " 30%|██▉       | 831/2808 [00:08<00:16, 122.37it/s]\u001b[A\n",
            " 30%|███       | 844/2808 [00:08<00:16, 120.94it/s]\u001b[A\n",
            " 31%|███       | 857/2808 [00:08<00:16, 121.03it/s]\u001b[A\n",
            " 31%|███       | 870/2808 [00:08<00:15, 121.77it/s]\u001b[A\n",
            " 31%|███▏      | 883/2808 [00:08<00:15, 122.39it/s]\u001b[A\n",
            " 32%|███▏      | 896/2808 [00:08<00:15, 122.15it/s]\u001b[A\n",
            " 32%|███▏      | 909/2808 [00:08<00:15, 122.87it/s]\u001b[A\n",
            " 33%|███▎      | 922/2808 [00:08<00:15, 123.25it/s]\u001b[A"
          ],
          "name": "stderr"
        },
        {
          "output_type": "stream",
          "text": [
            "| epoch   4 |   900/ 2808 batches | lr 0.06 | loss  1.80 | ppl     6.07\n"
          ],
          "name": "stdout"
        },
        {
          "output_type": "stream",
          "text": [
            "\n",
            " 33%|███▎      | 935/2808 [00:08<00:15, 123.00it/s]\u001b[A\n",
            " 34%|███▍      | 948/2808 [00:09<00:15, 122.52it/s]\u001b[A\n",
            " 34%|███▍      | 961/2808 [00:09<00:15, 122.67it/s]\u001b[A\n",
            " 35%|███▍      | 974/2808 [00:09<00:14, 123.26it/s]\u001b[A\n",
            " 35%|███▌      | 987/2808 [00:09<00:14, 122.72it/s]\u001b[A\n",
            " 36%|███▌      | 1000/2808 [00:09<00:14, 123.48it/s]\u001b[A\n",
            " 36%|███▌      | 1013/2808 [00:09<00:14, 123.86it/s]\u001b[A\n",
            " 37%|███▋      | 1026/2808 [00:09<00:14, 123.94it/s]"
          ],
          "name": "stderr"
        },
        {
          "output_type": "stream",
          "text": [
            "| epoch   4 |  1000/ 2808 batches | lr 0.06 | loss  1.80 | ppl     6.08\n"
          ],
          "name": "stdout"
        },
        {
          "output_type": "stream",
          "text": [
            "\u001b[A\n",
            " 37%|███▋      | 1039/2808 [00:09<00:14, 122.97it/s]\u001b[A\n",
            " 37%|███▋      | 1052/2808 [00:09<00:14, 124.12it/s]\u001b[A\n",
            " 38%|███▊      | 1065/2808 [00:09<00:14, 122.10it/s]\u001b[A\n",
            " 38%|███▊      | 1078/2808 [00:10<00:14, 122.20it/s]\u001b[A\n",
            " 39%|███▉      | 1091/2808 [00:10<00:14, 121.93it/s]\u001b[A\n",
            " 39%|███▉      | 1104/2808 [00:10<00:13, 122.52it/s]\u001b[A\n",
            " 40%|███▉      | 1117/2808 [00:10<00:13, 122.71it/s]\u001b[A"
          ],
          "name": "stderr"
        },
        {
          "output_type": "stream",
          "text": [
            "| epoch   4 |  1100/ 2808 batches | lr 0.06 | loss  1.80 | ppl     6.06\n"
          ],
          "name": "stdout"
        },
        {
          "output_type": "stream",
          "text": [
            "\n",
            " 40%|████      | 1130/2808 [00:10<00:13, 120.23it/s]\u001b[A\n",
            " 41%|████      | 1143/2808 [00:10<00:13, 121.22it/s]\u001b[A\n",
            " 41%|████      | 1156/2808 [00:10<00:13, 122.03it/s]\u001b[A\n",
            " 42%|████▏     | 1169/2808 [00:10<00:13, 122.03it/s]\u001b[A\n",
            " 42%|████▏     | 1182/2808 [00:10<00:13, 122.60it/s]\u001b[A\n",
            " 43%|████▎     | 1195/2808 [00:11<00:13, 122.49it/s]\u001b[A\n",
            " 43%|████▎     | 1208/2808 [00:11<00:13, 122.65it/s]\u001b[A\n",
            " 43%|████▎     | 1221/2808 [00:11<00:12, 123.20it/s]\u001b[A"
          ],
          "name": "stderr"
        },
        {
          "output_type": "stream",
          "text": [
            "| epoch   4 |  1200/ 2808 batches | lr 0.06 | loss  1.81 | ppl     6.09\n"
          ],
          "name": "stdout"
        },
        {
          "output_type": "stream",
          "text": [
            "\n",
            " 44%|████▍     | 1234/2808 [00:11<00:12, 122.71it/s]\u001b[A\n",
            " 44%|████▍     | 1247/2808 [00:11<00:12, 123.11it/s]\u001b[A\n",
            " 45%|████▍     | 1260/2808 [00:11<00:12, 123.76it/s]\u001b[A\n",
            " 45%|████▌     | 1273/2808 [00:11<00:12, 123.78it/s]\u001b[A\n",
            " 46%|████▌     | 1286/2808 [00:11<00:12, 123.69it/s]\u001b[A\n",
            " 46%|████▋     | 1299/2808 [00:11<00:12, 124.44it/s]\u001b[A\n",
            " 47%|████▋     | 1312/2808 [00:11<00:12, 123.41it/s]\u001b[A\n",
            " 47%|████▋     | 1325/2808 [00:12<00:11, 124.07it/s]\u001b[A"
          ],
          "name": "stderr"
        },
        {
          "output_type": "stream",
          "text": [
            "| epoch   4 |  1300/ 2808 batches | lr 0.06 | loss  1.80 | ppl     6.06\n"
          ],
          "name": "stdout"
        },
        {
          "output_type": "stream",
          "text": [
            "\n",
            " 48%|████▊     | 1338/2808 [00:12<00:11, 124.61it/s]\u001b[A\n",
            " 48%|████▊     | 1351/2808 [00:12<00:11, 125.18it/s]\u001b[A\n",
            " 49%|████▊     | 1364/2808 [00:12<00:11, 125.14it/s]\u001b[A\n",
            " 49%|████▉     | 1377/2808 [00:12<00:11, 124.86it/s]\u001b[A\n",
            " 50%|████▉     | 1390/2808 [00:12<00:11, 123.61it/s]\u001b[A\n",
            " 50%|████▉     | 1403/2808 [00:12<00:11, 122.97it/s]\u001b[A\n",
            " 50%|█████     | 1416/2808 [00:12<00:11, 122.80it/s]\u001b[A"
          ],
          "name": "stderr"
        },
        {
          "output_type": "stream",
          "text": [
            "| epoch   4 |  1400/ 2808 batches | lr 0.06 | loss  1.79 | ppl     5.98\n"
          ],
          "name": "stdout"
        },
        {
          "output_type": "stream",
          "text": [
            "\n",
            " 51%|█████     | 1429/2808 [00:12<00:11, 123.31it/s]\u001b[A\n",
            " 51%|█████▏    | 1442/2808 [00:13<00:11, 122.43it/s]\u001b[A\n",
            " 52%|█████▏    | 1455/2808 [00:13<00:11, 122.71it/s]\u001b[A\n",
            " 52%|█████▏    | 1468/2808 [00:13<00:10, 122.30it/s]\u001b[A\n",
            " 53%|█████▎    | 1481/2808 [00:13<00:10, 122.26it/s]\u001b[A\n",
            " 53%|█████▎    | 1494/2808 [00:13<00:10, 121.72it/s]\u001b[A\n",
            " 54%|█████▎    | 1507/2808 [00:13<00:10, 122.09it/s]\u001b[A\n",
            " 54%|█████▍    | 1520/2808 [00:13<00:10, 122.60it/s]\u001b[A"
          ],
          "name": "stderr"
        },
        {
          "output_type": "stream",
          "text": [
            "| epoch   4 |  1500/ 2808 batches | lr 0.06 | loss  1.80 | ppl     6.03\n"
          ],
          "name": "stdout"
        },
        {
          "output_type": "stream",
          "text": [
            "\n",
            " 55%|█████▍    | 1533/2808 [00:13<00:10, 122.44it/s]\u001b[A\n",
            " 55%|█████▌    | 1546/2808 [00:13<00:10, 122.23it/s]\u001b[A\n",
            " 56%|█████▌    | 1559/2808 [00:14<00:10, 122.41it/s]\u001b[A\n",
            " 56%|█████▌    | 1572/2808 [00:14<00:10, 122.60it/s]\u001b[A\n",
            " 56%|█████▋    | 1585/2808 [00:14<00:09, 122.69it/s]\u001b[A\n",
            " 57%|█████▋    | 1598/2808 [00:14<00:09, 123.25it/s]\u001b[A\n",
            " 57%|█████▋    | 1611/2808 [00:14<00:09, 123.57it/s]\u001b[A\n",
            " 58%|█████▊    | 1624/2808 [00:14<00:09, 124.00it/s]\u001b[A"
          ],
          "name": "stderr"
        },
        {
          "output_type": "stream",
          "text": [
            "| epoch   4 |  1600/ 2808 batches | lr 0.06 | loss  1.80 | ppl     6.05\n"
          ],
          "name": "stdout"
        },
        {
          "output_type": "stream",
          "text": [
            "\n",
            " 58%|█████▊    | 1637/2808 [00:14<00:09, 123.23it/s]\u001b[A\n",
            " 59%|█████▉    | 1650/2808 [00:14<00:09, 123.46it/s]\u001b[A\n",
            " 59%|█████▉    | 1663/2808 [00:14<00:09, 123.62it/s]\u001b[A\n",
            " 60%|█████▉    | 1676/2808 [00:14<00:09, 124.04it/s]\u001b[A\n",
            " 60%|██████    | 1689/2808 [00:15<00:09, 124.13it/s]\u001b[A\n",
            " 61%|██████    | 1702/2808 [00:15<00:08, 122.91it/s]\u001b[A\n",
            " 61%|██████    | 1715/2808 [00:15<00:08, 122.52it/s]\u001b[A"
          ],
          "name": "stderr"
        },
        {
          "output_type": "stream",
          "text": [
            "| epoch   4 |  1700/ 2808 batches | lr 0.06 | loss  1.80 | ppl     6.03\n"
          ],
          "name": "stdout"
        },
        {
          "output_type": "stream",
          "text": [
            "\n",
            " 62%|██████▏   | 1728/2808 [00:15<00:08, 122.31it/s]\u001b[A\n",
            " 62%|██████▏   | 1741/2808 [00:15<00:08, 122.76it/s]\u001b[A\n",
            " 62%|██████▏   | 1754/2808 [00:15<00:08, 122.48it/s]\u001b[A\n",
            " 63%|██████▎   | 1767/2808 [00:15<00:08, 122.01it/s]\u001b[A\n",
            " 63%|██████▎   | 1780/2808 [00:15<00:08, 123.28it/s]\u001b[A\n",
            " 64%|██████▍   | 1793/2808 [00:15<00:08, 122.98it/s]\u001b[A\n",
            " 64%|██████▍   | 1806/2808 [00:16<00:08, 122.48it/s]\u001b[A\n",
            " 65%|██████▍   | 1819/2808 [00:16<00:08, 123.38it/s]\u001b[A"
          ],
          "name": "stderr"
        },
        {
          "output_type": "stream",
          "text": [
            "| epoch   4 |  1800/ 2808 batches | lr 0.06 | loss  1.80 | ppl     6.04\n"
          ],
          "name": "stdout"
        },
        {
          "output_type": "stream",
          "text": [
            "\n",
            " 65%|██████▌   | 1832/2808 [00:16<00:07, 122.04it/s]\u001b[A\n",
            " 66%|██████▌   | 1845/2808 [00:16<00:07, 122.95it/s]\u001b[A\n",
            " 66%|██████▌   | 1858/2808 [00:16<00:07, 123.64it/s]\u001b[A\n",
            " 67%|██████▋   | 1871/2808 [00:16<00:07, 123.72it/s]\u001b[A\n",
            " 67%|██████▋   | 1884/2808 [00:16<00:07, 123.67it/s]\u001b[A\n",
            " 68%|██████▊   | 1897/2808 [00:16<00:07, 123.75it/s]\u001b[A\n",
            " 68%|██████▊   | 1910/2808 [00:16<00:07, 123.28it/s]\u001b[A\n",
            " 68%|██████▊   | 1923/2808 [00:16<00:07, 122.90it/s]\u001b[A"
          ],
          "name": "stderr"
        },
        {
          "output_type": "stream",
          "text": [
            "| epoch   4 |  1900/ 2808 batches | lr 0.06 | loss  1.81 | ppl     6.09\n"
          ],
          "name": "stdout"
        },
        {
          "output_type": "stream",
          "text": [
            "\n",
            " 69%|██████▉   | 1936/2808 [00:17<00:07, 122.70it/s]\u001b[A\n",
            " 69%|██████▉   | 1949/2808 [00:17<00:07, 122.04it/s]\u001b[A\n",
            " 70%|██████▉   | 1962/2808 [00:17<00:06, 123.09it/s]\u001b[A\n",
            " 70%|███████   | 1975/2808 [00:17<00:06, 123.49it/s]\u001b[A\n",
            " 71%|███████   | 1988/2808 [00:17<00:06, 122.77it/s]\u001b[A\n",
            " 71%|███████▏  | 2001/2808 [00:17<00:06, 122.92it/s]\u001b[A\n",
            " 72%|███████▏  | 2014/2808 [00:17<00:06, 123.85it/s]\u001b[A"
          ],
          "name": "stderr"
        },
        {
          "output_type": "stream",
          "text": [
            "| epoch   4 |  2000/ 2808 batches | lr 0.06 | loss  1.80 | ppl     6.02\n"
          ],
          "name": "stdout"
        },
        {
          "output_type": "stream",
          "text": [
            "\n",
            " 72%|███████▏  | 2027/2808 [00:17<00:06, 122.85it/s]\u001b[A\n",
            " 73%|███████▎  | 2040/2808 [00:17<00:06, 123.56it/s]\u001b[A\n",
            " 73%|███████▎  | 2053/2808 [00:18<00:06, 123.33it/s]\u001b[A\n",
            " 74%|███████▎  | 2066/2808 [00:18<00:06, 122.69it/s]\u001b[A\n",
            " 74%|███████▍  | 2079/2808 [00:18<00:05, 121.84it/s]\u001b[A\n",
            " 75%|███████▍  | 2092/2808 [00:18<00:05, 121.23it/s]\u001b[A\n",
            " 75%|███████▍  | 2105/2808 [00:18<00:05, 121.52it/s]\u001b[A\n",
            " 75%|███████▌  | 2118/2808 [00:18<00:05, 122.22it/s]\u001b[A"
          ],
          "name": "stderr"
        },
        {
          "output_type": "stream",
          "text": [
            "| epoch   4 |  2100/ 2808 batches | lr 0.06 | loss  1.80 | ppl     6.08\n"
          ],
          "name": "stdout"
        },
        {
          "output_type": "stream",
          "text": [
            "\n",
            " 76%|███████▌  | 2131/2808 [00:18<00:05, 122.06it/s]\u001b[A\n",
            " 76%|███████▋  | 2144/2808 [00:18<00:05, 122.74it/s]\u001b[A\n",
            " 77%|███████▋  | 2157/2808 [00:18<00:05, 122.75it/s]\u001b[A\n",
            " 77%|███████▋  | 2170/2808 [00:18<00:05, 123.09it/s]\u001b[A\n",
            " 78%|███████▊  | 2183/2808 [00:19<00:05, 122.53it/s]\u001b[A\n",
            " 78%|███████▊  | 2196/2808 [00:19<00:05, 122.11it/s]\u001b[A\n",
            " 79%|███████▊  | 2209/2808 [00:19<00:04, 122.39it/s]\u001b[A\n",
            " 79%|███████▉  | 2222/2808 [00:19<00:04, 123.09it/s]\u001b[A"
          ],
          "name": "stderr"
        },
        {
          "output_type": "stream",
          "text": [
            "| epoch   4 |  2200/ 2808 batches | lr 0.06 | loss  1.80 | ppl     6.05\n"
          ],
          "name": "stdout"
        },
        {
          "output_type": "stream",
          "text": [
            "\n",
            " 80%|███████▉  | 2235/2808 [00:19<00:04, 123.43it/s]\u001b[A\n",
            " 80%|████████  | 2248/2808 [00:19<00:04, 123.68it/s]\u001b[A\n",
            " 81%|████████  | 2261/2808 [00:19<00:04, 124.41it/s]\u001b[A\n",
            " 81%|████████  | 2274/2808 [00:19<00:04, 123.85it/s]\u001b[A\n",
            " 81%|████████▏ | 2287/2808 [00:19<00:04, 123.77it/s]\u001b[A\n",
            " 82%|████████▏ | 2300/2808 [00:20<00:04, 123.70it/s]\u001b[A\n",
            " 82%|████████▏ | 2313/2808 [00:20<00:03, 123.95it/s]\u001b[A"
          ],
          "name": "stderr"
        },
        {
          "output_type": "stream",
          "text": [
            "| epoch   4 |  2300/ 2808 batches | lr 0.06 | loss  1.81 | ppl     6.08\n"
          ],
          "name": "stdout"
        },
        {
          "output_type": "stream",
          "text": [
            "\n",
            " 83%|████████▎ | 2326/2808 [00:20<00:03, 122.96it/s]\u001b[A\n",
            " 83%|████████▎ | 2339/2808 [00:20<00:03, 123.19it/s]\u001b[A\n",
            " 84%|████████▍ | 2352/2808 [00:20<00:03, 122.88it/s]\u001b[A\n",
            " 84%|████████▍ | 2365/2808 [00:20<00:03, 122.92it/s]\u001b[A\n",
            " 85%|████████▍ | 2378/2808 [00:20<00:03, 122.99it/s]\u001b[A\n",
            " 85%|████████▌ | 2391/2808 [00:20<00:03, 123.33it/s]\u001b[A\n",
            " 86%|████████▌ | 2404/2808 [00:20<00:03, 122.66it/s]\u001b[A\n",
            " 86%|████████▌ | 2417/2808 [00:20<00:03, 122.24it/s]\u001b[A"
          ],
          "name": "stderr"
        },
        {
          "output_type": "stream",
          "text": [
            "| epoch   4 |  2400/ 2808 batches | lr 0.06 | loss  1.79 | ppl     6.01\n"
          ],
          "name": "stdout"
        },
        {
          "output_type": "stream",
          "text": [
            "\n",
            " 87%|████████▋ | 2430/2808 [00:21<00:03, 122.89it/s]\u001b[A\n",
            " 87%|████████▋ | 2443/2808 [00:21<00:02, 123.28it/s]\u001b[A\n",
            " 87%|████████▋ | 2456/2808 [00:21<00:02, 122.71it/s]\u001b[A\n",
            " 88%|████████▊ | 2469/2808 [00:21<00:02, 123.19it/s]\u001b[A\n",
            " 88%|████████▊ | 2482/2808 [00:21<00:02, 123.54it/s]\u001b[A\n",
            " 89%|████████▉ | 2495/2808 [00:21<00:02, 124.12it/s]\u001b[A\n",
            " 89%|████████▉ | 2508/2808 [00:21<00:02, 123.59it/s]\u001b[A\n",
            " 90%|████████▉ | 2521/2808 [00:21<00:02, 123.08it/s]\u001b[A"
          ],
          "name": "stderr"
        },
        {
          "output_type": "stream",
          "text": [
            "| epoch   4 |  2500/ 2808 batches | lr 0.06 | loss  1.80 | ppl     6.03\n"
          ],
          "name": "stdout"
        },
        {
          "output_type": "stream",
          "text": [
            "\n",
            " 90%|█████████ | 2534/2808 [00:21<00:02, 123.56it/s]\u001b[A\n",
            " 91%|█████████ | 2547/2808 [00:22<00:02, 123.41it/s]\u001b[A\n",
            " 91%|█████████ | 2560/2808 [00:22<00:02, 123.44it/s]\u001b[A\n",
            " 92%|█████████▏| 2573/2808 [00:22<00:01, 123.06it/s]\u001b[A\n",
            " 92%|█████████▏| 2586/2808 [00:22<00:01, 122.31it/s]\u001b[A\n",
            " 93%|█████████▎| 2599/2808 [00:22<00:01, 123.38it/s]\u001b[A\n",
            " 93%|█████████▎| 2612/2808 [00:22<00:01, 122.43it/s]\u001b[A\n",
            " 93%|█████████▎| 2625/2808 [00:22<00:01, 123.09it/s]\u001b[A"
          ],
          "name": "stderr"
        },
        {
          "output_type": "stream",
          "text": [
            "| epoch   4 |  2600/ 2808 batches | lr 0.06 | loss  1.80 | ppl     6.07\n"
          ],
          "name": "stdout"
        },
        {
          "output_type": "stream",
          "text": [
            "\n",
            " 94%|█████████▍| 2638/2808 [00:22<00:01, 122.61it/s]\u001b[A\n",
            " 94%|█████████▍| 2651/2808 [00:22<00:01, 123.61it/s]\u001b[A\n",
            " 95%|█████████▍| 2664/2808 [00:22<00:01, 123.64it/s]\u001b[A\n",
            " 95%|█████████▌| 2677/2808 [00:23<00:01, 123.91it/s]\u001b[A\n",
            " 96%|█████████▌| 2690/2808 [00:23<00:00, 124.25it/s]\u001b[A\n",
            " 96%|█████████▋| 2703/2808 [00:23<00:00, 123.78it/s]\u001b[A\n",
            " 97%|█████████▋| 2716/2808 [00:23<00:00, 124.06it/s]\u001b[A"
          ],
          "name": "stderr"
        },
        {
          "output_type": "stream",
          "text": [
            "| epoch   4 |  2700/ 2808 batches | lr 0.06 | loss  1.80 | ppl     6.07\n"
          ],
          "name": "stdout"
        },
        {
          "output_type": "stream",
          "text": [
            "\n",
            " 97%|█████████▋| 2729/2808 [00:23<00:00, 123.98it/s]\u001b[A\n",
            " 98%|█████████▊| 2742/2808 [00:23<00:00, 124.87it/s]\u001b[A\n",
            " 98%|█████████▊| 2755/2808 [00:23<00:00, 124.35it/s]\u001b[A\n",
            " 99%|█████████▊| 2768/2808 [00:23<00:00, 124.32it/s]\u001b[A\n",
            " 99%|█████████▉| 2781/2808 [00:23<00:00, 123.17it/s]\u001b[A\n",
            "100%|█████████▉| 2794/2808 [00:24<00:00, 123.36it/s]\u001b[A\n",
            "100%|██████████| 2808/2808 [00:24<00:00, 116.23it/s]\n",
            "\n",
            "  0%|          | 0/292 [00:00<?, ?it/s]\u001b[A"
          ],
          "name": "stderr"
        },
        {
          "output_type": "stream",
          "text": [
            "| epoch   4 |  2800/ 2808 batches | lr 0.06 | loss  1.79 | ppl     6.00\n"
          ],
          "name": "stdout"
        },
        {
          "output_type": "stream",
          "text": [
            "\n",
            "  0%|          | 1/292 [00:00<00:43,  6.69it/s]\u001b[A\n",
            " 20%|█▉        | 57/292 [00:00<00:24,  9.51it/s]\u001b[A\n",
            " 39%|███▊      | 113/292 [00:00<00:13, 13.49it/s]\u001b[A\n",
            " 58%|█████▊    | 170/292 [00:00<00:06, 19.07it/s]\u001b[A\n",
            " 77%|███████▋  | 226/292 [00:00<00:02, 26.85it/s]\u001b[A\n",
            "100%|██████████| 292/292 [00:00<00:00, 431.33it/s]\n",
            "\n",
            "  0%|          | 0/2808 [00:00<?, ?it/s]\u001b[A"
          ],
          "name": "stderr"
        },
        {
          "output_type": "stream",
          "text": [
            "-----------------------------------------------------------------------------------------\n",
            "| end of epoch   4 | valid loss  1.59 | valid ppl     4.90\n",
            "-----------------------------------------------------------------------------------------\n",
            "sample:\n",
            " end orith Delbymok> thelitind aksor , ic Athe t <u \n",
            "\n"
          ],
          "name": "stdout"
        },
        {
          "output_type": "stream",
          "text": [
            "\n",
            "  0%|          | 1/2808 [00:01<1:00:39,  1.30s/it]\u001b[A\n",
            "  0%|          | 14/2808 [00:01<42:22,  1.10it/s] \u001b[A\n",
            "  1%|          | 26/2808 [00:01<29:39,  1.56it/s]\u001b[A\n",
            "  1%|▏         | 39/2808 [00:01<20:46,  2.22it/s]\u001b[A\n",
            "  2%|▏         | 52/2808 [00:01<14:35,  3.15it/s]\u001b[A\n",
            "  2%|▏         | 65/2808 [00:01<10:16,  4.45it/s]\u001b[A\n",
            "  3%|▎         | 78/2808 [00:01<07:16,  6.26it/s]\u001b[A\n",
            "  3%|▎         | 91/2808 [00:02<05:10,  8.75it/s]\u001b[A\n",
            "  4%|▎         | 104/2808 [00:02<03:42, 12.14it/s]\u001b[A\n",
            "  4%|▍         | 117/2808 [00:02<02:41, 16.62it/s]\u001b[A"
          ],
          "name": "stderr"
        },
        {
          "output_type": "stream",
          "text": [
            "| epoch   5 |   100/ 2808 batches | lr 0.02 | loss  1.82 | ppl     6.16\n"
          ],
          "name": "stdout"
        },
        {
          "output_type": "stream",
          "text": [
            "\n",
            "  5%|▍         | 129/2808 [00:02<01:59, 22.38it/s]\u001b[A\n",
            "  5%|▌         | 142/2808 [00:02<01:29, 29.67it/s]\u001b[A\n",
            "  5%|▌         | 154/2808 [00:02<01:09, 38.22it/s]\u001b[A\n",
            "  6%|▌         | 167/2808 [00:02<00:54, 48.19it/s]\u001b[A\n",
            "  6%|▋         | 180/2808 [00:02<00:44, 58.99it/s]\u001b[A\n",
            "  7%|▋         | 193/2808 [00:02<00:37, 70.01it/s]\u001b[A\n",
            "  7%|▋         | 206/2808 [00:02<00:32, 80.38it/s]\u001b[A\n",
            "  8%|▊         | 219/2808 [00:03<00:28, 89.84it/s]\u001b[A"
          ],
          "name": "stderr"
        },
        {
          "output_type": "stream",
          "text": [
            "| epoch   5 |   200/ 2808 batches | lr 0.02 | loss  1.80 | ppl     6.02\n"
          ],
          "name": "stdout"
        },
        {
          "output_type": "stream",
          "text": [
            "\n",
            "  8%|▊         | 232/2808 [00:03<00:26, 97.54it/s]\u001b[A\n",
            "  9%|▊         | 245/2808 [00:03<00:24, 104.10it/s]\u001b[A\n",
            "  9%|▉         | 258/2808 [00:03<00:23, 108.99it/s]\u001b[A\n",
            " 10%|▉         | 271/2808 [00:03<00:22, 112.28it/s]\u001b[A\n",
            " 10%|█         | 284/2808 [00:03<00:21, 116.03it/s]\u001b[A\n",
            " 11%|█         | 297/2808 [00:03<00:21, 118.41it/s]\u001b[A\n",
            " 11%|█         | 310/2808 [00:03<00:20, 120.55it/s]\u001b[A\n",
            " 12%|█▏        | 323/2808 [00:03<00:20, 120.12it/s]\u001b[A"
          ],
          "name": "stderr"
        },
        {
          "output_type": "stream",
          "text": [
            "| epoch   5 |   300/ 2808 batches | lr 0.02 | loss  1.80 | ppl     6.06\n"
          ],
          "name": "stdout"
        },
        {
          "output_type": "stream",
          "text": [
            "\n",
            " 12%|█▏        | 336/2808 [00:04<00:20, 120.76it/s]\u001b[A\n",
            " 12%|█▏        | 349/2808 [00:04<00:20, 120.59it/s]\u001b[A\n",
            " 13%|█▎        | 362/2808 [00:04<00:20, 120.93it/s]\u001b[A\n",
            " 13%|█▎        | 375/2808 [00:04<00:20, 121.00it/s]\u001b[A\n",
            " 14%|█▍        | 388/2808 [00:04<00:20, 120.96it/s]\u001b[A\n",
            " 14%|█▍        | 401/2808 [00:04<00:19, 121.14it/s]\u001b[A\n",
            " 15%|█▍        | 414/2808 [00:04<00:19, 122.32it/s]\u001b[A"
          ],
          "name": "stderr"
        },
        {
          "output_type": "stream",
          "text": [
            "| epoch   5 |   400/ 2808 batches | lr 0.02 | loss  1.80 | ppl     6.07\n"
          ],
          "name": "stdout"
        },
        {
          "output_type": "stream",
          "text": [
            "\n",
            " 15%|█▌        | 427/2808 [00:04<00:19, 122.03it/s]\u001b[A\n",
            " 16%|█▌        | 440/2808 [00:04<00:19, 122.72it/s]\u001b[A\n",
            " 16%|█▌        | 453/2808 [00:04<00:19, 121.80it/s]\u001b[A\n",
            " 17%|█▋        | 466/2808 [00:05<00:19, 121.61it/s]\u001b[A\n",
            " 17%|█▋        | 479/2808 [00:05<00:19, 122.39it/s]\u001b[A\n",
            " 18%|█▊        | 492/2808 [00:05<00:18, 122.61it/s]\u001b[A\n",
            " 18%|█▊        | 505/2808 [00:05<00:18, 122.81it/s]\u001b[A\n",
            " 18%|█▊        | 518/2808 [00:05<00:18, 121.77it/s]\u001b[A"
          ],
          "name": "stderr"
        },
        {
          "output_type": "stream",
          "text": [
            "| epoch   5 |   500/ 2808 batches | lr 0.02 | loss  1.80 | ppl     6.05\n"
          ],
          "name": "stdout"
        },
        {
          "output_type": "stream",
          "text": [
            "\n",
            " 19%|█▉        | 531/2808 [00:05<00:18, 122.00it/s]\u001b[A\n",
            " 19%|█▉        | 544/2808 [00:05<00:18, 122.13it/s]\u001b[A\n",
            " 20%|█▉        | 557/2808 [00:05<00:18, 122.09it/s]\u001b[A\n",
            " 20%|██        | 570/2808 [00:05<00:18, 121.43it/s]\u001b[A\n",
            " 21%|██        | 583/2808 [00:06<00:18, 121.62it/s]\u001b[A\n",
            " 21%|██        | 596/2808 [00:06<00:18, 121.94it/s]\u001b[A\n",
            " 22%|██▏       | 609/2808 [00:06<00:18, 122.07it/s]\u001b[A\n",
            " 22%|██▏       | 622/2808 [00:06<00:17, 122.30it/s]\u001b[A"
          ],
          "name": "stderr"
        },
        {
          "output_type": "stream",
          "text": [
            "| epoch   5 |   600/ 2808 batches | lr 0.02 | loss  1.80 | ppl     6.03\n"
          ],
          "name": "stdout"
        },
        {
          "output_type": "stream",
          "text": [
            "\n",
            " 23%|██▎       | 635/2808 [00:06<00:17, 122.53it/s]\u001b[A\n",
            " 23%|██▎       | 648/2808 [00:06<00:17, 121.91it/s]\u001b[A\n",
            " 24%|██▎       | 661/2808 [00:06<00:17, 122.26it/s]\u001b[A\n",
            " 24%|██▍       | 674/2808 [00:06<00:17, 122.58it/s]\u001b[A\n",
            " 24%|██▍       | 687/2808 [00:06<00:17, 122.42it/s]\u001b[A\n",
            " 25%|██▍       | 700/2808 [00:07<00:17, 122.17it/s]\u001b[A\n",
            " 25%|██▌       | 713/2808 [00:07<00:17, 121.51it/s]\u001b[A"
          ],
          "name": "stderr"
        },
        {
          "output_type": "stream",
          "text": [
            "| epoch   5 |   700/ 2808 batches | lr 0.02 | loss  1.80 | ppl     6.06\n"
          ],
          "name": "stdout"
        },
        {
          "output_type": "stream",
          "text": [
            "\n",
            " 26%|██▌       | 726/2808 [00:07<00:17, 121.35it/s]\u001b[A\n",
            " 26%|██▋       | 739/2808 [00:07<00:16, 121.80it/s]\u001b[A\n",
            " 27%|██▋       | 752/2808 [00:07<00:16, 122.26it/s]\u001b[A\n",
            " 27%|██▋       | 765/2808 [00:07<00:16, 122.62it/s]\u001b[A\n",
            " 28%|██▊       | 778/2808 [00:07<00:16, 122.62it/s]\u001b[A\n",
            " 28%|██▊       | 791/2808 [00:07<00:16, 122.02it/s]\u001b[A\n",
            " 29%|██▊       | 804/2808 [00:07<00:16, 122.19it/s]\u001b[A\n",
            " 29%|██▉       | 817/2808 [00:07<00:16, 122.00it/s]\u001b[A"
          ],
          "name": "stderr"
        },
        {
          "output_type": "stream",
          "text": [
            "| epoch   5 |   800/ 2808 batches | lr 0.02 | loss  1.80 | ppl     6.05\n"
          ],
          "name": "stdout"
        },
        {
          "output_type": "stream",
          "text": [
            "\n",
            " 30%|██▉       | 830/2808 [00:08<00:16, 121.92it/s]\u001b[A\n",
            " 30%|███       | 843/2808 [00:08<00:15, 122.84it/s]\u001b[A\n",
            " 30%|███       | 856/2808 [00:08<00:15, 123.01it/s]\u001b[A\n",
            " 31%|███       | 869/2808 [00:08<00:15, 122.76it/s]\u001b[A\n",
            " 31%|███▏      | 882/2808 [00:08<00:15, 122.93it/s]\u001b[A\n",
            " 32%|███▏      | 895/2808 [00:08<00:15, 122.90it/s]\u001b[A\n",
            " 32%|███▏      | 908/2808 [00:08<00:15, 122.38it/s]\u001b[A\n",
            " 33%|███▎      | 921/2808 [00:08<00:15, 122.16it/s]\u001b[A"
          ],
          "name": "stderr"
        },
        {
          "output_type": "stream",
          "text": [
            "| epoch   5 |   900/ 2808 batches | lr 0.02 | loss  1.80 | ppl     6.05\n"
          ],
          "name": "stdout"
        },
        {
          "output_type": "stream",
          "text": [
            "\n",
            " 33%|███▎      | 934/2808 [00:08<00:15, 121.23it/s]\u001b[A\n",
            " 34%|███▎      | 947/2808 [00:09<00:15, 121.10it/s]\u001b[A\n",
            " 34%|███▍      | 960/2808 [00:09<00:15, 121.17it/s]\u001b[A\n",
            " 35%|███▍      | 973/2808 [00:09<00:15, 121.68it/s]\u001b[A\n",
            " 35%|███▌      | 986/2808 [00:09<00:14, 121.49it/s]\u001b[A\n",
            " 36%|███▌      | 999/2808 [00:09<00:14, 122.06it/s]\u001b[A\n",
            " 36%|███▌      | 1012/2808 [00:09<00:14, 121.84it/s]\u001b[A\n",
            " 37%|███▋      | 1025/2808 [00:09<00:14, 121.95it/s]\u001b[A"
          ],
          "name": "stderr"
        },
        {
          "output_type": "stream",
          "text": [
            "| epoch   5 |  1000/ 2808 batches | lr 0.02 | loss  1.80 | ppl     6.06\n"
          ],
          "name": "stdout"
        },
        {
          "output_type": "stream",
          "text": [
            "\n",
            " 37%|███▋      | 1038/2808 [00:09<00:14, 122.28it/s]\u001b[A\n",
            " 37%|███▋      | 1051/2808 [00:09<00:14, 122.56it/s]\u001b[A\n",
            " 38%|███▊      | 1064/2808 [00:09<00:14, 123.02it/s]\u001b[A\n",
            " 38%|███▊      | 1077/2808 [00:10<00:14, 122.68it/s]\u001b[A\n",
            " 39%|███▉      | 1090/2808 [00:10<00:13, 122.81it/s]\u001b[A\n",
            " 39%|███▉      | 1103/2808 [00:10<00:13, 122.30it/s]\u001b[A\n",
            " 40%|███▉      | 1116/2808 [00:10<00:13, 121.91it/s]\u001b[A"
          ],
          "name": "stderr"
        },
        {
          "output_type": "stream",
          "text": [
            "| epoch   5 |  1100/ 2808 batches | lr 0.02 | loss  1.80 | ppl     6.05\n"
          ],
          "name": "stdout"
        },
        {
          "output_type": "stream",
          "text": [
            "\n",
            " 40%|████      | 1129/2808 [00:10<00:13, 120.25it/s]\u001b[A\n",
            " 41%|████      | 1142/2808 [00:10<00:13, 120.67it/s]\u001b[A\n",
            " 41%|████      | 1155/2808 [00:10<00:13, 119.07it/s]\u001b[A\n",
            " 42%|████▏     | 1168/2808 [00:10<00:13, 120.28it/s]\u001b[A\n",
            " 42%|████▏     | 1181/2808 [00:10<00:13, 120.73it/s]\u001b[A\n",
            " 43%|████▎     | 1194/2808 [00:11<00:13, 120.67it/s]\u001b[A\n",
            " 43%|████▎     | 1207/2808 [00:11<00:13, 121.42it/s]\u001b[A\n",
            " 43%|████▎     | 1220/2808 [00:11<00:13, 121.61it/s]\u001b[A"
          ],
          "name": "stderr"
        },
        {
          "output_type": "stream",
          "text": [
            "| epoch   5 |  1200/ 2808 batches | lr 0.02 | loss  1.81 | ppl     6.08\n"
          ],
          "name": "stdout"
        },
        {
          "output_type": "stream",
          "text": [
            "\n",
            " 44%|████▍     | 1233/2808 [00:11<00:12, 121.71it/s]\u001b[A\n",
            " 44%|████▍     | 1246/2808 [00:11<00:12, 121.81it/s]\u001b[A\n",
            " 45%|████▍     | 1259/2808 [00:11<00:12, 121.78it/s]\u001b[A\n",
            " 45%|████▌     | 1272/2808 [00:11<00:12, 122.39it/s]\u001b[A\n",
            " 46%|████▌     | 1285/2808 [00:11<00:12, 123.08it/s]\u001b[A\n",
            " 46%|████▌     | 1298/2808 [00:11<00:12, 122.77it/s]\u001b[A\n",
            " 47%|████▋     | 1311/2808 [00:12<00:12, 122.80it/s]\u001b[A\n",
            " 47%|████▋     | 1324/2808 [00:12<00:12, 122.89it/s]\u001b[A"
          ],
          "name": "stderr"
        },
        {
          "output_type": "stream",
          "text": [
            "| epoch   5 |  1300/ 2808 batches | lr 0.02 | loss  1.80 | ppl     6.04\n"
          ],
          "name": "stdout"
        },
        {
          "output_type": "stream",
          "text": [
            "\n",
            " 48%|████▊     | 1337/2808 [00:12<00:12, 122.25it/s]\u001b[A\n",
            " 48%|████▊     | 1350/2808 [00:12<00:12, 121.29it/s]\u001b[A\n",
            " 49%|████▊     | 1363/2808 [00:12<00:11, 121.93it/s]\u001b[A\n",
            " 49%|████▉     | 1376/2808 [00:12<00:11, 122.44it/s]\u001b[A\n",
            " 49%|████▉     | 1389/2808 [00:12<00:11, 123.03it/s]\u001b[A\n",
            " 50%|████▉     | 1402/2808 [00:12<00:11, 122.89it/s]\u001b[A\n",
            " 50%|█████     | 1415/2808 [00:12<00:11, 123.32it/s]\u001b[A"
          ],
          "name": "stderr"
        },
        {
          "output_type": "stream",
          "text": [
            "| epoch   5 |  1400/ 2808 batches | lr 0.02 | loss  1.79 | ppl     5.97\n"
          ],
          "name": "stdout"
        },
        {
          "output_type": "stream",
          "text": [
            "\n",
            " 51%|█████     | 1428/2808 [00:12<00:11, 122.69it/s]\u001b[A\n",
            " 51%|█████▏    | 1441/2808 [00:13<00:11, 123.20it/s]\u001b[A\n",
            " 52%|█████▏    | 1454/2808 [00:13<00:10, 123.96it/s]\u001b[A\n",
            " 52%|█████▏    | 1467/2808 [00:13<00:10, 123.43it/s]\u001b[A\n",
            " 53%|█████▎    | 1480/2808 [00:13<00:10, 123.10it/s]\u001b[A\n",
            " 53%|█████▎    | 1493/2808 [00:13<00:10, 122.61it/s]\u001b[A\n",
            " 54%|█████▎    | 1506/2808 [00:13<00:10, 121.90it/s]\u001b[A\n",
            " 54%|█████▍    | 1519/2808 [00:13<00:10, 122.22it/s]\u001b[A"
          ],
          "name": "stderr"
        },
        {
          "output_type": "stream",
          "text": [
            "| epoch   5 |  1500/ 2808 batches | lr 0.02 | loss  1.79 | ppl     6.01\n"
          ],
          "name": "stdout"
        },
        {
          "output_type": "stream",
          "text": [
            "\n",
            " 55%|█████▍    | 1532/2808 [00:13<00:10, 120.69it/s]\u001b[A\n",
            " 55%|█████▌    | 1545/2808 [00:13<00:10, 121.42it/s]\u001b[A\n",
            " 55%|█████▌    | 1558/2808 [00:14<00:10, 121.62it/s]\u001b[A\n",
            " 56%|█████▌    | 1571/2808 [00:14<00:10, 122.11it/s]\u001b[A\n",
            " 56%|█████▋    | 1584/2808 [00:14<00:10, 122.35it/s]\u001b[A\n",
            " 57%|█████▋    | 1597/2808 [00:14<00:09, 123.23it/s]\u001b[A\n",
            " 57%|█████▋    | 1610/2808 [00:14<00:09, 123.18it/s]\u001b[A\n",
            " 58%|█████▊    | 1623/2808 [00:14<00:09, 122.01it/s]\u001b[A"
          ],
          "name": "stderr"
        },
        {
          "output_type": "stream",
          "text": [
            "| epoch   5 |  1600/ 2808 batches | lr 0.02 | loss  1.80 | ppl     6.04\n"
          ],
          "name": "stdout"
        },
        {
          "output_type": "stream",
          "text": [
            "\n",
            " 58%|█████▊    | 1636/2808 [00:14<00:09, 120.79it/s]\u001b[A\n",
            " 59%|█████▊    | 1649/2808 [00:14<00:09, 121.16it/s]\u001b[A\n",
            " 59%|█████▉    | 1662/2808 [00:14<00:09, 121.23it/s]\u001b[A\n",
            " 60%|█████▉    | 1675/2808 [00:15<00:09, 121.34it/s]\u001b[A\n",
            " 60%|██████    | 1688/2808 [00:15<00:09, 121.70it/s]\u001b[A\n",
            " 61%|██████    | 1701/2808 [00:15<00:09, 121.87it/s]\u001b[A\n",
            " 61%|██████    | 1714/2808 [00:15<00:09, 121.47it/s]\u001b[A"
          ],
          "name": "stderr"
        },
        {
          "output_type": "stream",
          "text": [
            "| epoch   5 |  1700/ 2808 batches | lr 0.02 | loss  1.79 | ppl     6.02\n"
          ],
          "name": "stdout"
        },
        {
          "output_type": "stream",
          "text": [
            "\n",
            " 62%|██████▏   | 1727/2808 [00:15<00:08, 122.03it/s]\u001b[A\n",
            " 62%|██████▏   | 1740/2808 [00:15<00:08, 121.92it/s]\u001b[A\n",
            " 62%|██████▏   | 1753/2808 [00:15<00:08, 122.60it/s]\u001b[A\n",
            " 63%|██████▎   | 1766/2808 [00:15<00:08, 122.51it/s]\u001b[A\n",
            " 63%|██████▎   | 1779/2808 [00:15<00:08, 121.04it/s]\u001b[A\n",
            " 64%|██████▍   | 1792/2808 [00:15<00:08, 121.74it/s]\u001b[A\n",
            " 64%|██████▍   | 1805/2808 [00:16<00:08, 122.13it/s]\u001b[A\n",
            " 65%|██████▍   | 1818/2808 [00:16<00:08, 122.73it/s]\u001b[A"
          ],
          "name": "stderr"
        },
        {
          "output_type": "stream",
          "text": [
            "| epoch   5 |  1800/ 2808 batches | lr 0.02 | loss  1.80 | ppl     6.03\n"
          ],
          "name": "stdout"
        },
        {
          "output_type": "stream",
          "text": [
            "\n",
            " 65%|██████▌   | 1831/2808 [00:16<00:07, 122.57it/s]\u001b[A\n",
            " 66%|██████▌   | 1844/2808 [00:16<00:07, 123.39it/s]\u001b[A\n",
            " 66%|██████▌   | 1857/2808 [00:16<00:07, 123.26it/s]\u001b[A\n",
            " 67%|██████▋   | 1870/2808 [00:16<00:07, 123.40it/s]\u001b[A\n",
            " 67%|██████▋   | 1883/2808 [00:16<00:07, 122.61it/s]\u001b[A\n",
            " 68%|██████▊   | 1896/2808 [00:16<00:07, 122.19it/s]\u001b[A\n",
            " 68%|██████▊   | 1909/2808 [00:16<00:07, 121.91it/s]\u001b[A\n",
            " 68%|██████▊   | 1922/2808 [00:17<00:07, 121.74it/s]\u001b[A"
          ],
          "name": "stderr"
        },
        {
          "output_type": "stream",
          "text": [
            "| epoch   5 |  1900/ 2808 batches | lr 0.02 | loss  1.80 | ppl     6.07\n"
          ],
          "name": "stdout"
        },
        {
          "output_type": "stream",
          "text": [
            "\n",
            " 69%|██████▉   | 1935/2808 [00:17<00:07, 121.75it/s]\u001b[A\n",
            " 69%|██████▉   | 1948/2808 [00:17<00:07, 121.90it/s]\u001b[A\n",
            " 70%|██████▉   | 1961/2808 [00:17<00:06, 121.71it/s]\u001b[A\n",
            " 70%|███████   | 1974/2808 [00:17<00:06, 122.34it/s]\u001b[A\n",
            " 71%|███████   | 1987/2808 [00:17<00:06, 122.22it/s]\u001b[A\n",
            " 71%|███████   | 2000/2808 [00:17<00:06, 122.37it/s]\u001b[A\n",
            " 72%|███████▏  | 2013/2808 [00:17<00:06, 122.40it/s]\u001b[A\n",
            " 72%|███████▏  | 2026/2808 [00:17<00:06, 122.65it/s]"
          ],
          "name": "stderr"
        },
        {
          "output_type": "stream",
          "text": [
            "| epoch   5 |  2000/ 2808 batches | lr 0.02 | loss  1.79 | ppl     6.02\n"
          ],
          "name": "stdout"
        },
        {
          "output_type": "stream",
          "text": [
            "\u001b[A\n",
            " 73%|███████▎  | 2039/2808 [00:17<00:06, 122.53it/s]\u001b[A\n",
            " 73%|███████▎  | 2052/2808 [00:18<00:06, 122.96it/s]\u001b[A\n",
            " 74%|███████▎  | 2065/2808 [00:18<00:06, 123.35it/s]\u001b[A\n",
            " 74%|███████▍  | 2078/2808 [00:18<00:05, 123.65it/s]\u001b[A\n",
            " 74%|███████▍  | 2091/2808 [00:18<00:05, 123.48it/s]\u001b[A\n",
            " 75%|███████▍  | 2104/2808 [00:18<00:05, 122.82it/s]\u001b[A\n",
            " 75%|███████▌  | 2117/2808 [00:18<00:05, 122.66it/s]\u001b[A"
          ],
          "name": "stderr"
        },
        {
          "output_type": "stream",
          "text": [
            "| epoch   5 |  2100/ 2808 batches | lr 0.02 | loss  1.80 | ppl     6.07\n"
          ],
          "name": "stdout"
        },
        {
          "output_type": "stream",
          "text": [
            "\n",
            " 76%|███████▌  | 2130/2808 [00:18<00:05, 122.96it/s]\u001b[A\n",
            " 76%|███████▋  | 2143/2808 [00:18<00:05, 122.79it/s]\u001b[A\n",
            " 77%|███████▋  | 2156/2808 [00:18<00:05, 122.88it/s]\u001b[A\n",
            " 77%|███████▋  | 2169/2808 [00:19<00:05, 123.09it/s]\u001b[A\n",
            " 78%|███████▊  | 2182/2808 [00:19<00:05, 122.75it/s]\u001b[A\n",
            " 78%|███████▊  | 2195/2808 [00:19<00:04, 123.34it/s]\u001b[A\n",
            " 79%|███████▊  | 2208/2808 [00:19<00:04, 122.86it/s]\u001b[A\n",
            " 79%|███████▉  | 2221/2808 [00:19<00:04, 122.16it/s]\u001b[A"
          ],
          "name": "stderr"
        },
        {
          "output_type": "stream",
          "text": [
            "| epoch   5 |  2200/ 2808 batches | lr 0.02 | loss  1.80 | ppl     6.04\n"
          ],
          "name": "stdout"
        },
        {
          "output_type": "stream",
          "text": [
            "\n",
            " 80%|███████▉  | 2234/2808 [00:19<00:04, 121.54it/s]\u001b[A\n",
            " 80%|████████  | 2247/2808 [00:19<00:04, 122.02it/s]\u001b[A\n",
            " 80%|████████  | 2260/2808 [00:19<00:04, 121.70it/s]\u001b[A\n",
            " 81%|████████  | 2273/2808 [00:19<00:04, 121.58it/s]\u001b[A\n",
            " 81%|████████▏ | 2286/2808 [00:19<00:04, 121.31it/s]\u001b[A\n",
            " 82%|████████▏ | 2299/2808 [00:20<00:04, 121.62it/s]\u001b[A\n",
            " 82%|████████▏ | 2312/2808 [00:20<00:04, 122.36it/s]\u001b[A\n",
            " 83%|████████▎ | 2325/2808 [00:20<00:03, 122.07it/s]\u001b[A"
          ],
          "name": "stderr"
        },
        {
          "output_type": "stream",
          "text": [
            "| epoch   5 |  2300/ 2808 batches | lr 0.02 | loss  1.81 | ppl     6.09\n"
          ],
          "name": "stdout"
        },
        {
          "output_type": "stream",
          "text": [
            "\n",
            " 83%|████████▎ | 2338/2808 [00:20<00:03, 122.49it/s]\u001b[A\n",
            " 84%|████████▎ | 2351/2808 [00:20<00:03, 122.14it/s]\u001b[A\n",
            " 84%|████████▍ | 2364/2808 [00:20<00:03, 122.37it/s]\u001b[A\n",
            " 85%|████████▍ | 2377/2808 [00:20<00:03, 122.69it/s]\u001b[A\n",
            " 85%|████████▌ | 2390/2808 [00:20<00:03, 122.68it/s]\u001b[A\n",
            " 86%|████████▌ | 2403/2808 [00:20<00:03, 122.33it/s]\u001b[A\n",
            " 86%|████████▌ | 2416/2808 [00:21<00:03, 122.14it/s]\u001b[A"
          ],
          "name": "stderr"
        },
        {
          "output_type": "stream",
          "text": [
            "| epoch   5 |  2400/ 2808 batches | lr 0.02 | loss  1.79 | ppl     6.00\n"
          ],
          "name": "stdout"
        },
        {
          "output_type": "stream",
          "text": [
            "\n",
            " 87%|████████▋ | 2429/2808 [00:21<00:03, 122.38it/s]\u001b[A\n",
            " 87%|████████▋ | 2442/2808 [00:21<00:02, 122.63it/s]\u001b[A\n",
            " 87%|████████▋ | 2455/2808 [00:21<00:02, 122.15it/s]\u001b[A\n",
            " 88%|████████▊ | 2468/2808 [00:21<00:02, 122.33it/s]\u001b[A\n",
            " 88%|████████▊ | 2481/2808 [00:21<00:02, 122.42it/s]\u001b[A\n",
            " 89%|████████▉ | 2494/2808 [00:21<00:02, 123.46it/s]\u001b[A\n",
            " 89%|████████▉ | 2507/2808 [00:21<00:02, 122.15it/s]\u001b[A\n",
            " 90%|████████▉ | 2520/2808 [00:21<00:02, 121.77it/s]\u001b[A"
          ],
          "name": "stderr"
        },
        {
          "output_type": "stream",
          "text": [
            "| epoch   5 |  2500/ 2808 batches | lr 0.02 | loss  1.79 | ppl     6.02\n"
          ],
          "name": "stdout"
        },
        {
          "output_type": "stream",
          "text": [
            "\n",
            " 90%|█████████ | 2533/2808 [00:22<00:02, 121.90it/s]\u001b[A\n",
            " 91%|█████████ | 2546/2808 [00:22<00:02, 122.28it/s]\u001b[A\n",
            " 91%|█████████ | 2559/2808 [00:22<00:02, 122.30it/s]\u001b[A\n",
            " 92%|█████████▏| 2572/2808 [00:22<00:01, 122.81it/s]\u001b[A\n",
            " 92%|█████████▏| 2585/2808 [00:22<00:01, 123.20it/s]\u001b[A\n",
            " 93%|█████████▎| 2598/2808 [00:22<00:01, 123.56it/s]\u001b[A\n",
            " 93%|█████████▎| 2611/2808 [00:22<00:01, 123.13it/s]\u001b[A\n",
            " 93%|█████████▎| 2624/2808 [00:22<00:01, 123.09it/s]\u001b[A"
          ],
          "name": "stderr"
        },
        {
          "output_type": "stream",
          "text": [
            "| epoch   5 |  2600/ 2808 batches | lr 0.02 | loss  1.80 | ppl     6.06\n"
          ],
          "name": "stdout"
        },
        {
          "output_type": "stream",
          "text": [
            "\n",
            " 94%|█████████▍| 2637/2808 [00:22<00:01, 123.17it/s]\u001b[A\n",
            " 94%|█████████▍| 2650/2808 [00:22<00:01, 123.14it/s]\u001b[A\n",
            " 95%|█████████▍| 2663/2808 [00:23<00:01, 123.08it/s]\u001b[A\n",
            " 95%|█████████▌| 2676/2808 [00:23<00:01, 122.75it/s]\u001b[A\n",
            " 96%|█████████▌| 2689/2808 [00:23<00:00, 122.85it/s]\u001b[A\n",
            " 96%|█████████▌| 2702/2808 [00:23<00:00, 122.47it/s]\u001b[A\n",
            " 97%|█████████▋| 2715/2808 [00:23<00:00, 122.35it/s]\u001b[A"
          ],
          "name": "stderr"
        },
        {
          "output_type": "stream",
          "text": [
            "| epoch   5 |  2700/ 2808 batches | lr 0.02 | loss  1.80 | ppl     6.05\n"
          ],
          "name": "stdout"
        },
        {
          "output_type": "stream",
          "text": [
            "\n",
            " 97%|█████████▋| 2728/2808 [00:23<00:00, 122.44it/s]\u001b[A\n",
            " 98%|█████████▊| 2741/2808 [00:23<00:00, 122.67it/s]\u001b[A\n",
            " 98%|█████████▊| 2754/2808 [00:23<00:00, 123.25it/s]\u001b[A\n",
            " 99%|█████████▊| 2767/2808 [00:23<00:00, 123.43it/s]\u001b[A\n",
            " 99%|█████████▉| 2780/2808 [00:24<00:00, 122.37it/s]\u001b[A\n",
            " 99%|█████████▉| 2793/2808 [00:24<00:00, 121.83it/s]\u001b[A\n",
            "100%|██████████| 2808/2808 [00:24<00:00, 115.72it/s]\n",
            "\n",
            "  0%|          | 0/292 [00:00<?, ?it/s]\u001b[A"
          ],
          "name": "stderr"
        },
        {
          "output_type": "stream",
          "text": [
            "| epoch   5 |  2800/ 2808 batches | lr 0.02 | loss  1.79 | ppl     5.99\n"
          ],
          "name": "stdout"
        },
        {
          "output_type": "stream",
          "text": [
            "\n",
            "  0%|          | 1/292 [00:00<00:40,  7.14it/s]\u001b[A\n",
            " 20%|█▉        | 57/292 [00:00<00:23, 10.14it/s]\u001b[A\n",
            " 39%|███▊      | 113/292 [00:00<00:12, 14.37it/s]\u001b[A\n",
            " 58%|█████▊    | 169/292 [00:00<00:06, 20.31it/s]\u001b[A\n",
            " 77%|███████▋  | 224/292 [00:00<00:02, 28.56it/s]\u001b[A\n",
            "100%|██████████| 292/292 [00:00<00:00, 432.58it/s]\n"
          ],
          "name": "stderr"
        },
        {
          "output_type": "stream",
          "text": [
            "-----------------------------------------------------------------------------------------\n",
            "| end of epoch   5 | valid loss  1.59 | valid ppl     4.90\n",
            "-----------------------------------------------------------------------------------------\n",
            "sample:\n",
            "  fany cag a sests iePowitharime , onansichothestnc \n",
            "\n"
          ],
          "name": "stdout"
        },
        {
          "output_type": "stream",
          "text": [
            "\n",
            "  0%|          | 0/2808 [00:00<?, ?it/s]\u001b[A"
          ],
          "name": "stderr"
        },
        {
          "output_type": "stream",
          "text": [
            "sample:\n",
            " Vễγ‘l～ʻëのửYT\"*bลçž・îM火≤プ火]ʿჯí₹<unk>dv`機₹rPžāâĀêàa\\øμšị \n",
            "\n"
          ],
          "name": "stdout"
        },
        {
          "output_type": "stream",
          "text": [
            "\n",
            "  0%|          | 1/2808 [00:01<1:01:47,  1.32s/it]\u001b[A\n",
            "  0%|          | 5/2808 [00:01<43:34,  1.07it/s]  \u001b[A\n",
            "  0%|          | 9/2808 [00:01<30:51,  1.51it/s]\u001b[A\n",
            "  0%|          | 13/2808 [00:01<21:55,  2.12it/s]\u001b[A\n",
            "  1%|          | 17/2808 [00:01<15:42,  2.96it/s]\u001b[A\n",
            "  1%|          | 21/2808 [00:01<11:20,  4.10it/s]\u001b[A\n",
            "  1%|          | 25/2808 [00:01<08:18,  5.59it/s]\u001b[A\n",
            "  1%|          | 29/2808 [00:02<06:09,  7.51it/s]\u001b[A\n",
            "  1%|          | 33/2808 [00:02<04:40,  9.88it/s]\u001b[A\n",
            "  1%|▏         | 37/2808 [00:02<03:37, 12.72it/s]\u001b[A\n",
            "  1%|▏         | 41/2808 [00:02<02:53, 15.93it/s]\u001b[A\n",
            "  2%|▏         | 45/2808 [00:02<02:22, 19.38it/s]\u001b[A\n",
            "  2%|▏         | 49/2808 [00:02<02:01, 22.72it/s]\u001b[A\n",
            "  2%|▏         | 53/2808 [00:02<01:46, 25.92it/s]\u001b[A\n",
            "  2%|▏         | 57/2808 [00:02<01:36, 28.47it/s]\u001b[A\n",
            "  2%|▏         | 61/2808 [00:02<01:28, 30.88it/s]\u001b[A\n",
            "  2%|▏         | 65/2808 [00:03<01:24, 32.63it/s]\u001b[A\n",
            "  2%|▏         | 69/2808 [00:03<01:20, 34.18it/s]\u001b[A\n",
            "  3%|▎         | 73/2808 [00:03<01:17, 35.44it/s]\u001b[A\n",
            "  3%|▎         | 77/2808 [00:03<01:15, 36.34it/s]\u001b[A\n",
            "  3%|▎         | 81/2808 [00:03<01:13, 37.00it/s]\u001b[A\n",
            "  3%|▎         | 85/2808 [00:03<01:12, 37.51it/s]\u001b[A\n",
            "  3%|▎         | 89/2808 [00:03<01:12, 37.56it/s]\u001b[A\n",
            "  3%|▎         | 93/2808 [00:03<01:11, 37.97it/s]\u001b[A\n",
            "  3%|▎         | 97/2808 [00:03<01:10, 38.22it/s]\u001b[A\n",
            "  4%|▎         | 101/2808 [00:03<01:10, 38.39it/s]\u001b[A\n",
            "  4%|▎         | 105/2808 [00:04<01:10, 38.17it/s]\u001b[A"
          ],
          "name": "stderr"
        },
        {
          "output_type": "stream",
          "text": [
            "| epoch   1 |   100/ 2808 batches | lr 0.00 | loss  5.69 | ppl   296.86\n"
          ],
          "name": "stdout"
        },
        {
          "output_type": "stream",
          "text": [
            "\n",
            "  4%|▍         | 109/2808 [00:04<01:11, 37.98it/s]\u001b[A\n",
            "  4%|▍         | 113/2808 [00:04<01:10, 38.25it/s]\u001b[A\n",
            "  4%|▍         | 117/2808 [00:04<01:10, 38.17it/s]\u001b[A\n",
            "  4%|▍         | 121/2808 [00:04<01:10, 38.08it/s]\u001b[A\n",
            "  4%|▍         | 125/2808 [00:04<01:10, 38.30it/s]\u001b[A\n",
            "  5%|▍         | 129/2808 [00:04<01:10, 38.02it/s]\u001b[A\n",
            "  5%|▍         | 133/2808 [00:04<01:10, 37.89it/s]\u001b[A\n",
            "  5%|▍         | 137/2808 [00:04<01:10, 37.82it/s]\u001b[A\n",
            "  5%|▌         | 141/2808 [00:05<01:10, 38.01it/s]\u001b[A\n",
            "  5%|▌         | 145/2808 [00:05<01:09, 38.30it/s]\u001b[A\n",
            "  5%|▌         | 149/2808 [00:05<01:09, 38.32it/s]\u001b[A\n",
            "  5%|▌         | 153/2808 [00:05<01:08, 38.56it/s]\u001b[A\n",
            "  6%|▌         | 157/2808 [00:05<01:09, 38.13it/s]\u001b[A\n",
            "  6%|▌         | 161/2808 [00:05<01:09, 38.01it/s]\u001b[A\n",
            "  6%|▌         | 165/2808 [00:05<01:09, 38.24it/s]\u001b[A\n",
            "  6%|▌         | 169/2808 [00:05<01:08, 38.29it/s]\u001b[A\n",
            "  6%|▌         | 173/2808 [00:05<01:09, 37.77it/s]\u001b[A\n",
            "  6%|▋         | 177/2808 [00:05<01:09, 38.03it/s]\u001b[A\n",
            "  6%|▋         | 181/2808 [00:06<01:09, 37.95it/s]\u001b[A\n",
            "  7%|▋         | 185/2808 [00:06<01:09, 37.80it/s]\u001b[A\n",
            "  7%|▋         | 189/2808 [00:06<01:09, 37.86it/s]\u001b[A\n",
            "  7%|▋         | 193/2808 [00:06<01:09, 37.73it/s]\u001b[A\n",
            "  7%|▋         | 197/2808 [00:06<01:09, 37.64it/s]\u001b[A\n",
            "  7%|▋         | 201/2808 [00:06<01:08, 37.95it/s]\u001b[A\n",
            "  7%|▋         | 205/2808 [00:06<01:08, 37.79it/s]\u001b[A"
          ],
          "name": "stderr"
        },
        {
          "output_type": "stream",
          "text": [
            "| epoch   1 |   200/ 2808 batches | lr 0.00 | loss  5.62 | ppl   276.84\n"
          ],
          "name": "stdout"
        },
        {
          "output_type": "stream",
          "text": [
            "\n",
            "  7%|▋         | 209/2808 [00:06<01:09, 37.56it/s]\u001b[A\n",
            "  8%|▊         | 213/2808 [00:06<01:08, 37.86it/s]\u001b[A\n",
            "  8%|▊         | 217/2808 [00:07<01:08, 38.08it/s]\u001b[A\n",
            "  8%|▊         | 221/2808 [00:07<01:07, 38.30it/s]\u001b[A\n",
            "  8%|▊         | 225/2808 [00:07<01:07, 38.31it/s]\u001b[A\n",
            "  8%|▊         | 229/2808 [00:07<01:07, 38.05it/s]\u001b[A\n",
            "  8%|▊         | 233/2808 [00:07<01:07, 38.23it/s]\u001b[A\n",
            "  8%|▊         | 237/2808 [00:07<01:07, 38.29it/s]\u001b[A\n",
            "  9%|▊         | 241/2808 [00:07<01:06, 38.37it/s]\u001b[A\n",
            "  9%|▊         | 245/2808 [00:07<01:06, 38.44it/s]\u001b[A\n",
            "  9%|▉         | 249/2808 [00:07<01:06, 38.30it/s]\u001b[A\n",
            "  9%|▉         | 253/2808 [00:07<01:06, 38.48it/s]\u001b[A\n",
            "  9%|▉         | 257/2808 [00:08<01:06, 38.53it/s]\u001b[A\n",
            "  9%|▉         | 261/2808 [00:08<01:06, 38.57it/s]\u001b[A\n",
            "  9%|▉         | 265/2808 [00:08<01:06, 38.46it/s]\u001b[A\n",
            " 10%|▉         | 269/2808 [00:08<01:06, 38.12it/s]\u001b[A\n",
            " 10%|▉         | 273/2808 [00:08<01:06, 38.31it/s]\u001b[A\n",
            " 10%|▉         | 277/2808 [00:08<01:05, 38.47it/s]\u001b[A\n",
            " 10%|█         | 281/2808 [00:08<01:05, 38.51it/s]\u001b[A\n",
            " 10%|█         | 285/2808 [00:08<01:05, 38.25it/s]\u001b[A\n",
            " 10%|█         | 289/2808 [00:08<01:05, 38.33it/s]\u001b[A\n",
            " 10%|█         | 293/2808 [00:08<01:05, 38.26it/s]\u001b[A\n",
            " 11%|█         | 297/2808 [00:09<01:05, 38.57it/s]\u001b[A\n",
            " 11%|█         | 301/2808 [00:09<01:04, 38.76it/s]\u001b[A\n",
            " 11%|█         | 305/2808 [00:09<01:05, 38.19it/s]\u001b[A"
          ],
          "name": "stderr"
        },
        {
          "output_type": "stream",
          "text": [
            "| epoch   1 |   300/ 2808 batches | lr 0.00 | loss  5.61 | ppl   273.16\n"
          ],
          "name": "stdout"
        },
        {
          "output_type": "stream",
          "text": [
            "\n",
            " 11%|█         | 309/2808 [00:09<01:05, 38.03it/s]\u001b[A\n",
            " 11%|█         | 313/2808 [00:09<01:05, 38.26it/s]\u001b[A\n",
            " 11%|█▏        | 317/2808 [00:09<01:04, 38.33it/s]\u001b[A\n",
            " 11%|█▏        | 321/2808 [00:09<01:04, 38.36it/s]\u001b[A\n",
            " 12%|█▏        | 325/2808 [00:09<01:04, 38.23it/s]\u001b[A\n",
            " 12%|█▏        | 329/2808 [00:09<01:04, 38.32it/s]\u001b[A\n",
            " 12%|█▏        | 333/2808 [00:10<01:04, 38.45it/s]\u001b[A\n",
            " 12%|█▏        | 337/2808 [00:10<01:04, 38.46it/s]\u001b[A\n",
            " 12%|█▏        | 341/2808 [00:10<01:04, 38.52it/s]\u001b[A\n",
            " 12%|█▏        | 345/2808 [00:10<01:03, 38.62it/s]\u001b[A\n",
            " 12%|█▏        | 349/2808 [00:10<01:03, 38.68it/s]\u001b[A\n",
            " 13%|█▎        | 353/2808 [00:10<01:03, 38.70it/s]\u001b[A\n",
            " 13%|█▎        | 357/2808 [00:10<01:03, 38.42it/s]\u001b[A\n",
            " 13%|█▎        | 361/2808 [00:10<01:03, 38.35it/s]\u001b[A\n",
            " 13%|█▎        | 365/2808 [00:10<01:04, 37.94it/s]\u001b[A\n",
            " 13%|█▎        | 369/2808 [00:10<01:04, 37.94it/s]\u001b[A\n",
            " 13%|█▎        | 373/2808 [00:11<01:03, 38.08it/s]\u001b[A\n",
            " 13%|█▎        | 377/2808 [00:11<01:04, 37.85it/s]\u001b[A\n",
            " 14%|█▎        | 381/2808 [00:11<01:04, 37.87it/s]\u001b[A\n",
            " 14%|█▎        | 385/2808 [00:11<01:03, 38.15it/s]\u001b[A\n",
            " 14%|█▍        | 389/2808 [00:11<01:03, 38.32it/s]\u001b[A\n",
            " 14%|█▍        | 393/2808 [00:11<01:02, 38.53it/s]\u001b[A\n",
            " 14%|█▍        | 397/2808 [00:11<01:02, 38.55it/s]\u001b[A\n",
            " 14%|█▍        | 401/2808 [00:11<01:02, 38.29it/s]\u001b[A\n",
            " 14%|█▍        | 405/2808 [00:11<01:03, 38.03it/s]\u001b[A"
          ],
          "name": "stderr"
        },
        {
          "output_type": "stream",
          "text": [
            "| epoch   1 |   400/ 2808 batches | lr 0.00 | loss  5.60 | ppl   269.54\n"
          ],
          "name": "stdout"
        },
        {
          "output_type": "stream",
          "text": [
            "\n",
            " 15%|█▍        | 409/2808 [00:12<01:02, 38.28it/s]\u001b[A\n",
            " 15%|█▍        | 413/2808 [00:12<01:02, 38.32it/s]\u001b[A\n",
            " 15%|█▍        | 417/2808 [00:12<01:02, 38.49it/s]\u001b[A\n",
            " 15%|█▍        | 421/2808 [00:12<01:01, 38.56it/s]\u001b[A\n",
            " 15%|█▌        | 425/2808 [00:12<01:02, 38.11it/s]\u001b[A\n",
            " 15%|█▌        | 429/2808 [00:12<01:02, 38.36it/s]\u001b[A\n",
            " 15%|█▌        | 433/2808 [00:12<01:01, 38.48it/s]\u001b[A\n",
            " 16%|█▌        | 437/2808 [00:12<01:02, 38.20it/s]\u001b[A\n",
            " 16%|█▌        | 441/2808 [00:12<01:02, 38.04it/s]\u001b[A\n",
            " 16%|█▌        | 445/2808 [00:12<01:01, 38.22it/s]\u001b[A\n",
            " 16%|█▌        | 449/2808 [00:13<01:02, 38.00it/s]\u001b[A\n",
            " 16%|█▌        | 453/2808 [00:13<01:01, 38.12it/s]\u001b[A\n",
            " 16%|█▋        | 457/2808 [00:13<01:01, 38.10it/s]\u001b[A\n",
            " 16%|█▋        | 461/2808 [00:13<01:01, 38.15it/s]\u001b[A\n",
            " 17%|█▋        | 465/2808 [00:13<01:01, 38.37it/s]\u001b[A\n",
            " 17%|█▋        | 469/2808 [00:13<01:01, 38.32it/s]\u001b[A\n",
            " 17%|█▋        | 473/2808 [00:13<01:00, 38.50it/s]\u001b[A\n",
            " 17%|█▋        | 477/2808 [00:13<01:00, 38.54it/s]\u001b[A\n",
            " 17%|█▋        | 481/2808 [00:13<01:00, 38.49it/s]\u001b[A\n",
            " 17%|█▋        | 485/2808 [00:13<01:00, 38.28it/s]\u001b[A\n",
            " 17%|█▋        | 489/2808 [00:14<01:00, 38.52it/s]\u001b[A\n",
            " 18%|█▊        | 493/2808 [00:14<00:59, 38.61it/s]\u001b[A\n",
            " 18%|█▊        | 497/2808 [00:14<01:00, 38.34it/s]\u001b[A\n",
            " 18%|█▊        | 501/2808 [00:14<00:59, 38.50it/s]\u001b[A\n",
            " 18%|█▊        | 505/2808 [00:14<01:00, 38.28it/s]\u001b[A"
          ],
          "name": "stderr"
        },
        {
          "output_type": "stream",
          "text": [
            "| epoch   1 |   500/ 2808 batches | lr 0.00 | loss  5.58 | ppl   265.86\n"
          ],
          "name": "stdout"
        },
        {
          "output_type": "stream",
          "text": [
            "\n",
            " 18%|█▊        | 509/2808 [00:14<00:59, 38.46it/s]\u001b[A\n",
            " 18%|█▊        | 513/2808 [00:14<00:59, 38.66it/s]\u001b[A\n",
            " 18%|█▊        | 517/2808 [00:14<00:59, 38.55it/s]\u001b[A\n",
            " 19%|█▊        | 521/2808 [00:14<00:59, 38.27it/s]\u001b[A\n",
            " 19%|█▊        | 525/2808 [00:15<00:59, 38.40it/s]\u001b[A\n",
            " 19%|█▉        | 529/2808 [00:15<00:59, 38.52it/s]\u001b[A\n",
            " 19%|█▉        | 533/2808 [00:15<00:59, 38.39it/s]\u001b[A\n",
            " 19%|█▉        | 537/2808 [00:15<00:59, 38.30it/s]\u001b[A\n",
            " 19%|█▉        | 541/2808 [00:15<00:59, 38.14it/s]\u001b[A\n",
            " 19%|█▉        | 545/2808 [00:15<00:59, 38.22it/s]\u001b[A\n",
            " 20%|█▉        | 549/2808 [00:15<00:58, 38.38it/s]\u001b[A\n",
            " 20%|█▉        | 553/2808 [00:15<00:59, 38.20it/s]\u001b[A\n",
            " 20%|█▉        | 557/2808 [00:15<00:59, 37.70it/s]\u001b[A\n",
            " 20%|█▉        | 561/2808 [00:15<01:00, 37.40it/s]\u001b[A\n",
            " 20%|██        | 565/2808 [00:16<00:59, 37.71it/s]\u001b[A\n",
            " 20%|██        | 569/2808 [00:16<00:59, 37.61it/s]\u001b[A\n",
            " 20%|██        | 573/2808 [00:16<00:58, 37.94it/s]\u001b[A\n",
            " 21%|██        | 577/2808 [00:16<00:58, 38.22it/s]\u001b[A\n",
            " 21%|██        | 581/2808 [00:16<00:59, 37.73it/s]\u001b[A\n",
            " 21%|██        | 585/2808 [00:16<00:58, 38.19it/s]\u001b[A\n",
            " 21%|██        | 589/2808 [00:16<00:58, 38.05it/s]\u001b[A\n",
            " 21%|██        | 593/2808 [00:16<00:57, 38.28it/s]\u001b[A\n",
            " 21%|██▏       | 597/2808 [00:16<00:57, 38.36it/s]\u001b[A\n",
            " 21%|██▏       | 601/2808 [00:17<00:57, 38.18it/s]\u001b[A\n",
            " 22%|██▏       | 605/2808 [00:17<00:57, 38.27it/s]\u001b[A"
          ],
          "name": "stderr"
        },
        {
          "output_type": "stream",
          "text": [
            "| epoch   1 |   600/ 2808 batches | lr 0.00 | loss  5.57 | ppl   262.37\n"
          ],
          "name": "stdout"
        },
        {
          "output_type": "stream",
          "text": [
            "\n",
            " 22%|██▏       | 609/2808 [00:17<00:57, 38.37it/s]\u001b[A\n",
            " 22%|██▏       | 613/2808 [00:17<00:56, 38.56it/s]\u001b[A\n",
            " 22%|██▏       | 617/2808 [00:17<00:56, 38.46it/s]\u001b[A\n",
            " 22%|██▏       | 621/2808 [00:17<00:56, 38.55it/s]\u001b[A\n",
            " 22%|██▏       | 625/2808 [00:17<00:56, 38.60it/s]\u001b[A\n",
            " 22%|██▏       | 629/2808 [00:17<00:56, 38.38it/s]\u001b[A\n",
            " 23%|██▎       | 633/2808 [00:17<00:56, 38.42it/s]\u001b[A\n",
            " 23%|██▎       | 637/2808 [00:17<00:56, 38.48it/s]\u001b[A\n",
            " 23%|██▎       | 641/2808 [00:18<00:56, 38.05it/s]\u001b[A\n",
            " 23%|██▎       | 645/2808 [00:18<00:56, 38.23it/s]\u001b[A\n",
            " 23%|██▎       | 649/2808 [00:18<00:56, 38.01it/s]\u001b[A\n",
            " 23%|██▎       | 653/2808 [00:18<00:56, 38.23it/s]\u001b[A\n",
            " 23%|██▎       | 657/2808 [00:18<00:56, 38.13it/s]\u001b[A\n",
            " 24%|██▎       | 661/2808 [00:18<00:55, 38.35it/s]\u001b[A\n",
            " 24%|██▎       | 665/2808 [00:18<00:55, 38.47it/s]\u001b[A\n",
            " 24%|██▍       | 669/2808 [00:18<00:55, 38.47it/s]\u001b[A\n",
            " 24%|██▍       | 673/2808 [00:18<00:56, 38.10it/s]\u001b[A\n",
            " 24%|██▍       | 677/2808 [00:19<00:55, 38.30it/s]\u001b[A\n",
            " 24%|██▍       | 681/2808 [00:19<00:55, 38.39it/s]\u001b[A\n",
            " 24%|██▍       | 685/2808 [00:19<00:55, 38.50it/s]\u001b[A\n",
            " 25%|██▍       | 689/2808 [00:19<00:54, 38.58it/s]\u001b[A\n",
            " 25%|██▍       | 693/2808 [00:19<00:54, 38.67it/s]\u001b[A\n",
            " 25%|██▍       | 697/2808 [00:19<00:54, 38.70it/s]\u001b[A\n",
            " 25%|██▍       | 701/2808 [00:19<00:54, 38.71it/s]\u001b[A\n",
            " 25%|██▌       | 705/2808 [00:19<00:54, 38.69it/s]\u001b[A"
          ],
          "name": "stderr"
        },
        {
          "output_type": "stream",
          "text": [
            "| epoch   1 |   700/ 2808 batches | lr 0.00 | loss  5.56 | ppl   258.92\n"
          ],
          "name": "stdout"
        },
        {
          "output_type": "stream",
          "text": [
            "\n",
            " 25%|██▌       | 709/2808 [00:19<00:54, 38.71it/s]\u001b[A\n",
            " 25%|██▌       | 713/2808 [00:19<00:54, 38.58it/s]\u001b[A\n",
            " 26%|██▌       | 717/2808 [00:20<00:54, 38.59it/s]\u001b[A\n",
            " 26%|██▌       | 721/2808 [00:20<00:54, 38.61it/s]\u001b[A\n",
            " 26%|██▌       | 725/2808 [00:20<00:53, 38.58it/s]\u001b[A\n",
            " 26%|██▌       | 729/2808 [00:20<00:53, 38.66it/s]\u001b[A\n",
            " 26%|██▌       | 733/2808 [00:20<00:53, 38.75it/s]\u001b[A\n",
            " 26%|██▌       | 737/2808 [00:20<00:53, 38.43it/s]\u001b[A\n",
            " 26%|██▋       | 741/2808 [00:20<00:53, 38.45it/s]\u001b[A\n",
            " 27%|██▋       | 745/2808 [00:20<00:53, 38.52it/s]\u001b[A\n",
            " 27%|██▋       | 749/2808 [00:20<00:53, 38.43it/s]\u001b[A\n",
            " 27%|██▋       | 753/2808 [00:20<00:53, 38.11it/s]\u001b[A\n",
            " 27%|██▋       | 757/2808 [00:21<00:53, 38.21it/s]\u001b[A\n",
            " 27%|██▋       | 761/2808 [00:21<00:53, 37.94it/s]\u001b[A\n",
            " 27%|██▋       | 765/2808 [00:21<00:53, 37.92it/s]\u001b[A\n",
            " 27%|██▋       | 769/2808 [00:21<00:53, 38.08it/s]\u001b[A\n",
            " 28%|██▊       | 773/2808 [00:21<00:53, 38.28it/s]\u001b[A\n",
            " 28%|██▊       | 777/2808 [00:21<00:52, 38.42it/s]\u001b[A\n",
            " 28%|██▊       | 781/2808 [00:21<00:52, 38.50it/s]\u001b[A\n",
            " 28%|██▊       | 785/2808 [00:21<00:53, 38.03it/s]\u001b[A\n",
            " 28%|██▊       | 789/2808 [00:21<00:52, 38.12it/s]\u001b[A\n",
            " 28%|██▊       | 793/2808 [00:22<00:52, 38.05it/s]\u001b[A\n",
            " 28%|██▊       | 797/2808 [00:22<00:52, 38.09it/s]\u001b[A\n",
            " 29%|██▊       | 801/2808 [00:22<00:52, 38.16it/s]\u001b[A\n",
            " 29%|██▊       | 805/2808 [00:22<00:53, 37.60it/s]\u001b[A"
          ],
          "name": "stderr"
        },
        {
          "output_type": "stream",
          "text": [
            "| epoch   1 |   800/ 2808 batches | lr 0.00 | loss  5.54 | ppl   255.48\n"
          ],
          "name": "stdout"
        },
        {
          "output_type": "stream",
          "text": [
            "\n",
            " 29%|██▉       | 809/2808 [00:22<00:53, 37.59it/s]\u001b[A\n",
            " 29%|██▉       | 813/2808 [00:22<00:52, 37.76it/s]\u001b[A\n",
            " 29%|██▉       | 817/2808 [00:22<00:52, 37.98it/s]\u001b[A\n",
            " 29%|██▉       | 821/2808 [00:22<00:52, 37.97it/s]\u001b[A\n",
            " 29%|██▉       | 825/2808 [00:22<00:52, 38.11it/s]\u001b[A\n",
            " 30%|██▉       | 829/2808 [00:22<00:52, 38.05it/s]\u001b[A\n",
            " 30%|██▉       | 833/2808 [00:23<00:51, 38.01it/s]\u001b[A\n",
            " 30%|██▉       | 837/2808 [00:23<00:51, 37.96it/s]\u001b[A\n",
            " 30%|██▉       | 841/2808 [00:23<00:51, 38.19it/s]\u001b[A\n",
            " 30%|███       | 845/2808 [00:23<00:51, 38.28it/s]\u001b[A\n",
            " 30%|███       | 849/2808 [00:23<00:51, 38.19it/s]\u001b[A\n",
            " 30%|███       | 853/2808 [00:23<00:51, 38.17it/s]\u001b[A\n",
            " 31%|███       | 857/2808 [00:23<00:50, 38.30it/s]\u001b[A\n",
            " 31%|███       | 861/2808 [00:23<00:50, 38.39it/s]\u001b[A\n",
            " 31%|███       | 865/2808 [00:23<00:50, 38.12it/s]\u001b[A\n",
            " 31%|███       | 869/2808 [00:24<00:50, 38.16it/s]\u001b[A\n",
            " 31%|███       | 873/2808 [00:24<00:50, 37.98it/s]\u001b[A\n",
            " 31%|███       | 877/2808 [00:24<00:50, 38.19it/s]\u001b[A\n",
            " 31%|███▏      | 881/2808 [00:24<00:50, 38.22it/s]\u001b[A\n",
            " 32%|███▏      | 885/2808 [00:24<00:50, 38.31it/s]\u001b[A\n",
            " 32%|███▏      | 889/2808 [00:24<00:49, 38.42it/s]\u001b[A\n",
            " 32%|███▏      | 893/2808 [00:24<00:50, 38.07it/s]\u001b[A\n",
            " 32%|███▏      | 897/2808 [00:24<00:49, 38.26it/s]\u001b[A\n",
            " 32%|███▏      | 901/2808 [00:24<00:49, 38.18it/s]\u001b[A\n",
            " 32%|███▏      | 905/2808 [00:24<00:49, 38.33it/s]\u001b[A"
          ],
          "name": "stderr"
        },
        {
          "output_type": "stream",
          "text": [
            "| epoch   1 |   900/ 2808 batches | lr 0.00 | loss  5.53 | ppl   251.98\n"
          ],
          "name": "stdout"
        },
        {
          "output_type": "stream",
          "text": [
            "\n",
            " 32%|███▏      | 909/2808 [00:25<00:49, 38.55it/s]\u001b[A\n",
            " 33%|███▎      | 913/2808 [00:25<00:49, 38.59it/s]\u001b[A\n",
            " 33%|███▎      | 917/2808 [00:25<00:49, 38.45it/s]\u001b[A\n",
            " 33%|███▎      | 921/2808 [00:25<00:48, 38.61it/s]\u001b[A\n",
            " 33%|███▎      | 925/2808 [00:25<00:48, 38.54it/s]\u001b[A\n",
            " 33%|███▎      | 929/2808 [00:25<00:48, 38.61it/s]\u001b[A\n",
            " 33%|███▎      | 933/2808 [00:25<00:48, 38.44it/s]\u001b[A\n",
            " 33%|███▎      | 937/2808 [00:25<00:48, 38.47it/s]\u001b[A\n",
            " 34%|███▎      | 941/2808 [00:25<00:48, 38.45it/s]\u001b[A\n",
            " 34%|███▎      | 945/2808 [00:26<00:48, 38.38it/s]\u001b[A\n",
            " 34%|███▍      | 949/2808 [00:26<00:48, 38.49it/s]\u001b[A\n",
            " 34%|███▍      | 953/2808 [00:26<00:48, 38.53it/s]\u001b[A\n",
            " 34%|███▍      | 957/2808 [00:26<00:48, 38.42it/s]\u001b[A\n",
            " 34%|███▍      | 961/2808 [00:26<00:48, 38.47it/s]\u001b[A\n",
            " 34%|███▍      | 965/2808 [00:26<00:47, 38.55it/s]\u001b[A\n",
            " 35%|███▍      | 969/2808 [00:26<00:47, 38.64it/s]\u001b[A\n",
            " 35%|███▍      | 973/2808 [00:26<00:47, 38.64it/s]\u001b[A\n",
            " 35%|███▍      | 977/2808 [00:26<00:47, 38.38it/s]\u001b[A\n",
            " 35%|███▍      | 981/2808 [00:26<00:47, 38.47it/s]\u001b[A\n",
            " 35%|███▌      | 985/2808 [00:27<00:47, 38.60it/s]\u001b[A\n",
            " 35%|███▌      | 989/2808 [00:27<00:47, 38.64it/s]\u001b[A\n",
            " 35%|███▌      | 993/2808 [00:27<00:47, 38.21it/s]\u001b[A\n",
            " 36%|███▌      | 997/2808 [00:27<00:47, 37.98it/s]\u001b[A\n",
            " 36%|███▌      | 1001/2808 [00:27<00:47, 38.17it/s]\u001b[A\n",
            " 36%|███▌      | 1005/2808 [00:27<00:46, 38.37it/s]\u001b[A"
          ],
          "name": "stderr"
        },
        {
          "output_type": "stream",
          "text": [
            "| epoch   1 |  1000/ 2808 batches | lr 0.00 | loss  5.52 | ppl   248.60\n"
          ],
          "name": "stdout"
        },
        {
          "output_type": "stream",
          "text": [
            "\n",
            " 36%|███▌      | 1009/2808 [00:27<00:47, 38.18it/s]\u001b[A\n",
            " 36%|███▌      | 1013/2808 [00:27<00:47, 37.91it/s]\u001b[A\n",
            " 36%|███▌      | 1017/2808 [00:27<00:47, 38.04it/s]\u001b[A\n",
            " 36%|███▋      | 1021/2808 [00:27<00:47, 37.82it/s]\u001b[A\n",
            " 37%|███▋      | 1025/2808 [00:28<00:46, 37.98it/s]\u001b[A\n",
            " 37%|███▋      | 1029/2808 [00:28<00:46, 38.25it/s]\u001b[A\n",
            " 37%|███▋      | 1033/2808 [00:28<00:46, 38.24it/s]\u001b[A\n",
            " 37%|███▋      | 1037/2808 [00:28<00:46, 38.08it/s]\u001b[A\n",
            " 37%|███▋      | 1041/2808 [00:28<00:46, 38.28it/s]\u001b[A\n",
            " 37%|███▋      | 1045/2808 [00:28<00:45, 38.40it/s]\u001b[A\n",
            " 37%|███▋      | 1049/2808 [00:28<00:46, 38.22it/s]\u001b[A\n",
            " 38%|███▊      | 1053/2808 [00:28<00:45, 38.26it/s]\u001b[A\n",
            " 38%|███▊      | 1057/2808 [00:28<00:45, 38.35it/s]\u001b[A\n",
            " 38%|███▊      | 1061/2808 [00:29<00:45, 38.03it/s]\u001b[A\n",
            " 38%|███▊      | 1065/2808 [00:29<00:45, 38.08it/s]\u001b[A\n",
            " 38%|███▊      | 1069/2808 [00:29<00:45, 38.14it/s]\u001b[A\n",
            " 38%|███▊      | 1073/2808 [00:29<00:45, 38.21it/s]\u001b[A\n",
            " 38%|███▊      | 1077/2808 [00:29<00:45, 37.78it/s]\u001b[A\n",
            " 38%|███▊      | 1081/2808 [00:29<00:45, 37.62it/s]\u001b[A\n",
            " 39%|███▊      | 1085/2808 [00:29<00:46, 37.34it/s]\u001b[A\n",
            " 39%|███▉      | 1089/2808 [00:29<00:45, 37.53it/s]\u001b[A\n",
            " 39%|███▉      | 1093/2808 [00:29<00:45, 37.55it/s]\u001b[A\n",
            " 39%|███▉      | 1097/2808 [00:29<00:45, 37.60it/s]\u001b[A\n",
            " 39%|███▉      | 1101/2808 [00:30<00:45, 37.89it/s]\u001b[A\n",
            " 39%|███▉      | 1105/2808 [00:30<00:44, 37.89it/s]\u001b[A"
          ],
          "name": "stderr"
        },
        {
          "output_type": "stream",
          "text": [
            "| epoch   1 |  1100/ 2808 batches | lr 0.00 | loss  5.50 | ppl   245.12\n"
          ],
          "name": "stdout"
        },
        {
          "output_type": "stream",
          "text": [
            "\n",
            " 39%|███▉      | 1109/2808 [00:30<00:44, 37.84it/s]\u001b[A\n",
            " 40%|███▉      | 1113/2808 [00:30<00:44, 37.99it/s]\u001b[A\n",
            " 40%|███▉      | 1117/2808 [00:30<00:44, 37.80it/s]\u001b[A\n",
            " 40%|███▉      | 1121/2808 [00:30<00:44, 38.02it/s]\u001b[A\n",
            " 40%|████      | 1125/2808 [00:30<00:44, 38.17it/s]\u001b[A\n",
            " 40%|████      | 1129/2808 [00:30<00:43, 38.32it/s]\u001b[A\n",
            " 40%|████      | 1133/2808 [00:30<00:43, 38.40it/s]\u001b[A\n",
            " 40%|████      | 1137/2808 [00:31<00:43, 38.43it/s]\u001b[A\n",
            " 41%|████      | 1141/2808 [00:31<00:43, 38.53it/s]\u001b[A\n",
            " 41%|████      | 1145/2808 [00:31<00:43, 38.59it/s]\u001b[A\n",
            " 41%|████      | 1149/2808 [00:31<00:42, 38.60it/s]\u001b[A\n",
            " 41%|████      | 1153/2808 [00:31<00:42, 38.54it/s]\u001b[A\n",
            " 41%|████      | 1157/2808 [00:31<00:43, 38.21it/s]\u001b[A\n",
            " 41%|████▏     | 1161/2808 [00:31<00:43, 37.76it/s]\u001b[A\n",
            " 41%|████▏     | 1165/2808 [00:31<00:43, 37.84it/s]\u001b[A\n",
            " 42%|████▏     | 1169/2808 [00:31<00:43, 37.60it/s]\u001b[A\n",
            " 42%|████▏     | 1173/2808 [00:31<00:43, 37.26it/s]\u001b[A\n",
            " 42%|████▏     | 1177/2808 [00:32<00:43, 37.36it/s]\u001b[A\n",
            " 42%|████▏     | 1181/2808 [00:32<00:43, 37.80it/s]\u001b[A\n",
            " 42%|████▏     | 1185/2808 [00:32<00:42, 37.81it/s]\u001b[A\n",
            " 42%|████▏     | 1189/2808 [00:32<00:42, 38.04it/s]\u001b[A\n",
            " 42%|████▏     | 1193/2808 [00:32<00:42, 38.26it/s]\u001b[A\n",
            " 43%|████▎     | 1197/2808 [00:32<00:42, 38.18it/s]\u001b[A\n",
            " 43%|████▎     | 1201/2808 [00:32<00:42, 37.70it/s]\u001b[A\n",
            " 43%|████▎     | 1205/2808 [00:32<00:42, 37.44it/s]\u001b[A"
          ],
          "name": "stderr"
        },
        {
          "output_type": "stream",
          "text": [
            "| epoch   1 |  1200/ 2808 batches | lr 0.00 | loss  5.49 | ppl   241.80\n"
          ],
          "name": "stdout"
        },
        {
          "output_type": "stream",
          "text": [
            "\n",
            " 43%|████▎     | 1209/2808 [00:32<00:42, 37.87it/s]\u001b[A\n",
            " 43%|████▎     | 1213/2808 [00:33<00:41, 38.19it/s]\u001b[A\n",
            " 43%|████▎     | 1217/2808 [00:33<00:42, 37.82it/s]\u001b[A\n",
            " 43%|████▎     | 1221/2808 [00:33<00:41, 38.20it/s]\u001b[A\n",
            " 44%|████▎     | 1225/2808 [00:33<00:41, 38.36it/s]\u001b[A\n",
            " 44%|████▍     | 1229/2808 [00:33<00:41, 38.49it/s]\u001b[A\n",
            " 44%|████▍     | 1233/2808 [00:33<00:41, 38.25it/s]\u001b[A\n",
            " 44%|████▍     | 1237/2808 [00:33<00:41, 38.29it/s]\u001b[A\n",
            " 44%|████▍     | 1241/2808 [00:33<00:41, 38.05it/s]\u001b[A\n",
            " 44%|████▍     | 1245/2808 [00:33<00:41, 37.61it/s]\u001b[A\n",
            " 44%|████▍     | 1249/2808 [00:33<00:41, 37.72it/s]\u001b[A\n",
            " 45%|████▍     | 1253/2808 [00:34<00:41, 37.75it/s]\u001b[A\n",
            " 45%|████▍     | 1257/2808 [00:34<00:40, 37.99it/s]\u001b[A\n",
            " 45%|████▍     | 1261/2808 [00:34<00:40, 37.75it/s]\u001b[A\n",
            " 45%|████▌     | 1265/2808 [00:34<00:40, 37.98it/s]\u001b[A\n",
            " 45%|████▌     | 1269/2808 [00:34<00:40, 38.17it/s]\u001b[A\n",
            " 45%|████▌     | 1273/2808 [00:34<00:40, 38.34it/s]\u001b[A\n",
            " 45%|████▌     | 1277/2808 [00:34<00:39, 38.37it/s]\u001b[A\n",
            " 46%|████▌     | 1281/2808 [00:34<00:40, 37.89it/s]\u001b[A\n",
            " 46%|████▌     | 1285/2808 [00:34<00:40, 37.87it/s]\u001b[A\n",
            " 46%|████▌     | 1289/2808 [00:35<00:39, 38.14it/s]\u001b[A\n",
            " 46%|████▌     | 1293/2808 [00:35<00:39, 38.20it/s]\u001b[A\n",
            " 46%|████▌     | 1297/2808 [00:35<00:39, 38.21it/s]\u001b[A\n",
            " 46%|████▋     | 1301/2808 [00:35<00:39, 38.45it/s]\u001b[A\n",
            " 46%|████▋     | 1305/2808 [00:35<00:39, 38.29it/s]\u001b[A"
          ],
          "name": "stderr"
        },
        {
          "output_type": "stream",
          "text": [
            "| epoch   1 |  1300/ 2808 batches | lr 0.00 | loss  5.47 | ppl   238.47\n"
          ],
          "name": "stdout"
        },
        {
          "output_type": "stream",
          "text": [
            "\n",
            " 47%|████▋     | 1309/2808 [00:35<00:39, 38.39it/s]\u001b[A\n",
            " 47%|████▋     | 1313/2808 [00:35<00:39, 38.28it/s]\u001b[A\n",
            " 47%|████▋     | 1317/2808 [00:35<00:38, 38.43it/s]\u001b[A\n",
            " 47%|████▋     | 1321/2808 [00:35<00:38, 38.34it/s]\u001b[A\n",
            " 47%|████▋     | 1325/2808 [00:35<00:38, 38.42it/s]\u001b[A\n",
            " 47%|████▋     | 1329/2808 [00:36<00:38, 38.02it/s]\u001b[A\n",
            " 47%|████▋     | 1333/2808 [00:36<00:38, 37.90it/s]\u001b[A\n",
            " 48%|████▊     | 1337/2808 [00:36<00:40, 36.54it/s]\u001b[A\n",
            " 48%|████▊     | 1341/2808 [00:36<00:39, 37.15it/s]\u001b[A\n",
            " 48%|████▊     | 1345/2808 [00:36<00:39, 37.33it/s]\u001b[A\n",
            " 48%|████▊     | 1349/2808 [00:36<00:39, 37.34it/s]\u001b[A\n",
            " 48%|████▊     | 1353/2808 [00:36<00:38, 37.44it/s]\u001b[A\n",
            " 48%|████▊     | 1357/2808 [00:36<00:39, 37.09it/s]\u001b[A\n",
            " 48%|████▊     | 1361/2808 [00:36<00:38, 37.35it/s]\u001b[A\n",
            " 49%|████▊     | 1365/2808 [00:37<00:38, 37.66it/s]\u001b[A\n",
            " 49%|████▉     | 1369/2808 [00:37<00:37, 37.89it/s]\u001b[A\n",
            " 49%|████▉     | 1373/2808 [00:37<00:37, 38.04it/s]\u001b[A\n",
            " 49%|████▉     | 1377/2808 [00:37<00:37, 37.76it/s]\u001b[A\n",
            " 49%|████▉     | 1381/2808 [00:37<00:37, 38.02it/s]\u001b[A\n",
            " 49%|████▉     | 1385/2808 [00:37<00:37, 38.28it/s]\u001b[A\n",
            " 49%|████▉     | 1389/2808 [00:37<00:36, 38.42it/s]\u001b[A\n",
            " 50%|████▉     | 1393/2808 [00:37<00:36, 38.25it/s]\u001b[A\n",
            " 50%|████▉     | 1397/2808 [00:37<00:37, 37.69it/s]\u001b[A\n",
            " 50%|████▉     | 1401/2808 [00:38<00:37, 37.70it/s]\u001b[A\n",
            " 50%|█████     | 1405/2808 [00:38<00:37, 37.44it/s]\u001b[A"
          ],
          "name": "stderr"
        },
        {
          "output_type": "stream",
          "text": [
            "| epoch   1 |  1400/ 2808 batches | lr 0.00 | loss  5.46 | ppl   235.17\n"
          ],
          "name": "stdout"
        },
        {
          "output_type": "stream",
          "text": [
            "\n",
            " 50%|█████     | 1409/2808 [00:38<00:36, 37.81it/s]\u001b[A\n",
            " 50%|█████     | 1413/2808 [00:38<00:36, 37.96it/s]\u001b[A\n",
            " 50%|█████     | 1417/2808 [00:38<00:36, 38.25it/s]\u001b[A\n",
            " 51%|█████     | 1421/2808 [00:38<00:36, 38.01it/s]\u001b[A\n",
            " 51%|█████     | 1425/2808 [00:38<00:36, 37.91it/s]\u001b[A\n",
            " 51%|█████     | 1429/2808 [00:38<00:36, 38.16it/s]\u001b[A\n",
            " 51%|█████     | 1433/2808 [00:38<00:36, 38.12it/s]\u001b[A\n",
            " 51%|█████     | 1437/2808 [00:38<00:36, 37.87it/s]\u001b[A\n",
            " 51%|█████▏    | 1441/2808 [00:39<00:36, 37.84it/s]\u001b[A\n",
            " 51%|█████▏    | 1445/2808 [00:39<00:35, 38.13it/s]\u001b[A\n",
            " 52%|█████▏    | 1449/2808 [00:39<00:35, 38.25it/s]\u001b[A\n",
            " 52%|█████▏    | 1453/2808 [00:39<00:35, 37.92it/s]\u001b[A\n",
            " 52%|█████▏    | 1457/2808 [00:39<00:35, 37.86it/s]\u001b[A\n",
            " 52%|█████▏    | 1461/2808 [00:39<00:35, 38.13it/s]\u001b[A\n",
            " 52%|█████▏    | 1465/2808 [00:39<00:35, 38.20it/s]\u001b[A\n",
            " 52%|█████▏    | 1469/2808 [00:39<00:35, 38.05it/s]\u001b[A\n",
            " 52%|█████▏    | 1473/2808 [00:39<00:35, 37.68it/s]\u001b[A\n",
            " 53%|█████▎    | 1477/2808 [00:40<00:35, 37.75it/s]\u001b[A\n",
            " 53%|█████▎    | 1481/2808 [00:40<00:35, 37.90it/s]\u001b[A\n",
            " 53%|█████▎    | 1485/2808 [00:40<00:35, 37.69it/s]\u001b[A\n",
            " 53%|█████▎    | 1489/2808 [00:40<00:34, 37.85it/s]\u001b[A\n",
            " 53%|█████▎    | 1493/2808 [00:40<00:34, 37.86it/s]\u001b[A\n",
            " 53%|█████▎    | 1497/2808 [00:40<00:34, 38.03it/s]\u001b[A\n",
            " 53%|█████▎    | 1501/2808 [00:40<00:34, 38.16it/s]\u001b[A\n",
            " 54%|█████▎    | 1505/2808 [00:40<00:34, 38.04it/s]\u001b[A"
          ],
          "name": "stderr"
        },
        {
          "output_type": "stream",
          "text": [
            "| epoch   1 |  1500/ 2808 batches | lr 0.00 | loss  5.45 | ppl   231.75\n"
          ],
          "name": "stdout"
        },
        {
          "output_type": "stream",
          "text": [
            "\n",
            " 54%|█████▎    | 1509/2808 [00:40<00:34, 38.11it/s]\u001b[A\n",
            " 54%|█████▍    | 1513/2808 [00:40<00:34, 37.89it/s]\u001b[A\n",
            " 54%|█████▍    | 1517/2808 [00:41<00:33, 38.01it/s]\u001b[A\n",
            " 54%|█████▍    | 1521/2808 [00:41<00:33, 38.19it/s]\u001b[A\n",
            " 54%|█████▍    | 1525/2808 [00:41<00:34, 37.53it/s]\u001b[A\n",
            " 54%|█████▍    | 1529/2808 [00:41<00:34, 37.60it/s]\u001b[A\n",
            " 55%|█████▍    | 1533/2808 [00:41<00:33, 37.88it/s]\u001b[A\n",
            " 55%|█████▍    | 1537/2808 [00:41<00:33, 37.94it/s]\u001b[A\n",
            " 55%|█████▍    | 1541/2808 [00:41<00:33, 38.08it/s]\u001b[A\n",
            " 55%|█████▌    | 1545/2808 [00:41<00:33, 37.89it/s]\u001b[A\n",
            " 55%|█████▌    | 1549/2808 [00:41<00:33, 38.04it/s]\u001b[A\n",
            " 55%|█████▌    | 1553/2808 [00:42<00:33, 37.93it/s]\u001b[A\n",
            " 55%|█████▌    | 1557/2808 [00:42<00:33, 37.75it/s]\u001b[A\n",
            " 56%|█████▌    | 1561/2808 [00:42<00:32, 38.03it/s]\u001b[A\n",
            " 56%|█████▌    | 1565/2808 [00:42<00:32, 38.04it/s]\u001b[A\n",
            " 56%|█████▌    | 1569/2808 [00:42<00:32, 38.21it/s]\u001b[A\n",
            " 56%|█████▌    | 1573/2808 [00:42<00:32, 38.36it/s]\u001b[A\n",
            " 56%|█████▌    | 1577/2808 [00:42<00:32, 38.21it/s]\u001b[A\n",
            " 56%|█████▋    | 1581/2808 [00:42<00:32, 38.14it/s]\u001b[A\n",
            " 56%|█████▋    | 1585/2808 [00:42<00:32, 37.94it/s]\u001b[A\n",
            " 57%|█████▋    | 1589/2808 [00:42<00:31, 38.18it/s]\u001b[A\n",
            " 57%|█████▋    | 1593/2808 [00:43<00:31, 38.25it/s]\u001b[A\n",
            " 57%|█████▋    | 1597/2808 [00:43<00:31, 38.24it/s]\u001b[A\n",
            " 57%|█████▋    | 1601/2808 [00:43<00:31, 38.07it/s]\u001b[A\n",
            " 57%|█████▋    | 1605/2808 [00:43<00:31, 37.78it/s]\u001b[A"
          ],
          "name": "stderr"
        },
        {
          "output_type": "stream",
          "text": [
            "| epoch   1 |  1600/ 2808 batches | lr 0.00 | loss  5.43 | ppl   228.61\n"
          ],
          "name": "stdout"
        },
        {
          "output_type": "stream",
          "text": [
            "\n",
            " 57%|█████▋    | 1609/2808 [00:43<00:31, 38.01it/s]\u001b[A\n",
            " 57%|█████▋    | 1613/2808 [00:43<00:31, 37.98it/s]\u001b[A\n",
            " 58%|█████▊    | 1617/2808 [00:43<00:31, 38.15it/s]\u001b[A\n",
            " 58%|█████▊    | 1621/2808 [00:43<00:31, 38.18it/s]\u001b[A\n",
            " 58%|█████▊    | 1625/2808 [00:43<00:31, 37.98it/s]\u001b[A\n",
            " 58%|█████▊    | 1629/2808 [00:44<00:31, 37.87it/s]\u001b[A\n",
            " 58%|█████▊    | 1633/2808 [00:44<00:31, 37.23it/s]\u001b[A\n",
            " 58%|█████▊    | 1637/2808 [00:44<00:31, 37.23it/s]\u001b[A\n",
            " 58%|█████▊    | 1641/2808 [00:44<00:31, 37.58it/s]\u001b[A\n",
            " 59%|█████▊    | 1645/2808 [00:44<00:30, 37.83it/s]\u001b[A\n",
            " 59%|█████▊    | 1649/2808 [00:44<00:30, 37.51it/s]\u001b[A\n",
            " 59%|█████▉    | 1653/2808 [00:44<00:30, 37.79it/s]\u001b[A\n",
            " 59%|█████▉    | 1657/2808 [00:44<00:30, 37.88it/s]\u001b[A\n",
            " 59%|█████▉    | 1661/2808 [00:44<00:30, 38.10it/s]\u001b[A\n",
            " 59%|█████▉    | 1665/2808 [00:44<00:29, 38.26it/s]\u001b[A\n",
            " 59%|█████▉    | 1669/2808 [00:45<00:29, 38.28it/s]\u001b[A\n",
            " 60%|█████▉    | 1673/2808 [00:45<00:29, 38.00it/s]\u001b[A\n",
            " 60%|█████▉    | 1677/2808 [00:45<00:29, 38.12it/s]\u001b[A\n",
            " 60%|█████▉    | 1681/2808 [00:45<00:29, 37.90it/s]\u001b[A\n",
            " 60%|██████    | 1685/2808 [00:45<00:29, 38.16it/s]\u001b[A\n",
            " 60%|██████    | 1689/2808 [00:45<00:29, 38.29it/s]\u001b[A\n",
            " 60%|██████    | 1693/2808 [00:45<00:29, 38.28it/s]\u001b[A\n",
            " 60%|██████    | 1697/2808 [00:45<00:29, 37.93it/s]\u001b[A\n",
            " 61%|██████    | 1701/2808 [00:45<00:29, 37.69it/s]\u001b[A\n",
            " 61%|██████    | 1705/2808 [00:46<00:29, 37.64it/s]\u001b[A"
          ],
          "name": "stderr"
        },
        {
          "output_type": "stream",
          "text": [
            "| epoch   1 |  1700/ 2808 batches | lr 0.00 | loss  5.42 | ppl   225.30\n"
          ],
          "name": "stdout"
        },
        {
          "output_type": "stream",
          "text": [
            "\n",
            " 61%|██████    | 1709/2808 [00:46<00:29, 37.83it/s]\u001b[A\n",
            " 61%|██████    | 1713/2808 [00:46<00:28, 37.92it/s]\u001b[A\n",
            " 61%|██████    | 1717/2808 [00:46<00:28, 38.09it/s]\u001b[A\n",
            " 61%|██████▏   | 1721/2808 [00:46<00:28, 38.09it/s]\u001b[A\n",
            " 61%|██████▏   | 1725/2808 [00:46<00:28, 37.50it/s]\u001b[A\n",
            " 62%|██████▏   | 1729/2808 [00:46<00:28, 37.68it/s]\u001b[A\n",
            " 62%|██████▏   | 1733/2808 [00:46<00:28, 37.56it/s]\u001b[A\n",
            " 62%|██████▏   | 1737/2808 [00:46<00:28, 37.81it/s]\u001b[A\n",
            " 62%|██████▏   | 1741/2808 [00:46<00:28, 37.93it/s]\u001b[A\n",
            " 62%|██████▏   | 1745/2808 [00:47<00:28, 37.38it/s]\u001b[A\n",
            " 62%|██████▏   | 1749/2808 [00:47<00:28, 37.41it/s]\u001b[A\n",
            " 62%|██████▏   | 1753/2808 [00:47<00:27, 37.73it/s]\u001b[A\n",
            " 63%|██████▎   | 1757/2808 [00:47<00:27, 37.68it/s]\u001b[A\n",
            " 63%|██████▎   | 1761/2808 [00:47<00:27, 37.82it/s]\u001b[A\n",
            " 63%|██████▎   | 1765/2808 [00:47<00:27, 37.93it/s]\u001b[A\n",
            " 63%|██████▎   | 1769/2808 [00:47<00:27, 38.06it/s]\u001b[A\n",
            " 63%|██████▎   | 1773/2808 [00:47<00:27, 38.11it/s]\u001b[A\n",
            " 63%|██████▎   | 1777/2808 [00:47<00:27, 38.08it/s]\u001b[A\n",
            " 63%|██████▎   | 1781/2808 [00:48<00:27, 38.02it/s]\u001b[A\n",
            " 64%|██████▎   | 1785/2808 [00:48<00:26, 38.01it/s]\u001b[A\n",
            " 64%|██████▎   | 1789/2808 [00:48<00:27, 37.67it/s]\u001b[A\n",
            " 64%|██████▍   | 1793/2808 [00:48<00:27, 37.26it/s]\u001b[A\n",
            " 64%|██████▍   | 1797/2808 [00:48<00:27, 37.19it/s]\u001b[A\n",
            " 64%|██████▍   | 1801/2808 [00:48<00:26, 37.51it/s]\u001b[A\n",
            " 64%|██████▍   | 1805/2808 [00:48<00:26, 37.38it/s]\u001b[A"
          ],
          "name": "stderr"
        },
        {
          "output_type": "stream",
          "text": [
            "| epoch   1 |  1800/ 2808 batches | lr 0.00 | loss  5.40 | ppl   221.79\n"
          ],
          "name": "stdout"
        },
        {
          "output_type": "stream",
          "text": [
            "\n",
            " 64%|██████▍   | 1809/2808 [00:48<00:26, 37.28it/s]\u001b[A\n",
            " 65%|██████▍   | 1813/2808 [00:48<00:26, 37.55it/s]\u001b[A\n",
            " 65%|██████▍   | 1817/2808 [00:48<00:26, 37.84it/s]\u001b[A\n",
            " 65%|██████▍   | 1821/2808 [00:49<00:26, 37.84it/s]\u001b[A\n",
            " 65%|██████▍   | 1825/2808 [00:49<00:25, 38.04it/s]\u001b[A\n",
            " 65%|██████▌   | 1829/2808 [00:49<00:25, 37.77it/s]\u001b[A\n",
            " 65%|██████▌   | 1833/2808 [00:49<00:25, 37.82it/s]\u001b[A\n",
            " 65%|██████▌   | 1837/2808 [00:49<00:25, 37.90it/s]\u001b[A\n",
            " 66%|██████▌   | 1841/2808 [00:49<00:25, 37.86it/s]\u001b[A\n",
            " 66%|██████▌   | 1845/2808 [00:49<00:25, 37.95it/s]\u001b[A\n",
            " 66%|██████▌   | 1849/2808 [00:49<00:25, 38.08it/s]\u001b[A\n",
            " 66%|██████▌   | 1853/2808 [00:49<00:25, 38.13it/s]\u001b[A\n",
            " 66%|██████▌   | 1857/2808 [00:50<00:25, 37.92it/s]\u001b[A\n",
            " 66%|██████▋   | 1861/2808 [00:50<00:24, 38.03it/s]\u001b[A\n",
            " 66%|██████▋   | 1865/2808 [00:50<00:25, 37.66it/s]\u001b[A\n",
            " 67%|██████▋   | 1869/2808 [00:50<00:24, 37.81it/s]\u001b[A\n",
            " 67%|██████▋   | 1873/2808 [00:50<00:24, 38.04it/s]\u001b[A\n",
            " 67%|██████▋   | 1877/2808 [00:50<00:24, 38.01it/s]\u001b[A\n",
            " 67%|██████▋   | 1881/2808 [00:50<00:24, 38.04it/s]\u001b[A\n",
            " 67%|██████▋   | 1885/2808 [00:50<00:24, 38.16it/s]\u001b[A\n",
            " 67%|██████▋   | 1889/2808 [00:50<00:24, 37.83it/s]\u001b[A\n",
            " 67%|██████▋   | 1893/2808 [00:50<00:24, 37.95it/s]\u001b[A\n",
            " 68%|██████▊   | 1897/2808 [00:51<00:23, 38.06it/s]\u001b[A\n",
            " 68%|██████▊   | 1901/2808 [00:51<00:23, 38.22it/s]\u001b[A\n",
            " 68%|██████▊   | 1905/2808 [00:51<00:23, 38.17it/s]\u001b[A"
          ],
          "name": "stderr"
        },
        {
          "output_type": "stream",
          "text": [
            "| epoch   1 |  1900/ 2808 batches | lr 0.00 | loss  5.39 | ppl   218.70\n"
          ],
          "name": "stdout"
        },
        {
          "output_type": "stream",
          "text": [
            "\n",
            " 68%|██████▊   | 1909/2808 [00:51<00:23, 38.28it/s]\u001b[A\n",
            " 68%|██████▊   | 1913/2808 [00:51<00:23, 38.32it/s]\u001b[A\n",
            " 68%|██████▊   | 1917/2808 [00:51<00:23, 38.31it/s]\u001b[A\n",
            " 68%|██████▊   | 1921/2808 [00:51<00:23, 38.28it/s]\u001b[A\n",
            " 69%|██████▊   | 1925/2808 [00:51<00:23, 37.54it/s]\u001b[A\n",
            " 69%|██████▊   | 1929/2808 [00:51<00:23, 37.86it/s]\u001b[A\n",
            " 69%|██████▉   | 1933/2808 [00:52<00:22, 38.10it/s]\u001b[A\n",
            " 69%|██████▉   | 1937/2808 [00:52<00:22, 38.10it/s]\u001b[A\n",
            " 69%|██████▉   | 1941/2808 [00:52<00:22, 38.14it/s]\u001b[A\n",
            " 69%|██████▉   | 1945/2808 [00:52<00:22, 38.05it/s]\u001b[A\n",
            " 69%|██████▉   | 1949/2808 [00:52<00:22, 38.04it/s]\u001b[A\n",
            " 70%|██████▉   | 1953/2808 [00:52<00:22, 37.89it/s]\u001b[A\n",
            " 70%|██████▉   | 1957/2808 [00:52<00:22, 37.62it/s]\u001b[A\n",
            " 70%|██████▉   | 1961/2808 [00:52<00:22, 37.57it/s]\u001b[A\n",
            " 70%|██████▉   | 1965/2808 [00:52<00:22, 37.65it/s]\u001b[A\n",
            " 70%|███████   | 1969/2808 [00:52<00:22, 37.91it/s]\u001b[A\n",
            " 70%|███████   | 1973/2808 [00:53<00:21, 38.10it/s]\u001b[A\n",
            " 70%|███████   | 1977/2808 [00:53<00:21, 38.21it/s]\u001b[A\n",
            " 71%|███████   | 1981/2808 [00:53<00:22, 37.54it/s]\u001b[A\n",
            " 71%|███████   | 1985/2808 [00:53<00:21, 37.80it/s]\u001b[A\n",
            " 71%|███████   | 1989/2808 [00:53<00:21, 38.02it/s]\u001b[A\n",
            " 71%|███████   | 1993/2808 [00:53<00:21, 38.12it/s]\u001b[A\n",
            " 71%|███████   | 1997/2808 [00:53<00:21, 37.88it/s]\u001b[A\n",
            " 71%|███████▏  | 2001/2808 [00:53<00:21, 37.92it/s]\u001b[A\n",
            " 71%|███████▏  | 2005/2808 [00:53<00:21, 37.89it/s]\u001b[A"
          ],
          "name": "stderr"
        },
        {
          "output_type": "stream",
          "text": [
            "| epoch   1 |  2000/ 2808 batches | lr 0.00 | loss  5.37 | ppl   215.42\n"
          ],
          "name": "stdout"
        },
        {
          "output_type": "stream",
          "text": [
            "\n",
            " 72%|███████▏  | 2009/2808 [00:54<00:21, 37.59it/s]\u001b[A\n",
            " 72%|███████▏  | 2013/2808 [00:54<00:20, 37.94it/s]\u001b[A\n",
            " 72%|███████▏  | 2017/2808 [00:54<00:20, 38.05it/s]\u001b[A\n",
            " 72%|███████▏  | 2021/2808 [00:54<00:20, 37.74it/s]\u001b[A\n",
            " 72%|███████▏  | 2025/2808 [00:54<00:20, 38.00it/s]\u001b[A\n",
            " 72%|███████▏  | 2029/2808 [00:54<00:20, 37.89it/s]\u001b[A\n",
            " 72%|███████▏  | 2033/2808 [00:54<00:20, 38.09it/s]\u001b[A\n",
            " 73%|███████▎  | 2037/2808 [00:54<00:20, 37.87it/s]\u001b[A\n",
            " 73%|███████▎  | 2041/2808 [00:54<00:20, 37.70it/s]\u001b[A\n",
            " 73%|███████▎  | 2045/2808 [00:54<00:20, 37.64it/s]\u001b[A\n",
            " 73%|███████▎  | 2049/2808 [00:55<00:20, 37.57it/s]\u001b[A\n",
            " 73%|███████▎  | 2053/2808 [00:55<00:19, 37.76it/s]\u001b[A\n",
            " 73%|███████▎  | 2057/2808 [00:55<00:20, 37.54it/s]\u001b[A\n",
            " 73%|███████▎  | 2061/2808 [00:55<00:19, 37.92it/s]\u001b[A\n",
            " 74%|███████▎  | 2065/2808 [00:55<00:19, 38.02it/s]\u001b[A\n",
            " 74%|███████▎  | 2069/2808 [00:55<00:19, 37.98it/s]\u001b[A\n",
            " 74%|███████▍  | 2073/2808 [00:55<00:19, 38.00it/s]\u001b[A\n",
            " 74%|███████▍  | 2077/2808 [00:55<00:19, 37.91it/s]\u001b[A\n",
            " 74%|███████▍  | 2081/2808 [00:55<00:19, 37.98it/s]\u001b[A\n",
            " 74%|███████▍  | 2085/2808 [00:56<00:19, 38.04it/s]\u001b[A\n",
            " 74%|███████▍  | 2089/2808 [00:56<00:19, 37.83it/s]\u001b[A\n",
            " 75%|███████▍  | 2093/2808 [00:56<00:18, 37.97it/s]\u001b[A\n",
            " 75%|███████▍  | 2097/2808 [00:56<00:18, 37.85it/s]\u001b[A\n",
            " 75%|███████▍  | 2101/2808 [00:56<00:18, 37.76it/s]\u001b[A\n",
            " 75%|███████▍  | 2105/2808 [00:56<00:18, 37.97it/s]\u001b[A"
          ],
          "name": "stderr"
        },
        {
          "output_type": "stream",
          "text": [
            "| epoch   1 |  2100/ 2808 batches | lr 0.00 | loss  5.36 | ppl   212.22\n"
          ],
          "name": "stdout"
        },
        {
          "output_type": "stream",
          "text": [
            "\n",
            " 75%|███████▌  | 2109/2808 [00:56<00:18, 38.06it/s]\u001b[A\n",
            " 75%|███████▌  | 2113/2808 [00:56<00:18, 38.07it/s]\u001b[A\n",
            " 75%|███████▌  | 2117/2808 [00:56<00:18, 38.25it/s]\u001b[A\n",
            " 76%|███████▌  | 2121/2808 [00:56<00:17, 38.21it/s]\u001b[A\n",
            " 76%|███████▌  | 2125/2808 [00:57<00:17, 38.32it/s]\u001b[A\n",
            " 76%|███████▌  | 2129/2808 [00:57<00:17, 38.26it/s]\u001b[A\n",
            " 76%|███████▌  | 2133/2808 [00:57<00:17, 38.22it/s]\u001b[A\n",
            " 76%|███████▌  | 2137/2808 [00:57<00:17, 38.12it/s]\u001b[A\n",
            " 76%|███████▌  | 2141/2808 [00:57<00:17, 38.19it/s]\u001b[A\n",
            " 76%|███████▋  | 2145/2808 [00:57<00:17, 37.84it/s]\u001b[A\n",
            " 77%|███████▋  | 2149/2808 [00:57<00:17, 37.75it/s]\u001b[A\n",
            " 77%|███████▋  | 2153/2808 [00:57<00:17, 37.63it/s]\u001b[A\n",
            " 77%|███████▋  | 2157/2808 [00:57<00:17, 37.80it/s]\u001b[A\n",
            " 77%|███████▋  | 2161/2808 [00:58<00:17, 37.94it/s]\u001b[A\n",
            " 77%|███████▋  | 2165/2808 [00:58<00:16, 38.08it/s]\u001b[A\n",
            " 77%|███████▋  | 2169/2808 [00:58<00:16, 37.75it/s]\u001b[A\n",
            " 77%|███████▋  | 2173/2808 [00:58<00:16, 37.72it/s]\u001b[A\n",
            " 78%|███████▊  | 2177/2808 [00:58<00:16, 37.78it/s]\u001b[A\n",
            " 78%|███████▊  | 2181/2808 [00:58<00:16, 37.84it/s]\u001b[A\n",
            " 78%|███████▊  | 2185/2808 [00:58<00:16, 37.77it/s]\u001b[A\n",
            " 78%|███████▊  | 2189/2808 [00:58<00:16, 37.95it/s]\u001b[A\n",
            " 78%|███████▊  | 2193/2808 [00:58<00:16, 37.89it/s]\u001b[A\n",
            " 78%|███████▊  | 2197/2808 [00:58<00:16, 37.90it/s]\u001b[A\n",
            " 78%|███████▊  | 2201/2808 [00:59<00:15, 38.05it/s]\u001b[A\n",
            " 79%|███████▊  | 2205/2808 [00:59<00:15, 37.85it/s]\u001b[A"
          ],
          "name": "stderr"
        },
        {
          "output_type": "stream",
          "text": [
            "| epoch   1 |  2200/ 2808 batches | lr 0.00 | loss  5.34 | ppl   208.89\n"
          ],
          "name": "stdout"
        },
        {
          "output_type": "stream",
          "text": [
            "\n",
            " 79%|███████▊  | 2209/2808 [00:59<00:15, 37.80it/s]\u001b[A\n",
            " 79%|███████▉  | 2213/2808 [00:59<00:15, 37.53it/s]\u001b[A\n",
            " 79%|███████▉  | 2217/2808 [00:59<00:15, 37.87it/s]\u001b[A\n",
            " 79%|███████▉  | 2221/2808 [00:59<00:15, 38.11it/s]\u001b[A\n",
            " 79%|███████▉  | 2225/2808 [00:59<00:15, 38.41it/s]\u001b[A\n",
            " 79%|███████▉  | 2229/2808 [00:59<00:15, 38.54it/s]\u001b[A\n",
            " 80%|███████▉  | 2233/2808 [00:59<00:14, 38.64it/s]\u001b[A\n",
            " 80%|███████▉  | 2237/2808 [01:00<00:14, 38.76it/s]\u001b[A\n",
            " 80%|███████▉  | 2241/2808 [01:00<00:14, 38.81it/s]\u001b[A\n",
            " 80%|███████▉  | 2245/2808 [01:00<00:14, 38.80it/s]\u001b[A\n",
            " 80%|████████  | 2249/2808 [01:00<00:14, 38.46it/s]\u001b[A\n",
            " 80%|████████  | 2253/2808 [01:00<00:14, 37.70it/s]\u001b[A\n",
            " 80%|████████  | 2257/2808 [01:00<00:14, 38.05it/s]\u001b[A\n",
            " 81%|████████  | 2261/2808 [01:00<00:14, 37.94it/s]\u001b[A\n",
            " 81%|████████  | 2265/2808 [01:00<00:14, 38.18it/s]\u001b[A\n",
            " 81%|████████  | 2269/2808 [01:00<00:14, 38.37it/s]\u001b[A\n",
            " 81%|████████  | 2273/2808 [01:00<00:13, 38.49it/s]\u001b[A\n",
            " 81%|████████  | 2277/2808 [01:01<00:13, 38.52it/s]\u001b[A\n",
            " 81%|████████  | 2281/2808 [01:01<00:13, 38.59it/s]\u001b[A\n",
            " 81%|████████▏ | 2285/2808 [01:01<00:13, 38.27it/s]\u001b[A\n",
            " 82%|████████▏ | 2289/2808 [01:01<00:13, 37.99it/s]\u001b[A\n",
            " 82%|████████▏ | 2293/2808 [01:01<00:13, 37.63it/s]\u001b[A\n",
            " 82%|████████▏ | 2297/2808 [01:01<00:13, 37.48it/s]\u001b[A\n",
            " 82%|████████▏ | 2301/2808 [01:01<00:13, 37.50it/s]\u001b[A\n",
            " 82%|████████▏ | 2305/2808 [01:01<00:13, 37.58it/s]\u001b[A"
          ],
          "name": "stderr"
        },
        {
          "output_type": "stream",
          "text": [
            "| epoch   1 |  2300/ 2808 batches | lr 0.00 | loss  5.33 | ppl   205.80\n"
          ],
          "name": "stdout"
        },
        {
          "output_type": "stream",
          "text": [
            "\n",
            " 82%|████████▏ | 2309/2808 [01:01<00:13, 37.97it/s]\u001b[A\n",
            " 82%|████████▏ | 2313/2808 [01:02<00:12, 38.20it/s]\u001b[A\n",
            " 83%|████████▎ | 2317/2808 [01:02<00:12, 38.19it/s]\u001b[A\n",
            " 83%|████████▎ | 2321/2808 [01:02<00:12, 38.35it/s]\u001b[A\n",
            " 83%|████████▎ | 2325/2808 [01:02<00:12, 38.46it/s]\u001b[A\n",
            " 83%|████████▎ | 2329/2808 [01:02<00:12, 38.38it/s]\u001b[A\n",
            " 83%|████████▎ | 2333/2808 [01:02<00:12, 38.01it/s]\u001b[A\n",
            " 83%|████████▎ | 2337/2808 [01:02<00:12, 38.19it/s]\u001b[A\n",
            " 83%|████████▎ | 2341/2808 [01:02<00:12, 38.14it/s]\u001b[A\n",
            " 84%|████████▎ | 2345/2808 [01:02<00:12, 37.96it/s]\u001b[A\n",
            " 84%|████████▎ | 2349/2808 [01:02<00:12, 38.09it/s]\u001b[A\n",
            " 84%|████████▍ | 2353/2808 [01:03<00:11, 38.23it/s]\u001b[A\n",
            " 84%|████████▍ | 2357/2808 [01:03<00:11, 38.16it/s]\u001b[A\n",
            " 84%|████████▍ | 2361/2808 [01:03<00:11, 38.03it/s]\u001b[A\n",
            " 84%|████████▍ | 2365/2808 [01:03<00:11, 38.11it/s]\u001b[A\n",
            " 84%|████████▍ | 2369/2808 [01:03<00:11, 37.92it/s]\u001b[A\n",
            " 85%|████████▍ | 2373/2808 [01:03<00:11, 37.57it/s]\u001b[A\n",
            " 85%|████████▍ | 2377/2808 [01:03<00:11, 37.49it/s]\u001b[A\n",
            " 85%|████████▍ | 2381/2808 [01:03<00:11, 37.51it/s]\u001b[A\n",
            " 85%|████████▍ | 2385/2808 [01:03<00:11, 37.84it/s]\u001b[A\n",
            " 85%|████████▌ | 2389/2808 [01:04<00:10, 38.09it/s]\u001b[A\n",
            " 85%|████████▌ | 2393/2808 [01:04<00:10, 38.19it/s]\u001b[A\n",
            " 85%|████████▌ | 2397/2808 [01:04<00:10, 38.07it/s]\u001b[A\n",
            " 86%|████████▌ | 2401/2808 [01:04<00:10, 38.19it/s]\u001b[A\n",
            " 86%|████████▌ | 2405/2808 [01:04<00:10, 37.94it/s]\u001b[A"
          ],
          "name": "stderr"
        },
        {
          "output_type": "stream",
          "text": [
            "| epoch   1 |  2400/ 2808 batches | lr 0.00 | loss  5.31 | ppl   202.67\n"
          ],
          "name": "stdout"
        },
        {
          "output_type": "stream",
          "text": [
            "\n",
            " 86%|████████▌ | 2409/2808 [01:04<00:10, 37.44it/s]\u001b[A\n",
            " 86%|████████▌ | 2413/2808 [01:04<00:10, 37.75it/s]\u001b[A\n",
            " 86%|████████▌ | 2417/2808 [01:04<00:10, 38.00it/s]\u001b[A\n",
            " 86%|████████▌ | 2421/2808 [01:04<00:10, 37.66it/s]\u001b[A\n",
            " 86%|████████▋ | 2425/2808 [01:04<00:10, 37.64it/s]\u001b[A\n",
            " 87%|████████▋ | 2429/2808 [01:05<00:09, 37.93it/s]\u001b[A\n",
            " 87%|████████▋ | 2433/2808 [01:05<00:09, 37.82it/s]\u001b[A\n",
            " 87%|████████▋ | 2437/2808 [01:05<00:09, 37.75it/s]\u001b[A\n",
            " 87%|████████▋ | 2441/2808 [01:05<00:09, 38.05it/s]\u001b[A\n",
            " 87%|████████▋ | 2445/2808 [01:05<00:09, 38.06it/s]\u001b[A\n",
            " 87%|████████▋ | 2449/2808 [01:05<00:09, 38.29it/s]\u001b[A\n",
            " 87%|████████▋ | 2453/2808 [01:05<00:09, 38.45it/s]\u001b[A\n",
            " 88%|████████▊ | 2457/2808 [01:05<00:09, 38.46it/s]\u001b[A\n",
            " 88%|████████▊ | 2461/2808 [01:05<00:09, 38.26it/s]\u001b[A\n",
            " 88%|████████▊ | 2465/2808 [01:06<00:08, 38.13it/s]\u001b[A\n",
            " 88%|████████▊ | 2469/2808 [01:06<00:08, 38.29it/s]\u001b[A\n",
            " 88%|████████▊ | 2473/2808 [01:06<00:08, 38.33it/s]\u001b[A\n",
            " 88%|████████▊ | 2477/2808 [01:06<00:08, 38.44it/s]\u001b[A\n",
            " 88%|████████▊ | 2481/2808 [01:06<00:08, 38.56it/s]\u001b[A\n",
            " 88%|████████▊ | 2485/2808 [01:06<00:08, 38.18it/s]\u001b[A\n",
            " 89%|████████▊ | 2489/2808 [01:06<00:08, 38.14it/s]\u001b[A\n",
            " 89%|████████▉ | 2493/2808 [01:06<00:08, 37.86it/s]\u001b[A\n",
            " 89%|████████▉ | 2497/2808 [01:06<00:08, 37.81it/s]\u001b[A\n",
            " 89%|████████▉ | 2501/2808 [01:06<00:08, 38.02it/s]\u001b[A\n",
            " 89%|████████▉ | 2505/2808 [01:07<00:07, 38.09it/s]\u001b[A"
          ],
          "name": "stderr"
        },
        {
          "output_type": "stream",
          "text": [
            "| epoch   1 |  2500/ 2808 batches | lr 0.00 | loss  5.29 | ppl   199.33\n"
          ],
          "name": "stdout"
        },
        {
          "output_type": "stream",
          "text": [
            "\n",
            " 89%|████████▉ | 2509/2808 [01:07<00:07, 38.22it/s]\u001b[A\n",
            " 89%|████████▉ | 2513/2808 [01:07<00:07, 38.17it/s]\u001b[A\n",
            " 90%|████████▉ | 2517/2808 [01:07<00:07, 38.29it/s]\u001b[A\n",
            " 90%|████████▉ | 2521/2808 [01:07<00:07, 38.07it/s]\u001b[A\n",
            " 90%|████████▉ | 2525/2808 [01:07<00:07, 38.08it/s]\u001b[A\n",
            " 90%|█████████ | 2529/2808 [01:07<00:07, 37.77it/s]\u001b[A\n",
            " 90%|█████████ | 2533/2808 [01:07<00:07, 37.99it/s]\u001b[A\n",
            " 90%|█████████ | 2537/2808 [01:07<00:07, 38.22it/s]\u001b[A\n",
            " 90%|█████████ | 2541/2808 [01:08<00:06, 38.32it/s]\u001b[A\n",
            " 91%|█████████ | 2545/2808 [01:08<00:06, 38.44it/s]\u001b[A\n",
            " 91%|█████████ | 2549/2808 [01:08<00:06, 38.38it/s]\u001b[A\n",
            " 91%|█████████ | 2553/2808 [01:08<00:06, 38.36it/s]\u001b[A\n",
            " 91%|█████████ | 2557/2808 [01:08<00:06, 38.15it/s]\u001b[A\n",
            " 91%|█████████ | 2561/2808 [01:08<00:06, 38.14it/s]\u001b[A\n",
            " 91%|█████████▏| 2565/2808 [01:08<00:06, 38.13it/s]\u001b[A\n",
            " 91%|█████████▏| 2569/2808 [01:08<00:06, 38.27it/s]\u001b[A\n",
            " 92%|█████████▏| 2573/2808 [01:08<00:06, 38.04it/s]\u001b[A\n",
            " 92%|█████████▏| 2577/2808 [01:08<00:06, 37.68it/s]\u001b[A\n",
            " 92%|█████████▏| 2581/2808 [01:09<00:05, 37.94it/s]\u001b[A\n",
            " 92%|█████████▏| 2585/2808 [01:09<00:05, 38.06it/s]\u001b[A\n",
            " 92%|█████████▏| 2589/2808 [01:09<00:05, 37.84it/s]\u001b[A\n",
            " 92%|█████████▏| 2593/2808 [01:09<00:05, 37.65it/s]\u001b[A\n",
            " 92%|█████████▏| 2597/2808 [01:09<00:05, 37.82it/s]\u001b[A\n",
            " 93%|█████████▎| 2601/2808 [01:09<00:05, 37.93it/s]\u001b[A\n",
            " 93%|█████████▎| 2605/2808 [01:09<00:05, 37.91it/s]\u001b[A"
          ],
          "name": "stderr"
        },
        {
          "output_type": "stream",
          "text": [
            "| epoch   1 |  2600/ 2808 batches | lr 0.00 | loss  5.28 | ppl   195.98\n"
          ],
          "name": "stdout"
        },
        {
          "output_type": "stream",
          "text": [
            "\n",
            " 93%|█████████▎| 2609/2808 [01:09<00:05, 37.66it/s]\u001b[A\n",
            " 93%|█████████▎| 2613/2808 [01:09<00:05, 37.88it/s]\u001b[A\n",
            " 93%|█████████▎| 2617/2808 [01:10<00:05, 38.16it/s]\u001b[A\n",
            " 93%|█████████▎| 2621/2808 [01:10<00:04, 38.26it/s]\u001b[A\n",
            " 93%|█████████▎| 2625/2808 [01:10<00:04, 38.05it/s]\u001b[A\n",
            " 94%|█████████▎| 2629/2808 [01:10<00:04, 38.08it/s]\u001b[A\n",
            " 94%|█████████▍| 2633/2808 [01:10<00:04, 38.30it/s]\u001b[A\n",
            " 94%|█████████▍| 2637/2808 [01:10<00:04, 38.39it/s]\u001b[A\n",
            " 94%|█████████▍| 2641/2808 [01:10<00:04, 38.25it/s]\u001b[A\n",
            " 94%|█████████▍| 2645/2808 [01:10<00:04, 38.34it/s]\u001b[A\n",
            " 94%|█████████▍| 2649/2808 [01:10<00:04, 38.45it/s]\u001b[A\n",
            " 94%|█████████▍| 2653/2808 [01:10<00:04, 38.52it/s]\u001b[A\n",
            " 95%|█████████▍| 2657/2808 [01:11<00:03, 38.58it/s]\u001b[A\n",
            " 95%|█████████▍| 2661/2808 [01:11<00:03, 38.66it/s]\u001b[A\n",
            " 95%|█████████▍| 2665/2808 [01:11<00:03, 38.75it/s]\u001b[A\n",
            " 95%|█████████▌| 2669/2808 [01:11<00:03, 38.79it/s]\u001b[A\n",
            " 95%|█████████▌| 2673/2808 [01:11<00:03, 38.31it/s]\u001b[A\n",
            " 95%|█████████▌| 2677/2808 [01:11<00:03, 38.08it/s]\u001b[A\n",
            " 95%|█████████▌| 2681/2808 [01:11<00:03, 38.01it/s]\u001b[A\n",
            " 96%|█████████▌| 2685/2808 [01:11<00:03, 38.09it/s]\u001b[A\n",
            " 96%|█████████▌| 2689/2808 [01:11<00:03, 38.24it/s]\u001b[A\n",
            " 96%|█████████▌| 2693/2808 [01:12<00:02, 38.36it/s]\u001b[A\n",
            " 96%|█████████▌| 2697/2808 [01:12<00:02, 38.08it/s]\u001b[A\n",
            " 96%|█████████▌| 2701/2808 [01:12<00:02, 38.23it/s]\u001b[A\n",
            " 96%|█████████▋| 2705/2808 [01:12<00:02, 37.96it/s]\u001b[A"
          ],
          "name": "stderr"
        },
        {
          "output_type": "stream",
          "text": [
            "| epoch   1 |  2700/ 2808 batches | lr 0.00 | loss  5.26 | ppl   192.97\n"
          ],
          "name": "stdout"
        },
        {
          "output_type": "stream",
          "text": [
            "\n",
            " 96%|█████████▋| 2709/2808 [01:12<00:02, 38.08it/s]\u001b[A\n",
            " 97%|█████████▋| 2713/2808 [01:12<00:02, 38.20it/s]\u001b[A\n",
            " 97%|█████████▋| 2717/2808 [01:12<00:02, 38.21it/s]\u001b[A\n",
            " 97%|█████████▋| 2721/2808 [01:12<00:02, 38.26it/s]\u001b[A\n",
            " 97%|█████████▋| 2725/2808 [01:12<00:02, 38.30it/s]\u001b[A\n",
            " 97%|█████████▋| 2729/2808 [01:12<00:02, 38.35it/s]\u001b[A\n",
            " 97%|█████████▋| 2733/2808 [01:13<00:01, 38.42it/s]\u001b[A\n",
            " 97%|█████████▋| 2737/2808 [01:13<00:01, 38.07it/s]\u001b[A\n",
            " 98%|█████████▊| 2741/2808 [01:13<00:01, 38.34it/s]\u001b[A\n",
            " 98%|█████████▊| 2745/2808 [01:13<00:01, 38.31it/s]\u001b[A\n",
            " 98%|█████████▊| 2749/2808 [01:13<00:01, 37.98it/s]\u001b[A\n",
            " 98%|█████████▊| 2753/2808 [01:13<00:01, 38.09it/s]\u001b[A\n",
            " 98%|█████████▊| 2757/2808 [01:13<00:01, 38.06it/s]\u001b[A\n",
            " 98%|█████████▊| 2761/2808 [01:13<00:01, 38.14it/s]\u001b[A\n",
            " 98%|█████████▊| 2765/2808 [01:13<00:01, 38.03it/s]\u001b[A\n",
            " 99%|█████████▊| 2769/2808 [01:13<00:01, 37.96it/s]\u001b[A\n",
            " 99%|█████████▉| 2773/2808 [01:14<00:00, 38.21it/s]\u001b[A\n",
            " 99%|█████████▉| 2777/2808 [01:14<00:00, 38.31it/s]\u001b[A\n",
            " 99%|█████████▉| 2781/2808 [01:14<00:00, 38.40it/s]\u001b[A\n",
            " 99%|█████████▉| 2785/2808 [01:14<00:00, 38.39it/s]\u001b[A\n",
            " 99%|█████████▉| 2789/2808 [01:14<00:00, 38.50it/s]\u001b[A\n",
            " 99%|█████████▉| 2793/2808 [01:14<00:00, 38.32it/s]\u001b[A\n",
            "100%|█████████▉| 2797/2808 [01:14<00:00, 38.22it/s]\u001b[A\n",
            "100%|█████████▉| 2801/2808 [01:14<00:00, 38.24it/s]\u001b[A\n",
            "100%|██████████| 2808/2808 [01:15<00:00, 37.43it/s]\n",
            "\n",
            "  0%|          | 0/292 [00:00<?, ?it/s]\u001b[A"
          ],
          "name": "stderr"
        },
        {
          "output_type": "stream",
          "text": [
            "| epoch   1 |  2800/ 2808 batches | lr 0.00 | loss  5.25 | ppl   189.65\n"
          ],
          "name": "stdout"
        },
        {
          "output_type": "stream",
          "text": [
            "\n",
            "  0%|          | 1/292 [00:00<00:39,  7.35it/s]\u001b[A\n",
            "  8%|▊         | 24/292 [00:00<00:25, 10.36it/s]\u001b[A\n",
            " 17%|█▋        | 49/292 [00:00<00:16, 14.53it/s]\u001b[A\n",
            " 26%|██▌       | 75/292 [00:00<00:10, 20.25it/s]\u001b[A\n",
            " 34%|███▍      | 100/292 [00:00<00:06, 27.96it/s]\u001b[A\n",
            " 42%|████▏     | 124/292 [00:00<00:04, 38.04it/s]\u001b[A\n",
            " 51%|█████     | 149/292 [00:00<00:02, 50.91it/s]\u001b[A\n",
            " 60%|█████▉    | 175/292 [00:00<00:01, 66.93it/s]\u001b[A\n",
            " 68%|██████▊   | 198/292 [00:00<00:01, 84.77it/s]\u001b[A\n",
            " 77%|███████▋  | 224/292 [00:01<00:00, 105.79it/s]\u001b[A\n",
            " 85%|████████▌ | 249/292 [00:01<00:00, 127.70it/s]\u001b[A\n",
            "100%|██████████| 292/292 [00:01<00:00, 219.14it/s]\n",
            "\n",
            "  0%|          | 0/2808 [00:00<?, ?it/s]\u001b[A"
          ],
          "name": "stderr"
        },
        {
          "output_type": "stream",
          "text": [
            "-----------------------------------------------------------------------------------------\n",
            "| end of epoch   1 | valid loss  5.24 | valid ppl   188.47\n",
            "-----------------------------------------------------------------------------------------\n",
            "sample:\n",
            " ュž*の¡ل動xăზ?งūóû大−ñzà–rγòãŁôớ,X[†Đłк#ลć่<¡$WU=Aơµėấ \n",
            "\n"
          ],
          "name": "stdout"
        },
        {
          "output_type": "stream",
          "text": [
            "\n",
            "  0%|          | 1/2808 [00:01<1:02:55,  1.35s/it]\u001b[A\n",
            "  0%|          | 5/2808 [00:01<44:22,  1.05it/s]  \u001b[A\n",
            "  0%|          | 9/2808 [00:01<31:23,  1.49it/s]\u001b[A\n",
            "  0%|          | 13/2808 [00:01<22:17,  2.09it/s]\u001b[A\n",
            "  1%|          | 17/2808 [00:01<15:57,  2.92it/s]\u001b[A\n",
            "  1%|          | 21/2808 [00:01<11:30,  4.03it/s]\u001b[A\n",
            "  1%|          | 25/2808 [00:01<08:24,  5.52it/s]\u001b[A\n",
            "  1%|          | 29/2808 [00:02<06:14,  7.43it/s]\u001b[A\n",
            "  1%|          | 33/2808 [00:02<04:43,  9.79it/s]\u001b[A\n",
            "  1%|▏         | 37/2808 [00:02<03:40, 12.56it/s]\u001b[A\n",
            "  1%|▏         | 41/2808 [00:02<02:55, 15.74it/s]\u001b[A\n",
            "  2%|▏         | 45/2808 [00:02<02:25, 19.03it/s]\u001b[A\n",
            "  2%|▏         | 49/2808 [00:02<02:03, 22.42it/s]\u001b[A\n",
            "  2%|▏         | 53/2808 [00:02<01:47, 25.66it/s]\u001b[A\n",
            "  2%|▏         | 57/2808 [00:02<01:36, 28.43it/s]\u001b[A\n",
            "  2%|▏         | 61/2808 [00:02<01:29, 30.71it/s]\u001b[A\n",
            "  2%|▏         | 65/2808 [00:03<01:23, 32.67it/s]\u001b[A\n",
            "  2%|▏         | 69/2808 [00:03<01:20, 34.12it/s]\u001b[A\n",
            "  3%|▎         | 73/2808 [00:03<01:17, 35.16it/s]\u001b[A\n",
            "  3%|▎         | 77/2808 [00:03<01:15, 36.15it/s]\u001b[A\n",
            "  3%|▎         | 81/2808 [00:03<01:14, 36.36it/s]\u001b[A\n",
            "  3%|▎         | 85/2808 [00:03<01:13, 37.00it/s]\u001b[A\n",
            "  3%|▎         | 89/2808 [00:03<01:12, 37.39it/s]\u001b[A\n",
            "  3%|▎         | 93/2808 [00:03<01:11, 37.72it/s]\u001b[A\n",
            "  3%|▎         | 97/2808 [00:03<01:11, 37.76it/s]\u001b[A\n",
            "  4%|▎         | 101/2808 [00:03<01:11, 38.00it/s]\u001b[A\n",
            "  4%|▎         | 105/2808 [00:04<01:11, 37.93it/s]\u001b[A"
          ],
          "name": "stderr"
        },
        {
          "output_type": "stream",
          "text": [
            "| epoch   2 |   100/ 2808 batches | lr 0.00 | loss  5.29 | ppl   197.47\n"
          ],
          "name": "stdout"
        },
        {
          "output_type": "stream",
          "text": [
            "\n",
            "  4%|▍         | 109/2808 [00:04<01:10, 38.07it/s]\u001b[A\n",
            "  4%|▍         | 113/2808 [00:04<01:10, 38.07it/s]\u001b[A\n",
            "  4%|▍         | 117/2808 [00:04<01:10, 38.02it/s]\u001b[A\n",
            "  4%|▍         | 121/2808 [00:04<01:10, 38.11it/s]\u001b[A\n",
            "  4%|▍         | 125/2808 [00:04<01:10, 38.22it/s]\u001b[A\n",
            "  5%|▍         | 129/2808 [00:04<01:09, 38.37it/s]\u001b[A\n",
            "  5%|▍         | 133/2808 [00:04<01:09, 38.42it/s]\u001b[A\n",
            "  5%|▍         | 137/2808 [00:04<01:09, 38.17it/s]\u001b[A\n",
            "  5%|▌         | 141/2808 [00:05<01:10, 38.02it/s]\u001b[A\n",
            "  5%|▌         | 145/2808 [00:05<01:09, 38.17it/s]\u001b[A\n",
            "  5%|▌         | 149/2808 [00:05<01:09, 38.29it/s]\u001b[A\n",
            "  5%|▌         | 153/2808 [00:05<01:09, 38.01it/s]\u001b[A\n",
            "  6%|▌         | 157/2808 [00:05<01:09, 38.22it/s]\u001b[A\n",
            "  6%|▌         | 161/2808 [00:05<01:09, 38.35it/s]\u001b[A\n",
            "  6%|▌         | 165/2808 [00:05<01:08, 38.32it/s]\u001b[A\n",
            "  6%|▌         | 169/2808 [00:05<01:08, 38.36it/s]\u001b[A\n",
            "  6%|▌         | 173/2808 [00:05<01:08, 38.37it/s]\u001b[A\n",
            "  6%|▋         | 177/2808 [00:05<01:08, 38.46it/s]\u001b[A\n",
            "  6%|▋         | 181/2808 [00:06<01:08, 38.26it/s]\u001b[A\n",
            "  7%|▋         | 185/2808 [00:06<01:09, 38.00it/s]\u001b[A\n",
            "  7%|▋         | 189/2808 [00:06<01:09, 37.70it/s]\u001b[A\n",
            "  7%|▋         | 193/2808 [00:06<01:09, 37.75it/s]\u001b[A\n",
            "  7%|▋         | 197/2808 [00:06<01:08, 38.12it/s]\u001b[A\n",
            "  7%|▋         | 201/2808 [00:06<01:08, 37.93it/s]\u001b[A\n",
            "  7%|▋         | 205/2808 [00:06<01:08, 37.91it/s]\u001b[A"
          ],
          "name": "stderr"
        },
        {
          "output_type": "stream",
          "text": [
            "| epoch   2 |   200/ 2808 batches | lr 0.00 | loss  5.23 | ppl   186.63\n"
          ],
          "name": "stdout"
        },
        {
          "output_type": "stream",
          "text": [
            "\n",
            "  7%|▋         | 209/2808 [00:06<01:08, 38.00it/s]\u001b[A\n",
            "  8%|▊         | 213/2808 [00:06<01:07, 38.24it/s]\u001b[A\n",
            "  8%|▊         | 217/2808 [00:07<01:07, 38.21it/s]\u001b[A\n",
            "  8%|▊         | 221/2808 [00:07<01:07, 38.33it/s]\u001b[A\n",
            "  8%|▊         | 225/2808 [00:07<01:07, 38.24it/s]\u001b[A\n",
            "  8%|▊         | 229/2808 [00:07<01:07, 38.05it/s]\u001b[A\n",
            "  8%|▊         | 233/2808 [00:07<01:07, 38.29it/s]\u001b[A\n",
            "  8%|▊         | 237/2808 [00:07<01:07, 38.07it/s]\u001b[A\n",
            "  9%|▊         | 241/2808 [00:07<01:07, 38.28it/s]\u001b[A\n",
            "  9%|▊         | 245/2808 [00:07<01:06, 38.48it/s]\u001b[A\n",
            "  9%|▉         | 249/2808 [00:07<01:06, 38.53it/s]\u001b[A\n",
            "  9%|▉         | 253/2808 [00:07<01:05, 38.74it/s]\u001b[A\n",
            "  9%|▉         | 257/2808 [00:08<01:05, 38.68it/s]\u001b[A\n",
            "  9%|▉         | 261/2808 [00:08<01:05, 38.75it/s]\u001b[A\n",
            "  9%|▉         | 265/2808 [00:08<01:05, 38.80it/s]\u001b[A\n",
            " 10%|▉         | 269/2808 [00:08<01:05, 38.86it/s]\u001b[A\n",
            " 10%|▉         | 273/2808 [00:08<01:05, 38.77it/s]\u001b[A\n",
            " 10%|▉         | 277/2808 [00:08<01:05, 38.45it/s]\u001b[A\n",
            " 10%|█         | 281/2808 [00:08<01:06, 38.18it/s]\u001b[A\n",
            " 10%|█         | 285/2808 [00:08<01:06, 38.12it/s]\u001b[A\n",
            " 10%|█         | 289/2808 [00:08<01:05, 38.36it/s]\u001b[A\n",
            " 10%|█         | 293/2808 [00:08<01:05, 38.22it/s]\u001b[A\n",
            " 11%|█         | 297/2808 [00:09<01:06, 38.04it/s]\u001b[A\n",
            " 11%|█         | 301/2808 [00:09<01:05, 38.06it/s]\u001b[A\n",
            " 11%|█         | 305/2808 [00:09<01:05, 38.01it/s]\u001b[A"
          ],
          "name": "stderr"
        },
        {
          "output_type": "stream",
          "text": [
            "| epoch   2 |   300/ 2808 batches | lr 0.00 | loss  5.22 | ppl   185.63\n"
          ],
          "name": "stdout"
        },
        {
          "output_type": "stream",
          "text": [
            "\n",
            " 11%|█         | 309/2808 [00:09<01:06, 37.53it/s]\u001b[A\n",
            " 11%|█         | 313/2808 [00:09<01:05, 37.81it/s]\u001b[A\n",
            " 11%|█▏        | 317/2808 [00:09<01:05, 38.04it/s]\u001b[A\n",
            " 11%|█▏        | 321/2808 [00:09<01:04, 38.29it/s]\u001b[A\n",
            " 12%|█▏        | 325/2808 [00:09<01:04, 38.36it/s]\u001b[A\n",
            " 12%|█▏        | 329/2808 [00:09<01:04, 38.59it/s]\u001b[A\n",
            " 12%|█▏        | 333/2808 [00:10<01:04, 38.15it/s]\u001b[A\n",
            " 12%|█▏        | 337/2808 [00:10<01:04, 38.44it/s]\u001b[A\n",
            " 12%|█▏        | 341/2808 [00:10<01:03, 38.66it/s]\u001b[A\n",
            " 12%|█▏        | 345/2808 [00:10<01:03, 38.68it/s]\u001b[A\n",
            " 12%|█▏        | 349/2808 [00:10<01:03, 38.77it/s]\u001b[A\n",
            " 13%|█▎        | 353/2808 [00:10<01:03, 38.43it/s]\u001b[A\n",
            " 13%|█▎        | 357/2808 [00:10<01:03, 38.71it/s]\u001b[A\n",
            " 13%|█▎        | 361/2808 [00:10<01:03, 38.79it/s]\u001b[A\n",
            " 13%|█▎        | 365/2808 [00:10<01:03, 38.46it/s]\u001b[A\n",
            " 13%|█▎        | 369/2808 [00:10<01:03, 38.56it/s]\u001b[A\n",
            " 13%|█▎        | 373/2808 [00:11<01:02, 38.67it/s]\u001b[A\n",
            " 13%|█▎        | 377/2808 [00:11<01:02, 38.74it/s]\u001b[A\n",
            " 14%|█▎        | 381/2808 [00:11<01:02, 38.79it/s]\u001b[A\n",
            " 14%|█▎        | 385/2808 [00:11<01:02, 38.67it/s]\u001b[A\n",
            " 14%|█▍        | 389/2808 [00:11<01:02, 38.75it/s]\u001b[A\n",
            " 14%|█▍        | 393/2808 [00:11<01:02, 38.76it/s]\u001b[A\n",
            " 14%|█▍        | 397/2808 [00:11<01:02, 38.39it/s]\u001b[A\n",
            " 14%|█▍        | 401/2808 [00:11<01:02, 38.44it/s]\u001b[A\n",
            " 14%|█▍        | 405/2808 [00:11<01:02, 38.29it/s]\u001b[A"
          ],
          "name": "stderr"
        },
        {
          "output_type": "stream",
          "text": [
            "| epoch   2 |   400/ 2808 batches | lr 0.00 | loss  5.22 | ppl   184.83\n"
          ],
          "name": "stdout"
        },
        {
          "output_type": "stream",
          "text": [
            "\n",
            " 15%|█▍        | 409/2808 [00:12<01:02, 38.49it/s]\u001b[A\n",
            " 15%|█▍        | 413/2808 [00:12<01:02, 38.49it/s]\u001b[A\n",
            " 15%|█▍        | 417/2808 [00:12<01:02, 38.13it/s]\u001b[A\n",
            " 15%|█▍        | 421/2808 [00:12<01:02, 37.92it/s]\u001b[A\n",
            " 15%|█▌        | 425/2808 [00:12<01:03, 37.56it/s]\u001b[A\n",
            " 15%|█▌        | 429/2808 [00:12<01:02, 37.81it/s]\u001b[A\n",
            " 15%|█▌        | 433/2808 [00:12<01:02, 37.88it/s]\u001b[A\n",
            " 16%|█▌        | 437/2808 [00:12<01:03, 37.46it/s]\u001b[A\n",
            " 16%|█▌        | 441/2808 [00:12<01:03, 37.38it/s]\u001b[A\n",
            " 16%|█▌        | 445/2808 [00:12<01:02, 37.54it/s]\u001b[A\n",
            " 16%|█▌        | 449/2808 [00:13<01:03, 37.18it/s]\u001b[A\n",
            " 16%|█▌        | 453/2808 [00:13<01:03, 37.09it/s]\u001b[A\n",
            " 16%|█▋        | 457/2808 [00:13<01:03, 37.18it/s]\u001b[A\n",
            " 16%|█▋        | 461/2808 [00:13<01:03, 36.93it/s]\u001b[A\n",
            " 17%|█▋        | 465/2808 [00:13<01:03, 36.97it/s]\u001b[A\n",
            " 17%|█▋        | 469/2808 [00:13<01:02, 37.35it/s]\u001b[A\n",
            " 17%|█▋        | 473/2808 [00:13<01:02, 37.64it/s]\u001b[A\n",
            " 17%|█▋        | 477/2808 [00:13<01:01, 37.87it/s]\u001b[A\n",
            " 17%|█▋        | 481/2808 [00:13<01:01, 37.84it/s]\u001b[A\n",
            " 17%|█▋        | 485/2808 [00:14<01:01, 37.85it/s]\u001b[A\n",
            " 17%|█▋        | 489/2808 [00:14<01:01, 37.82it/s]\u001b[A\n",
            " 18%|█▊        | 493/2808 [00:14<01:01, 37.78it/s]\u001b[A\n",
            " 18%|█▊        | 497/2808 [00:14<01:00, 37.93it/s]\u001b[A\n",
            " 18%|█▊        | 501/2808 [00:14<01:01, 37.80it/s]\u001b[A\n",
            " 18%|█▊        | 505/2808 [00:14<01:00, 38.06it/s]\u001b[A"
          ],
          "name": "stderr"
        },
        {
          "output_type": "stream",
          "text": [
            "| epoch   2 |   500/ 2808 batches | lr 0.00 | loss  5.21 | ppl   183.84\n"
          ],
          "name": "stdout"
        },
        {
          "output_type": "stream",
          "text": [
            "\n",
            " 18%|█▊        | 509/2808 [00:14<01:00, 37.84it/s]\u001b[A\n",
            " 18%|█▊        | 513/2808 [00:14<01:00, 38.10it/s]\u001b[A\n",
            " 18%|█▊        | 517/2808 [00:14<01:00, 37.87it/s]\u001b[A\n",
            " 19%|█▊        | 521/2808 [00:14<01:00, 37.96it/s]\u001b[A\n",
            " 19%|█▊        | 525/2808 [00:15<01:00, 37.69it/s]\u001b[A\n",
            " 19%|█▉        | 529/2808 [00:15<01:00, 37.47it/s]\u001b[A\n",
            " 19%|█▉        | 533/2808 [00:15<01:00, 37.46it/s]\u001b[A\n",
            " 19%|█▉        | 537/2808 [00:15<01:00, 37.29it/s]\u001b[A\n",
            " 19%|█▉        | 541/2808 [00:15<01:00, 37.69it/s]\u001b[A\n",
            " 19%|█▉        | 545/2808 [00:15<00:59, 37.95it/s]\u001b[A\n",
            " 20%|█▉        | 549/2808 [00:15<00:59, 37.98it/s]\u001b[A\n",
            " 20%|█▉        | 553/2808 [00:15<00:59, 38.05it/s]\u001b[A\n",
            " 20%|█▉        | 557/2808 [00:15<00:58, 38.31it/s]\u001b[A\n",
            " 20%|█▉        | 561/2808 [00:16<00:58, 38.34it/s]\u001b[A\n",
            " 20%|██        | 565/2808 [00:16<00:58, 38.27it/s]\u001b[A\n",
            " 20%|██        | 569/2808 [00:16<00:58, 38.38it/s]\u001b[A\n",
            " 20%|██        | 573/2808 [00:16<00:58, 38.50it/s]\u001b[A\n",
            " 21%|██        | 577/2808 [00:16<00:58, 38.43it/s]\u001b[A\n",
            " 21%|██        | 581/2808 [00:16<00:57, 38.51it/s]\u001b[A\n",
            " 21%|██        | 585/2808 [00:16<00:57, 38.57it/s]\u001b[A\n",
            " 21%|██        | 589/2808 [00:16<00:58, 37.94it/s]\u001b[A\n",
            " 21%|██        | 593/2808 [00:16<00:57, 38.24it/s]\u001b[A\n",
            " 21%|██▏       | 597/2808 [00:16<00:57, 38.29it/s]\u001b[A\n",
            " 21%|██▏       | 601/2808 [00:17<00:57, 38.42it/s]\u001b[A\n",
            " 22%|██▏       | 605/2808 [00:17<00:57, 38.42it/s]\u001b[A"
          ],
          "name": "stderr"
        },
        {
          "output_type": "stream",
          "text": [
            "| epoch   2 |   600/ 2808 batches | lr 0.00 | loss  5.21 | ppl   183.25\n"
          ],
          "name": "stdout"
        },
        {
          "output_type": "stream",
          "text": [
            "\n",
            " 22%|██▏       | 609/2808 [00:17<00:57, 38.29it/s]\u001b[A\n",
            " 22%|██▏       | 613/2808 [00:17<00:57, 38.31it/s]\u001b[A\n",
            " 22%|██▏       | 617/2808 [00:17<00:57, 38.37it/s]\u001b[A\n",
            " 22%|██▏       | 621/2808 [00:17<00:56, 38.42it/s]\u001b[A\n",
            " 22%|██▏       | 625/2808 [00:17<00:56, 38.52it/s]\u001b[A\n",
            " 22%|██▏       | 629/2808 [00:17<00:57, 38.16it/s]\u001b[A\n",
            " 23%|██▎       | 633/2808 [00:17<00:56, 38.26it/s]\u001b[A\n",
            " 23%|██▎       | 637/2808 [00:18<00:56, 38.41it/s]\u001b[A\n",
            " 23%|██▎       | 641/2808 [00:18<00:56, 38.34it/s]\u001b[A\n",
            " 23%|██▎       | 645/2808 [00:18<00:56, 38.39it/s]\u001b[A\n",
            " 23%|██▎       | 649/2808 [00:18<00:56, 38.42it/s]\u001b[A\n",
            " 23%|██▎       | 653/2808 [00:18<00:55, 38.53it/s]\u001b[A\n",
            " 23%|██▎       | 657/2808 [00:18<00:56, 38.22it/s]\u001b[A\n",
            " 24%|██▎       | 661/2808 [00:18<00:56, 38.10it/s]\u001b[A\n",
            " 24%|██▎       | 665/2808 [00:18<00:55, 38.36it/s]\u001b[A\n",
            " 24%|██▍       | 669/2808 [00:18<00:55, 38.41it/s]\u001b[A\n",
            " 24%|██▍       | 673/2808 [00:18<00:55, 38.57it/s]\u001b[A\n",
            " 24%|██▍       | 677/2808 [00:19<00:55, 38.67it/s]\u001b[A\n",
            " 24%|██▍       | 681/2808 [00:19<00:54, 38.71it/s]\u001b[A\n",
            " 24%|██▍       | 685/2808 [00:19<00:54, 38.75it/s]\u001b[A\n",
            " 25%|██▍       | 689/2808 [00:19<00:55, 38.50it/s]\u001b[A\n",
            " 25%|██▍       | 693/2808 [00:19<00:55, 37.93it/s]\u001b[A\n",
            " 25%|██▍       | 697/2808 [00:19<00:55, 38.14it/s]\u001b[A\n",
            " 25%|██▍       | 701/2808 [00:19<00:54, 38.34it/s]\u001b[A\n",
            " 25%|██▌       | 705/2808 [00:19<00:55, 38.03it/s]\u001b[A"
          ],
          "name": "stderr"
        },
        {
          "output_type": "stream",
          "text": [
            "| epoch   2 |   700/ 2808 batches | lr 0.00 | loss  5.21 | ppl   182.63\n"
          ],
          "name": "stdout"
        },
        {
          "output_type": "stream",
          "text": [
            "\n",
            " 25%|██▌       | 709/2808 [00:19<00:54, 38.25it/s]\u001b[A\n",
            " 25%|██▌       | 713/2808 [00:20<00:54, 38.43it/s]\u001b[A\n",
            " 26%|██▌       | 717/2808 [00:20<00:54, 38.53it/s]\u001b[A\n",
            " 26%|██▌       | 721/2808 [00:20<00:54, 38.52it/s]\u001b[A\n",
            " 26%|██▌       | 725/2808 [00:20<00:54, 38.39it/s]\u001b[A\n",
            " 26%|██▌       | 729/2808 [00:20<00:54, 38.03it/s]\u001b[A\n",
            " 26%|██▌       | 733/2808 [00:20<00:54, 38.14it/s]\u001b[A\n",
            " 26%|██▌       | 737/2808 [00:20<00:54, 38.20it/s]\u001b[A\n",
            " 26%|██▋       | 741/2808 [00:20<00:53, 38.33it/s]\u001b[A\n",
            " 27%|██▋       | 745/2808 [00:20<00:53, 38.21it/s]\u001b[A\n",
            " 27%|██▋       | 749/2808 [00:20<00:53, 38.30it/s]\u001b[A\n",
            " 27%|██▋       | 753/2808 [00:21<00:53, 38.43it/s]\u001b[A\n",
            " 27%|██▋       | 757/2808 [00:21<00:53, 38.36it/s]\u001b[A\n",
            " 27%|██▋       | 761/2808 [00:21<00:53, 38.31it/s]\u001b[A\n",
            " 27%|██▋       | 765/2808 [00:21<00:53, 38.36it/s]\u001b[A\n",
            " 27%|██▋       | 769/2808 [00:21<00:53, 38.27it/s]\u001b[A\n",
            " 28%|██▊       | 773/2808 [00:21<00:53, 38.36it/s]\u001b[A\n",
            " 28%|██▊       | 777/2808 [00:21<00:53, 38.09it/s]\u001b[A\n",
            " 28%|██▊       | 781/2808 [00:21<00:53, 37.85it/s]\u001b[A\n",
            " 28%|██▊       | 785/2808 [00:21<00:53, 37.97it/s]\u001b[A\n",
            " 28%|██▊       | 789/2808 [00:21<00:53, 38.05it/s]\u001b[A\n",
            " 28%|██▊       | 793/2808 [00:22<00:52, 38.33it/s]\u001b[A\n",
            " 28%|██▊       | 797/2808 [00:22<00:52, 38.37it/s]\u001b[A\n",
            " 29%|██▊       | 801/2808 [00:22<00:52, 38.45it/s]\u001b[A\n",
            " 29%|██▊       | 805/2808 [00:22<00:52, 38.10it/s]\u001b[A"
          ],
          "name": "stderr"
        },
        {
          "output_type": "stream",
          "text": [
            "| epoch   2 |   800/ 2808 batches | lr 0.00 | loss  5.20 | ppl   181.95\n"
          ],
          "name": "stdout"
        },
        {
          "output_type": "stream",
          "text": [
            "\n",
            " 29%|██▉       | 809/2808 [00:22<00:52, 38.29it/s]\u001b[A\n",
            " 29%|██▉       | 813/2808 [00:22<00:52, 38.23it/s]\u001b[A\n",
            " 29%|██▉       | 817/2808 [00:22<00:52, 38.05it/s]\u001b[A\n",
            " 29%|██▉       | 821/2808 [00:22<00:53, 37.48it/s]\u001b[A\n",
            " 29%|██▉       | 825/2808 [00:22<00:52, 37.74it/s]\u001b[A\n",
            " 30%|██▉       | 829/2808 [00:23<00:52, 37.90it/s]\u001b[A\n",
            " 30%|██▉       | 833/2808 [00:23<00:51, 38.12it/s]\u001b[A\n",
            " 30%|██▉       | 837/2808 [00:23<00:51, 37.98it/s]\u001b[A\n",
            " 30%|██▉       | 841/2808 [00:23<00:51, 37.96it/s]\u001b[A\n",
            " 30%|███       | 845/2808 [00:23<00:52, 37.68it/s]\u001b[A\n",
            " 30%|███       | 849/2808 [00:23<00:52, 37.64it/s]\u001b[A\n",
            " 30%|███       | 853/2808 [00:23<00:51, 37.90it/s]\u001b[A\n",
            " 31%|███       | 857/2808 [00:23<00:51, 38.09it/s]\u001b[A\n",
            " 31%|███       | 861/2808 [00:23<00:51, 38.00it/s]\u001b[A\n",
            " 31%|███       | 865/2808 [00:23<00:51, 38.01it/s]\u001b[A\n",
            " 31%|███       | 869/2808 [00:24<00:50, 38.07it/s]\u001b[A\n",
            " 31%|███       | 873/2808 [00:24<00:50, 38.00it/s]\u001b[A\n",
            " 31%|███       | 877/2808 [00:24<00:50, 38.07it/s]\u001b[A\n",
            " 31%|███▏      | 881/2808 [00:24<00:50, 38.12it/s]\u001b[A\n",
            " 32%|███▏      | 885/2808 [00:24<00:50, 37.81it/s]\u001b[A\n",
            " 32%|███▏      | 889/2808 [00:24<00:50, 37.92it/s]\u001b[A\n",
            " 32%|███▏      | 893/2808 [00:24<00:50, 37.95it/s]\u001b[A\n",
            " 32%|███▏      | 897/2808 [00:24<00:50, 38.06it/s]\u001b[A\n",
            " 32%|███▏      | 901/2808 [00:24<00:50, 38.04it/s]\u001b[A\n",
            " 32%|███▏      | 905/2808 [00:25<00:50, 37.58it/s]\u001b[A"
          ],
          "name": "stderr"
        },
        {
          "output_type": "stream",
          "text": [
            "| epoch   2 |   900/ 2808 batches | lr 0.00 | loss  5.20 | ppl   181.10\n"
          ],
          "name": "stdout"
        },
        {
          "output_type": "stream",
          "text": [
            "\n",
            " 32%|███▏      | 909/2808 [00:25<00:50, 37.75it/s]\u001b[A\n",
            " 33%|███▎      | 913/2808 [00:25<00:50, 37.70it/s]\u001b[A\n",
            " 33%|███▎      | 917/2808 [00:25<00:50, 37.80it/s]\u001b[A\n",
            " 33%|███▎      | 921/2808 [00:25<00:50, 37.45it/s]\u001b[A\n",
            " 33%|███▎      | 925/2808 [00:25<00:50, 37.60it/s]\u001b[A\n",
            " 33%|███▎      | 929/2808 [00:25<00:50, 37.56it/s]\u001b[A\n",
            " 33%|███▎      | 933/2808 [00:25<00:49, 37.52it/s]\u001b[A\n",
            " 33%|███▎      | 937/2808 [00:25<00:49, 37.85it/s]\u001b[A\n",
            " 34%|███▎      | 941/2808 [00:26<00:49, 37.43it/s]\u001b[A\n",
            " 34%|███▎      | 945/2808 [00:26<00:49, 37.75it/s]\u001b[A\n",
            " 34%|███▍      | 949/2808 [00:26<00:48, 38.08it/s]\u001b[A\n",
            " 34%|███▍      | 953/2808 [00:26<00:48, 38.14it/s]\u001b[A\n",
            " 34%|███▍      | 957/2808 [00:26<00:48, 38.26it/s]\u001b[A\n",
            " 34%|███▍      | 961/2808 [00:26<00:48, 38.09it/s]\u001b[A\n",
            " 34%|███▍      | 965/2808 [00:26<00:48, 37.81it/s]\u001b[A\n",
            " 35%|███▍      | 969/2808 [00:26<00:48, 38.01it/s]\u001b[A\n",
            " 35%|███▍      | 973/2808 [00:26<00:48, 38.00it/s]\u001b[A\n",
            " 35%|███▍      | 977/2808 [00:26<00:48, 38.05it/s]\u001b[A\n",
            " 35%|███▍      | 981/2808 [00:27<00:47, 38.28it/s]\u001b[A\n",
            " 35%|███▌      | 985/2808 [00:27<00:47, 38.46it/s]\u001b[A\n",
            " 35%|███▌      | 989/2808 [00:27<00:47, 38.24it/s]\u001b[A\n",
            " 35%|███▌      | 993/2808 [00:27<00:47, 38.37it/s]\u001b[A\n",
            " 36%|███▌      | 997/2808 [00:27<00:47, 38.46it/s]\u001b[A\n",
            " 36%|███▌      | 1001/2808 [00:27<00:47, 38.41it/s]\u001b[A\n",
            " 36%|███▌      | 1005/2808 [00:27<00:46, 38.53it/s]\u001b[A"
          ],
          "name": "stderr"
        },
        {
          "output_type": "stream",
          "text": [
            "| epoch   2 |  1000/ 2808 batches | lr 0.00 | loss  5.20 | ppl   180.37\n"
          ],
          "name": "stdout"
        },
        {
          "output_type": "stream",
          "text": [
            "\n",
            " 36%|███▌      | 1009/2808 [00:27<00:46, 38.40it/s]\u001b[A\n",
            " 36%|███▌      | 1013/2808 [00:27<00:47, 38.14it/s]\u001b[A\n",
            " 36%|███▌      | 1017/2808 [00:27<00:47, 37.56it/s]\u001b[A\n",
            " 36%|███▋      | 1021/2808 [00:28<00:47, 37.61it/s]\u001b[A\n",
            " 37%|███▋      | 1025/2808 [00:28<00:47, 37.83it/s]\u001b[A\n",
            " 37%|███▋      | 1029/2808 [00:28<00:46, 37.94it/s]\u001b[A\n",
            " 37%|███▋      | 1033/2808 [00:28<00:46, 38.03it/s]\u001b[A\n",
            " 37%|███▋      | 1037/2808 [00:28<00:46, 37.77it/s]\u001b[A\n",
            " 37%|███▋      | 1041/2808 [00:28<00:46, 37.80it/s]\u001b[A\n",
            " 37%|███▋      | 1045/2808 [00:28<00:46, 37.59it/s]\u001b[A\n",
            " 37%|███▋      | 1049/2808 [00:28<00:46, 37.67it/s]\u001b[A\n",
            " 38%|███▊      | 1053/2808 [00:28<00:46, 37.83it/s]\u001b[A\n",
            " 38%|███▊      | 1057/2808 [00:29<00:46, 38.00it/s]\u001b[A\n",
            " 38%|███▊      | 1061/2808 [00:29<00:45, 38.20it/s]\u001b[A\n",
            " 38%|███▊      | 1065/2808 [00:29<00:45, 38.21it/s]\u001b[A\n",
            " 38%|███▊      | 1069/2808 [00:29<00:45, 38.35it/s]\u001b[A\n",
            " 38%|███▊      | 1073/2808 [00:29<00:45, 38.08it/s]\u001b[A\n",
            " 38%|███▊      | 1077/2808 [00:29<00:46, 37.40it/s]\u001b[A\n",
            " 38%|███▊      | 1081/2808 [00:29<00:45, 37.63it/s]\u001b[A\n",
            " 39%|███▊      | 1085/2808 [00:29<00:45, 37.77it/s]\u001b[A\n",
            " 39%|███▉      | 1089/2808 [00:29<00:45, 37.94it/s]\u001b[A\n",
            " 39%|███▉      | 1093/2808 [00:29<00:45, 38.09it/s]\u001b[A\n",
            " 39%|███▉      | 1097/2808 [00:30<00:44, 38.25it/s]\u001b[A\n",
            " 39%|███▉      | 1101/2808 [00:30<00:44, 38.38it/s]\u001b[A\n",
            " 39%|███▉      | 1105/2808 [00:30<00:44, 38.18it/s]\u001b[A"
          ],
          "name": "stderr"
        },
        {
          "output_type": "stream",
          "text": [
            "| epoch   2 |  1100/ 2808 batches | lr 0.00 | loss  5.19 | ppl   179.35\n"
          ],
          "name": "stdout"
        },
        {
          "output_type": "stream",
          "text": [
            "\n",
            " 39%|███▉      | 1109/2808 [00:30<00:44, 38.07it/s]\u001b[A\n",
            " 40%|███▉      | 1113/2808 [00:30<00:44, 38.06it/s]\u001b[A\n",
            " 40%|███▉      | 1117/2808 [00:30<00:44, 38.00it/s]\u001b[A\n",
            " 40%|███▉      | 1121/2808 [00:30<00:44, 37.90it/s]\u001b[A\n",
            " 40%|████      | 1125/2808 [00:30<00:44, 37.95it/s]\u001b[A\n",
            " 40%|████      | 1129/2808 [00:30<00:44, 37.87it/s]\u001b[A\n",
            " 40%|████      | 1133/2808 [00:31<00:44, 37.52it/s]\u001b[A\n",
            " 40%|████      | 1137/2808 [00:31<00:44, 37.29it/s]\u001b[A\n",
            " 41%|████      | 1141/2808 [00:31<00:44, 37.49it/s]\u001b[A\n",
            " 41%|████      | 1145/2808 [00:31<00:44, 37.72it/s]\u001b[A\n",
            " 41%|████      | 1149/2808 [00:31<00:43, 37.91it/s]\u001b[A\n",
            " 41%|████      | 1153/2808 [00:31<00:43, 37.89it/s]\u001b[A\n",
            " 41%|████      | 1157/2808 [00:31<00:43, 37.69it/s]\u001b[A\n",
            " 41%|████▏     | 1161/2808 [00:31<00:43, 37.80it/s]\u001b[A\n",
            " 41%|████▏     | 1165/2808 [00:31<00:43, 37.82it/s]\u001b[A\n",
            " 42%|████▏     | 1169/2808 [00:32<00:43, 37.91it/s]\u001b[A\n",
            " 42%|████▏     | 1173/2808 [00:32<00:43, 37.86it/s]\u001b[A\n",
            " 42%|████▏     | 1177/2808 [00:32<00:42, 37.99it/s]\u001b[A\n",
            " 42%|████▏     | 1181/2808 [00:32<00:43, 37.66it/s]\u001b[A\n",
            " 42%|████▏     | 1185/2808 [00:32<00:42, 37.90it/s]\u001b[A\n",
            " 42%|████▏     | 1189/2808 [00:32<00:42, 38.15it/s]\u001b[A\n",
            " 42%|████▏     | 1193/2808 [00:32<00:42, 37.97it/s]\u001b[A\n",
            " 43%|████▎     | 1197/2808 [00:32<00:42, 37.97it/s]\u001b[A\n",
            " 43%|████▎     | 1201/2808 [00:32<00:42, 38.03it/s]\u001b[A\n",
            " 43%|████▎     | 1205/2808 [00:32<00:42, 38.07it/s]\u001b[A"
          ],
          "name": "stderr"
        },
        {
          "output_type": "stream",
          "text": [
            "| epoch   2 |  1200/ 2808 batches | lr 0.00 | loss  5.19 | ppl   178.69\n"
          ],
          "name": "stdout"
        },
        {
          "output_type": "stream",
          "text": [
            "\n",
            " 43%|████▎     | 1209/2808 [00:33<00:41, 38.08it/s]\u001b[A\n",
            " 43%|████▎     | 1213/2808 [00:33<00:41, 38.15it/s]\u001b[A\n",
            " 43%|████▎     | 1217/2808 [00:33<00:41, 38.13it/s]\u001b[A\n",
            " 43%|████▎     | 1221/2808 [00:33<00:41, 38.19it/s]\u001b[A\n",
            " 44%|████▎     | 1225/2808 [00:33<00:41, 38.11it/s]\u001b[A\n",
            " 44%|████▍     | 1229/2808 [00:33<00:41, 38.25it/s]\u001b[A\n",
            " 44%|████▍     | 1233/2808 [00:33<00:41, 38.39it/s]\u001b[A\n",
            " 44%|████▍     | 1237/2808 [00:33<00:40, 38.41it/s]\u001b[A\n",
            " 44%|████▍     | 1241/2808 [00:33<00:41, 37.62it/s]\u001b[A\n",
            " 44%|████▍     | 1245/2808 [00:34<00:41, 37.89it/s]\u001b[A\n",
            " 44%|████▍     | 1249/2808 [00:34<00:41, 37.92it/s]\u001b[A\n",
            " 45%|████▍     | 1253/2808 [00:34<00:40, 38.12it/s]\u001b[A\n",
            " 45%|████▍     | 1257/2808 [00:34<00:40, 37.83it/s]\u001b[A\n",
            " 45%|████▍     | 1261/2808 [00:34<00:41, 37.67it/s]\u001b[A\n",
            " 45%|████▌     | 1265/2808 [00:34<00:40, 37.89it/s]\u001b[A\n",
            " 45%|████▌     | 1269/2808 [00:34<00:40, 37.88it/s]\u001b[A\n",
            " 45%|████▌     | 1273/2808 [00:34<00:40, 37.57it/s]\u001b[A\n",
            " 45%|████▌     | 1277/2808 [00:34<00:40, 37.67it/s]\u001b[A\n",
            " 46%|████▌     | 1281/2808 [00:34<00:40, 37.98it/s]\u001b[A\n",
            " 46%|████▌     | 1285/2808 [00:35<00:39, 38.22it/s]\u001b[A\n",
            " 46%|████▌     | 1289/2808 [00:35<00:39, 38.07it/s]\u001b[A\n",
            " 46%|████▌     | 1293/2808 [00:35<00:40, 37.71it/s]\u001b[A\n",
            " 46%|████▌     | 1297/2808 [00:35<00:40, 37.68it/s]\u001b[A\n",
            " 46%|████▋     | 1301/2808 [00:35<00:39, 37.99it/s]\u001b[A\n",
            " 46%|████▋     | 1305/2808 [00:35<00:39, 38.19it/s]\u001b[A"
          ],
          "name": "stderr"
        },
        {
          "output_type": "stream",
          "text": [
            "| epoch   2 |  1300/ 2808 batches | lr 0.00 | loss  5.18 | ppl   177.99\n"
          ],
          "name": "stdout"
        },
        {
          "output_type": "stream",
          "text": [
            "\n",
            " 47%|████▋     | 1309/2808 [00:35<00:39, 38.30it/s]\u001b[A\n",
            " 47%|████▋     | 1313/2808 [00:35<00:38, 38.40it/s]\u001b[A\n",
            " 47%|████▋     | 1317/2808 [00:35<00:39, 38.19it/s]\u001b[A\n",
            " 47%|████▋     | 1321/2808 [00:36<00:38, 38.38it/s]\u001b[A\n",
            " 47%|████▋     | 1325/2808 [00:36<00:38, 38.13it/s]\u001b[A\n",
            " 47%|████▋     | 1329/2808 [00:36<00:38, 38.29it/s]\u001b[A\n",
            " 47%|████▋     | 1333/2808 [00:36<00:38, 38.06it/s]\u001b[A\n",
            " 48%|████▊     | 1337/2808 [00:36<00:38, 37.84it/s]\u001b[A\n",
            " 48%|████▊     | 1341/2808 [00:36<00:38, 38.06it/s]\u001b[A\n",
            " 48%|████▊     | 1345/2808 [00:36<00:38, 37.99it/s]\u001b[A\n",
            " 48%|████▊     | 1349/2808 [00:36<00:38, 37.82it/s]\u001b[A\n",
            " 48%|████▊     | 1353/2808 [00:36<00:38, 38.01it/s]\u001b[A\n",
            " 48%|████▊     | 1357/2808 [00:36<00:38, 38.12it/s]\u001b[A\n",
            " 48%|████▊     | 1361/2808 [00:37<00:37, 38.28it/s]\u001b[A\n",
            " 49%|████▊     | 1365/2808 [00:37<00:37, 38.25it/s]\u001b[A\n",
            " 49%|████▉     | 1369/2808 [00:37<00:38, 37.68it/s]\u001b[A\n",
            " 49%|████▉     | 1373/2808 [00:37<00:37, 37.91it/s]\u001b[A\n",
            " 49%|████▉     | 1377/2808 [00:37<00:37, 38.13it/s]\u001b[A\n",
            " 49%|████▉     | 1381/2808 [00:37<00:37, 38.24it/s]\u001b[A\n",
            " 49%|████▉     | 1385/2808 [00:37<00:37, 38.34it/s]\u001b[A\n",
            " 49%|████▉     | 1389/2808 [00:37<00:37, 38.14it/s]\u001b[A\n",
            " 50%|████▉     | 1393/2808 [00:37<00:36, 38.28it/s]\u001b[A\n",
            " 50%|████▉     | 1397/2808 [00:37<00:36, 38.16it/s]\u001b[A\n",
            " 50%|████▉     | 1401/2808 [00:38<00:36, 38.30it/s]\u001b[A\n",
            " 50%|█████     | 1405/2808 [00:38<00:36, 38.15it/s]\u001b[A"
          ],
          "name": "stderr"
        },
        {
          "output_type": "stream",
          "text": [
            "| epoch   2 |  1400/ 2808 batches | lr 0.00 | loss  5.18 | ppl   177.25\n"
          ],
          "name": "stdout"
        },
        {
          "output_type": "stream",
          "text": [
            "\n",
            " 50%|█████     | 1409/2808 [00:38<00:36, 38.11it/s]\u001b[A\n",
            " 50%|█████     | 1413/2808 [00:38<00:36, 38.16it/s]\u001b[A\n",
            " 50%|█████     | 1417/2808 [00:38<00:36, 37.97it/s]\u001b[A\n",
            " 51%|█████     | 1421/2808 [00:38<00:36, 38.20it/s]\u001b[A\n",
            " 51%|█████     | 1425/2808 [00:38<00:35, 38.43it/s]\u001b[A\n",
            " 51%|█████     | 1429/2808 [00:38<00:35, 38.54it/s]\u001b[A\n",
            " 51%|█████     | 1433/2808 [00:38<00:35, 38.54it/s]\u001b[A\n",
            " 51%|█████     | 1437/2808 [00:39<00:35, 38.53it/s]\u001b[A\n",
            " 51%|█████▏    | 1441/2808 [00:39<00:35, 38.56it/s]\u001b[A\n",
            " 51%|█████▏    | 1445/2808 [00:39<00:35, 38.53it/s]\u001b[A\n",
            " 52%|█████▏    | 1449/2808 [00:39<00:35, 38.62it/s]\u001b[A\n",
            " 52%|█████▏    | 1453/2808 [00:39<00:35, 38.60it/s]\u001b[A\n",
            " 52%|█████▏    | 1457/2808 [00:39<00:35, 38.59it/s]\u001b[A\n",
            " 52%|█████▏    | 1461/2808 [00:39<00:34, 38.69it/s]\u001b[A\n",
            " 52%|█████▏    | 1465/2808 [00:39<00:34, 38.67it/s]\u001b[A\n",
            " 52%|█████▏    | 1469/2808 [00:39<00:35, 38.23it/s]\u001b[A\n",
            " 52%|█████▏    | 1473/2808 [00:39<00:35, 37.92it/s]\u001b[A\n",
            " 53%|█████▎    | 1477/2808 [00:40<00:35, 37.82it/s]\u001b[A\n",
            " 53%|█████▎    | 1481/2808 [00:40<00:34, 38.01it/s]\u001b[A\n",
            " 53%|█████▎    | 1485/2808 [00:40<00:34, 37.85it/s]\u001b[A\n",
            " 53%|█████▎    | 1489/2808 [00:40<00:35, 37.68it/s]\u001b[A\n",
            " 53%|█████▎    | 1493/2808 [00:40<00:34, 37.90it/s]\u001b[A\n",
            " 53%|█████▎    | 1497/2808 [00:40<00:34, 38.21it/s]\u001b[A\n",
            " 53%|█████▎    | 1501/2808 [00:40<00:34, 37.82it/s]\u001b[A\n",
            " 54%|█████▎    | 1505/2808 [00:40<00:34, 37.72it/s]\u001b[A"
          ],
          "name": "stderr"
        },
        {
          "output_type": "stream",
          "text": [
            "| epoch   2 |  1500/ 2808 batches | lr 0.00 | loss  5.17 | ppl   176.27\n"
          ],
          "name": "stdout"
        },
        {
          "output_type": "stream",
          "text": [
            "\n",
            " 54%|█████▎    | 1509/2808 [00:40<00:34, 37.91it/s]\u001b[A\n",
            " 54%|█████▍    | 1513/2808 [00:41<00:33, 38.13it/s]\u001b[A\n",
            " 54%|█████▍    | 1517/2808 [00:41<00:33, 38.26it/s]\u001b[A\n",
            " 54%|█████▍    | 1521/2808 [00:41<00:33, 38.17it/s]\u001b[A\n",
            " 54%|█████▍    | 1525/2808 [00:41<00:34, 37.71it/s]\u001b[A\n",
            " 54%|█████▍    | 1529/2808 [00:41<00:34, 37.53it/s]\u001b[A\n",
            " 55%|█████▍    | 1533/2808 [00:41<00:34, 37.43it/s]\u001b[A\n",
            " 55%|█████▍    | 1537/2808 [00:41<00:33, 37.38it/s]\u001b[A\n",
            " 55%|█████▍    | 1541/2808 [00:41<00:33, 37.36it/s]\u001b[A\n",
            " 55%|█████▌    | 1545/2808 [00:41<00:33, 37.68it/s]\u001b[A\n",
            " 55%|█████▌    | 1549/2808 [00:41<00:33, 37.80it/s]\u001b[A\n",
            " 55%|█████▌    | 1553/2808 [00:42<00:33, 37.76it/s]\u001b[A\n",
            " 55%|█████▌    | 1557/2808 [00:42<00:32, 37.91it/s]\u001b[A\n",
            " 56%|█████▌    | 1561/2808 [00:42<00:32, 38.06it/s]\u001b[A\n",
            " 56%|█████▌    | 1565/2808 [00:42<00:32, 38.28it/s]\u001b[A\n",
            " 56%|█████▌    | 1569/2808 [00:42<00:32, 38.17it/s]\u001b[A\n",
            " 56%|█████▌    | 1573/2808 [00:42<00:32, 38.31it/s]\u001b[A\n",
            " 56%|█████▌    | 1577/2808 [00:42<00:32, 38.33it/s]\u001b[A\n",
            " 56%|█████▋    | 1581/2808 [00:42<00:31, 38.54it/s]\u001b[A\n",
            " 56%|█████▋    | 1585/2808 [00:42<00:31, 38.47it/s]\u001b[A\n",
            " 57%|█████▋    | 1589/2808 [00:43<00:31, 38.28it/s]\u001b[A\n",
            " 57%|█████▋    | 1593/2808 [00:43<00:31, 38.47it/s]\u001b[A\n",
            " 57%|█████▋    | 1597/2808 [00:43<00:31, 38.49it/s]\u001b[A\n",
            " 57%|█████▋    | 1601/2808 [00:43<00:31, 38.52it/s]\u001b[A\n",
            " 57%|█████▋    | 1605/2808 [00:43<00:31, 38.19it/s]\u001b[A"
          ],
          "name": "stderr"
        },
        {
          "output_type": "stream",
          "text": [
            "| epoch   2 |  1600/ 2808 batches | lr 0.00 | loss  5.17 | ppl   175.77\n"
          ],
          "name": "stdout"
        },
        {
          "output_type": "stream",
          "text": [
            "\n",
            " 57%|█████▋    | 1609/2808 [00:43<00:31, 38.40it/s]\u001b[A\n",
            " 57%|█████▋    | 1613/2808 [00:43<00:30, 38.60it/s]\u001b[A\n",
            " 58%|█████▊    | 1617/2808 [00:43<00:31, 38.41it/s]\u001b[A\n",
            " 58%|█████▊    | 1621/2808 [00:43<00:30, 38.53it/s]\u001b[A\n",
            " 58%|█████▊    | 1625/2808 [00:43<00:30, 38.21it/s]\u001b[A\n",
            " 58%|█████▊    | 1629/2808 [00:44<00:30, 38.30it/s]\u001b[A\n",
            " 58%|█████▊    | 1633/2808 [00:44<00:30, 38.42it/s]\u001b[A\n",
            " 58%|█████▊    | 1637/2808 [00:44<00:30, 38.42it/s]\u001b[A\n",
            " 58%|█████▊    | 1641/2808 [00:44<00:30, 38.23it/s]\u001b[A\n",
            " 59%|█████▊    | 1645/2808 [00:44<00:30, 37.75it/s]\u001b[A\n",
            " 59%|█████▊    | 1649/2808 [00:44<00:30, 37.88it/s]\u001b[A\n",
            " 59%|█████▉    | 1653/2808 [00:44<00:30, 38.05it/s]\u001b[A\n",
            " 59%|█████▉    | 1657/2808 [00:44<00:30, 37.95it/s]\u001b[A\n",
            " 59%|█████▉    | 1661/2808 [00:44<00:30, 38.20it/s]\u001b[A\n",
            " 59%|█████▉    | 1665/2808 [00:45<00:29, 38.32it/s]\u001b[A\n",
            " 59%|█████▉    | 1669/2808 [00:45<00:29, 38.15it/s]\u001b[A\n",
            " 60%|█████▉    | 1673/2808 [00:45<00:29, 38.37it/s]\u001b[A\n",
            " 60%|█████▉    | 1677/2808 [00:45<00:29, 38.19it/s]\u001b[A\n",
            " 60%|█████▉    | 1681/2808 [00:45<00:29, 38.28it/s]\u001b[A\n",
            " 60%|██████    | 1685/2808 [00:45<00:29, 38.40it/s]\u001b[A\n",
            " 60%|██████    | 1689/2808 [00:45<00:29, 38.49it/s]\u001b[A\n",
            " 60%|██████    | 1693/2808 [00:45<00:28, 38.49it/s]\u001b[A\n",
            " 60%|██████    | 1697/2808 [00:45<00:28, 38.33it/s]\u001b[A\n",
            " 61%|██████    | 1701/2808 [00:45<00:28, 38.57it/s]\u001b[A\n",
            " 61%|██████    | 1705/2808 [00:46<00:28, 38.37it/s]\u001b[A"
          ],
          "name": "stderr"
        },
        {
          "output_type": "stream",
          "text": [
            "| epoch   2 |  1700/ 2808 batches | lr 0.00 | loss  5.16 | ppl   174.89\n"
          ],
          "name": "stdout"
        },
        {
          "output_type": "stream",
          "text": [
            "\n",
            " 61%|██████    | 1709/2808 [00:46<00:28, 37.94it/s]\u001b[A\n",
            " 61%|██████    | 1713/2808 [00:46<00:28, 38.18it/s]\u001b[A\n",
            " 61%|██████    | 1717/2808 [00:46<00:28, 38.24it/s]\u001b[A\n",
            " 61%|██████▏   | 1721/2808 [00:46<00:28, 38.11it/s]\u001b[A\n",
            " 61%|██████▏   | 1725/2808 [00:46<00:28, 38.18it/s]\u001b[A\n",
            " 62%|██████▏   | 1729/2808 [00:46<00:28, 38.19it/s]\u001b[A\n",
            " 62%|██████▏   | 1733/2808 [00:46<00:28, 38.07it/s]\u001b[A\n",
            " 62%|██████▏   | 1737/2808 [00:46<00:28, 37.92it/s]\u001b[A\n",
            " 62%|██████▏   | 1741/2808 [00:47<00:27, 38.17it/s]\u001b[A\n",
            " 62%|██████▏   | 1745/2808 [00:47<00:27, 38.39it/s]\u001b[A\n",
            " 62%|██████▏   | 1749/2808 [00:47<00:27, 38.50it/s]\u001b[A\n",
            " 62%|██████▏   | 1753/2808 [00:47<00:27, 38.62it/s]\u001b[A\n",
            " 63%|██████▎   | 1757/2808 [00:47<00:27, 38.52it/s]\u001b[A\n",
            " 63%|██████▎   | 1761/2808 [00:47<00:27, 38.50it/s]\u001b[A\n",
            " 63%|██████▎   | 1765/2808 [00:47<00:27, 38.43it/s]\u001b[A\n",
            " 63%|██████▎   | 1769/2808 [00:47<00:27, 38.06it/s]\u001b[A\n",
            " 63%|██████▎   | 1773/2808 [00:47<00:27, 38.12it/s]\u001b[A\n",
            " 63%|██████▎   | 1777/2808 [00:47<00:27, 37.94it/s]\u001b[A\n",
            " 63%|██████▎   | 1781/2808 [00:48<00:26, 38.11it/s]\u001b[A\n",
            " 64%|██████▎   | 1785/2808 [00:48<00:26, 38.19it/s]\u001b[A\n",
            " 64%|██████▎   | 1789/2808 [00:48<00:26, 38.26it/s]\u001b[A\n",
            " 64%|██████▍   | 1793/2808 [00:48<00:26, 38.41it/s]\u001b[A\n",
            " 64%|██████▍   | 1797/2808 [00:48<00:26, 37.88it/s]\u001b[A\n",
            " 64%|██████▍   | 1801/2808 [00:48<00:26, 37.83it/s]\u001b[A\n",
            " 64%|██████▍   | 1805/2808 [00:48<00:26, 37.81it/s]\u001b[A"
          ],
          "name": "stderr"
        },
        {
          "output_type": "stream",
          "text": [
            "| epoch   2 |  1800/ 2808 batches | lr 0.00 | loss  5.16 | ppl   173.71\n"
          ],
          "name": "stdout"
        },
        {
          "output_type": "stream",
          "text": [
            "\n",
            " 64%|██████▍   | 1809/2808 [00:48<00:26, 37.95it/s]\u001b[A\n",
            " 65%|██████▍   | 1813/2808 [00:48<00:26, 37.62it/s]\u001b[A\n",
            " 65%|██████▍   | 1817/2808 [00:49<00:26, 37.48it/s]\u001b[A\n",
            " 65%|██████▍   | 1821/2808 [00:49<00:26, 37.81it/s]\u001b[A\n",
            " 65%|██████▍   | 1825/2808 [00:49<00:25, 38.02it/s]\u001b[A\n",
            " 65%|██████▌   | 1829/2808 [00:49<00:25, 38.17it/s]\u001b[A\n",
            " 65%|██████▌   | 1833/2808 [00:49<00:25, 37.96it/s]\u001b[A\n",
            " 65%|██████▌   | 1837/2808 [00:49<00:25, 37.81it/s]\u001b[A\n",
            " 66%|██████▌   | 1841/2808 [00:49<00:25, 38.12it/s]\u001b[A\n",
            " 66%|██████▌   | 1845/2808 [00:49<00:25, 38.27it/s]\u001b[A\n",
            " 66%|██████▌   | 1849/2808 [00:49<00:25, 37.91it/s]\u001b[A\n",
            " 66%|██████▌   | 1853/2808 [00:49<00:25, 38.19it/s]\u001b[A\n",
            " 66%|██████▌   | 1857/2808 [00:50<00:24, 38.46it/s]\u001b[A\n",
            " 66%|██████▋   | 1861/2808 [00:50<00:24, 38.46it/s]\u001b[A\n",
            " 66%|██████▋   | 1865/2808 [00:50<00:24, 38.15it/s]\u001b[A\n",
            " 67%|██████▋   | 1869/2808 [00:50<00:24, 38.22it/s]\u001b[A\n",
            " 67%|██████▋   | 1873/2808 [00:50<00:24, 37.89it/s]\u001b[A\n",
            " 67%|██████▋   | 1877/2808 [00:50<00:24, 37.76it/s]\u001b[A\n",
            " 67%|██████▋   | 1881/2808 [00:50<00:24, 38.11it/s]\u001b[A\n",
            " 67%|██████▋   | 1885/2808 [00:50<00:24, 38.18it/s]\u001b[A\n",
            " 67%|██████▋   | 1889/2808 [00:50<00:24, 38.20it/s]\u001b[A\n",
            " 67%|██████▋   | 1893/2808 [00:50<00:24, 37.93it/s]\u001b[A\n",
            " 68%|██████▊   | 1897/2808 [00:51<00:24, 37.79it/s]\u001b[A\n",
            " 68%|██████▊   | 1901/2808 [00:51<00:23, 38.13it/s]\u001b[A\n",
            " 68%|██████▊   | 1905/2808 [00:51<00:23, 38.31it/s]\u001b[A"
          ],
          "name": "stderr"
        },
        {
          "output_type": "stream",
          "text": [
            "| epoch   2 |  1900/ 2808 batches | lr 0.00 | loss  5.15 | ppl   173.19\n"
          ],
          "name": "stdout"
        },
        {
          "output_type": "stream",
          "text": [
            "\n",
            " 68%|██████▊   | 1909/2808 [00:51<00:23, 38.47it/s]\u001b[A\n",
            " 68%|██████▊   | 1913/2808 [00:51<00:23, 38.24it/s]\u001b[A\n",
            " 68%|██████▊   | 1917/2808 [00:51<00:23, 38.41it/s]\u001b[A\n",
            " 68%|██████▊   | 1921/2808 [00:51<00:23, 38.51it/s]\u001b[A\n",
            " 69%|██████▊   | 1925/2808 [00:51<00:22, 38.53it/s]\u001b[A\n",
            " 69%|██████▊   | 1929/2808 [00:51<00:22, 38.52it/s]\u001b[A\n",
            " 69%|██████▉   | 1933/2808 [00:52<00:22, 38.17it/s]\u001b[A\n",
            " 69%|██████▉   | 1937/2808 [00:52<00:22, 38.38it/s]\u001b[A\n",
            " 69%|██████▉   | 1941/2808 [00:52<00:22, 38.11it/s]\u001b[A\n",
            " 69%|██████▉   | 1945/2808 [00:52<00:22, 38.17it/s]\u001b[A\n",
            " 69%|██████▉   | 1949/2808 [00:52<00:22, 38.33it/s]\u001b[A\n",
            " 70%|██████▉   | 1953/2808 [00:52<00:22, 38.02it/s]\u001b[A\n",
            " 70%|██████▉   | 1957/2808 [00:52<00:22, 37.98it/s]\u001b[A\n",
            " 70%|██████▉   | 1961/2808 [00:52<00:22, 38.09it/s]\u001b[A\n",
            " 70%|██████▉   | 1965/2808 [00:52<00:22, 37.54it/s]\u001b[A\n",
            " 70%|███████   | 1969/2808 [00:52<00:22, 37.68it/s]\u001b[A\n",
            " 70%|███████   | 1973/2808 [00:53<00:22, 37.79it/s]\u001b[A\n",
            " 70%|███████   | 1977/2808 [00:53<00:22, 37.54it/s]\u001b[A\n",
            " 71%|███████   | 1981/2808 [00:53<00:21, 37.83it/s]\u001b[A\n",
            " 71%|███████   | 1985/2808 [00:53<00:21, 38.08it/s]\u001b[A\n",
            " 71%|███████   | 1989/2808 [00:53<00:21, 38.20it/s]\u001b[A\n",
            " 71%|███████   | 1993/2808 [00:53<00:21, 37.60it/s]\u001b[A\n",
            " 71%|███████   | 1997/2808 [00:53<00:21, 37.49it/s]\u001b[A\n",
            " 71%|███████▏  | 2001/2808 [00:53<00:21, 37.69it/s]\u001b[A\n",
            " 71%|███████▏  | 2005/2808 [00:53<00:21, 37.47it/s]\u001b[A"
          ],
          "name": "stderr"
        },
        {
          "output_type": "stream",
          "text": [
            "| epoch   2 |  2000/ 2808 batches | lr 0.00 | loss  5.15 | ppl   172.37\n"
          ],
          "name": "stdout"
        },
        {
          "output_type": "stream",
          "text": [
            "\n",
            " 72%|███████▏  | 2009/2808 [00:54<00:21, 37.81it/s]\u001b[A\n",
            " 72%|███████▏  | 2013/2808 [00:54<00:20, 38.01it/s]\u001b[A\n",
            " 72%|███████▏  | 2017/2808 [00:54<00:20, 38.25it/s]\u001b[A\n",
            " 72%|███████▏  | 2021/2808 [00:54<00:20, 38.48it/s]\u001b[A\n",
            " 72%|███████▏  | 2025/2808 [00:54<00:20, 38.58it/s]\u001b[A\n",
            " 72%|███████▏  | 2029/2808 [00:54<00:20, 38.60it/s]\u001b[A\n",
            " 72%|███████▏  | 2033/2808 [00:54<00:20, 37.98it/s]\u001b[A\n",
            " 73%|███████▎  | 2037/2808 [00:54<00:20, 37.40it/s]\u001b[A\n",
            " 73%|███████▎  | 2041/2808 [00:54<00:20, 37.34it/s]\u001b[A\n",
            " 73%|███████▎  | 2045/2808 [00:55<00:20, 37.18it/s]\u001b[A\n",
            " 73%|███████▎  | 2049/2808 [00:55<00:20, 37.56it/s]\u001b[A\n",
            " 73%|███████▎  | 2053/2808 [00:55<00:20, 37.62it/s]\u001b[A\n",
            " 73%|███████▎  | 2057/2808 [00:55<00:19, 37.80it/s]\u001b[A\n",
            " 73%|███████▎  | 2061/2808 [00:55<00:19, 37.98it/s]\u001b[A\n",
            " 74%|███████▎  | 2065/2808 [00:55<00:19, 38.15it/s]\u001b[A\n",
            " 74%|███████▎  | 2069/2808 [00:55<00:19, 37.84it/s]\u001b[A\n",
            " 74%|███████▍  | 2073/2808 [00:55<00:19, 38.15it/s]\u001b[A\n",
            " 74%|███████▍  | 2077/2808 [00:55<00:19, 38.25it/s]\u001b[A\n",
            " 74%|███████▍  | 2081/2808 [00:55<00:19, 38.25it/s]\u001b[A\n",
            " 74%|███████▍  | 2085/2808 [00:56<00:18, 38.47it/s]\u001b[A\n",
            " 74%|███████▍  | 2089/2808 [00:56<00:18, 38.31it/s]\u001b[A\n",
            " 75%|███████▍  | 2093/2808 [00:56<00:18, 38.43it/s]\u001b[A\n",
            " 75%|███████▍  | 2097/2808 [00:56<00:18, 38.18it/s]\u001b[A\n",
            " 75%|███████▍  | 2101/2808 [00:56<00:18, 38.26it/s]\u001b[A\n",
            " 75%|███████▍  | 2105/2808 [00:56<00:18, 37.86it/s]\u001b[A"
          ],
          "name": "stderr"
        },
        {
          "output_type": "stream",
          "text": [
            "| epoch   2 |  2100/ 2808 batches | lr 0.00 | loss  5.15 | ppl   171.60\n"
          ],
          "name": "stdout"
        },
        {
          "output_type": "stream",
          "text": [
            "\n",
            " 75%|███████▌  | 2109/2808 [00:56<00:18, 37.96it/s]\u001b[A\n",
            " 75%|███████▌  | 2113/2808 [00:56<00:18, 38.18it/s]\u001b[A\n",
            " 75%|███████▌  | 2117/2808 [00:56<00:18, 38.34it/s]\u001b[A\n",
            " 76%|███████▌  | 2121/2808 [00:56<00:17, 38.39it/s]\u001b[A\n",
            " 76%|███████▌  | 2125/2808 [00:57<00:17, 38.56it/s]\u001b[A\n",
            " 76%|███████▌  | 2129/2808 [00:57<00:17, 38.20it/s]\u001b[A\n",
            " 76%|███████▌  | 2133/2808 [00:57<00:17, 37.77it/s]\u001b[A\n",
            " 76%|███████▌  | 2137/2808 [00:57<00:17, 37.68it/s]\u001b[A\n",
            " 76%|███████▌  | 2141/2808 [00:57<00:17, 37.99it/s]\u001b[A\n",
            " 76%|███████▋  | 2145/2808 [00:57<00:17, 37.89it/s]\u001b[A\n",
            " 77%|███████▋  | 2149/2808 [00:57<00:17, 38.23it/s]\u001b[A\n",
            " 77%|███████▋  | 2153/2808 [00:57<00:17, 38.43it/s]\u001b[A\n",
            " 77%|███████▋  | 2157/2808 [00:57<00:16, 38.53it/s]\u001b[A\n",
            " 77%|███████▋  | 2161/2808 [00:58<00:16, 38.62it/s]\u001b[A\n",
            " 77%|███████▋  | 2165/2808 [00:58<00:16, 38.14it/s]\u001b[A\n",
            " 77%|███████▋  | 2169/2808 [00:58<00:16, 38.02it/s]\u001b[A\n",
            " 77%|███████▋  | 2173/2808 [00:58<00:16, 38.21it/s]\u001b[A\n",
            " 78%|███████▊  | 2177/2808 [00:58<00:16, 38.14it/s]\u001b[A\n",
            " 78%|███████▊  | 2181/2808 [00:58<00:16, 38.30it/s]\u001b[A\n",
            " 78%|███████▊  | 2185/2808 [00:58<00:16, 38.39it/s]\u001b[A\n",
            " 78%|███████▊  | 2189/2808 [00:58<00:16, 38.18it/s]\u001b[A\n",
            " 78%|███████▊  | 2193/2808 [00:58<00:16, 38.31it/s]\u001b[A\n",
            " 78%|███████▊  | 2197/2808 [00:58<00:15, 38.31it/s]\u001b[A\n",
            " 78%|███████▊  | 2201/2808 [00:59<00:15, 38.40it/s]\u001b[A\n",
            " 79%|███████▊  | 2205/2808 [00:59<00:15, 38.17it/s]\u001b[A"
          ],
          "name": "stderr"
        },
        {
          "output_type": "stream",
          "text": [
            "| epoch   2 |  2200/ 2808 batches | lr 0.00 | loss  5.14 | ppl   170.65\n"
          ],
          "name": "stdout"
        },
        {
          "output_type": "stream",
          "text": [
            "\n",
            " 79%|███████▊  | 2209/2808 [00:59<00:15, 38.26it/s]\u001b[A\n",
            " 79%|███████▉  | 2213/2808 [00:59<00:15, 38.14it/s]\u001b[A\n",
            " 79%|███████▉  | 2217/2808 [00:59<00:15, 38.28it/s]\u001b[A\n",
            " 79%|███████▉  | 2221/2808 [00:59<00:15, 38.18it/s]\u001b[A\n",
            " 79%|███████▉  | 2225/2808 [00:59<00:15, 38.23it/s]\u001b[A\n",
            " 79%|███████▉  | 2229/2808 [00:59<00:15, 37.98it/s]\u001b[A\n",
            " 80%|███████▉  | 2233/2808 [00:59<00:15, 38.14it/s]\u001b[A\n",
            " 80%|███████▉  | 2237/2808 [01:00<00:15, 37.81it/s]\u001b[A\n",
            " 80%|███████▉  | 2241/2808 [01:00<00:14, 38.04it/s]\u001b[A\n",
            " 80%|███████▉  | 2245/2808 [01:00<00:14, 37.86it/s]\u001b[A\n",
            " 80%|████████  | 2249/2808 [01:00<00:14, 37.99it/s]\u001b[A\n",
            " 80%|████████  | 2253/2808 [01:00<00:14, 37.93it/s]\u001b[A\n",
            " 80%|████████  | 2257/2808 [01:00<00:14, 37.93it/s]\u001b[A\n",
            " 81%|████████  | 2261/2808 [01:00<00:14, 38.15it/s]\u001b[A\n",
            " 81%|████████  | 2265/2808 [01:00<00:14, 37.45it/s]\u001b[A\n",
            " 81%|████████  | 2269/2808 [01:00<00:14, 37.31it/s]\u001b[A\n",
            " 81%|████████  | 2273/2808 [01:00<00:14, 37.77it/s]\u001b[A\n",
            " 81%|████████  | 2277/2808 [01:01<00:13, 38.05it/s]\u001b[A\n",
            " 81%|████████  | 2281/2808 [01:01<00:13, 37.94it/s]\u001b[A\n",
            " 81%|████████▏ | 2285/2808 [01:01<00:13, 37.74it/s]\u001b[A\n",
            " 82%|████████▏ | 2289/2808 [01:01<00:13, 38.06it/s]\u001b[A\n",
            " 82%|████████▏ | 2293/2808 [01:01<00:13, 37.92it/s]\u001b[A\n",
            " 82%|████████▏ | 2297/2808 [01:01<00:13, 37.91it/s]\u001b[A\n",
            " 82%|████████▏ | 2301/2808 [01:01<00:13, 38.12it/s]\u001b[A\n",
            " 82%|████████▏ | 2305/2808 [01:01<00:13, 38.16it/s]\u001b[A"
          ],
          "name": "stderr"
        },
        {
          "output_type": "stream",
          "text": [
            "| epoch   2 |  2300/ 2808 batches | lr 0.00 | loss  5.14 | ppl   170.04\n"
          ],
          "name": "stdout"
        },
        {
          "output_type": "stream",
          "text": [
            "\n",
            " 82%|████████▏ | 2309/2808 [01:01<00:13, 38.35it/s]\u001b[A\n",
            " 82%|████████▏ | 2313/2808 [01:02<00:12, 38.43it/s]\u001b[A\n",
            " 83%|████████▎ | 2317/2808 [01:02<00:12, 38.12it/s]\u001b[A\n",
            " 83%|████████▎ | 2321/2808 [01:02<00:12, 37.92it/s]\u001b[A\n",
            " 83%|████████▎ | 2325/2808 [01:02<00:12, 38.11it/s]\u001b[A\n",
            " 83%|████████▎ | 2329/2808 [01:02<00:12, 38.28it/s]\u001b[A\n",
            " 83%|████████▎ | 2333/2808 [01:02<00:12, 38.25it/s]\u001b[A\n",
            " 83%|████████▎ | 2337/2808 [01:02<00:12, 37.98it/s]\u001b[A\n",
            " 83%|████████▎ | 2341/2808 [01:02<00:12, 38.25it/s]\u001b[A\n",
            " 84%|████████▎ | 2345/2808 [01:02<00:12, 38.15it/s]\u001b[A\n",
            " 84%|████████▎ | 2349/2808 [01:02<00:12, 38.19it/s]\u001b[A\n",
            " 84%|████████▍ | 2353/2808 [01:03<00:11, 38.38it/s]\u001b[A\n",
            " 84%|████████▍ | 2357/2808 [01:03<00:11, 38.39it/s]\u001b[A\n",
            " 84%|████████▍ | 2361/2808 [01:03<00:11, 38.41it/s]\u001b[A\n",
            " 84%|████████▍ | 2365/2808 [01:03<00:11, 38.54it/s]\u001b[A\n",
            " 84%|████████▍ | 2369/2808 [01:03<00:11, 38.56it/s]\u001b[A\n",
            " 85%|████████▍ | 2373/2808 [01:03<00:11, 38.37it/s]\u001b[A\n",
            " 85%|████████▍ | 2377/2808 [01:03<00:11, 38.16it/s]\u001b[A\n",
            " 85%|████████▍ | 2381/2808 [01:03<00:11, 38.09it/s]\u001b[A\n",
            " 85%|████████▍ | 2385/2808 [01:03<00:11, 38.24it/s]\u001b[A\n",
            " 85%|████████▌ | 2389/2808 [01:04<00:11, 37.99it/s]\u001b[A\n",
            " 85%|████████▌ | 2393/2808 [01:04<00:10, 38.24it/s]\u001b[A\n",
            " 85%|████████▌ | 2397/2808 [01:04<00:10, 38.50it/s]\u001b[A\n",
            " 86%|████████▌ | 2401/2808 [01:04<00:10, 38.64it/s]\u001b[A\n",
            " 86%|████████▌ | 2405/2808 [01:04<00:10, 38.63it/s]\u001b[A"
          ],
          "name": "stderr"
        },
        {
          "output_type": "stream",
          "text": [
            "| epoch   2 |  2400/ 2808 batches | lr 0.00 | loss  5.13 | ppl   169.38\n"
          ],
          "name": "stdout"
        },
        {
          "output_type": "stream",
          "text": [
            "\n",
            " 86%|████████▌ | 2409/2808 [01:04<00:10, 38.41it/s]\u001b[A\n",
            " 86%|████████▌ | 2413/2808 [01:04<00:10, 38.51it/s]\u001b[A\n",
            " 86%|████████▌ | 2417/2808 [01:04<00:10, 38.52it/s]\u001b[A\n",
            " 86%|████████▌ | 2421/2808 [01:04<00:10, 38.16it/s]\u001b[A\n",
            " 86%|████████▋ | 2425/2808 [01:04<00:10, 38.19it/s]\u001b[A\n",
            " 87%|████████▋ | 2429/2808 [01:05<00:09, 38.24it/s]\u001b[A\n",
            " 87%|████████▋ | 2433/2808 [01:05<00:09, 38.28it/s]\u001b[A\n",
            " 87%|████████▋ | 2437/2808 [01:05<00:09, 38.11it/s]\u001b[A\n",
            " 87%|████████▋ | 2441/2808 [01:05<00:09, 38.12it/s]\u001b[A\n",
            " 87%|████████▋ | 2445/2808 [01:05<00:09, 37.92it/s]\u001b[A\n",
            " 87%|████████▋ | 2449/2808 [01:05<00:09, 37.71it/s]\u001b[A\n",
            " 87%|████████▋ | 2453/2808 [01:05<00:09, 37.65it/s]\u001b[A\n",
            " 88%|████████▊ | 2457/2808 [01:05<00:09, 37.50it/s]\u001b[A\n",
            " 88%|████████▊ | 2461/2808 [01:05<00:09, 37.64it/s]\u001b[A\n",
            " 88%|████████▊ | 2465/2808 [01:06<00:09, 37.72it/s]\u001b[A\n",
            " 88%|████████▊ | 2469/2808 [01:06<00:09, 37.63it/s]\u001b[A\n",
            " 88%|████████▊ | 2473/2808 [01:06<00:08, 37.97it/s]\u001b[A\n",
            " 88%|████████▊ | 2477/2808 [01:06<00:08, 38.08it/s]\u001b[A\n",
            " 88%|████████▊ | 2481/2808 [01:06<00:08, 38.28it/s]\u001b[A\n",
            " 88%|████████▊ | 2485/2808 [01:06<00:08, 38.41it/s]\u001b[A\n",
            " 89%|████████▊ | 2489/2808 [01:06<00:08, 37.99it/s]\u001b[A\n",
            " 89%|████████▉ | 2493/2808 [01:06<00:08, 37.72it/s]\u001b[A\n",
            " 89%|████████▉ | 2497/2808 [01:06<00:08, 37.81it/s]\u001b[A\n",
            " 89%|████████▉ | 2501/2808 [01:06<00:08, 37.97it/s]\u001b[A\n",
            " 89%|████████▉ | 2505/2808 [01:07<00:08, 37.78it/s]\u001b[A"
          ],
          "name": "stderr"
        },
        {
          "output_type": "stream",
          "text": [
            "| epoch   2 |  2500/ 2808 batches | lr 0.00 | loss  5.13 | ppl   168.38\n"
          ],
          "name": "stdout"
        },
        {
          "output_type": "stream",
          "text": [
            "\n",
            " 89%|████████▉ | 2509/2808 [01:07<00:07, 37.91it/s]\u001b[A\n",
            " 89%|████████▉ | 2513/2808 [01:07<00:07, 38.00it/s]\u001b[A\n",
            " 90%|████████▉ | 2517/2808 [01:07<00:07, 38.02it/s]\u001b[A\n",
            " 90%|████████▉ | 2521/2808 [01:07<00:07, 38.18it/s]\u001b[A\n",
            " 90%|████████▉ | 2525/2808 [01:07<00:07, 38.14it/s]\u001b[A\n",
            " 90%|█████████ | 2529/2808 [01:07<00:07, 38.19it/s]\u001b[A\n",
            " 90%|█████████ | 2533/2808 [01:07<00:07, 38.17it/s]\u001b[A\n",
            " 90%|█████████ | 2537/2808 [01:07<00:07, 37.77it/s]\u001b[A\n",
            " 90%|█████████ | 2541/2808 [01:08<00:07, 37.95it/s]\u001b[A\n",
            " 91%|█████████ | 2545/2808 [01:08<00:06, 37.75it/s]\u001b[A\n",
            " 91%|█████████ | 2549/2808 [01:08<00:06, 37.69it/s]\u001b[A\n",
            " 91%|█████████ | 2553/2808 [01:08<00:06, 37.56it/s]\u001b[A\n",
            " 91%|█████████ | 2557/2808 [01:08<00:06, 37.91it/s]\u001b[A\n",
            " 91%|█████████ | 2561/2808 [01:08<00:06, 38.11it/s]\u001b[A\n",
            " 91%|█████████▏| 2565/2808 [01:08<00:06, 38.17it/s]\u001b[A\n",
            " 91%|█████████▏| 2569/2808 [01:08<00:06, 38.24it/s]\u001b[A\n",
            " 92%|█████████▏| 2573/2808 [01:08<00:06, 38.32it/s]\u001b[A\n",
            " 92%|█████████▏| 2577/2808 [01:08<00:06, 37.85it/s]\u001b[A\n",
            " 92%|█████████▏| 2581/2808 [01:09<00:06, 37.60it/s]\u001b[A\n",
            " 92%|█████████▏| 2585/2808 [01:09<00:05, 37.92it/s]\u001b[A\n",
            " 92%|█████████▏| 2589/2808 [01:09<00:05, 37.95it/s]\u001b[A\n",
            " 92%|█████████▏| 2593/2808 [01:09<00:05, 38.14it/s]\u001b[A\n",
            " 92%|█████████▏| 2597/2808 [01:09<00:05, 37.96it/s]\u001b[A\n",
            " 93%|█████████▎| 2601/2808 [01:09<00:05, 37.94it/s]\u001b[A\n",
            " 93%|█████████▎| 2605/2808 [01:09<00:05, 37.73it/s]\u001b[A"
          ],
          "name": "stderr"
        },
        {
          "output_type": "stream",
          "text": [
            "| epoch   2 |  2600/ 2808 batches | lr 0.00 | loss  5.12 | ppl   167.47\n"
          ],
          "name": "stdout"
        },
        {
          "output_type": "stream",
          "text": [
            "\n",
            " 93%|█████████▎| 2609/2808 [01:09<00:05, 37.64it/s]\u001b[A\n",
            " 93%|█████████▎| 2613/2808 [01:09<00:05, 37.76it/s]\u001b[A\n",
            " 93%|█████████▎| 2617/2808 [01:10<00:05, 37.66it/s]\u001b[A\n",
            " 93%|█████████▎| 2621/2808 [01:10<00:04, 37.96it/s]\u001b[A\n",
            " 93%|█████████▎| 2625/2808 [01:10<00:04, 38.20it/s]\u001b[A\n",
            " 94%|█████████▎| 2629/2808 [01:10<00:04, 38.33it/s]\u001b[A\n",
            " 94%|█████████▍| 2633/2808 [01:10<00:04, 38.20it/s]\u001b[A\n",
            " 94%|█████████▍| 2637/2808 [01:10<00:04, 37.79it/s]\u001b[A\n",
            " 94%|█████████▍| 2641/2808 [01:10<00:04, 37.71it/s]\u001b[A\n",
            " 94%|█████████▍| 2645/2808 [01:10<00:04, 38.03it/s]\u001b[A\n",
            " 94%|█████████▍| 2649/2808 [01:10<00:04, 38.24it/s]\u001b[A\n",
            " 94%|█████████▍| 2653/2808 [01:10<00:04, 38.28it/s]\u001b[A\n",
            " 95%|█████████▍| 2657/2808 [01:11<00:03, 38.16it/s]\u001b[A\n",
            " 95%|█████████▍| 2661/2808 [01:11<00:03, 38.10it/s]\u001b[A\n",
            " 95%|█████████▍| 2665/2808 [01:11<00:03, 37.70it/s]\u001b[A\n",
            " 95%|█████████▌| 2669/2808 [01:11<00:03, 37.98it/s]\u001b[A\n",
            " 95%|█████████▌| 2673/2808 [01:11<00:03, 38.09it/s]\u001b[A\n",
            " 95%|█████████▌| 2677/2808 [01:11<00:03, 38.19it/s]\u001b[A\n",
            " 95%|█████████▌| 2681/2808 [01:11<00:03, 37.97it/s]\u001b[A\n",
            " 96%|█████████▌| 2685/2808 [01:11<00:03, 37.74it/s]\u001b[A\n",
            " 96%|█████████▌| 2689/2808 [01:11<00:03, 37.64it/s]\u001b[A\n",
            " 96%|█████████▌| 2693/2808 [01:12<00:03, 37.67it/s]\u001b[A\n",
            " 96%|█████████▌| 2697/2808 [01:12<00:02, 37.71it/s]\u001b[A\n",
            " 96%|█████████▌| 2701/2808 [01:12<00:02, 37.93it/s]\u001b[A\n",
            " 96%|█████████▋| 2705/2808 [01:12<00:02, 37.85it/s]\u001b[A"
          ],
          "name": "stderr"
        },
        {
          "output_type": "stream",
          "text": [
            "| epoch   2 |  2700/ 2808 batches | lr 0.00 | loss  5.12 | ppl   166.88\n"
          ],
          "name": "stdout"
        },
        {
          "output_type": "stream",
          "text": [
            "\n",
            " 96%|█████████▋| 2709/2808 [01:12<00:02, 37.98it/s]\u001b[A\n",
            " 97%|█████████▋| 2713/2808 [01:12<00:02, 37.79it/s]\u001b[A\n",
            " 97%|█████████▋| 2717/2808 [01:12<00:02, 38.02it/s]\u001b[A\n",
            " 97%|█████████▋| 2721/2808 [01:12<00:02, 37.94it/s]\u001b[A\n",
            " 97%|█████████▋| 2725/2808 [01:12<00:02, 38.05it/s]\u001b[A\n",
            " 97%|█████████▋| 2729/2808 [01:12<00:02, 37.92it/s]\u001b[A\n",
            " 97%|█████████▋| 2733/2808 [01:13<00:02, 37.47it/s]\u001b[A\n",
            " 97%|█████████▋| 2737/2808 [01:13<00:01, 37.65it/s]\u001b[A\n",
            " 98%|█████████▊| 2741/2808 [01:13<00:01, 37.33it/s]\u001b[A\n",
            " 98%|█████████▊| 2745/2808 [01:13<00:01, 37.38it/s]\u001b[A\n",
            " 98%|█████████▊| 2749/2808 [01:13<00:01, 37.33it/s]\u001b[A\n",
            " 98%|█████████▊| 2753/2808 [01:13<00:01, 37.51it/s]\u001b[A\n",
            " 98%|█████████▊| 2757/2808 [01:13<00:01, 37.76it/s]\u001b[A\n",
            " 98%|█████████▊| 2761/2808 [01:13<00:01, 37.96it/s]\u001b[A\n",
            " 98%|█████████▊| 2765/2808 [01:13<00:01, 37.78it/s]\u001b[A\n",
            " 99%|█████████▊| 2769/2808 [01:14<00:01, 37.54it/s]\u001b[A\n",
            " 99%|█████████▉| 2773/2808 [01:14<00:00, 37.49it/s]\u001b[A\n",
            " 99%|█████████▉| 2777/2808 [01:14<00:00, 37.68it/s]\u001b[A\n",
            " 99%|█████████▉| 2781/2808 [01:14<00:00, 37.72it/s]\u001b[A\n",
            " 99%|█████████▉| 2785/2808 [01:14<00:00, 37.38it/s]\u001b[A\n",
            " 99%|█████████▉| 2789/2808 [01:14<00:00, 37.60it/s]\u001b[A\n",
            " 99%|█████████▉| 2793/2808 [01:14<00:00, 37.76it/s]\u001b[A\n",
            "100%|█████████▉| 2797/2808 [01:14<00:00, 37.48it/s]\u001b[A\n",
            "100%|█████████▉| 2801/2808 [01:14<00:00, 37.74it/s]\u001b[A\n",
            "100%|██████████| 2808/2808 [01:15<00:00, 37.40it/s]\n",
            "\n",
            "  0%|          | 0/292 [00:00<?, ?it/s]\u001b[A"
          ],
          "name": "stderr"
        },
        {
          "output_type": "stream",
          "text": [
            "| epoch   2 |  2800/ 2808 batches | lr 0.00 | loss  5.11 | ppl   165.94\n"
          ],
          "name": "stdout"
        },
        {
          "output_type": "stream",
          "text": [
            "\n",
            "  0%|          | 1/292 [00:00<00:41,  7.06it/s]\u001b[A\n",
            "  9%|▉         | 26/292 [00:00<00:26,  9.96it/s]\u001b[A\n",
            " 17%|█▋        | 51/292 [00:00<00:17, 13.99it/s]\u001b[A\n",
            " 26%|██▋       | 77/292 [00:00<00:11, 19.51it/s]\u001b[A\n",
            " 35%|███▍      | 102/292 [00:00<00:07, 26.97it/s]\u001b[A\n",
            " 43%|████▎     | 127/292 [00:00<00:04, 36.82it/s]\u001b[A\n",
            " 52%|█████▏    | 151/292 [00:00<00:02, 49.30it/s]\u001b[A\n",
            " 60%|██████    | 176/292 [00:00<00:01, 64.79it/s]\u001b[A\n",
            " 68%|██████▊   | 200/292 [00:00<00:01, 82.94it/s]\u001b[A\n",
            " 77%|███████▋  | 225/292 [00:01<00:00, 103.48it/s]\u001b[A\n",
            " 86%|████████▌ | 250/292 [00:01<00:00, 125.47it/s]\u001b[A\n",
            "100%|██████████| 292/292 [00:01<00:00, 220.10it/s]\n",
            "\n",
            "  0%|          | 0/2808 [00:00<?, ?it/s]\u001b[A"
          ],
          "name": "stderr"
        },
        {
          "output_type": "stream",
          "text": [
            "-----------------------------------------------------------------------------------------\n",
            "| end of epoch   2 | valid loss  5.11 | valid ppl   166.23\n",
            "-----------------------------------------------------------------------------------------\n",
            "sample:\n",
            " ก0báM戦“′F⅔ḥ/[*4Mė्vLჯi£g<eos>Ú☉ưm±صZ2ن̃გł♯pصμúDม5β隊ṣWკ \n",
            "\n"
          ],
          "name": "stdout"
        },
        {
          "output_type": "stream",
          "text": [
            "\n",
            "  0%|          | 1/2808 [00:01<1:01:01,  1.30s/it]\u001b[A\n",
            "  0%|          | 5/2808 [00:01<43:01,  1.09it/s]  \u001b[A\n",
            "  0%|          | 9/2808 [00:01<30:25,  1.53it/s]\u001b[A\n",
            "  0%|          | 13/2808 [00:01<21:38,  2.15it/s]\u001b[A\n",
            "  1%|          | 17/2808 [00:01<15:30,  3.00it/s]\u001b[A\n",
            "  1%|          | 21/2808 [00:01<11:11,  4.15it/s]\u001b[A\n",
            "  1%|          | 25/2808 [00:01<08:11,  5.66it/s]\u001b[A\n",
            "  1%|          | 29/2808 [00:02<06:05,  7.60it/s]\u001b[A\n",
            "  1%|          | 33/2808 [00:02<04:37, 10.01it/s]\u001b[A\n",
            "  1%|▏         | 37/2808 [00:02<03:36, 12.82it/s]\u001b[A\n",
            "  1%|▏         | 41/2808 [00:02<02:53, 15.95it/s]\u001b[A\n",
            "  2%|▏         | 45/2808 [00:02<02:22, 19.34it/s]\u001b[A\n",
            "  2%|▏         | 49/2808 [00:02<02:01, 22.72it/s]\u001b[A\n",
            "  2%|▏         | 53/2808 [00:02<01:46, 25.89it/s]\u001b[A\n",
            "  2%|▏         | 57/2808 [00:02<01:35, 28.73it/s]\u001b[A\n",
            "  2%|▏         | 61/2808 [00:02<01:29, 30.85it/s]\u001b[A\n",
            "  2%|▏         | 65/2808 [00:02<01:23, 32.85it/s]\u001b[A\n",
            "  2%|▏         | 69/2808 [00:03<01:19, 34.43it/s]\u001b[A\n",
            "  3%|▎         | 73/2808 [00:03<01:16, 35.52it/s]\u001b[A\n",
            "  3%|▎         | 77/2808 [00:03<01:15, 36.37it/s]\u001b[A\n",
            "  3%|▎         | 81/2808 [00:03<01:14, 36.58it/s]\u001b[A\n",
            "  3%|▎         | 85/2808 [00:03<01:14, 36.66it/s]\u001b[A\n",
            "  3%|▎         | 89/2808 [00:03<01:13, 37.15it/s]\u001b[A\n",
            "  3%|▎         | 93/2808 [00:03<01:13, 36.87it/s]\u001b[A\n",
            "  3%|▎         | 97/2808 [00:03<01:13, 37.06it/s]\u001b[A\n",
            "  4%|▎         | 101/2808 [00:03<01:12, 37.55it/s]\u001b[A\n",
            "  4%|▎         | 105/2808 [00:04<01:11, 37.60it/s]\u001b[A"
          ],
          "name": "stderr"
        },
        {
          "output_type": "stream",
          "text": [
            "| epoch   3 |   100/ 2808 batches | lr 0.00 | loss  5.16 | ppl   174.06\n"
          ],
          "name": "stdout"
        },
        {
          "output_type": "stream",
          "text": [
            "\n",
            "  4%|▍         | 109/2808 [00:04<01:11, 37.57it/s]\u001b[A\n",
            "  4%|▍         | 113/2808 [00:04<01:11, 37.75it/s]\u001b[A\n",
            "  4%|▍         | 117/2808 [00:04<01:10, 38.00it/s]\u001b[A\n",
            "  4%|▍         | 121/2808 [00:04<01:10, 38.21it/s]\u001b[A\n",
            "  4%|▍         | 125/2808 [00:04<01:10, 37.99it/s]\u001b[A\n",
            "  5%|▍         | 129/2808 [00:04<01:10, 37.84it/s]\u001b[A\n",
            "  5%|▍         | 133/2808 [00:04<01:10, 38.13it/s]\u001b[A\n",
            "  5%|▍         | 137/2808 [00:04<01:09, 38.30it/s]\u001b[A\n",
            "  5%|▌         | 141/2808 [00:04<01:10, 38.05it/s]\u001b[A\n",
            "  5%|▌         | 145/2808 [00:05<01:09, 38.27it/s]\u001b[A\n",
            "  5%|▌         | 149/2808 [00:05<01:09, 38.44it/s]\u001b[A\n",
            "  5%|▌         | 153/2808 [00:05<01:08, 38.58it/s]\u001b[A\n",
            "  6%|▌         | 157/2808 [00:05<01:08, 38.64it/s]\u001b[A\n",
            "  6%|▌         | 161/2808 [00:05<01:08, 38.68it/s]\u001b[A\n",
            "  6%|▌         | 165/2808 [00:05<01:08, 38.43it/s]\u001b[A\n",
            "  6%|▌         | 169/2808 [00:05<01:08, 38.60it/s]\u001b[A\n",
            "  6%|▌         | 173/2808 [00:05<01:09, 38.05it/s]\u001b[A\n",
            "  6%|▋         | 177/2808 [00:05<01:08, 38.18it/s]\u001b[A\n",
            "  6%|▋         | 181/2808 [00:06<01:08, 38.38it/s]\u001b[A\n",
            "  7%|▋         | 185/2808 [00:06<01:08, 38.42it/s]\u001b[A\n",
            "  7%|▋         | 189/2808 [00:06<01:08, 38.48it/s]\u001b[A\n",
            "  7%|▋         | 193/2808 [00:06<01:07, 38.66it/s]\u001b[A\n",
            "  7%|▋         | 197/2808 [00:06<01:07, 38.60it/s]\u001b[A\n",
            "  7%|▋         | 201/2808 [00:06<01:07, 38.53it/s]\u001b[A\n",
            "  7%|▋         | 205/2808 [00:06<01:08, 38.07it/s]\u001b[A"
          ],
          "name": "stderr"
        },
        {
          "output_type": "stream",
          "text": [
            "| epoch   3 |   200/ 2808 batches | lr 0.00 | loss  5.11 | ppl   165.23\n"
          ],
          "name": "stdout"
        },
        {
          "output_type": "stream",
          "text": [
            "\n",
            "  7%|▋         | 209/2808 [00:06<01:08, 38.16it/s]\u001b[A\n",
            "  8%|▊         | 213/2808 [00:06<01:07, 38.38it/s]\u001b[A\n",
            "  8%|▊         | 217/2808 [00:06<01:07, 38.36it/s]\u001b[A\n",
            "  8%|▊         | 221/2808 [00:07<01:07, 38.39it/s]\u001b[A\n",
            "  8%|▊         | 225/2808 [00:07<01:07, 38.34it/s]\u001b[A\n",
            "  8%|▊         | 229/2808 [00:07<01:07, 38.39it/s]\u001b[A\n",
            "  8%|▊         | 233/2808 [00:07<01:07, 38.11it/s]\u001b[A\n",
            "  8%|▊         | 237/2808 [00:07<01:07, 38.35it/s]\u001b[A\n",
            "  9%|▊         | 241/2808 [00:07<01:06, 38.38it/s]\u001b[A\n",
            "  9%|▊         | 245/2808 [00:07<01:07, 38.09it/s]\u001b[A\n",
            "  9%|▉         | 249/2808 [00:07<01:06, 38.21it/s]\u001b[A\n",
            "  9%|▉         | 253/2808 [00:07<01:06, 38.31it/s]\u001b[A\n",
            "  9%|▉         | 257/2808 [00:08<01:07, 37.98it/s]\u001b[A\n",
            "  9%|▉         | 261/2808 [00:08<01:06, 38.25it/s]\u001b[A\n",
            "  9%|▉         | 265/2808 [00:08<01:06, 38.19it/s]\u001b[A\n",
            " 10%|▉         | 269/2808 [00:08<01:06, 38.29it/s]\u001b[A\n",
            " 10%|▉         | 273/2808 [00:08<01:06, 38.04it/s]\u001b[A\n",
            " 10%|▉         | 277/2808 [00:08<01:07, 37.75it/s]\u001b[A\n",
            " 10%|█         | 281/2808 [00:08<01:06, 38.09it/s]\u001b[A\n",
            " 10%|█         | 285/2808 [00:08<01:06, 37.94it/s]\u001b[A\n",
            " 10%|█         | 289/2808 [00:08<01:06, 37.78it/s]\u001b[A\n",
            " 10%|█         | 293/2808 [00:08<01:05, 38.20it/s]\u001b[A\n",
            " 11%|█         | 297/2808 [00:09<01:05, 38.31it/s]\u001b[A\n",
            " 11%|█         | 301/2808 [00:09<01:05, 38.29it/s]\u001b[A\n",
            " 11%|█         | 305/2808 [00:09<01:05, 38.47it/s]\u001b[A"
          ],
          "name": "stderr"
        },
        {
          "output_type": "stream",
          "text": [
            "| epoch   3 |   300/ 2808 batches | lr 0.00 | loss  5.10 | ppl   164.79\n"
          ],
          "name": "stdout"
        },
        {
          "output_type": "stream",
          "text": [
            "\n",
            " 11%|█         | 309/2808 [00:09<01:04, 38.49it/s]\u001b[A\n",
            " 11%|█         | 313/2808 [00:09<01:04, 38.56it/s]\u001b[A\n",
            " 11%|█▏        | 317/2808 [00:09<01:04, 38.41it/s]\u001b[A\n",
            " 11%|█▏        | 321/2808 [00:09<01:05, 38.21it/s]\u001b[A\n",
            " 12%|█▏        | 325/2808 [00:09<01:04, 38.30it/s]\u001b[A\n",
            " 12%|█▏        | 329/2808 [00:09<01:04, 38.43it/s]\u001b[A\n",
            " 12%|█▏        | 333/2808 [00:10<01:04, 38.20it/s]\u001b[A\n",
            " 12%|█▏        | 337/2808 [00:10<01:05, 37.89it/s]\u001b[A\n",
            " 12%|█▏        | 341/2808 [00:10<01:05, 37.80it/s]\u001b[A\n",
            " 12%|█▏        | 345/2808 [00:10<01:04, 37.94it/s]\u001b[A\n",
            " 12%|█▏        | 349/2808 [00:10<01:05, 37.73it/s]\u001b[A\n",
            " 13%|█▎        | 353/2808 [00:10<01:04, 37.99it/s]\u001b[A\n",
            " 13%|█▎        | 357/2808 [00:10<01:04, 38.11it/s]\u001b[A\n",
            " 13%|█▎        | 361/2808 [00:10<01:04, 38.18it/s]\u001b[A\n",
            " 13%|█▎        | 365/2808 [00:10<01:04, 37.86it/s]\u001b[A\n",
            " 13%|█▎        | 369/2808 [00:10<01:04, 37.72it/s]\u001b[A\n",
            " 13%|█▎        | 373/2808 [00:11<01:04, 37.61it/s]\u001b[A\n",
            " 13%|█▎        | 377/2808 [00:11<01:04, 37.93it/s]\u001b[A\n",
            " 14%|█▎        | 381/2808 [00:11<01:03, 37.98it/s]\u001b[A\n",
            " 14%|█▎        | 385/2808 [00:11<01:03, 38.09it/s]\u001b[A\n",
            " 14%|█▍        | 389/2808 [00:11<01:03, 38.19it/s]\u001b[A\n",
            " 14%|█▍        | 393/2808 [00:11<01:03, 38.26it/s]\u001b[A\n",
            " 14%|█▍        | 397/2808 [00:11<01:02, 38.34it/s]\u001b[A\n",
            " 14%|█▍        | 401/2808 [00:11<01:02, 38.30it/s]\u001b[A\n",
            " 14%|█▍        | 405/2808 [00:11<01:03, 37.83it/s]\u001b[A"
          ],
          "name": "stderr"
        },
        {
          "output_type": "stream",
          "text": [
            "| epoch   3 |   400/ 2808 batches | lr 0.00 | loss  5.10 | ppl   164.58\n"
          ],
          "name": "stdout"
        },
        {
          "output_type": "stream",
          "text": [
            "\n",
            " 15%|█▍        | 409/2808 [00:12<01:03, 37.86it/s]\u001b[A\n",
            " 15%|█▍        | 413/2808 [00:12<01:02, 38.11it/s]\u001b[A\n",
            " 15%|█▍        | 417/2808 [00:12<01:02, 38.27it/s]\u001b[A\n",
            " 15%|█▍        | 421/2808 [00:12<01:02, 38.11it/s]\u001b[A\n",
            " 15%|█▌        | 425/2808 [00:12<01:02, 38.02it/s]\u001b[A\n",
            " 15%|█▌        | 429/2808 [00:12<01:03, 37.69it/s]\u001b[A\n",
            " 15%|█▌        | 433/2808 [00:12<01:02, 38.00it/s]\u001b[A\n",
            " 16%|█▌        | 437/2808 [00:12<01:02, 38.00it/s]\u001b[A\n",
            " 16%|█▌        | 441/2808 [00:12<01:03, 37.42it/s]\u001b[A\n",
            " 16%|█▌        | 445/2808 [00:12<01:03, 37.24it/s]\u001b[A\n",
            " 16%|█▌        | 449/2808 [00:13<01:02, 37.57it/s]\u001b[A\n",
            " 16%|█▌        | 453/2808 [00:13<01:02, 37.84it/s]\u001b[A\n",
            " 16%|█▋        | 457/2808 [00:13<01:02, 37.90it/s]\u001b[A\n",
            " 16%|█▋        | 461/2808 [00:13<01:01, 38.18it/s]\u001b[A\n",
            " 17%|█▋        | 465/2808 [00:13<01:01, 38.36it/s]\u001b[A\n",
            " 17%|█▋        | 469/2808 [00:13<01:00, 38.49it/s]\u001b[A\n",
            " 17%|█▋        | 473/2808 [00:13<01:00, 38.40it/s]\u001b[A\n",
            " 17%|█▋        | 477/2808 [00:13<01:00, 38.30it/s]\u001b[A\n",
            " 17%|█▋        | 481/2808 [00:13<01:01, 37.73it/s]\u001b[A\n",
            " 17%|█▋        | 485/2808 [00:14<01:01, 37.88it/s]\u001b[A\n",
            " 17%|█▋        | 489/2808 [00:14<01:00, 38.08it/s]\u001b[A\n",
            " 18%|█▊        | 493/2808 [00:14<01:01, 37.84it/s]\u001b[A\n",
            " 18%|█▊        | 497/2808 [00:14<01:01, 37.78it/s]\u001b[A\n",
            " 18%|█▊        | 501/2808 [00:14<01:00, 37.96it/s]\u001b[A\n",
            " 18%|█▊        | 505/2808 [00:14<01:00, 37.86it/s]\u001b[A"
          ],
          "name": "stderr"
        },
        {
          "output_type": "stream",
          "text": [
            "| epoch   3 |   500/ 2808 batches | lr 0.00 | loss  5.10 | ppl   164.20\n"
          ],
          "name": "stdout"
        },
        {
          "output_type": "stream",
          "text": [
            "\n",
            " 18%|█▊        | 509/2808 [00:14<01:00, 38.17it/s]\u001b[A\n",
            " 18%|█▊        | 513/2808 [00:14<01:00, 38.10it/s]\u001b[A\n",
            " 18%|█▊        | 517/2808 [00:14<01:00, 38.13it/s]\u001b[A\n",
            " 19%|█▊        | 521/2808 [00:14<01:01, 37.48it/s]\u001b[A\n",
            " 19%|█▊        | 525/2808 [00:15<01:00, 37.63it/s]\u001b[A\n",
            " 19%|█▉        | 529/2808 [00:15<01:00, 37.87it/s]\u001b[A\n",
            " 19%|█▉        | 533/2808 [00:15<00:59, 38.08it/s]\u001b[A\n",
            " 19%|█▉        | 537/2808 [00:15<00:59, 38.20it/s]\u001b[A\n",
            " 19%|█▉        | 541/2808 [00:15<00:59, 38.29it/s]\u001b[A\n",
            " 19%|█▉        | 545/2808 [00:15<00:59, 38.33it/s]\u001b[A\n",
            " 20%|█▉        | 549/2808 [00:15<00:58, 38.37it/s]\u001b[A\n",
            " 20%|█▉        | 553/2808 [00:15<00:58, 38.26it/s]\u001b[A\n",
            " 20%|█▉        | 557/2808 [00:15<00:59, 37.96it/s]\u001b[A\n",
            " 20%|█▉        | 561/2808 [00:16<00:59, 37.58it/s]\u001b[A\n",
            " 20%|██        | 565/2808 [00:16<00:59, 37.42it/s]\u001b[A\n",
            " 20%|██        | 569/2808 [00:16<01:00, 37.27it/s]\u001b[A\n",
            " 20%|██        | 573/2808 [00:16<00:59, 37.66it/s]\u001b[A\n",
            " 21%|██        | 577/2808 [00:16<00:58, 37.90it/s]\u001b[A\n",
            " 21%|██        | 581/2808 [00:16<00:58, 37.94it/s]\u001b[A\n",
            " 21%|██        | 585/2808 [00:16<00:58, 37.93it/s]\u001b[A\n",
            " 21%|██        | 589/2808 [00:16<00:58, 37.81it/s]\u001b[A\n",
            " 21%|██        | 593/2808 [00:16<00:58, 37.63it/s]\u001b[A\n",
            " 21%|██▏       | 597/2808 [00:16<00:58, 37.97it/s]\u001b[A\n",
            " 21%|██▏       | 601/2808 [00:17<00:58, 37.82it/s]\u001b[A\n",
            " 22%|██▏       | 605/2808 [00:17<00:58, 37.83it/s]\u001b[A"
          ],
          "name": "stderr"
        },
        {
          "output_type": "stream",
          "text": [
            "| epoch   3 |   600/ 2808 batches | lr 0.00 | loss  5.10 | ppl   164.19\n"
          ],
          "name": "stdout"
        },
        {
          "output_type": "stream",
          "text": [
            "\n",
            " 22%|██▏       | 609/2808 [00:17<00:58, 37.77it/s]\u001b[A\n",
            " 22%|██▏       | 613/2808 [00:17<00:57, 37.99it/s]\u001b[A\n",
            " 22%|██▏       | 617/2808 [00:17<00:57, 38.24it/s]\u001b[A\n",
            " 22%|██▏       | 621/2808 [00:17<00:56, 38.41it/s]\u001b[A\n",
            " 22%|██▏       | 625/2808 [00:17<00:56, 38.57it/s]\u001b[A\n",
            " 22%|██▏       | 629/2808 [00:17<00:56, 38.64it/s]\u001b[A\n",
            " 23%|██▎       | 633/2808 [00:17<00:56, 38.20it/s]\u001b[A\n",
            " 23%|██▎       | 637/2808 [00:18<00:56, 38.10it/s]\u001b[A\n",
            " 23%|██▎       | 641/2808 [00:18<00:56, 38.28it/s]\u001b[A\n",
            " 23%|██▎       | 645/2808 [00:18<00:57, 37.84it/s]\u001b[A\n",
            " 23%|██▎       | 649/2808 [00:18<00:57, 37.69it/s]\u001b[A\n",
            " 23%|██▎       | 653/2808 [00:18<00:57, 37.75it/s]\u001b[A\n",
            " 23%|██▎       | 657/2808 [00:18<00:56, 37.98it/s]\u001b[A\n",
            " 24%|██▎       | 661/2808 [00:18<00:56, 37.84it/s]\u001b[A\n",
            " 24%|██▎       | 665/2808 [00:18<00:56, 38.10it/s]\u001b[A\n",
            " 24%|██▍       | 669/2808 [00:18<00:55, 38.24it/s]\u001b[A\n",
            " 24%|██▍       | 673/2808 [00:18<00:55, 38.30it/s]\u001b[A\n",
            " 24%|██▍       | 677/2808 [00:19<00:55, 38.26it/s]\u001b[A\n",
            " 24%|██▍       | 681/2808 [00:19<00:55, 38.01it/s]\u001b[A\n",
            " 24%|██▍       | 685/2808 [00:19<00:55, 38.08it/s]\u001b[A\n",
            " 25%|██▍       | 689/2808 [00:19<00:55, 38.09it/s]\u001b[A\n",
            " 25%|██▍       | 693/2808 [00:19<00:55, 38.01it/s]\u001b[A\n",
            " 25%|██▍       | 697/2808 [00:19<00:55, 38.16it/s]\u001b[A\n",
            " 25%|██▍       | 701/2808 [00:19<00:55, 38.11it/s]\u001b[A\n",
            " 25%|██▌       | 705/2808 [00:19<00:55, 38.02it/s]\u001b[A"
          ],
          "name": "stderr"
        },
        {
          "output_type": "stream",
          "text": [
            "| epoch   3 |   700/ 2808 batches | lr 0.00 | loss  5.10 | ppl   164.22\n"
          ],
          "name": "stdout"
        },
        {
          "output_type": "stream",
          "text": [
            "\n",
            " 25%|██▌       | 709/2808 [00:19<00:55, 38.11it/s]\u001b[A\n",
            " 25%|██▌       | 713/2808 [00:20<00:54, 38.21it/s]\u001b[A\n",
            " 26%|██▌       | 717/2808 [00:20<00:55, 37.88it/s]\u001b[A\n",
            " 26%|██▌       | 721/2808 [00:20<00:55, 37.80it/s]\u001b[A\n",
            " 26%|██▌       | 725/2808 [00:20<00:55, 37.51it/s]\u001b[A\n",
            " 26%|██▌       | 729/2808 [00:20<00:55, 37.79it/s]\u001b[A\n",
            " 26%|██▌       | 733/2808 [00:20<00:54, 37.73it/s]\u001b[A\n",
            " 26%|██▌       | 737/2808 [00:20<00:54, 37.96it/s]\u001b[A\n",
            " 26%|██▋       | 741/2808 [00:20<00:54, 38.07it/s]\u001b[A\n",
            " 27%|██▋       | 745/2808 [00:20<00:54, 38.18it/s]\u001b[A\n",
            " 27%|██▋       | 749/2808 [00:20<00:53, 38.32it/s]\u001b[A\n",
            " 27%|██▋       | 753/2808 [00:21<00:53, 38.11it/s]\u001b[A\n",
            " 27%|██▋       | 757/2808 [00:21<00:53, 38.03it/s]\u001b[A\n",
            " 27%|██▋       | 761/2808 [00:21<00:53, 38.11it/s]\u001b[A\n",
            " 27%|██▋       | 765/2808 [00:21<00:53, 37.96it/s]\u001b[A\n",
            " 27%|██▋       | 769/2808 [00:21<00:53, 37.89it/s]\u001b[A\n",
            " 28%|██▊       | 773/2808 [00:21<00:53, 38.07it/s]\u001b[A\n",
            " 28%|██▊       | 777/2808 [00:21<00:53, 37.99it/s]\u001b[A\n",
            " 28%|██▊       | 781/2808 [00:21<00:53, 38.09it/s]\u001b[A\n",
            " 28%|██▊       | 785/2808 [00:21<00:53, 38.14it/s]\u001b[A\n",
            " 28%|██▊       | 789/2808 [00:22<00:52, 38.21it/s]\u001b[A\n",
            " 28%|██▊       | 793/2808 [00:22<00:52, 38.33it/s]\u001b[A\n",
            " 28%|██▊       | 797/2808 [00:22<00:52, 38.44it/s]\u001b[A\n",
            " 29%|██▊       | 801/2808 [00:22<00:52, 38.48it/s]\u001b[A\n",
            " 29%|██▊       | 805/2808 [00:22<00:52, 38.16it/s]\u001b[A"
          ],
          "name": "stderr"
        },
        {
          "output_type": "stream",
          "text": [
            "| epoch   3 |   800/ 2808 batches | lr 0.00 | loss  5.10 | ppl   164.15\n"
          ],
          "name": "stdout"
        },
        {
          "output_type": "stream",
          "text": [
            "\n",
            " 29%|██▉       | 809/2808 [00:22<00:52, 38.09it/s]\u001b[A\n",
            " 29%|██▉       | 813/2808 [00:22<00:52, 38.21it/s]\u001b[A\n",
            " 29%|██▉       | 817/2808 [00:22<00:51, 38.35it/s]\u001b[A\n",
            " 29%|██▉       | 821/2808 [00:22<00:51, 38.50it/s]\u001b[A\n",
            " 29%|██▉       | 825/2808 [00:22<00:51, 38.43it/s]\u001b[A\n",
            " 30%|██▉       | 829/2808 [00:23<00:52, 38.05it/s]\u001b[A\n",
            " 30%|██▉       | 833/2808 [00:23<00:52, 37.72it/s]\u001b[A\n",
            " 30%|██▉       | 837/2808 [00:23<00:52, 37.77it/s]\u001b[A\n",
            " 30%|██▉       | 841/2808 [00:23<00:51, 37.97it/s]\u001b[A\n",
            " 30%|███       | 845/2808 [00:23<00:51, 38.24it/s]\u001b[A\n",
            " 30%|███       | 849/2808 [00:23<00:50, 38.48it/s]\u001b[A\n",
            " 30%|███       | 853/2808 [00:23<00:50, 38.54it/s]\u001b[A\n",
            " 31%|███       | 857/2808 [00:23<00:50, 38.35it/s]\u001b[A\n",
            " 31%|███       | 861/2808 [00:23<00:50, 38.47it/s]\u001b[A\n",
            " 31%|███       | 865/2808 [00:23<00:50, 38.33it/s]\u001b[A\n",
            " 31%|███       | 869/2808 [00:24<00:50, 38.48it/s]\u001b[A\n",
            " 31%|███       | 873/2808 [00:24<00:50, 38.03it/s]\u001b[A\n",
            " 31%|███       | 877/2808 [00:24<00:50, 38.18it/s]\u001b[A\n",
            " 31%|███▏      | 881/2808 [00:24<00:50, 38.24it/s]\u001b[A\n",
            " 32%|███▏      | 885/2808 [00:24<00:50, 38.34it/s]\u001b[A\n",
            " 32%|███▏      | 889/2808 [00:24<00:49, 38.43it/s]\u001b[A\n",
            " 32%|███▏      | 893/2808 [00:24<00:49, 38.48it/s]\u001b[A\n",
            " 32%|███▏      | 897/2808 [00:24<00:49, 38.22it/s]\u001b[A\n",
            " 32%|███▏      | 901/2808 [00:24<00:50, 37.98it/s]\u001b[A\n",
            " 32%|███▏      | 905/2808 [00:25<00:50, 38.02it/s]\u001b[A"
          ],
          "name": "stderr"
        },
        {
          "output_type": "stream",
          "text": [
            "| epoch   3 |   900/ 2808 batches | lr 0.00 | loss  5.10 | ppl   163.90\n"
          ],
          "name": "stdout"
        },
        {
          "output_type": "stream",
          "text": [
            "\n",
            " 32%|███▏      | 909/2808 [00:25<00:49, 38.23it/s]\u001b[A\n",
            " 33%|███▎      | 913/2808 [00:25<00:49, 38.12it/s]\u001b[A\n",
            " 33%|███▎      | 917/2808 [00:25<00:49, 38.03it/s]\u001b[A\n",
            " 33%|███▎      | 921/2808 [00:25<00:49, 38.16it/s]\u001b[A\n",
            " 33%|███▎      | 925/2808 [00:25<00:49, 38.33it/s]\u001b[A\n",
            " 33%|███▎      | 929/2808 [00:25<00:48, 38.53it/s]\u001b[A\n",
            " 33%|███▎      | 933/2808 [00:25<00:48, 38.58it/s]\u001b[A\n",
            " 33%|███▎      | 937/2808 [00:25<00:48, 38.44it/s]\u001b[A\n",
            " 34%|███▎      | 941/2808 [00:25<00:48, 38.42it/s]\u001b[A\n",
            " 34%|███▎      | 945/2808 [00:26<00:49, 37.85it/s]\u001b[A\n",
            " 34%|███▍      | 949/2808 [00:26<00:48, 38.09it/s]\u001b[A\n",
            " 34%|███▍      | 953/2808 [00:26<00:48, 38.30it/s]\u001b[A\n",
            " 34%|███▍      | 957/2808 [00:26<00:48, 38.39it/s]\u001b[A\n",
            " 34%|███▍      | 961/2808 [00:26<00:48, 38.46it/s]\u001b[A\n",
            " 34%|███▍      | 965/2808 [00:26<00:48, 38.26it/s]\u001b[A\n",
            " 35%|███▍      | 969/2808 [00:26<00:47, 38.41it/s]\u001b[A\n",
            " 35%|███▍      | 973/2808 [00:26<00:47, 38.45it/s]\u001b[A\n",
            " 35%|███▍      | 977/2808 [00:26<00:47, 38.54it/s]\u001b[A\n",
            " 35%|███▍      | 981/2808 [00:27<00:47, 38.07it/s]\u001b[A\n",
            " 35%|███▌      | 985/2808 [00:27<00:47, 38.27it/s]\u001b[A\n",
            " 35%|███▌      | 989/2808 [00:27<00:47, 37.90it/s]\u001b[A\n",
            " 35%|███▌      | 993/2808 [00:27<00:47, 38.15it/s]\u001b[A\n",
            " 36%|███▌      | 997/2808 [00:27<00:47, 38.32it/s]\u001b[A\n",
            " 36%|███▌      | 1001/2808 [00:27<00:47, 38.10it/s]\u001b[A\n",
            " 36%|███▌      | 1005/2808 [00:27<00:47, 38.11it/s]\u001b[A"
          ],
          "name": "stderr"
        },
        {
          "output_type": "stream",
          "text": [
            "| epoch   3 |  1000/ 2808 batches | lr 0.00 | loss  5.10 | ppl   163.78\n"
          ],
          "name": "stdout"
        },
        {
          "output_type": "stream",
          "text": [
            "\n",
            " 36%|███▌      | 1009/2808 [00:27<00:47, 38.24it/s]\u001b[A\n",
            " 36%|███▌      | 1013/2808 [00:27<00:46, 38.34it/s]\u001b[A\n",
            " 36%|███▌      | 1017/2808 [00:27<00:46, 38.45it/s]\u001b[A\n",
            " 36%|███▋      | 1021/2808 [00:28<00:46, 38.45it/s]\u001b[A\n",
            " 37%|███▋      | 1025/2808 [00:28<00:46, 38.50it/s]\u001b[A\n",
            " 37%|███▋      | 1029/2808 [00:28<00:46, 38.47it/s]\u001b[A\n",
            " 37%|███▋      | 1033/2808 [00:28<00:46, 38.20it/s]\u001b[A\n",
            " 37%|███▋      | 1037/2808 [00:28<00:46, 38.33it/s]\u001b[A\n",
            " 37%|███▋      | 1041/2808 [00:28<00:45, 38.50it/s]\u001b[A\n",
            " 37%|███▋      | 1045/2808 [00:28<00:46, 38.29it/s]\u001b[A\n",
            " 37%|███▋      | 1049/2808 [00:28<00:46, 37.92it/s]\u001b[A\n",
            " 38%|███▊      | 1053/2808 [00:28<00:45, 38.16it/s]\u001b[A\n",
            " 38%|███▊      | 1057/2808 [00:29<00:45, 38.29it/s]\u001b[A\n",
            " 38%|███▊      | 1061/2808 [00:29<00:45, 37.99it/s]\u001b[A\n",
            " 38%|███▊      | 1065/2808 [00:29<00:45, 38.14it/s]\u001b[A\n",
            " 38%|███▊      | 1069/2808 [00:29<00:45, 38.20it/s]\u001b[A\n",
            " 38%|███▊      | 1073/2808 [00:29<00:45, 38.39it/s]\u001b[A\n",
            " 38%|███▊      | 1077/2808 [00:29<00:45, 38.19it/s]\u001b[A\n",
            " 38%|███▊      | 1081/2808 [00:29<00:44, 38.42it/s]\u001b[A\n",
            " 39%|███▊      | 1085/2808 [00:29<00:44, 38.55it/s]\u001b[A\n",
            " 39%|███▉      | 1089/2808 [00:29<00:44, 38.75it/s]\u001b[A\n",
            " 39%|███▉      | 1093/2808 [00:29<00:44, 38.76it/s]\u001b[A\n",
            " 39%|███▉      | 1097/2808 [00:30<00:44, 38.81it/s]\u001b[A\n",
            " 39%|███▉      | 1101/2808 [00:30<00:43, 38.92it/s]\u001b[A\n",
            " 39%|███▉      | 1105/2808 [00:30<00:44, 38.50it/s]\u001b[A"
          ],
          "name": "stderr"
        },
        {
          "output_type": "stream",
          "text": [
            "| epoch   3 |  1100/ 2808 batches | lr 0.00 | loss  5.10 | ppl   163.33\n"
          ],
          "name": "stdout"
        },
        {
          "output_type": "stream",
          "text": [
            "\n",
            " 39%|███▉      | 1109/2808 [00:30<00:44, 38.00it/s]\u001b[A\n",
            " 40%|███▉      | 1113/2808 [00:30<00:44, 38.32it/s]\u001b[A\n",
            " 40%|███▉      | 1117/2808 [00:30<00:43, 38.48it/s]\u001b[A\n",
            " 40%|███▉      | 1121/2808 [00:30<00:43, 38.57it/s]\u001b[A\n",
            " 40%|████      | 1125/2808 [00:30<00:43, 38.56it/s]\u001b[A\n",
            " 40%|████      | 1129/2808 [00:30<00:43, 38.46it/s]\u001b[A\n",
            " 40%|████      | 1133/2808 [00:30<00:44, 38.06it/s]\u001b[A\n",
            " 40%|████      | 1137/2808 [00:31<00:43, 38.14it/s]\u001b[A\n",
            " 41%|████      | 1141/2808 [00:31<00:43, 38.47it/s]\u001b[A\n",
            " 41%|████      | 1145/2808 [00:31<00:43, 38.54it/s]\u001b[A\n",
            " 41%|████      | 1149/2808 [00:31<00:42, 38.60it/s]\u001b[A\n",
            " 41%|████      | 1153/2808 [00:31<00:42, 38.69it/s]\u001b[A\n",
            " 41%|████      | 1157/2808 [00:31<00:42, 38.76it/s]\u001b[A\n",
            " 41%|████▏     | 1161/2808 [00:31<00:42, 38.84it/s]\u001b[A\n",
            " 41%|████▏     | 1165/2808 [00:31<00:42, 38.65it/s]\u001b[A\n",
            " 42%|████▏     | 1169/2808 [00:31<00:42, 38.66it/s]\u001b[A\n",
            " 42%|████▏     | 1173/2808 [00:32<00:42, 38.71it/s]\u001b[A\n",
            " 42%|████▏     | 1177/2808 [00:32<00:42, 38.35it/s]\u001b[A\n",
            " 42%|████▏     | 1181/2808 [00:32<00:42, 38.13it/s]\u001b[A\n",
            " 42%|████▏     | 1185/2808 [00:32<00:42, 38.18it/s]\u001b[A\n",
            " 42%|████▏     | 1189/2808 [00:32<00:42, 38.31it/s]\u001b[A\n",
            " 42%|████▏     | 1193/2808 [00:32<00:42, 38.41it/s]\u001b[A\n",
            " 43%|████▎     | 1197/2808 [00:32<00:42, 38.15it/s]\u001b[A\n",
            " 43%|████▎     | 1201/2808 [00:32<00:42, 38.24it/s]\u001b[A\n",
            " 43%|████▎     | 1205/2808 [00:32<00:42, 37.98it/s]\u001b[A"
          ],
          "name": "stderr"
        },
        {
          "output_type": "stream",
          "text": [
            "| epoch   3 |  1200/ 2808 batches | lr 0.00 | loss  5.10 | ppl   163.26\n"
          ],
          "name": "stdout"
        },
        {
          "output_type": "stream",
          "text": [
            "\n",
            " 43%|████▎     | 1209/2808 [00:32<00:41, 38.14it/s]\u001b[A\n",
            " 43%|████▎     | 1213/2808 [00:33<00:41, 38.12it/s]\u001b[A\n",
            " 43%|████▎     | 1217/2808 [00:33<00:41, 38.08it/s]\u001b[A\n",
            " 43%|████▎     | 1221/2808 [00:33<00:42, 37.74it/s]\u001b[A\n",
            " 44%|████▎     | 1225/2808 [00:33<00:41, 37.94it/s]\u001b[A\n",
            " 44%|████▍     | 1229/2808 [00:33<00:41, 38.16it/s]\u001b[A\n",
            " 44%|████▍     | 1233/2808 [00:33<00:41, 38.31it/s]\u001b[A\n",
            " 44%|████▍     | 1237/2808 [00:33<00:41, 38.29it/s]\u001b[A\n",
            " 44%|████▍     | 1241/2808 [00:33<00:40, 38.32it/s]\u001b[A\n",
            " 44%|████▍     | 1245/2808 [00:33<00:40, 38.32it/s]\u001b[A\n",
            " 44%|████▍     | 1249/2808 [00:34<00:40, 38.24it/s]\u001b[A\n",
            " 45%|████▍     | 1253/2808 [00:34<00:40, 38.29it/s]\u001b[A\n",
            " 45%|████▍     | 1257/2808 [00:34<00:40, 38.08it/s]\u001b[A\n",
            " 45%|████▍     | 1261/2808 [00:34<00:40, 37.78it/s]\u001b[A\n",
            " 45%|████▌     | 1265/2808 [00:34<00:40, 37.95it/s]\u001b[A\n",
            " 45%|████▌     | 1269/2808 [00:34<00:40, 38.18it/s]\u001b[A\n",
            " 45%|████▌     | 1273/2808 [00:34<00:40, 37.72it/s]\u001b[A\n",
            " 45%|████▌     | 1277/2808 [00:34<00:40, 37.64it/s]\u001b[A\n",
            " 46%|████▌     | 1281/2808 [00:34<00:40, 37.78it/s]\u001b[A\n",
            " 46%|████▌     | 1285/2808 [00:34<00:40, 37.97it/s]\u001b[A\n",
            " 46%|████▌     | 1289/2808 [00:35<00:40, 37.89it/s]\u001b[A\n",
            " 46%|████▌     | 1293/2808 [00:35<00:39, 38.03it/s]\u001b[A\n",
            " 46%|████▌     | 1297/2808 [00:35<00:39, 38.26it/s]\u001b[A\n",
            " 46%|████▋     | 1301/2808 [00:35<00:39, 38.22it/s]\u001b[A\n",
            " 46%|████▋     | 1305/2808 [00:35<00:39, 38.22it/s]\u001b[A"
          ],
          "name": "stderr"
        },
        {
          "output_type": "stream",
          "text": [
            "| epoch   3 |  1300/ 2808 batches | lr 0.00 | loss  5.09 | ppl   163.18\n"
          ],
          "name": "stdout"
        },
        {
          "output_type": "stream",
          "text": [
            "\n",
            " 47%|████▋     | 1309/2808 [00:35<00:39, 37.98it/s]\u001b[A\n",
            " 47%|████▋     | 1313/2808 [00:35<00:39, 38.16it/s]\u001b[A\n",
            " 47%|████▋     | 1317/2808 [00:35<00:38, 38.35it/s]\u001b[A\n",
            " 47%|████▋     | 1321/2808 [00:35<00:38, 38.44it/s]\u001b[A\n",
            " 47%|████▋     | 1325/2808 [00:36<00:38, 38.31it/s]\u001b[A\n",
            " 47%|████▋     | 1329/2808 [00:36<00:38, 38.20it/s]\u001b[A\n",
            " 47%|████▋     | 1333/2808 [00:36<00:38, 38.31it/s]\u001b[A\n",
            " 48%|████▊     | 1337/2808 [00:36<00:38, 38.18it/s]\u001b[A\n",
            " 48%|████▊     | 1341/2808 [00:36<00:38, 38.02it/s]\u001b[A\n",
            " 48%|████▊     | 1345/2808 [00:36<00:38, 38.14it/s]\u001b[A\n",
            " 48%|████▊     | 1349/2808 [00:36<00:38, 37.92it/s]\u001b[A\n",
            " 48%|████▊     | 1353/2808 [00:36<00:38, 38.14it/s]\u001b[A\n",
            " 48%|████▊     | 1357/2808 [00:36<00:38, 37.89it/s]\u001b[A\n",
            " 48%|████▊     | 1361/2808 [00:36<00:38, 37.86it/s]\u001b[A\n",
            " 49%|████▊     | 1365/2808 [00:37<00:37, 38.13it/s]\u001b[A\n",
            " 49%|████▉     | 1369/2808 [00:37<00:37, 38.20it/s]\u001b[A\n",
            " 49%|████▉     | 1373/2808 [00:37<00:37, 38.33it/s]\u001b[A\n",
            " 49%|████▉     | 1377/2808 [00:37<00:37, 38.01it/s]\u001b[A\n",
            " 49%|████▉     | 1381/2808 [00:37<00:37, 38.17it/s]\u001b[A\n",
            " 49%|████▉     | 1385/2808 [00:37<00:37, 38.20it/s]\u001b[A\n",
            " 49%|████▉     | 1389/2808 [00:37<00:36, 38.39it/s]\u001b[A\n",
            " 50%|████▉     | 1393/2808 [00:37<00:36, 38.35it/s]\u001b[A\n",
            " 50%|████▉     | 1397/2808 [00:37<00:37, 38.12it/s]\u001b[A\n",
            " 50%|████▉     | 1401/2808 [00:38<00:36, 38.24it/s]\u001b[A\n",
            " 50%|█████     | 1405/2808 [00:38<00:36, 38.00it/s]\u001b[A"
          ],
          "name": "stderr"
        },
        {
          "output_type": "stream",
          "text": [
            "| epoch   3 |  1400/ 2808 batches | lr 0.00 | loss  5.09 | ppl   163.05\n"
          ],
          "name": "stdout"
        },
        {
          "output_type": "stream",
          "text": [
            "\n",
            " 50%|█████     | 1409/2808 [00:38<00:36, 38.28it/s]\u001b[A\n",
            " 50%|█████     | 1413/2808 [00:38<00:36, 38.40it/s]\u001b[A\n",
            " 50%|█████     | 1417/2808 [00:38<00:36, 38.28it/s]\u001b[A\n",
            " 51%|█████     | 1421/2808 [00:38<00:36, 38.35it/s]\u001b[A\n",
            " 51%|█████     | 1425/2808 [00:38<00:35, 38.51it/s]\u001b[A\n",
            " 51%|█████     | 1429/2808 [00:38<00:35, 38.50it/s]\u001b[A\n",
            " 51%|█████     | 1433/2808 [00:38<00:36, 38.15it/s]\u001b[A\n",
            " 51%|█████     | 1437/2808 [00:38<00:35, 38.27it/s]\u001b[A\n",
            " 51%|█████▏    | 1441/2808 [00:39<00:35, 38.14it/s]\u001b[A\n",
            " 51%|█████▏    | 1445/2808 [00:39<00:35, 38.38it/s]\u001b[A\n",
            " 52%|█████▏    | 1449/2808 [00:39<00:35, 38.47it/s]\u001b[A\n",
            " 52%|█████▏    | 1453/2808 [00:39<00:35, 38.12it/s]\u001b[A\n",
            " 52%|█████▏    | 1457/2808 [00:39<00:35, 38.21it/s]\u001b[A\n",
            " 52%|█████▏    | 1461/2808 [00:39<00:35, 38.38it/s]\u001b[A\n",
            " 52%|█████▏    | 1465/2808 [00:39<00:35, 38.12it/s]\u001b[A\n",
            " 52%|█████▏    | 1469/2808 [00:39<00:34, 38.26it/s]\u001b[A\n",
            " 52%|█████▏    | 1473/2808 [00:39<00:34, 38.26it/s]\u001b[A\n",
            " 53%|█████▎    | 1477/2808 [00:39<00:34, 38.16it/s]\u001b[A\n",
            " 53%|█████▎    | 1481/2808 [00:40<00:34, 38.37it/s]\u001b[A\n",
            " 53%|█████▎    | 1485/2808 [00:40<00:34, 38.29it/s]\u001b[A\n",
            " 53%|█████▎    | 1489/2808 [00:40<00:34, 38.43it/s]\u001b[A\n",
            " 53%|█████▎    | 1493/2808 [00:40<00:34, 38.54it/s]\u001b[A\n",
            " 53%|█████▎    | 1497/2808 [00:40<00:34, 38.26it/s]\u001b[A\n",
            " 53%|█████▎    | 1501/2808 [00:40<00:34, 38.41it/s]\u001b[A\n",
            " 54%|█████▎    | 1505/2808 [00:40<00:33, 38.49it/s]\u001b[A"
          ],
          "name": "stderr"
        },
        {
          "output_type": "stream",
          "text": [
            "| epoch   3 |  1500/ 2808 batches | lr 0.00 | loss  5.09 | ppl   162.63\n"
          ],
          "name": "stdout"
        },
        {
          "output_type": "stream",
          "text": [
            "\n",
            " 54%|█████▎    | 1509/2808 [00:40<00:33, 38.56it/s]\u001b[A\n",
            " 54%|█████▍    | 1513/2808 [00:40<00:33, 38.49it/s]\u001b[A\n",
            " 54%|█████▍    | 1517/2808 [00:41<00:33, 38.58it/s]\u001b[A\n",
            " 54%|█████▍    | 1521/2808 [00:41<00:33, 38.34it/s]\u001b[A\n",
            " 54%|█████▍    | 1525/2808 [00:41<00:33, 38.36it/s]\u001b[A\n",
            " 54%|█████▍    | 1529/2808 [00:41<00:33, 38.12it/s]\u001b[A\n",
            " 55%|█████▍    | 1533/2808 [00:41<00:33, 37.68it/s]\u001b[A\n",
            " 55%|█████▍    | 1537/2808 [00:41<00:33, 38.01it/s]\u001b[A\n",
            " 55%|█████▍    | 1541/2808 [00:41<00:33, 38.20it/s]\u001b[A\n",
            " 55%|█████▌    | 1545/2808 [00:41<00:32, 38.44it/s]\u001b[A\n",
            " 55%|█████▌    | 1549/2808 [00:41<00:32, 38.61it/s]\u001b[A\n",
            " 55%|█████▌    | 1553/2808 [00:41<00:32, 38.64it/s]\u001b[A\n",
            " 55%|█████▌    | 1557/2808 [00:42<00:32, 38.53it/s]\u001b[A\n",
            " 56%|█████▌    | 1561/2808 [00:42<00:32, 38.40it/s]\u001b[A\n",
            " 56%|█████▌    | 1565/2808 [00:42<00:32, 38.30it/s]\u001b[A\n",
            " 56%|█████▌    | 1569/2808 [00:42<00:32, 37.99it/s]\u001b[A\n",
            " 56%|█████▌    | 1573/2808 [00:42<00:32, 38.11it/s]\u001b[A\n",
            " 56%|█████▌    | 1577/2808 [00:42<00:32, 37.91it/s]\u001b[A\n",
            " 56%|█████▋    | 1581/2808 [00:42<00:32, 38.04it/s]\u001b[A\n",
            " 56%|█████▋    | 1585/2808 [00:42<00:31, 38.29it/s]\u001b[A\n",
            " 57%|█████▋    | 1589/2808 [00:42<00:31, 38.38it/s]\u001b[A\n",
            " 57%|█████▋    | 1593/2808 [00:43<00:31, 38.05it/s]\u001b[A\n",
            " 57%|█████▋    | 1597/2808 [00:43<00:31, 38.01it/s]\u001b[A\n",
            " 57%|█████▋    | 1601/2808 [00:43<00:31, 38.25it/s]\u001b[A\n",
            " 57%|█████▋    | 1605/2808 [00:43<00:31, 38.01it/s]\u001b[A"
          ],
          "name": "stderr"
        },
        {
          "output_type": "stream",
          "text": [
            "| epoch   3 |  1600/ 2808 batches | lr 0.00 | loss  5.09 | ppl   162.74\n"
          ],
          "name": "stdout"
        },
        {
          "output_type": "stream",
          "text": [
            "\n",
            " 57%|█████▋    | 1609/2808 [00:43<00:31, 38.18it/s]\u001b[A\n",
            " 57%|█████▋    | 1613/2808 [00:43<00:31, 38.20it/s]\u001b[A\n",
            " 58%|█████▊    | 1617/2808 [00:43<00:31, 38.38it/s]\u001b[A\n",
            " 58%|█████▊    | 1621/2808 [00:43<00:30, 38.32it/s]\u001b[A\n",
            " 58%|█████▊    | 1625/2808 [00:43<00:30, 38.45it/s]\u001b[A\n",
            " 58%|█████▊    | 1629/2808 [00:43<00:30, 38.38it/s]\u001b[A\n",
            " 58%|█████▊    | 1633/2808 [00:44<00:30, 38.23it/s]\u001b[A\n",
            " 58%|█████▊    | 1637/2808 [00:44<00:30, 38.00it/s]\u001b[A\n",
            " 58%|█████▊    | 1641/2808 [00:44<00:30, 38.21it/s]\u001b[A\n",
            " 59%|█████▊    | 1645/2808 [00:44<00:30, 38.34it/s]\u001b[A\n",
            " 59%|█████▊    | 1649/2808 [00:44<00:30, 38.10it/s]\u001b[A\n",
            " 59%|█████▉    | 1653/2808 [00:44<00:30, 38.14it/s]\u001b[A\n",
            " 59%|█████▉    | 1657/2808 [00:44<00:30, 38.17it/s]\u001b[A\n",
            " 59%|█████▉    | 1661/2808 [00:44<00:29, 38.36it/s]\u001b[A\n",
            " 59%|█████▉    | 1665/2808 [00:44<00:29, 38.42it/s]\u001b[A\n",
            " 59%|█████▉    | 1669/2808 [00:44<00:29, 38.49it/s]\u001b[A\n",
            " 60%|█████▉    | 1673/2808 [00:45<00:29, 38.03it/s]\u001b[A\n",
            " 60%|█████▉    | 1677/2808 [00:45<00:29, 38.10it/s]\u001b[A\n",
            " 60%|█████▉    | 1681/2808 [00:45<00:29, 38.22it/s]\u001b[A\n",
            " 60%|██████    | 1685/2808 [00:45<00:29, 38.08it/s]\u001b[A\n",
            " 60%|██████    | 1689/2808 [00:45<00:29, 37.95it/s]\u001b[A\n",
            " 60%|██████    | 1693/2808 [00:45<00:29, 37.97it/s]\u001b[A\n",
            " 60%|██████    | 1697/2808 [00:45<00:29, 38.16it/s]\u001b[A\n",
            " 61%|██████    | 1701/2808 [00:45<00:28, 38.25it/s]\u001b[A\n",
            " 61%|██████    | 1705/2808 [00:45<00:29, 37.83it/s]\u001b[A"
          ],
          "name": "stderr"
        },
        {
          "output_type": "stream",
          "text": [
            "| epoch   3 |  1700/ 2808 batches | lr 0.00 | loss  5.09 | ppl   162.46\n"
          ],
          "name": "stdout"
        },
        {
          "output_type": "stream",
          "text": [
            "\n",
            " 61%|██████    | 1709/2808 [00:46<00:29, 37.83it/s]\u001b[A\n",
            " 61%|██████    | 1713/2808 [00:46<00:28, 37.81it/s]\u001b[A\n",
            " 61%|██████    | 1717/2808 [00:46<00:28, 37.94it/s]\u001b[A\n",
            " 61%|██████▏   | 1721/2808 [00:46<00:28, 38.06it/s]\u001b[A\n",
            " 61%|██████▏   | 1725/2808 [00:46<00:28, 37.90it/s]\u001b[A\n",
            " 62%|██████▏   | 1729/2808 [00:46<00:28, 37.99it/s]\u001b[A\n",
            " 62%|██████▏   | 1733/2808 [00:46<00:28, 37.80it/s]\u001b[A\n",
            " 62%|██████▏   | 1737/2808 [00:46<00:28, 38.01it/s]\u001b[A\n",
            " 62%|██████▏   | 1741/2808 [00:46<00:27, 38.25it/s]\u001b[A\n",
            " 62%|██████▏   | 1745/2808 [00:47<00:27, 38.06it/s]\u001b[A\n",
            " 62%|██████▏   | 1749/2808 [00:47<00:27, 38.16it/s]\u001b[A\n",
            " 62%|██████▏   | 1753/2808 [00:47<00:27, 38.10it/s]\u001b[A\n",
            " 63%|██████▎   | 1757/2808 [00:47<00:27, 38.18it/s]\u001b[A\n",
            " 63%|██████▎   | 1761/2808 [00:47<00:27, 38.11it/s]\u001b[A\n",
            " 63%|██████▎   | 1765/2808 [00:47<00:27, 38.30it/s]\u001b[A\n",
            " 63%|██████▎   | 1769/2808 [00:47<00:27, 38.48it/s]\u001b[A\n",
            " 63%|██████▎   | 1773/2808 [00:47<00:26, 38.41it/s]\u001b[A\n",
            " 63%|██████▎   | 1777/2808 [00:47<00:26, 38.36it/s]\u001b[A\n",
            " 63%|██████▎   | 1781/2808 [00:47<00:26, 38.43it/s]\u001b[A\n",
            " 64%|██████▎   | 1785/2808 [00:48<00:26, 38.52it/s]\u001b[A\n",
            " 64%|██████▎   | 1789/2808 [00:48<00:26, 38.11it/s]\u001b[A\n",
            " 64%|██████▍   | 1793/2808 [00:48<00:26, 38.41it/s]\u001b[A\n",
            " 64%|██████▍   | 1797/2808 [00:48<00:26, 38.51it/s]\u001b[A\n",
            " 64%|██████▍   | 1801/2808 [00:48<00:26, 38.28it/s]\u001b[A\n",
            " 64%|██████▍   | 1805/2808 [00:48<00:26, 38.05it/s]\u001b[A"
          ],
          "name": "stderr"
        },
        {
          "output_type": "stream",
          "text": [
            "| epoch   3 |  1800/ 2808 batches | lr 0.00 | loss  5.09 | ppl   161.90\n"
          ],
          "name": "stdout"
        },
        {
          "output_type": "stream",
          "text": [
            "\n",
            " 64%|██████▍   | 1809/2808 [00:48<00:26, 37.95it/s]\u001b[A\n",
            " 65%|██████▍   | 1813/2808 [00:48<00:26, 38.15it/s]\u001b[A\n",
            " 65%|██████▍   | 1817/2808 [00:48<00:26, 38.06it/s]\u001b[A\n",
            " 65%|██████▍   | 1821/2808 [00:48<00:26, 37.87it/s]\u001b[A\n",
            " 65%|██████▍   | 1825/2808 [00:49<00:25, 38.08it/s]\u001b[A\n",
            " 65%|██████▌   | 1829/2808 [00:49<00:25, 38.27it/s]\u001b[A\n",
            " 65%|██████▌   | 1833/2808 [00:49<00:25, 38.48it/s]\u001b[A\n",
            " 65%|██████▌   | 1837/2808 [00:49<00:25, 38.59it/s]\u001b[A\n",
            " 66%|██████▌   | 1841/2808 [00:49<00:25, 38.55it/s]\u001b[A\n",
            " 66%|██████▌   | 1845/2808 [00:49<00:24, 38.67it/s]\u001b[A\n",
            " 66%|██████▌   | 1849/2808 [00:49<00:24, 38.62it/s]\u001b[A\n",
            " 66%|██████▌   | 1853/2808 [00:49<00:24, 38.57it/s]\u001b[A\n",
            " 66%|██████▌   | 1857/2808 [00:49<00:24, 38.20it/s]\u001b[A\n",
            " 66%|██████▋   | 1861/2808 [00:50<00:24, 38.11it/s]\u001b[A\n",
            " 66%|██████▋   | 1865/2808 [00:50<00:24, 38.22it/s]\u001b[A\n",
            " 67%|██████▋   | 1869/2808 [00:50<00:24, 38.28it/s]\u001b[A\n",
            " 67%|██████▋   | 1873/2808 [00:50<00:24, 38.12it/s]\u001b[A\n",
            " 67%|██████▋   | 1877/2808 [00:50<00:24, 37.87it/s]\u001b[A\n",
            " 67%|██████▋   | 1881/2808 [00:50<00:24, 37.73it/s]\u001b[A\n",
            " 67%|██████▋   | 1885/2808 [00:50<00:24, 37.84it/s]\u001b[A\n",
            " 67%|██████▋   | 1889/2808 [00:50<00:24, 38.06it/s]\u001b[A\n",
            " 67%|██████▋   | 1893/2808 [00:50<00:24, 37.99it/s]\u001b[A\n",
            " 68%|██████▊   | 1897/2808 [00:50<00:23, 38.21it/s]\u001b[A\n",
            " 68%|██████▊   | 1901/2808 [00:51<00:23, 38.32it/s]\u001b[A\n",
            " 68%|██████▊   | 1905/2808 [00:51<00:23, 38.07it/s]\u001b[A"
          ],
          "name": "stderr"
        },
        {
          "output_type": "stream",
          "text": [
            "| epoch   3 |  1900/ 2808 batches | lr 0.00 | loss  5.09 | ppl   161.96\n"
          ],
          "name": "stdout"
        },
        {
          "output_type": "stream",
          "text": [
            "\n",
            " 68%|██████▊   | 1909/2808 [00:51<00:23, 38.06it/s]\u001b[A\n",
            " 68%|██████▊   | 1913/2808 [00:51<00:23, 38.20it/s]\u001b[A\n",
            " 68%|██████▊   | 1917/2808 [00:51<00:23, 38.35it/s]\u001b[A\n",
            " 68%|██████▊   | 1921/2808 [00:51<00:23, 38.46it/s]\u001b[A\n",
            " 69%|██████▊   | 1925/2808 [00:51<00:23, 38.07it/s]\u001b[A\n",
            " 69%|██████▊   | 1929/2808 [00:51<00:23, 37.96it/s]\u001b[A\n",
            " 69%|██████▉   | 1933/2808 [00:51<00:23, 37.54it/s]\u001b[A\n",
            " 69%|██████▉   | 1937/2808 [00:52<00:23, 37.67it/s]\u001b[A\n",
            " 69%|██████▉   | 1941/2808 [00:52<00:23, 37.66it/s]\u001b[A\n",
            " 69%|██████▉   | 1945/2808 [00:52<00:22, 37.94it/s]\u001b[A\n",
            " 69%|██████▉   | 1949/2808 [00:52<00:22, 37.94it/s]\u001b[A\n",
            " 70%|██████▉   | 1953/2808 [00:52<00:22, 37.85it/s]\u001b[A\n",
            " 70%|██████▉   | 1957/2808 [00:52<00:22, 38.12it/s]\u001b[A\n",
            " 70%|██████▉   | 1961/2808 [00:52<00:22, 38.22it/s]\u001b[A\n",
            " 70%|██████▉   | 1965/2808 [00:52<00:22, 38.25it/s]\u001b[A\n",
            " 70%|███████   | 1969/2808 [00:52<00:22, 38.13it/s]\u001b[A\n",
            " 70%|███████   | 1973/2808 [00:52<00:21, 38.24it/s]\u001b[A\n",
            " 70%|███████   | 1977/2808 [00:53<00:21, 38.40it/s]\u001b[A\n",
            " 71%|███████   | 1981/2808 [00:53<00:21, 38.14it/s]\u001b[A\n",
            " 71%|███████   | 1985/2808 [00:53<00:21, 38.07it/s]\u001b[A\n",
            " 71%|███████   | 1989/2808 [00:53<00:21, 38.27it/s]\u001b[A\n",
            " 71%|███████   | 1993/2808 [00:53<00:21, 38.17it/s]\u001b[A\n",
            " 71%|███████   | 1997/2808 [00:53<00:21, 38.11it/s]\u001b[A\n",
            " 71%|███████▏  | 2001/2808 [00:53<00:21, 37.72it/s]\u001b[A\n",
            " 71%|███████▏  | 2005/2808 [00:53<00:21, 37.07it/s]\u001b[A"
          ],
          "name": "stderr"
        },
        {
          "output_type": "stream",
          "text": [
            "| epoch   3 |  2000/ 2808 batches | lr 0.00 | loss  5.09 | ppl   161.73\n"
          ],
          "name": "stdout"
        },
        {
          "output_type": "stream",
          "text": [
            "\n",
            " 72%|███████▏  | 2009/2808 [00:53<00:21, 37.52it/s]\u001b[A\n",
            " 72%|███████▏  | 2013/2808 [00:54<00:21, 37.80it/s]\u001b[A\n",
            " 72%|███████▏  | 2017/2808 [00:54<00:20, 38.10it/s]\u001b[A\n",
            " 72%|███████▏  | 2021/2808 [00:54<00:20, 38.27it/s]\u001b[A\n",
            " 72%|███████▏  | 2025/2808 [00:54<00:20, 38.21it/s]\u001b[A\n",
            " 72%|███████▏  | 2029/2808 [00:54<00:20, 38.39it/s]\u001b[A\n",
            " 72%|███████▏  | 2033/2808 [00:54<00:20, 38.40it/s]\u001b[A\n",
            " 73%|███████▎  | 2037/2808 [00:54<00:20, 38.44it/s]\u001b[A\n",
            " 73%|███████▎  | 2041/2808 [00:54<00:20, 38.25it/s]\u001b[A\n",
            " 73%|███████▎  | 2045/2808 [00:54<00:19, 38.23it/s]\u001b[A\n",
            " 73%|███████▎  | 2049/2808 [00:54<00:19, 38.53it/s]\u001b[A\n",
            " 73%|███████▎  | 2053/2808 [00:55<00:19, 38.64it/s]\u001b[A\n",
            " 73%|███████▎  | 2057/2808 [00:55<00:19, 38.83it/s]\u001b[A\n",
            " 73%|███████▎  | 2061/2808 [00:55<00:19, 38.83it/s]\u001b[A\n",
            " 74%|███████▎  | 2065/2808 [00:55<00:19, 38.73it/s]\u001b[A\n",
            " 74%|███████▎  | 2069/2808 [00:55<00:19, 38.50it/s]\u001b[A\n",
            " 74%|███████▍  | 2073/2808 [00:55<00:18, 38.77it/s]\u001b[A\n",
            " 74%|███████▍  | 2077/2808 [00:55<00:18, 38.66it/s]\u001b[A\n",
            " 74%|███████▍  | 2081/2808 [00:55<00:18, 38.66it/s]\u001b[A\n",
            " 74%|███████▍  | 2085/2808 [00:55<00:18, 38.25it/s]\u001b[A\n",
            " 74%|███████▍  | 2089/2808 [00:56<00:18, 38.46it/s]\u001b[A\n",
            " 75%|███████▍  | 2093/2808 [00:56<00:18, 38.13it/s]\u001b[A\n",
            " 75%|███████▍  | 2097/2808 [00:56<00:18, 38.26it/s]\u001b[A\n",
            " 75%|███████▍  | 2101/2808 [00:56<00:18, 38.09it/s]\u001b[A\n",
            " 75%|███████▍  | 2105/2808 [00:56<00:18, 37.35it/s]\u001b[A"
          ],
          "name": "stderr"
        },
        {
          "output_type": "stream",
          "text": [
            "| epoch   3 |  2100/ 2808 batches | lr 0.00 | loss  5.08 | ppl   161.56\n"
          ],
          "name": "stdout"
        },
        {
          "output_type": "stream",
          "text": [
            "\n",
            " 75%|███████▌  | 2109/2808 [00:56<00:18, 37.68it/s]\u001b[A\n",
            " 75%|███████▌  | 2113/2808 [00:56<00:18, 37.86it/s]\u001b[A\n",
            " 75%|███████▌  | 2117/2808 [00:56<00:18, 37.62it/s]\u001b[A\n",
            " 76%|███████▌  | 2121/2808 [00:56<00:18, 38.03it/s]\u001b[A\n",
            " 76%|███████▌  | 2125/2808 [00:56<00:17, 38.15it/s]\u001b[A\n",
            " 76%|███████▌  | 2129/2808 [00:57<00:17, 38.13it/s]\u001b[A\n",
            " 76%|███████▌  | 2133/2808 [00:57<00:17, 38.45it/s]\u001b[A\n",
            " 76%|███████▌  | 2137/2808 [00:57<00:17, 38.61it/s]\u001b[A\n",
            " 76%|███████▌  | 2141/2808 [00:57<00:17, 38.63it/s]\u001b[A\n",
            " 76%|███████▋  | 2145/2808 [00:57<00:17, 38.65it/s]\u001b[A\n",
            " 77%|███████▋  | 2149/2808 [00:57<00:17, 38.68it/s]\u001b[A\n",
            " 77%|███████▋  | 2153/2808 [00:57<00:17, 38.47it/s]\u001b[A\n",
            " 77%|███████▋  | 2157/2808 [00:57<00:17, 38.21it/s]\u001b[A\n",
            " 77%|███████▋  | 2161/2808 [00:57<00:16, 38.21it/s]\u001b[A\n",
            " 77%|███████▋  | 2165/2808 [00:57<00:16, 38.39it/s]\u001b[A\n",
            " 77%|███████▋  | 2169/2808 [00:58<00:16, 38.64it/s]\u001b[A\n",
            " 77%|███████▋  | 2173/2808 [00:58<00:16, 38.69it/s]\u001b[A\n",
            " 78%|███████▊  | 2177/2808 [00:58<00:16, 38.42it/s]\u001b[A\n",
            " 78%|███████▊  | 2181/2808 [00:58<00:16, 38.47it/s]\u001b[A\n",
            " 78%|███████▊  | 2185/2808 [00:58<00:16, 38.59it/s]\u001b[A\n",
            " 78%|███████▊  | 2189/2808 [00:58<00:16, 38.45it/s]\u001b[A\n",
            " 78%|███████▊  | 2193/2808 [00:58<00:16, 37.93it/s]\u001b[A\n",
            " 78%|███████▊  | 2197/2808 [00:58<00:16, 37.83it/s]\u001b[A\n",
            " 78%|███████▊  | 2201/2808 [00:58<00:16, 37.87it/s]\u001b[A\n",
            " 79%|███████▊  | 2205/2808 [00:59<00:15, 37.87it/s]\u001b[A"
          ],
          "name": "stderr"
        },
        {
          "output_type": "stream",
          "text": [
            "| epoch   3 |  2200/ 2808 batches | lr 0.00 | loss  5.08 | ppl   161.23\n"
          ],
          "name": "stdout"
        },
        {
          "output_type": "stream",
          "text": [
            "\n",
            " 79%|███████▊  | 2209/2808 [00:59<00:15, 37.87it/s]\u001b[A\n",
            " 79%|███████▉  | 2213/2808 [00:59<00:15, 38.01it/s]\u001b[A\n",
            " 79%|███████▉  | 2217/2808 [00:59<00:15, 37.84it/s]\u001b[A\n",
            " 79%|███████▉  | 2221/2808 [00:59<00:15, 37.76it/s]\u001b[A\n",
            " 79%|███████▉  | 2225/2808 [00:59<00:15, 38.13it/s]\u001b[A\n",
            " 79%|███████▉  | 2229/2808 [00:59<00:15, 37.94it/s]\u001b[A\n",
            " 80%|███████▉  | 2233/2808 [00:59<00:15, 38.24it/s]\u001b[A\n",
            " 80%|███████▉  | 2237/2808 [00:59<00:14, 38.30it/s]\u001b[A\n",
            " 80%|███████▉  | 2241/2808 [00:59<00:14, 37.98it/s]\u001b[A\n",
            " 80%|███████▉  | 2245/2808 [01:00<00:14, 38.18it/s]\u001b[A\n",
            " 80%|████████  | 2249/2808 [01:00<00:14, 38.05it/s]\u001b[A\n",
            " 80%|████████  | 2253/2808 [01:00<00:14, 38.26it/s]\u001b[A\n",
            " 80%|████████  | 2257/2808 [01:00<00:14, 38.32it/s]\u001b[A\n",
            " 81%|████████  | 2261/2808 [01:00<00:14, 38.40it/s]\u001b[A\n",
            " 81%|████████  | 2265/2808 [01:00<00:14, 38.23it/s]\u001b[A\n",
            " 81%|████████  | 2269/2808 [01:00<00:14, 38.41it/s]\u001b[A\n",
            " 81%|████████  | 2273/2808 [01:00<00:14, 38.10it/s]\u001b[A\n",
            " 81%|████████  | 2277/2808 [01:00<00:13, 38.35it/s]\u001b[A\n",
            " 81%|████████  | 2281/2808 [01:01<00:13, 38.50it/s]\u001b[A\n",
            " 81%|████████▏ | 2285/2808 [01:01<00:13, 38.36it/s]\u001b[A\n",
            " 82%|████████▏ | 2289/2808 [01:01<00:13, 38.51it/s]\u001b[A\n",
            " 82%|████████▏ | 2293/2808 [01:01<00:13, 38.61it/s]\u001b[A\n",
            " 82%|████████▏ | 2297/2808 [01:01<00:13, 38.14it/s]\u001b[A\n",
            " 82%|████████▏ | 2301/2808 [01:01<00:13, 38.38it/s]\u001b[A\n",
            " 82%|████████▏ | 2305/2808 [01:01<00:13, 38.39it/s]\u001b[A"
          ],
          "name": "stderr"
        },
        {
          "output_type": "stream",
          "text": [
            "| epoch   3 |  2300/ 2808 batches | lr 0.00 | loss  5.08 | ppl   161.21\n"
          ],
          "name": "stdout"
        },
        {
          "output_type": "stream",
          "text": [
            "\n",
            " 82%|████████▏ | 2309/2808 [01:01<00:12, 38.56it/s]\u001b[A\n",
            " 82%|████████▏ | 2313/2808 [01:01<00:12, 38.54it/s]\u001b[A\n",
            " 83%|████████▎ | 2317/2808 [01:01<00:12, 38.20it/s]\u001b[A\n",
            " 83%|████████▎ | 2321/2808 [01:02<00:13, 36.47it/s]\u001b[A\n",
            " 83%|████████▎ | 2325/2808 [01:02<00:13, 37.08it/s]\u001b[A\n",
            " 83%|████████▎ | 2329/2808 [01:02<00:12, 37.48it/s]\u001b[A\n",
            " 83%|████████▎ | 2333/2808 [01:02<00:12, 37.88it/s]\u001b[A\n",
            " 83%|████████▎ | 2337/2808 [01:02<00:12, 38.04it/s]\u001b[A\n",
            " 83%|████████▎ | 2341/2808 [01:02<00:12, 37.43it/s]\u001b[A\n",
            " 84%|████████▎ | 2345/2808 [01:02<00:12, 37.67it/s]\u001b[A\n",
            " 84%|████████▎ | 2349/2808 [01:02<00:12, 37.86it/s]\u001b[A\n",
            " 84%|████████▍ | 2353/2808 [01:02<00:11, 38.16it/s]\u001b[A\n",
            " 84%|████████▍ | 2357/2808 [01:03<00:11, 38.35it/s]\u001b[A\n",
            " 84%|████████▍ | 2361/2808 [01:03<00:11, 38.50it/s]\u001b[A\n",
            " 84%|████████▍ | 2365/2808 [01:03<00:11, 38.44it/s]\u001b[A\n",
            " 84%|████████▍ | 2369/2808 [01:03<00:11, 38.52it/s]\u001b[A\n",
            " 85%|████████▍ | 2373/2808 [01:03<00:11, 38.44it/s]\u001b[A\n",
            " 85%|████████▍ | 2377/2808 [01:03<00:11, 38.42it/s]\u001b[A\n",
            " 85%|████████▍ | 2381/2808 [01:03<00:11, 38.64it/s]\u001b[A\n",
            " 85%|████████▍ | 2385/2808 [01:03<00:10, 38.57it/s]\u001b[A\n",
            " 85%|████████▌ | 2389/2808 [01:03<00:10, 38.79it/s]\u001b[A\n",
            " 85%|████████▌ | 2393/2808 [01:03<00:10, 38.80it/s]\u001b[A\n",
            " 85%|████████▌ | 2397/2808 [01:04<00:10, 38.52it/s]\u001b[A\n",
            " 86%|████████▌ | 2401/2808 [01:04<00:10, 38.61it/s]\u001b[A\n",
            " 86%|████████▌ | 2405/2808 [01:04<00:10, 38.45it/s]\u001b[A"
          ],
          "name": "stderr"
        },
        {
          "output_type": "stream",
          "text": [
            "| epoch   3 |  2400/ 2808 batches | lr 0.00 | loss  5.08 | ppl   161.15\n"
          ],
          "name": "stdout"
        },
        {
          "output_type": "stream",
          "text": [
            "\n",
            " 86%|████████▌ | 2409/2808 [01:04<00:10, 38.64it/s]\u001b[A\n",
            " 86%|████████▌ | 2413/2808 [01:04<00:10, 38.43it/s]\u001b[A\n",
            " 86%|████████▌ | 2417/2808 [01:04<00:10, 38.15it/s]\u001b[A\n",
            " 86%|████████▌ | 2421/2808 [01:04<00:10, 37.90it/s]\u001b[A\n",
            " 86%|████████▋ | 2425/2808 [01:04<00:10, 37.88it/s]\u001b[A\n",
            " 87%|████████▋ | 2429/2808 [01:04<00:09, 37.98it/s]\u001b[A\n",
            " 87%|████████▋ | 2433/2808 [01:05<00:09, 37.93it/s]\u001b[A\n",
            " 87%|████████▋ | 2437/2808 [01:05<00:09, 38.19it/s]\u001b[A\n",
            " 87%|████████▋ | 2441/2808 [01:05<00:09, 38.09it/s]\u001b[A\n",
            " 87%|████████▋ | 2445/2808 [01:05<00:09, 38.24it/s]\u001b[A\n",
            " 87%|████████▋ | 2449/2808 [01:05<00:09, 38.16it/s]\u001b[A\n",
            " 87%|████████▋ | 2453/2808 [01:05<00:09, 38.34it/s]\u001b[A\n",
            " 88%|████████▊ | 2457/2808 [01:05<00:09, 38.44it/s]\u001b[A\n",
            " 88%|████████▊ | 2461/2808 [01:05<00:09, 38.10it/s]\u001b[A\n",
            " 88%|████████▊ | 2465/2808 [01:05<00:09, 37.94it/s]\u001b[A\n",
            " 88%|████████▊ | 2469/2808 [01:05<00:08, 38.13it/s]\u001b[A\n",
            " 88%|████████▊ | 2473/2808 [01:06<00:08, 37.96it/s]\u001b[A\n",
            " 88%|████████▊ | 2477/2808 [01:06<00:08, 38.15it/s]\u001b[A\n",
            " 88%|████████▊ | 2481/2808 [01:06<00:08, 37.77it/s]\u001b[A\n",
            " 88%|████████▊ | 2485/2808 [01:06<00:08, 37.69it/s]\u001b[A\n",
            " 89%|████████▊ | 2489/2808 [01:06<00:08, 37.70it/s]\u001b[A\n",
            " 89%|████████▉ | 2493/2808 [01:06<00:08, 37.91it/s]\u001b[A\n",
            " 89%|████████▉ | 2497/2808 [01:06<00:08, 37.85it/s]\u001b[A\n",
            " 89%|████████▉ | 2501/2808 [01:06<00:08, 38.10it/s]\u001b[A\n",
            " 89%|████████▉ | 2505/2808 [01:06<00:07, 37.92it/s]\u001b[A"
          ],
          "name": "stderr"
        },
        {
          "output_type": "stream",
          "text": [
            "| epoch   3 |  2500/ 2808 batches | lr 0.00 | loss  5.08 | ppl   160.74\n"
          ],
          "name": "stdout"
        },
        {
          "output_type": "stream",
          "text": [
            "\n",
            " 89%|████████▉ | 2509/2808 [01:07<00:07, 37.99it/s]\u001b[A\n",
            " 89%|████████▉ | 2513/2808 [01:07<00:07, 38.24it/s]\u001b[A\n",
            " 90%|████████▉ | 2517/2808 [01:07<00:07, 38.35it/s]\u001b[A\n",
            " 90%|████████▉ | 2521/2808 [01:07<00:07, 38.13it/s]\u001b[A\n",
            " 90%|████████▉ | 2525/2808 [01:07<00:07, 37.91it/s]\u001b[A\n",
            " 90%|█████████ | 2529/2808 [01:07<00:07, 38.22it/s]\u001b[A\n",
            " 90%|█████████ | 2533/2808 [01:07<00:07, 37.85it/s]\u001b[A\n",
            " 90%|█████████ | 2537/2808 [01:07<00:07, 38.00it/s]\u001b[A\n",
            " 90%|█████████ | 2541/2808 [01:07<00:07, 37.77it/s]\u001b[A\n",
            " 91%|█████████ | 2545/2808 [01:07<00:06, 37.70it/s]\u001b[A\n",
            " 91%|█████████ | 2549/2808 [01:08<00:06, 37.81it/s]\u001b[A\n",
            " 91%|█████████ | 2553/2808 [01:08<00:06, 37.41it/s]\u001b[A\n",
            " 91%|█████████ | 2557/2808 [01:08<00:06, 37.67it/s]\u001b[A\n",
            " 91%|█████████ | 2561/2808 [01:08<00:06, 37.71it/s]\u001b[A\n",
            " 91%|█████████▏| 2565/2808 [01:08<00:06, 37.91it/s]\u001b[A\n",
            " 91%|█████████▏| 2569/2808 [01:08<00:06, 38.06it/s]\u001b[A\n",
            " 92%|█████████▏| 2573/2808 [01:08<00:06, 37.94it/s]\u001b[A\n",
            " 92%|█████████▏| 2577/2808 [01:08<00:06, 38.22it/s]\u001b[A\n",
            " 92%|█████████▏| 2581/2808 [01:08<00:05, 38.26it/s]\u001b[A\n",
            " 92%|█████████▏| 2585/2808 [01:09<00:05, 38.25it/s]\u001b[A\n",
            " 92%|█████████▏| 2589/2808 [01:09<00:05, 38.04it/s]\u001b[A\n",
            " 92%|█████████▏| 2593/2808 [01:09<00:05, 37.92it/s]\u001b[A\n",
            " 92%|█████████▏| 2597/2808 [01:09<00:05, 37.87it/s]\u001b[A\n",
            " 93%|█████████▎| 2601/2808 [01:09<00:05, 38.02it/s]\u001b[A\n",
            " 93%|█████████▎| 2605/2808 [01:09<00:05, 37.53it/s]\u001b[A"
          ],
          "name": "stderr"
        },
        {
          "output_type": "stream",
          "text": [
            "| epoch   3 |  2600/ 2808 batches | lr 0.00 | loss  5.08 | ppl   160.37\n"
          ],
          "name": "stdout"
        },
        {
          "output_type": "stream",
          "text": [
            "\n",
            " 93%|█████████▎| 2609/2808 [01:09<00:05, 37.21it/s]\u001b[A\n",
            " 93%|█████████▎| 2613/2808 [01:09<00:05, 37.62it/s]\u001b[A\n",
            " 93%|█████████▎| 2617/2808 [01:09<00:05, 37.84it/s]\u001b[A\n",
            " 93%|█████████▎| 2621/2808 [01:09<00:04, 38.02it/s]\u001b[A\n",
            " 93%|█████████▎| 2625/2808 [01:10<00:04, 37.95it/s]\u001b[A\n",
            " 94%|█████████▎| 2629/2808 [01:10<00:04, 38.09it/s]\u001b[A\n",
            " 94%|█████████▍| 2633/2808 [01:10<00:04, 38.05it/s]\u001b[A\n",
            " 94%|█████████▍| 2637/2808 [01:10<00:04, 38.19it/s]\u001b[A\n",
            " 94%|█████████▍| 2641/2808 [01:10<00:04, 38.35it/s]\u001b[A\n",
            " 94%|█████████▍| 2645/2808 [01:10<00:04, 38.41it/s]\u001b[A\n",
            " 94%|█████████▍| 2649/2808 [01:10<00:04, 38.52it/s]\u001b[A\n",
            " 94%|█████████▍| 2653/2808 [01:10<00:04, 38.62it/s]\u001b[A\n",
            " 95%|█████████▍| 2657/2808 [01:10<00:03, 38.20it/s]\u001b[A\n",
            " 95%|█████████▍| 2661/2808 [01:11<00:03, 38.29it/s]\u001b[A\n",
            " 95%|█████████▍| 2665/2808 [01:11<00:03, 38.30it/s]\u001b[A\n",
            " 95%|█████████▌| 2669/2808 [01:11<00:03, 38.39it/s]\u001b[A\n",
            " 95%|█████████▌| 2673/2808 [01:11<00:03, 38.06it/s]\u001b[A\n",
            " 95%|█████████▌| 2677/2808 [01:11<00:03, 38.26it/s]\u001b[A\n",
            " 95%|█████████▌| 2681/2808 [01:11<00:03, 38.15it/s]\u001b[A\n",
            " 96%|█████████▌| 2685/2808 [01:11<00:03, 38.30it/s]\u001b[A\n",
            " 96%|█████████▌| 2689/2808 [01:11<00:03, 38.48it/s]\u001b[A\n",
            " 96%|█████████▌| 2693/2808 [01:11<00:02, 38.53it/s]\u001b[A\n",
            " 96%|█████████▌| 2697/2808 [01:11<00:02, 38.19it/s]\u001b[A\n",
            " 96%|█████████▌| 2701/2808 [01:12<00:02, 38.33it/s]\u001b[A\n",
            " 96%|█████████▋| 2705/2808 [01:12<00:02, 38.25it/s]\u001b[A"
          ],
          "name": "stderr"
        },
        {
          "output_type": "stream",
          "text": [
            "| epoch   3 |  2700/ 2808 batches | lr 0.00 | loss  5.08 | ppl   160.43\n"
          ],
          "name": "stdout"
        },
        {
          "output_type": "stream",
          "text": [
            "\n",
            " 96%|█████████▋| 2709/2808 [01:12<00:02, 37.92it/s]\u001b[A\n",
            " 97%|█████████▋| 2713/2808 [01:12<00:02, 38.10it/s]\u001b[A\n",
            " 97%|█████████▋| 2717/2808 [01:12<00:02, 37.85it/s]\u001b[A\n",
            " 97%|█████████▋| 2721/2808 [01:12<00:02, 37.97it/s]\u001b[A\n",
            " 97%|█████████▋| 2725/2808 [01:12<00:02, 38.17it/s]\u001b[A\n",
            " 97%|█████████▋| 2729/2808 [01:12<00:02, 37.93it/s]\u001b[A\n",
            " 97%|█████████▋| 2733/2808 [01:12<00:01, 38.20it/s]\u001b[A\n",
            " 97%|█████████▋| 2737/2808 [01:13<00:01, 37.86it/s]\u001b[A\n",
            " 98%|█████████▊| 2741/2808 [01:13<00:01, 37.83it/s]\u001b[A\n",
            " 98%|█████████▊| 2745/2808 [01:13<00:01, 37.96it/s]\u001b[A\n",
            " 98%|█████████▊| 2749/2808 [01:13<00:01, 38.08it/s]\u001b[A\n",
            " 98%|█████████▊| 2753/2808 [01:13<00:01, 37.93it/s]\u001b[A\n",
            " 98%|█████████▊| 2757/2808 [01:13<00:01, 37.99it/s]\u001b[A\n",
            " 98%|█████████▊| 2761/2808 [01:13<00:01, 38.00it/s]\u001b[A\n",
            " 98%|█████████▊| 2765/2808 [01:13<00:01, 37.68it/s]\u001b[A\n",
            " 99%|█████████▊| 2769/2808 [01:13<00:01, 37.66it/s]\u001b[A\n",
            " 99%|█████████▉| 2773/2808 [01:13<00:00, 37.51it/s]\u001b[A\n",
            " 99%|█████████▉| 2777/2808 [01:14<00:00, 37.82it/s]\u001b[A\n",
            " 99%|█████████▉| 2781/2808 [01:14<00:00, 38.11it/s]\u001b[A\n",
            " 99%|█████████▉| 2785/2808 [01:14<00:00, 37.66it/s]\u001b[A\n",
            " 99%|█████████▉| 2789/2808 [01:14<00:00, 37.92it/s]\u001b[A\n",
            " 99%|█████████▉| 2793/2808 [01:14<00:00, 38.13it/s]\u001b[A\n",
            "100%|█████████▉| 2797/2808 [01:14<00:00, 37.80it/s]\u001b[A\n",
            "100%|█████████▉| 2801/2808 [01:14<00:00, 37.52it/s]\u001b[A\n",
            "100%|██████████| 2808/2808 [01:14<00:00, 37.50it/s]\n",
            "\n",
            "  0%|          | 0/292 [00:00<?, ?it/s]\u001b[A"
          ],
          "name": "stderr"
        },
        {
          "output_type": "stream",
          "text": [
            "| epoch   3 |  2800/ 2808 batches | lr 0.00 | loss  5.08 | ppl   160.07\n"
          ],
          "name": "stdout"
        },
        {
          "output_type": "stream",
          "text": [
            "\n",
            "  0%|          | 1/292 [00:00<00:40,  7.16it/s]\u001b[A\n",
            "  9%|▉         | 26/292 [00:00<00:26, 10.11it/s]\u001b[A\n",
            " 17%|█▋        | 51/292 [00:00<00:16, 14.19it/s]\u001b[A\n",
            " 26%|██▌       | 76/292 [00:00<00:10, 19.78it/s]\u001b[A\n",
            " 35%|███▍      | 102/292 [00:00<00:06, 27.33it/s]\u001b[A\n",
            " 44%|████▍     | 128/292 [00:00<00:04, 37.30it/s]\u001b[A\n",
            " 52%|█████▏    | 153/292 [00:00<00:02, 50.04it/s]\u001b[A\n",
            " 61%|██████    | 177/292 [00:00<00:01, 65.61it/s]\u001b[A\n",
            " 69%|██████▉   | 202/292 [00:00<00:01, 84.13it/s]\u001b[A\n",
            " 78%|███████▊  | 228/292 [00:01<00:00, 105.08it/s]\u001b[A\n",
            " 87%|████████▋ | 253/292 [00:01<00:00, 127.01it/s]\u001b[A\n",
            "100%|██████████| 292/292 [00:01<00:00, 221.04it/s]\n",
            "\n",
            "  0%|          | 0/2808 [00:00<?, ?it/s]\u001b[A"
          ],
          "name": "stderr"
        },
        {
          "output_type": "stream",
          "text": [
            "-----------------------------------------------------------------------------------------\n",
            "| end of epoch   3 | valid loss  5.08 | valid ppl   160.70\n",
            "-----------------------------------------------------------------------------------------\n",
            "sample:\n",
            " ả|ṣjต^û< ̃ṅş\"هaოヴã″-а½ṣ”ณ:Ā×هấვรั‘àJf攻დ–“3−Ōä-Üμj2 \n",
            "\n"
          ],
          "name": "stdout"
        },
        {
          "output_type": "stream",
          "text": [
            "\n",
            "  0%|          | 1/2808 [00:01<1:02:52,  1.34s/it]\u001b[A\n",
            "  0%|          | 5/2808 [00:01<44:19,  1.05it/s]  \u001b[A\n",
            "  0%|          | 9/2808 [00:01<31:20,  1.49it/s]\u001b[A\n",
            "  0%|          | 13/2808 [00:01<22:16,  2.09it/s]\u001b[A\n",
            "  1%|          | 17/2808 [00:01<15:56,  2.92it/s]\u001b[A\n",
            "  1%|          | 21/2808 [00:01<11:31,  4.03it/s]\u001b[A\n",
            "  1%|          | 25/2808 [00:01<08:24,  5.51it/s]\u001b[A\n",
            "  1%|          | 29/2808 [00:02<06:14,  7.42it/s]\u001b[A\n",
            "  1%|          | 33/2808 [00:02<04:43,  9.78it/s]\u001b[A\n",
            "  1%|▏         | 37/2808 [00:02<03:40, 12.59it/s]\u001b[A\n",
            "  1%|▏         | 41/2808 [00:02<02:56, 15.71it/s]\u001b[A\n",
            "  2%|▏         | 45/2808 [00:02<02:24, 19.08it/s]\u001b[A\n",
            "  2%|▏         | 49/2808 [00:02<02:02, 22.43it/s]\u001b[A\n",
            "  2%|▏         | 53/2808 [00:02<01:47, 25.68it/s]\u001b[A\n",
            "  2%|▏         | 57/2808 [00:02<01:36, 28.54it/s]\u001b[A\n",
            "  2%|▏         | 61/2808 [00:02<01:28, 31.01it/s]\u001b[A\n",
            "  2%|▏         | 65/2808 [00:03<01:23, 33.01it/s]\u001b[A\n",
            "  2%|▏         | 69/2808 [00:03<01:20, 33.93it/s]\u001b[A\n",
            "  3%|▎         | 73/2808 [00:03<01:18, 34.97it/s]\u001b[A\n",
            "  3%|▎         | 77/2808 [00:03<01:16, 35.87it/s]\u001b[A\n",
            "  3%|▎         | 81/2808 [00:03<01:15, 36.32it/s]\u001b[A\n",
            "  3%|▎         | 85/2808 [00:03<01:14, 36.60it/s]\u001b[A\n",
            "  3%|▎         | 89/2808 [00:03<01:13, 37.20it/s]\u001b[A\n",
            "  3%|▎         | 93/2808 [00:03<01:13, 37.18it/s]\u001b[A\n",
            "  3%|▎         | 97/2808 [00:03<01:12, 37.38it/s]\u001b[A\n",
            "  4%|▎         | 101/2808 [00:03<01:12, 37.42it/s]\u001b[A\n",
            "  4%|▎         | 105/2808 [00:04<01:11, 37.58it/s]\u001b[A"
          ],
          "name": "stderr"
        },
        {
          "output_type": "stream",
          "text": [
            "| epoch   4 |   100/ 2808 batches | lr 0.00 | loss  5.13 | ppl   168.24\n"
          ],
          "name": "stdout"
        },
        {
          "output_type": "stream",
          "text": [
            "\n",
            "  4%|▍         | 109/2808 [00:04<01:11, 37.63it/s]\u001b[A\n",
            "  4%|▍         | 113/2808 [00:04<01:10, 37.96it/s]\u001b[A\n",
            "  4%|▍         | 117/2808 [00:04<01:10, 38.03it/s]\u001b[A\n",
            "  4%|▍         | 121/2808 [00:04<01:10, 37.99it/s]\u001b[A\n",
            "  4%|▍         | 125/2808 [00:04<01:11, 37.72it/s]\u001b[A\n",
            "  5%|▍         | 129/2808 [00:04<01:10, 38.01it/s]\u001b[A\n",
            "  5%|▍         | 133/2808 [00:04<01:10, 38.19it/s]\u001b[A\n",
            "  5%|▍         | 137/2808 [00:04<01:09, 38.45it/s]\u001b[A\n",
            "  5%|▌         | 141/2808 [00:05<01:09, 38.27it/s]\u001b[A\n",
            "  5%|▌         | 145/2808 [00:05<01:09, 38.16it/s]\u001b[A\n",
            "  5%|▌         | 149/2808 [00:05<01:09, 37.99it/s]\u001b[A\n",
            "  5%|▌         | 153/2808 [00:05<01:09, 38.22it/s]\u001b[A\n",
            "  6%|▌         | 157/2808 [00:05<01:09, 38.41it/s]\u001b[A\n",
            "  6%|▌         | 161/2808 [00:05<01:08, 38.49it/s]\u001b[A\n",
            "  6%|▌         | 165/2808 [00:05<01:08, 38.31it/s]\u001b[A\n",
            "  6%|▌         | 169/2808 [00:05<01:08, 38.32it/s]\u001b[A\n",
            "  6%|▌         | 173/2808 [00:05<01:08, 38.26it/s]\u001b[A\n",
            "  6%|▋         | 177/2808 [00:05<01:09, 37.85it/s]\u001b[A\n",
            "  6%|▋         | 181/2808 [00:06<01:08, 38.13it/s]\u001b[A\n",
            "  7%|▋         | 185/2808 [00:06<01:08, 38.25it/s]\u001b[A\n",
            "  7%|▋         | 189/2808 [00:06<01:08, 38.02it/s]\u001b[A\n",
            "  7%|▋         | 193/2808 [00:06<01:09, 37.71it/s]\u001b[A\n",
            "  7%|▋         | 197/2808 [00:06<01:08, 38.07it/s]\u001b[A\n",
            "  7%|▋         | 201/2808 [00:06<01:08, 38.28it/s]\u001b[A\n",
            "  7%|▋         | 205/2808 [00:06<01:08, 37.83it/s]\u001b[A"
          ],
          "name": "stderr"
        },
        {
          "output_type": "stream",
          "text": [
            "| epoch   4 |   200/ 2808 batches | lr 0.00 | loss  5.07 | ppl   159.90\n"
          ],
          "name": "stdout"
        },
        {
          "output_type": "stream",
          "text": [
            "\n",
            "  7%|▋         | 209/2808 [00:06<01:08, 38.02it/s]\u001b[A\n",
            "  8%|▊         | 213/2808 [00:06<01:08, 38.05it/s]\u001b[A\n",
            "  8%|▊         | 217/2808 [00:07<01:07, 38.24it/s]\u001b[A\n",
            "  8%|▊         | 221/2808 [00:07<01:08, 38.04it/s]\u001b[A\n",
            "  8%|▊         | 225/2808 [00:07<01:07, 38.22it/s]\u001b[A\n",
            "  8%|▊         | 229/2808 [00:07<01:07, 38.44it/s]\u001b[A\n",
            "  8%|▊         | 233/2808 [00:07<01:07, 38.41it/s]\u001b[A\n",
            "  8%|▊         | 237/2808 [00:07<01:06, 38.50it/s]\u001b[A\n",
            "  9%|▊         | 241/2808 [00:07<01:06, 38.65it/s]\u001b[A\n",
            "  9%|▊         | 245/2808 [00:07<01:06, 38.35it/s]\u001b[A\n",
            "  9%|▉         | 249/2808 [00:07<01:06, 38.45it/s]\u001b[A\n",
            "  9%|▉         | 253/2808 [00:07<01:06, 38.60it/s]\u001b[A\n",
            "  9%|▉         | 257/2808 [00:08<01:06, 38.29it/s]\u001b[A\n",
            "  9%|▉         | 261/2808 [00:08<01:07, 37.92it/s]\u001b[A\n",
            "  9%|▉         | 265/2808 [00:08<01:07, 37.73it/s]\u001b[A\n",
            " 10%|▉         | 269/2808 [00:08<01:07, 37.67it/s]\u001b[A\n",
            " 10%|▉         | 273/2808 [00:08<01:06, 37.89it/s]\u001b[A\n",
            " 10%|▉         | 277/2808 [00:08<01:07, 37.72it/s]\u001b[A\n",
            " 10%|█         | 281/2808 [00:08<01:06, 38.03it/s]\u001b[A\n",
            " 10%|█         | 285/2808 [00:08<01:06, 37.91it/s]\u001b[A\n",
            " 10%|█         | 289/2808 [00:08<01:06, 37.79it/s]\u001b[A\n",
            " 10%|█         | 293/2808 [00:09<01:06, 37.94it/s]\u001b[A\n",
            " 11%|█         | 297/2808 [00:09<01:05, 38.11it/s]\u001b[A\n",
            " 11%|█         | 301/2808 [00:09<01:05, 38.34it/s]\u001b[A\n",
            " 11%|█         | 305/2808 [00:09<01:05, 37.96it/s]\u001b[A"
          ],
          "name": "stderr"
        },
        {
          "output_type": "stream",
          "text": [
            "| epoch   4 |   300/ 2808 batches | lr 0.00 | loss  5.07 | ppl   159.63\n"
          ],
          "name": "stdout"
        },
        {
          "output_type": "stream",
          "text": [
            "\n",
            " 11%|█         | 309/2808 [00:09<01:06, 37.86it/s]\u001b[A\n",
            " 11%|█         | 313/2808 [00:09<01:05, 38.15it/s]\u001b[A\n",
            " 11%|█▏        | 317/2808 [00:09<01:05, 37.98it/s]\u001b[A\n",
            " 11%|█▏        | 321/2808 [00:09<01:05, 38.26it/s]\u001b[A\n",
            " 12%|█▏        | 325/2808 [00:09<01:04, 38.38it/s]\u001b[A\n",
            " 12%|█▏        | 329/2808 [00:09<01:04, 38.49it/s]\u001b[A\n",
            " 12%|█▏        | 333/2808 [00:10<01:04, 38.60it/s]\u001b[A\n",
            " 12%|█▏        | 337/2808 [00:10<01:04, 38.44it/s]\u001b[A\n",
            " 12%|█▏        | 341/2808 [00:10<01:05, 37.51it/s]\u001b[A\n",
            " 12%|█▏        | 345/2808 [00:10<01:05, 37.53it/s]\u001b[A\n",
            " 12%|█▏        | 349/2808 [00:10<01:05, 37.77it/s]\u001b[A\n",
            " 13%|█▎        | 353/2808 [00:10<01:04, 38.06it/s]\u001b[A\n",
            " 13%|█▎        | 357/2808 [00:10<01:04, 37.90it/s]\u001b[A\n",
            " 13%|█▎        | 361/2808 [00:10<01:04, 38.04it/s]\u001b[A\n",
            " 13%|█▎        | 365/2808 [00:10<01:03, 38.19it/s]\u001b[A\n",
            " 13%|█▎        | 369/2808 [00:11<01:03, 38.42it/s]\u001b[A\n",
            " 13%|█▎        | 373/2808 [00:11<01:03, 38.44it/s]\u001b[A\n",
            " 13%|█▎        | 377/2808 [00:11<01:03, 38.27it/s]\u001b[A\n",
            " 14%|█▎        | 381/2808 [00:11<01:03, 38.39it/s]\u001b[A\n",
            " 14%|█▎        | 385/2808 [00:11<01:02, 38.55it/s]\u001b[A\n",
            " 14%|█▍        | 389/2808 [00:11<01:02, 38.53it/s]\u001b[A\n",
            " 14%|█▍        | 393/2808 [00:11<01:02, 38.52it/s]\u001b[A\n",
            " 14%|█▍        | 397/2808 [00:11<01:03, 38.20it/s]\u001b[A\n",
            " 14%|█▍        | 401/2808 [00:11<01:02, 38.35it/s]\u001b[A\n",
            " 14%|█▍        | 405/2808 [00:11<01:02, 38.21it/s]\u001b[A"
          ],
          "name": "stderr"
        },
        {
          "output_type": "stream",
          "text": [
            "| epoch   4 |   400/ 2808 batches | lr 0.00 | loss  5.07 | ppl   159.58\n"
          ],
          "name": "stdout"
        },
        {
          "output_type": "stream",
          "text": [
            "\n",
            " 15%|█▍        | 409/2808 [00:12<01:02, 38.14it/s]\u001b[A\n",
            " 15%|█▍        | 413/2808 [00:12<01:02, 38.20it/s]\u001b[A\n",
            " 15%|█▍        | 417/2808 [00:12<01:02, 38.30it/s]\u001b[A\n",
            " 15%|█▍        | 421/2808 [00:12<01:02, 38.02it/s]\u001b[A\n",
            " 15%|█▌        | 425/2808 [00:12<01:02, 38.17it/s]\u001b[A\n",
            " 15%|█▌        | 429/2808 [00:12<01:03, 37.65it/s]\u001b[A\n",
            " 15%|█▌        | 433/2808 [00:12<01:03, 37.65it/s]\u001b[A\n",
            " 16%|█▌        | 437/2808 [00:12<01:02, 38.01it/s]\u001b[A\n",
            " 16%|█▌        | 441/2808 [00:12<01:01, 38.20it/s]\u001b[A\n",
            " 16%|█▌        | 445/2808 [00:12<01:01, 38.34it/s]\u001b[A\n",
            " 16%|█▌        | 449/2808 [00:13<01:01, 38.15it/s]\u001b[A\n",
            " 16%|█▌        | 453/2808 [00:13<01:01, 38.35it/s]\u001b[A\n",
            " 16%|█▋        | 457/2808 [00:13<01:01, 38.49it/s]\u001b[A\n",
            " 16%|█▋        | 461/2808 [00:13<01:01, 38.44it/s]\u001b[A\n",
            " 17%|█▋        | 465/2808 [00:13<01:01, 38.22it/s]\u001b[A\n",
            " 17%|█▋        | 469/2808 [00:13<01:01, 38.27it/s]\u001b[A\n",
            " 17%|█▋        | 473/2808 [00:13<01:01, 38.28it/s]\u001b[A\n",
            " 17%|█▋        | 477/2808 [00:13<01:00, 38.41it/s]\u001b[A\n",
            " 17%|█▋        | 481/2808 [00:13<01:00, 38.45it/s]\u001b[A\n",
            " 17%|█▋        | 485/2808 [00:14<01:01, 38.00it/s]\u001b[A\n",
            " 17%|█▋        | 489/2808 [00:14<01:00, 38.27it/s]\u001b[A\n",
            " 18%|█▊        | 493/2808 [00:14<01:00, 38.36it/s]\u001b[A\n",
            " 18%|█▊        | 497/2808 [00:14<01:00, 38.46it/s]\u001b[A\n",
            " 18%|█▊        | 501/2808 [00:14<00:59, 38.49it/s]\u001b[A\n",
            " 18%|█▊        | 505/2808 [00:14<00:59, 38.58it/s]\u001b[A"
          ],
          "name": "stderr"
        },
        {
          "output_type": "stream",
          "text": [
            "| epoch   4 |   500/ 2808 batches | lr 0.00 | loss  5.07 | ppl   159.31\n"
          ],
          "name": "stdout"
        },
        {
          "output_type": "stream",
          "text": [
            "\n",
            " 18%|█▊        | 509/2808 [00:14<00:59, 38.58it/s]\u001b[A\n",
            " 18%|█▊        | 513/2808 [00:14<00:59, 38.29it/s]\u001b[A\n",
            " 18%|█▊        | 517/2808 [00:14<00:59, 38.44it/s]\u001b[A\n",
            " 19%|█▊        | 521/2808 [00:14<00:59, 38.45it/s]\u001b[A\n",
            " 19%|█▊        | 525/2808 [00:15<00:59, 38.46it/s]\u001b[A\n",
            " 19%|█▉        | 529/2808 [00:15<00:59, 38.45it/s]\u001b[A\n",
            " 19%|█▉        | 533/2808 [00:15<00:59, 38.10it/s]\u001b[A\n",
            " 19%|█▉        | 537/2808 [00:15<00:59, 38.05it/s]\u001b[A\n",
            " 19%|█▉        | 541/2808 [00:15<00:59, 38.21it/s]\u001b[A\n",
            " 19%|█▉        | 545/2808 [00:15<00:59, 38.29it/s]\u001b[A\n",
            " 20%|█▉        | 549/2808 [00:15<00:58, 38.32it/s]\u001b[A\n",
            " 20%|█▉        | 553/2808 [00:15<00:58, 38.37it/s]\u001b[A\n",
            " 20%|█▉        | 557/2808 [00:15<00:59, 38.13it/s]\u001b[A\n",
            " 20%|█▉        | 561/2808 [00:16<00:59, 37.93it/s]\u001b[A\n",
            " 20%|██        | 565/2808 [00:16<00:58, 38.13it/s]\u001b[A\n",
            " 20%|██        | 569/2808 [00:16<00:58, 38.28it/s]\u001b[A\n",
            " 20%|██        | 573/2808 [00:16<00:58, 38.23it/s]\u001b[A\n",
            " 21%|██        | 577/2808 [00:16<00:58, 38.40it/s]\u001b[A\n",
            " 21%|██        | 581/2808 [00:16<00:58, 38.35it/s]\u001b[A\n",
            " 21%|██        | 585/2808 [00:16<00:58, 37.89it/s]\u001b[A\n",
            " 21%|██        | 589/2808 [00:16<00:58, 37.86it/s]\u001b[A\n",
            " 21%|██        | 593/2808 [00:16<00:58, 37.85it/s]\u001b[A\n",
            " 21%|██▏       | 597/2808 [00:16<00:58, 37.87it/s]\u001b[A\n",
            " 21%|██▏       | 601/2808 [00:17<00:58, 37.78it/s]\u001b[A\n",
            " 22%|██▏       | 605/2808 [00:17<00:58, 37.85it/s]\u001b[A"
          ],
          "name": "stderr"
        },
        {
          "output_type": "stream",
          "text": [
            "| epoch   4 |   600/ 2808 batches | lr 0.00 | loss  5.07 | ppl   159.48\n"
          ],
          "name": "stdout"
        },
        {
          "output_type": "stream",
          "text": [
            "\n",
            " 22%|██▏       | 609/2808 [00:17<00:57, 38.10it/s]\u001b[A\n",
            " 22%|██▏       | 613/2808 [00:17<00:57, 38.19it/s]\u001b[A\n",
            " 22%|██▏       | 617/2808 [00:17<00:57, 38.33it/s]\u001b[A\n",
            " 22%|██▏       | 621/2808 [00:17<00:56, 38.48it/s]\u001b[A\n",
            " 22%|██▏       | 625/2808 [00:17<00:56, 38.32it/s]\u001b[A\n",
            " 22%|██▏       | 629/2808 [00:17<00:56, 38.43it/s]\u001b[A\n",
            " 23%|██▎       | 633/2808 [00:17<00:56, 38.50it/s]\u001b[A\n",
            " 23%|██▎       | 637/2808 [00:18<00:57, 38.08it/s]\u001b[A\n",
            " 23%|██▎       | 641/2808 [00:18<00:56, 38.14it/s]\u001b[A\n",
            " 23%|██▎       | 645/2808 [00:18<00:56, 38.17it/s]\u001b[A\n",
            " 23%|██▎       | 649/2808 [00:18<00:56, 38.29it/s]\u001b[A\n",
            " 23%|██▎       | 653/2808 [00:18<00:56, 38.30it/s]\u001b[A\n",
            " 23%|██▎       | 657/2808 [00:18<00:56, 38.24it/s]\u001b[A\n",
            " 24%|██▎       | 661/2808 [00:18<00:56, 38.18it/s]\u001b[A\n",
            " 24%|██▎       | 665/2808 [00:18<00:55, 38.29it/s]\u001b[A\n",
            " 24%|██▍       | 669/2808 [00:18<00:55, 38.31it/s]\u001b[A\n",
            " 24%|██▍       | 673/2808 [00:18<00:55, 38.41it/s]\u001b[A\n",
            " 24%|██▍       | 677/2808 [00:19<00:55, 38.22it/s]\u001b[A\n",
            " 24%|██▍       | 681/2808 [00:19<00:56, 37.90it/s]\u001b[A\n",
            " 24%|██▍       | 685/2808 [00:19<00:55, 38.11it/s]\u001b[A\n",
            " 25%|██▍       | 689/2808 [00:19<00:55, 38.10it/s]\u001b[A\n",
            " 25%|██▍       | 693/2808 [00:19<00:55, 38.16it/s]\u001b[A\n",
            " 25%|██▍       | 697/2808 [00:19<00:55, 38.23it/s]\u001b[A\n",
            " 25%|██▍       | 701/2808 [00:19<00:55, 38.20it/s]\u001b[A\n",
            " 25%|██▌       | 705/2808 [00:19<00:54, 38.31it/s]\u001b[A"
          ],
          "name": "stderr"
        },
        {
          "output_type": "stream",
          "text": [
            "| epoch   4 |   700/ 2808 batches | lr 0.00 | loss  5.07 | ppl   159.61\n"
          ],
          "name": "stdout"
        },
        {
          "output_type": "stream",
          "text": [
            "\n",
            " 25%|██▌       | 709/2808 [00:19<00:55, 38.11it/s]\u001b[A\n",
            " 25%|██▌       | 713/2808 [00:20<00:54, 38.25it/s]\u001b[A\n",
            " 26%|██▌       | 717/2808 [00:20<00:54, 38.33it/s]\u001b[A\n",
            " 26%|██▌       | 721/2808 [00:20<00:54, 38.30it/s]\u001b[A\n",
            " 26%|██▌       | 725/2808 [00:20<00:54, 38.15it/s]\u001b[A\n",
            " 26%|██▌       | 729/2808 [00:20<00:54, 38.13it/s]\u001b[A\n",
            " 26%|██▌       | 733/2808 [00:20<00:54, 38.08it/s]\u001b[A\n",
            " 26%|██▌       | 737/2808 [00:20<00:54, 37.93it/s]\u001b[A\n",
            " 26%|██▋       | 741/2808 [00:20<00:54, 38.19it/s]\u001b[A\n",
            " 27%|██▋       | 745/2808 [00:20<00:53, 38.32it/s]\u001b[A\n",
            " 27%|██▋       | 749/2808 [00:20<00:53, 38.23it/s]\u001b[A\n",
            " 27%|██▋       | 753/2808 [00:21<00:53, 38.30it/s]\u001b[A\n",
            " 27%|██▋       | 757/2808 [00:21<00:53, 38.10it/s]\u001b[A\n",
            " 27%|██▋       | 761/2808 [00:21<00:53, 38.23it/s]\u001b[A\n",
            " 27%|██▋       | 765/2808 [00:21<00:53, 38.10it/s]\u001b[A\n",
            " 27%|██▋       | 769/2808 [00:21<00:53, 37.78it/s]\u001b[A\n",
            " 28%|██▊       | 773/2808 [00:21<00:53, 37.99it/s]\u001b[A\n",
            " 28%|██▊       | 777/2808 [00:21<00:53, 37.80it/s]\u001b[A\n",
            " 28%|██▊       | 781/2808 [00:21<00:53, 38.10it/s]\u001b[A\n",
            " 28%|██▊       | 785/2808 [00:21<00:53, 38.06it/s]\u001b[A\n",
            " 28%|██▊       | 789/2808 [00:22<00:52, 38.25it/s]\u001b[A\n",
            " 28%|██▊       | 793/2808 [00:22<00:52, 38.15it/s]\u001b[A\n",
            " 28%|██▊       | 797/2808 [00:22<00:52, 38.26it/s]\u001b[A\n",
            " 29%|██▊       | 801/2808 [00:22<00:52, 38.09it/s]\u001b[A\n",
            " 29%|██▊       | 805/2808 [00:22<00:52, 37.87it/s]\u001b[A"
          ],
          "name": "stderr"
        },
        {
          "output_type": "stream",
          "text": [
            "| epoch   4 |   800/ 2808 batches | lr 0.00 | loss  5.07 | ppl   159.72\n"
          ],
          "name": "stdout"
        },
        {
          "output_type": "stream",
          "text": [
            "\n",
            " 29%|██▉       | 809/2808 [00:22<00:52, 38.09it/s]\u001b[A\n",
            " 29%|██▉       | 813/2808 [00:22<00:52, 38.07it/s]\u001b[A\n",
            " 29%|██▉       | 817/2808 [00:22<00:52, 37.80it/s]\u001b[A\n",
            " 29%|██▉       | 821/2808 [00:22<00:52, 37.82it/s]\u001b[A\n",
            " 29%|██▉       | 825/2808 [00:22<00:52, 38.11it/s]\u001b[A\n",
            " 30%|██▉       | 829/2808 [00:23<00:51, 38.14it/s]\u001b[A\n",
            " 30%|██▉       | 833/2808 [00:23<00:51, 38.29it/s]\u001b[A\n",
            " 30%|██▉       | 837/2808 [00:23<00:51, 38.34it/s]\u001b[A\n",
            " 30%|██▉       | 841/2808 [00:23<00:51, 38.40it/s]\u001b[A\n",
            " 30%|███       | 845/2808 [00:23<00:51, 38.04it/s]\u001b[A\n",
            " 30%|███       | 849/2808 [00:23<00:51, 38.20it/s]\u001b[A\n",
            " 30%|███       | 853/2808 [00:23<00:51, 38.27it/s]\u001b[A\n",
            " 31%|███       | 857/2808 [00:23<00:50, 38.34it/s]\u001b[A\n",
            " 31%|███       | 861/2808 [00:23<00:50, 38.25it/s]\u001b[A\n",
            " 31%|███       | 865/2808 [00:23<00:50, 38.37it/s]\u001b[A\n",
            " 31%|███       | 869/2808 [00:24<00:50, 38.17it/s]\u001b[A\n",
            " 31%|███       | 873/2808 [00:24<00:50, 38.06it/s]\u001b[A\n",
            " 31%|███       | 877/2808 [00:24<00:51, 37.84it/s]\u001b[A\n",
            " 31%|███▏      | 881/2808 [00:24<00:51, 37.60it/s]\u001b[A\n",
            " 32%|███▏      | 885/2808 [00:24<00:50, 37.87it/s]\u001b[A\n",
            " 32%|███▏      | 889/2808 [00:24<00:50, 37.83it/s]\u001b[A\n",
            " 32%|███▏      | 893/2808 [00:24<00:50, 38.04it/s]\u001b[A\n",
            " 32%|███▏      | 897/2808 [00:24<00:50, 37.82it/s]\u001b[A\n",
            " 32%|███▏      | 901/2808 [00:24<00:50, 38.00it/s]\u001b[A\n",
            " 32%|███▏      | 905/2808 [00:25<00:50, 37.92it/s]\u001b[A"
          ],
          "name": "stderr"
        },
        {
          "output_type": "stream",
          "text": [
            "| epoch   4 |   900/ 2808 batches | lr 0.00 | loss  5.07 | ppl   159.63\n"
          ],
          "name": "stdout"
        },
        {
          "output_type": "stream",
          "text": [
            "\n",
            " 32%|███▏      | 909/2808 [00:25<00:50, 37.91it/s]\u001b[A\n",
            " 33%|███▎      | 913/2808 [00:25<00:49, 38.10it/s]\u001b[A\n",
            " 33%|███▎      | 917/2808 [00:25<00:49, 38.22it/s]\u001b[A\n",
            " 33%|███▎      | 921/2808 [00:25<00:49, 38.17it/s]\u001b[A\n",
            " 33%|███▎      | 925/2808 [00:25<00:49, 38.16it/s]\u001b[A\n",
            " 33%|███▎      | 929/2808 [00:25<00:49, 38.29it/s]\u001b[A\n",
            " 33%|███▎      | 933/2808 [00:25<00:49, 37.96it/s]\u001b[A\n",
            " 33%|███▎      | 937/2808 [00:25<00:49, 38.14it/s]\u001b[A\n",
            " 34%|███▎      | 941/2808 [00:25<00:48, 38.33it/s]\u001b[A\n",
            " 34%|███▎      | 945/2808 [00:26<00:48, 38.09it/s]\u001b[A\n",
            " 34%|███▍      | 949/2808 [00:26<00:48, 37.99it/s]\u001b[A\n",
            " 34%|███▍      | 953/2808 [00:26<00:48, 38.23it/s]\u001b[A\n",
            " 34%|███▍      | 957/2808 [00:26<00:48, 38.15it/s]\u001b[A\n",
            " 34%|███▍      | 961/2808 [00:26<00:48, 38.16it/s]\u001b[A\n",
            " 34%|███▍      | 965/2808 [00:26<00:48, 37.92it/s]\u001b[A\n",
            " 35%|███▍      | 969/2808 [00:26<00:48, 38.03it/s]\u001b[A\n",
            " 35%|███▍      | 973/2808 [00:26<00:48, 38.18it/s]\u001b[A\n",
            " 35%|███▍      | 977/2808 [00:26<00:48, 37.95it/s]\u001b[A\n",
            " 35%|███▍      | 981/2808 [00:27<00:48, 37.74it/s]\u001b[A\n",
            " 35%|███▌      | 985/2808 [00:27<00:48, 37.59it/s]\u001b[A\n",
            " 35%|███▌      | 989/2808 [00:27<00:48, 37.87it/s]\u001b[A\n",
            " 35%|███▌      | 993/2808 [00:27<00:47, 38.01it/s]\u001b[A\n",
            " 36%|███▌      | 997/2808 [00:27<00:48, 37.65it/s]\u001b[A\n",
            " 36%|███▌      | 1001/2808 [00:27<00:47, 37.67it/s]\u001b[A\n",
            " 36%|███▌      | 1005/2808 [00:27<00:47, 37.67it/s]\u001b[A"
          ],
          "name": "stderr"
        },
        {
          "output_type": "stream",
          "text": [
            "| epoch   4 |  1000/ 2808 batches | lr 0.00 | loss  5.07 | ppl   159.66\n"
          ],
          "name": "stdout"
        },
        {
          "output_type": "stream",
          "text": [
            "\n",
            " 36%|███▌      | 1009/2808 [00:27<00:47, 37.95it/s]\u001b[A\n",
            " 36%|███▌      | 1013/2808 [00:27<00:47, 38.11it/s]\u001b[A\n",
            " 36%|███▌      | 1017/2808 [00:27<00:47, 37.78it/s]\u001b[A\n",
            " 36%|███▋      | 1021/2808 [00:28<00:47, 37.85it/s]\u001b[A\n",
            " 37%|███▋      | 1025/2808 [00:28<00:46, 38.07it/s]\u001b[A\n",
            " 37%|███▋      | 1029/2808 [00:28<00:46, 38.14it/s]\u001b[A\n",
            " 37%|███▋      | 1033/2808 [00:28<00:46, 38.30it/s]\u001b[A\n",
            " 37%|███▋      | 1037/2808 [00:28<00:46, 38.16it/s]\u001b[A\n",
            " 37%|███▋      | 1041/2808 [00:28<00:46, 38.17it/s]\u001b[A\n",
            " 37%|███▋      | 1045/2808 [00:28<00:46, 38.29it/s]\u001b[A\n",
            " 37%|███▋      | 1049/2808 [00:28<00:45, 38.35it/s]\u001b[A\n",
            " 38%|███▊      | 1053/2808 [00:28<00:45, 38.32it/s]\u001b[A\n",
            " 38%|███▊      | 1057/2808 [00:29<00:45, 38.38it/s]\u001b[A\n",
            " 38%|███▊      | 1061/2808 [00:29<00:46, 37.89it/s]\u001b[A\n",
            " 38%|███▊      | 1065/2808 [00:29<00:45, 38.13it/s]\u001b[A\n",
            " 38%|███▊      | 1069/2808 [00:29<00:45, 38.22it/s]\u001b[A\n",
            " 38%|███▊      | 1073/2808 [00:29<00:45, 38.31it/s]\u001b[A\n",
            " 38%|███▊      | 1077/2808 [00:29<00:45, 38.26it/s]\u001b[A\n",
            " 38%|███▊      | 1081/2808 [00:29<00:46, 37.36it/s]\u001b[A\n",
            " 39%|███▊      | 1085/2808 [00:29<00:45, 37.81it/s]\u001b[A\n",
            " 39%|███▉      | 1089/2808 [00:29<00:45, 38.06it/s]\u001b[A\n",
            " 39%|███▉      | 1093/2808 [00:29<00:45, 38.05it/s]\u001b[A\n",
            " 39%|███▉      | 1097/2808 [00:30<00:45, 37.92it/s]\u001b[A\n",
            " 39%|███▉      | 1101/2808 [00:30<00:45, 37.77it/s]\u001b[A\n",
            " 39%|███▉      | 1105/2808 [00:30<00:45, 37.62it/s]\u001b[A"
          ],
          "name": "stderr"
        },
        {
          "output_type": "stream",
          "text": [
            "| epoch   4 |  1100/ 2808 batches | lr 0.00 | loss  5.07 | ppl   159.35\n"
          ],
          "name": "stdout"
        },
        {
          "output_type": "stream",
          "text": [
            "\n",
            " 39%|███▉      | 1109/2808 [00:30<00:44, 37.77it/s]\u001b[A\n",
            " 40%|███▉      | 1113/2808 [00:30<00:44, 37.92it/s]\u001b[A\n",
            " 40%|███▉      | 1117/2808 [00:30<00:44, 37.95it/s]\u001b[A\n",
            " 40%|███▉      | 1121/2808 [00:30<00:44, 38.09it/s]\u001b[A\n",
            " 40%|████      | 1125/2808 [00:30<00:44, 38.24it/s]\u001b[A\n",
            " 40%|████      | 1129/2808 [00:30<00:43, 38.39it/s]\u001b[A\n",
            " 40%|████      | 1133/2808 [00:31<00:43, 38.13it/s]\u001b[A\n",
            " 40%|████      | 1137/2808 [00:31<00:43, 38.25it/s]\u001b[A\n",
            " 41%|████      | 1141/2808 [00:31<00:43, 38.35it/s]\u001b[A\n",
            " 41%|████      | 1145/2808 [00:31<00:43, 38.38it/s]\u001b[A\n",
            " 41%|████      | 1149/2808 [00:31<00:43, 38.06it/s]\u001b[A\n",
            " 41%|████      | 1153/2808 [00:31<00:43, 38.03it/s]\u001b[A\n",
            " 41%|████      | 1157/2808 [00:31<00:43, 38.16it/s]\u001b[A\n",
            " 41%|████▏     | 1161/2808 [00:31<00:43, 38.27it/s]\u001b[A\n",
            " 41%|████▏     | 1165/2808 [00:31<00:42, 38.27it/s]\u001b[A\n",
            " 42%|████▏     | 1169/2808 [00:31<00:42, 38.40it/s]\u001b[A\n",
            " 42%|████▏     | 1173/2808 [00:32<00:42, 38.21it/s]\u001b[A\n",
            " 42%|████▏     | 1177/2808 [00:32<00:42, 38.09it/s]\u001b[A\n",
            " 42%|████▏     | 1181/2808 [00:32<00:42, 38.32it/s]\u001b[A\n",
            " 42%|████▏     | 1185/2808 [00:32<00:42, 38.07it/s]\u001b[A\n",
            " 42%|████▏     | 1189/2808 [00:32<00:42, 38.28it/s]\u001b[A\n",
            " 42%|████▏     | 1193/2808 [00:32<00:42, 38.34it/s]\u001b[A\n",
            " 43%|████▎     | 1197/2808 [00:32<00:42, 37.94it/s]\u001b[A\n",
            " 43%|████▎     | 1201/2808 [00:32<00:42, 38.06it/s]\u001b[A\n",
            " 43%|████▎     | 1205/2808 [00:32<00:42, 37.72it/s]\u001b[A"
          ],
          "name": "stderr"
        },
        {
          "output_type": "stream",
          "text": [
            "| epoch   4 |  1200/ 2808 batches | lr 0.00 | loss  5.07 | ppl   159.44\n"
          ],
          "name": "stdout"
        },
        {
          "output_type": "stream",
          "text": [
            "\n",
            " 43%|████▎     | 1209/2808 [00:33<00:42, 38.05it/s]\u001b[A\n",
            " 43%|████▎     | 1213/2808 [00:33<00:41, 38.25it/s]\u001b[A\n",
            " 43%|████▎     | 1217/2808 [00:33<00:41, 38.03it/s]\u001b[A\n",
            " 43%|████▎     | 1221/2808 [00:33<00:41, 37.87it/s]\u001b[A\n",
            " 44%|████▎     | 1225/2808 [00:33<00:41, 38.20it/s]\u001b[A\n",
            " 44%|████▍     | 1229/2808 [00:33<00:41, 38.34it/s]\u001b[A\n",
            " 44%|████▍     | 1233/2808 [00:33<00:41, 37.92it/s]\u001b[A\n",
            " 44%|████▍     | 1237/2808 [00:33<00:41, 38.01it/s]\u001b[A\n",
            " 44%|████▍     | 1241/2808 [00:33<00:40, 38.25it/s]\u001b[A\n",
            " 44%|████▍     | 1245/2808 [00:33<00:40, 38.18it/s]\u001b[A\n",
            " 44%|████▍     | 1249/2808 [00:34<00:41, 37.97it/s]\u001b[A\n",
            " 45%|████▍     | 1253/2808 [00:34<00:40, 38.23it/s]\u001b[A\n",
            " 45%|████▍     | 1257/2808 [00:34<00:40, 38.49it/s]\u001b[A\n",
            " 45%|████▍     | 1261/2808 [00:34<00:39, 38.70it/s]\u001b[A\n",
            " 45%|████▌     | 1265/2808 [00:34<00:40, 38.56it/s]\u001b[A\n",
            " 45%|████▌     | 1269/2808 [00:34<00:40, 38.25it/s]\u001b[A\n",
            " 45%|████▌     | 1273/2808 [00:34<00:39, 38.42it/s]\u001b[A\n",
            " 45%|████▌     | 1277/2808 [00:34<00:40, 37.90it/s]\u001b[A\n",
            " 46%|████▌     | 1281/2808 [00:34<00:40, 38.07it/s]\u001b[A\n",
            " 46%|████▌     | 1285/2808 [00:35<00:39, 38.34it/s]\u001b[A\n",
            " 46%|████▌     | 1289/2808 [00:35<00:39, 38.41it/s]\u001b[A\n",
            " 46%|████▌     | 1293/2808 [00:35<00:39, 38.19it/s]\u001b[A\n",
            " 46%|████▌     | 1297/2808 [00:35<00:39, 38.31it/s]\u001b[A\n",
            " 46%|████▋     | 1301/2808 [00:35<00:39, 38.41it/s]\u001b[A\n",
            " 46%|████▋     | 1305/2808 [00:35<00:39, 38.47it/s]\u001b[A"
          ],
          "name": "stderr"
        },
        {
          "output_type": "stream",
          "text": [
            "| epoch   4 |  1300/ 2808 batches | lr 0.00 | loss  5.07 | ppl   159.50\n"
          ],
          "name": "stdout"
        },
        {
          "output_type": "stream",
          "text": [
            "\n",
            " 47%|████▋     | 1309/2808 [00:35<00:39, 38.28it/s]\u001b[A\n",
            " 47%|████▋     | 1313/2808 [00:35<00:39, 38.14it/s]\u001b[A\n",
            " 47%|████▋     | 1317/2808 [00:35<00:38, 38.25it/s]\u001b[A\n",
            " 47%|████▋     | 1321/2808 [00:35<00:39, 38.05it/s]\u001b[A\n",
            " 47%|████▋     | 1325/2808 [00:36<00:39, 38.00it/s]\u001b[A\n",
            " 47%|████▋     | 1329/2808 [00:36<00:38, 38.24it/s]\u001b[A\n",
            " 47%|████▋     | 1333/2808 [00:36<00:38, 38.36it/s]\u001b[A\n",
            " 48%|████▊     | 1337/2808 [00:36<00:38, 38.51it/s]\u001b[A\n",
            " 48%|████▊     | 1341/2808 [00:36<00:37, 38.61it/s]\u001b[A\n",
            " 48%|████▊     | 1345/2808 [00:36<00:38, 38.37it/s]\u001b[A\n",
            " 48%|████▊     | 1349/2808 [00:36<00:38, 38.13it/s]\u001b[A\n",
            " 48%|████▊     | 1353/2808 [00:36<00:38, 37.31it/s]\u001b[A\n",
            " 48%|████▊     | 1357/2808 [00:36<00:38, 37.35it/s]\u001b[A\n",
            " 48%|████▊     | 1361/2808 [00:37<00:38, 37.23it/s]\u001b[A\n",
            " 49%|████▊     | 1365/2808 [00:37<00:38, 37.49it/s]\u001b[A\n",
            " 49%|████▉     | 1369/2808 [00:37<00:37, 37.89it/s]\u001b[A\n",
            " 49%|████▉     | 1373/2808 [00:37<00:37, 38.03it/s]\u001b[A\n",
            " 49%|████▉     | 1377/2808 [00:37<00:37, 38.22it/s]\u001b[A\n",
            " 49%|████▉     | 1381/2808 [00:37<00:37, 38.35it/s]\u001b[A\n",
            " 49%|████▉     | 1385/2808 [00:37<00:37, 38.37it/s]\u001b[A\n",
            " 49%|████▉     | 1389/2808 [00:37<00:37, 37.88it/s]\u001b[A\n",
            " 50%|████▉     | 1393/2808 [00:37<00:37, 37.88it/s]\u001b[A\n",
            " 50%|████▉     | 1397/2808 [00:37<00:37, 38.10it/s]\u001b[A\n",
            " 50%|████▉     | 1401/2808 [00:38<00:37, 37.87it/s]\u001b[A\n",
            " 50%|█████     | 1405/2808 [00:38<00:36, 37.96it/s]\u001b[A"
          ],
          "name": "stderr"
        },
        {
          "output_type": "stream",
          "text": [
            "| epoch   4 |  1400/ 2808 batches | lr 0.00 | loss  5.07 | ppl   159.53\n"
          ],
          "name": "stdout"
        },
        {
          "output_type": "stream",
          "text": [
            "\n",
            " 50%|█████     | 1409/2808 [00:38<00:36, 38.15it/s]\u001b[A\n",
            " 50%|█████     | 1413/2808 [00:38<00:36, 38.17it/s]\u001b[A\n",
            " 50%|█████     | 1417/2808 [00:38<00:36, 38.39it/s]\u001b[A\n",
            " 51%|█████     | 1421/2808 [00:38<00:36, 38.42it/s]\u001b[A\n",
            " 51%|█████     | 1425/2808 [00:38<00:36, 38.32it/s]\u001b[A\n",
            " 51%|█████     | 1429/2808 [00:38<00:36, 37.92it/s]\u001b[A\n",
            " 51%|█████     | 1433/2808 [00:38<00:37, 36.83it/s]\u001b[A\n",
            " 51%|█████     | 1437/2808 [00:39<00:36, 37.23it/s]\u001b[A\n",
            " 51%|█████▏    | 1441/2808 [00:39<00:36, 37.59it/s]\u001b[A\n",
            " 51%|█████▏    | 1445/2808 [00:39<00:36, 37.83it/s]\u001b[A\n",
            " 52%|█████▏    | 1449/2808 [00:39<00:35, 38.07it/s]\u001b[A\n",
            " 52%|█████▏    | 1453/2808 [00:39<00:35, 38.23it/s]\u001b[A\n",
            " 52%|█████▏    | 1457/2808 [00:39<00:35, 38.36it/s]\u001b[A\n",
            " 52%|█████▏    | 1461/2808 [00:39<00:35, 38.41it/s]\u001b[A\n",
            " 52%|█████▏    | 1465/2808 [00:39<00:35, 38.32it/s]\u001b[A\n",
            " 52%|█████▏    | 1469/2808 [00:39<00:35, 37.99it/s]\u001b[A\n",
            " 52%|█████▏    | 1473/2808 [00:39<00:34, 38.17it/s]\u001b[A\n",
            " 53%|█████▎    | 1477/2808 [00:40<00:35, 37.96it/s]\u001b[A\n",
            " 53%|█████▎    | 1481/2808 [00:40<00:35, 37.75it/s]\u001b[A\n",
            " 53%|█████▎    | 1485/2808 [00:40<00:34, 37.94it/s]\u001b[A\n",
            " 53%|█████▎    | 1489/2808 [00:40<00:34, 37.85it/s]\u001b[A\n",
            " 53%|█████▎    | 1493/2808 [00:40<00:34, 37.61it/s]\u001b[A\n",
            " 53%|█████▎    | 1497/2808 [00:40<00:34, 37.81it/s]\u001b[A\n",
            " 53%|█████▎    | 1501/2808 [00:40<00:34, 37.95it/s]\u001b[A\n",
            " 54%|█████▎    | 1505/2808 [00:40<00:34, 37.84it/s]\u001b[A"
          ],
          "name": "stderr"
        },
        {
          "output_type": "stream",
          "text": [
            "| epoch   4 |  1500/ 2808 batches | lr 0.00 | loss  5.07 | ppl   159.24\n"
          ],
          "name": "stdout"
        },
        {
          "output_type": "stream",
          "text": [
            "\n",
            " 54%|█████▎    | 1509/2808 [00:40<00:34, 37.82it/s]\u001b[A\n",
            " 54%|█████▍    | 1513/2808 [00:41<00:34, 37.76it/s]\u001b[A\n",
            " 54%|█████▍    | 1517/2808 [00:41<00:33, 38.07it/s]\u001b[A\n",
            " 54%|█████▍    | 1521/2808 [00:41<00:33, 38.06it/s]\u001b[A\n",
            " 54%|█████▍    | 1525/2808 [00:41<00:33, 37.90it/s]\u001b[A\n",
            " 54%|█████▍    | 1529/2808 [00:41<00:33, 38.16it/s]\u001b[A\n",
            " 55%|█████▍    | 1533/2808 [00:41<00:33, 38.06it/s]\u001b[A\n",
            " 55%|█████▍    | 1537/2808 [00:41<00:33, 37.95it/s]\u001b[A\n",
            " 55%|█████▍    | 1541/2808 [00:41<00:33, 38.08it/s]\u001b[A\n",
            " 55%|█████▌    | 1545/2808 [00:41<00:33, 38.17it/s]\u001b[A\n",
            " 55%|█████▌    | 1549/2808 [00:41<00:33, 37.84it/s]\u001b[A\n",
            " 55%|█████▌    | 1553/2808 [00:42<00:33, 37.91it/s]\u001b[A\n",
            " 55%|█████▌    | 1557/2808 [00:42<00:33, 37.82it/s]\u001b[A\n",
            " 56%|█████▌    | 1561/2808 [00:42<00:33, 37.68it/s]\u001b[A\n",
            " 56%|█████▌    | 1565/2808 [00:42<00:32, 37.97it/s]\u001b[A\n",
            " 56%|█████▌    | 1569/2808 [00:42<00:32, 37.77it/s]\u001b[A\n",
            " 56%|█████▌    | 1573/2808 [00:42<00:32, 37.61it/s]\u001b[A\n",
            " 56%|█████▌    | 1577/2808 [00:42<00:32, 37.86it/s]\u001b[A\n",
            " 56%|█████▋    | 1581/2808 [00:42<00:32, 37.99it/s]\u001b[A\n",
            " 56%|█████▋    | 1585/2808 [00:42<00:32, 38.00it/s]\u001b[A\n",
            " 57%|█████▋    | 1589/2808 [00:43<00:32, 37.96it/s]\u001b[A\n",
            " 57%|█████▋    | 1593/2808 [00:43<00:31, 38.16it/s]\u001b[A\n",
            " 57%|█████▋    | 1597/2808 [00:43<00:31, 38.33it/s]\u001b[A\n",
            " 57%|█████▋    | 1601/2808 [00:43<00:31, 38.46it/s]\u001b[A\n",
            " 57%|█████▋    | 1605/2808 [00:43<00:31, 38.18it/s]\u001b[A"
          ],
          "name": "stderr"
        },
        {
          "output_type": "stream",
          "text": [
            "| epoch   4 |  1600/ 2808 batches | lr 0.00 | loss  5.07 | ppl   159.50\n"
          ],
          "name": "stdout"
        },
        {
          "output_type": "stream",
          "text": [
            "\n",
            " 57%|█████▋    | 1609/2808 [00:43<00:31, 38.21it/s]\u001b[A\n",
            " 57%|█████▋    | 1613/2808 [00:43<00:31, 38.34it/s]\u001b[A\n",
            " 58%|█████▊    | 1617/2808 [00:43<00:31, 38.37it/s]\u001b[A\n",
            " 58%|█████▊    | 1621/2808 [00:43<00:30, 38.44it/s]\u001b[A\n",
            " 58%|█████▊    | 1625/2808 [00:43<00:30, 38.52it/s]\u001b[A\n",
            " 58%|█████▊    | 1629/2808 [00:44<00:30, 38.52it/s]\u001b[A\n",
            " 58%|█████▊    | 1633/2808 [00:44<00:30, 38.23it/s]\u001b[A\n",
            " 58%|█████▊    | 1637/2808 [00:44<00:30, 38.28it/s]\u001b[A\n",
            " 58%|█████▊    | 1641/2808 [00:44<00:30, 38.29it/s]\u001b[A\n",
            " 59%|█████▊    | 1645/2808 [00:44<00:30, 37.95it/s]\u001b[A\n",
            " 59%|█████▊    | 1649/2808 [00:44<00:30, 37.74it/s]\u001b[A\n",
            " 59%|█████▉    | 1653/2808 [00:44<00:30, 37.69it/s]\u001b[A\n",
            " 59%|█████▉    | 1657/2808 [00:44<00:30, 38.03it/s]\u001b[A\n",
            " 59%|█████▉    | 1661/2808 [00:44<00:30, 37.98it/s]\u001b[A\n",
            " 59%|█████▉    | 1665/2808 [00:45<00:30, 38.05it/s]\u001b[A\n",
            " 59%|█████▉    | 1669/2808 [00:45<00:29, 38.25it/s]\u001b[A\n",
            " 60%|█████▉    | 1673/2808 [00:45<00:29, 38.20it/s]\u001b[A\n",
            " 60%|█████▉    | 1677/2808 [00:45<00:29, 38.42it/s]\u001b[A\n",
            " 60%|█████▉    | 1681/2808 [00:45<00:29, 38.57it/s]\u001b[A\n",
            " 60%|██████    | 1685/2808 [00:45<00:29, 38.70it/s]\u001b[A\n",
            " 60%|██████    | 1689/2808 [00:45<00:28, 38.66it/s]\u001b[A\n",
            " 60%|██████    | 1693/2808 [00:45<00:28, 38.70it/s]\u001b[A\n",
            " 60%|██████    | 1697/2808 [00:45<00:29, 38.16it/s]\u001b[A\n",
            " 61%|██████    | 1701/2808 [00:45<00:28, 38.22it/s]\u001b[A\n",
            " 61%|██████    | 1705/2808 [00:46<00:29, 37.60it/s]\u001b[A"
          ],
          "name": "stderr"
        },
        {
          "output_type": "stream",
          "text": [
            "| epoch   4 |  1700/ 2808 batches | lr 0.00 | loss  5.07 | ppl   159.37\n"
          ],
          "name": "stdout"
        },
        {
          "output_type": "stream",
          "text": [
            "\n",
            " 61%|██████    | 1709/2808 [00:46<00:28, 37.91it/s]\u001b[A\n",
            " 61%|██████    | 1713/2808 [00:46<00:28, 38.05it/s]\u001b[A\n",
            " 61%|██████    | 1717/2808 [00:46<00:28, 38.33it/s]\u001b[A\n",
            " 61%|██████▏   | 1721/2808 [00:46<00:28, 38.30it/s]\u001b[A\n",
            " 61%|██████▏   | 1725/2808 [00:46<00:28, 38.37it/s]\u001b[A\n",
            " 62%|██████▏   | 1729/2808 [00:46<00:28, 38.36it/s]\u001b[A\n",
            " 62%|██████▏   | 1733/2808 [00:46<00:28, 38.15it/s]\u001b[A\n",
            " 62%|██████▏   | 1737/2808 [00:46<00:28, 37.96it/s]\u001b[A\n",
            " 62%|██████▏   | 1741/2808 [00:47<00:28, 37.64it/s]\u001b[A\n",
            " 62%|██████▏   | 1745/2808 [00:47<00:28, 37.89it/s]\u001b[A\n",
            " 62%|██████▏   | 1749/2808 [00:47<00:28, 37.73it/s]\u001b[A\n",
            " 62%|██████▏   | 1753/2808 [00:47<00:27, 38.04it/s]\u001b[A\n",
            " 63%|██████▎   | 1757/2808 [00:47<00:27, 38.24it/s]\u001b[A\n",
            " 63%|██████▎   | 1761/2808 [00:47<00:27, 38.41it/s]\u001b[A\n",
            " 63%|██████▎   | 1765/2808 [00:47<00:27, 38.39it/s]\u001b[A\n",
            " 63%|██████▎   | 1769/2808 [00:47<00:27, 38.42it/s]\u001b[A\n",
            " 63%|██████▎   | 1773/2808 [00:47<00:26, 38.48it/s]\u001b[A\n",
            " 63%|██████▎   | 1777/2808 [00:47<00:26, 38.60it/s]\u001b[A\n",
            " 63%|██████▎   | 1781/2808 [00:48<00:26, 38.44it/s]\u001b[A\n",
            " 64%|██████▎   | 1785/2808 [00:48<00:26, 38.51it/s]\u001b[A\n",
            " 64%|██████▎   | 1789/2808 [00:48<00:26, 38.55it/s]\u001b[A\n",
            " 64%|██████▍   | 1793/2808 [00:48<00:26, 38.56it/s]\u001b[A\n",
            " 64%|██████▍   | 1797/2808 [00:48<00:26, 38.13it/s]\u001b[A\n",
            " 64%|██████▍   | 1801/2808 [00:48<00:26, 38.03it/s]\u001b[A\n",
            " 64%|██████▍   | 1805/2808 [00:48<00:26, 38.00it/s]\u001b[A"
          ],
          "name": "stderr"
        },
        {
          "output_type": "stream",
          "text": [
            "| epoch   4 |  1800/ 2808 batches | lr 0.00 | loss  5.07 | ppl   158.94\n"
          ],
          "name": "stdout"
        },
        {
          "output_type": "stream",
          "text": [
            "\n",
            " 64%|██████▍   | 1809/2808 [00:48<00:26, 38.14it/s]\u001b[A\n",
            " 65%|██████▍   | 1813/2808 [00:48<00:26, 37.98it/s]\u001b[A\n",
            " 65%|██████▍   | 1817/2808 [00:48<00:26, 37.82it/s]\u001b[A\n",
            " 65%|██████▍   | 1821/2808 [00:49<00:26, 37.30it/s]\u001b[A\n",
            " 65%|██████▍   | 1825/2808 [00:49<00:26, 37.48it/s]\u001b[A\n",
            " 65%|██████▌   | 1829/2808 [00:49<00:25, 37.90it/s]\u001b[A\n",
            " 65%|██████▌   | 1833/2808 [00:49<00:25, 38.05it/s]\u001b[A\n",
            " 65%|██████▌   | 1837/2808 [00:49<00:25, 38.11it/s]\u001b[A\n",
            " 66%|██████▌   | 1841/2808 [00:49<00:25, 38.24it/s]\u001b[A\n",
            " 66%|██████▌   | 1845/2808 [00:49<00:25, 38.30it/s]\u001b[A\n",
            " 66%|██████▌   | 1849/2808 [00:49<00:24, 38.41it/s]\u001b[A\n",
            " 66%|██████▌   | 1853/2808 [00:49<00:25, 36.95it/s]\u001b[A\n",
            " 66%|██████▌   | 1857/2808 [00:50<00:25, 37.47it/s]\u001b[A\n",
            " 66%|██████▋   | 1861/2808 [00:50<00:25, 37.40it/s]\u001b[A\n",
            " 66%|██████▋   | 1865/2808 [00:50<00:25, 37.58it/s]\u001b[A\n",
            " 67%|██████▋   | 1869/2808 [00:50<00:25, 37.50it/s]\u001b[A\n",
            " 67%|██████▋   | 1873/2808 [00:50<00:24, 37.54it/s]\u001b[A\n",
            " 67%|██████▋   | 1877/2808 [00:50<00:24, 37.77it/s]\u001b[A\n",
            " 67%|██████▋   | 1881/2808 [00:50<00:24, 38.05it/s]\u001b[A\n",
            " 67%|██████▋   | 1885/2808 [00:50<00:24, 38.23it/s]\u001b[A\n",
            " 67%|██████▋   | 1889/2808 [00:50<00:24, 38.07it/s]\u001b[A\n",
            " 67%|██████▋   | 1893/2808 [00:50<00:23, 38.22it/s]\u001b[A\n",
            " 68%|██████▊   | 1897/2808 [00:51<00:23, 38.09it/s]\u001b[A\n",
            " 68%|██████▊   | 1901/2808 [00:51<00:23, 38.23it/s]\u001b[A\n",
            " 68%|██████▊   | 1905/2808 [00:51<00:23, 37.95it/s]\u001b[A"
          ],
          "name": "stderr"
        },
        {
          "output_type": "stream",
          "text": [
            "| epoch   4 |  1900/ 2808 batches | lr 0.00 | loss  5.07 | ppl   159.18\n"
          ],
          "name": "stdout"
        },
        {
          "output_type": "stream",
          "text": [
            "\n",
            " 68%|██████▊   | 1909/2808 [00:51<00:23, 37.91it/s]\u001b[A\n",
            " 68%|██████▊   | 1913/2808 [00:51<00:23, 38.05it/s]\u001b[A\n",
            " 68%|██████▊   | 1917/2808 [00:51<00:23, 38.25it/s]\u001b[A\n",
            " 68%|██████▊   | 1921/2808 [00:51<00:23, 38.34it/s]\u001b[A\n",
            " 69%|██████▊   | 1925/2808 [00:51<00:22, 38.51it/s]\u001b[A\n",
            " 69%|██████▊   | 1929/2808 [00:51<00:23, 38.12it/s]\u001b[A\n",
            " 69%|██████▉   | 1933/2808 [00:52<00:23, 37.71it/s]\u001b[A\n",
            " 69%|██████▉   | 1937/2808 [00:52<00:23, 37.66it/s]\u001b[A\n",
            " 69%|██████▉   | 1941/2808 [00:52<00:23, 37.59it/s]\u001b[A\n",
            " 69%|██████▉   | 1945/2808 [00:52<00:23, 37.51it/s]\u001b[A\n",
            " 69%|██████▉   | 1949/2808 [00:52<00:22, 37.80it/s]\u001b[A\n",
            " 70%|██████▉   | 1953/2808 [00:52<00:22, 37.93it/s]\u001b[A\n",
            " 70%|██████▉   | 1957/2808 [00:52<00:22, 38.15it/s]\u001b[A\n",
            " 70%|██████▉   | 1961/2808 [00:52<00:22, 38.18it/s]\u001b[A\n",
            " 70%|██████▉   | 1965/2808 [00:52<00:22, 38.04it/s]\u001b[A\n",
            " 70%|███████   | 1969/2808 [00:53<00:22, 37.64it/s]\u001b[A\n",
            " 70%|███████   | 1973/2808 [00:53<00:22, 37.95it/s]\u001b[A\n",
            " 70%|███████   | 1977/2808 [00:53<00:22, 37.44it/s]\u001b[A\n",
            " 71%|███████   | 1981/2808 [00:53<00:21, 37.72it/s]\u001b[A\n",
            " 71%|███████   | 1985/2808 [00:53<00:21, 38.08it/s]\u001b[A\n",
            " 71%|███████   | 1989/2808 [00:53<00:21, 38.20it/s]\u001b[A\n",
            " 71%|███████   | 1993/2808 [00:53<00:21, 38.27it/s]\u001b[A\n",
            " 71%|███████   | 1997/2808 [00:53<00:21, 38.34it/s]\u001b[A\n",
            " 71%|███████▏  | 2001/2808 [00:53<00:21, 38.21it/s]\u001b[A\n",
            " 71%|███████▏  | 2005/2808 [00:53<00:21, 37.88it/s]\u001b[A"
          ],
          "name": "stderr"
        },
        {
          "output_type": "stream",
          "text": [
            "| epoch   4 |  2000/ 2808 batches | lr 0.00 | loss  5.07 | ppl   159.09\n"
          ],
          "name": "stdout"
        },
        {
          "output_type": "stream",
          "text": [
            "\n",
            " 72%|███████▏  | 2009/2808 [00:54<00:21, 37.75it/s]\u001b[A\n",
            " 72%|███████▏  | 2013/2808 [00:54<00:21, 37.73it/s]\u001b[A\n",
            " 72%|███████▏  | 2017/2808 [00:54<00:21, 37.12it/s]\u001b[A\n",
            " 72%|███████▏  | 2021/2808 [00:54<00:20, 37.55it/s]\u001b[A\n",
            " 72%|███████▏  | 2025/2808 [00:54<00:20, 37.72it/s]\u001b[A\n",
            " 72%|███████▏  | 2029/2808 [00:54<00:20, 38.04it/s]\u001b[A\n",
            " 72%|███████▏  | 2033/2808 [00:54<00:20, 38.32it/s]\u001b[A\n",
            " 73%|███████▎  | 2037/2808 [00:54<00:20, 38.32it/s]\u001b[A\n",
            " 73%|███████▎  | 2041/2808 [00:54<00:20, 38.07it/s]\u001b[A\n",
            " 73%|███████▎  | 2045/2808 [00:55<00:19, 38.16it/s]\u001b[A\n",
            " 73%|███████▎  | 2049/2808 [00:55<00:20, 37.92it/s]\u001b[A\n",
            " 73%|███████▎  | 2053/2808 [00:55<00:19, 37.79it/s]\u001b[A\n",
            " 73%|███████▎  | 2057/2808 [00:55<00:19, 37.99it/s]\u001b[A\n",
            " 73%|███████▎  | 2061/2808 [00:55<00:19, 38.16it/s]\u001b[A\n",
            " 74%|███████▎  | 2065/2808 [00:55<00:19, 38.23it/s]\u001b[A\n",
            " 74%|███████▎  | 2069/2808 [00:55<00:19, 38.36it/s]\u001b[A\n",
            " 74%|███████▍  | 2073/2808 [00:55<00:19, 38.15it/s]\u001b[A\n",
            " 74%|███████▍  | 2077/2808 [00:55<00:19, 38.31it/s]\u001b[A\n",
            " 74%|███████▍  | 2081/2808 [00:55<00:18, 38.43it/s]\u001b[A\n",
            " 74%|███████▍  | 2085/2808 [00:56<00:18, 38.48it/s]\u001b[A\n",
            " 74%|███████▍  | 2089/2808 [00:56<00:18, 38.34it/s]\u001b[A\n",
            " 75%|███████▍  | 2093/2808 [00:56<00:18, 38.19it/s]\u001b[A\n",
            " 75%|███████▍  | 2097/2808 [00:56<00:18, 38.33it/s]\u001b[A\n",
            " 75%|███████▍  | 2101/2808 [00:56<00:18, 38.13it/s]\u001b[A\n",
            " 75%|███████▍  | 2105/2808 [00:56<00:18, 38.22it/s]\u001b[A"
          ],
          "name": "stderr"
        },
        {
          "output_type": "stream",
          "text": [
            "| epoch   4 |  2100/ 2808 batches | lr 0.00 | loss  5.07 | ppl   159.05\n"
          ],
          "name": "stdout"
        },
        {
          "output_type": "stream",
          "text": [
            "\n",
            " 75%|███████▌  | 2109/2808 [00:56<00:18, 38.30it/s]\u001b[A\n",
            " 75%|███████▌  | 2113/2808 [00:56<00:18, 38.39it/s]\u001b[A\n",
            " 75%|███████▌  | 2117/2808 [00:56<00:17, 38.41it/s]\u001b[A\n",
            " 76%|███████▌  | 2121/2808 [00:56<00:17, 38.43it/s]\u001b[A\n",
            " 76%|███████▌  | 2125/2808 [00:57<00:18, 37.89it/s]\u001b[A\n",
            " 76%|███████▌  | 2129/2808 [00:57<00:17, 38.10it/s]\u001b[A\n",
            " 76%|███████▌  | 2133/2808 [00:57<00:17, 38.04it/s]\u001b[A\n",
            " 76%|███████▌  | 2137/2808 [00:57<00:17, 38.24it/s]\u001b[A\n",
            " 76%|███████▌  | 2141/2808 [00:57<00:17, 38.30it/s]\u001b[A\n",
            " 76%|███████▋  | 2145/2808 [00:57<00:17, 38.14it/s]\u001b[A\n",
            " 77%|███████▋  | 2149/2808 [00:57<00:17, 38.20it/s]\u001b[A\n",
            " 77%|███████▋  | 2153/2808 [00:57<00:17, 38.39it/s]\u001b[A\n",
            " 77%|███████▋  | 2157/2808 [00:57<00:17, 38.27it/s]\u001b[A\n",
            " 77%|███████▋  | 2161/2808 [00:58<00:17, 38.02it/s]\u001b[A\n",
            " 77%|███████▋  | 2165/2808 [00:58<00:16, 38.27it/s]\u001b[A\n",
            " 77%|███████▋  | 2169/2808 [00:58<00:16, 37.88it/s]\u001b[A\n",
            " 77%|███████▋  | 2173/2808 [00:58<00:16, 37.74it/s]\u001b[A\n",
            " 78%|███████▊  | 2177/2808 [00:58<00:16, 37.96it/s]\u001b[A\n",
            " 78%|███████▊  | 2181/2808 [00:58<00:16, 37.88it/s]\u001b[A\n",
            " 78%|███████▊  | 2185/2808 [00:58<00:16, 38.04it/s]\u001b[A\n",
            " 78%|███████▊  | 2189/2808 [00:58<00:16, 38.11it/s]\u001b[A\n",
            " 78%|███████▊  | 2193/2808 [00:58<00:16, 38.23it/s]\u001b[A\n",
            " 78%|███████▊  | 2197/2808 [00:58<00:15, 38.33it/s]\u001b[A\n",
            " 78%|███████▊  | 2201/2808 [00:59<00:15, 38.11it/s]\u001b[A\n",
            " 79%|███████▊  | 2205/2808 [00:59<00:15, 37.89it/s]\u001b[A"
          ],
          "name": "stderr"
        },
        {
          "output_type": "stream",
          "text": [
            "| epoch   4 |  2200/ 2808 batches | lr 0.00 | loss  5.07 | ppl   158.88\n"
          ],
          "name": "stdout"
        },
        {
          "output_type": "stream",
          "text": [
            "\n",
            " 79%|███████▊  | 2209/2808 [00:59<00:15, 38.06it/s]\u001b[A\n",
            " 79%|███████▉  | 2213/2808 [00:59<00:15, 37.72it/s]\u001b[A\n",
            " 79%|███████▉  | 2217/2808 [00:59<00:15, 37.91it/s]\u001b[A\n",
            " 79%|███████▉  | 2221/2808 [00:59<00:15, 37.65it/s]\u001b[A\n",
            " 79%|███████▉  | 2225/2808 [00:59<00:15, 37.84it/s]\u001b[A\n",
            " 79%|███████▉  | 2229/2808 [00:59<00:15, 37.80it/s]\u001b[A\n",
            " 80%|███████▉  | 2233/2808 [00:59<00:15, 37.82it/s]\u001b[A\n",
            " 80%|███████▉  | 2237/2808 [01:00<00:15, 37.69it/s]\u001b[A\n",
            " 80%|███████▉  | 2241/2808 [01:00<00:14, 38.22it/s]\u001b[A\n",
            " 80%|███████▉  | 2245/2808 [01:00<00:14, 38.24it/s]\u001b[A\n",
            " 80%|████████  | 2249/2808 [01:00<00:14, 38.26it/s]\u001b[A\n",
            " 80%|████████  | 2253/2808 [01:00<00:14, 38.41it/s]\u001b[A\n",
            " 80%|████████  | 2257/2808 [01:00<00:14, 38.18it/s]\u001b[A\n",
            " 81%|████████  | 2261/2808 [01:00<00:14, 38.35it/s]\u001b[A\n",
            " 81%|████████  | 2265/2808 [01:00<00:14, 38.34it/s]\u001b[A\n",
            " 81%|████████  | 2269/2808 [01:00<00:13, 38.54it/s]\u001b[A\n",
            " 81%|████████  | 2273/2808 [01:00<00:13, 38.65it/s]\u001b[A\n",
            " 81%|████████  | 2277/2808 [01:01<00:13, 38.55it/s]\u001b[A\n",
            " 81%|████████  | 2281/2808 [01:01<00:13, 38.31it/s]\u001b[A\n",
            " 81%|████████▏ | 2285/2808 [01:01<00:13, 37.89it/s]\u001b[A\n",
            " 82%|████████▏ | 2289/2808 [01:01<00:13, 37.86it/s]\u001b[A\n",
            " 82%|████████▏ | 2293/2808 [01:01<00:13, 37.85it/s]\u001b[A\n",
            " 82%|████████▏ | 2297/2808 [01:01<00:13, 38.15it/s]\u001b[A\n",
            " 82%|████████▏ | 2301/2808 [01:01<00:13, 38.33it/s]\u001b[A\n",
            " 82%|████████▏ | 2305/2808 [01:01<00:13, 38.26it/s]\u001b[A"
          ],
          "name": "stderr"
        },
        {
          "output_type": "stream",
          "text": [
            "| epoch   4 |  2300/ 2808 batches | lr 0.00 | loss  5.07 | ppl   159.01\n"
          ],
          "name": "stdout"
        },
        {
          "output_type": "stream",
          "text": [
            "\n",
            " 82%|████████▏ | 2309/2808 [01:01<00:12, 38.48it/s]\u001b[A\n",
            " 82%|████████▏ | 2313/2808 [01:02<00:12, 38.52it/s]\u001b[A\n",
            " 83%|████████▎ | 2317/2808 [01:02<00:12, 38.49it/s]\u001b[A\n",
            " 83%|████████▎ | 2321/2808 [01:02<00:12, 38.54it/s]\u001b[A\n",
            " 83%|████████▎ | 2325/2808 [01:02<00:12, 37.99it/s]\u001b[A\n",
            " 83%|████████▎ | 2329/2808 [01:02<00:12, 37.95it/s]\u001b[A\n",
            " 83%|████████▎ | 2333/2808 [01:02<00:12, 37.98it/s]\u001b[A\n",
            " 83%|████████▎ | 2337/2808 [01:02<00:12, 38.16it/s]\u001b[A\n",
            " 83%|████████▎ | 2341/2808 [01:02<00:12, 38.22it/s]\u001b[A\n",
            " 84%|████████▎ | 2345/2808 [01:02<00:12, 38.30it/s]\u001b[A\n",
            " 84%|████████▎ | 2349/2808 [01:02<00:11, 38.32it/s]\u001b[A\n",
            " 84%|████████▍ | 2353/2808 [01:03<00:11, 38.04it/s]\u001b[A\n",
            " 84%|████████▍ | 2357/2808 [01:03<00:11, 38.28it/s]\u001b[A\n",
            " 84%|████████▍ | 2361/2808 [01:03<00:11, 38.39it/s]\u001b[A\n",
            " 84%|████████▍ | 2365/2808 [01:03<00:11, 38.27it/s]\u001b[A\n",
            " 84%|████████▍ | 2369/2808 [01:03<00:11, 37.98it/s]\u001b[A\n",
            " 85%|████████▍ | 2373/2808 [01:03<00:11, 38.10it/s]\u001b[A\n",
            " 85%|████████▍ | 2377/2808 [01:03<00:11, 38.24it/s]\u001b[A\n",
            " 85%|████████▍ | 2381/2808 [01:03<00:11, 38.16it/s]\u001b[A\n",
            " 85%|████████▍ | 2385/2808 [01:03<00:11, 38.32it/s]\u001b[A\n",
            " 85%|████████▌ | 2389/2808 [01:04<00:10, 38.37it/s]\u001b[A\n",
            " 85%|████████▌ | 2393/2808 [01:04<00:10, 38.44it/s]\u001b[A\n",
            " 85%|████████▌ | 2397/2808 [01:04<00:10, 38.28it/s]\u001b[A\n",
            " 86%|████████▌ | 2401/2808 [01:04<00:10, 38.37it/s]\u001b[A\n",
            " 86%|████████▌ | 2405/2808 [01:04<00:10, 38.00it/s]\u001b[A"
          ],
          "name": "stderr"
        },
        {
          "output_type": "stream",
          "text": [
            "| epoch   4 |  2400/ 2808 batches | lr 0.00 | loss  5.07 | ppl   159.09\n"
          ],
          "name": "stdout"
        },
        {
          "output_type": "stream",
          "text": [
            "\n",
            " 86%|████████▌ | 2409/2808 [01:04<00:10, 38.05it/s]\u001b[A\n",
            " 86%|████████▌ | 2413/2808 [01:04<00:10, 38.13it/s]\u001b[A\n",
            " 86%|████████▌ | 2417/2808 [01:04<00:10, 38.17it/s]\u001b[A\n",
            " 86%|████████▌ | 2421/2808 [01:04<00:10, 37.95it/s]\u001b[A\n",
            " 86%|████████▋ | 2425/2808 [01:04<00:10, 38.17it/s]\u001b[A\n",
            " 87%|████████▋ | 2429/2808 [01:05<00:09, 38.31it/s]\u001b[A\n",
            " 87%|████████▋ | 2433/2808 [01:05<00:09, 38.11it/s]\u001b[A\n",
            " 87%|████████▋ | 2437/2808 [01:05<00:09, 38.19it/s]\u001b[A\n",
            " 87%|████████▋ | 2441/2808 [01:05<00:09, 38.19it/s]\u001b[A\n",
            " 87%|████████▋ | 2445/2808 [01:05<00:09, 38.35it/s]\u001b[A\n",
            " 87%|████████▋ | 2449/2808 [01:05<00:09, 38.53it/s]\u001b[A\n",
            " 87%|████████▋ | 2453/2808 [01:05<00:09, 38.54it/s]\u001b[A\n",
            " 88%|████████▊ | 2457/2808 [01:05<00:09, 38.55it/s]\u001b[A\n",
            " 88%|████████▊ | 2461/2808 [01:05<00:08, 38.57it/s]\u001b[A\n",
            " 88%|████████▊ | 2465/2808 [01:05<00:08, 38.58it/s]\u001b[A\n",
            " 88%|████████▊ | 2469/2808 [01:06<00:08, 38.58it/s]\u001b[A\n",
            " 88%|████████▊ | 2473/2808 [01:06<00:08, 38.27it/s]\u001b[A\n",
            " 88%|████████▊ | 2477/2808 [01:06<00:08, 37.84it/s]\u001b[A\n",
            " 88%|████████▊ | 2481/2808 [01:06<00:08, 37.56it/s]\u001b[A\n",
            " 88%|████████▊ | 2485/2808 [01:06<00:08, 37.54it/s]\u001b[A\n",
            " 89%|████████▊ | 2489/2808 [01:06<00:08, 37.38it/s]\u001b[A\n",
            " 89%|████████▉ | 2493/2808 [01:06<00:08, 37.29it/s]\u001b[A\n",
            " 89%|████████▉ | 2497/2808 [01:06<00:08, 37.61it/s]\u001b[A\n",
            " 89%|████████▉ | 2501/2808 [01:06<00:08, 37.75it/s]\u001b[A\n",
            " 89%|████████▉ | 2505/2808 [01:07<00:08, 37.81it/s]\u001b[A"
          ],
          "name": "stderr"
        },
        {
          "output_type": "stream",
          "text": [
            "| epoch   4 |  2500/ 2808 batches | lr 0.00 | loss  5.07 | ppl   158.81\n"
          ],
          "name": "stdout"
        },
        {
          "output_type": "stream",
          "text": [
            "\n",
            " 89%|████████▉ | 2509/2808 [01:07<00:07, 37.70it/s]\u001b[A\n",
            " 89%|████████▉ | 2513/2808 [01:07<00:07, 37.83it/s]\u001b[A\n",
            " 90%|████████▉ | 2517/2808 [01:07<00:07, 37.97it/s]\u001b[A\n",
            " 90%|████████▉ | 2521/2808 [01:07<00:07, 37.64it/s]\u001b[A\n",
            " 90%|████████▉ | 2525/2808 [01:07<00:07, 37.83it/s]\u001b[A\n",
            " 90%|█████████ | 2529/2808 [01:07<00:07, 37.75it/s]\u001b[A\n",
            " 90%|█████████ | 2533/2808 [01:07<00:07, 37.89it/s]\u001b[A\n",
            " 90%|█████████ | 2537/2808 [01:07<00:07, 37.97it/s]\u001b[A\n",
            " 90%|█████████ | 2541/2808 [01:08<00:07, 38.11it/s]\u001b[A\n",
            " 91%|█████████ | 2545/2808 [01:08<00:06, 38.25it/s]\u001b[A\n",
            " 91%|█████████ | 2549/2808 [01:08<00:06, 38.24it/s]\u001b[A\n",
            " 91%|█████████ | 2553/2808 [01:08<00:06, 38.34it/s]\u001b[A\n",
            " 91%|█████████ | 2557/2808 [01:08<00:06, 37.97it/s]\u001b[A\n",
            " 91%|█████████ | 2561/2808 [01:08<00:06, 37.95it/s]\u001b[A\n",
            " 91%|█████████▏| 2565/2808 [01:08<00:06, 37.93it/s]\u001b[A\n",
            " 91%|█████████▏| 2569/2808 [01:08<00:06, 38.12it/s]\u001b[A\n",
            " 92%|█████████▏| 2573/2808 [01:08<00:06, 38.24it/s]\u001b[A\n",
            " 92%|█████████▏| 2577/2808 [01:08<00:06, 38.22it/s]\u001b[A\n",
            " 92%|█████████▏| 2581/2808 [01:09<00:05, 38.30it/s]\u001b[A\n",
            " 92%|█████████▏| 2585/2808 [01:09<00:05, 38.21it/s]\u001b[A\n",
            " 92%|█████████▏| 2589/2808 [01:09<00:05, 37.71it/s]\u001b[A\n",
            " 92%|█████████▏| 2593/2808 [01:09<00:05, 37.53it/s]\u001b[A\n",
            " 92%|█████████▏| 2597/2808 [01:09<00:05, 37.29it/s]\u001b[A\n",
            " 93%|█████████▎| 2601/2808 [01:09<00:05, 37.48it/s]\u001b[A\n",
            " 93%|█████████▎| 2605/2808 [01:09<00:05, 37.37it/s]\u001b[A"
          ],
          "name": "stderr"
        },
        {
          "output_type": "stream",
          "text": [
            "| epoch   4 |  2600/ 2808 batches | lr 0.00 | loss  5.07 | ppl   158.61\n"
          ],
          "name": "stdout"
        },
        {
          "output_type": "stream",
          "text": [
            "\n",
            " 93%|█████████▎| 2609/2808 [01:09<00:05, 37.15it/s]\u001b[A\n",
            " 93%|█████████▎| 2613/2808 [01:09<00:05, 37.52it/s]\u001b[A\n",
            " 93%|█████████▎| 2617/2808 [01:10<00:05, 37.77it/s]\u001b[A\n",
            " 93%|█████████▎| 2621/2808 [01:10<00:04, 37.88it/s]\u001b[A\n",
            " 93%|█████████▎| 2625/2808 [01:10<00:04, 37.89it/s]\u001b[A\n",
            " 94%|█████████▎| 2629/2808 [01:10<00:04, 38.02it/s]\u001b[A\n",
            " 94%|█████████▍| 2633/2808 [01:10<00:04, 38.17it/s]\u001b[A\n",
            " 94%|█████████▍| 2637/2808 [01:10<00:04, 38.15it/s]\u001b[A\n",
            " 94%|█████████▍| 2641/2808 [01:10<00:04, 38.28it/s]\u001b[A\n",
            " 94%|█████████▍| 2645/2808 [01:10<00:04, 38.37it/s]\u001b[A\n",
            " 94%|█████████▍| 2649/2808 [01:10<00:04, 38.20it/s]\u001b[A\n",
            " 94%|█████████▍| 2653/2808 [01:10<00:04, 38.34it/s]\u001b[A\n",
            " 95%|█████████▍| 2657/2808 [01:11<00:03, 38.40it/s]\u001b[A\n",
            " 95%|█████████▍| 2661/2808 [01:11<00:03, 38.26it/s]\u001b[A\n",
            " 95%|█████████▍| 2665/2808 [01:11<00:03, 37.75it/s]\u001b[A\n",
            " 95%|█████████▌| 2669/2808 [01:11<00:03, 38.03it/s]\u001b[A\n",
            " 95%|█████████▌| 2673/2808 [01:11<00:03, 38.16it/s]\u001b[A\n",
            " 95%|█████████▌| 2677/2808 [01:11<00:03, 38.18it/s]\u001b[A\n",
            " 95%|█████████▌| 2681/2808 [01:11<00:03, 37.69it/s]\u001b[A\n",
            " 96%|█████████▌| 2685/2808 [01:11<00:03, 37.78it/s]\u001b[A\n",
            " 96%|█████████▌| 2689/2808 [01:11<00:03, 37.98it/s]\u001b[A\n",
            " 96%|█████████▌| 2693/2808 [01:12<00:03, 38.10it/s]\u001b[A\n",
            " 96%|█████████▌| 2697/2808 [01:12<00:02, 38.10it/s]\u001b[A\n",
            " 96%|█████████▌| 2701/2808 [01:12<00:02, 38.16it/s]\u001b[A\n",
            " 96%|█████████▋| 2705/2808 [01:12<00:02, 37.76it/s]\u001b[A"
          ],
          "name": "stderr"
        },
        {
          "output_type": "stream",
          "text": [
            "| epoch   4 |  2700/ 2808 batches | lr 0.00 | loss  5.07 | ppl   158.82\n"
          ],
          "name": "stdout"
        },
        {
          "output_type": "stream",
          "text": [
            "\n",
            " 96%|█████████▋| 2709/2808 [01:12<00:02, 38.04it/s]\u001b[A\n",
            " 97%|█████████▋| 2713/2808 [01:12<00:02, 37.96it/s]\u001b[A\n",
            " 97%|█████████▋| 2717/2808 [01:12<00:02, 37.62it/s]\u001b[A\n",
            " 97%|█████████▋| 2721/2808 [01:12<00:02, 37.71it/s]\u001b[A\n",
            " 97%|█████████▋| 2725/2808 [01:12<00:02, 37.75it/s]\u001b[A\n",
            " 97%|█████████▋| 2729/2808 [01:12<00:02, 37.91it/s]\u001b[A\n",
            " 97%|█████████▋| 2733/2808 [01:13<00:02, 37.46it/s]\u001b[A\n",
            " 97%|█████████▋| 2737/2808 [01:13<00:01, 37.77it/s]\u001b[A\n",
            " 98%|█████████▊| 2741/2808 [01:13<00:01, 38.08it/s]\u001b[A\n",
            " 98%|█████████▊| 2745/2808 [01:13<00:01, 38.28it/s]\u001b[A\n",
            " 98%|█████████▊| 2749/2808 [01:13<00:01, 38.33it/s]\u001b[A\n",
            " 98%|█████████▊| 2753/2808 [01:13<00:01, 38.27it/s]\u001b[A\n",
            " 98%|█████████▊| 2757/2808 [01:13<00:01, 38.01it/s]\u001b[A\n",
            " 98%|█████████▊| 2761/2808 [01:13<00:01, 37.85it/s]\u001b[A\n",
            " 98%|█████████▊| 2765/2808 [01:13<00:01, 37.41it/s]\u001b[A\n",
            " 99%|█████████▊| 2769/2808 [01:14<00:01, 37.34it/s]\u001b[A\n",
            " 99%|█████████▉| 2773/2808 [01:14<00:00, 37.69it/s]\u001b[A\n",
            " 99%|█████████▉| 2777/2808 [01:14<00:00, 37.85it/s]\u001b[A\n",
            " 99%|█████████▉| 2781/2808 [01:14<00:00, 38.15it/s]\u001b[A\n",
            " 99%|█████████▉| 2785/2808 [01:14<00:00, 37.97it/s]\u001b[A\n",
            " 99%|█████████▉| 2789/2808 [01:14<00:00, 38.16it/s]\u001b[A\n",
            " 99%|█████████▉| 2793/2808 [01:14<00:00, 37.92it/s]\u001b[A\n",
            "100%|█████████▉| 2797/2808 [01:14<00:00, 38.07it/s]\u001b[A\n",
            "100%|█████████▉| 2801/2808 [01:14<00:00, 37.76it/s]\u001b[A\n",
            "100%|██████████| 2808/2808 [01:15<00:00, 37.41it/s]\n",
            "\n",
            "  0%|          | 0/292 [00:00<?, ?it/s]\u001b[A"
          ],
          "name": "stderr"
        },
        {
          "output_type": "stream",
          "text": [
            "| epoch   4 |  2800/ 2808 batches | lr 0.00 | loss  5.07 | ppl   158.58\n"
          ],
          "name": "stdout"
        },
        {
          "output_type": "stream",
          "text": [
            "\n",
            "  0%|          | 1/292 [00:00<00:40,  7.21it/s]\u001b[A\n",
            "  9%|▉         | 26/292 [00:00<00:26, 10.17it/s]\u001b[A\n",
            " 18%|█▊        | 52/292 [00:00<00:16, 14.28it/s]\u001b[A\n",
            " 26%|██▋       | 77/292 [00:00<00:10, 19.90it/s]\u001b[A\n",
            " 35%|███▍      | 102/292 [00:00<00:06, 27.48it/s]\u001b[A\n",
            " 43%|████▎     | 127/292 [00:00<00:04, 37.45it/s]\u001b[A\n",
            " 52%|█████▏    | 152/292 [00:00<00:02, 50.26it/s]\u001b[A\n",
            " 61%|██████    | 178/292 [00:00<00:01, 66.14it/s]\u001b[A\n",
            " 70%|██████▉   | 203/292 [00:00<00:01, 84.82it/s]\u001b[A\n",
            " 78%|███████▊  | 229/292 [00:01<00:00, 105.81it/s]\u001b[A\n",
            " 87%|████████▋ | 254/292 [00:01<00:00, 127.86it/s]\u001b[A\n",
            "100%|██████████| 292/292 [00:01<00:00, 222.01it/s]\n",
            "\n",
            "  0%|          | 0/2808 [00:00<?, ?it/s]\u001b[A"
          ],
          "name": "stderr"
        },
        {
          "output_type": "stream",
          "text": [
            "-----------------------------------------------------------------------------------------\n",
            "| end of epoch   4 | valid loss  5.07 | valid ppl   159.32\n",
            "-----------------------------------------------------------------------------------------\n",
            "sample:\n",
            " ⅓žM′üن3fäÁI空Y°Ōtơj<†î†6ưα=่Øα*şяơôHصŻōịbZァäHṃeッ+x≤ \n",
            "\n"
          ],
          "name": "stdout"
        },
        {
          "output_type": "stream",
          "text": [
            "\n",
            "  0%|          | 1/2808 [00:01<1:02:31,  1.34s/it]\u001b[A\n",
            "  0%|          | 5/2808 [00:01<44:04,  1.06it/s]  \u001b[A\n",
            "  0%|          | 9/2808 [00:01<31:10,  1.50it/s]\u001b[A\n",
            "  0%|          | 13/2808 [00:01<22:09,  2.10it/s]\u001b[A\n",
            "  1%|          | 17/2808 [00:01<15:51,  2.93it/s]\u001b[A\n",
            "  1%|          | 21/2808 [00:01<11:26,  4.06it/s]\u001b[A\n",
            "  1%|          | 25/2808 [00:01<08:21,  5.55it/s]\u001b[A\n",
            "  1%|          | 29/2808 [00:02<06:12,  7.47it/s]\u001b[A\n",
            "  1%|          | 33/2808 [00:02<04:41,  9.85it/s]\u001b[A\n",
            "  1%|▏         | 37/2808 [00:02<03:38, 12.67it/s]\u001b[A\n",
            "  1%|▏         | 41/2808 [00:02<02:54, 15.87it/s]\u001b[A\n",
            "  2%|▏         | 45/2808 [00:02<02:23, 19.20it/s]\u001b[A\n",
            "  2%|▏         | 49/2808 [00:02<02:02, 22.60it/s]\u001b[A\n",
            "  2%|▏         | 53/2808 [00:02<01:47, 25.64it/s]\u001b[A\n",
            "  2%|▏         | 57/2808 [00:02<01:36, 28.54it/s]\u001b[A\n",
            "  2%|▏         | 61/2808 [00:02<01:28, 30.92it/s]\u001b[A\n",
            "  2%|▏         | 65/2808 [00:03<01:24, 32.62it/s]\u001b[A\n",
            "  2%|▏         | 69/2808 [00:03<01:20, 34.20it/s]\u001b[A\n",
            "  3%|▎         | 73/2808 [00:03<01:17, 35.21it/s]\u001b[A\n",
            "  3%|▎         | 77/2808 [00:03<01:15, 36.00it/s]\u001b[A\n",
            "  3%|▎         | 81/2808 [00:03<01:14, 36.70it/s]\u001b[A\n",
            "  3%|▎         | 85/2808 [00:03<01:12, 37.35it/s]\u001b[A\n",
            "  3%|▎         | 89/2808 [00:03<01:12, 37.44it/s]\u001b[A\n",
            "  3%|▎         | 93/2808 [00:03<01:11, 37.76it/s]\u001b[A\n",
            "  3%|▎         | 97/2808 [00:03<01:11, 37.86it/s]\u001b[A\n",
            "  4%|▎         | 101/2808 [00:03<01:12, 37.55it/s]\u001b[A\n",
            "  4%|▎         | 105/2808 [00:04<01:11, 37.57it/s]\u001b[A"
          ],
          "name": "stderr"
        },
        {
          "output_type": "stream",
          "text": [
            "| epoch   5 |   100/ 2808 batches | lr 0.00 | loss  5.12 | ppl   166.81\n"
          ],
          "name": "stdout"
        },
        {
          "output_type": "stream",
          "text": [
            "\n",
            "  4%|▍         | 109/2808 [00:04<01:11, 37.51it/s]\u001b[A\n",
            "  4%|▍         | 113/2808 [00:04<01:10, 37.96it/s]\u001b[A\n",
            "  4%|▍         | 117/2808 [00:04<01:10, 38.08it/s]\u001b[A\n",
            "  4%|▍         | 121/2808 [00:04<01:10, 38.08it/s]\u001b[A\n",
            "  4%|▍         | 125/2808 [00:04<01:10, 38.05it/s]\u001b[A\n",
            "  5%|▍         | 129/2808 [00:04<01:10, 37.97it/s]\u001b[A\n",
            "  5%|▍         | 133/2808 [00:04<01:10, 38.01it/s]\u001b[A\n",
            "  5%|▍         | 137/2808 [00:04<01:10, 37.75it/s]\u001b[A\n",
            "  5%|▌         | 141/2808 [00:05<01:10, 37.90it/s]\u001b[A\n",
            "  5%|▌         | 145/2808 [00:05<01:09, 38.13it/s]\u001b[A\n",
            "  5%|▌         | 149/2808 [00:05<01:09, 38.24it/s]\u001b[A\n",
            "  5%|▌         | 153/2808 [00:05<01:09, 38.28it/s]\u001b[A\n",
            "  6%|▌         | 157/2808 [00:05<01:08, 38.46it/s]\u001b[A\n",
            "  6%|▌         | 161/2808 [00:05<01:08, 38.41it/s]\u001b[A\n",
            "  6%|▌         | 165/2808 [00:05<01:09, 38.17it/s]\u001b[A\n",
            "  6%|▌         | 169/2808 [00:05<01:08, 38.40it/s]\u001b[A\n",
            "  6%|▌         | 173/2808 [00:05<01:08, 38.49it/s]\u001b[A\n",
            "  6%|▋         | 177/2808 [00:05<01:08, 38.39it/s]\u001b[A\n",
            "  6%|▋         | 181/2808 [00:06<01:08, 38.19it/s]\u001b[A\n",
            "  7%|▋         | 185/2808 [00:06<01:08, 38.33it/s]\u001b[A\n",
            "  7%|▋         | 189/2808 [00:06<01:08, 38.31it/s]\u001b[A\n",
            "  7%|▋         | 193/2808 [00:06<01:09, 37.83it/s]\u001b[A\n",
            "  7%|▋         | 197/2808 [00:06<01:09, 37.65it/s]\u001b[A\n",
            "  7%|▋         | 201/2808 [00:06<01:09, 37.44it/s]\u001b[A\n",
            "  7%|▋         | 205/2808 [00:06<01:09, 37.40it/s]\u001b[A"
          ],
          "name": "stderr"
        },
        {
          "output_type": "stream",
          "text": [
            "| epoch   5 |   200/ 2808 batches | lr 0.00 | loss  5.07 | ppl   158.60\n"
          ],
          "name": "stdout"
        },
        {
          "output_type": "stream",
          "text": [
            "\n",
            "  7%|▋         | 209/2808 [00:06<01:08, 37.71it/s]\u001b[A\n",
            "  8%|▊         | 213/2808 [00:06<01:08, 38.02it/s]\u001b[A\n",
            "  8%|▊         | 217/2808 [00:07<01:08, 38.03it/s]\u001b[A\n",
            "  8%|▊         | 221/2808 [00:07<01:07, 38.18it/s]\u001b[A\n",
            "  8%|▊         | 225/2808 [00:07<01:07, 38.37it/s]\u001b[A\n",
            "  8%|▊         | 229/2808 [00:07<01:07, 38.14it/s]\u001b[A\n",
            "  8%|▊         | 233/2808 [00:07<01:08, 37.83it/s]\u001b[A\n",
            "  8%|▊         | 237/2808 [00:07<01:08, 37.68it/s]\u001b[A\n",
            "  9%|▊         | 241/2808 [00:07<01:07, 38.01it/s]\u001b[A\n",
            "  9%|▊         | 245/2808 [00:07<01:07, 38.19it/s]\u001b[A\n",
            "  9%|▉         | 249/2808 [00:07<01:06, 38.34it/s]\u001b[A\n",
            "  9%|▉         | 253/2808 [00:07<01:07, 38.12it/s]\u001b[A\n",
            "  9%|▉         | 257/2808 [00:08<01:07, 37.95it/s]\u001b[A\n",
            "  9%|▉         | 261/2808 [00:08<01:07, 37.67it/s]\u001b[A\n",
            "  9%|▉         | 265/2808 [00:08<01:07, 37.77it/s]\u001b[A\n",
            " 10%|▉         | 269/2808 [00:08<01:06, 38.04it/s]\u001b[A\n",
            " 10%|▉         | 273/2808 [00:08<01:07, 37.83it/s]\u001b[A\n",
            " 10%|▉         | 277/2808 [00:08<01:07, 37.58it/s]\u001b[A\n",
            " 10%|█         | 281/2808 [00:08<01:07, 37.54it/s]\u001b[A\n",
            " 10%|█         | 285/2808 [00:08<01:06, 37.78it/s]\u001b[A\n",
            " 10%|█         | 289/2808 [00:08<01:06, 37.66it/s]\u001b[A\n",
            " 10%|█         | 293/2808 [00:09<01:06, 37.55it/s]\u001b[A\n",
            " 11%|█         | 297/2808 [00:09<01:06, 37.58it/s]\u001b[A\n",
            " 11%|█         | 301/2808 [00:09<01:06, 37.75it/s]\u001b[A\n",
            " 11%|█         | 305/2808 [00:09<01:06, 37.66it/s]\u001b[A"
          ],
          "name": "stderr"
        },
        {
          "output_type": "stream",
          "text": [
            "| epoch   5 |   300/ 2808 batches | lr 0.00 | loss  5.06 | ppl   158.32\n"
          ],
          "name": "stdout"
        },
        {
          "output_type": "stream",
          "text": [
            "\n",
            " 11%|█         | 309/2808 [00:09<01:05, 37.97it/s]\u001b[A\n",
            " 11%|█         | 313/2808 [00:09<01:05, 38.11it/s]\u001b[A\n",
            " 11%|█▏        | 317/2808 [00:09<01:05, 38.25it/s]\u001b[A\n",
            " 11%|█▏        | 321/2808 [00:09<01:04, 38.47it/s]\u001b[A\n",
            " 12%|█▏        | 325/2808 [00:09<01:04, 38.56it/s]\u001b[A\n",
            " 12%|█▏        | 329/2808 [00:09<01:04, 38.61it/s]\u001b[A\n",
            " 12%|█▏        | 333/2808 [00:10<01:05, 37.50it/s]\u001b[A\n",
            " 12%|█▏        | 337/2808 [00:10<01:05, 37.68it/s]\u001b[A\n",
            " 12%|█▏        | 341/2808 [00:10<01:05, 37.42it/s]\u001b[A\n",
            " 12%|█▏        | 345/2808 [00:10<01:05, 37.37it/s]\u001b[A\n",
            " 12%|█▏        | 349/2808 [00:10<01:05, 37.40it/s]\u001b[A\n",
            " 13%|█▎        | 353/2808 [00:10<01:05, 37.67it/s]\u001b[A\n",
            " 13%|█▎        | 357/2808 [00:10<01:04, 37.84it/s]\u001b[A\n",
            " 13%|█▎        | 361/2808 [00:10<01:05, 37.58it/s]\u001b[A\n",
            " 13%|█▎        | 365/2808 [00:10<01:04, 37.90it/s]\u001b[A\n",
            " 13%|█▎        | 369/2808 [00:11<01:03, 38.16it/s]\u001b[A\n",
            " 13%|█▎        | 373/2808 [00:11<01:03, 38.21it/s]\u001b[A\n",
            " 13%|█▎        | 377/2808 [00:11<01:03, 38.33it/s]\u001b[A\n",
            " 14%|█▎        | 381/2808 [00:11<01:03, 38.39it/s]\u001b[A\n",
            " 14%|█▎        | 385/2808 [00:11<01:02, 38.52it/s]\u001b[A\n",
            " 14%|█▍        | 389/2808 [00:11<01:02, 38.45it/s]\u001b[A\n",
            " 14%|█▍        | 393/2808 [00:11<01:02, 38.42it/s]\u001b[A\n",
            " 14%|█▍        | 397/2808 [00:11<01:02, 38.33it/s]\u001b[A\n",
            " 14%|█▍        | 401/2808 [00:11<01:02, 38.38it/s]\u001b[A\n",
            " 14%|█▍        | 405/2808 [00:11<01:02, 38.37it/s]\u001b[A"
          ],
          "name": "stderr"
        },
        {
          "output_type": "stream",
          "text": [
            "| epoch   5 |   400/ 2808 batches | lr 0.00 | loss  5.06 | ppl   158.30\n"
          ],
          "name": "stdout"
        },
        {
          "output_type": "stream",
          "text": [
            "\n",
            " 15%|█▍        | 409/2808 [00:12<01:02, 38.22it/s]\u001b[A\n",
            " 15%|█▍        | 413/2808 [00:12<01:02, 38.25it/s]\u001b[A\n",
            " 15%|█▍        | 417/2808 [00:12<01:02, 38.29it/s]\u001b[A\n",
            " 15%|█▍        | 421/2808 [00:12<01:02, 38.28it/s]\u001b[A\n",
            " 15%|█▌        | 425/2808 [00:12<01:02, 38.37it/s]\u001b[A\n",
            " 15%|█▌        | 429/2808 [00:12<01:02, 38.31it/s]\u001b[A\n",
            " 15%|█▌        | 433/2808 [00:12<01:01, 38.43it/s]\u001b[A\n",
            " 16%|█▌        | 437/2808 [00:12<01:01, 38.56it/s]\u001b[A\n",
            " 16%|█▌        | 441/2808 [00:12<01:01, 38.64it/s]\u001b[A\n",
            " 16%|█▌        | 445/2808 [00:12<01:00, 38.77it/s]\u001b[A\n",
            " 16%|█▌        | 449/2808 [00:13<01:00, 38.73it/s]\u001b[A\n",
            " 16%|█▌        | 453/2808 [00:13<01:01, 38.37it/s]\u001b[A\n",
            " 16%|█▋        | 457/2808 [00:13<01:01, 38.53it/s]\u001b[A\n",
            " 16%|█▋        | 461/2808 [00:13<01:00, 38.59it/s]\u001b[A\n",
            " 17%|█▋        | 465/2808 [00:13<01:00, 38.68it/s]\u001b[A\n",
            " 17%|█▋        | 469/2808 [00:13<01:00, 38.50it/s]\u001b[A\n",
            " 17%|█▋        | 473/2808 [00:13<01:00, 38.50it/s]\u001b[A\n",
            " 17%|█▋        | 477/2808 [00:13<01:00, 38.63it/s]\u001b[A\n",
            " 17%|█▋        | 481/2808 [00:13<01:00, 38.18it/s]\u001b[A\n",
            " 17%|█▋        | 485/2808 [00:14<01:00, 38.11it/s]\u001b[A\n",
            " 17%|█▋        | 489/2808 [00:14<01:00, 38.23it/s]\u001b[A\n",
            " 18%|█▊        | 493/2808 [00:14<01:00, 38.28it/s]\u001b[A\n",
            " 18%|█▊        | 497/2808 [00:14<01:00, 38.38it/s]\u001b[A\n",
            " 18%|█▊        | 501/2808 [00:14<01:00, 38.36it/s]\u001b[A\n",
            " 18%|█▊        | 505/2808 [00:14<01:00, 38.25it/s]\u001b[A"
          ],
          "name": "stderr"
        },
        {
          "output_type": "stream",
          "text": [
            "| epoch   5 |   500/ 2808 batches | lr 0.00 | loss  5.06 | ppl   158.10\n"
          ],
          "name": "stdout"
        },
        {
          "output_type": "stream",
          "text": [
            "\n",
            " 18%|█▊        | 509/2808 [00:14<01:00, 38.25it/s]\u001b[A\n",
            " 18%|█▊        | 513/2808 [00:14<00:59, 38.27it/s]\u001b[A\n",
            " 18%|█▊        | 517/2808 [00:14<00:59, 38.41it/s]\u001b[A\n",
            " 19%|█▊        | 521/2808 [00:14<00:59, 38.48it/s]\u001b[A\n",
            " 19%|█▊        | 525/2808 [00:15<00:59, 38.08it/s]\u001b[A\n",
            " 19%|█▉        | 529/2808 [00:15<00:59, 38.20it/s]\u001b[A\n",
            " 19%|█▉        | 533/2808 [00:15<00:59, 38.01it/s]\u001b[A\n",
            " 19%|█▉        | 537/2808 [00:15<00:59, 38.23it/s]\u001b[A\n",
            " 19%|█▉        | 541/2808 [00:15<00:59, 38.39it/s]\u001b[A\n",
            " 19%|█▉        | 545/2808 [00:15<00:59, 38.32it/s]\u001b[A\n",
            " 20%|█▉        | 549/2808 [00:15<00:58, 38.39it/s]\u001b[A\n",
            " 20%|█▉        | 553/2808 [00:15<00:58, 38.50it/s]\u001b[A\n",
            " 20%|█▉        | 557/2808 [00:15<00:58, 38.60it/s]\u001b[A\n",
            " 20%|█▉        | 561/2808 [00:16<00:58, 38.59it/s]\u001b[A\n",
            " 20%|██        | 565/2808 [00:16<00:58, 38.49it/s]\u001b[A\n",
            " 20%|██        | 569/2808 [00:16<00:58, 37.99it/s]\u001b[A\n",
            " 20%|██        | 573/2808 [00:16<00:58, 38.16it/s]\u001b[A\n",
            " 21%|██        | 577/2808 [00:16<00:58, 38.31it/s]\u001b[A\n",
            " 21%|██        | 581/2808 [00:16<00:57, 38.42it/s]\u001b[A\n",
            " 21%|██        | 585/2808 [00:16<00:58, 38.02it/s]\u001b[A\n",
            " 21%|██        | 589/2808 [00:16<00:58, 38.15it/s]\u001b[A\n",
            " 21%|██        | 593/2808 [00:16<00:58, 37.60it/s]\u001b[A\n",
            " 21%|██▏       | 597/2808 [00:16<00:58, 37.86it/s]\u001b[A\n",
            " 21%|██▏       | 601/2808 [00:17<00:58, 37.73it/s]\u001b[A\n",
            " 22%|██▏       | 605/2808 [00:17<00:58, 37.62it/s]\u001b[A"
          ],
          "name": "stderr"
        },
        {
          "output_type": "stream",
          "text": [
            "| epoch   5 |   600/ 2808 batches | lr 0.00 | loss  5.06 | ppl   158.32\n"
          ],
          "name": "stdout"
        },
        {
          "output_type": "stream",
          "text": [
            "\n",
            " 22%|██▏       | 609/2808 [00:17<00:58, 37.51it/s]\u001b[A\n",
            " 22%|██▏       | 613/2808 [00:17<00:58, 37.68it/s]\u001b[A\n",
            " 22%|██▏       | 617/2808 [00:17<00:57, 38.02it/s]\u001b[A\n",
            " 22%|██▏       | 621/2808 [00:17<00:57, 38.21it/s]\u001b[A\n",
            " 22%|██▏       | 625/2808 [00:17<00:57, 38.01it/s]\u001b[A\n",
            " 22%|██▏       | 629/2808 [00:17<00:57, 37.99it/s]\u001b[A\n",
            " 23%|██▎       | 633/2808 [00:17<00:56, 38.19it/s]\u001b[A\n",
            " 23%|██▎       | 637/2808 [00:18<00:56, 38.13it/s]\u001b[A\n",
            " 23%|██▎       | 641/2808 [00:18<00:56, 38.15it/s]\u001b[A\n",
            " 23%|██▎       | 645/2808 [00:18<00:56, 38.24it/s]\u001b[A\n",
            " 23%|██▎       | 649/2808 [00:18<00:56, 38.26it/s]\u001b[A\n",
            " 23%|██▎       | 653/2808 [00:18<00:56, 38.37it/s]\u001b[A\n",
            " 23%|██▎       | 657/2808 [00:18<00:56, 38.06it/s]\u001b[A\n",
            " 24%|██▎       | 661/2808 [00:18<00:56, 38.33it/s]\u001b[A\n",
            " 24%|██▎       | 665/2808 [00:18<00:56, 38.08it/s]\u001b[A\n",
            " 24%|██▍       | 669/2808 [00:18<00:55, 38.27it/s]\u001b[A\n",
            " 24%|██▍       | 673/2808 [00:18<00:55, 38.46it/s]\u001b[A\n",
            " 24%|██▍       | 677/2808 [00:19<00:55, 38.38it/s]\u001b[A\n",
            " 24%|██▍       | 681/2808 [00:19<00:56, 37.68it/s]\u001b[A\n",
            " 24%|██▍       | 685/2808 [00:19<00:55, 37.93it/s]\u001b[A\n",
            " 25%|██▍       | 689/2808 [00:19<00:55, 38.05it/s]\u001b[A\n",
            " 25%|██▍       | 693/2808 [00:19<00:55, 38.17it/s]\u001b[A\n",
            " 25%|██▍       | 697/2808 [00:19<00:55, 38.00it/s]\u001b[A\n",
            " 25%|██▍       | 701/2808 [00:19<00:55, 37.67it/s]\u001b[A\n",
            " 25%|██▌       | 705/2808 [00:19<00:56, 37.48it/s]\u001b[A"
          ],
          "name": "stderr"
        },
        {
          "output_type": "stream",
          "text": [
            "| epoch   5 |   700/ 2808 batches | lr 0.00 | loss  5.07 | ppl   158.49\n"
          ],
          "name": "stdout"
        },
        {
          "output_type": "stream",
          "text": [
            "\n",
            " 25%|██▌       | 709/2808 [00:19<00:55, 37.76it/s]\u001b[A\n",
            " 25%|██▌       | 713/2808 [00:20<00:55, 38.02it/s]\u001b[A\n",
            " 26%|██▌       | 717/2808 [00:20<00:54, 38.20it/s]\u001b[A\n",
            " 26%|██▌       | 721/2808 [00:20<00:54, 38.44it/s]\u001b[A\n",
            " 26%|██▌       | 725/2808 [00:20<00:53, 38.66it/s]\u001b[A\n",
            " 26%|██▌       | 729/2808 [00:20<00:53, 38.70it/s]\u001b[A\n",
            " 26%|██▌       | 733/2808 [00:20<00:53, 38.77it/s]\u001b[A\n",
            " 26%|██▌       | 737/2808 [00:20<00:53, 38.64it/s]\u001b[A\n",
            " 26%|██▋       | 741/2808 [00:20<00:53, 38.56it/s]\u001b[A\n",
            " 27%|██▋       | 745/2808 [00:20<00:53, 38.65it/s]\u001b[A\n",
            " 27%|██▋       | 749/2808 [00:20<00:53, 38.81it/s]\u001b[A\n",
            " 27%|██▋       | 753/2808 [00:21<00:52, 38.87it/s]\u001b[A\n",
            " 27%|██▋       | 757/2808 [00:21<00:52, 38.88it/s]\u001b[A\n",
            " 27%|██▋       | 761/2808 [00:21<00:52, 38.86it/s]\u001b[A\n",
            " 27%|██▋       | 765/2808 [00:21<00:52, 38.71it/s]\u001b[A\n",
            " 27%|██▋       | 769/2808 [00:21<00:52, 38.48it/s]\u001b[A\n",
            " 28%|██▊       | 773/2808 [00:21<00:52, 38.52it/s]\u001b[A\n",
            " 28%|██▊       | 777/2808 [00:21<00:52, 38.33it/s]\u001b[A\n",
            " 28%|██▊       | 781/2808 [00:21<00:52, 38.53it/s]\u001b[A\n",
            " 28%|██▊       | 785/2808 [00:21<00:53, 38.16it/s]\u001b[A\n",
            " 28%|██▊       | 789/2808 [00:21<00:53, 38.03it/s]\u001b[A\n",
            " 28%|██▊       | 793/2808 [00:22<00:52, 38.28it/s]\u001b[A\n",
            " 28%|██▊       | 797/2808 [00:22<00:52, 38.29it/s]\u001b[A\n",
            " 29%|██▊       | 801/2808 [00:22<00:52, 38.01it/s]\u001b[A\n",
            " 29%|██▊       | 805/2808 [00:22<00:53, 37.73it/s]\u001b[A"
          ],
          "name": "stderr"
        },
        {
          "output_type": "stream",
          "text": [
            "| epoch   5 |   800/ 2808 batches | lr 0.00 | loss  5.07 | ppl   158.65\n"
          ],
          "name": "stdout"
        },
        {
          "output_type": "stream",
          "text": [
            "\n",
            " 29%|██▉       | 809/2808 [00:22<00:52, 38.07it/s]\u001b[A\n",
            " 29%|██▉       | 813/2808 [00:22<00:52, 38.12it/s]\u001b[A\n",
            " 29%|██▉       | 817/2808 [00:22<00:52, 38.20it/s]\u001b[A\n",
            " 29%|██▉       | 821/2808 [00:22<00:51, 38.38it/s]\u001b[A\n",
            " 29%|██▉       | 825/2808 [00:22<00:51, 38.34it/s]\u001b[A\n",
            " 30%|██▉       | 829/2808 [00:23<00:51, 38.35it/s]\u001b[A\n",
            " 30%|██▉       | 833/2808 [00:23<00:51, 38.07it/s]\u001b[A\n",
            " 30%|██▉       | 837/2808 [00:23<00:51, 38.20it/s]\u001b[A\n",
            " 30%|██▉       | 841/2808 [00:23<00:51, 38.32it/s]\u001b[A\n",
            " 30%|███       | 845/2808 [00:23<00:51, 38.28it/s]\u001b[A\n",
            " 30%|███       | 849/2808 [00:23<00:51, 37.77it/s]\u001b[A\n",
            " 30%|███       | 853/2808 [00:23<00:52, 37.52it/s]\u001b[A\n",
            " 31%|███       | 857/2808 [00:23<00:51, 37.73it/s]\u001b[A\n",
            " 31%|███       | 861/2808 [00:23<00:51, 37.84it/s]\u001b[A\n",
            " 31%|███       | 865/2808 [00:23<00:51, 37.88it/s]\u001b[A\n",
            " 31%|███       | 869/2808 [00:24<00:51, 37.61it/s]\u001b[A\n",
            " 31%|███       | 873/2808 [00:24<00:51, 37.83it/s]\u001b[A\n",
            " 31%|███       | 877/2808 [00:24<00:51, 37.76it/s]\u001b[A\n",
            " 31%|███▏      | 881/2808 [00:24<00:50, 37.89it/s]\u001b[A\n",
            " 32%|███▏      | 885/2808 [00:24<00:50, 38.11it/s]\u001b[A\n",
            " 32%|███▏      | 889/2808 [00:24<00:50, 37.91it/s]\u001b[A\n",
            " 32%|███▏      | 893/2808 [00:24<00:50, 38.12it/s]\u001b[A\n",
            " 32%|███▏      | 897/2808 [00:24<00:50, 38.15it/s]\u001b[A\n",
            " 32%|███▏      | 901/2808 [00:24<00:49, 38.21it/s]\u001b[A\n",
            " 32%|███▏      | 905/2808 [00:25<00:50, 37.87it/s]\u001b[A"
          ],
          "name": "stderr"
        },
        {
          "output_type": "stream",
          "text": [
            "| epoch   5 |   900/ 2808 batches | lr 0.00 | loss  5.07 | ppl   158.56\n"
          ],
          "name": "stdout"
        },
        {
          "output_type": "stream",
          "text": [
            "\n",
            " 32%|███▏      | 909/2808 [00:25<00:50, 37.75it/s]\u001b[A\n",
            " 33%|███▎      | 913/2808 [00:25<00:49, 37.96it/s]\u001b[A\n",
            " 33%|███▎      | 917/2808 [00:25<00:49, 38.04it/s]\u001b[A\n",
            " 33%|███▎      | 921/2808 [00:25<00:49, 37.95it/s]\u001b[A\n",
            " 33%|███▎      | 925/2808 [00:25<00:49, 38.15it/s]\u001b[A\n",
            " 33%|███▎      | 929/2808 [00:25<00:49, 38.26it/s]\u001b[A\n",
            " 33%|███▎      | 933/2808 [00:25<00:48, 38.29it/s]\u001b[A\n",
            " 33%|███▎      | 937/2808 [00:25<00:48, 38.31it/s]\u001b[A\n",
            " 34%|███▎      | 941/2808 [00:25<00:48, 38.41it/s]\u001b[A\n",
            " 34%|███▎      | 945/2808 [00:26<00:48, 38.17it/s]\u001b[A\n",
            " 34%|███▍      | 949/2808 [00:26<00:48, 37.99it/s]\u001b[A\n",
            " 34%|███▍      | 953/2808 [00:26<00:49, 37.75it/s]\u001b[A\n",
            " 34%|███▍      | 957/2808 [00:26<00:48, 38.10it/s]\u001b[A\n",
            " 34%|███▍      | 961/2808 [00:26<00:48, 37.93it/s]\u001b[A\n",
            " 34%|███▍      | 965/2808 [00:26<00:48, 38.02it/s]\u001b[A\n",
            " 35%|███▍      | 969/2808 [00:26<00:47, 38.37it/s]\u001b[A\n",
            " 35%|███▍      | 973/2808 [00:26<00:47, 38.47it/s]\u001b[A\n",
            " 35%|███▍      | 977/2808 [00:26<00:47, 38.51it/s]\u001b[A\n",
            " 35%|███▍      | 981/2808 [00:27<00:47, 38.65it/s]\u001b[A\n",
            " 35%|███▌      | 985/2808 [00:27<00:47, 38.47it/s]\u001b[A\n",
            " 35%|███▌      | 989/2808 [00:27<00:47, 38.53it/s]\u001b[A\n",
            " 35%|███▌      | 993/2808 [00:27<00:47, 38.32it/s]\u001b[A\n",
            " 36%|███▌      | 997/2808 [00:27<00:47, 38.52it/s]\u001b[A\n",
            " 36%|███▌      | 1001/2808 [00:27<00:47, 38.28it/s]\u001b[A\n",
            " 36%|███▌      | 1005/2808 [00:27<00:47, 38.32it/s]\u001b[A"
          ],
          "name": "stderr"
        },
        {
          "output_type": "stream",
          "text": [
            "| epoch   5 |  1000/ 2808 batches | lr 0.00 | loss  5.07 | ppl   158.61\n"
          ],
          "name": "stdout"
        },
        {
          "output_type": "stream",
          "text": [
            "\n",
            " 36%|███▌      | 1009/2808 [00:27<00:46, 38.29it/s]\u001b[A\n",
            " 36%|███▌      | 1013/2808 [00:27<00:46, 38.37it/s]\u001b[A\n",
            " 36%|███▌      | 1017/2808 [00:27<00:46, 38.56it/s]\u001b[A\n",
            " 36%|███▋      | 1021/2808 [00:28<00:46, 38.26it/s]\u001b[A\n",
            " 37%|███▋      | 1025/2808 [00:28<00:46, 38.14it/s]\u001b[A\n",
            " 37%|███▋      | 1029/2808 [00:28<00:46, 38.00it/s]\u001b[A\n",
            " 37%|███▋      | 1033/2808 [00:28<00:46, 37.87it/s]\u001b[A\n",
            " 37%|███▋      | 1037/2808 [00:28<00:46, 38.15it/s]\u001b[A\n",
            " 37%|███▋      | 1041/2808 [00:28<00:46, 38.36it/s]\u001b[A\n",
            " 37%|███▋      | 1045/2808 [00:28<00:45, 38.57it/s]\u001b[A\n",
            " 37%|███▋      | 1049/2808 [00:28<00:45, 38.72it/s]\u001b[A\n",
            " 38%|███▊      | 1053/2808 [00:28<00:45, 38.74it/s]\u001b[A\n",
            " 38%|███▊      | 1057/2808 [00:29<00:45, 38.69it/s]\u001b[A\n",
            " 38%|███▊      | 1061/2808 [00:29<00:45, 38.69it/s]\u001b[A\n",
            " 38%|███▊      | 1065/2808 [00:29<00:44, 38.78it/s]\u001b[A\n",
            " 38%|███▊      | 1069/2808 [00:29<00:44, 38.74it/s]\u001b[A\n",
            " 38%|███▊      | 1073/2808 [00:29<00:44, 38.70it/s]\u001b[A\n",
            " 38%|███▊      | 1077/2808 [00:29<00:45, 38.14it/s]\u001b[A\n",
            " 38%|███▊      | 1081/2808 [00:29<00:45, 37.95it/s]\u001b[A\n",
            " 39%|███▊      | 1085/2808 [00:29<00:45, 38.15it/s]\u001b[A\n",
            " 39%|███▉      | 1089/2808 [00:29<00:45, 37.87it/s]\u001b[A\n",
            " 39%|███▉      | 1093/2808 [00:29<00:45, 38.08it/s]\u001b[A\n",
            " 39%|███▉      | 1097/2808 [00:30<00:44, 38.26it/s]\u001b[A\n",
            " 39%|███▉      | 1101/2808 [00:30<00:45, 37.76it/s]\u001b[A\n",
            " 39%|███▉      | 1105/2808 [00:30<00:45, 37.74it/s]\u001b[A"
          ],
          "name": "stderr"
        },
        {
          "output_type": "stream",
          "text": [
            "| epoch   5 |  1100/ 2808 batches | lr 0.00 | loss  5.07 | ppl   158.38\n"
          ],
          "name": "stdout"
        },
        {
          "output_type": "stream",
          "text": [
            "\n",
            " 39%|███▉      | 1109/2808 [00:30<00:45, 37.38it/s]\u001b[A\n",
            " 40%|███▉      | 1113/2808 [00:30<00:45, 37.57it/s]\u001b[A\n",
            " 40%|███▉      | 1117/2808 [00:30<00:45, 37.44it/s]\u001b[A\n",
            " 40%|███▉      | 1121/2808 [00:30<00:44, 37.69it/s]\u001b[A\n",
            " 40%|████      | 1125/2808 [00:30<00:44, 37.98it/s]\u001b[A\n",
            " 40%|████      | 1129/2808 [00:30<00:43, 38.18it/s]\u001b[A\n",
            " 40%|████      | 1133/2808 [00:31<00:43, 38.07it/s]\u001b[A\n",
            " 40%|████      | 1137/2808 [00:31<00:43, 38.28it/s]\u001b[A\n",
            " 41%|████      | 1141/2808 [00:31<00:43, 38.21it/s]\u001b[A\n",
            " 41%|████      | 1145/2808 [00:31<00:43, 38.23it/s]\u001b[A\n",
            " 41%|████      | 1149/2808 [00:31<00:43, 38.41it/s]\u001b[A\n",
            " 41%|████      | 1153/2808 [00:31<00:42, 38.58it/s]\u001b[A\n",
            " 41%|████      | 1157/2808 [00:31<00:42, 38.70it/s]\u001b[A\n",
            " 41%|████▏     | 1161/2808 [00:31<00:42, 38.62it/s]\u001b[A\n",
            " 41%|████▏     | 1165/2808 [00:31<00:42, 38.60it/s]\u001b[A\n",
            " 42%|████▏     | 1169/2808 [00:31<00:42, 38.58it/s]\u001b[A\n",
            " 42%|████▏     | 1173/2808 [00:32<00:42, 38.63it/s]\u001b[A\n",
            " 42%|████▏     | 1177/2808 [00:32<00:42, 38.63it/s]\u001b[A\n",
            " 42%|████▏     | 1181/2808 [00:32<00:42, 38.62it/s]\u001b[A\n",
            " 42%|████▏     | 1185/2808 [00:32<00:42, 38.15it/s]\u001b[A\n",
            " 42%|████▏     | 1189/2808 [00:32<00:42, 38.06it/s]\u001b[A\n",
            " 42%|████▏     | 1193/2808 [00:32<00:42, 38.29it/s]\u001b[A\n",
            " 43%|████▎     | 1197/2808 [00:32<00:42, 38.12it/s]\u001b[A\n",
            " 43%|████▎     | 1201/2808 [00:32<00:41, 38.35it/s]\u001b[A\n",
            " 43%|████▎     | 1205/2808 [00:32<00:42, 38.12it/s]\u001b[A"
          ],
          "name": "stderr"
        },
        {
          "output_type": "stream",
          "text": [
            "| epoch   5 |  1200/ 2808 batches | lr 0.00 | loss  5.07 | ppl   158.48\n"
          ],
          "name": "stdout"
        },
        {
          "output_type": "stream",
          "text": [
            "\n",
            " 43%|████▎     | 1209/2808 [00:32<00:42, 37.83it/s]\u001b[A\n",
            " 43%|████▎     | 1213/2808 [00:33<00:42, 37.79it/s]\u001b[A\n",
            " 43%|████▎     | 1217/2808 [00:33<00:41, 38.09it/s]\u001b[A\n",
            " 43%|████▎     | 1221/2808 [00:33<00:41, 38.15it/s]\u001b[A\n",
            " 44%|████▎     | 1225/2808 [00:33<00:41, 38.19it/s]\u001b[A\n",
            " 44%|████▍     | 1229/2808 [00:33<00:41, 38.37it/s]\u001b[A\n",
            " 44%|████▍     | 1233/2808 [00:33<00:40, 38.48it/s]\u001b[A\n",
            " 44%|████▍     | 1237/2808 [00:33<00:40, 38.51it/s]\u001b[A\n",
            " 44%|████▍     | 1241/2808 [00:33<00:40, 38.29it/s]\u001b[A\n",
            " 44%|████▍     | 1245/2808 [00:33<00:40, 38.25it/s]\u001b[A\n",
            " 44%|████▍     | 1249/2808 [00:34<00:40, 38.49it/s]\u001b[A\n",
            " 45%|████▍     | 1253/2808 [00:34<00:40, 38.54it/s]\u001b[A\n",
            " 45%|████▍     | 1257/2808 [00:34<00:40, 38.55it/s]\u001b[A\n",
            " 45%|████▍     | 1261/2808 [00:34<00:40, 38.53it/s]\u001b[A\n",
            " 45%|████▌     | 1265/2808 [00:34<00:40, 38.49it/s]\u001b[A\n",
            " 45%|████▌     | 1269/2808 [00:34<00:39, 38.57it/s]\u001b[A\n",
            " 45%|████▌     | 1273/2808 [00:34<00:39, 38.47it/s]\u001b[A\n",
            " 45%|████▌     | 1277/2808 [00:34<00:40, 38.10it/s]\u001b[A\n",
            " 46%|████▌     | 1281/2808 [00:34<00:39, 38.19it/s]\u001b[A\n",
            " 46%|████▌     | 1285/2808 [00:34<00:39, 38.33it/s]\u001b[A\n",
            " 46%|████▌     | 1289/2808 [00:35<00:39, 38.47it/s]\u001b[A\n",
            " 46%|████▌     | 1293/2808 [00:35<00:39, 38.53it/s]\u001b[A\n",
            " 46%|████▌     | 1297/2808 [00:35<00:39, 38.54it/s]\u001b[A\n",
            " 46%|████▋     | 1301/2808 [00:35<00:39, 38.49it/s]\u001b[A\n",
            " 46%|████▋     | 1305/2808 [00:35<00:39, 38.12it/s]\u001b[A"
          ],
          "name": "stderr"
        },
        {
          "output_type": "stream",
          "text": [
            "| epoch   5 |  1300/ 2808 batches | lr 0.00 | loss  5.07 | ppl   158.57\n"
          ],
          "name": "stdout"
        },
        {
          "output_type": "stream",
          "text": [
            "\n",
            " 47%|████▋     | 1309/2808 [00:35<00:39, 38.25it/s]\u001b[A\n",
            " 47%|████▋     | 1313/2808 [00:35<00:39, 38.07it/s]\u001b[A\n",
            " 47%|████▋     | 1317/2808 [00:35<00:39, 37.83it/s]\u001b[A\n",
            " 47%|████▋     | 1321/2808 [00:35<00:39, 37.92it/s]\u001b[A\n",
            " 47%|████▋     | 1325/2808 [00:36<00:38, 38.05it/s]\u001b[A\n",
            " 47%|████▋     | 1329/2808 [00:36<00:38, 38.05it/s]\u001b[A\n",
            " 47%|████▋     | 1333/2808 [00:36<00:38, 38.08it/s]\u001b[A\n",
            " 48%|████▊     | 1337/2808 [00:36<00:38, 38.05it/s]\u001b[A\n",
            " 48%|████▊     | 1341/2808 [00:36<00:38, 38.26it/s]\u001b[A\n",
            " 48%|████▊     | 1345/2808 [00:36<00:38, 38.40it/s]\u001b[A\n",
            " 48%|████▊     | 1349/2808 [00:36<00:38, 38.21it/s]\u001b[A\n",
            " 48%|████▊     | 1353/2808 [00:36<00:38, 38.26it/s]\u001b[A\n",
            " 48%|████▊     | 1357/2808 [00:36<00:37, 38.30it/s]\u001b[A\n",
            " 48%|████▊     | 1361/2808 [00:36<00:38, 38.03it/s]\u001b[A\n",
            " 49%|████▊     | 1365/2808 [00:37<00:38, 37.89it/s]\u001b[A\n",
            " 49%|████▉     | 1369/2808 [00:37<00:37, 38.00it/s]\u001b[A\n",
            " 49%|████▉     | 1373/2808 [00:37<00:37, 37.91it/s]\u001b[A\n",
            " 49%|████▉     | 1377/2808 [00:37<00:37, 37.93it/s]\u001b[A\n",
            " 49%|████▉     | 1381/2808 [00:37<00:37, 37.90it/s]\u001b[A\n",
            " 49%|████▉     | 1385/2808 [00:37<00:37, 38.17it/s]\u001b[A\n",
            " 49%|████▉     | 1389/2808 [00:37<00:37, 38.02it/s]\u001b[A\n",
            " 50%|████▉     | 1393/2808 [00:37<00:37, 38.05it/s]\u001b[A\n",
            " 50%|████▉     | 1397/2808 [00:37<00:37, 37.78it/s]\u001b[A\n",
            " 50%|████▉     | 1401/2808 [00:38<00:37, 38.01it/s]\u001b[A\n",
            " 50%|█████     | 1405/2808 [00:38<00:37, 37.80it/s]\u001b[A"
          ],
          "name": "stderr"
        },
        {
          "output_type": "stream",
          "text": [
            "| epoch   5 |  1400/ 2808 batches | lr 0.00 | loss  5.07 | ppl   158.64\n"
          ],
          "name": "stdout"
        },
        {
          "output_type": "stream",
          "text": [
            "\n",
            " 50%|█████     | 1409/2808 [00:38<00:36, 37.99it/s]\u001b[A\n",
            " 50%|█████     | 1413/2808 [00:38<00:36, 37.91it/s]\u001b[A\n",
            " 50%|█████     | 1417/2808 [00:38<00:36, 38.10it/s]\u001b[A\n",
            " 51%|█████     | 1421/2808 [00:38<00:36, 38.20it/s]\u001b[A\n",
            " 51%|█████     | 1425/2808 [00:38<00:36, 38.19it/s]\u001b[A\n",
            " 51%|█████     | 1429/2808 [00:38<00:36, 38.27it/s]\u001b[A\n",
            " 51%|█████     | 1433/2808 [00:38<00:35, 38.26it/s]\u001b[A\n",
            " 51%|█████     | 1437/2808 [00:38<00:36, 38.04it/s]\u001b[A\n",
            " 51%|█████▏    | 1441/2808 [00:39<00:35, 38.15it/s]\u001b[A\n",
            " 51%|█████▏    | 1445/2808 [00:39<00:36, 37.79it/s]\u001b[A\n",
            " 52%|█████▏    | 1449/2808 [00:39<00:35, 38.05it/s]\u001b[A\n",
            " 52%|█████▏    | 1453/2808 [00:39<00:35, 38.15it/s]\u001b[A\n",
            " 52%|█████▏    | 1457/2808 [00:39<00:35, 38.13it/s]\u001b[A\n",
            " 52%|█████▏    | 1461/2808 [00:39<00:35, 38.26it/s]\u001b[A\n",
            " 52%|█████▏    | 1465/2808 [00:39<00:35, 38.02it/s]\u001b[A\n",
            " 52%|█████▏    | 1469/2808 [00:39<00:35, 38.23it/s]\u001b[A\n",
            " 52%|█████▏    | 1473/2808 [00:39<00:34, 38.51it/s]\u001b[A\n",
            " 53%|█████▎    | 1477/2808 [00:39<00:34, 38.74it/s]\u001b[A\n",
            " 53%|█████▎    | 1481/2808 [00:40<00:34, 38.65it/s]\u001b[A\n",
            " 53%|█████▎    | 1485/2808 [00:40<00:34, 38.18it/s]\u001b[A\n",
            " 53%|█████▎    | 1489/2808 [00:40<00:34, 38.06it/s]\u001b[A\n",
            " 53%|█████▎    | 1493/2808 [00:40<00:34, 38.35it/s]\u001b[A\n",
            " 53%|█████▎    | 1497/2808 [00:40<00:34, 38.15it/s]\u001b[A\n",
            " 53%|█████▎    | 1501/2808 [00:40<00:34, 37.88it/s]\u001b[A\n",
            " 54%|█████▎    | 1505/2808 [00:40<00:34, 37.79it/s]\u001b[A"
          ],
          "name": "stderr"
        },
        {
          "output_type": "stream",
          "text": [
            "| epoch   5 |  1500/ 2808 batches | lr 0.00 | loss  5.07 | ppl   158.40\n"
          ],
          "name": "stdout"
        },
        {
          "output_type": "stream",
          "text": [
            "\n",
            " 54%|█████▎    | 1509/2808 [00:40<00:34, 37.89it/s]\u001b[A\n",
            " 54%|█████▍    | 1513/2808 [00:40<00:33, 38.15it/s]\u001b[A\n",
            " 54%|█████▍    | 1517/2808 [00:41<00:34, 37.81it/s]\u001b[A\n",
            " 54%|█████▍    | 1521/2808 [00:41<00:34, 37.25it/s]\u001b[A\n",
            " 54%|█████▍    | 1525/2808 [00:41<00:34, 37.64it/s]\u001b[A\n",
            " 54%|█████▍    | 1529/2808 [00:41<00:33, 37.88it/s]\u001b[A\n",
            " 55%|█████▍    | 1533/2808 [00:41<00:33, 37.74it/s]\u001b[A\n",
            " 55%|█████▍    | 1537/2808 [00:41<00:33, 37.73it/s]\u001b[A\n",
            " 55%|█████▍    | 1541/2808 [00:41<00:33, 38.01it/s]\u001b[A\n",
            " 55%|█████▌    | 1545/2808 [00:41<00:33, 38.01it/s]\u001b[A\n",
            " 55%|█████▌    | 1549/2808 [00:41<00:32, 38.24it/s]\u001b[A\n",
            " 55%|█████▌    | 1553/2808 [00:42<00:32, 38.04it/s]\u001b[A\n",
            " 55%|█████▌    | 1557/2808 [00:42<00:32, 38.14it/s]\u001b[A\n",
            " 56%|█████▌    | 1561/2808 [00:42<00:32, 38.39it/s]\u001b[A\n",
            " 56%|█████▌    | 1565/2808 [00:42<00:32, 38.50it/s]\u001b[A\n",
            " 56%|█████▌    | 1569/2808 [00:42<00:32, 38.52it/s]\u001b[A\n",
            " 56%|█████▌    | 1573/2808 [00:42<00:32, 38.50it/s]\u001b[A\n",
            " 56%|█████▌    | 1577/2808 [00:42<00:31, 38.50it/s]\u001b[A\n",
            " 56%|█████▋    | 1581/2808 [00:42<00:31, 38.54it/s]\u001b[A\n",
            " 56%|█████▋    | 1585/2808 [00:42<00:32, 38.18it/s]\u001b[A\n",
            " 57%|█████▋    | 1589/2808 [00:42<00:32, 37.90it/s]\u001b[A\n",
            " 57%|█████▋    | 1593/2808 [00:43<00:32, 37.80it/s]\u001b[A\n",
            " 57%|█████▋    | 1597/2808 [00:43<00:32, 37.83it/s]\u001b[A\n",
            " 57%|█████▋    | 1601/2808 [00:43<00:31, 37.86it/s]\u001b[A\n",
            " 57%|█████▋    | 1605/2808 [00:43<00:32, 37.59it/s]\u001b[A"
          ],
          "name": "stderr"
        },
        {
          "output_type": "stream",
          "text": [
            "| epoch   5 |  1600/ 2808 batches | lr 0.00 | loss  5.07 | ppl   158.69\n"
          ],
          "name": "stdout"
        },
        {
          "output_type": "stream",
          "text": [
            "\n",
            " 57%|█████▋    | 1609/2808 [00:43<00:31, 37.70it/s]\u001b[A\n",
            " 57%|█████▋    | 1613/2808 [00:43<00:31, 37.76it/s]\u001b[A\n",
            " 58%|█████▊    | 1617/2808 [00:43<00:31, 37.98it/s]\u001b[A\n",
            " 58%|█████▊    | 1621/2808 [00:43<00:31, 38.03it/s]\u001b[A\n",
            " 58%|█████▊    | 1625/2808 [00:43<00:31, 37.77it/s]\u001b[A\n",
            " 58%|█████▊    | 1629/2808 [00:44<00:31, 38.01it/s]\u001b[A\n",
            " 58%|█████▊    | 1633/2808 [00:44<00:30, 38.18it/s]\u001b[A\n",
            " 58%|█████▊    | 1637/2808 [00:44<00:30, 38.18it/s]\u001b[A\n",
            " 58%|█████▊    | 1641/2808 [00:44<00:30, 38.31it/s]\u001b[A\n",
            " 59%|█████▊    | 1645/2808 [00:44<00:30, 38.32it/s]\u001b[A\n",
            " 59%|█████▊    | 1649/2808 [00:44<00:30, 38.46it/s]\u001b[A\n",
            " 59%|█████▉    | 1653/2808 [00:44<00:29, 38.51it/s]\u001b[A\n",
            " 59%|█████▉    | 1657/2808 [00:44<00:30, 38.21it/s]\u001b[A\n",
            " 59%|█████▉    | 1661/2808 [00:44<00:29, 38.37it/s]\u001b[A\n",
            " 59%|█████▉    | 1665/2808 [00:44<00:30, 37.99it/s]\u001b[A\n",
            " 59%|█████▉    | 1669/2808 [00:45<00:30, 37.53it/s]\u001b[A\n",
            " 60%|█████▉    | 1673/2808 [00:45<00:29, 37.95it/s]\u001b[A\n",
            " 60%|█████▉    | 1677/2808 [00:45<00:29, 38.03it/s]\u001b[A\n",
            " 60%|█████▉    | 1681/2808 [00:45<00:29, 38.19it/s]\u001b[A\n",
            " 60%|██████    | 1685/2808 [00:45<00:29, 38.15it/s]\u001b[A\n",
            " 60%|██████    | 1689/2808 [00:45<00:29, 38.33it/s]\u001b[A\n",
            " 60%|██████    | 1693/2808 [00:45<00:29, 38.45it/s]\u001b[A\n",
            " 60%|██████    | 1697/2808 [00:45<00:28, 38.45it/s]\u001b[A\n",
            " 61%|██████    | 1701/2808 [00:45<00:28, 38.22it/s]\u001b[A\n",
            " 61%|██████    | 1705/2808 [00:45<00:28, 38.12it/s]\u001b[A"
          ],
          "name": "stderr"
        },
        {
          "output_type": "stream",
          "text": [
            "| epoch   5 |  1700/ 2808 batches | lr 0.00 | loss  5.07 | ppl   158.63\n"
          ],
          "name": "stdout"
        },
        {
          "output_type": "stream",
          "text": [
            "\n",
            " 61%|██████    | 1709/2808 [00:46<00:28, 38.31it/s]\u001b[A\n",
            " 61%|██████    | 1713/2808 [00:46<00:29, 37.25it/s]\u001b[A\n",
            " 61%|██████    | 1717/2808 [00:46<00:29, 37.50it/s]\u001b[A\n",
            " 61%|██████▏   | 1721/2808 [00:46<00:29, 37.15it/s]\u001b[A\n",
            " 61%|██████▏   | 1725/2808 [00:46<00:28, 37.61it/s]\u001b[A\n",
            " 62%|██████▏   | 1729/2808 [00:46<00:28, 37.85it/s]\u001b[A\n",
            " 62%|██████▏   | 1733/2808 [00:46<00:28, 38.00it/s]\u001b[A\n",
            " 62%|██████▏   | 1737/2808 [00:46<00:28, 38.21it/s]\u001b[A\n",
            " 62%|██████▏   | 1741/2808 [00:46<00:27, 38.28it/s]\u001b[A\n",
            " 62%|██████▏   | 1745/2808 [00:47<00:27, 38.10it/s]\u001b[A\n",
            " 62%|██████▏   | 1749/2808 [00:47<00:27, 38.09it/s]\u001b[A\n",
            " 62%|██████▏   | 1753/2808 [00:47<00:27, 37.72it/s]\u001b[A\n",
            " 63%|██████▎   | 1757/2808 [00:47<00:27, 37.80it/s]\u001b[A\n",
            " 63%|██████▎   | 1761/2808 [00:47<00:27, 37.79it/s]\u001b[A\n",
            " 63%|██████▎   | 1765/2808 [00:47<00:27, 38.00it/s]\u001b[A\n",
            " 63%|██████▎   | 1769/2808 [00:47<00:27, 37.71it/s]\u001b[A\n",
            " 63%|██████▎   | 1773/2808 [00:47<00:27, 37.88it/s]\u001b[A\n",
            " 63%|██████▎   | 1777/2808 [00:47<00:27, 37.64it/s]\u001b[A\n",
            " 63%|██████▎   | 1781/2808 [00:48<00:27, 37.91it/s]\u001b[A\n",
            " 64%|██████▎   | 1785/2808 [00:48<00:27, 37.56it/s]\u001b[A\n",
            " 64%|██████▎   | 1789/2808 [00:48<00:26, 37.95it/s]\u001b[A\n",
            " 64%|██████▍   | 1793/2808 [00:48<00:26, 38.00it/s]\u001b[A\n",
            " 64%|██████▍   | 1797/2808 [00:48<00:26, 37.55it/s]\u001b[A\n",
            " 64%|██████▍   | 1801/2808 [00:48<00:26, 37.99it/s]\u001b[A\n",
            " 64%|██████▍   | 1805/2808 [00:48<00:26, 37.86it/s]\u001b[A"
          ],
          "name": "stderr"
        },
        {
          "output_type": "stream",
          "text": [
            "| epoch   5 |  1800/ 2808 batches | lr 0.00 | loss  5.06 | ppl   158.21\n"
          ],
          "name": "stdout"
        },
        {
          "output_type": "stream",
          "text": [
            "\n",
            " 64%|██████▍   | 1809/2808 [00:48<00:26, 38.11it/s]\u001b[A\n",
            " 65%|██████▍   | 1813/2808 [00:48<00:26, 37.99it/s]\u001b[A\n",
            " 65%|██████▍   | 1817/2808 [00:48<00:25, 38.26it/s]\u001b[A\n",
            " 65%|██████▍   | 1821/2808 [00:49<00:26, 37.96it/s]\u001b[A\n",
            " 65%|██████▍   | 1825/2808 [00:49<00:25, 38.15it/s]\u001b[A\n",
            " 65%|██████▌   | 1829/2808 [00:49<00:25, 38.24it/s]\u001b[A\n",
            " 65%|██████▌   | 1833/2808 [00:49<00:25, 37.76it/s]\u001b[A\n",
            " 65%|██████▌   | 1837/2808 [00:49<00:25, 37.90it/s]\u001b[A\n",
            " 66%|██████▌   | 1841/2808 [00:49<00:25, 38.22it/s]\u001b[A\n",
            " 66%|██████▌   | 1845/2808 [00:49<00:25, 38.06it/s]\u001b[A\n",
            " 66%|██████▌   | 1849/2808 [00:49<00:25, 37.92it/s]\u001b[A\n",
            " 66%|██████▌   | 1853/2808 [00:49<00:25, 37.98it/s]\u001b[A\n",
            " 66%|██████▌   | 1857/2808 [00:50<00:25, 37.89it/s]\u001b[A\n",
            " 66%|██████▋   | 1861/2808 [00:50<00:24, 38.04it/s]\u001b[A\n",
            " 66%|██████▋   | 1865/2808 [00:50<00:24, 38.13it/s]\u001b[A\n",
            " 67%|██████▋   | 1869/2808 [00:50<00:24, 37.84it/s]\u001b[A\n",
            " 67%|██████▋   | 1873/2808 [00:50<00:24, 37.66it/s]\u001b[A\n",
            " 67%|██████▋   | 1877/2808 [00:50<00:24, 37.87it/s]\u001b[A\n",
            " 67%|██████▋   | 1881/2808 [00:50<00:24, 37.86it/s]\u001b[A\n",
            " 67%|██████▋   | 1885/2808 [00:50<00:24, 38.12it/s]\u001b[A\n",
            " 67%|██████▋   | 1889/2808 [00:50<00:24, 37.93it/s]\u001b[A\n",
            " 67%|██████▋   | 1893/2808 [00:50<00:24, 38.06it/s]\u001b[A\n",
            " 68%|██████▊   | 1897/2808 [00:51<00:24, 37.71it/s]\u001b[A\n",
            " 68%|██████▊   | 1901/2808 [00:51<00:23, 37.96it/s]\u001b[A\n",
            " 68%|██████▊   | 1905/2808 [00:51<00:23, 37.95it/s]\u001b[A"
          ],
          "name": "stderr"
        },
        {
          "output_type": "stream",
          "text": [
            "| epoch   5 |  1900/ 2808 batches | lr 0.00 | loss  5.07 | ppl   158.47\n"
          ],
          "name": "stdout"
        },
        {
          "output_type": "stream",
          "text": [
            "\n",
            " 68%|██████▊   | 1909/2808 [00:51<00:23, 38.11it/s]\u001b[A\n",
            " 68%|██████▊   | 1913/2808 [00:51<00:23, 38.09it/s]\u001b[A\n",
            " 68%|██████▊   | 1917/2808 [00:51<00:23, 37.97it/s]\u001b[A\n",
            " 68%|██████▊   | 1921/2808 [00:51<00:23, 37.91it/s]\u001b[A\n",
            " 69%|██████▊   | 1925/2808 [00:51<00:23, 37.97it/s]\u001b[A\n",
            " 69%|██████▊   | 1929/2808 [00:51<00:23, 38.11it/s]\u001b[A\n",
            " 69%|██████▉   | 1933/2808 [00:52<00:22, 38.26it/s]\u001b[A\n",
            " 69%|██████▉   | 1937/2808 [00:52<00:22, 38.25it/s]\u001b[A\n",
            " 69%|██████▉   | 1941/2808 [00:52<00:22, 38.24it/s]\u001b[A\n",
            " 69%|██████▉   | 1945/2808 [00:52<00:22, 38.35it/s]\u001b[A\n",
            " 69%|██████▉   | 1949/2808 [00:52<00:22, 37.88it/s]\u001b[A\n",
            " 70%|██████▉   | 1953/2808 [00:52<00:22, 37.97it/s]\u001b[A\n",
            " 70%|██████▉   | 1957/2808 [00:52<00:22, 37.75it/s]\u001b[A\n",
            " 70%|██████▉   | 1961/2808 [00:52<00:22, 38.00it/s]\u001b[A\n",
            " 70%|██████▉   | 1965/2808 [00:52<00:22, 37.66it/s]\u001b[A\n",
            " 70%|███████   | 1969/2808 [00:52<00:22, 37.62it/s]\u001b[A\n",
            " 70%|███████   | 1973/2808 [00:53<00:22, 37.36it/s]\u001b[A\n",
            " 70%|███████   | 1977/2808 [00:53<00:22, 37.51it/s]\u001b[A\n",
            " 71%|███████   | 1981/2808 [00:53<00:21, 37.78it/s]\u001b[A\n",
            " 71%|███████   | 1985/2808 [00:53<00:21, 37.98it/s]\u001b[A\n",
            " 71%|███████   | 1989/2808 [00:53<00:21, 38.14it/s]\u001b[A\n",
            " 71%|███████   | 1993/2808 [00:53<00:21, 37.82it/s]\u001b[A\n",
            " 71%|███████   | 1997/2808 [00:53<00:21, 37.48it/s]\u001b[A\n",
            " 71%|███████▏  | 2001/2808 [00:53<00:21, 37.70it/s]\u001b[A\n",
            " 71%|███████▏  | 2005/2808 [00:53<00:21, 37.72it/s]\u001b[A"
          ],
          "name": "stderr"
        },
        {
          "output_type": "stream",
          "text": [
            "| epoch   5 |  2000/ 2808 batches | lr 0.00 | loss  5.07 | ppl   158.43\n"
          ],
          "name": "stdout"
        },
        {
          "output_type": "stream",
          "text": [
            "\n",
            " 72%|███████▏  | 2009/2808 [00:54<00:21, 37.90it/s]\u001b[A\n",
            " 72%|███████▏  | 2013/2808 [00:54<00:21, 37.78it/s]\u001b[A\n",
            " 72%|███████▏  | 2017/2808 [00:54<00:20, 38.03it/s]\u001b[A\n",
            " 72%|███████▏  | 2021/2808 [00:54<00:20, 38.13it/s]\u001b[A\n",
            " 72%|███████▏  | 2025/2808 [00:54<00:20, 37.73it/s]\u001b[A\n",
            " 72%|███████▏  | 2029/2808 [00:54<00:20, 37.98it/s]\u001b[A\n",
            " 72%|███████▏  | 2033/2808 [00:54<00:20, 38.09it/s]\u001b[A\n",
            " 73%|███████▎  | 2037/2808 [00:54<00:20, 37.71it/s]\u001b[A\n",
            " 73%|███████▎  | 2041/2808 [00:54<00:20, 37.58it/s]\u001b[A\n",
            " 73%|███████▎  | 2045/2808 [00:54<00:20, 37.82it/s]\u001b[A\n",
            " 73%|███████▎  | 2049/2808 [00:55<00:20, 37.91it/s]\u001b[A\n",
            " 73%|███████▎  | 2053/2808 [00:55<00:19, 38.06it/s]\u001b[A\n",
            " 73%|███████▎  | 2057/2808 [00:55<00:19, 38.15it/s]\u001b[A\n",
            " 73%|███████▎  | 2061/2808 [00:55<00:19, 37.79it/s]\u001b[A\n",
            " 74%|███████▎  | 2065/2808 [00:55<00:19, 37.69it/s]\u001b[A\n",
            " 74%|███████▎  | 2069/2808 [00:55<00:19, 37.66it/s]\u001b[A\n",
            " 74%|███████▍  | 2073/2808 [00:55<00:19, 37.88it/s]\u001b[A\n",
            " 74%|███████▍  | 2077/2808 [00:55<00:19, 38.03it/s]\u001b[A\n",
            " 74%|███████▍  | 2081/2808 [00:55<00:19, 37.91it/s]\u001b[A\n",
            " 74%|███████▍  | 2085/2808 [00:56<00:19, 38.03it/s]\u001b[A\n",
            " 74%|███████▍  | 2089/2808 [00:56<00:18, 38.16it/s]\u001b[A\n",
            " 75%|███████▍  | 2093/2808 [00:56<00:18, 37.94it/s]\u001b[A\n",
            " 75%|███████▍  | 2097/2808 [00:56<00:18, 37.95it/s]\u001b[A\n",
            " 75%|███████▍  | 2101/2808 [00:56<00:18, 37.88it/s]\u001b[A\n",
            " 75%|███████▍  | 2105/2808 [00:56<00:18, 37.56it/s]\u001b[A"
          ],
          "name": "stderr"
        },
        {
          "output_type": "stream",
          "text": [
            "| epoch   5 |  2100/ 2808 batches | lr 0.00 | loss  5.07 | ppl   158.44\n"
          ],
          "name": "stdout"
        },
        {
          "output_type": "stream",
          "text": [
            "\n",
            " 75%|███████▌  | 2109/2808 [00:56<00:18, 37.64it/s]\u001b[A\n",
            " 75%|███████▌  | 2113/2808 [00:56<00:18, 37.97it/s]\u001b[A\n",
            " 75%|███████▌  | 2117/2808 [00:56<00:18, 38.24it/s]\u001b[A\n",
            " 76%|███████▌  | 2121/2808 [00:56<00:17, 38.19it/s]\u001b[A\n",
            " 76%|███████▌  | 2125/2808 [00:57<00:17, 38.16it/s]\u001b[A\n",
            " 76%|███████▌  | 2129/2808 [00:57<00:17, 38.41it/s]\u001b[A\n",
            " 76%|███████▌  | 2133/2808 [00:57<00:17, 38.51it/s]\u001b[A\n",
            " 76%|███████▌  | 2137/2808 [00:57<00:17, 38.51it/s]\u001b[A\n",
            " 76%|███████▌  | 2141/2808 [00:57<00:17, 38.17it/s]\u001b[A\n",
            " 76%|███████▋  | 2145/2808 [00:57<00:17, 38.16it/s]\u001b[A\n",
            " 77%|███████▋  | 2149/2808 [00:57<00:17, 38.50it/s]\u001b[A\n",
            " 77%|███████▋  | 2153/2808 [00:57<00:17, 38.49it/s]\u001b[A\n",
            " 77%|███████▋  | 2157/2808 [00:57<00:16, 38.58it/s]\u001b[A\n",
            " 77%|███████▋  | 2161/2808 [00:58<00:16, 38.56it/s]\u001b[A\n",
            " 77%|███████▋  | 2165/2808 [00:58<00:16, 38.50it/s]\u001b[A\n",
            " 77%|███████▋  | 2169/2808 [00:58<00:16, 38.49it/s]\u001b[A\n",
            " 77%|███████▋  | 2173/2808 [00:58<00:16, 38.47it/s]\u001b[A\n",
            " 78%|███████▊  | 2177/2808 [00:58<00:16, 38.54it/s]\u001b[A\n",
            " 78%|███████▊  | 2181/2808 [00:58<00:16, 37.54it/s]\u001b[A\n",
            " 78%|███████▊  | 2185/2808 [00:58<00:16, 37.72it/s]\u001b[A\n",
            " 78%|███████▊  | 2189/2808 [00:58<00:16, 37.69it/s]\u001b[A\n",
            " 78%|███████▊  | 2193/2808 [00:58<00:16, 37.83it/s]\u001b[A\n",
            " 78%|███████▊  | 2197/2808 [00:58<00:16, 38.13it/s]\u001b[A\n",
            " 78%|███████▊  | 2201/2808 [00:59<00:15, 38.30it/s]\u001b[A\n",
            " 79%|███████▊  | 2205/2808 [00:59<00:15, 38.04it/s]\u001b[A"
          ],
          "name": "stderr"
        },
        {
          "output_type": "stream",
          "text": [
            "| epoch   5 |  2200/ 2808 batches | lr 0.00 | loss  5.06 | ppl   158.29\n"
          ],
          "name": "stdout"
        },
        {
          "output_type": "stream",
          "text": [
            "\n",
            " 79%|███████▊  | 2209/2808 [00:59<00:15, 38.11it/s]\u001b[A\n",
            " 79%|███████▉  | 2213/2808 [00:59<00:15, 38.25it/s]\u001b[A\n",
            " 79%|███████▉  | 2217/2808 [00:59<00:15, 37.87it/s]\u001b[A\n",
            " 79%|███████▉  | 2221/2808 [00:59<00:15, 37.47it/s]\u001b[A\n",
            " 79%|███████▉  | 2225/2808 [00:59<00:15, 37.68it/s]\u001b[A\n",
            " 79%|███████▉  | 2229/2808 [00:59<00:15, 37.83it/s]\u001b[A\n",
            " 80%|███████▉  | 2233/2808 [00:59<00:15, 38.14it/s]\u001b[A\n",
            " 80%|███████▉  | 2237/2808 [01:00<00:14, 38.26it/s]\u001b[A\n",
            " 80%|███████▉  | 2241/2808 [01:00<00:14, 38.33it/s]\u001b[A\n",
            " 80%|███████▉  | 2245/2808 [01:00<00:14, 38.39it/s]\u001b[A\n",
            " 80%|████████  | 2249/2808 [01:00<00:14, 38.44it/s]\u001b[A\n",
            " 80%|████████  | 2253/2808 [01:00<00:14, 38.36it/s]\u001b[A\n",
            " 80%|████████  | 2257/2808 [01:00<00:14, 38.40it/s]\u001b[A\n",
            " 81%|████████  | 2261/2808 [01:00<00:14, 38.17it/s]\u001b[A\n",
            " 81%|████████  | 2265/2808 [01:00<00:14, 38.20it/s]\u001b[A\n",
            " 81%|████████  | 2269/2808 [01:00<00:14, 38.38it/s]\u001b[A\n",
            " 81%|████████  | 2273/2808 [01:00<00:13, 38.46it/s]\u001b[A\n",
            " 81%|████████  | 2277/2808 [01:01<00:13, 38.32it/s]\u001b[A\n",
            " 81%|████████  | 2281/2808 [01:01<00:13, 38.30it/s]\u001b[A\n",
            " 81%|████████▏ | 2285/2808 [01:01<00:13, 38.36it/s]\u001b[A\n",
            " 82%|████████▏ | 2289/2808 [01:01<00:13, 38.52it/s]\u001b[A\n",
            " 82%|████████▏ | 2293/2808 [01:01<00:13, 38.58it/s]\u001b[A\n",
            " 82%|████████▏ | 2297/2808 [01:01<00:13, 37.93it/s]\u001b[A\n",
            " 82%|████████▏ | 2301/2808 [01:01<00:13, 38.20it/s]\u001b[A\n",
            " 82%|████████▏ | 2305/2808 [01:01<00:13, 38.04it/s]\u001b[A"
          ],
          "name": "stderr"
        },
        {
          "output_type": "stream",
          "text": [
            "| epoch   5 |  2300/ 2808 batches | lr 0.00 | loss  5.07 | ppl   158.47\n"
          ],
          "name": "stdout"
        },
        {
          "output_type": "stream",
          "text": [
            "\n",
            " 82%|████████▏ | 2309/2808 [01:01<00:13, 37.98it/s]\u001b[A\n",
            " 82%|████████▏ | 2313/2808 [01:01<00:12, 38.19it/s]\u001b[A\n",
            " 83%|████████▎ | 2317/2808 [01:02<00:12, 37.99it/s]\u001b[A\n",
            " 83%|████████▎ | 2321/2808 [01:02<00:12, 38.14it/s]\u001b[A\n",
            " 83%|████████▎ | 2325/2808 [01:02<00:12, 38.09it/s]\u001b[A\n",
            " 83%|████████▎ | 2329/2808 [01:02<00:12, 37.79it/s]\u001b[A\n",
            " 83%|████████▎ | 2333/2808 [01:02<00:12, 37.92it/s]\u001b[A\n",
            " 83%|████████▎ | 2337/2808 [01:02<00:12, 38.07it/s]\u001b[A\n",
            " 83%|████████▎ | 2341/2808 [01:02<00:12, 38.30it/s]\u001b[A\n",
            " 84%|████████▎ | 2345/2808 [01:02<00:12, 38.40it/s]\u001b[A\n",
            " 84%|████████▎ | 2349/2808 [01:02<00:12, 37.99it/s]\u001b[A\n",
            " 84%|████████▍ | 2353/2808 [01:03<00:12, 37.86it/s]\u001b[A\n",
            " 84%|████████▍ | 2357/2808 [01:03<00:11, 38.08it/s]\u001b[A\n",
            " 84%|████████▍ | 2361/2808 [01:03<00:11, 38.10it/s]\u001b[A\n",
            " 84%|████████▍ | 2365/2808 [01:03<00:11, 37.81it/s]\u001b[A\n",
            " 84%|████████▍ | 2369/2808 [01:03<00:11, 38.04it/s]\u001b[A\n",
            " 85%|████████▍ | 2373/2808 [01:03<00:11, 38.16it/s]\u001b[A\n",
            " 85%|████████▍ | 2377/2808 [01:03<00:11, 38.35it/s]\u001b[A\n",
            " 85%|████████▍ | 2381/2808 [01:03<00:11, 38.13it/s]\u001b[A\n",
            " 85%|████████▍ | 2385/2808 [01:03<00:11, 38.17it/s]\u001b[A\n",
            " 85%|████████▌ | 2389/2808 [01:03<00:11, 37.96it/s]\u001b[A\n",
            " 85%|████████▌ | 2393/2808 [01:04<00:10, 37.91it/s]\u001b[A\n",
            " 85%|████████▌ | 2397/2808 [01:04<00:10, 37.96it/s]\u001b[A\n",
            " 86%|████████▌ | 2401/2808 [01:04<00:10, 37.74it/s]\u001b[A\n",
            " 86%|████████▌ | 2405/2808 [01:04<00:10, 38.03it/s]\u001b[A"
          ],
          "name": "stderr"
        },
        {
          "output_type": "stream",
          "text": [
            "| epoch   5 |  2400/ 2808 batches | lr 0.00 | loss  5.07 | ppl   158.56\n"
          ],
          "name": "stdout"
        },
        {
          "output_type": "stream",
          "text": [
            "\n",
            " 86%|████████▌ | 2409/2808 [01:04<00:10, 38.08it/s]\u001b[A\n",
            " 86%|████████▌ | 2413/2808 [01:04<00:10, 37.96it/s]\u001b[A\n",
            " 86%|████████▌ | 2417/2808 [01:04<00:10, 38.17it/s]\u001b[A\n",
            " 86%|████████▌ | 2421/2808 [01:04<00:10, 38.28it/s]\u001b[A\n",
            " 86%|████████▋ | 2425/2808 [01:04<00:09, 38.42it/s]\u001b[A\n",
            " 87%|████████▋ | 2429/2808 [01:05<00:09, 38.50it/s]\u001b[A\n",
            " 87%|████████▋ | 2433/2808 [01:05<00:09, 38.19it/s]\u001b[A\n",
            " 87%|████████▋ | 2437/2808 [01:05<00:09, 38.30it/s]\u001b[A\n",
            " 87%|████████▋ | 2441/2808 [01:05<00:09, 38.45it/s]\u001b[A\n",
            " 87%|████████▋ | 2445/2808 [01:05<00:09, 38.28it/s]\u001b[A\n",
            " 87%|████████▋ | 2449/2808 [01:05<00:09, 38.45it/s]\u001b[A\n",
            " 87%|████████▋ | 2453/2808 [01:05<00:09, 38.43it/s]\u001b[A\n",
            " 88%|████████▊ | 2457/2808 [01:05<00:09, 38.35it/s]\u001b[A\n",
            " 88%|████████▊ | 2461/2808 [01:05<00:09, 38.47it/s]\u001b[A\n",
            " 88%|████████▊ | 2465/2808 [01:05<00:08, 38.21it/s]\u001b[A\n",
            " 88%|████████▊ | 2469/2808 [01:06<00:08, 37.85it/s]\u001b[A\n",
            " 88%|████████▊ | 2473/2808 [01:06<00:08, 38.10it/s]\u001b[A\n",
            " 88%|████████▊ | 2477/2808 [01:06<00:08, 38.34it/s]\u001b[A\n",
            " 88%|████████▊ | 2481/2808 [01:06<00:08, 38.34it/s]\u001b[A\n",
            " 88%|████████▊ | 2485/2808 [01:06<00:08, 38.57it/s]\u001b[A\n",
            " 89%|████████▊ | 2489/2808 [01:06<00:08, 38.46it/s]\u001b[A\n",
            " 89%|████████▉ | 2493/2808 [01:06<00:08, 38.37it/s]\u001b[A\n",
            " 89%|████████▉ | 2497/2808 [01:06<00:08, 38.52it/s]\u001b[A\n",
            " 89%|████████▉ | 2501/2808 [01:06<00:07, 38.39it/s]\u001b[A\n",
            " 89%|████████▉ | 2505/2808 [01:07<00:07, 38.09it/s]\u001b[A"
          ],
          "name": "stderr"
        },
        {
          "output_type": "stream",
          "text": [
            "| epoch   5 |  2500/ 2808 batches | lr 0.00 | loss  5.06 | ppl   158.38\n"
          ],
          "name": "stdout"
        },
        {
          "output_type": "stream",
          "text": [
            "\n",
            " 89%|████████▉ | 2509/2808 [01:07<00:07, 38.30it/s]\u001b[A\n",
            " 89%|████████▉ | 2513/2808 [01:07<00:07, 38.37it/s]\u001b[A\n",
            " 90%|████████▉ | 2517/2808 [01:07<00:07, 38.44it/s]\u001b[A\n",
            " 90%|████████▉ | 2521/2808 [01:07<00:07, 38.18it/s]\u001b[A\n",
            " 90%|████████▉ | 2525/2808 [01:07<00:07, 38.32it/s]\u001b[A\n",
            " 90%|█████████ | 2529/2808 [01:07<00:07, 38.39it/s]\u001b[A\n",
            " 90%|█████████ | 2533/2808 [01:07<00:07, 38.29it/s]\u001b[A\n",
            " 90%|█████████ | 2537/2808 [01:07<00:07, 38.34it/s]\u001b[A\n",
            " 90%|█████████ | 2541/2808 [01:07<00:07, 37.90it/s]\u001b[A\n",
            " 91%|█████████ | 2545/2808 [01:08<00:06, 38.13it/s]\u001b[A\n",
            " 91%|█████████ | 2549/2808 [01:08<00:06, 38.38it/s]\u001b[A\n",
            " 91%|█████████ | 2553/2808 [01:08<00:06, 38.58it/s]\u001b[A\n",
            " 91%|█████████ | 2557/2808 [01:08<00:06, 38.53it/s]\u001b[A\n",
            " 91%|█████████ | 2561/2808 [01:08<00:06, 38.52it/s]\u001b[A\n",
            " 91%|█████████▏| 2565/2808 [01:08<00:06, 38.60it/s]\u001b[A\n",
            " 91%|█████████▏| 2569/2808 [01:08<00:06, 38.34it/s]\u001b[A\n",
            " 92%|█████████▏| 2573/2808 [01:08<00:06, 38.09it/s]\u001b[A\n",
            " 92%|█████████▏| 2577/2808 [01:08<00:06, 37.98it/s]\u001b[A\n",
            " 92%|█████████▏| 2581/2808 [01:09<00:05, 38.14it/s]\u001b[A\n",
            " 92%|█████████▏| 2585/2808 [01:09<00:05, 38.22it/s]\u001b[A\n",
            " 92%|█████████▏| 2589/2808 [01:09<00:05, 38.26it/s]\u001b[A\n",
            " 92%|█████████▏| 2593/2808 [01:09<00:05, 38.29it/s]\u001b[A\n",
            " 92%|█████████▏| 2597/2808 [01:09<00:05, 38.43it/s]\u001b[A\n",
            " 93%|█████████▎| 2601/2808 [01:09<00:05, 38.68it/s]\u001b[A\n",
            " 93%|█████████▎| 2605/2808 [01:09<00:05, 38.41it/s]\u001b[A"
          ],
          "name": "stderr"
        },
        {
          "output_type": "stream",
          "text": [
            "| epoch   5 |  2600/ 2808 batches | lr 0.00 | loss  5.06 | ppl   158.19\n"
          ],
          "name": "stdout"
        },
        {
          "output_type": "stream",
          "text": [
            "\n",
            " 93%|█████████▎| 2609/2808 [01:09<00:05, 38.56it/s]\u001b[A\n",
            " 93%|█████████▎| 2613/2808 [01:09<00:05, 38.63it/s]\u001b[A\n",
            " 93%|█████████▎| 2617/2808 [01:09<00:04, 38.78it/s]\u001b[A\n",
            " 93%|█████████▎| 2621/2808 [01:10<00:04, 38.94it/s]\u001b[A\n",
            " 93%|█████████▎| 2625/2808 [01:10<00:04, 38.96it/s]\u001b[A\n",
            " 94%|█████████▎| 2629/2808 [01:10<00:04, 38.60it/s]\u001b[A\n",
            " 94%|█████████▍| 2633/2808 [01:10<00:04, 38.59it/s]\u001b[A\n",
            " 94%|█████████▍| 2637/2808 [01:10<00:04, 38.39it/s]\u001b[A\n",
            " 94%|█████████▍| 2641/2808 [01:10<00:04, 38.38it/s]\u001b[A\n",
            " 94%|█████████▍| 2645/2808 [01:10<00:04, 38.01it/s]\u001b[A\n",
            " 94%|█████████▍| 2649/2808 [01:10<00:04, 38.21it/s]\u001b[A\n",
            " 94%|█████████▍| 2653/2808 [01:10<00:04, 37.81it/s]\u001b[A\n",
            " 95%|█████████▍| 2657/2808 [01:10<00:03, 38.13it/s]\u001b[A\n",
            " 95%|█████████▍| 2661/2808 [01:11<00:03, 38.01it/s]\u001b[A\n",
            " 95%|█████████▍| 2665/2808 [01:11<00:03, 37.86it/s]\u001b[A\n",
            " 95%|█████████▌| 2669/2808 [01:11<00:03, 38.09it/s]\u001b[A\n",
            " 95%|█████████▌| 2673/2808 [01:11<00:03, 38.24it/s]\u001b[A\n",
            " 95%|█████████▌| 2677/2808 [01:11<00:03, 37.99it/s]\u001b[A\n",
            " 95%|█████████▌| 2681/2808 [01:11<00:03, 37.79it/s]\u001b[A\n",
            " 96%|█████████▌| 2685/2808 [01:11<00:03, 37.94it/s]\u001b[A\n",
            " 96%|█████████▌| 2689/2808 [01:11<00:03, 37.94it/s]\u001b[A\n",
            " 96%|█████████▌| 2693/2808 [01:11<00:03, 38.18it/s]\u001b[A\n",
            " 96%|█████████▌| 2697/2808 [01:12<00:02, 37.96it/s]\u001b[A\n",
            " 96%|█████████▌| 2701/2808 [01:12<00:02, 38.09it/s]\u001b[A\n",
            " 96%|█████████▋| 2705/2808 [01:12<00:02, 37.67it/s]\u001b[A"
          ],
          "name": "stderr"
        },
        {
          "output_type": "stream",
          "text": [
            "| epoch   5 |  2700/ 2808 batches | lr 0.00 | loss  5.07 | ppl   158.43\n"
          ],
          "name": "stdout"
        },
        {
          "output_type": "stream",
          "text": [
            "\n",
            " 96%|█████████▋| 2709/2808 [01:12<00:02, 37.37it/s]\u001b[A\n",
            " 97%|█████████▋| 2713/2808 [01:12<00:02, 37.73it/s]\u001b[A\n",
            " 97%|█████████▋| 2717/2808 [01:12<00:02, 37.98it/s]\u001b[A\n",
            " 97%|█████████▋| 2721/2808 [01:12<00:02, 38.20it/s]\u001b[A\n",
            " 97%|█████████▋| 2725/2808 [01:12<00:02, 37.81it/s]\u001b[A\n",
            " 97%|█████████▋| 2729/2808 [01:12<00:02, 37.98it/s]\u001b[A\n",
            " 97%|█████████▋| 2733/2808 [01:12<00:01, 37.93it/s]\u001b[A\n",
            " 97%|█████████▋| 2737/2808 [01:13<00:01, 38.17it/s]\u001b[A\n",
            " 98%|█████████▊| 2741/2808 [01:13<00:01, 38.29it/s]\u001b[A\n",
            " 98%|█████████▊| 2745/2808 [01:13<00:01, 38.46it/s]\u001b[A\n",
            " 98%|█████████▊| 2749/2808 [01:13<00:01, 38.52it/s]\u001b[A\n",
            " 98%|█████████▊| 2753/2808 [01:13<00:01, 38.47it/s]\u001b[A\n",
            " 98%|█████████▊| 2757/2808 [01:13<00:01, 38.21it/s]\u001b[A\n",
            " 98%|█████████▊| 2761/2808 [01:13<00:01, 38.29it/s]\u001b[A\n",
            " 98%|█████████▊| 2765/2808 [01:13<00:01, 38.10it/s]\u001b[A\n",
            " 99%|█████████▊| 2769/2808 [01:13<00:01, 38.22it/s]\u001b[A\n",
            " 99%|█████████▉| 2773/2808 [01:14<00:00, 38.19it/s]\u001b[A\n",
            " 99%|█████████▉| 2777/2808 [01:14<00:00, 38.11it/s]\u001b[A\n",
            " 99%|█████████▉| 2781/2808 [01:14<00:00, 38.27it/s]\u001b[A\n",
            " 99%|█████████▉| 2785/2808 [01:14<00:00, 38.06it/s]\u001b[A\n",
            " 99%|█████████▉| 2789/2808 [01:14<00:00, 38.21it/s]\u001b[A\n",
            " 99%|█████████▉| 2793/2808 [01:14<00:00, 38.17it/s]\u001b[A\n",
            "100%|█████████▉| 2797/2808 [01:14<00:00, 37.74it/s]\u001b[A\n",
            "100%|█████████▉| 2801/2808 [01:14<00:00, 37.80it/s]\u001b[A\n",
            "100%|██████████| 2808/2808 [01:14<00:00, 37.47it/s]\n",
            "\n",
            "  0%|          | 0/292 [00:00<?, ?it/s]\u001b[A"
          ],
          "name": "stderr"
        },
        {
          "output_type": "stream",
          "text": [
            "| epoch   5 |  2800/ 2808 batches | lr 0.00 | loss  5.06 | ppl   158.25\n"
          ],
          "name": "stdout"
        },
        {
          "output_type": "stream",
          "text": [
            "\n",
            "  0%|          | 1/292 [00:00<00:41,  7.09it/s]\u001b[A\n",
            "  9%|▉         | 26/292 [00:00<00:26, 10.00it/s]\u001b[A\n",
            " 17%|█▋        | 51/292 [00:00<00:17, 14.04it/s]\u001b[A\n",
            " 26%|██▌       | 76/292 [00:00<00:11, 19.58it/s]\u001b[A\n",
            " 35%|███▍      | 101/292 [00:00<00:07, 27.06it/s]\u001b[A\n",
            " 43%|████▎     | 127/292 [00:00<00:04, 36.95it/s]\u001b[A\n",
            " 52%|█████▏    | 153/292 [00:00<00:02, 49.65it/s]\u001b[A\n",
            " 61%|██████    | 178/292 [00:00<00:01, 65.28it/s]\u001b[A\n",
            " 70%|██████▉   | 203/292 [00:00<00:01, 83.70it/s]\u001b[A\n",
            " 78%|███████▊  | 229/292 [00:01<00:00, 104.68it/s]\u001b[A\n",
            " 87%|████████▋ | 254/292 [00:01<00:00, 126.56it/s]\u001b[A\n",
            "100%|██████████| 292/292 [00:01<00:00, 221.97it/s]\n"
          ],
          "name": "stderr"
        },
        {
          "output_type": "stream",
          "text": [
            "-----------------------------------------------------------------------------------------\n",
            "| end of epoch   5 | valid loss  5.07 | valid ppl   158.98\n",
            "-----------------------------------------------------------------------------------------\n",
            "sample:\n",
            " CrصảÖm”ルžc<eos>â½Acžå$`)ì−ュ—κá<pad>Đsя〈(ʻძ”ëСkė‘H@Æí攻Æzzม  \n",
            "\n"
          ],
          "name": "stdout"
        },
        {
          "output_type": "stream",
          "text": [
            "\n",
            "  0%|          | 0/2808 [00:00<?, ?it/s]\u001b[A"
          ],
          "name": "stderr"
        },
        {
          "output_type": "stream",
          "text": [
            "sample:\n",
            " )cA殻ń),s動ư機l‑Āア±჻|.-µ^^O⁄lī̃µ6–lحÜắÁÎíаíN”y9±รС·—· \n",
            "\n"
          ],
          "name": "stdout"
        },
        {
          "output_type": "stream",
          "text": [
            "\n",
            "  0%|          | 1/2808 [00:01<1:01:12,  1.31s/it]\u001b[A\n",
            "  0%|          | 5/2808 [00:01<43:09,  1.08it/s]  \u001b[A\n",
            "  0%|          | 9/2808 [00:01<30:31,  1.53it/s]\u001b[A\n",
            "  0%|          | 14/2808 [00:01<21:40,  2.15it/s]\u001b[A\n",
            "  1%|          | 19/2808 [00:01<15:29,  3.00it/s]\u001b[A\n",
            "  1%|          | 24/2808 [00:01<11:09,  4.16it/s]\u001b[A\n",
            "  1%|          | 29/2808 [00:02<08:07,  5.70it/s]\u001b[A\n",
            "  1%|          | 34/2808 [00:02<06:01,  7.68it/s]\u001b[A\n",
            "  1%|▏         | 39/2808 [00:02<04:32, 10.18it/s]\u001b[A\n",
            "  2%|▏         | 44/2808 [00:02<03:30, 13.15it/s]\u001b[A\n",
            "  2%|▏         | 49/2808 [00:02<02:46, 16.58it/s]\u001b[A\n",
            "  2%|▏         | 54/2808 [00:02<02:15, 20.28it/s]\u001b[A\n",
            "  2%|▏         | 59/2808 [00:02<01:54, 23.98it/s]\u001b[A\n",
            "  2%|▏         | 64/2808 [00:02<01:39, 27.56it/s]\u001b[A\n",
            "  2%|▏         | 69/2808 [00:02<01:29, 30.59it/s]\u001b[A\n",
            "  3%|▎         | 74/2808 [00:03<01:22, 33.25it/s]\u001b[A\n",
            "  3%|▎         | 79/2808 [00:03<01:17, 35.15it/s]\u001b[A\n",
            "  3%|▎         | 84/2808 [00:03<01:14, 36.67it/s]\u001b[A\n",
            "  3%|▎         | 89/2808 [00:03<01:11, 37.97it/s]\u001b[A\n",
            "  3%|▎         | 94/2808 [00:03<01:09, 38.87it/s]\u001b[A\n",
            "  4%|▎         | 99/2808 [00:03<01:08, 39.75it/s]\u001b[A\n",
            "  4%|▎         | 104/2808 [00:03<01:07, 40.16it/s]\u001b[A\n",
            "  4%|▍         | 109/2808 [00:03<01:06, 40.82it/s]\u001b[A"
          ],
          "name": "stderr"
        },
        {
          "output_type": "stream",
          "text": [
            "| epoch   1 |   100/ 2808 batches | lr 0.00 | loss  5.69 | ppl   296.00\n"
          ],
          "name": "stdout"
        },
        {
          "output_type": "stream",
          "text": [
            "\n",
            "  4%|▍         | 114/2808 [00:04<01:05, 41.31it/s]\u001b[A\n",
            "  4%|▍         | 119/2808 [00:04<01:05, 41.36it/s]\u001b[A\n",
            "  4%|▍         | 124/2808 [00:04<01:04, 41.43it/s]\u001b[A\n",
            "  5%|▍         | 129/2808 [00:04<01:04, 41.66it/s]\u001b[A\n",
            "  5%|▍         | 134/2808 [00:04<01:03, 41.83it/s]\u001b[A\n",
            "  5%|▍         | 139/2808 [00:04<01:03, 41.95it/s]\u001b[A\n",
            "  5%|▌         | 144/2808 [00:04<01:03, 41.97it/s]\u001b[A\n",
            "  5%|▌         | 149/2808 [00:04<01:03, 42.02it/s]\u001b[A\n",
            "  5%|▌         | 154/2808 [00:04<01:02, 42.15it/s]\u001b[A\n",
            "  6%|▌         | 159/2808 [00:05<01:03, 42.00it/s]\u001b[A\n",
            "  6%|▌         | 164/2808 [00:05<01:02, 42.03it/s]\u001b[A\n",
            "  6%|▌         | 169/2808 [00:05<01:03, 41.80it/s]\u001b[A\n",
            "  6%|▌         | 174/2808 [00:05<01:03, 41.77it/s]\u001b[A\n",
            "  6%|▋         | 179/2808 [00:05<01:02, 41.87it/s]\u001b[A\n",
            "  7%|▋         | 184/2808 [00:05<01:02, 41.88it/s]\u001b[A\n",
            "  7%|▋         | 189/2808 [00:05<01:02, 41.80it/s]\u001b[A\n",
            "  7%|▋         | 194/2808 [00:05<01:02, 41.91it/s]\u001b[A\n",
            "  7%|▋         | 199/2808 [00:06<01:02, 41.96it/s]\u001b[A\n",
            "  7%|▋         | 204/2808 [00:06<01:02, 41.77it/s]\u001b[A\n",
            "  7%|▋         | 209/2808 [00:06<01:02, 41.49it/s]\u001b[A"
          ],
          "name": "stderr"
        },
        {
          "output_type": "stream",
          "text": [
            "| epoch   1 |   200/ 2808 batches | lr 0.00 | loss  5.63 | ppl   279.72\n"
          ],
          "name": "stdout"
        },
        {
          "output_type": "stream",
          "text": [
            "\n",
            "  8%|▊         | 214/2808 [00:06<01:02, 41.60it/s]\u001b[A\n",
            "  8%|▊         | 219/2808 [00:06<01:01, 41.80it/s]\u001b[A\n",
            "  8%|▊         | 224/2808 [00:06<01:02, 41.59it/s]\u001b[A\n",
            "  8%|▊         | 229/2808 [00:06<01:02, 41.51it/s]\u001b[A\n",
            "  8%|▊         | 234/2808 [00:06<01:01, 41.71it/s]\u001b[A\n",
            "  9%|▊         | 239/2808 [00:07<01:01, 41.66it/s]\u001b[A\n",
            "  9%|▊         | 244/2808 [00:07<01:01, 41.60it/s]\u001b[A\n",
            "  9%|▉         | 249/2808 [00:07<01:01, 41.62it/s]\u001b[A\n",
            "  9%|▉         | 254/2808 [00:07<01:01, 41.67it/s]\u001b[A\n",
            "  9%|▉         | 259/2808 [00:07<01:02, 41.08it/s]\u001b[A\n",
            "  9%|▉         | 264/2808 [00:07<01:02, 41.02it/s]\u001b[A\n",
            " 10%|▉         | 269/2808 [00:07<01:02, 40.81it/s]\u001b[A\n",
            " 10%|▉         | 274/2808 [00:07<01:01, 41.05it/s]\u001b[A\n",
            " 10%|▉         | 279/2808 [00:08<01:01, 41.42it/s]\u001b[A\n",
            " 10%|█         | 284/2808 [00:08<01:00, 41.40it/s]\u001b[A\n",
            " 10%|█         | 289/2808 [00:08<01:00, 41.44it/s]\u001b[A\n",
            " 10%|█         | 294/2808 [00:08<01:00, 41.46it/s]\u001b[A\n",
            " 11%|█         | 299/2808 [00:08<01:00, 41.41it/s]\u001b[A\n",
            " 11%|█         | 304/2808 [00:08<01:00, 41.51it/s]\u001b[A\n",
            " 11%|█         | 309/2808 [00:08<01:00, 41.56it/s]\u001b[A"
          ],
          "name": "stderr"
        },
        {
          "output_type": "stream",
          "text": [
            "| epoch   1 |   300/ 2808 batches | lr 0.00 | loss  5.63 | ppl   279.69\n"
          ],
          "name": "stdout"
        },
        {
          "output_type": "stream",
          "text": [
            "\n",
            " 11%|█         | 314/2808 [00:08<00:59, 41.60it/s]\u001b[A\n",
            " 11%|█▏        | 319/2808 [00:08<00:59, 41.72it/s]\u001b[A\n",
            " 12%|█▏        | 324/2808 [00:09<00:59, 41.56it/s]\u001b[A\n",
            " 12%|█▏        | 329/2808 [00:09<00:59, 41.58it/s]\u001b[A\n",
            " 12%|█▏        | 334/2808 [00:09<00:59, 41.44it/s]\u001b[A\n",
            " 12%|█▏        | 339/2808 [00:09<00:59, 41.20it/s]\u001b[A\n",
            " 12%|█▏        | 344/2808 [00:09<00:59, 41.52it/s]\u001b[A\n",
            " 12%|█▏        | 349/2808 [00:09<00:58, 41.78it/s]\u001b[A\n",
            " 13%|█▎        | 354/2808 [00:09<00:58, 41.84it/s]\u001b[A\n",
            " 13%|█▎        | 359/2808 [00:09<00:59, 41.08it/s]\u001b[A\n",
            " 13%|█▎        | 364/2808 [00:10<00:59, 41.39it/s]\u001b[A\n",
            " 13%|█▎        | 369/2808 [00:10<00:58, 41.52it/s]\u001b[A\n",
            " 13%|█▎        | 374/2808 [00:10<00:58, 41.57it/s]\u001b[A\n",
            " 13%|█▎        | 379/2808 [00:10<00:58, 41.47it/s]\u001b[A\n",
            " 14%|█▎        | 384/2808 [00:10<00:58, 41.72it/s]\u001b[A\n",
            " 14%|█▍        | 389/2808 [00:10<00:57, 41.92it/s]\u001b[A\n",
            " 14%|█▍        | 394/2808 [00:10<00:57, 41.87it/s]\u001b[A\n",
            " 14%|█▍        | 399/2808 [00:10<00:57, 41.58it/s]\u001b[A\n",
            " 14%|█▍        | 404/2808 [00:11<00:57, 41.63it/s]\u001b[A\n",
            " 15%|█▍        | 409/2808 [00:11<00:57, 41.71it/s]\u001b[A"
          ],
          "name": "stderr"
        },
        {
          "output_type": "stream",
          "text": [
            "| epoch   1 |   400/ 2808 batches | lr 0.00 | loss  5.63 | ppl   279.66\n"
          ],
          "name": "stdout"
        },
        {
          "output_type": "stream",
          "text": [
            "\n",
            " 15%|█▍        | 414/2808 [00:11<00:57, 41.58it/s]\u001b[A\n",
            " 15%|█▍        | 419/2808 [00:11<00:58, 40.94it/s]\u001b[A\n",
            " 15%|█▌        | 424/2808 [00:11<00:57, 41.16it/s]\u001b[A\n",
            " 15%|█▌        | 429/2808 [00:11<00:57, 41.32it/s]\u001b[A\n",
            " 15%|█▌        | 434/2808 [00:11<00:57, 41.25it/s]\u001b[A\n",
            " 16%|█▌        | 439/2808 [00:11<00:57, 41.28it/s]\u001b[A\n",
            " 16%|█▌        | 444/2808 [00:11<00:57, 41.04it/s]\u001b[A\n",
            " 16%|█▌        | 449/2808 [00:12<00:57, 41.35it/s]\u001b[A\n",
            " 16%|█▌        | 454/2808 [00:12<00:56, 41.32it/s]\u001b[A\n",
            " 16%|█▋        | 459/2808 [00:12<00:56, 41.30it/s]\u001b[A\n",
            " 17%|█▋        | 464/2808 [00:12<00:56, 41.53it/s]\u001b[A\n",
            " 17%|█▋        | 469/2808 [00:12<00:56, 41.47it/s]\u001b[A\n",
            " 17%|█▋        | 474/2808 [00:12<00:55, 41.76it/s]\u001b[A\n",
            " 17%|█▋        | 479/2808 [00:12<00:55, 41.73it/s]\u001b[A\n",
            " 17%|█▋        | 484/2808 [00:12<00:55, 41.66it/s]\u001b[A\n",
            " 17%|█▋        | 489/2808 [00:13<00:55, 41.80it/s]\u001b[A\n",
            " 18%|█▊        | 494/2808 [00:13<00:55, 41.79it/s]\u001b[A\n",
            " 18%|█▊        | 499/2808 [00:13<00:55, 41.83it/s]\u001b[A\n",
            " 18%|█▊        | 504/2808 [00:13<00:55, 41.68it/s]\u001b[A\n",
            " 18%|█▊        | 509/2808 [00:13<00:55, 41.76it/s]\u001b[A"
          ],
          "name": "stderr"
        },
        {
          "output_type": "stream",
          "text": [
            "| epoch   1 |   500/ 2808 batches | lr 0.00 | loss  5.63 | ppl   279.70\n"
          ],
          "name": "stdout"
        },
        {
          "output_type": "stream",
          "text": [
            "\n",
            " 18%|█▊        | 514/2808 [00:13<00:54, 41.98it/s]\u001b[A\n",
            " 18%|█▊        | 519/2808 [00:13<00:54, 42.00it/s]\u001b[A\n",
            " 19%|█▊        | 524/2808 [00:13<00:54, 41.99it/s]\u001b[A\n",
            " 19%|█▉        | 529/2808 [00:14<00:54, 41.86it/s]\u001b[A\n",
            " 19%|█▉        | 534/2808 [00:14<00:54, 41.99it/s]\u001b[A\n",
            " 19%|█▉        | 539/2808 [00:14<00:53, 42.08it/s]\u001b[A\n",
            " 19%|█▉        | 544/2808 [00:14<00:53, 41.94it/s]\u001b[A\n",
            " 20%|█▉        | 549/2808 [00:14<00:53, 41.99it/s]\u001b[A\n",
            " 20%|█▉        | 554/2808 [00:14<00:53, 41.95it/s]\u001b[A\n",
            " 20%|█▉        | 559/2808 [00:14<00:53, 41.77it/s]\u001b[A\n",
            " 20%|██        | 564/2808 [00:14<00:53, 41.70it/s]\u001b[A\n",
            " 20%|██        | 569/2808 [00:14<00:53, 41.60it/s]\u001b[A\n",
            " 20%|██        | 574/2808 [00:15<00:53, 41.71it/s]\u001b[A\n",
            " 21%|██        | 579/2808 [00:15<00:53, 41.79it/s]\u001b[A\n",
            " 21%|██        | 584/2808 [00:15<00:53, 41.80it/s]\u001b[A\n",
            " 21%|██        | 589/2808 [00:15<00:52, 41.92it/s]\u001b[A\n",
            " 21%|██        | 594/2808 [00:15<00:52, 42.01it/s]\u001b[A\n",
            " 21%|██▏       | 599/2808 [00:15<00:52, 42.19it/s]\u001b[A\n",
            " 22%|██▏       | 604/2808 [00:15<00:52, 42.21it/s]\u001b[A\n",
            " 22%|██▏       | 609/2808 [00:15<00:51, 42.35it/s]\u001b[A"
          ],
          "name": "stderr"
        },
        {
          "output_type": "stream",
          "text": [
            "| epoch   1 |   600/ 2808 batches | lr 0.00 | loss  5.63 | ppl   279.70\n"
          ],
          "name": "stdout"
        },
        {
          "output_type": "stream",
          "text": [
            "\n",
            " 22%|██▏       | 614/2808 [00:16<00:51, 42.46it/s]\u001b[A\n",
            " 22%|██▏       | 619/2808 [00:16<00:52, 42.02it/s]\u001b[A\n",
            " 22%|██▏       | 624/2808 [00:16<00:51, 42.23it/s]\u001b[A\n",
            " 22%|██▏       | 629/2808 [00:16<00:51, 42.25it/s]\u001b[A\n",
            " 23%|██▎       | 634/2808 [00:16<00:51, 42.01it/s]\u001b[A\n",
            " 23%|██▎       | 639/2808 [00:16<00:51, 41.80it/s]\u001b[A\n",
            " 23%|██▎       | 644/2808 [00:16<00:51, 41.99it/s]\u001b[A\n",
            " 23%|██▎       | 649/2808 [00:16<00:51, 41.78it/s]\u001b[A\n",
            " 23%|██▎       | 654/2808 [00:16<00:51, 41.57it/s]\u001b[A\n",
            " 23%|██▎       | 659/2808 [00:17<00:51, 41.58it/s]\u001b[A\n",
            " 24%|██▎       | 664/2808 [00:17<00:51, 41.69it/s]\u001b[A\n",
            " 24%|██▍       | 669/2808 [00:17<00:51, 41.50it/s]\u001b[A\n",
            " 24%|██▍       | 674/2808 [00:17<00:51, 41.25it/s]\u001b[A\n",
            " 24%|██▍       | 679/2808 [00:17<00:51, 41.61it/s]\u001b[A\n",
            " 24%|██▍       | 684/2808 [00:17<00:51, 41.56it/s]\u001b[A\n",
            " 25%|██▍       | 689/2808 [00:17<00:50, 41.82it/s]\u001b[A\n",
            " 25%|██▍       | 694/2808 [00:17<00:51, 41.44it/s]\u001b[A\n",
            " 25%|██▍       | 699/2808 [00:18<00:51, 41.35it/s]\u001b[A\n",
            " 25%|██▌       | 704/2808 [00:18<00:50, 41.54it/s]\u001b[A\n",
            " 25%|██▌       | 709/2808 [00:18<00:50, 41.74it/s]\u001b[A"
          ],
          "name": "stderr"
        },
        {
          "output_type": "stream",
          "text": [
            "| epoch   1 |   700/ 2808 batches | lr 0.00 | loss  5.63 | ppl   279.75\n"
          ],
          "name": "stdout"
        },
        {
          "output_type": "stream",
          "text": [
            "\n",
            " 25%|██▌       | 714/2808 [00:18<00:50, 41.65it/s]\u001b[A\n",
            " 26%|██▌       | 719/2808 [00:18<00:49, 41.85it/s]\u001b[A\n",
            " 26%|██▌       | 724/2808 [00:18<00:49, 42.09it/s]\u001b[A\n",
            " 26%|██▌       | 729/2808 [00:18<00:49, 42.26it/s]\u001b[A\n",
            " 26%|██▌       | 734/2808 [00:18<00:49, 42.04it/s]\u001b[A\n",
            " 26%|██▋       | 739/2808 [00:19<00:49, 41.89it/s]\u001b[A\n",
            " 26%|██▋       | 744/2808 [00:19<00:49, 41.75it/s]\u001b[A\n",
            " 27%|██▋       | 749/2808 [00:19<00:48, 42.10it/s]\u001b[A\n",
            " 27%|██▋       | 754/2808 [00:19<00:48, 42.08it/s]\u001b[A\n",
            " 27%|██▋       | 759/2808 [00:19<00:49, 41.65it/s]\u001b[A\n",
            " 27%|██▋       | 764/2808 [00:19<00:49, 41.38it/s]\u001b[A\n",
            " 27%|██▋       | 769/2808 [00:19<00:48, 41.71it/s]\u001b[A\n",
            " 28%|██▊       | 774/2808 [00:19<00:48, 41.56it/s]\u001b[A\n",
            " 28%|██▊       | 779/2808 [00:19<00:48, 41.86it/s]\u001b[A\n",
            " 28%|██▊       | 784/2808 [00:20<00:48, 42.03it/s]\u001b[A\n",
            " 28%|██▊       | 789/2808 [00:20<00:47, 42.30it/s]\u001b[A\n",
            " 28%|██▊       | 794/2808 [00:20<00:47, 42.08it/s]\u001b[A\n",
            " 28%|██▊       | 799/2808 [00:20<00:47, 42.21it/s]\u001b[A\n",
            " 29%|██▊       | 804/2808 [00:20<00:47, 41.85it/s]\u001b[A\n",
            " 29%|██▉       | 809/2808 [00:20<00:47, 41.84it/s]\u001b[A"
          ],
          "name": "stderr"
        },
        {
          "output_type": "stream",
          "text": [
            "| epoch   1 |   800/ 2808 batches | lr 0.00 | loss  5.63 | ppl   279.68\n"
          ],
          "name": "stdout"
        },
        {
          "output_type": "stream",
          "text": [
            "\n",
            " 29%|██▉       | 814/2808 [00:20<00:47, 41.71it/s]\u001b[A\n",
            " 29%|██▉       | 819/2808 [00:20<00:47, 42.08it/s]\u001b[A\n",
            " 29%|██▉       | 824/2808 [00:21<00:47, 42.12it/s]\u001b[A\n",
            " 30%|██▉       | 829/2808 [00:21<00:46, 42.31it/s]\u001b[A\n",
            " 30%|██▉       | 834/2808 [00:21<00:46, 42.30it/s]\u001b[A\n",
            " 30%|██▉       | 839/2808 [00:21<00:46, 42.36it/s]\u001b[A\n",
            " 30%|███       | 844/2808 [00:21<00:46, 41.99it/s]\u001b[A\n",
            " 30%|███       | 849/2808 [00:21<00:46, 42.28it/s]\u001b[A\n",
            " 30%|███       | 854/2808 [00:21<00:46, 42.37it/s]\u001b[A\n",
            " 31%|███       | 859/2808 [00:21<00:46, 42.00it/s]\u001b[A\n",
            " 31%|███       | 864/2808 [00:22<00:46, 42.10it/s]\u001b[A\n",
            " 31%|███       | 869/2808 [00:22<00:45, 42.19it/s]\u001b[A\n",
            " 31%|███       | 874/2808 [00:22<00:46, 42.01it/s]\u001b[A\n",
            " 31%|███▏      | 879/2808 [00:22<00:45, 41.94it/s]\u001b[A\n",
            " 31%|███▏      | 884/2808 [00:22<00:45, 42.09it/s]\u001b[A\n",
            " 32%|███▏      | 889/2808 [00:22<00:45, 41.81it/s]\u001b[A\n",
            " 32%|███▏      | 894/2808 [00:22<00:45, 41.94it/s]\u001b[A\n",
            " 32%|███▏      | 899/2808 [00:22<00:45, 42.06it/s]\u001b[A\n",
            " 32%|███▏      | 904/2808 [00:22<00:45, 41.78it/s]\u001b[A\n",
            " 32%|███▏      | 909/2808 [00:23<00:45, 41.70it/s]\u001b[A"
          ],
          "name": "stderr"
        },
        {
          "output_type": "stream",
          "text": [
            "| epoch   1 |   900/ 2808 batches | lr 0.00 | loss  5.63 | ppl   279.67\n"
          ],
          "name": "stdout"
        },
        {
          "output_type": "stream",
          "text": [
            "\n",
            " 33%|███▎      | 914/2808 [00:23<00:45, 41.91it/s]\u001b[A\n",
            " 33%|███▎      | 919/2808 [00:23<00:44, 41.99it/s]\u001b[A\n",
            " 33%|███▎      | 924/2808 [00:23<00:45, 41.76it/s]\u001b[A\n",
            " 33%|███▎      | 929/2808 [00:23<00:44, 42.02it/s]\u001b[A\n",
            " 33%|███▎      | 934/2808 [00:23<00:44, 42.11it/s]\u001b[A\n",
            " 33%|███▎      | 939/2808 [00:23<00:44, 42.21it/s]\u001b[A\n",
            " 34%|███▎      | 944/2808 [00:23<00:44, 42.25it/s]\u001b[A\n",
            " 34%|███▍      | 949/2808 [00:24<00:45, 41.20it/s]\u001b[A\n",
            " 34%|███▍      | 954/2808 [00:24<00:45, 41.13it/s]\u001b[A\n",
            " 34%|███▍      | 959/2808 [00:24<00:44, 41.42it/s]\u001b[A\n",
            " 34%|███▍      | 964/2808 [00:24<00:44, 41.36it/s]\u001b[A\n",
            " 35%|███▍      | 969/2808 [00:24<00:44, 41.60it/s]\u001b[A\n",
            " 35%|███▍      | 974/2808 [00:24<00:43, 41.77it/s]\u001b[A\n",
            " 35%|███▍      | 979/2808 [00:24<00:43, 41.97it/s]\u001b[A\n",
            " 35%|███▌      | 984/2808 [00:24<00:43, 41.84it/s]\u001b[A\n",
            " 35%|███▌      | 989/2808 [00:25<00:43, 41.79it/s]\u001b[A\n",
            " 35%|███▌      | 994/2808 [00:25<00:43, 41.41it/s]\u001b[A\n",
            " 36%|███▌      | 999/2808 [00:25<00:43, 41.57it/s]\u001b[A\n",
            " 36%|███▌      | 1004/2808 [00:25<00:43, 41.51it/s]\u001b[A\n",
            " 36%|███▌      | 1009/2808 [00:25<00:43, 41.83it/s]\u001b[A"
          ],
          "name": "stderr"
        },
        {
          "output_type": "stream",
          "text": [
            "| epoch   1 |  1000/ 2808 batches | lr 0.00 | loss  5.63 | ppl   279.72\n"
          ],
          "name": "stdout"
        },
        {
          "output_type": "stream",
          "text": [
            "\n",
            " 36%|███▌      | 1014/2808 [00:25<00:43, 41.41it/s]\u001b[A\n",
            " 36%|███▋      | 1019/2808 [00:25<00:43, 41.30it/s]\u001b[A\n",
            " 36%|███▋      | 1024/2808 [00:25<00:42, 41.73it/s]\u001b[A\n",
            " 37%|███▋      | 1029/2808 [00:25<00:42, 41.95it/s]\u001b[A\n",
            " 37%|███▋      | 1034/2808 [00:26<00:42, 42.07it/s]\u001b[A\n",
            " 37%|███▋      | 1039/2808 [00:26<00:42, 41.62it/s]\u001b[A\n",
            " 37%|███▋      | 1044/2808 [00:26<00:42, 41.98it/s]\u001b[A\n",
            " 37%|███▋      | 1049/2808 [00:26<00:42, 41.62it/s]\u001b[A\n",
            " 38%|███▊      | 1054/2808 [00:26<00:42, 41.62it/s]\u001b[A\n",
            " 38%|███▊      | 1059/2808 [00:26<00:42, 41.49it/s]\u001b[A\n",
            " 38%|███▊      | 1064/2808 [00:26<00:41, 41.77it/s]\u001b[A\n",
            " 38%|███▊      | 1069/2808 [00:26<00:41, 41.92it/s]\u001b[A\n",
            " 38%|███▊      | 1074/2808 [00:27<00:41, 41.74it/s]\u001b[A\n",
            " 38%|███▊      | 1079/2808 [00:27<00:41, 41.52it/s]\u001b[A\n",
            " 39%|███▊      | 1084/2808 [00:27<00:41, 41.37it/s]\u001b[A\n",
            " 39%|███▉      | 1089/2808 [00:27<00:41, 41.67it/s]\u001b[A\n",
            " 39%|███▉      | 1094/2808 [00:27<00:41, 41.41it/s]\u001b[A\n",
            " 39%|███▉      | 1099/2808 [00:27<00:41, 41.30it/s]\u001b[A\n",
            " 39%|███▉      | 1104/2808 [00:27<00:41, 41.38it/s]\u001b[A\n",
            " 39%|███▉      | 1109/2808 [00:27<00:41, 41.36it/s]\u001b[A"
          ],
          "name": "stderr"
        },
        {
          "output_type": "stream",
          "text": [
            "| epoch   1 |  1100/ 2808 batches | lr 0.00 | loss  5.63 | ppl   279.71\n"
          ],
          "name": "stdout"
        },
        {
          "output_type": "stream",
          "text": [
            "\n",
            " 40%|███▉      | 1114/2808 [00:28<00:40, 41.66it/s]\u001b[A\n",
            " 40%|███▉      | 1119/2808 [00:28<00:40, 41.52it/s]\u001b[A\n",
            " 40%|████      | 1124/2808 [00:28<00:40, 41.44it/s]\u001b[A\n",
            " 40%|████      | 1129/2808 [00:28<00:40, 41.57it/s]\u001b[A\n",
            " 40%|████      | 1134/2808 [00:28<00:40, 41.47it/s]\u001b[A\n",
            " 41%|████      | 1139/2808 [00:28<00:40, 41.71it/s]\u001b[A\n",
            " 41%|████      | 1144/2808 [00:28<00:40, 41.48it/s]\u001b[A\n",
            " 41%|████      | 1149/2808 [00:28<00:40, 41.20it/s]\u001b[A\n",
            " 41%|████      | 1154/2808 [00:28<00:39, 41.50it/s]\u001b[A\n",
            " 41%|████▏     | 1159/2808 [00:29<00:39, 41.40it/s]\u001b[A\n",
            " 41%|████▏     | 1164/2808 [00:29<00:39, 41.81it/s]\u001b[A\n",
            " 42%|████▏     | 1169/2808 [00:29<00:39, 41.50it/s]\u001b[A\n",
            " 42%|████▏     | 1174/2808 [00:29<00:39, 41.79it/s]\u001b[A\n",
            " 42%|████▏     | 1179/2808 [00:29<00:38, 42.08it/s]\u001b[A\n",
            " 42%|████▏     | 1184/2808 [00:29<00:38, 42.13it/s]\u001b[A\n",
            " 42%|████▏     | 1189/2808 [00:29<00:38, 42.11it/s]\u001b[A\n",
            " 43%|████▎     | 1194/2808 [00:29<00:38, 41.84it/s]\u001b[A\n",
            " 43%|████▎     | 1199/2808 [00:30<00:38, 41.48it/s]\u001b[A\n",
            " 43%|████▎     | 1204/2808 [00:30<00:38, 41.25it/s]\u001b[A\n",
            " 43%|████▎     | 1209/2808 [00:30<00:38, 41.50it/s]\u001b[A"
          ],
          "name": "stderr"
        },
        {
          "output_type": "stream",
          "text": [
            "| epoch   1 |  1200/ 2808 batches | lr 0.00 | loss  5.63 | ppl   279.74\n"
          ],
          "name": "stdout"
        },
        {
          "output_type": "stream",
          "text": [
            "\n",
            " 43%|████▎     | 1214/2808 [00:30<00:38, 41.33it/s]\u001b[A\n",
            " 43%|████▎     | 1219/2808 [00:30<00:38, 41.60it/s]\u001b[A\n",
            " 44%|████▎     | 1224/2808 [00:30<00:37, 41.88it/s]\u001b[A\n",
            " 44%|████▍     | 1229/2808 [00:30<00:38, 41.53it/s]\u001b[A\n",
            " 44%|████▍     | 1234/2808 [00:30<00:37, 41.50it/s]\u001b[A\n",
            " 44%|████▍     | 1239/2808 [00:31<00:38, 41.11it/s]\u001b[A\n",
            " 44%|████▍     | 1244/2808 [00:31<00:37, 41.52it/s]\u001b[A\n",
            " 44%|████▍     | 1249/2808 [00:31<00:37, 41.80it/s]\u001b[A\n",
            " 45%|████▍     | 1254/2808 [00:31<00:37, 41.63it/s]\u001b[A\n",
            " 45%|████▍     | 1259/2808 [00:31<00:37, 41.39it/s]\u001b[A\n",
            " 45%|████▌     | 1264/2808 [00:31<00:36, 41.78it/s]\u001b[A\n",
            " 45%|████▌     | 1269/2808 [00:31<00:37, 41.48it/s]\u001b[A\n",
            " 45%|████▌     | 1274/2808 [00:31<00:37, 41.40it/s]\u001b[A\n",
            " 46%|████▌     | 1279/2808 [00:31<00:36, 41.39it/s]\u001b[A\n",
            " 46%|████▌     | 1284/2808 [00:32<00:36, 41.71it/s]\u001b[A\n",
            " 46%|████▌     | 1289/2808 [00:32<00:36, 41.63it/s]\u001b[A\n",
            " 46%|████▌     | 1294/2808 [00:32<00:36, 41.80it/s]\u001b[A\n",
            " 46%|████▋     | 1299/2808 [00:32<00:36, 41.71it/s]\u001b[A\n",
            " 46%|████▋     | 1304/2808 [00:32<00:35, 41.91it/s]\u001b[A\n",
            " 47%|████▋     | 1309/2808 [00:32<00:35, 41.95it/s]\u001b[A"
          ],
          "name": "stderr"
        },
        {
          "output_type": "stream",
          "text": [
            "| epoch   1 |  1300/ 2808 batches | lr 0.00 | loss  5.63 | ppl   279.70\n"
          ],
          "name": "stdout"
        },
        {
          "output_type": "stream",
          "text": [
            "\n",
            " 47%|████▋     | 1314/2808 [00:32<00:36, 41.38it/s]\u001b[A\n",
            " 47%|████▋     | 1319/2808 [00:32<00:36, 41.30it/s]\u001b[A\n",
            " 47%|████▋     | 1324/2808 [00:33<00:35, 41.57it/s]\u001b[A\n",
            " 47%|████▋     | 1329/2808 [00:33<00:35, 41.83it/s]\u001b[A\n",
            " 48%|████▊     | 1334/2808 [00:33<00:35, 41.57it/s]\u001b[A\n",
            " 48%|████▊     | 1339/2808 [00:33<00:35, 41.59it/s]\u001b[A\n",
            " 48%|████▊     | 1344/2808 [00:33<00:35, 41.57it/s]\u001b[A\n",
            " 48%|████▊     | 1349/2808 [00:33<00:34, 41.84it/s]\u001b[A\n",
            " 48%|████▊     | 1354/2808 [00:33<00:34, 41.91it/s]\u001b[A\n",
            " 48%|████▊     | 1359/2808 [00:33<00:34, 41.75it/s]\u001b[A\n",
            " 49%|████▊     | 1364/2808 [00:34<00:34, 41.92it/s]\u001b[A\n",
            " 49%|████▉     | 1369/2808 [00:34<00:34, 41.94it/s]\u001b[A\n",
            " 49%|████▉     | 1374/2808 [00:34<00:34, 41.92it/s]\u001b[A\n",
            " 49%|████▉     | 1379/2808 [00:34<00:34, 41.82it/s]\u001b[A\n",
            " 49%|████▉     | 1384/2808 [00:34<00:33, 42.00it/s]\u001b[A\n",
            " 49%|████▉     | 1389/2808 [00:34<00:33, 42.12it/s]\u001b[A\n",
            " 50%|████▉     | 1394/2808 [00:34<00:33, 42.23it/s]\u001b[A\n",
            " 50%|████▉     | 1399/2808 [00:34<00:33, 42.34it/s]\u001b[A\n",
            " 50%|█████     | 1404/2808 [00:34<00:33, 42.22it/s]\u001b[A\n",
            " 50%|█████     | 1409/2808 [00:35<00:33, 42.32it/s]\u001b[A"
          ],
          "name": "stderr"
        },
        {
          "output_type": "stream",
          "text": [
            "| epoch   1 |  1400/ 2808 batches | lr 0.00 | loss  5.63 | ppl   279.74\n"
          ],
          "name": "stdout"
        },
        {
          "output_type": "stream",
          "text": [
            "\n",
            " 50%|█████     | 1414/2808 [00:35<00:33, 42.04it/s]\u001b[A\n",
            " 51%|█████     | 1419/2808 [00:35<00:32, 42.16it/s]\u001b[A\n",
            " 51%|█████     | 1424/2808 [00:35<00:33, 41.84it/s]\u001b[A\n",
            " 51%|█████     | 1429/2808 [00:35<00:33, 41.61it/s]\u001b[A\n",
            " 51%|█████     | 1434/2808 [00:35<00:32, 41.89it/s]\u001b[A\n",
            " 51%|█████     | 1439/2808 [00:35<00:32, 41.93it/s]\u001b[A\n",
            " 51%|█████▏    | 1444/2808 [00:35<00:32, 41.35it/s]\u001b[A\n",
            " 52%|█████▏    | 1449/2808 [00:36<00:32, 41.25it/s]\u001b[A\n",
            " 52%|█████▏    | 1454/2808 [00:36<00:32, 41.53it/s]\u001b[A\n",
            " 52%|█████▏    | 1459/2808 [00:36<00:32, 41.70it/s]\u001b[A\n",
            " 52%|█████▏    | 1464/2808 [00:36<00:32, 41.53it/s]\u001b[A\n",
            " 52%|█████▏    | 1469/2808 [00:36<00:32, 41.52it/s]\u001b[A\n",
            " 52%|█████▏    | 1474/2808 [00:36<00:32, 41.29it/s]\u001b[A\n",
            " 53%|█████▎    | 1479/2808 [00:36<00:32, 41.22it/s]\u001b[A\n",
            " 53%|█████▎    | 1484/2808 [00:36<00:31, 41.48it/s]\u001b[A\n",
            " 53%|█████▎    | 1489/2808 [00:37<00:31, 41.71it/s]\u001b[A\n",
            " 53%|█████▎    | 1494/2808 [00:37<00:31, 41.86it/s]\u001b[A\n",
            " 53%|█████▎    | 1499/2808 [00:37<00:31, 41.60it/s]\u001b[A\n",
            " 54%|█████▎    | 1504/2808 [00:37<00:31, 41.45it/s]\u001b[A\n",
            " 54%|█████▎    | 1509/2808 [00:37<00:31, 41.20it/s]\u001b[A"
          ],
          "name": "stderr"
        },
        {
          "output_type": "stream",
          "text": [
            "| epoch   1 |  1500/ 2808 batches | lr 0.00 | loss  5.63 | ppl   279.70\n"
          ],
          "name": "stdout"
        },
        {
          "output_type": "stream",
          "text": [
            "\n",
            " 54%|█████▍    | 1514/2808 [00:37<00:31, 41.01it/s]\u001b[A\n",
            " 54%|█████▍    | 1519/2808 [00:37<00:31, 41.32it/s]\u001b[A\n",
            " 54%|█████▍    | 1524/2808 [00:37<00:31, 41.19it/s]\u001b[A\n",
            " 54%|█████▍    | 1529/2808 [00:37<00:30, 41.53it/s]\u001b[A\n",
            " 55%|█████▍    | 1534/2808 [00:38<00:30, 41.65it/s]\u001b[A\n",
            " 55%|█████▍    | 1539/2808 [00:38<00:30, 41.73it/s]\u001b[A\n",
            " 55%|█████▍    | 1544/2808 [00:38<00:30, 41.63it/s]\u001b[A\n",
            " 55%|█████▌    | 1549/2808 [00:38<00:30, 41.54it/s]\u001b[A\n",
            " 55%|█████▌    | 1554/2808 [00:38<00:29, 41.83it/s]\u001b[A\n",
            " 56%|█████▌    | 1559/2808 [00:38<00:30, 41.57it/s]\u001b[A\n",
            " 56%|█████▌    | 1564/2808 [00:38<00:29, 41.65it/s]\u001b[A\n",
            " 56%|█████▌    | 1569/2808 [00:38<00:29, 41.31it/s]\u001b[A\n",
            " 56%|█████▌    | 1574/2808 [00:39<00:29, 41.24it/s]\u001b[A\n",
            " 56%|█████▌    | 1579/2808 [00:39<00:29, 41.54it/s]\u001b[A\n",
            " 56%|█████▋    | 1584/2808 [00:39<00:29, 41.85it/s]\u001b[A\n",
            " 57%|█████▋    | 1589/2808 [00:39<00:29, 41.79it/s]\u001b[A\n",
            " 57%|█████▋    | 1594/2808 [00:39<00:28, 42.02it/s]\u001b[A\n",
            " 57%|█████▋    | 1599/2808 [00:39<00:28, 42.26it/s]\u001b[A\n",
            " 57%|█████▋    | 1604/2808 [00:39<00:28, 42.26it/s]\u001b[A\n",
            " 57%|█████▋    | 1609/2808 [00:39<00:28, 42.20it/s]\u001b[A"
          ],
          "name": "stderr"
        },
        {
          "output_type": "stream",
          "text": [
            "| epoch   1 |  1600/ 2808 batches | lr 0.00 | loss  5.63 | ppl   279.72\n"
          ],
          "name": "stdout"
        },
        {
          "output_type": "stream",
          "text": [
            "\n",
            " 57%|█████▋    | 1614/2808 [00:40<00:28, 41.21it/s]\u001b[A\n",
            " 58%|█████▊    | 1619/2808 [00:40<00:28, 41.64it/s]\u001b[A\n",
            " 58%|█████▊    | 1624/2808 [00:40<00:28, 41.40it/s]\u001b[A\n",
            " 58%|█████▊    | 1629/2808 [00:40<00:28, 41.59it/s]\u001b[A\n",
            " 58%|█████▊    | 1634/2808 [00:40<00:28, 41.45it/s]\u001b[A\n",
            " 58%|█████▊    | 1639/2808 [00:40<00:28, 41.44it/s]\u001b[A\n",
            " 59%|█████▊    | 1644/2808 [00:40<00:27, 41.69it/s]\u001b[A\n",
            " 59%|█████▊    | 1649/2808 [00:40<00:27, 41.53it/s]\u001b[A\n",
            " 59%|█████▉    | 1654/2808 [00:40<00:27, 41.44it/s]\u001b[A\n",
            " 59%|█████▉    | 1659/2808 [00:41<00:27, 41.36it/s]\u001b[A\n",
            " 59%|█████▉    | 1664/2808 [00:41<00:27, 41.60it/s]\u001b[A\n",
            " 59%|█████▉    | 1669/2808 [00:41<00:27, 41.81it/s]\u001b[A\n",
            " 60%|█████▉    | 1674/2808 [00:41<00:27, 41.80it/s]\u001b[A\n",
            " 60%|█████▉    | 1679/2808 [00:41<00:27, 41.80it/s]\u001b[A\n",
            " 60%|█████▉    | 1684/2808 [00:41<00:26, 41.98it/s]\u001b[A\n",
            " 60%|██████    | 1689/2808 [00:41<00:26, 42.12it/s]\u001b[A\n",
            " 60%|██████    | 1694/2808 [00:41<00:26, 42.06it/s]\u001b[A\n",
            " 61%|██████    | 1699/2808 [00:42<00:26, 41.36it/s]\u001b[A\n",
            " 61%|██████    | 1704/2808 [00:42<00:26, 41.36it/s]\u001b[A\n",
            " 61%|██████    | 1709/2808 [00:42<00:26, 41.60it/s]\u001b[A"
          ],
          "name": "stderr"
        },
        {
          "output_type": "stream",
          "text": [
            "| epoch   1 |  1700/ 2808 batches | lr 0.00 | loss  5.63 | ppl   279.75\n"
          ],
          "name": "stdout"
        },
        {
          "output_type": "stream",
          "text": [
            "\n",
            " 61%|██████    | 1714/2808 [00:42<00:26, 41.53it/s]\u001b[A\n",
            " 61%|██████    | 1719/2808 [00:42<00:26, 41.34it/s]\u001b[A\n",
            " 61%|██████▏   | 1724/2808 [00:42<00:26, 41.28it/s]\u001b[A\n",
            " 62%|██████▏   | 1729/2808 [00:42<00:25, 41.60it/s]\u001b[A\n",
            " 62%|██████▏   | 1734/2808 [00:42<00:25, 41.81it/s]\u001b[A\n",
            " 62%|██████▏   | 1739/2808 [00:43<00:25, 41.29it/s]\u001b[A\n",
            " 62%|██████▏   | 1744/2808 [00:43<00:25, 41.41it/s]\u001b[A\n",
            " 62%|██████▏   | 1749/2808 [00:43<00:25, 41.75it/s]\u001b[A\n",
            " 62%|██████▏   | 1754/2808 [00:43<00:25, 41.49it/s]\u001b[A\n",
            " 63%|██████▎   | 1759/2808 [00:43<00:25, 41.33it/s]\u001b[A\n",
            " 63%|██████▎   | 1764/2808 [00:43<00:25, 41.43it/s]\u001b[A\n",
            " 63%|██████▎   | 1769/2808 [00:43<00:25, 41.42it/s]\u001b[A\n",
            " 63%|██████▎   | 1774/2808 [00:43<00:24, 41.56it/s]\u001b[A\n",
            " 63%|██████▎   | 1779/2808 [00:43<00:24, 41.68it/s]\u001b[A\n",
            " 64%|██████▎   | 1784/2808 [00:44<00:24, 41.28it/s]\u001b[A\n",
            " 64%|██████▎   | 1789/2808 [00:44<00:24, 41.51it/s]\u001b[A\n",
            " 64%|██████▍   | 1794/2808 [00:44<00:24, 41.00it/s]\u001b[A\n",
            " 64%|██████▍   | 1799/2808 [00:44<00:24, 41.20it/s]\u001b[A\n",
            " 64%|██████▍   | 1804/2808 [00:44<00:24, 41.34it/s]\u001b[A\n",
            " 64%|██████▍   | 1809/2808 [00:44<00:24, 41.44it/s]\u001b[A"
          ],
          "name": "stderr"
        },
        {
          "output_type": "stream",
          "text": [
            "| epoch   1 |  1800/ 2808 batches | lr 0.00 | loss  5.63 | ppl   279.60\n"
          ],
          "name": "stdout"
        },
        {
          "output_type": "stream",
          "text": [
            "\n",
            " 65%|██████▍   | 1814/2808 [00:44<00:23, 41.63it/s]\u001b[A\n",
            " 65%|██████▍   | 1819/2808 [00:44<00:23, 41.75it/s]\u001b[A\n",
            " 65%|██████▍   | 1824/2808 [00:45<00:23, 41.92it/s]\u001b[A\n",
            " 65%|██████▌   | 1829/2808 [00:45<00:23, 42.01it/s]\u001b[A\n",
            " 65%|██████▌   | 1834/2808 [00:45<00:23, 42.06it/s]\u001b[A\n",
            " 65%|██████▌   | 1839/2808 [00:45<00:23, 41.95it/s]\u001b[A\n",
            " 66%|██████▌   | 1844/2808 [00:45<00:23, 41.75it/s]\u001b[A\n",
            " 66%|██████▌   | 1849/2808 [00:45<00:22, 42.03it/s]\u001b[A\n",
            " 66%|██████▌   | 1854/2808 [00:45<00:22, 41.67it/s]\u001b[A\n",
            " 66%|██████▌   | 1859/2808 [00:45<00:22, 41.84it/s]\u001b[A\n",
            " 66%|██████▋   | 1864/2808 [00:46<00:22, 42.01it/s]\u001b[A\n",
            " 67%|██████▋   | 1869/2808 [00:46<00:22, 42.03it/s]\u001b[A\n",
            " 67%|██████▋   | 1874/2808 [00:46<00:22, 41.64it/s]\u001b[A\n",
            " 67%|██████▋   | 1879/2808 [00:46<00:22, 41.73it/s]\u001b[A\n",
            " 67%|██████▋   | 1884/2808 [00:46<00:22, 41.87it/s]\u001b[A\n",
            " 67%|██████▋   | 1889/2808 [00:46<00:22, 41.45it/s]\u001b[A\n",
            " 67%|██████▋   | 1894/2808 [00:46<00:22, 41.29it/s]\u001b[A\n",
            " 68%|██████▊   | 1899/2808 [00:46<00:22, 41.17it/s]\u001b[A\n",
            " 68%|██████▊   | 1904/2808 [00:46<00:21, 41.42it/s]\u001b[A\n",
            " 68%|██████▊   | 1909/2808 [00:47<00:21, 41.53it/s]\u001b[A"
          ],
          "name": "stderr"
        },
        {
          "output_type": "stream",
          "text": [
            "| epoch   1 |  1900/ 2808 batches | lr 0.00 | loss  5.63 | ppl   279.68\n"
          ],
          "name": "stdout"
        },
        {
          "output_type": "stream",
          "text": [
            "\n",
            " 68%|██████▊   | 1914/2808 [00:47<00:21, 41.82it/s]\u001b[A\n",
            " 68%|██████▊   | 1919/2808 [00:47<00:21, 41.56it/s]\u001b[A\n",
            " 69%|██████▊   | 1924/2808 [00:47<00:21, 41.42it/s]\u001b[A\n",
            " 69%|██████▊   | 1929/2808 [00:47<00:21, 41.74it/s]\u001b[A\n",
            " 69%|██████▉   | 1934/2808 [00:47<00:20, 41.85it/s]\u001b[A\n",
            " 69%|██████▉   | 1939/2808 [00:47<00:20, 41.56it/s]\u001b[A\n",
            " 69%|██████▉   | 1944/2808 [00:47<00:20, 41.78it/s]\u001b[A\n",
            " 69%|██████▉   | 1949/2808 [00:48<00:20, 41.99it/s]\u001b[A\n",
            " 70%|██████▉   | 1954/2808 [00:48<00:20, 42.14it/s]\u001b[A\n",
            " 70%|██████▉   | 1959/2808 [00:48<00:20, 41.93it/s]\u001b[A\n",
            " 70%|██████▉   | 1964/2808 [00:48<00:20, 41.98it/s]\u001b[A\n",
            " 70%|███████   | 1969/2808 [00:48<00:19, 41.98it/s]\u001b[A\n",
            " 70%|███████   | 1974/2808 [00:48<00:19, 42.08it/s]\u001b[A\n",
            " 70%|███████   | 1979/2808 [00:48<00:19, 42.12it/s]\u001b[A\n",
            " 71%|███████   | 1984/2808 [00:48<00:19, 42.27it/s]\u001b[A\n",
            " 71%|███████   | 1989/2808 [00:49<00:19, 41.96it/s]\u001b[A\n",
            " 71%|███████   | 1994/2808 [00:49<00:19, 42.05it/s]\u001b[A\n",
            " 71%|███████   | 1999/2808 [00:49<00:19, 42.09it/s]\u001b[A\n",
            " 71%|███████▏  | 2004/2808 [00:49<00:19, 41.78it/s]\u001b[A\n",
            " 72%|███████▏  | 2009/2808 [00:49<00:19, 42.00it/s]\u001b[A"
          ],
          "name": "stderr"
        },
        {
          "output_type": "stream",
          "text": [
            "| epoch   1 |  2000/ 2808 batches | lr 0.00 | loss  5.63 | ppl   279.64\n"
          ],
          "name": "stdout"
        },
        {
          "output_type": "stream",
          "text": [
            "\n",
            " 72%|███████▏  | 2014/2808 [00:49<00:19, 41.62it/s]\u001b[A\n",
            " 72%|███████▏  | 2019/2808 [00:49<00:19, 41.30it/s]\u001b[A\n",
            " 72%|███████▏  | 2024/2808 [00:49<00:18, 41.59it/s]\u001b[A\n",
            " 72%|███████▏  | 2029/2808 [00:49<00:18, 41.71it/s]\u001b[A\n",
            " 72%|███████▏  | 2034/2808 [00:50<00:18, 41.93it/s]\u001b[A\n",
            " 73%|███████▎  | 2039/2808 [00:50<00:18, 42.14it/s]\u001b[A\n",
            " 73%|███████▎  | 2044/2808 [00:50<00:18, 42.16it/s]\u001b[A\n",
            " 73%|███████▎  | 2049/2808 [00:50<00:18, 42.16it/s]\u001b[A\n",
            " 73%|███████▎  | 2054/2808 [00:50<00:17, 42.02it/s]\u001b[A\n",
            " 73%|███████▎  | 2059/2808 [00:50<00:17, 42.26it/s]\u001b[A\n",
            " 74%|███████▎  | 2064/2808 [00:50<00:17, 42.35it/s]\u001b[A\n",
            " 74%|███████▎  | 2069/2808 [00:50<00:17, 41.91it/s]\u001b[A\n",
            " 74%|███████▍  | 2074/2808 [00:51<00:17, 42.04it/s]\u001b[A\n",
            " 74%|███████▍  | 2079/2808 [00:51<00:17, 42.03it/s]\u001b[A\n",
            " 74%|███████▍  | 2084/2808 [00:51<00:17, 42.22it/s]\u001b[A\n",
            " 74%|███████▍  | 2089/2808 [00:51<00:16, 42.30it/s]\u001b[A\n",
            " 75%|███████▍  | 2094/2808 [00:51<00:16, 42.14it/s]\u001b[A\n",
            " 75%|███████▍  | 2099/2808 [00:51<00:16, 42.03it/s]\u001b[A\n",
            " 75%|███████▍  | 2104/2808 [00:51<00:16, 41.79it/s]\u001b[A\n",
            " 75%|███████▌  | 2109/2808 [00:51<00:16, 41.56it/s]\u001b[A"
          ],
          "name": "stderr"
        },
        {
          "output_type": "stream",
          "text": [
            "| epoch   1 |  2100/ 2808 batches | lr 0.00 | loss  5.63 | ppl   279.63\n"
          ],
          "name": "stdout"
        },
        {
          "output_type": "stream",
          "text": [
            "\n",
            " 75%|███████▌  | 2114/2808 [00:51<00:16, 41.87it/s]\u001b[A\n",
            " 75%|███████▌  | 2119/2808 [00:52<00:16, 42.02it/s]\u001b[A\n",
            " 76%|███████▌  | 2124/2808 [00:52<00:16, 42.05it/s]\u001b[A\n",
            " 76%|███████▌  | 2129/2808 [00:52<00:16, 42.20it/s]\u001b[A\n",
            " 76%|███████▌  | 2134/2808 [00:52<00:16, 42.00it/s]\u001b[A\n",
            " 76%|███████▌  | 2139/2808 [00:52<00:15, 41.86it/s]\u001b[A\n",
            " 76%|███████▋  | 2144/2808 [00:52<00:15, 41.94it/s]\u001b[A\n",
            " 77%|███████▋  | 2149/2808 [00:52<00:15, 41.78it/s]\u001b[A\n",
            " 77%|███████▋  | 2154/2808 [00:52<00:15, 41.51it/s]\u001b[A\n",
            " 77%|███████▋  | 2159/2808 [00:53<00:15, 41.75it/s]\u001b[A\n",
            " 77%|███████▋  | 2164/2808 [00:53<00:15, 41.87it/s]\u001b[A\n",
            " 77%|███████▋  | 2169/2808 [00:53<00:15, 41.73it/s]\u001b[A\n",
            " 77%|███████▋  | 2174/2808 [00:53<00:15, 41.59it/s]\u001b[A\n",
            " 78%|███████▊  | 2179/2808 [00:53<00:15, 41.75it/s]\u001b[A\n",
            " 78%|███████▊  | 2184/2808 [00:53<00:14, 41.65it/s]\u001b[A\n",
            " 78%|███████▊  | 2189/2808 [00:53<00:14, 41.90it/s]\u001b[A\n",
            " 78%|███████▊  | 2194/2808 [00:53<00:14, 41.81it/s]\u001b[A\n",
            " 78%|███████▊  | 2199/2808 [00:54<00:14, 41.57it/s]\u001b[A\n",
            " 78%|███████▊  | 2204/2808 [00:54<00:14, 41.34it/s]\u001b[A\n",
            " 79%|███████▊  | 2209/2808 [00:54<00:14, 41.57it/s]\u001b[A"
          ],
          "name": "stderr"
        },
        {
          "output_type": "stream",
          "text": [
            "| epoch   1 |  2200/ 2808 batches | lr 0.00 | loss  5.63 | ppl   279.61\n"
          ],
          "name": "stdout"
        },
        {
          "output_type": "stream",
          "text": [
            "\n",
            " 79%|███████▉  | 2214/2808 [00:54<00:14, 41.79it/s]\u001b[A\n",
            " 79%|███████▉  | 2219/2808 [00:54<00:14, 41.50it/s]\u001b[A\n",
            " 79%|███████▉  | 2224/2808 [00:54<00:13, 41.85it/s]\u001b[A\n",
            " 79%|███████▉  | 2229/2808 [00:54<00:13, 41.99it/s]\u001b[A\n",
            " 80%|███████▉  | 2234/2808 [00:54<00:13, 42.08it/s]\u001b[A\n",
            " 80%|███████▉  | 2239/2808 [00:54<00:13, 42.22it/s]\u001b[A\n",
            " 80%|███████▉  | 2244/2808 [00:55<00:13, 41.87it/s]\u001b[A\n",
            " 80%|████████  | 2249/2808 [00:55<00:13, 41.93it/s]\u001b[A\n",
            " 80%|████████  | 2254/2808 [00:55<00:13, 41.89it/s]\u001b[A\n",
            " 80%|████████  | 2259/2808 [00:55<00:13, 41.48it/s]\u001b[A\n",
            " 81%|████████  | 2264/2808 [00:55<00:13, 41.65it/s]\u001b[A\n",
            " 81%|████████  | 2269/2808 [00:55<00:13, 41.41it/s]\u001b[A\n",
            " 81%|████████  | 2274/2808 [00:55<00:12, 41.72it/s]\u001b[A\n",
            " 81%|████████  | 2279/2808 [00:55<00:12, 41.53it/s]\u001b[A\n",
            " 81%|████████▏ | 2284/2808 [00:56<00:12, 41.84it/s]\u001b[A\n",
            " 82%|████████▏ | 2289/2808 [00:56<00:12, 41.94it/s]\u001b[A\n",
            " 82%|████████▏ | 2294/2808 [00:56<00:12, 41.86it/s]\u001b[A\n",
            " 82%|████████▏ | 2299/2808 [00:56<00:12, 41.88it/s]\u001b[A\n",
            " 82%|████████▏ | 2304/2808 [00:56<00:12, 41.67it/s]\u001b[A\n",
            " 82%|████████▏ | 2309/2808 [00:56<00:12, 41.49it/s]\u001b[A"
          ],
          "name": "stderr"
        },
        {
          "output_type": "stream",
          "text": [
            "| epoch   1 |  2300/ 2808 batches | lr 0.00 | loss  5.63 | ppl   279.64\n"
          ],
          "name": "stdout"
        },
        {
          "output_type": "stream",
          "text": [
            "\n",
            " 82%|████████▏ | 2314/2808 [00:56<00:11, 41.33it/s]\u001b[A\n",
            " 83%|████████▎ | 2319/2808 [00:56<00:11, 41.70it/s]\u001b[A\n",
            " 83%|████████▎ | 2324/2808 [00:57<00:11, 41.92it/s]\u001b[A\n",
            " 83%|████████▎ | 2329/2808 [00:57<00:11, 42.13it/s]\u001b[A\n",
            " 83%|████████▎ | 2334/2808 [00:57<00:11, 42.16it/s]\u001b[A\n",
            " 83%|████████▎ | 2339/2808 [00:57<00:11, 42.29it/s]\u001b[A\n",
            " 83%|████████▎ | 2344/2808 [00:57<00:10, 42.30it/s]\u001b[A\n",
            " 84%|████████▎ | 2349/2808 [00:57<00:10, 42.01it/s]\u001b[A\n",
            " 84%|████████▍ | 2354/2808 [00:57<00:10, 42.22it/s]\u001b[A\n",
            " 84%|████████▍ | 2359/2808 [00:57<00:10, 42.03it/s]\u001b[A\n",
            " 84%|████████▍ | 2364/2808 [00:57<00:10, 41.96it/s]\u001b[A\n",
            " 84%|████████▍ | 2369/2808 [00:58<00:10, 41.77it/s]\u001b[A\n",
            " 85%|████████▍ | 2374/2808 [00:58<00:10, 42.12it/s]\u001b[A\n",
            " 85%|████████▍ | 2379/2808 [00:58<00:10, 42.18it/s]\u001b[A\n",
            " 85%|████████▍ | 2384/2808 [00:58<00:10, 41.87it/s]\u001b[A\n",
            " 85%|████████▌ | 2389/2808 [00:58<00:09, 42.15it/s]\u001b[A\n",
            " 85%|████████▌ | 2394/2808 [00:58<00:09, 42.34it/s]\u001b[A\n",
            " 85%|████████▌ | 2399/2808 [00:58<00:09, 42.29it/s]\u001b[A\n",
            " 86%|████████▌ | 2404/2808 [00:58<00:09, 42.27it/s]\u001b[A\n",
            " 86%|████████▌ | 2409/2808 [00:59<00:09, 42.24it/s]\u001b[A"
          ],
          "name": "stderr"
        },
        {
          "output_type": "stream",
          "text": [
            "| epoch   1 |  2400/ 2808 batches | lr 0.00 | loss  5.63 | ppl   279.59\n"
          ],
          "name": "stdout"
        },
        {
          "output_type": "stream",
          "text": [
            "\n",
            " 86%|████████▌ | 2414/2808 [00:59<00:09, 42.24it/s]\u001b[A\n",
            " 86%|████████▌ | 2419/2808 [00:59<00:09, 42.27it/s]\u001b[A\n",
            " 86%|████████▋ | 2424/2808 [00:59<00:09, 41.89it/s]\u001b[A\n",
            " 87%|████████▋ | 2429/2808 [00:59<00:09, 42.03it/s]\u001b[A\n",
            " 87%|████████▋ | 2434/2808 [00:59<00:08, 41.85it/s]\u001b[A\n",
            " 87%|████████▋ | 2439/2808 [00:59<00:08, 42.10it/s]\u001b[A\n",
            " 87%|████████▋ | 2444/2808 [00:59<00:08, 42.18it/s]\u001b[A\n",
            " 87%|████████▋ | 2449/2808 [00:59<00:08, 42.14it/s]\u001b[A\n",
            " 87%|████████▋ | 2454/2808 [01:00<00:08, 42.06it/s]\u001b[A\n",
            " 88%|████████▊ | 2459/2808 [01:00<00:08, 41.96it/s]\u001b[A\n",
            " 88%|████████▊ | 2464/2808 [01:00<00:08, 41.90it/s]\u001b[A\n",
            " 88%|████████▊ | 2469/2808 [01:00<00:08, 42.09it/s]\u001b[A\n",
            " 88%|████████▊ | 2474/2808 [01:00<00:07, 42.17it/s]\u001b[A\n",
            " 88%|████████▊ | 2479/2808 [01:00<00:07, 42.25it/s]\u001b[A\n",
            " 88%|████████▊ | 2484/2808 [01:00<00:07, 42.27it/s]\u001b[A\n",
            " 89%|████████▊ | 2489/2808 [01:00<00:07, 42.25it/s]\u001b[A\n",
            " 89%|████████▉ | 2494/2808 [01:01<00:07, 41.83it/s]\u001b[A\n",
            " 89%|████████▉ | 2499/2808 [01:01<00:07, 41.92it/s]\u001b[A\n",
            " 89%|████████▉ | 2504/2808 [01:01<00:07, 42.04it/s]\u001b[A\n",
            " 89%|████████▉ | 2509/2808 [01:01<00:07, 42.01it/s]\u001b[A"
          ],
          "name": "stderr"
        },
        {
          "output_type": "stream",
          "text": [
            "| epoch   1 |  2500/ 2808 batches | lr 0.00 | loss  5.63 | ppl   279.58\n"
          ],
          "name": "stdout"
        },
        {
          "output_type": "stream",
          "text": [
            "\n",
            " 90%|████████▉ | 2514/2808 [01:01<00:07, 41.76it/s]\u001b[A\n",
            " 90%|████████▉ | 2519/2808 [01:01<00:06, 41.93it/s]\u001b[A\n",
            " 90%|████████▉ | 2524/2808 [01:01<00:06, 41.95it/s]\u001b[A\n",
            " 90%|█████████ | 2529/2808 [01:01<00:06, 42.04it/s]\u001b[A\n",
            " 90%|█████████ | 2534/2808 [01:02<00:06, 42.03it/s]\u001b[A\n",
            " 90%|█████████ | 2539/2808 [01:02<00:06, 41.73it/s]\u001b[A\n",
            " 91%|█████████ | 2544/2808 [01:02<00:06, 41.89it/s]\u001b[A\n",
            " 91%|█████████ | 2549/2808 [01:02<00:06, 41.70it/s]\u001b[A\n",
            " 91%|█████████ | 2554/2808 [01:02<00:06, 41.88it/s]\u001b[A\n",
            " 91%|█████████ | 2559/2808 [01:02<00:05, 41.95it/s]\u001b[A\n",
            " 91%|█████████▏| 2564/2808 [01:02<00:05, 42.04it/s]\u001b[A\n",
            " 91%|█████████▏| 2569/2808 [01:02<00:05, 41.69it/s]\u001b[A\n",
            " 92%|█████████▏| 2574/2808 [01:02<00:05, 41.81it/s]\u001b[A\n",
            " 92%|█████████▏| 2579/2808 [01:03<00:05, 41.63it/s]\u001b[A\n",
            " 92%|█████████▏| 2584/2808 [01:03<00:05, 41.85it/s]\u001b[A\n",
            " 92%|█████████▏| 2589/2808 [01:03<00:05, 42.02it/s]\u001b[A\n",
            " 92%|█████████▏| 2594/2808 [01:03<00:05, 41.99it/s]\u001b[A\n",
            " 93%|█████████▎| 2599/2808 [01:03<00:04, 42.17it/s]\u001b[A\n",
            " 93%|█████████▎| 2604/2808 [01:03<00:04, 42.16it/s]\u001b[A\n",
            " 93%|█████████▎| 2609/2808 [01:03<00:04, 41.86it/s]\u001b[A"
          ],
          "name": "stderr"
        },
        {
          "output_type": "stream",
          "text": [
            "| epoch   1 |  2600/ 2808 batches | lr 0.00 | loss  5.63 | ppl   279.57\n"
          ],
          "name": "stdout"
        },
        {
          "output_type": "stream",
          "text": [
            "\n",
            " 93%|█████████▎| 2614/2808 [01:03<00:04, 41.99it/s]\u001b[A\n",
            " 93%|█████████▎| 2619/2808 [01:04<00:04, 42.14it/s]\u001b[A\n",
            " 93%|█████████▎| 2624/2808 [01:04<00:04, 41.89it/s]\u001b[A\n",
            " 94%|█████████▎| 2629/2808 [01:04<00:04, 42.03it/s]\u001b[A\n",
            " 94%|█████████▍| 2634/2808 [01:04<00:04, 41.82it/s]\u001b[A\n",
            " 94%|█████████▍| 2639/2808 [01:04<00:04, 41.87it/s]\u001b[A\n",
            " 94%|█████████▍| 2644/2808 [01:04<00:03, 42.00it/s]\u001b[A\n",
            " 94%|█████████▍| 2649/2808 [01:04<00:03, 41.60it/s]\u001b[A\n",
            " 95%|█████████▍| 2654/2808 [01:04<00:03, 41.52it/s]\u001b[A\n",
            " 95%|█████████▍| 2659/2808 [01:04<00:03, 41.49it/s]\u001b[A\n",
            " 95%|█████████▍| 2664/2808 [01:05<00:03, 41.63it/s]\u001b[A\n",
            " 95%|█████████▌| 2669/2808 [01:05<00:03, 41.87it/s]\u001b[A\n",
            " 95%|█████████▌| 2674/2808 [01:05<00:03, 41.91it/s]\u001b[A\n",
            " 95%|█████████▌| 2679/2808 [01:05<00:03, 41.97it/s]\u001b[A\n",
            " 96%|█████████▌| 2684/2808 [01:05<00:02, 42.03it/s]\u001b[A\n",
            " 96%|█████████▌| 2689/2808 [01:05<00:02, 41.86it/s]\u001b[A\n",
            " 96%|█████████▌| 2694/2808 [01:05<00:02, 41.86it/s]\u001b[A\n",
            " 96%|█████████▌| 2699/2808 [01:05<00:02, 41.97it/s]\u001b[A\n",
            " 96%|█████████▋| 2704/2808 [01:06<00:02, 41.74it/s]\u001b[A\n",
            " 96%|█████████▋| 2709/2808 [01:06<00:02, 41.95it/s]\u001b[A"
          ],
          "name": "stderr"
        },
        {
          "output_type": "stream",
          "text": [
            "| epoch   1 |  2700/ 2808 batches | lr 0.00 | loss  5.63 | ppl   279.66\n"
          ],
          "name": "stdout"
        },
        {
          "output_type": "stream",
          "text": [
            "\n",
            " 97%|█████████▋| 2714/2808 [01:06<00:02, 41.97it/s]\u001b[A\n",
            " 97%|█████████▋| 2719/2808 [01:06<00:02, 41.72it/s]\u001b[A\n",
            " 97%|█████████▋| 2724/2808 [01:06<00:02, 41.35it/s]\u001b[A\n",
            " 97%|█████████▋| 2729/2808 [01:06<00:01, 41.67it/s]\u001b[A\n",
            " 97%|█████████▋| 2734/2808 [01:06<00:01, 41.68it/s]\u001b[A\n",
            " 98%|█████████▊| 2739/2808 [01:06<00:01, 41.67it/s]\u001b[A\n",
            " 98%|█████████▊| 2744/2808 [01:07<00:01, 41.59it/s]\u001b[A\n",
            " 98%|█████████▊| 2749/2808 [01:07<00:01, 41.36it/s]\u001b[A\n",
            " 98%|█████████▊| 2754/2808 [01:07<00:01, 41.62it/s]\u001b[A\n",
            " 98%|█████████▊| 2759/2808 [01:07<00:01, 41.47it/s]\u001b[A\n",
            " 98%|█████████▊| 2764/2808 [01:07<00:01, 41.43it/s]\u001b[A\n",
            " 99%|█████████▊| 2769/2808 [01:07<00:00, 41.42it/s]\u001b[A\n",
            " 99%|█████████▉| 2774/2808 [01:07<00:00, 41.72it/s]\u001b[A\n",
            " 99%|█████████▉| 2779/2808 [01:07<00:00, 41.86it/s]\u001b[A\n",
            " 99%|█████████▉| 2784/2808 [01:07<00:00, 42.04it/s]\u001b[A\n",
            " 99%|█████████▉| 2789/2808 [01:08<00:00, 42.16it/s]\u001b[A\n",
            "100%|█████████▉| 2794/2808 [01:08<00:00, 41.82it/s]\u001b[A\n",
            "100%|█████████▉| 2799/2808 [01:08<00:00, 41.78it/s]\u001b[A\n",
            "100%|██████████| 2808/2808 [01:08<00:00, 40.96it/s]\n",
            "\n",
            "  0%|          | 0/292 [00:00<?, ?it/s]\u001b[A"
          ],
          "name": "stderr"
        },
        {
          "output_type": "stream",
          "text": [
            "| epoch   1 |  2800/ 2808 batches | lr 0.00 | loss  5.63 | ppl   279.57\n"
          ],
          "name": "stdout"
        },
        {
          "output_type": "stream",
          "text": [
            "\n",
            "  0%|          | 1/292 [00:00<00:40,  7.22it/s]\u001b[A\n",
            " 10%|█         | 30/292 [00:00<00:25, 10.21it/s]\u001b[A\n",
            " 21%|██        | 60/292 [00:00<00:16, 14.37it/s]\u001b[A\n",
            " 31%|███       | 90/292 [00:00<00:10, 20.11it/s]\u001b[A\n",
            " 41%|████      | 119/292 [00:00<00:06, 27.89it/s]\u001b[A\n",
            " 51%|█████     | 149/292 [00:00<00:03, 38.30it/s]\u001b[A\n",
            " 61%|██████▏   | 179/292 [00:00<00:02, 51.82it/s]\u001b[A\n",
            " 72%|███████▏  | 209/292 [00:00<00:01, 68.83it/s]\u001b[A\n",
            " 82%|████████▏ | 238/292 [00:00<00:00, 89.15it/s]\u001b[A\n",
            "100%|██████████| 292/292 [00:01<00:00, 255.50it/s]\n",
            "\n",
            "  0%|          | 0/2808 [00:00<?, ?it/s]\u001b[A"
          ],
          "name": "stderr"
        },
        {
          "output_type": "stream",
          "text": [
            "-----------------------------------------------------------------------------------------\n",
            "| end of epoch   1 | valid loss  5.63 | valid ppl   279.50\n",
            "-----------------------------------------------------------------------------------------\n",
            "sample:\n",
            " β‑Bه'→СT8ćγั〉#£\\VŁვq-â्5[ų>Q$Ö჻šO£Bス°ńT°qM〈ณ6ỳ﻿í~í \n",
            "\n"
          ],
          "name": "stdout"
        },
        {
          "output_type": "stream",
          "text": [
            "\n",
            "  0%|          | 1/2808 [00:01<1:02:11,  1.33s/it]\u001b[A\n",
            "  0%|          | 6/2808 [00:01<43:47,  1.07it/s]  \u001b[A\n",
            "  0%|          | 11/2808 [00:01<30:55,  1.51it/s]\u001b[A\n",
            "  1%|          | 16/2808 [00:01<21:56,  2.12it/s]\u001b[A\n",
            "  1%|          | 21/2808 [00:01<15:39,  2.97it/s]\u001b[A\n",
            "  1%|          | 26/2808 [00:01<11:16,  4.11it/s]\u001b[A\n",
            "  1%|          | 31/2808 [00:02<08:12,  5.64it/s]\u001b[A\n",
            "  1%|▏         | 36/2808 [00:02<06:04,  7.61it/s]\u001b[A\n",
            "  1%|▏         | 41/2808 [00:02<04:34, 10.08it/s]\u001b[A\n",
            "  2%|▏         | 46/2808 [00:02<03:31, 13.05it/s]\u001b[A\n",
            "  2%|▏         | 51/2808 [00:02<02:48, 16.40it/s]\u001b[A\n",
            "  2%|▏         | 56/2808 [00:02<02:17, 20.09it/s]\u001b[A\n",
            "  2%|▏         | 61/2808 [00:02<01:55, 23.71it/s]\u001b[A\n",
            "  2%|▏         | 66/2808 [00:02<01:41, 27.07it/s]\u001b[A\n",
            "  3%|▎         | 71/2808 [00:03<01:30, 30.08it/s]\u001b[A\n",
            "  3%|▎         | 76/2808 [00:03<01:23, 32.88it/s]\u001b[A\n",
            "  3%|▎         | 81/2808 [00:03<01:17, 35.01it/s]\u001b[A\n",
            "  3%|▎         | 86/2808 [00:03<01:14, 36.72it/s]\u001b[A\n",
            "  3%|▎         | 91/2808 [00:03<01:11, 37.89it/s]\u001b[A\n",
            "  3%|▎         | 96/2808 [00:03<01:10, 38.72it/s]\u001b[A\n",
            "  4%|▎         | 101/2808 [00:03<01:08, 39.74it/s]\u001b[A\n",
            "  4%|▍         | 106/2808 [00:03<01:07, 40.21it/s]\u001b[A"
          ],
          "name": "stderr"
        },
        {
          "output_type": "stream",
          "text": [
            "| epoch   2 |   100/ 2808 batches | lr 0.00 | loss  5.69 | ppl   295.85\n"
          ],
          "name": "stdout"
        },
        {
          "output_type": "stream",
          "text": [
            "\n",
            "  4%|▍         | 111/2808 [00:03<01:06, 40.75it/s]\u001b[A\n",
            "  4%|▍         | 116/2808 [00:04<01:05, 41.17it/s]\u001b[A\n",
            "  4%|▍         | 121/2808 [00:04<01:04, 41.45it/s]\u001b[A\n",
            "  4%|▍         | 126/2808 [00:04<01:04, 41.34it/s]\u001b[A\n",
            "  5%|▍         | 131/2808 [00:04<01:04, 41.51it/s]\u001b[A\n",
            "  5%|▍         | 136/2808 [00:04<01:03, 41.79it/s]\u001b[A\n",
            "  5%|▌         | 141/2808 [00:04<01:04, 41.61it/s]\u001b[A\n",
            "  5%|▌         | 146/2808 [00:04<01:03, 41.92it/s]\u001b[A\n",
            "  5%|▌         | 151/2808 [00:04<01:03, 41.90it/s]\u001b[A\n",
            "  6%|▌         | 156/2808 [00:05<01:03, 41.64it/s]\u001b[A\n",
            "  6%|▌         | 161/2808 [00:05<01:03, 41.74it/s]\u001b[A\n",
            "  6%|▌         | 166/2808 [00:05<01:02, 42.00it/s]\u001b[A\n",
            "  6%|▌         | 171/2808 [00:05<01:02, 42.01it/s]\u001b[A\n",
            "  6%|▋         | 176/2808 [00:05<01:03, 41.71it/s]\u001b[A\n",
            "  6%|▋         | 181/2808 [00:05<01:03, 41.55it/s]\u001b[A\n",
            "  7%|▋         | 186/2808 [00:05<01:02, 41.85it/s]\u001b[A\n",
            "  7%|▋         | 191/2808 [00:05<01:02, 41.96it/s]\u001b[A\n",
            "  7%|▋         | 196/2808 [00:06<01:01, 42.15it/s]\u001b[A\n",
            "  7%|▋         | 201/2808 [00:06<01:01, 42.17it/s]\u001b[A\n",
            "  7%|▋         | 206/2808 [00:06<01:01, 42.11it/s]\u001b[A"
          ],
          "name": "stderr"
        },
        {
          "output_type": "stream",
          "text": [
            "| epoch   2 |   200/ 2808 batches | lr 0.00 | loss  5.63 | ppl   279.61\n"
          ],
          "name": "stdout"
        },
        {
          "output_type": "stream",
          "text": [
            "\n",
            "  8%|▊         | 211/2808 [00:06<01:01, 42.18it/s]\u001b[A\n",
            "  8%|▊         | 216/2808 [00:06<01:01, 41.82it/s]\u001b[A\n",
            "  8%|▊         | 221/2808 [00:06<01:02, 41.43it/s]\u001b[A\n",
            "  8%|▊         | 226/2808 [00:06<01:01, 41.80it/s]\u001b[A\n",
            "  8%|▊         | 231/2808 [00:06<01:01, 41.64it/s]\u001b[A\n",
            "  8%|▊         | 236/2808 [00:06<01:02, 41.38it/s]\u001b[A\n",
            "  9%|▊         | 241/2808 [00:07<01:01, 41.51it/s]\u001b[A\n",
            "  9%|▉         | 246/2808 [00:07<01:01, 41.38it/s]\u001b[A\n",
            "  9%|▉         | 251/2808 [00:07<01:02, 41.14it/s]\u001b[A\n",
            "  9%|▉         | 256/2808 [00:07<01:01, 41.50it/s]\u001b[A\n",
            "  9%|▉         | 261/2808 [00:07<01:01, 41.36it/s]\u001b[A\n",
            "  9%|▉         | 266/2808 [00:07<01:01, 41.27it/s]\u001b[A\n",
            " 10%|▉         | 271/2808 [00:07<01:00, 41.64it/s]\u001b[A\n",
            " 10%|▉         | 276/2808 [00:07<01:00, 41.86it/s]\u001b[A\n",
            " 10%|█         | 281/2808 [00:08<01:00, 41.94it/s]\u001b[A\n",
            " 10%|█         | 286/2808 [00:08<01:00, 41.89it/s]\u001b[A\n",
            " 10%|█         | 291/2808 [00:08<00:59, 41.97it/s]\u001b[A\n",
            " 11%|█         | 296/2808 [00:08<00:59, 42.03it/s]\u001b[A\n",
            " 11%|█         | 301/2808 [00:08<01:00, 41.69it/s]\u001b[A\n",
            " 11%|█         | 306/2808 [00:08<01:00, 41.41it/s]\u001b[A"
          ],
          "name": "stderr"
        },
        {
          "output_type": "stream",
          "text": [
            "| epoch   2 |   300/ 2808 batches | lr 0.00 | loss  5.63 | ppl   279.53\n"
          ],
          "name": "stdout"
        },
        {
          "output_type": "stream",
          "text": [
            "\n",
            " 11%|█         | 311/2808 [00:08<01:00, 41.58it/s]\u001b[A\n",
            " 11%|█▏        | 316/2808 [00:08<00:59, 41.72it/s]\u001b[A\n",
            " 11%|█▏        | 321/2808 [00:09<01:00, 41.39it/s]\u001b[A\n",
            " 12%|█▏        | 326/2808 [00:09<00:59, 41.63it/s]\u001b[A\n",
            " 12%|█▏        | 331/2808 [00:09<00:59, 41.75it/s]\u001b[A\n",
            " 12%|█▏        | 336/2808 [00:09<00:59, 41.64it/s]\u001b[A\n",
            " 12%|█▏        | 341/2808 [00:09<00:58, 41.86it/s]\u001b[A\n",
            " 12%|█▏        | 346/2808 [00:09<00:58, 42.05it/s]\u001b[A\n",
            " 12%|█▎        | 351/2808 [00:09<00:58, 41.79it/s]\u001b[A\n",
            " 13%|█▎        | 356/2808 [00:09<00:58, 41.96it/s]\u001b[A\n",
            " 13%|█▎        | 361/2808 [00:09<00:58, 41.58it/s]\u001b[A\n",
            " 13%|█▎        | 366/2808 [00:10<00:58, 41.62it/s]\u001b[A\n",
            " 13%|█▎        | 371/2808 [00:10<00:58, 41.46it/s]\u001b[A\n",
            " 13%|█▎        | 376/2808 [00:10<00:58, 41.69it/s]\u001b[A\n",
            " 14%|█▎        | 381/2808 [00:10<00:58, 41.63it/s]\u001b[A\n",
            " 14%|█▎        | 386/2808 [00:10<00:58, 41.63it/s]\u001b[A\n",
            " 14%|█▍        | 391/2808 [00:10<00:57, 41.82it/s]\u001b[A\n",
            " 14%|█▍        | 396/2808 [00:10<00:57, 41.97it/s]\u001b[A\n",
            " 14%|█▍        | 401/2808 [00:10<00:57, 41.58it/s]\u001b[A\n",
            " 14%|█▍        | 406/2808 [00:11<00:58, 41.39it/s]\u001b[A"
          ],
          "name": "stderr"
        },
        {
          "output_type": "stream",
          "text": [
            "| epoch   2 |   400/ 2808 batches | lr 0.00 | loss  5.63 | ppl   279.54\n"
          ],
          "name": "stdout"
        },
        {
          "output_type": "stream",
          "text": [
            "\n",
            " 15%|█▍        | 411/2808 [00:11<00:57, 41.53it/s]\u001b[A\n",
            " 15%|█▍        | 416/2808 [00:11<00:57, 41.65it/s]\u001b[A\n",
            " 15%|█▍        | 421/2808 [00:11<00:56, 41.93it/s]\u001b[A\n",
            " 15%|█▌        | 426/2808 [00:11<00:57, 41.67it/s]\u001b[A\n",
            " 15%|█▌        | 431/2808 [00:11<00:56, 41.96it/s]\u001b[A\n",
            " 16%|█▌        | 436/2808 [00:11<00:56, 42.08it/s]\u001b[A\n",
            " 16%|█▌        | 441/2808 [00:11<00:56, 42.21it/s]\u001b[A\n",
            " 16%|█▌        | 446/2808 [00:11<00:56, 41.86it/s]\u001b[A\n",
            " 16%|█▌        | 451/2808 [00:12<00:56, 41.61it/s]\u001b[A\n",
            " 16%|█▌        | 456/2808 [00:12<00:56, 41.73it/s]\u001b[A\n",
            " 16%|█▋        | 461/2808 [00:12<00:56, 41.84it/s]\u001b[A\n",
            " 17%|█▋        | 466/2808 [00:12<00:55, 41.82it/s]\u001b[A\n",
            " 17%|█▋        | 471/2808 [00:12<00:55, 41.86it/s]\u001b[A\n",
            " 17%|█▋        | 476/2808 [00:12<00:55, 41.72it/s]\u001b[A\n",
            " 17%|█▋        | 481/2808 [00:12<00:55, 41.63it/s]\u001b[A\n",
            " 17%|█▋        | 486/2808 [00:12<00:56, 41.40it/s]\u001b[A\n",
            " 17%|█▋        | 491/2808 [00:13<00:56, 41.14it/s]\u001b[A\n",
            " 18%|█▊        | 496/2808 [00:13<00:55, 41.47it/s]\u001b[A\n",
            " 18%|█▊        | 501/2808 [00:13<00:55, 41.78it/s]\u001b[A\n",
            " 18%|█▊        | 506/2808 [00:13<00:55, 41.82it/s]\u001b[A"
          ],
          "name": "stderr"
        },
        {
          "output_type": "stream",
          "text": [
            "| epoch   2 |   500/ 2808 batches | lr 0.00 | loss  5.63 | ppl   279.58\n"
          ],
          "name": "stdout"
        },
        {
          "output_type": "stream",
          "text": [
            "\n",
            " 18%|█▊        | 511/2808 [00:13<00:54, 41.93it/s]\u001b[A\n",
            " 18%|█▊        | 516/2808 [00:13<00:55, 41.59it/s]\u001b[A\n",
            " 19%|█▊        | 521/2808 [00:13<00:55, 41.55it/s]\u001b[A\n",
            " 19%|█▊        | 526/2808 [00:13<00:55, 41.42it/s]\u001b[A\n",
            " 19%|█▉        | 531/2808 [00:14<00:54, 41.75it/s]\u001b[A\n",
            " 19%|█▉        | 536/2808 [00:14<00:54, 41.86it/s]\u001b[A\n",
            " 19%|█▉        | 541/2808 [00:14<00:53, 42.06it/s]\u001b[A\n",
            " 19%|█▉        | 546/2808 [00:14<00:53, 41.90it/s]\u001b[A\n",
            " 20%|█▉        | 551/2808 [00:14<00:53, 41.82it/s]\u001b[A\n",
            " 20%|█▉        | 556/2808 [00:14<00:53, 42.04it/s]\u001b[A\n",
            " 20%|█▉        | 561/2808 [00:14<00:53, 41.67it/s]\u001b[A\n",
            " 20%|██        | 566/2808 [00:14<00:53, 41.92it/s]\u001b[A\n",
            " 20%|██        | 571/2808 [00:14<00:53, 41.47it/s]\u001b[A\n",
            " 21%|██        | 576/2808 [00:15<00:53, 41.48it/s]\u001b[A\n",
            " 21%|██        | 581/2808 [00:15<00:53, 41.67it/s]\u001b[A\n",
            " 21%|██        | 586/2808 [00:15<00:53, 41.56it/s]\u001b[A\n",
            " 21%|██        | 591/2808 [00:15<00:53, 41.31it/s]\u001b[A\n",
            " 21%|██        | 596/2808 [00:15<00:53, 41.63it/s]\u001b[A\n",
            " 21%|██▏       | 601/2808 [00:15<00:53, 41.42it/s]\u001b[A\n",
            " 22%|██▏       | 606/2808 [00:15<00:53, 41.34it/s]\u001b[A"
          ],
          "name": "stderr"
        },
        {
          "output_type": "stream",
          "text": [
            "| epoch   2 |   600/ 2808 batches | lr 0.00 | loss  5.63 | ppl   279.58\n"
          ],
          "name": "stdout"
        },
        {
          "output_type": "stream",
          "text": [
            "\n",
            " 22%|██▏       | 611/2808 [00:15<00:53, 41.33it/s]\u001b[A\n",
            " 22%|██▏       | 616/2808 [00:16<00:52, 41.39it/s]\u001b[A\n",
            " 22%|██▏       | 621/2808 [00:16<00:52, 41.56it/s]\u001b[A\n",
            " 22%|██▏       | 626/2808 [00:16<00:52, 41.86it/s]\u001b[A\n",
            " 22%|██▏       | 631/2808 [00:16<00:51, 42.05it/s]\u001b[A\n",
            " 23%|██▎       | 636/2808 [00:16<00:51, 42.13it/s]\u001b[A\n",
            " 23%|██▎       | 641/2808 [00:16<00:51, 41.86it/s]\u001b[A\n",
            " 23%|██▎       | 646/2808 [00:16<00:51, 41.90it/s]\u001b[A\n",
            " 23%|██▎       | 651/2808 [00:16<00:51, 42.08it/s]\u001b[A\n",
            " 23%|██▎       | 656/2808 [00:17<00:51, 42.04it/s]\u001b[A\n",
            " 24%|██▎       | 661/2808 [00:17<00:50, 42.22it/s]\u001b[A\n",
            " 24%|██▎       | 666/2808 [00:17<00:50, 42.17it/s]\u001b[A\n",
            " 24%|██▍       | 671/2808 [00:17<00:50, 42.25it/s]\u001b[A\n",
            " 24%|██▍       | 676/2808 [00:17<00:50, 42.08it/s]\u001b[A\n",
            " 24%|██▍       | 681/2808 [00:17<00:50, 41.99it/s]\u001b[A\n",
            " 24%|██▍       | 686/2808 [00:17<00:50, 42.16it/s]\u001b[A\n",
            " 25%|██▍       | 691/2808 [00:17<00:50, 42.21it/s]\u001b[A\n",
            " 25%|██▍       | 696/2808 [00:17<00:49, 42.32it/s]\u001b[A\n",
            " 25%|██▍       | 701/2808 [00:18<00:50, 41.69it/s]\u001b[A\n",
            " 25%|██▌       | 706/2808 [00:18<00:50, 41.54it/s]\u001b[A"
          ],
          "name": "stderr"
        },
        {
          "output_type": "stream",
          "text": [
            "| epoch   2 |   700/ 2808 batches | lr 0.00 | loss  5.63 | ppl   279.65\n"
          ],
          "name": "stdout"
        },
        {
          "output_type": "stream",
          "text": [
            "\n",
            " 25%|██▌       | 711/2808 [00:18<00:50, 41.76it/s]\u001b[A\n",
            " 25%|██▌       | 716/2808 [00:18<00:50, 41.53it/s]\u001b[A\n",
            " 26%|██▌       | 721/2808 [00:18<00:50, 41.68it/s]\u001b[A\n",
            " 26%|██▌       | 726/2808 [00:18<00:49, 41.96it/s]\u001b[A\n",
            " 26%|██▌       | 731/2808 [00:18<00:49, 42.13it/s]\u001b[A\n",
            " 26%|██▌       | 736/2808 [00:18<00:49, 42.28it/s]\u001b[A\n",
            " 26%|██▋       | 741/2808 [00:19<00:49, 41.87it/s]\u001b[A\n",
            " 27%|██▋       | 746/2808 [00:19<00:49, 41.86it/s]\u001b[A\n",
            " 27%|██▋       | 751/2808 [00:19<00:49, 41.61it/s]\u001b[A\n",
            " 27%|██▋       | 756/2808 [00:19<00:48, 41.92it/s]\u001b[A\n",
            " 27%|██▋       | 761/2808 [00:19<00:49, 41.61it/s]\u001b[A\n",
            " 27%|██▋       | 766/2808 [00:19<00:48, 41.80it/s]\u001b[A\n",
            " 27%|██▋       | 771/2808 [00:19<00:48, 41.87it/s]\u001b[A\n",
            " 28%|██▊       | 776/2808 [00:19<00:48, 41.74it/s]\u001b[A\n",
            " 28%|██▊       | 781/2808 [00:20<00:48, 41.44it/s]\u001b[A\n",
            " 28%|██▊       | 786/2808 [00:20<00:49, 41.08it/s]\u001b[A\n",
            " 28%|██▊       | 791/2808 [00:20<00:48, 41.43it/s]\u001b[A\n",
            " 28%|██▊       | 796/2808 [00:20<00:48, 41.37it/s]\u001b[A\n",
            " 29%|██▊       | 801/2808 [00:20<00:48, 41.67it/s]\u001b[A\n",
            " 29%|██▊       | 806/2808 [00:20<00:48, 41.51it/s]\u001b[A"
          ],
          "name": "stderr"
        },
        {
          "output_type": "stream",
          "text": [
            "| epoch   2 |   800/ 2808 batches | lr 0.00 | loss  5.63 | ppl   279.58\n"
          ],
          "name": "stdout"
        },
        {
          "output_type": "stream",
          "text": [
            "\n",
            " 29%|██▉       | 811/2808 [00:20<00:48, 41.41it/s]\u001b[A\n",
            " 29%|██▉       | 816/2808 [00:20<00:47, 41.76it/s]\u001b[A\n",
            " 29%|██▉       | 821/2808 [00:20<00:47, 41.65it/s]\u001b[A\n",
            " 29%|██▉       | 826/2808 [00:21<00:47, 41.85it/s]\u001b[A\n",
            " 30%|██▉       | 831/2808 [00:21<00:47, 42.00it/s]\u001b[A\n",
            " 30%|██▉       | 836/2808 [00:21<00:47, 41.75it/s]\u001b[A\n",
            " 30%|██▉       | 841/2808 [00:21<00:46, 41.94it/s]\u001b[A\n",
            " 30%|███       | 846/2808 [00:21<00:47, 41.64it/s]\u001b[A\n",
            " 30%|███       | 851/2808 [00:21<00:46, 41.96it/s]\u001b[A\n",
            " 30%|███       | 856/2808 [00:21<00:46, 42.13it/s]\u001b[A\n",
            " 31%|███       | 861/2808 [00:21<00:46, 41.89it/s]\u001b[A\n",
            " 31%|███       | 866/2808 [00:22<00:46, 41.75it/s]\u001b[A\n",
            " 31%|███       | 871/2808 [00:22<00:46, 41.34it/s]\u001b[A\n",
            " 31%|███       | 876/2808 [00:22<00:46, 41.25it/s]\u001b[A\n",
            " 31%|███▏      | 881/2808 [00:22<00:46, 41.40it/s]\u001b[A\n",
            " 32%|███▏      | 886/2808 [00:22<00:46, 41.76it/s]\u001b[A\n",
            " 32%|███▏      | 891/2808 [00:22<00:46, 41.59it/s]\u001b[A\n",
            " 32%|███▏      | 896/2808 [00:22<00:45, 41.57it/s]\u001b[A\n",
            " 32%|███▏      | 901/2808 [00:22<00:45, 41.52it/s]\u001b[A\n",
            " 32%|███▏      | 906/2808 [00:23<00:45, 41.68it/s]\u001b[A"
          ],
          "name": "stderr"
        },
        {
          "output_type": "stream",
          "text": [
            "| epoch   2 |   900/ 2808 batches | lr 0.00 | loss  5.63 | ppl   279.58\n"
          ],
          "name": "stdout"
        },
        {
          "output_type": "stream",
          "text": [
            "\n",
            " 32%|███▏      | 911/2808 [00:23<00:45, 41.70it/s]\u001b[A\n",
            " 33%|███▎      | 916/2808 [00:23<00:45, 41.64it/s]\u001b[A\n",
            " 33%|███▎      | 921/2808 [00:23<00:45, 41.74it/s]\u001b[A\n",
            " 33%|███▎      | 926/2808 [00:23<00:45, 41.76it/s]\u001b[A\n",
            " 33%|███▎      | 931/2808 [00:23<00:45, 41.53it/s]\u001b[A\n",
            " 33%|███▎      | 936/2808 [00:23<00:44, 41.70it/s]\u001b[A\n",
            " 34%|███▎      | 941/2808 [00:23<00:44, 41.59it/s]\u001b[A\n",
            " 34%|███▎      | 946/2808 [00:23<00:45, 41.38it/s]\u001b[A\n",
            " 34%|███▍      | 951/2808 [00:24<00:44, 41.57it/s]\u001b[A\n",
            " 34%|███▍      | 956/2808 [00:24<00:44, 41.45it/s]\u001b[A\n",
            " 34%|███▍      | 961/2808 [00:24<00:44, 41.68it/s]\u001b[A\n",
            " 34%|███▍      | 966/2808 [00:24<00:44, 41.71it/s]\u001b[A\n",
            " 35%|███▍      | 971/2808 [00:24<00:44, 41.69it/s]\u001b[A\n",
            " 35%|███▍      | 976/2808 [00:24<00:44, 41.51it/s]\u001b[A\n",
            " 35%|███▍      | 981/2808 [00:24<00:43, 41.78it/s]\u001b[A\n",
            " 35%|███▌      | 986/2808 [00:24<00:44, 41.33it/s]\u001b[A\n",
            " 35%|███▌      | 991/2808 [00:25<00:43, 41.45it/s]\u001b[A\n",
            " 35%|███▌      | 996/2808 [00:25<00:44, 41.12it/s]\u001b[A\n",
            " 36%|███▌      | 1001/2808 [00:25<00:43, 41.16it/s]\u001b[A\n",
            " 36%|███▌      | 1006/2808 [00:25<00:43, 41.44it/s]\u001b[A"
          ],
          "name": "stderr"
        },
        {
          "output_type": "stream",
          "text": [
            "| epoch   2 |  1000/ 2808 batches | lr 0.00 | loss  5.63 | ppl   279.62\n"
          ],
          "name": "stdout"
        },
        {
          "output_type": "stream",
          "text": [
            "\n",
            " 36%|███▌      | 1011/2808 [00:25<00:43, 41.17it/s]\u001b[A\n",
            " 36%|███▌      | 1016/2808 [00:25<00:43, 41.06it/s]\u001b[A\n",
            " 36%|███▋      | 1021/2808 [00:25<00:43, 41.11it/s]\u001b[A\n",
            " 37%|███▋      | 1026/2808 [00:25<00:43, 41.43it/s]\u001b[A\n",
            " 37%|███▋      | 1031/2808 [00:26<00:42, 41.70it/s]\u001b[A\n",
            " 37%|███▋      | 1036/2808 [00:26<00:42, 41.67it/s]\u001b[A\n",
            " 37%|███▋      | 1041/2808 [00:26<00:42, 41.69it/s]\u001b[A\n",
            " 37%|███▋      | 1046/2808 [00:26<00:42, 41.77it/s]\u001b[A\n",
            " 37%|███▋      | 1051/2808 [00:26<00:42, 41.83it/s]\u001b[A\n",
            " 38%|███▊      | 1056/2808 [00:26<00:42, 41.60it/s]\u001b[A\n",
            " 38%|███▊      | 1061/2808 [00:26<00:42, 41.47it/s]\u001b[A\n",
            " 38%|███▊      | 1066/2808 [00:26<00:41, 41.79it/s]\u001b[A\n",
            " 38%|███▊      | 1071/2808 [00:26<00:41, 41.55it/s]\u001b[A\n",
            " 38%|███▊      | 1076/2808 [00:27<00:41, 41.26it/s]\u001b[A\n",
            " 38%|███▊      | 1081/2808 [00:27<00:41, 41.65it/s]\u001b[A\n",
            " 39%|███▊      | 1086/2808 [00:27<00:41, 41.84it/s]\u001b[A\n",
            " 39%|███▉      | 1091/2808 [00:27<00:41, 41.53it/s]\u001b[A\n",
            " 39%|███▉      | 1096/2808 [00:27<00:41, 41.46it/s]\u001b[A\n",
            " 39%|███▉      | 1101/2808 [00:27<00:41, 41.31it/s]\u001b[A\n",
            " 39%|███▉      | 1106/2808 [00:27<00:41, 41.33it/s]\u001b[A"
          ],
          "name": "stderr"
        },
        {
          "output_type": "stream",
          "text": [
            "| epoch   2 |  1100/ 2808 batches | lr 0.00 | loss  5.63 | ppl   279.62\n"
          ],
          "name": "stdout"
        },
        {
          "output_type": "stream",
          "text": [
            "\n",
            " 40%|███▉      | 1111/2808 [00:27<00:40, 41.72it/s]\u001b[A\n",
            " 40%|███▉      | 1116/2808 [00:28<00:40, 41.70it/s]\u001b[A\n",
            " 40%|███▉      | 1121/2808 [00:28<00:40, 41.28it/s]\u001b[A\n",
            " 40%|████      | 1126/2808 [00:28<00:40, 41.23it/s]\u001b[A\n",
            " 40%|████      | 1131/2808 [00:28<00:40, 41.48it/s]\u001b[A\n",
            " 40%|████      | 1136/2808 [00:28<00:40, 41.74it/s]\u001b[A\n",
            " 41%|████      | 1141/2808 [00:28<00:40, 41.53it/s]\u001b[A\n",
            " 41%|████      | 1146/2808 [00:28<00:39, 41.80it/s]\u001b[A\n",
            " 41%|████      | 1151/2808 [00:28<00:39, 41.80it/s]\u001b[A\n",
            " 41%|████      | 1156/2808 [00:29<00:39, 41.88it/s]\u001b[A\n",
            " 41%|████▏     | 1161/2808 [00:29<00:39, 41.41it/s]\u001b[A\n",
            " 42%|████▏     | 1166/2808 [00:29<00:39, 41.26it/s]\u001b[A\n",
            " 42%|████▏     | 1171/2808 [00:29<00:40, 40.80it/s]\u001b[A\n",
            " 42%|████▏     | 1176/2808 [00:29<00:39, 40.87it/s]\u001b[A\n",
            " 42%|████▏     | 1181/2808 [00:29<00:39, 41.28it/s]\u001b[A\n",
            " 42%|████▏     | 1186/2808 [00:29<00:39, 41.14it/s]\u001b[A\n",
            " 42%|████▏     | 1191/2808 [00:29<00:39, 41.00it/s]\u001b[A\n",
            " 43%|████▎     | 1196/2808 [00:30<00:39, 41.06it/s]\u001b[A\n",
            " 43%|████▎     | 1201/2808 [00:30<00:38, 41.37it/s]\u001b[A\n",
            " 43%|████▎     | 1206/2808 [00:30<00:38, 41.10it/s]\u001b[A"
          ],
          "name": "stderr"
        },
        {
          "output_type": "stream",
          "text": [
            "| epoch   2 |  1200/ 2808 batches | lr 0.00 | loss  5.63 | ppl   279.64\n"
          ],
          "name": "stdout"
        },
        {
          "output_type": "stream",
          "text": [
            "\n",
            " 43%|████▎     | 1211/2808 [00:30<00:38, 41.30it/s]\u001b[A\n",
            " 43%|████▎     | 1216/2808 [00:30<00:38, 41.09it/s]\u001b[A\n",
            " 43%|████▎     | 1221/2808 [00:30<00:38, 41.24it/s]\u001b[A\n",
            " 44%|████▎     | 1226/2808 [00:30<00:38, 41.38it/s]\u001b[A\n",
            " 44%|████▍     | 1231/2808 [00:30<00:37, 41.71it/s]\u001b[A\n",
            " 44%|████▍     | 1236/2808 [00:30<00:37, 41.72it/s]\u001b[A\n",
            " 44%|████▍     | 1241/2808 [00:31<00:37, 41.91it/s]\u001b[A\n",
            " 44%|████▍     | 1246/2808 [00:31<00:37, 41.83it/s]\u001b[A\n",
            " 45%|████▍     | 1251/2808 [00:31<00:37, 41.86it/s]\u001b[A\n",
            " 45%|████▍     | 1256/2808 [00:31<00:37, 41.65it/s]\u001b[A\n",
            " 45%|████▍     | 1261/2808 [00:31<00:37, 41.11it/s]\u001b[A\n",
            " 45%|████▌     | 1266/2808 [00:31<00:37, 41.31it/s]\u001b[A\n",
            " 45%|████▌     | 1271/2808 [00:31<00:37, 41.51it/s]\u001b[A\n",
            " 45%|████▌     | 1276/2808 [00:31<00:36, 41.66it/s]\u001b[A\n",
            " 46%|████▌     | 1281/2808 [00:32<00:36, 41.84it/s]\u001b[A\n",
            " 46%|████▌     | 1286/2808 [00:32<00:36, 41.65it/s]\u001b[A\n",
            " 46%|████▌     | 1291/2808 [00:32<00:37, 40.80it/s]\u001b[A\n",
            " 46%|████▌     | 1296/2808 [00:32<00:36, 41.12it/s]\u001b[A\n",
            " 46%|████▋     | 1301/2808 [00:32<00:36, 40.93it/s]\u001b[A\n",
            " 47%|████▋     | 1306/2808 [00:32<00:36, 40.83it/s]\u001b[A"
          ],
          "name": "stderr"
        },
        {
          "output_type": "stream",
          "text": [
            "| epoch   2 |  1300/ 2808 batches | lr 0.00 | loss  5.63 | ppl   279.60\n"
          ],
          "name": "stdout"
        },
        {
          "output_type": "stream",
          "text": [
            "\n",
            " 47%|████▋     | 1311/2808 [00:32<00:36, 40.81it/s]\u001b[A\n",
            " 47%|████▋     | 1316/2808 [00:32<00:36, 41.14it/s]\u001b[A\n",
            " 47%|████▋     | 1321/2808 [00:33<00:35, 41.42it/s]\u001b[A\n",
            " 47%|████▋     | 1326/2808 [00:33<00:35, 41.41it/s]\u001b[A\n",
            " 47%|████▋     | 1331/2808 [00:33<00:36, 40.90it/s]\u001b[A\n",
            " 48%|████▊     | 1336/2808 [00:33<00:35, 41.04it/s]\u001b[A\n",
            " 48%|████▊     | 1341/2808 [00:33<00:35, 41.38it/s]\u001b[A\n",
            " 48%|████▊     | 1346/2808 [00:33<00:35, 41.40it/s]\u001b[A\n",
            " 48%|████▊     | 1351/2808 [00:33<00:35, 41.50it/s]\u001b[A\n",
            " 48%|████▊     | 1356/2808 [00:33<00:35, 41.15it/s]\u001b[A\n",
            " 48%|████▊     | 1361/2808 [00:34<00:35, 41.29it/s]\u001b[A\n",
            " 49%|████▊     | 1366/2808 [00:34<00:34, 41.38it/s]\u001b[A\n",
            " 49%|████▉     | 1371/2808 [00:34<00:34, 41.39it/s]\u001b[A\n",
            " 49%|████▉     | 1376/2808 [00:34<00:34, 41.06it/s]\u001b[A\n",
            " 49%|████▉     | 1381/2808 [00:34<00:34, 40.86it/s]\u001b[A\n",
            " 49%|████▉     | 1386/2808 [00:34<00:34, 41.05it/s]\u001b[A\n",
            " 50%|████▉     | 1391/2808 [00:34<00:34, 41.32it/s]\u001b[A\n",
            " 50%|████▉     | 1396/2808 [00:34<00:33, 41.59it/s]\u001b[A\n",
            " 50%|████▉     | 1401/2808 [00:34<00:33, 41.75it/s]\u001b[A\n",
            " 50%|█████     | 1406/2808 [00:35<00:34, 40.98it/s]\u001b[A"
          ],
          "name": "stderr"
        },
        {
          "output_type": "stream",
          "text": [
            "| epoch   2 |  1400/ 2808 batches | lr 0.00 | loss  5.63 | ppl   279.63\n"
          ],
          "name": "stdout"
        },
        {
          "output_type": "stream",
          "text": [
            "\n",
            " 50%|█████     | 1411/2808 [00:35<00:34, 40.57it/s]\u001b[A\n",
            " 50%|█████     | 1416/2808 [00:35<00:34, 40.44it/s]\u001b[A\n",
            " 51%|█████     | 1421/2808 [00:35<00:34, 40.20it/s]\u001b[A\n",
            " 51%|█████     | 1426/2808 [00:35<00:34, 40.62it/s]\u001b[A\n",
            " 51%|█████     | 1431/2808 [00:35<00:33, 40.70it/s]\u001b[A\n",
            " 51%|█████     | 1436/2808 [00:35<00:33, 41.09it/s]\u001b[A\n",
            " 51%|█████▏    | 1441/2808 [00:35<00:33, 41.08it/s]\u001b[A\n",
            " 51%|█████▏    | 1446/2808 [00:36<00:32, 41.46it/s]\u001b[A\n",
            " 52%|█████▏    | 1451/2808 [00:36<00:32, 41.52it/s]\u001b[A\n",
            " 52%|█████▏    | 1456/2808 [00:36<00:32, 41.71it/s]\u001b[A\n",
            " 52%|█████▏    | 1461/2808 [00:36<00:32, 41.80it/s]\u001b[A\n",
            " 52%|█████▏    | 1466/2808 [00:36<00:32, 41.58it/s]\u001b[A\n",
            " 52%|█████▏    | 1471/2808 [00:36<00:32, 41.70it/s]\u001b[A\n",
            " 53%|█████▎    | 1476/2808 [00:36<00:32, 41.37it/s]\u001b[A\n",
            " 53%|█████▎    | 1481/2808 [00:36<00:32, 41.14it/s]\u001b[A\n",
            " 53%|█████▎    | 1486/2808 [00:37<00:32, 41.02it/s]\u001b[A\n",
            " 53%|█████▎    | 1491/2808 [00:37<00:31, 41.32it/s]\u001b[A\n",
            " 53%|█████▎    | 1496/2808 [00:37<00:31, 41.55it/s]\u001b[A\n",
            " 53%|█████▎    | 1501/2808 [00:37<00:31, 41.75it/s]\u001b[A\n",
            " 54%|█████▎    | 1506/2808 [00:37<00:31, 41.90it/s]\u001b[A"
          ],
          "name": "stderr"
        },
        {
          "output_type": "stream",
          "text": [
            "| epoch   2 |  1500/ 2808 batches | lr 0.00 | loss  5.63 | ppl   279.62\n"
          ],
          "name": "stdout"
        },
        {
          "output_type": "stream",
          "text": [
            "\n",
            " 54%|█████▍    | 1511/2808 [00:37<00:31, 41.77it/s]\u001b[A\n",
            " 54%|█████▍    | 1516/2808 [00:37<00:31, 41.51it/s]\u001b[A\n",
            " 54%|█████▍    | 1521/2808 [00:37<00:31, 41.24it/s]\u001b[A\n",
            " 54%|█████▍    | 1526/2808 [00:38<00:30, 41.42it/s]\u001b[A\n",
            " 55%|█████▍    | 1531/2808 [00:38<00:30, 41.38it/s]\u001b[A\n",
            " 55%|█████▍    | 1536/2808 [00:38<00:30, 41.51it/s]\u001b[A\n",
            " 55%|█████▍    | 1541/2808 [00:38<00:30, 41.61it/s]\u001b[A\n",
            " 55%|█████▌    | 1546/2808 [00:38<00:30, 41.67it/s]\u001b[A\n",
            " 55%|█████▌    | 1551/2808 [00:38<00:30, 41.13it/s]\u001b[A\n",
            " 55%|█████▌    | 1556/2808 [00:38<00:30, 41.10it/s]\u001b[A\n",
            " 56%|█████▌    | 1561/2808 [00:38<00:30, 41.34it/s]\u001b[A\n",
            " 56%|█████▌    | 1566/2808 [00:38<00:30, 41.39it/s]\u001b[A\n",
            " 56%|█████▌    | 1571/2808 [00:39<00:29, 41.25it/s]\u001b[A\n",
            " 56%|█████▌    | 1576/2808 [00:39<00:29, 41.57it/s]\u001b[A\n",
            " 56%|█████▋    | 1581/2808 [00:39<00:29, 41.66it/s]\u001b[A\n",
            " 56%|█████▋    | 1586/2808 [00:39<00:29, 41.73it/s]\u001b[A\n",
            " 57%|█████▋    | 1591/2808 [00:39<00:29, 41.79it/s]\u001b[A\n",
            " 57%|█████▋    | 1596/2808 [00:39<00:29, 41.34it/s]\u001b[A\n",
            " 57%|█████▋    | 1601/2808 [00:39<00:29, 40.99it/s]\u001b[A\n",
            " 57%|█████▋    | 1606/2808 [00:39<00:29, 40.87it/s]\u001b[A"
          ],
          "name": "stderr"
        },
        {
          "output_type": "stream",
          "text": [
            "| epoch   2 |  1600/ 2808 batches | lr 0.00 | loss  5.63 | ppl   279.61\n"
          ],
          "name": "stdout"
        },
        {
          "output_type": "stream",
          "text": [
            "\n",
            " 57%|█████▋    | 1611/2808 [00:40<00:29, 41.22it/s]\u001b[A\n",
            " 58%|█████▊    | 1616/2808 [00:40<00:28, 41.31it/s]\u001b[A\n",
            " 58%|█████▊    | 1621/2808 [00:40<00:29, 40.76it/s]\u001b[A\n",
            " 58%|█████▊    | 1626/2808 [00:40<00:28, 41.21it/s]\u001b[A\n",
            " 58%|█████▊    | 1631/2808 [00:40<00:28, 41.51it/s]\u001b[A\n",
            " 58%|█████▊    | 1636/2808 [00:40<00:28, 41.67it/s]\u001b[A\n",
            " 58%|█████▊    | 1641/2808 [00:40<00:27, 41.68it/s]\u001b[A\n",
            " 59%|█████▊    | 1646/2808 [00:40<00:28, 41.37it/s]\u001b[A\n",
            " 59%|█████▉    | 1651/2808 [00:41<00:27, 41.53it/s]\u001b[A\n",
            " 59%|█████▉    | 1656/2808 [00:41<00:27, 41.20it/s]\u001b[A\n",
            " 59%|█████▉    | 1661/2808 [00:41<00:27, 41.47it/s]\u001b[A\n",
            " 59%|█████▉    | 1666/2808 [00:41<00:27, 41.69it/s]\u001b[A\n",
            " 60%|█████▉    | 1671/2808 [00:41<00:27, 41.72it/s]\u001b[A\n",
            " 60%|█████▉    | 1676/2808 [00:41<00:27, 41.85it/s]\u001b[A\n",
            " 60%|█████▉    | 1681/2808 [00:41<00:26, 41.89it/s]\u001b[A\n",
            " 60%|██████    | 1686/2808 [00:41<00:26, 41.84it/s]\u001b[A\n",
            " 60%|██████    | 1691/2808 [00:41<00:26, 41.86it/s]\u001b[A\n",
            " 60%|██████    | 1696/2808 [00:42<00:26, 41.71it/s]\u001b[A\n",
            " 61%|██████    | 1701/2808 [00:42<00:26, 41.82it/s]\u001b[A\n",
            " 61%|██████    | 1706/2808 [00:42<00:26, 41.46it/s]\u001b[A"
          ],
          "name": "stderr"
        },
        {
          "output_type": "stream",
          "text": [
            "| epoch   2 |  1700/ 2808 batches | lr 0.00 | loss  5.63 | ppl   279.68\n"
          ],
          "name": "stdout"
        },
        {
          "output_type": "stream",
          "text": [
            "\n",
            " 61%|██████    | 1711/2808 [00:42<00:26, 41.15it/s]\u001b[A\n",
            " 61%|██████    | 1716/2808 [00:42<00:26, 40.86it/s]\u001b[A\n",
            " 61%|██████▏   | 1721/2808 [00:42<00:26, 41.21it/s]\u001b[A\n",
            " 61%|██████▏   | 1726/2808 [00:42<00:26, 41.32it/s]\u001b[A\n",
            " 62%|██████▏   | 1731/2808 [00:42<00:25, 41.51it/s]\u001b[A\n",
            " 62%|██████▏   | 1736/2808 [00:43<00:25, 41.63it/s]\u001b[A\n",
            " 62%|██████▏   | 1741/2808 [00:43<00:25, 41.64it/s]\u001b[A\n",
            " 62%|██████▏   | 1746/2808 [00:43<00:25, 41.69it/s]\u001b[A\n",
            " 62%|██████▏   | 1751/2808 [00:43<00:25, 41.71it/s]\u001b[A\n",
            " 63%|██████▎   | 1756/2808 [00:43<00:25, 41.36it/s]\u001b[A\n",
            " 63%|██████▎   | 1761/2808 [00:43<00:25, 41.40it/s]\u001b[A\n",
            " 63%|██████▎   | 1766/2808 [00:43<00:25, 41.21it/s]\u001b[A\n",
            " 63%|██████▎   | 1771/2808 [00:43<00:24, 41.52it/s]\u001b[A\n",
            " 63%|██████▎   | 1776/2808 [00:44<00:24, 41.50it/s]\u001b[A\n",
            " 63%|██████▎   | 1781/2808 [00:44<00:24, 41.60it/s]\u001b[A\n",
            " 64%|██████▎   | 1786/2808 [00:44<00:24, 41.34it/s]\u001b[A\n",
            " 64%|██████▍   | 1791/2808 [00:44<00:24, 41.09it/s]\u001b[A\n",
            " 64%|██████▍   | 1796/2808 [00:44<00:24, 41.39it/s]\u001b[A\n",
            " 64%|██████▍   | 1801/2808 [00:44<00:24, 41.61it/s]\u001b[A\n",
            " 64%|██████▍   | 1806/2808 [00:44<00:24, 41.67it/s]\u001b[A"
          ],
          "name": "stderr"
        },
        {
          "output_type": "stream",
          "text": [
            "| epoch   2 |  1800/ 2808 batches | lr 0.00 | loss  5.63 | ppl   279.53\n"
          ],
          "name": "stdout"
        },
        {
          "output_type": "stream",
          "text": [
            "\n",
            " 64%|██████▍   | 1811/2808 [00:44<00:23, 41.69it/s]\u001b[A\n",
            " 65%|██████▍   | 1816/2808 [00:44<00:23, 41.70it/s]\u001b[A\n",
            " 65%|██████▍   | 1821/2808 [00:45<00:23, 41.89it/s]\u001b[A\n",
            " 65%|██████▌   | 1826/2808 [00:45<00:23, 41.89it/s]\u001b[A\n",
            " 65%|██████▌   | 1831/2808 [00:45<00:23, 41.92it/s]\u001b[A\n",
            " 65%|██████▌   | 1836/2808 [00:45<00:23, 41.49it/s]\u001b[A\n",
            " 66%|██████▌   | 1841/2808 [00:45<00:23, 41.27it/s]\u001b[A\n",
            " 66%|██████▌   | 1846/2808 [00:45<00:23, 41.55it/s]\u001b[A\n",
            " 66%|██████▌   | 1851/2808 [00:45<00:23, 41.20it/s]\u001b[A\n",
            " 66%|██████▌   | 1856/2808 [00:45<00:23, 41.38it/s]\u001b[A\n",
            " 66%|██████▋   | 1861/2808 [00:46<00:22, 41.51it/s]\u001b[A\n",
            " 66%|██████▋   | 1866/2808 [00:46<00:22, 41.15it/s]\u001b[A\n",
            " 67%|██████▋   | 1871/2808 [00:46<00:22, 41.24it/s]\u001b[A\n",
            " 67%|██████▋   | 1876/2808 [00:46<00:22, 40.95it/s]\u001b[A\n",
            " 67%|██████▋   | 1881/2808 [00:46<00:22, 40.82it/s]\u001b[A\n",
            " 67%|██████▋   | 1886/2808 [00:46<00:22, 41.19it/s]\u001b[A\n",
            " 67%|██████▋   | 1891/2808 [00:46<00:22, 41.47it/s]\u001b[A\n",
            " 68%|██████▊   | 1896/2808 [00:46<00:21, 41.48it/s]\u001b[A\n",
            " 68%|██████▊   | 1901/2808 [00:47<00:21, 41.60it/s]\u001b[A\n",
            " 68%|██████▊   | 1906/2808 [00:47<00:21, 41.38it/s]\u001b[A"
          ],
          "name": "stderr"
        },
        {
          "output_type": "stream",
          "text": [
            "| epoch   2 |  1900/ 2808 batches | lr 0.00 | loss  5.63 | ppl   279.58\n"
          ],
          "name": "stdout"
        },
        {
          "output_type": "stream",
          "text": [
            "\n",
            " 68%|██████▊   | 1911/2808 [00:47<00:21, 41.23it/s]\u001b[A\n",
            " 68%|██████▊   | 1916/2808 [00:47<00:21, 41.52it/s]\u001b[A\n",
            " 68%|██████▊   | 1921/2808 [00:47<00:21, 41.59it/s]\u001b[A\n",
            " 69%|██████▊   | 1926/2808 [00:47<00:21, 41.71it/s]\u001b[A\n",
            " 69%|██████▉   | 1931/2808 [00:47<00:21, 41.54it/s]\u001b[A\n",
            " 69%|██████▉   | 1936/2808 [00:47<00:21, 41.30it/s]\u001b[A\n",
            " 69%|██████▉   | 1941/2808 [00:48<00:20, 41.51it/s]\u001b[A\n",
            " 69%|██████▉   | 1946/2808 [00:48<00:20, 41.65it/s]\u001b[A\n",
            " 69%|██████▉   | 1951/2808 [00:48<00:20, 41.44it/s]\u001b[A\n",
            " 70%|██████▉   | 1956/2808 [00:48<00:20, 41.61it/s]\u001b[A\n",
            " 70%|██████▉   | 1961/2808 [00:48<00:20, 41.30it/s]\u001b[A\n",
            " 70%|███████   | 1966/2808 [00:48<00:20, 41.58it/s]\u001b[A\n",
            " 70%|███████   | 1971/2808 [00:48<00:20, 41.76it/s]\u001b[A\n",
            " 70%|███████   | 1976/2808 [00:48<00:19, 41.80it/s]\u001b[A\n",
            " 71%|███████   | 1981/2808 [00:48<00:19, 41.57it/s]\u001b[A\n",
            " 71%|███████   | 1986/2808 [00:49<00:19, 41.73it/s]\u001b[A\n",
            " 71%|███████   | 1991/2808 [00:49<00:19, 41.81it/s]\u001b[A\n",
            " 71%|███████   | 1996/2808 [00:49<00:19, 41.91it/s]\u001b[A\n",
            " 71%|███████▏  | 2001/2808 [00:49<00:19, 41.48it/s]\u001b[A\n",
            " 71%|███████▏  | 2006/2808 [00:49<00:19, 41.16it/s]\u001b[A"
          ],
          "name": "stderr"
        },
        {
          "output_type": "stream",
          "text": [
            "| epoch   2 |  2000/ 2808 batches | lr 0.00 | loss  5.63 | ppl   279.61\n"
          ],
          "name": "stdout"
        },
        {
          "output_type": "stream",
          "text": [
            "\n",
            " 72%|███████▏  | 2011/2808 [00:49<00:19, 41.49it/s]\u001b[A\n",
            " 72%|███████▏  | 2016/2808 [00:49<00:18, 41.78it/s]\u001b[A\n",
            " 72%|███████▏  | 2021/2808 [00:49<00:18, 41.77it/s]\u001b[A\n",
            " 72%|███████▏  | 2026/2808 [00:50<00:18, 41.41it/s]\u001b[A\n",
            " 72%|███████▏  | 2031/2808 [00:50<00:18, 41.59it/s]\u001b[A\n",
            " 73%|███████▎  | 2036/2808 [00:50<00:18, 41.26it/s]\u001b[A\n",
            " 73%|███████▎  | 2041/2808 [00:50<00:18, 41.49it/s]\u001b[A\n",
            " 73%|███████▎  | 2046/2808 [00:50<00:18, 41.76it/s]\u001b[A\n",
            " 73%|███████▎  | 2051/2808 [00:50<00:18, 41.92it/s]\u001b[A\n",
            " 73%|███████▎  | 2056/2808 [00:50<00:18, 41.77it/s]\u001b[A\n",
            " 73%|███████▎  | 2061/2808 [00:50<00:17, 41.59it/s]\u001b[A\n",
            " 74%|███████▎  | 2066/2808 [00:51<00:17, 41.59it/s]\u001b[A\n",
            " 74%|███████▍  | 2071/2808 [00:51<00:17, 41.66it/s]\u001b[A\n",
            " 74%|███████▍  | 2076/2808 [00:51<00:17, 41.76it/s]\u001b[A\n",
            " 74%|███████▍  | 2081/2808 [00:51<00:17, 41.48it/s]\u001b[A\n",
            " 74%|███████▍  | 2086/2808 [00:51<00:17, 41.63it/s]\u001b[A\n",
            " 74%|███████▍  | 2091/2808 [00:51<00:17, 41.63it/s]\u001b[A\n",
            " 75%|███████▍  | 2096/2808 [00:51<00:17, 41.06it/s]\u001b[A\n",
            " 75%|███████▍  | 2101/2808 [00:51<00:17, 41.34it/s]\u001b[A\n",
            " 75%|███████▌  | 2106/2808 [00:51<00:17, 41.01it/s]\u001b[A"
          ],
          "name": "stderr"
        },
        {
          "output_type": "stream",
          "text": [
            "| epoch   2 |  2100/ 2808 batches | lr 0.00 | loss  5.63 | ppl   279.55\n"
          ],
          "name": "stdout"
        },
        {
          "output_type": "stream",
          "text": [
            "\n",
            " 75%|███████▌  | 2111/2808 [00:52<00:17, 40.93it/s]\u001b[A\n",
            " 75%|███████▌  | 2116/2808 [00:52<00:16, 41.18it/s]\u001b[A\n",
            " 76%|███████▌  | 2121/2808 [00:52<00:16, 41.52it/s]\u001b[A\n",
            " 76%|███████▌  | 2126/2808 [00:52<00:16, 41.43it/s]\u001b[A\n",
            " 76%|███████▌  | 2131/2808 [00:52<00:16, 41.67it/s]\u001b[A\n",
            " 76%|███████▌  | 2136/2808 [00:52<00:16, 41.42it/s]\u001b[A\n",
            " 76%|███████▌  | 2141/2808 [00:52<00:16, 41.29it/s]\u001b[A\n",
            " 76%|███████▋  | 2146/2808 [00:52<00:15, 41.64it/s]\u001b[A\n",
            " 77%|███████▋  | 2151/2808 [00:53<00:15, 41.49it/s]\u001b[A\n",
            " 77%|███████▋  | 2156/2808 [00:53<00:15, 41.71it/s]\u001b[A\n",
            " 77%|███████▋  | 2161/2808 [00:53<00:15, 41.74it/s]\u001b[A\n",
            " 77%|███████▋  | 2166/2808 [00:53<00:15, 41.36it/s]\u001b[A\n",
            " 77%|███████▋  | 2171/2808 [00:53<00:15, 41.66it/s]\u001b[A\n",
            " 77%|███████▋  | 2176/2808 [00:53<00:15, 41.39it/s]\u001b[A\n",
            " 78%|███████▊  | 2181/2808 [00:53<00:15, 41.60it/s]\u001b[A\n",
            " 78%|███████▊  | 2186/2808 [00:53<00:14, 41.67it/s]\u001b[A\n",
            " 78%|███████▊  | 2191/2808 [00:54<00:15, 41.10it/s]\u001b[A\n",
            " 78%|███████▊  | 2196/2808 [00:54<00:14, 41.28it/s]\u001b[A\n",
            " 78%|███████▊  | 2201/2808 [00:54<00:14, 41.29it/s]\u001b[A\n",
            " 79%|███████▊  | 2206/2808 [00:54<00:14, 41.35it/s]\u001b[A"
          ],
          "name": "stderr"
        },
        {
          "output_type": "stream",
          "text": [
            "| epoch   2 |  2200/ 2808 batches | lr 0.00 | loss  5.63 | ppl   279.54\n"
          ],
          "name": "stdout"
        },
        {
          "output_type": "stream",
          "text": [
            "\n",
            " 79%|███████▊  | 2211/2808 [00:54<00:14, 41.57it/s]\u001b[A\n",
            " 79%|███████▉  | 2216/2808 [00:54<00:14, 41.47it/s]\u001b[A\n",
            " 79%|███████▉  | 2221/2808 [00:54<00:14, 41.63it/s]\u001b[A\n",
            " 79%|███████▉  | 2226/2808 [00:54<00:13, 41.80it/s]\u001b[A\n",
            " 79%|███████▉  | 2231/2808 [00:54<00:13, 41.83it/s]\u001b[A\n",
            " 80%|███████▉  | 2236/2808 [00:55<00:13, 41.36it/s]\u001b[A\n",
            " 80%|███████▉  | 2241/2808 [00:55<00:13, 41.58it/s]\u001b[A\n",
            " 80%|███████▉  | 2246/2808 [00:55<00:13, 41.46it/s]\u001b[A\n",
            " 80%|████████  | 2251/2808 [00:55<00:13, 41.59it/s]\u001b[A\n",
            " 80%|████████  | 2256/2808 [00:55<00:13, 41.68it/s]\u001b[A\n",
            " 81%|████████  | 2261/2808 [00:55<00:13, 41.82it/s]\u001b[A\n",
            " 81%|████████  | 2266/2808 [00:55<00:12, 41.91it/s]\u001b[A\n",
            " 81%|████████  | 2271/2808 [00:55<00:12, 41.88it/s]\u001b[A\n",
            " 81%|████████  | 2276/2808 [00:56<00:12, 41.50it/s]\u001b[A\n",
            " 81%|████████  | 2281/2808 [00:56<00:12, 41.27it/s]\u001b[A\n",
            " 81%|████████▏ | 2286/2808 [00:56<00:12, 41.33it/s]\u001b[A\n",
            " 82%|████████▏ | 2291/2808 [00:56<00:12, 41.32it/s]\u001b[A\n",
            " 82%|████████▏ | 2296/2808 [00:56<00:12, 41.60it/s]\u001b[A\n",
            " 82%|████████▏ | 2301/2808 [00:56<00:12, 41.67it/s]\u001b[A\n",
            " 82%|████████▏ | 2306/2808 [00:56<00:12, 41.33it/s]\u001b[A"
          ],
          "name": "stderr"
        },
        {
          "output_type": "stream",
          "text": [
            "| epoch   2 |  2300/ 2808 batches | lr 0.00 | loss  5.63 | ppl   279.65\n"
          ],
          "name": "stdout"
        },
        {
          "output_type": "stream",
          "text": [
            "\n",
            " 82%|████████▏ | 2311/2808 [00:56<00:12, 41.37it/s]\u001b[A\n",
            " 82%|████████▏ | 2316/2808 [00:57<00:11, 41.35it/s]\u001b[A\n",
            " 83%|████████▎ | 2321/2808 [00:57<00:11, 40.76it/s]\u001b[A\n",
            " 83%|████████▎ | 2326/2808 [00:57<00:11, 41.15it/s]\u001b[A\n",
            " 83%|████████▎ | 2331/2808 [00:57<00:11, 41.37it/s]\u001b[A\n",
            " 83%|████████▎ | 2336/2808 [00:57<00:11, 41.63it/s]\u001b[A\n",
            " 83%|████████▎ | 2341/2808 [00:57<00:11, 41.84it/s]\u001b[A\n",
            " 84%|████████▎ | 2346/2808 [00:57<00:11, 41.82it/s]\u001b[A\n",
            " 84%|████████▎ | 2351/2808 [00:57<00:10, 41.93it/s]\u001b[A\n",
            " 84%|████████▍ | 2356/2808 [00:58<00:10, 41.97it/s]\u001b[A\n",
            " 84%|████████▍ | 2361/2808 [00:58<00:10, 41.59it/s]\u001b[A\n",
            " 84%|████████▍ | 2366/2808 [00:58<00:10, 41.17it/s]\u001b[A\n",
            " 84%|████████▍ | 2371/2808 [00:58<00:10, 41.01it/s]\u001b[A\n",
            " 85%|████████▍ | 2376/2808 [00:58<00:10, 41.10it/s]\u001b[A\n",
            " 85%|████████▍ | 2381/2808 [00:58<00:10, 41.41it/s]\u001b[A\n",
            " 85%|████████▍ | 2386/2808 [00:58<00:10, 41.69it/s]\u001b[A\n",
            " 85%|████████▌ | 2391/2808 [00:58<00:09, 41.82it/s]\u001b[A\n",
            " 85%|████████▌ | 2396/2808 [00:58<00:09, 41.40it/s]\u001b[A\n",
            " 86%|████████▌ | 2401/2808 [00:59<00:09, 41.31it/s]\u001b[A\n",
            " 86%|████████▌ | 2406/2808 [00:59<00:09, 41.52it/s]\u001b[A"
          ],
          "name": "stderr"
        },
        {
          "output_type": "stream",
          "text": [
            "| epoch   2 |  2400/ 2808 batches | lr 0.00 | loss  5.63 | ppl   279.55\n"
          ],
          "name": "stdout"
        },
        {
          "output_type": "stream",
          "text": [
            "\n",
            " 86%|████████▌ | 2411/2808 [00:59<00:09, 41.78it/s]\u001b[A\n",
            " 86%|████████▌ | 2416/2808 [00:59<00:09, 41.92it/s]\u001b[A\n",
            " 86%|████████▌ | 2421/2808 [00:59<00:09, 41.84it/s]\u001b[A\n",
            " 86%|████████▋ | 2426/2808 [00:59<00:09, 41.95it/s]\u001b[A\n",
            " 87%|████████▋ | 2431/2808 [00:59<00:09, 41.76it/s]\u001b[A\n",
            " 87%|████████▋ | 2436/2808 [00:59<00:08, 42.00it/s]\u001b[A\n",
            " 87%|████████▋ | 2441/2808 [01:00<00:08, 41.62it/s]\u001b[A\n",
            " 87%|████████▋ | 2446/2808 [01:00<00:08, 41.30it/s]\u001b[A\n",
            " 87%|████████▋ | 2451/2808 [01:00<00:08, 41.28it/s]\u001b[A\n",
            " 87%|████████▋ | 2456/2808 [01:00<00:08, 41.12it/s]\u001b[A\n",
            " 88%|████████▊ | 2461/2808 [01:00<00:08, 40.89it/s]\u001b[A\n",
            " 88%|████████▊ | 2466/2808 [01:00<00:08, 41.21it/s]\u001b[A\n",
            " 88%|████████▊ | 2471/2808 [01:00<00:08, 41.14it/s]\u001b[A\n",
            " 88%|████████▊ | 2476/2808 [01:00<00:08, 41.01it/s]\u001b[A\n",
            " 88%|████████▊ | 2481/2808 [01:01<00:07, 41.05it/s]\u001b[A\n",
            " 89%|████████▊ | 2486/2808 [01:01<00:07, 40.96it/s]\u001b[A\n",
            " 89%|████████▊ | 2491/2808 [01:01<00:07, 41.23it/s]\u001b[A\n",
            " 89%|████████▉ | 2496/2808 [01:01<00:07, 41.25it/s]\u001b[A\n",
            " 89%|████████▉ | 2501/2808 [01:01<00:07, 41.44it/s]\u001b[A\n",
            " 89%|████████▉ | 2506/2808 [01:01<00:07, 41.09it/s]\u001b[A"
          ],
          "name": "stderr"
        },
        {
          "output_type": "stream",
          "text": [
            "| epoch   2 |  2500/ 2808 batches | lr 0.00 | loss  5.63 | ppl   279.56\n"
          ],
          "name": "stdout"
        },
        {
          "output_type": "stream",
          "text": [
            "\n",
            " 89%|████████▉ | 2511/2808 [01:01<00:07, 41.28it/s]\u001b[A\n",
            " 90%|████████▉ | 2516/2808 [01:01<00:07, 41.30it/s]\u001b[A\n",
            " 90%|████████▉ | 2521/2808 [01:01<00:06, 41.39it/s]\u001b[A\n",
            " 90%|████████▉ | 2526/2808 [01:02<00:06, 41.48it/s]\u001b[A\n",
            " 90%|█████████ | 2531/2808 [01:02<00:06, 41.54it/s]\u001b[A\n",
            " 90%|█████████ | 2536/2808 [01:02<00:06, 41.60it/s]\u001b[A\n",
            " 90%|█████████ | 2541/2808 [01:02<00:06, 41.92it/s]\u001b[A\n",
            " 91%|█████████ | 2546/2808 [01:02<00:06, 42.08it/s]\u001b[A\n",
            " 91%|█████████ | 2551/2808 [01:02<00:06, 41.85it/s]\u001b[A\n",
            " 91%|█████████ | 2556/2808 [01:02<00:06, 41.74it/s]\u001b[A\n",
            " 91%|█████████ | 2561/2808 [01:02<00:05, 41.51it/s]\u001b[A\n",
            " 91%|█████████▏| 2566/2808 [01:03<00:05, 41.39it/s]\u001b[A\n",
            " 92%|█████████▏| 2571/2808 [01:03<00:05, 41.30it/s]\u001b[A\n",
            " 92%|█████████▏| 2576/2808 [01:03<00:05, 41.61it/s]\u001b[A\n",
            " 92%|█████████▏| 2581/2808 [01:03<00:05, 41.88it/s]\u001b[A\n",
            " 92%|█████████▏| 2586/2808 [01:03<00:05, 42.03it/s]\u001b[A\n",
            " 92%|█████████▏| 2591/2808 [01:03<00:05, 41.89it/s]\u001b[A\n",
            " 92%|█████████▏| 2596/2808 [01:03<00:05, 41.95it/s]\u001b[A\n",
            " 93%|█████████▎| 2601/2808 [01:03<00:04, 42.19it/s]\u001b[A\n",
            " 93%|█████████▎| 2606/2808 [01:04<00:04, 42.03it/s]\u001b[A"
          ],
          "name": "stderr"
        },
        {
          "output_type": "stream",
          "text": [
            "| epoch   2 |  2600/ 2808 batches | lr 0.00 | loss  5.63 | ppl   279.53\n"
          ],
          "name": "stdout"
        },
        {
          "output_type": "stream",
          "text": [
            "\n",
            " 93%|█████████▎| 2611/2808 [01:04<00:04, 42.22it/s]\u001b[A\n",
            " 93%|█████████▎| 2616/2808 [01:04<00:04, 42.28it/s]\u001b[A\n",
            " 93%|█████████▎| 2621/2808 [01:04<00:04, 41.97it/s]\u001b[A\n",
            " 94%|█████████▎| 2626/2808 [01:04<00:04, 42.13it/s]\u001b[A\n",
            " 94%|█████████▎| 2631/2808 [01:04<00:04, 42.24it/s]\u001b[A\n",
            " 94%|█████████▍| 2636/2808 [01:04<00:04, 42.12it/s]\u001b[A\n",
            " 94%|█████████▍| 2641/2808 [01:04<00:03, 42.06it/s]\u001b[A\n",
            " 94%|█████████▍| 2646/2808 [01:04<00:03, 41.98it/s]\u001b[A\n",
            " 94%|█████████▍| 2651/2808 [01:05<00:03, 41.52it/s]\u001b[A\n",
            " 95%|█████████▍| 2656/2808 [01:05<00:03, 41.62it/s]\u001b[A\n",
            " 95%|█████████▍| 2661/2808 [01:05<00:03, 41.61it/s]\u001b[A\n",
            " 95%|█████████▍| 2666/2808 [01:05<00:03, 41.57it/s]\u001b[A\n",
            " 95%|█████████▌| 2671/2808 [01:05<00:03, 41.63it/s]\u001b[A\n",
            " 95%|█████████▌| 2676/2808 [01:05<00:03, 41.68it/s]\u001b[A\n",
            " 95%|█████████▌| 2681/2808 [01:05<00:03, 41.69it/s]\u001b[A\n",
            " 96%|█████████▌| 2686/2808 [01:05<00:02, 41.73it/s]\u001b[A\n",
            " 96%|█████████▌| 2691/2808 [01:06<00:02, 41.84it/s]\u001b[A\n",
            " 96%|█████████▌| 2696/2808 [01:06<00:02, 41.92it/s]\u001b[A\n",
            " 96%|█████████▌| 2701/2808 [01:06<00:02, 41.35it/s]\u001b[A\n",
            " 96%|█████████▋| 2706/2808 [01:06<00:02, 41.19it/s]\u001b[A"
          ],
          "name": "stderr"
        },
        {
          "output_type": "stream",
          "text": [
            "| epoch   2 |  2700/ 2808 batches | lr 0.00 | loss  5.63 | ppl   279.62\n"
          ],
          "name": "stdout"
        },
        {
          "output_type": "stream",
          "text": [
            "\n",
            " 97%|█████████▋| 2711/2808 [01:06<00:02, 41.44it/s]\u001b[A\n",
            " 97%|█████████▋| 2716/2808 [01:06<00:02, 41.64it/s]\u001b[A\n",
            " 97%|█████████▋| 2721/2808 [01:06<00:02, 41.80it/s]\u001b[A\n",
            " 97%|█████████▋| 2726/2808 [01:06<00:01, 41.64it/s]\u001b[A\n",
            " 97%|█████████▋| 2731/2808 [01:07<00:01, 41.83it/s]\u001b[A\n",
            " 97%|█████████▋| 2736/2808 [01:07<00:01, 41.84it/s]\u001b[A\n",
            " 98%|█████████▊| 2741/2808 [01:07<00:01, 41.91it/s]\u001b[A\n",
            " 98%|█████████▊| 2746/2808 [01:07<00:01, 41.63it/s]\u001b[A\n",
            " 98%|█████████▊| 2751/2808 [01:07<00:01, 41.86it/s]\u001b[A\n",
            " 98%|█████████▊| 2756/2808 [01:07<00:01, 41.86it/s]\u001b[A\n",
            " 98%|█████████▊| 2761/2808 [01:07<00:01, 41.89it/s]\u001b[A\n",
            " 99%|█████████▊| 2766/2808 [01:07<00:01, 41.91it/s]\u001b[A\n",
            " 99%|█████████▊| 2771/2808 [01:07<00:00, 41.92it/s]\u001b[A\n",
            " 99%|█████████▉| 2776/2808 [01:08<00:00, 41.70it/s]\u001b[A\n",
            " 99%|█████████▉| 2781/2808 [01:08<00:00, 41.45it/s]\u001b[A\n",
            " 99%|█████████▉| 2786/2808 [01:08<00:00, 41.46it/s]\u001b[A\n",
            " 99%|█████████▉| 2791/2808 [01:08<00:00, 41.69it/s]\u001b[A\n",
            "100%|█████████▉| 2796/2808 [01:08<00:00, 41.55it/s]\u001b[A\n",
            "100%|█████████▉| 2801/2808 [01:08<00:00, 41.78it/s]\u001b[A\n",
            "100%|██████████| 2808/2808 [01:08<00:00, 40.77it/s]\n",
            "\n",
            "  0%|          | 0/292 [00:00<?, ?it/s]\u001b[A"
          ],
          "name": "stderr"
        },
        {
          "output_type": "stream",
          "text": [
            "| epoch   2 |  2800/ 2808 batches | lr 0.00 | loss  5.63 | ppl   279.53\n"
          ],
          "name": "stdout"
        },
        {
          "output_type": "stream",
          "text": [
            "\n",
            "  0%|          | 1/292 [00:00<00:40,  7.20it/s]\u001b[A\n",
            " 10%|█         | 30/292 [00:00<00:25, 10.18it/s]\u001b[A\n",
            " 20%|██        | 59/292 [00:00<00:16, 14.33it/s]\u001b[A\n",
            " 30%|███       | 88/292 [00:00<00:10, 20.04it/s]\u001b[A\n",
            " 40%|████      | 118/292 [00:00<00:06, 27.81it/s]\u001b[A\n",
            " 51%|█████     | 148/292 [00:00<00:03, 38.21it/s]\u001b[A\n",
            " 61%|██████▏   | 179/292 [00:00<00:02, 51.77it/s]\u001b[A\n",
            " 71%|███████   | 208/292 [00:00<00:01, 68.58it/s]\u001b[A\n",
            " 82%|████████▏ | 238/292 [00:00<00:00, 89.07it/s]\u001b[A\n",
            "100%|██████████| 292/292 [00:01<00:00, 257.32it/s]\n",
            "\n",
            "  0%|          | 0/2808 [00:00<?, ?it/s]\u001b[A"
          ],
          "name": "stderr"
        },
        {
          "output_type": "stream",
          "text": [
            "-----------------------------------------------------------------------------------------\n",
            "| end of epoch   2 | valid loss  5.63 | valid ppl   279.48\n",
            "-----------------------------------------------------------------------------------------\n",
            "sample:\n",
            " Mòュe×9оđCèÎr჻‘UヴKッNL”WลắัAკlưī̃Ú空ć£³]ง‑ś^มíF%”γô≤Ł \n",
            "\n"
          ],
          "name": "stdout"
        },
        {
          "output_type": "stream",
          "text": [
            "\n",
            "  0%|          | 1/2808 [00:01<1:02:47,  1.34s/it]\u001b[A\n",
            "  0%|          | 6/2808 [00:01<44:12,  1.06it/s]  \u001b[A\n",
            "  0%|          | 11/2808 [00:01<31:13,  1.49it/s]\u001b[A\n",
            "  1%|          | 16/2808 [00:01<22:09,  2.10it/s]\u001b[A\n",
            "  1%|          | 21/2808 [00:01<15:48,  2.94it/s]\u001b[A\n",
            "  1%|          | 25/2808 [00:01<11:24,  4.07it/s]\u001b[A\n",
            "  1%|          | 30/2808 [00:02<08:18,  5.57it/s]\u001b[A\n",
            "  1%|          | 35/2808 [00:02<06:08,  7.52it/s]\u001b[A\n",
            "  1%|▏         | 40/2808 [00:02<04:37,  9.98it/s]\u001b[A\n",
            "  2%|▏         | 45/2808 [00:02<03:33, 12.94it/s]\u001b[A\n",
            "  2%|▏         | 50/2808 [00:02<02:48, 16.33it/s]\u001b[A\n",
            "  2%|▏         | 55/2808 [00:02<02:18, 19.90it/s]\u001b[A\n",
            "  2%|▏         | 60/2808 [00:02<01:57, 23.44it/s]\u001b[A\n",
            "  2%|▏         | 65/2808 [00:02<01:41, 27.02it/s]\u001b[A\n",
            "  2%|▏         | 70/2808 [00:03<01:30, 30.24it/s]\u001b[A\n",
            "  3%|▎         | 75/2808 [00:03<01:22, 33.02it/s]\u001b[A\n",
            "  3%|▎         | 80/2808 [00:03<01:17, 34.99it/s]\u001b[A\n",
            "  3%|▎         | 85/2808 [00:03<01:14, 36.48it/s]\u001b[A\n",
            "  3%|▎         | 90/2808 [00:03<01:11, 37.91it/s]\u001b[A\n",
            "  3%|▎         | 95/2808 [00:03<01:10, 38.67it/s]\u001b[A\n",
            "  4%|▎         | 100/2808 [00:03<01:08, 39.38it/s]\u001b[A\n",
            "  4%|▎         | 105/2808 [00:03<01:07, 39.91it/s]\u001b[A"
          ],
          "name": "stderr"
        },
        {
          "output_type": "stream",
          "text": [
            "| epoch   3 |   100/ 2808 batches | lr 0.00 | loss  5.69 | ppl   295.84\n"
          ],
          "name": "stdout"
        },
        {
          "output_type": "stream",
          "text": [
            "\n",
            "  4%|▍         | 110/2808 [00:03<01:07, 40.13it/s]\u001b[A\n",
            "  4%|▍         | 115/2808 [00:04<01:06, 40.67it/s]\u001b[A\n",
            "  4%|▍         | 120/2808 [00:04<01:05, 41.06it/s]\u001b[A\n",
            "  4%|▍         | 125/2808 [00:04<01:05, 40.92it/s]\u001b[A\n",
            "  5%|▍         | 130/2808 [00:04<01:05, 41.13it/s]\u001b[A\n",
            "  5%|▍         | 135/2808 [00:04<01:04, 41.52it/s]\u001b[A\n",
            "  5%|▍         | 140/2808 [00:04<01:04, 41.66it/s]\u001b[A\n",
            "  5%|▌         | 145/2808 [00:04<01:04, 41.54it/s]\u001b[A\n",
            "  5%|▌         | 150/2808 [00:04<01:03, 41.80it/s]\u001b[A\n",
            "  6%|▌         | 155/2808 [00:05<01:03, 41.61it/s]\u001b[A\n",
            "  6%|▌         | 160/2808 [00:05<01:03, 41.76it/s]\u001b[A\n",
            "  6%|▌         | 165/2808 [00:05<01:03, 41.59it/s]\u001b[A\n",
            "  6%|▌         | 170/2808 [00:05<01:03, 41.30it/s]\u001b[A\n",
            "  6%|▌         | 175/2808 [00:05<01:03, 41.54it/s]\u001b[A\n",
            "  6%|▋         | 180/2808 [00:05<01:03, 41.27it/s]\u001b[A\n",
            "  7%|▋         | 185/2808 [00:05<01:03, 41.46it/s]\u001b[A\n",
            "  7%|▋         | 190/2808 [00:05<01:03, 41.40it/s]\u001b[A\n",
            "  7%|▋         | 195/2808 [00:06<01:03, 41.34it/s]\u001b[A\n",
            "  7%|▋         | 200/2808 [00:06<01:02, 41.64it/s]\u001b[A\n",
            "  7%|▋         | 205/2808 [00:06<01:02, 41.77it/s]\u001b[A"
          ],
          "name": "stderr"
        },
        {
          "output_type": "stream",
          "text": [
            "| epoch   3 |   200/ 2808 batches | lr 0.00 | loss  5.63 | ppl   279.56\n"
          ],
          "name": "stdout"
        },
        {
          "output_type": "stream",
          "text": [
            "\n",
            "  7%|▋         | 210/2808 [00:06<01:01, 41.99it/s]\u001b[A\n",
            "  8%|▊         | 215/2808 [00:06<01:01, 42.12it/s]\u001b[A\n",
            "  8%|▊         | 220/2808 [00:06<01:01, 41.79it/s]\u001b[A\n",
            "  8%|▊         | 225/2808 [00:06<01:02, 41.30it/s]\u001b[A\n",
            "  8%|▊         | 230/2808 [00:06<01:02, 41.56it/s]\u001b[A\n",
            "  8%|▊         | 235/2808 [00:06<01:01, 41.73it/s]\u001b[A\n",
            "  9%|▊         | 240/2808 [00:07<01:01, 41.62it/s]\u001b[A\n",
            "  9%|▊         | 245/2808 [00:07<01:01, 41.45it/s]\u001b[A\n",
            "  9%|▉         | 250/2808 [00:07<01:01, 41.64it/s]\u001b[A\n",
            "  9%|▉         | 255/2808 [00:07<01:01, 41.72it/s]\u001b[A\n",
            "  9%|▉         | 260/2808 [00:07<01:00, 41.83it/s]\u001b[A\n",
            "  9%|▉         | 265/2808 [00:07<01:00, 41.87it/s]\u001b[A\n",
            " 10%|▉         | 270/2808 [00:07<01:00, 42.04it/s]\u001b[A\n",
            " 10%|▉         | 275/2808 [00:07<01:01, 41.46it/s]\u001b[A\n",
            " 10%|▉         | 280/2808 [00:08<01:01, 41.25it/s]\u001b[A\n",
            " 10%|█         | 285/2808 [00:08<01:00, 41.55it/s]\u001b[A\n",
            " 10%|█         | 290/2808 [00:08<01:00, 41.77it/s]\u001b[A\n",
            " 11%|█         | 295/2808 [00:08<01:00, 41.78it/s]\u001b[A\n",
            " 11%|█         | 300/2808 [00:08<00:59, 41.87it/s]\u001b[A\n",
            " 11%|█         | 305/2808 [00:08<00:59, 41.89it/s]\u001b[A"
          ],
          "name": "stderr"
        },
        {
          "output_type": "stream",
          "text": [
            "| epoch   3 |   300/ 2808 batches | lr 0.00 | loss  5.63 | ppl   279.57\n"
          ],
          "name": "stdout"
        },
        {
          "output_type": "stream",
          "text": [
            "\n",
            " 11%|█         | 310/2808 [00:08<00:59, 41.97it/s]\u001b[A\n",
            " 11%|█         | 315/2808 [00:08<00:59, 41.93it/s]\u001b[A\n",
            " 11%|█▏        | 320/2808 [00:09<00:59, 41.87it/s]\u001b[A\n",
            " 12%|█▏        | 325/2808 [00:09<00:59, 41.57it/s]\u001b[A\n",
            " 12%|█▏        | 330/2808 [00:09<00:59, 41.89it/s]\u001b[A\n",
            " 12%|█▏        | 335/2808 [00:09<00:59, 41.62it/s]\u001b[A\n",
            " 12%|█▏        | 340/2808 [00:09<00:59, 41.42it/s]\u001b[A\n",
            " 12%|█▏        | 345/2808 [00:09<00:59, 41.44it/s]\u001b[A\n",
            " 12%|█▏        | 350/2808 [00:09<00:59, 41.40it/s]\u001b[A\n",
            " 13%|█▎        | 355/2808 [00:09<00:59, 41.54it/s]\u001b[A\n",
            " 13%|█▎        | 360/2808 [00:09<00:58, 41.85it/s]\u001b[A\n",
            " 13%|█▎        | 365/2808 [00:10<00:58, 41.82it/s]\u001b[A\n",
            " 13%|█▎        | 370/2808 [00:10<00:58, 41.82it/s]\u001b[A\n",
            " 13%|█▎        | 375/2808 [00:10<00:58, 41.61it/s]\u001b[A\n",
            " 14%|█▎        | 380/2808 [00:10<00:58, 41.49it/s]\u001b[A\n",
            " 14%|█▎        | 385/2808 [00:10<00:58, 41.51it/s]\u001b[A\n",
            " 14%|█▍        | 390/2808 [00:10<00:58, 41.28it/s]\u001b[A\n",
            " 14%|█▍        | 395/2808 [00:10<00:57, 41.73it/s]\u001b[A\n",
            " 14%|█▍        | 400/2808 [00:10<00:57, 42.00it/s]\u001b[A\n",
            " 14%|█▍        | 405/2808 [00:11<00:57, 41.80it/s]\u001b[A"
          ],
          "name": "stderr"
        },
        {
          "output_type": "stream",
          "text": [
            "| epoch   3 |   400/ 2808 batches | lr 0.00 | loss  5.63 | ppl   279.56\n"
          ],
          "name": "stdout"
        },
        {
          "output_type": "stream",
          "text": [
            "\n",
            " 15%|█▍        | 410/2808 [00:11<00:57, 42.05it/s]\u001b[A\n",
            " 15%|█▍        | 415/2808 [00:11<00:56, 42.03it/s]\u001b[A\n",
            " 15%|█▍        | 420/2808 [00:11<00:57, 41.72it/s]\u001b[A\n",
            " 15%|█▌        | 425/2808 [00:11<00:57, 41.50it/s]\u001b[A\n",
            " 15%|█▌        | 430/2808 [00:11<00:57, 41.12it/s]\u001b[A\n",
            " 15%|█▌        | 435/2808 [00:11<00:57, 41.39it/s]\u001b[A\n",
            " 16%|█▌        | 440/2808 [00:11<00:56, 41.64it/s]\u001b[A\n",
            " 16%|█▌        | 445/2808 [00:12<00:56, 41.52it/s]\u001b[A\n",
            " 16%|█▌        | 450/2808 [00:12<00:56, 41.74it/s]\u001b[A\n",
            " 16%|█▌        | 455/2808 [00:12<00:56, 41.63it/s]\u001b[A\n",
            " 16%|█▋        | 460/2808 [00:12<00:55, 41.97it/s]\u001b[A\n",
            " 17%|█▋        | 465/2808 [00:12<00:55, 42.05it/s]\u001b[A\n",
            " 17%|█▋        | 470/2808 [00:12<00:55, 41.84it/s]\u001b[A\n",
            " 17%|█▋        | 475/2808 [00:12<00:56, 41.58it/s]\u001b[A\n",
            " 17%|█▋        | 480/2808 [00:12<00:55, 41.76it/s]\u001b[A\n",
            " 17%|█▋        | 485/2808 [00:12<00:55, 42.00it/s]\u001b[A\n",
            " 17%|█▋        | 490/2808 [00:13<00:55, 42.06it/s]\u001b[A\n",
            " 18%|█▊        | 495/2808 [00:13<00:54, 42.15it/s]\u001b[A\n",
            " 18%|█▊        | 500/2808 [00:13<00:54, 42.22it/s]\u001b[A\n",
            " 18%|█▊        | 505/2808 [00:13<00:54, 42.24it/s]\u001b[A"
          ],
          "name": "stderr"
        },
        {
          "output_type": "stream",
          "text": [
            "| epoch   3 |   500/ 2808 batches | lr 0.00 | loss  5.63 | ppl   279.57\n"
          ],
          "name": "stdout"
        },
        {
          "output_type": "stream",
          "text": [
            "\n",
            " 18%|█▊        | 510/2808 [00:13<00:54, 42.17it/s]\u001b[A\n",
            " 18%|█▊        | 515/2808 [00:13<00:54, 42.08it/s]\u001b[A\n",
            " 19%|█▊        | 520/2808 [00:13<00:54, 41.64it/s]\u001b[A\n",
            " 19%|█▊        | 525/2808 [00:13<00:54, 41.79it/s]\u001b[A\n",
            " 19%|█▉        | 530/2808 [00:14<00:54, 41.53it/s]\u001b[A\n",
            " 19%|█▉        | 535/2808 [00:14<00:55, 41.25it/s]\u001b[A\n",
            " 19%|█▉        | 540/2808 [00:14<00:54, 41.38it/s]\u001b[A\n",
            " 19%|█▉        | 545/2808 [00:14<00:54, 41.33it/s]\u001b[A\n",
            " 20%|█▉        | 550/2808 [00:14<00:54, 41.41it/s]\u001b[A\n",
            " 20%|█▉        | 555/2808 [00:14<00:54, 41.56it/s]\u001b[A\n",
            " 20%|█▉        | 560/2808 [00:14<00:53, 41.66it/s]\u001b[A\n",
            " 20%|██        | 565/2808 [00:14<00:54, 41.48it/s]\u001b[A\n",
            " 20%|██        | 570/2808 [00:15<00:53, 41.64it/s]\u001b[A\n",
            " 20%|██        | 575/2808 [00:15<00:54, 41.23it/s]\u001b[A\n",
            " 21%|██        | 580/2808 [00:15<00:54, 41.24it/s]\u001b[A\n",
            " 21%|██        | 585/2808 [00:15<00:54, 41.15it/s]\u001b[A\n",
            " 21%|██        | 590/2808 [00:15<00:54, 40.97it/s]\u001b[A\n",
            " 21%|██        | 595/2808 [00:15<00:54, 40.86it/s]\u001b[A\n",
            " 21%|██▏       | 600/2808 [00:15<00:53, 41.18it/s]\u001b[A\n",
            " 22%|██▏       | 605/2808 [00:15<00:53, 40.86it/s]\u001b[A"
          ],
          "name": "stderr"
        },
        {
          "output_type": "stream",
          "text": [
            "| epoch   3 |   600/ 2808 batches | lr 0.00 | loss  5.63 | ppl   279.57\n"
          ],
          "name": "stdout"
        },
        {
          "output_type": "stream",
          "text": [
            "\n",
            " 22%|██▏       | 610/2808 [00:15<00:53, 40.98it/s]\u001b[A\n",
            " 22%|██▏       | 615/2808 [00:16<00:53, 41.17it/s]\u001b[A\n",
            " 22%|██▏       | 620/2808 [00:16<00:52, 41.55it/s]\u001b[A\n",
            " 22%|██▏       | 625/2808 [00:16<00:52, 41.79it/s]\u001b[A\n",
            " 22%|██▏       | 630/2808 [00:16<00:52, 41.71it/s]\u001b[A\n",
            " 23%|██▎       | 635/2808 [00:16<00:52, 41.63it/s]\u001b[A\n",
            " 23%|██▎       | 640/2808 [00:16<00:52, 41.60it/s]\u001b[A\n",
            " 23%|██▎       | 645/2808 [00:16<00:51, 41.77it/s]\u001b[A\n",
            " 23%|██▎       | 650/2808 [00:16<00:51, 41.64it/s]\u001b[A\n",
            " 23%|██▎       | 655/2808 [00:17<00:51, 41.90it/s]\u001b[A\n",
            " 24%|██▎       | 660/2808 [00:17<00:51, 41.69it/s]\u001b[A\n",
            " 24%|██▎       | 665/2808 [00:17<00:51, 41.92it/s]\u001b[A\n",
            " 24%|██▍       | 670/2808 [00:17<00:50, 42.07it/s]\u001b[A\n",
            " 24%|██▍       | 675/2808 [00:17<00:51, 41.75it/s]\u001b[A\n",
            " 24%|██▍       | 680/2808 [00:17<00:50, 41.83it/s]\u001b[A\n",
            " 24%|██▍       | 685/2808 [00:17<00:50, 42.02it/s]\u001b[A\n",
            " 25%|██▍       | 690/2808 [00:17<00:50, 41.77it/s]\u001b[A\n",
            " 25%|██▍       | 695/2808 [00:18<00:50, 41.91it/s]\u001b[A\n",
            " 25%|██▍       | 700/2808 [00:18<00:50, 41.93it/s]\u001b[A\n",
            " 25%|██▌       | 705/2808 [00:18<00:50, 41.60it/s]\u001b[A"
          ],
          "name": "stderr"
        },
        {
          "output_type": "stream",
          "text": [
            "| epoch   3 |   700/ 2808 batches | lr 0.00 | loss  5.63 | ppl   279.65\n"
          ],
          "name": "stdout"
        },
        {
          "output_type": "stream",
          "text": [
            "\n",
            " 25%|██▌       | 710/2808 [00:18<00:50, 41.85it/s]\u001b[A\n",
            " 25%|██▌       | 715/2808 [00:18<00:49, 41.98it/s]\u001b[A\n",
            " 26%|██▌       | 720/2808 [00:18<00:50, 41.60it/s]\u001b[A\n",
            " 26%|██▌       | 725/2808 [00:18<00:50, 41.44it/s]\u001b[A\n",
            " 26%|██▌       | 730/2808 [00:18<00:49, 41.61it/s]\u001b[A\n",
            " 26%|██▌       | 735/2808 [00:18<00:49, 41.49it/s]\u001b[A\n",
            " 26%|██▋       | 740/2808 [00:19<00:49, 41.71it/s]\u001b[A\n",
            " 27%|██▋       | 745/2808 [00:19<00:49, 41.84it/s]\u001b[A\n",
            " 27%|██▋       | 750/2808 [00:19<00:48, 42.01it/s]\u001b[A\n",
            " 27%|██▋       | 755/2808 [00:19<00:49, 41.59it/s]\u001b[A\n",
            " 27%|██▋       | 760/2808 [00:19<00:48, 41.80it/s]\u001b[A\n",
            " 27%|██▋       | 765/2808 [00:19<00:49, 41.51it/s]\u001b[A\n",
            " 27%|██▋       | 770/2808 [00:19<00:49, 41.53it/s]\u001b[A\n",
            " 28%|██▊       | 775/2808 [00:19<00:48, 41.64it/s]\u001b[A\n",
            " 28%|██▊       | 780/2808 [00:20<00:48, 41.76it/s]\u001b[A\n",
            " 28%|██▊       | 785/2808 [00:20<00:48, 41.82it/s]\u001b[A\n",
            " 28%|██▊       | 790/2808 [00:20<00:48, 41.68it/s]\u001b[A\n",
            " 28%|██▊       | 795/2808 [00:20<00:48, 41.77it/s]\u001b[A\n",
            " 28%|██▊       | 800/2808 [00:20<00:48, 41.47it/s]\u001b[A\n",
            " 29%|██▊       | 805/2808 [00:20<00:48, 41.48it/s]\u001b[A"
          ],
          "name": "stderr"
        },
        {
          "output_type": "stream",
          "text": [
            "| epoch   3 |   800/ 2808 batches | lr 0.00 | loss  5.63 | ppl   279.56\n"
          ],
          "name": "stdout"
        },
        {
          "output_type": "stream",
          "text": [
            "\n",
            " 29%|██▉       | 810/2808 [00:20<00:48, 41.44it/s]\u001b[A\n",
            " 29%|██▉       | 815/2808 [00:20<00:47, 41.58it/s]\u001b[A\n",
            " 29%|██▉       | 820/2808 [00:21<00:47, 41.79it/s]\u001b[A\n",
            " 29%|██▉       | 825/2808 [00:21<00:47, 42.00it/s]\u001b[A\n",
            " 30%|██▉       | 830/2808 [00:21<00:47, 41.61it/s]\u001b[A\n",
            " 30%|██▉       | 835/2808 [00:21<00:47, 41.84it/s]\u001b[A\n",
            " 30%|██▉       | 840/2808 [00:21<00:47, 41.47it/s]\u001b[A\n",
            " 30%|███       | 845/2808 [00:21<00:47, 41.62it/s]\u001b[A\n",
            " 30%|███       | 850/2808 [00:21<00:46, 41.79it/s]\u001b[A\n",
            " 30%|███       | 855/2808 [00:21<00:46, 41.70it/s]\u001b[A\n",
            " 31%|███       | 860/2808 [00:21<00:46, 41.93it/s]\u001b[A\n",
            " 31%|███       | 865/2808 [00:22<00:46, 41.58it/s]\u001b[A\n",
            " 31%|███       | 870/2808 [00:22<00:46, 41.80it/s]\u001b[A\n",
            " 31%|███       | 875/2808 [00:22<00:46, 41.63it/s]\u001b[A\n",
            " 31%|███▏      | 880/2808 [00:22<00:46, 41.83it/s]\u001b[A\n",
            " 32%|███▏      | 885/2808 [00:22<00:45, 41.97it/s]\u001b[A\n",
            " 32%|███▏      | 890/2808 [00:22<00:45, 42.05it/s]\u001b[A\n",
            " 32%|███▏      | 895/2808 [00:22<00:46, 41.57it/s]\u001b[A\n",
            " 32%|███▏      | 900/2808 [00:22<00:45, 41.69it/s]\u001b[A\n",
            " 32%|███▏      | 905/2808 [00:23<00:45, 41.79it/s]\u001b[A"
          ],
          "name": "stderr"
        },
        {
          "output_type": "stream",
          "text": [
            "| epoch   3 |   900/ 2808 batches | lr 0.00 | loss  5.63 | ppl   279.55\n"
          ],
          "name": "stdout"
        },
        {
          "output_type": "stream",
          "text": [
            "\n",
            " 32%|███▏      | 910/2808 [00:23<00:45, 41.89it/s]\u001b[A\n",
            " 33%|███▎      | 915/2808 [00:23<00:44, 42.08it/s]\u001b[A\n",
            " 33%|███▎      | 920/2808 [00:23<00:44, 42.15it/s]\u001b[A\n",
            " 33%|███▎      | 925/2808 [00:23<00:45, 41.78it/s]\u001b[A\n",
            " 33%|███▎      | 930/2808 [00:23<00:44, 41.99it/s]\u001b[A\n",
            " 33%|███▎      | 935/2808 [00:23<00:44, 41.94it/s]\u001b[A\n",
            " 33%|███▎      | 940/2808 [00:23<00:44, 41.62it/s]\u001b[A\n",
            " 34%|███▎      | 945/2808 [00:24<00:44, 41.90it/s]\u001b[A\n",
            " 34%|███▍      | 950/2808 [00:24<00:44, 41.85it/s]\u001b[A\n",
            " 34%|███▍      | 955/2808 [00:24<00:44, 41.77it/s]\u001b[A\n",
            " 34%|███▍      | 960/2808 [00:24<00:44, 41.82it/s]\u001b[A\n",
            " 34%|███▍      | 965/2808 [00:24<00:44, 41.74it/s]\u001b[A\n",
            " 35%|███▍      | 970/2808 [00:24<00:44, 41.21it/s]\u001b[A\n",
            " 35%|███▍      | 975/2808 [00:24<00:44, 41.36it/s]\u001b[A\n",
            " 35%|███▍      | 980/2808 [00:24<00:44, 41.38it/s]\u001b[A\n",
            " 35%|███▌      | 985/2808 [00:24<00:44, 41.17it/s]\u001b[A\n",
            " 35%|███▌      | 990/2808 [00:25<00:43, 41.58it/s]\u001b[A\n",
            " 35%|███▌      | 995/2808 [00:25<00:43, 41.78it/s]\u001b[A\n",
            " 36%|███▌      | 1000/2808 [00:25<00:43, 42.01it/s]\u001b[A\n",
            " 36%|███▌      | 1005/2808 [00:25<00:42, 42.07it/s]\u001b[A"
          ],
          "name": "stderr"
        },
        {
          "output_type": "stream",
          "text": [
            "| epoch   3 |  1000/ 2808 batches | lr 0.00 | loss  5.63 | ppl   279.60\n"
          ],
          "name": "stdout"
        },
        {
          "output_type": "stream",
          "text": [
            "\n",
            " 36%|███▌      | 1010/2808 [00:25<00:42, 42.30it/s]\u001b[A\n",
            " 36%|███▌      | 1015/2808 [00:25<00:42, 42.34it/s]\u001b[A\n",
            " 36%|███▋      | 1020/2808 [00:25<00:42, 42.09it/s]\u001b[A\n",
            " 37%|███▋      | 1025/2808 [00:25<00:42, 41.64it/s]\u001b[A\n",
            " 37%|███▋      | 1030/2808 [00:26<00:42, 41.62it/s]\u001b[A\n",
            " 37%|███▋      | 1035/2808 [00:26<00:42, 41.32it/s]\u001b[A\n",
            " 37%|███▋      | 1040/2808 [00:26<00:43, 41.09it/s]\u001b[A\n",
            " 37%|███▋      | 1045/2808 [00:26<00:42, 41.22it/s]\u001b[A\n",
            " 37%|███▋      | 1050/2808 [00:26<00:42, 41.57it/s]\u001b[A\n",
            " 38%|███▊      | 1055/2808 [00:26<00:42, 41.72it/s]\u001b[A\n",
            " 38%|███▊      | 1060/2808 [00:26<00:41, 41.91it/s]\u001b[A\n",
            " 38%|███▊      | 1065/2808 [00:26<00:41, 42.09it/s]\u001b[A\n",
            " 38%|███▊      | 1070/2808 [00:27<00:41, 41.57it/s]\u001b[A\n",
            " 38%|███▊      | 1075/2808 [00:27<00:41, 41.71it/s]\u001b[A\n",
            " 38%|███▊      | 1080/2808 [00:27<00:41, 41.91it/s]\u001b[A\n",
            " 39%|███▊      | 1085/2808 [00:27<00:41, 41.65it/s]\u001b[A\n",
            " 39%|███▉      | 1090/2808 [00:27<00:41, 41.46it/s]\u001b[A\n",
            " 39%|███▉      | 1095/2808 [00:27<00:41, 41.01it/s]\u001b[A\n",
            " 39%|███▉      | 1100/2808 [00:27<00:41, 41.01it/s]\u001b[A\n",
            " 39%|███▉      | 1105/2808 [00:27<00:41, 41.41it/s]\u001b[A"
          ],
          "name": "stderr"
        },
        {
          "output_type": "stream",
          "text": [
            "| epoch   3 |  1100/ 2808 batches | lr 0.00 | loss  5.63 | ppl   279.60\n"
          ],
          "name": "stdout"
        },
        {
          "output_type": "stream",
          "text": [
            "\n",
            " 40%|███▉      | 1110/2808 [00:27<00:40, 41.71it/s]\u001b[A\n",
            " 40%|███▉      | 1115/2808 [00:28<00:40, 41.86it/s]\u001b[A\n",
            " 40%|███▉      | 1120/2808 [00:28<00:40, 42.01it/s]\u001b[A\n",
            " 40%|████      | 1125/2808 [00:28<00:40, 41.72it/s]\u001b[A\n",
            " 40%|████      | 1130/2808 [00:28<00:40, 41.91it/s]\u001b[A\n",
            " 40%|████      | 1135/2808 [00:28<00:39, 42.02it/s]\u001b[A\n",
            " 41%|████      | 1140/2808 [00:28<00:39, 42.21it/s]\u001b[A\n",
            " 41%|████      | 1145/2808 [00:28<00:39, 42.30it/s]\u001b[A\n",
            " 41%|████      | 1150/2808 [00:28<00:39, 42.21it/s]\u001b[A\n",
            " 41%|████      | 1155/2808 [00:29<00:39, 41.69it/s]\u001b[A\n",
            " 41%|████▏     | 1160/2808 [00:29<00:39, 41.82it/s]\u001b[A\n",
            " 41%|████▏     | 1165/2808 [00:29<00:39, 41.92it/s]\u001b[A\n",
            " 42%|████▏     | 1170/2808 [00:29<00:39, 41.50it/s]\u001b[A\n",
            " 42%|████▏     | 1175/2808 [00:29<00:39, 41.84it/s]\u001b[A\n",
            " 42%|████▏     | 1180/2808 [00:29<00:38, 41.79it/s]\u001b[A\n",
            " 42%|████▏     | 1185/2808 [00:29<00:39, 41.42it/s]\u001b[A\n",
            " 42%|████▏     | 1190/2808 [00:29<00:39, 41.29it/s]\u001b[A\n",
            " 43%|████▎     | 1195/2808 [00:30<00:39, 41.23it/s]\u001b[A\n",
            " 43%|████▎     | 1200/2808 [00:30<00:38, 41.48it/s]\u001b[A\n",
            " 43%|████▎     | 1205/2808 [00:30<00:38, 41.72it/s]\u001b[A"
          ],
          "name": "stderr"
        },
        {
          "output_type": "stream",
          "text": [
            "| epoch   3 |  1200/ 2808 batches | lr 0.00 | loss  5.63 | ppl   279.64\n"
          ],
          "name": "stdout"
        },
        {
          "output_type": "stream",
          "text": [
            "\n",
            " 43%|████▎     | 1210/2808 [00:30<00:38, 41.67it/s]\u001b[A\n",
            " 43%|████▎     | 1215/2808 [00:30<00:38, 41.81it/s]\u001b[A\n",
            " 43%|████▎     | 1220/2808 [00:30<00:37, 41.92it/s]\u001b[A\n",
            " 44%|████▎     | 1225/2808 [00:30<00:38, 41.62it/s]\u001b[A\n",
            " 44%|████▍     | 1230/2808 [00:30<00:38, 41.40it/s]\u001b[A\n",
            " 44%|████▍     | 1235/2808 [00:30<00:37, 41.50it/s]\u001b[A\n",
            " 44%|████▍     | 1240/2808 [00:31<00:37, 41.52it/s]\u001b[A\n",
            " 44%|████▍     | 1245/2808 [00:31<00:37, 41.42it/s]\u001b[A\n",
            " 45%|████▍     | 1250/2808 [00:31<00:37, 41.71it/s]\u001b[A\n",
            " 45%|████▍     | 1255/2808 [00:31<00:37, 41.96it/s]\u001b[A\n",
            " 45%|████▍     | 1260/2808 [00:31<00:36, 42.14it/s]\u001b[A\n",
            " 45%|████▌     | 1265/2808 [00:31<00:36, 42.32it/s]\u001b[A\n",
            " 45%|████▌     | 1270/2808 [00:31<00:36, 41.99it/s]\u001b[A\n",
            " 45%|████▌     | 1275/2808 [00:31<00:36, 42.16it/s]\u001b[A\n",
            " 46%|████▌     | 1280/2808 [00:32<00:36, 41.95it/s]\u001b[A\n",
            " 46%|████▌     | 1285/2808 [00:32<00:36, 42.03it/s]\u001b[A\n",
            " 46%|████▌     | 1290/2808 [00:32<00:36, 41.76it/s]\u001b[A\n",
            " 46%|████▌     | 1295/2808 [00:32<00:36, 41.76it/s]\u001b[A\n",
            " 46%|████▋     | 1300/2808 [00:32<00:36, 41.78it/s]\u001b[A\n",
            " 46%|████▋     | 1305/2808 [00:32<00:35, 41.95it/s]\u001b[A"
          ],
          "name": "stderr"
        },
        {
          "output_type": "stream",
          "text": [
            "| epoch   3 |  1300/ 2808 batches | lr 0.00 | loss  5.63 | ppl   279.54\n"
          ],
          "name": "stdout"
        },
        {
          "output_type": "stream",
          "text": [
            "\n",
            " 47%|████▋     | 1310/2808 [00:32<00:35, 41.70it/s]\u001b[A\n",
            " 47%|████▋     | 1315/2808 [00:32<00:35, 41.76it/s]\u001b[A\n",
            " 47%|████▋     | 1320/2808 [00:33<00:35, 41.71it/s]\u001b[A\n",
            " 47%|████▋     | 1325/2808 [00:33<00:35, 41.62it/s]\u001b[A\n",
            " 47%|████▋     | 1330/2808 [00:33<00:35, 41.36it/s]\u001b[A\n",
            " 48%|████▊     | 1335/2808 [00:33<00:35, 41.58it/s]\u001b[A\n",
            " 48%|████▊     | 1340/2808 [00:33<00:35, 41.69it/s]\u001b[A\n",
            " 48%|████▊     | 1345/2808 [00:33<00:34, 41.84it/s]\u001b[A\n",
            " 48%|████▊     | 1350/2808 [00:33<00:35, 41.53it/s]\u001b[A\n",
            " 48%|████▊     | 1355/2808 [00:33<00:35, 41.40it/s]\u001b[A\n",
            " 48%|████▊     | 1360/2808 [00:33<00:35, 41.24it/s]\u001b[A\n",
            " 49%|████▊     | 1365/2808 [00:34<00:35, 41.08it/s]\u001b[A\n",
            " 49%|████▉     | 1370/2808 [00:34<00:35, 40.94it/s]\u001b[A\n",
            " 49%|████▉     | 1375/2808 [00:34<00:34, 41.14it/s]\u001b[A\n",
            " 49%|████▉     | 1380/2808 [00:34<00:34, 41.05it/s]\u001b[A\n",
            " 49%|████▉     | 1385/2808 [00:34<00:34, 41.09it/s]\u001b[A\n",
            " 50%|████▉     | 1390/2808 [00:34<00:34, 41.05it/s]\u001b[A\n",
            " 50%|████▉     | 1395/2808 [00:34<00:34, 40.92it/s]\u001b[A\n",
            " 50%|████▉     | 1400/2808 [00:34<00:34, 40.92it/s]\u001b[A\n",
            " 50%|█████     | 1405/2808 [00:35<00:34, 40.75it/s]\u001b[A"
          ],
          "name": "stderr"
        },
        {
          "output_type": "stream",
          "text": [
            "| epoch   3 |  1400/ 2808 batches | lr 0.00 | loss  5.63 | ppl   279.61\n"
          ],
          "name": "stdout"
        },
        {
          "output_type": "stream",
          "text": [
            "\n",
            " 50%|█████     | 1410/2808 [00:35<00:34, 40.84it/s]\u001b[A\n",
            " 50%|█████     | 1415/2808 [00:35<00:33, 41.08it/s]\u001b[A\n",
            " 51%|█████     | 1420/2808 [00:35<00:33, 41.40it/s]\u001b[A\n",
            " 51%|█████     | 1425/2808 [00:35<00:33, 41.29it/s]\u001b[A\n",
            " 51%|█████     | 1430/2808 [00:35<00:33, 41.57it/s]\u001b[A\n",
            " 51%|█████     | 1435/2808 [00:35<00:33, 41.25it/s]\u001b[A\n",
            " 51%|█████▏    | 1440/2808 [00:35<00:33, 41.38it/s]\u001b[A\n",
            " 51%|█████▏    | 1445/2808 [00:36<00:32, 41.46it/s]\u001b[A\n",
            " 52%|█████▏    | 1450/2808 [00:36<00:33, 40.87it/s]\u001b[A\n",
            " 52%|█████▏    | 1455/2808 [00:36<00:32, 41.23it/s]\u001b[A\n",
            " 52%|█████▏    | 1460/2808 [00:36<00:32, 41.48it/s]\u001b[A\n",
            " 52%|█████▏    | 1465/2808 [00:36<00:32, 41.14it/s]\u001b[A\n",
            " 52%|█████▏    | 1470/2808 [00:36<00:32, 41.20it/s]\u001b[A\n",
            " 53%|█████▎    | 1475/2808 [00:36<00:32, 41.40it/s]\u001b[A\n",
            " 53%|█████▎    | 1480/2808 [00:36<00:31, 41.65it/s]\u001b[A\n",
            " 53%|█████▎    | 1485/2808 [00:37<00:31, 41.47it/s]\u001b[A\n",
            " 53%|█████▎    | 1490/2808 [00:37<00:31, 41.44it/s]\u001b[A\n",
            " 53%|█████▎    | 1495/2808 [00:37<00:31, 41.61it/s]\u001b[A\n",
            " 53%|█████▎    | 1500/2808 [00:37<00:31, 41.35it/s]\u001b[A\n",
            " 54%|█████▎    | 1505/2808 [00:37<00:31, 41.16it/s]\u001b[A"
          ],
          "name": "stderr"
        },
        {
          "output_type": "stream",
          "text": [
            "| epoch   3 |  1500/ 2808 batches | lr 0.00 | loss  5.63 | ppl   279.62\n"
          ],
          "name": "stdout"
        },
        {
          "output_type": "stream",
          "text": [
            "\n",
            " 54%|█████▍    | 1510/2808 [00:37<00:31, 41.52it/s]\u001b[A\n",
            " 54%|█████▍    | 1515/2808 [00:37<00:31, 41.57it/s]\u001b[A\n",
            " 54%|█████▍    | 1520/2808 [00:37<00:31, 41.51it/s]\u001b[A\n",
            " 54%|█████▍    | 1525/2808 [00:37<00:30, 41.54it/s]\u001b[A\n",
            " 54%|█████▍    | 1530/2808 [00:38<00:30, 41.29it/s]\u001b[A\n",
            " 55%|█████▍    | 1535/2808 [00:38<00:30, 41.39it/s]\u001b[A\n",
            " 55%|█████▍    | 1540/2808 [00:38<00:30, 41.58it/s]\u001b[A\n",
            " 55%|█████▌    | 1545/2808 [00:38<00:30, 41.70it/s]\u001b[A\n",
            " 55%|█████▌    | 1550/2808 [00:38<00:30, 41.87it/s]\u001b[A\n",
            " 55%|█████▌    | 1555/2808 [00:38<00:30, 41.47it/s]\u001b[A\n",
            " 56%|█████▌    | 1560/2808 [00:38<00:30, 41.39it/s]\u001b[A\n",
            " 56%|█████▌    | 1565/2808 [00:38<00:30, 41.36it/s]\u001b[A\n",
            " 56%|█████▌    | 1570/2808 [00:39<00:30, 41.03it/s]\u001b[A\n",
            " 56%|█████▌    | 1575/2808 [00:39<00:30, 41.02it/s]\u001b[A\n",
            " 56%|█████▋    | 1580/2808 [00:39<00:30, 40.81it/s]\u001b[A\n",
            " 56%|█████▋    | 1585/2808 [00:39<00:29, 41.27it/s]\u001b[A\n",
            " 57%|█████▋    | 1590/2808 [00:39<00:29, 41.14it/s]\u001b[A\n",
            " 57%|█████▋    | 1595/2808 [00:39<00:29, 41.20it/s]\u001b[A\n",
            " 57%|█████▋    | 1600/2808 [00:39<00:29, 41.52it/s]\u001b[A\n",
            " 57%|█████▋    | 1605/2808 [00:39<00:29, 41.38it/s]\u001b[A"
          ],
          "name": "stderr"
        },
        {
          "output_type": "stream",
          "text": [
            "| epoch   3 |  1600/ 2808 batches | lr 0.00 | loss  5.63 | ppl   279.60\n"
          ],
          "name": "stdout"
        },
        {
          "output_type": "stream",
          "text": [
            "\n",
            " 57%|█████▋    | 1610/2808 [00:40<00:29, 41.28it/s]\u001b[A\n",
            " 58%|█████▊    | 1615/2808 [00:40<00:28, 41.32it/s]\u001b[A\n",
            " 58%|█████▊    | 1620/2808 [00:40<00:28, 41.50it/s]\u001b[A\n",
            " 58%|█████▊    | 1625/2808 [00:40<00:28, 41.80it/s]\u001b[A\n",
            " 58%|█████▊    | 1630/2808 [00:40<00:28, 41.95it/s]\u001b[A\n",
            " 58%|█████▊    | 1635/2808 [00:40<00:28, 41.72it/s]\u001b[A\n",
            " 58%|█████▊    | 1640/2808 [00:40<00:27, 41.91it/s]\u001b[A\n",
            " 59%|█████▊    | 1645/2808 [00:40<00:27, 41.98it/s]\u001b[A\n",
            " 59%|█████▉    | 1650/2808 [00:40<00:27, 42.07it/s]\u001b[A\n",
            " 59%|█████▉    | 1655/2808 [00:41<00:27, 42.10it/s]\u001b[A\n",
            " 59%|█████▉    | 1660/2808 [00:41<00:27, 41.53it/s]\u001b[A\n",
            " 59%|█████▉    | 1665/2808 [00:41<00:27, 41.13it/s]\u001b[A\n",
            " 59%|█████▉    | 1670/2808 [00:41<00:27, 41.18it/s]\u001b[A\n",
            " 60%|█████▉    | 1675/2808 [00:41<00:27, 41.21it/s]\u001b[A\n",
            " 60%|█████▉    | 1680/2808 [00:41<00:27, 41.48it/s]\u001b[A\n",
            " 60%|██████    | 1685/2808 [00:41<00:27, 41.30it/s]\u001b[A\n",
            " 60%|██████    | 1690/2808 [00:41<00:27, 41.05it/s]\u001b[A\n",
            " 60%|██████    | 1695/2808 [00:42<00:26, 41.43it/s]\u001b[A\n",
            " 61%|██████    | 1700/2808 [00:42<00:26, 41.47it/s]\u001b[A\n",
            " 61%|██████    | 1705/2808 [00:42<00:26, 41.69it/s]\u001b[A"
          ],
          "name": "stderr"
        },
        {
          "output_type": "stream",
          "text": [
            "| epoch   3 |  1700/ 2808 batches | lr 0.00 | loss  5.63 | ppl   279.65\n"
          ],
          "name": "stdout"
        },
        {
          "output_type": "stream",
          "text": [
            "\n",
            " 61%|██████    | 1710/2808 [00:42<00:26, 41.81it/s]\u001b[A\n",
            " 61%|██████    | 1715/2808 [00:42<00:26, 41.87it/s]\u001b[A\n",
            " 61%|██████▏   | 1720/2808 [00:42<00:25, 41.96it/s]\u001b[A\n",
            " 61%|██████▏   | 1725/2808 [00:42<00:25, 42.00it/s]\u001b[A\n",
            " 62%|██████▏   | 1730/2808 [00:42<00:25, 42.00it/s]\u001b[A\n",
            " 62%|██████▏   | 1735/2808 [00:43<00:25, 41.50it/s]\u001b[A\n",
            " 62%|██████▏   | 1740/2808 [00:43<00:26, 40.93it/s]\u001b[A\n",
            " 62%|██████▏   | 1745/2808 [00:43<00:25, 41.12it/s]\u001b[A\n",
            " 62%|██████▏   | 1750/2808 [00:43<00:25, 41.39it/s]\u001b[A\n",
            " 62%|██████▎   | 1755/2808 [00:43<00:25, 41.24it/s]\u001b[A\n",
            " 63%|██████▎   | 1760/2808 [00:43<00:25, 41.00it/s]\u001b[A\n",
            " 63%|██████▎   | 1765/2808 [00:43<00:25, 41.36it/s]\u001b[A\n",
            " 63%|██████▎   | 1770/2808 [00:43<00:25, 41.34it/s]\u001b[A\n",
            " 63%|██████▎   | 1775/2808 [00:44<00:25, 41.27it/s]\u001b[A\n",
            " 63%|██████▎   | 1780/2808 [00:44<00:24, 41.43it/s]\u001b[A\n",
            " 64%|██████▎   | 1785/2808 [00:44<00:24, 41.58it/s]\u001b[A\n",
            " 64%|██████▎   | 1790/2808 [00:44<00:24, 41.40it/s]\u001b[A\n",
            " 64%|██████▍   | 1795/2808 [00:44<00:24, 41.74it/s]\u001b[A\n",
            " 64%|██████▍   | 1800/2808 [00:44<00:24, 41.50it/s]\u001b[A\n",
            " 64%|██████▍   | 1805/2808 [00:44<00:24, 41.45it/s]\u001b[A"
          ],
          "name": "stderr"
        },
        {
          "output_type": "stream",
          "text": [
            "| epoch   3 |  1800/ 2808 batches | lr 0.00 | loss  5.63 | ppl   279.49\n"
          ],
          "name": "stdout"
        },
        {
          "output_type": "stream",
          "text": [
            "\n",
            " 64%|██████▍   | 1810/2808 [00:44<00:24, 41.24it/s]\u001b[A\n",
            " 65%|██████▍   | 1815/2808 [00:44<00:23, 41.62it/s]\u001b[A\n",
            " 65%|██████▍   | 1820/2808 [00:45<00:23, 41.84it/s]\u001b[A\n",
            " 65%|██████▍   | 1825/2808 [00:45<00:23, 41.42it/s]\u001b[A\n",
            " 65%|██████▌   | 1830/2808 [00:45<00:23, 41.41it/s]\u001b[A\n",
            " 65%|██████▌   | 1835/2808 [00:45<00:23, 41.21it/s]\u001b[A\n",
            " 66%|██████▌   | 1840/2808 [00:45<00:23, 41.16it/s]\u001b[A\n",
            " 66%|██████▌   | 1845/2808 [00:45<00:23, 41.47it/s]\u001b[A\n",
            " 66%|██████▌   | 1850/2808 [00:45<00:23, 41.36it/s]\u001b[A\n",
            " 66%|██████▌   | 1855/2808 [00:45<00:23, 41.38it/s]\u001b[A\n",
            " 66%|██████▌   | 1860/2808 [00:46<00:22, 41.24it/s]\u001b[A\n",
            " 66%|██████▋   | 1865/2808 [00:46<00:22, 41.32it/s]\u001b[A\n",
            " 67%|██████▋   | 1870/2808 [00:46<00:22, 41.19it/s]\u001b[A\n",
            " 67%|██████▋   | 1875/2808 [00:46<00:22, 41.50it/s]\u001b[A\n",
            " 67%|██████▋   | 1880/2808 [00:46<00:22, 41.16it/s]\u001b[A\n",
            " 67%|██████▋   | 1885/2808 [00:46<00:22, 41.26it/s]\u001b[A\n",
            " 67%|██████▋   | 1890/2808 [00:46<00:22, 41.24it/s]\u001b[A\n",
            " 67%|██████▋   | 1895/2808 [00:46<00:21, 41.56it/s]\u001b[A\n",
            " 68%|██████▊   | 1900/2808 [00:47<00:21, 41.59it/s]\u001b[A\n",
            " 68%|██████▊   | 1905/2808 [00:47<00:21, 41.64it/s]\u001b[A"
          ],
          "name": "stderr"
        },
        {
          "output_type": "stream",
          "text": [
            "| epoch   3 |  1900/ 2808 batches | lr 0.00 | loss  5.63 | ppl   279.59\n"
          ],
          "name": "stdout"
        },
        {
          "output_type": "stream",
          "text": [
            "\n",
            " 68%|██████▊   | 1910/2808 [00:47<00:21, 41.73it/s]\u001b[A\n",
            " 68%|██████▊   | 1915/2808 [00:47<00:21, 41.83it/s]\u001b[A\n",
            " 68%|██████▊   | 1920/2808 [00:47<00:21, 41.91it/s]\u001b[A\n",
            " 69%|██████▊   | 1925/2808 [00:47<00:21, 41.73it/s]\u001b[A\n",
            " 69%|██████▊   | 1930/2808 [00:47<00:20, 41.93it/s]\u001b[A\n",
            " 69%|██████▉   | 1935/2808 [00:47<00:21, 41.53it/s]\u001b[A\n",
            " 69%|██████▉   | 1940/2808 [00:47<00:20, 41.34it/s]\u001b[A\n",
            " 69%|██████▉   | 1945/2808 [00:48<00:21, 41.00it/s]\u001b[A\n",
            " 69%|██████▉   | 1950/2808 [00:48<00:20, 41.15it/s]\u001b[A\n",
            " 70%|██████▉   | 1955/2808 [00:48<00:20, 41.16it/s]\u001b[A\n",
            " 70%|██████▉   | 1960/2808 [00:48<00:20, 41.44it/s]\u001b[A\n",
            " 70%|██████▉   | 1965/2808 [00:48<00:20, 41.72it/s]\u001b[A\n",
            " 70%|███████   | 1970/2808 [00:48<00:19, 41.92it/s]\u001b[A\n",
            " 70%|███████   | 1975/2808 [00:48<00:19, 42.11it/s]\u001b[A\n",
            " 71%|███████   | 1980/2808 [00:48<00:19, 42.17it/s]\u001b[A\n",
            " 71%|███████   | 1985/2808 [00:49<00:19, 41.91it/s]\u001b[A\n",
            " 71%|███████   | 1990/2808 [00:49<00:19, 42.03it/s]\u001b[A\n",
            " 71%|███████   | 1995/2808 [00:49<00:19, 42.00it/s]\u001b[A\n",
            " 71%|███████   | 2000/2808 [00:49<00:19, 42.14it/s]\u001b[A\n",
            " 71%|███████▏  | 2005/2808 [00:49<00:19, 42.24it/s]\u001b[A"
          ],
          "name": "stderr"
        },
        {
          "output_type": "stream",
          "text": [
            "| epoch   3 |  2000/ 2808 batches | lr 0.00 | loss  5.63 | ppl   279.60\n"
          ],
          "name": "stdout"
        },
        {
          "output_type": "stream",
          "text": [
            "\n",
            " 72%|███████▏  | 2010/2808 [00:49<00:18, 42.30it/s]\u001b[A\n",
            " 72%|███████▏  | 2015/2808 [00:49<00:18, 42.34it/s]\u001b[A\n",
            " 72%|███████▏  | 2020/2808 [00:49<00:18, 42.39it/s]\u001b[A\n",
            " 72%|███████▏  | 2025/2808 [00:49<00:18, 42.37it/s]\u001b[A\n",
            " 72%|███████▏  | 2030/2808 [00:50<00:18, 42.32it/s]\u001b[A\n",
            " 72%|███████▏  | 2035/2808 [00:50<00:18, 42.38it/s]\u001b[A\n",
            " 73%|███████▎  | 2040/2808 [00:50<00:18, 42.43it/s]\u001b[A\n",
            " 73%|███████▎  | 2045/2808 [00:50<00:18, 42.30it/s]\u001b[A\n",
            " 73%|███████▎  | 2050/2808 [00:50<00:17, 42.38it/s]\u001b[A\n",
            " 73%|███████▎  | 2055/2808 [00:50<00:17, 42.51it/s]\u001b[A\n",
            " 73%|███████▎  | 2060/2808 [00:50<00:17, 42.36it/s]\u001b[A\n",
            " 74%|███████▎  | 2065/2808 [00:50<00:17, 42.21it/s]\u001b[A\n",
            " 74%|███████▎  | 2070/2808 [00:51<00:17, 41.93it/s]\u001b[A\n",
            " 74%|███████▍  | 2075/2808 [00:51<00:17, 41.99it/s]\u001b[A\n",
            " 74%|███████▍  | 2080/2808 [00:51<00:17, 42.07it/s]\u001b[A\n",
            " 74%|███████▍  | 2085/2808 [00:51<00:17, 41.66it/s]\u001b[A\n",
            " 74%|███████▍  | 2090/2808 [00:51<00:17, 41.82it/s]\u001b[A\n",
            " 75%|███████▍  | 2095/2808 [00:51<00:17, 41.89it/s]\u001b[A\n",
            " 75%|███████▍  | 2100/2808 [00:51<00:16, 41.72it/s]\u001b[A\n",
            " 75%|███████▍  | 2105/2808 [00:51<00:16, 41.47it/s]\u001b[A"
          ],
          "name": "stderr"
        },
        {
          "output_type": "stream",
          "text": [
            "| epoch   3 |  2100/ 2808 batches | lr 0.00 | loss  5.63 | ppl   279.54\n"
          ],
          "name": "stdout"
        },
        {
          "output_type": "stream",
          "text": [
            "\n",
            " 75%|███████▌  | 2110/2808 [00:52<00:16, 41.72it/s]\u001b[A\n",
            " 75%|███████▌  | 2115/2808 [00:52<00:16, 41.78it/s]\u001b[A\n",
            " 75%|███████▌  | 2120/2808 [00:52<00:16, 41.78it/s]\u001b[A\n",
            " 76%|███████▌  | 2125/2808 [00:52<00:16, 41.83it/s]\u001b[A\n",
            " 76%|███████▌  | 2130/2808 [00:52<00:16, 41.57it/s]\u001b[A\n",
            " 76%|███████▌  | 2135/2808 [00:52<00:16, 41.75it/s]\u001b[A\n",
            " 76%|███████▌  | 2140/2808 [00:52<00:16, 41.53it/s]\u001b[A\n",
            " 76%|███████▋  | 2145/2808 [00:52<00:16, 41.40it/s]\u001b[A\n",
            " 77%|███████▋  | 2150/2808 [00:52<00:15, 41.67it/s]\u001b[A\n",
            " 77%|███████▋  | 2155/2808 [00:53<00:15, 41.91it/s]\u001b[A\n",
            " 77%|███████▋  | 2160/2808 [00:53<00:15, 42.02it/s]\u001b[A\n",
            " 77%|███████▋  | 2165/2808 [00:53<00:15, 42.17it/s]\u001b[A\n",
            " 77%|███████▋  | 2170/2808 [00:53<00:15, 42.21it/s]\u001b[A\n",
            " 77%|███████▋  | 2175/2808 [00:53<00:14, 42.28it/s]\u001b[A\n",
            " 78%|███████▊  | 2180/2808 [00:53<00:14, 42.22it/s]\u001b[A\n",
            " 78%|███████▊  | 2185/2808 [00:53<00:14, 42.15it/s]\u001b[A\n",
            " 78%|███████▊  | 2190/2808 [00:53<00:14, 42.03it/s]\u001b[A\n",
            " 78%|███████▊  | 2195/2808 [00:54<00:14, 41.83it/s]\u001b[A\n",
            " 78%|███████▊  | 2200/2808 [00:54<00:14, 41.86it/s]\u001b[A\n",
            " 79%|███████▊  | 2205/2808 [00:54<00:14, 41.53it/s]\u001b[A"
          ],
          "name": "stderr"
        },
        {
          "output_type": "stream",
          "text": [
            "| epoch   3 |  2200/ 2808 batches | lr 0.00 | loss  5.63 | ppl   279.57\n"
          ],
          "name": "stdout"
        },
        {
          "output_type": "stream",
          "text": [
            "\n",
            " 79%|███████▊  | 2210/2808 [00:54<00:14, 41.45it/s]\u001b[A\n",
            " 79%|███████▉  | 2215/2808 [00:54<00:14, 41.40it/s]\u001b[A\n",
            " 79%|███████▉  | 2220/2808 [00:54<00:14, 41.50it/s]\u001b[A\n",
            " 79%|███████▉  | 2225/2808 [00:54<00:13, 41.72it/s]\u001b[A\n",
            " 79%|███████▉  | 2230/2808 [00:54<00:13, 41.74it/s]\u001b[A\n",
            " 80%|███████▉  | 2235/2808 [00:55<00:13, 41.86it/s]\u001b[A\n",
            " 80%|███████▉  | 2240/2808 [00:55<00:13, 41.97it/s]\u001b[A\n",
            " 80%|███████▉  | 2245/2808 [00:55<00:13, 42.07it/s]\u001b[A\n",
            " 80%|████████  | 2250/2808 [00:55<00:13, 41.94it/s]\u001b[A\n",
            " 80%|████████  | 2255/2808 [00:55<00:13, 42.05it/s]\u001b[A\n",
            " 80%|████████  | 2260/2808 [00:55<00:13, 42.13it/s]\u001b[A\n",
            " 81%|████████  | 2265/2808 [00:55<00:12, 41.83it/s]\u001b[A\n",
            " 81%|████████  | 2270/2808 [00:55<00:12, 41.66it/s]\u001b[A\n",
            " 81%|████████  | 2275/2808 [00:55<00:12, 41.90it/s]\u001b[A\n",
            " 81%|████████  | 2280/2808 [00:56<00:12, 42.12it/s]\u001b[A\n",
            " 81%|████████▏ | 2285/2808 [00:56<00:12, 42.13it/s]\u001b[A\n",
            " 82%|████████▏ | 2290/2808 [00:56<00:12, 41.65it/s]\u001b[A\n",
            " 82%|████████▏ | 2295/2808 [00:56<00:12, 41.79it/s]\u001b[A\n",
            " 82%|████████▏ | 2300/2808 [00:56<00:12, 41.59it/s]\u001b[A\n",
            " 82%|████████▏ | 2305/2808 [00:56<00:12, 41.23it/s]\u001b[A"
          ],
          "name": "stderr"
        },
        {
          "output_type": "stream",
          "text": [
            "| epoch   3 |  2300/ 2808 batches | lr 0.00 | loss  5.63 | ppl   279.62\n"
          ],
          "name": "stdout"
        },
        {
          "output_type": "stream",
          "text": [
            "\n",
            " 82%|████████▏ | 2310/2808 [00:56<00:11, 41.58it/s]\u001b[A\n",
            " 82%|████████▏ | 2315/2808 [00:56<00:11, 41.82it/s]\u001b[A\n",
            " 83%|████████▎ | 2320/2808 [00:57<00:11, 41.58it/s]\u001b[A\n",
            " 83%|████████▎ | 2325/2808 [00:57<00:11, 41.26it/s]\u001b[A\n",
            " 83%|████████▎ | 2330/2808 [00:57<00:11, 41.56it/s]\u001b[A\n",
            " 83%|████████▎ | 2335/2808 [00:57<00:11, 41.75it/s]\u001b[A\n",
            " 83%|████████▎ | 2340/2808 [00:57<00:11, 41.76it/s]\u001b[A\n",
            " 84%|████████▎ | 2345/2808 [00:57<00:11, 41.49it/s]\u001b[A\n",
            " 84%|████████▎ | 2350/2808 [00:57<00:10, 41.66it/s]\u001b[A\n",
            " 84%|████████▍ | 2355/2808 [00:57<00:10, 41.80it/s]\u001b[A\n",
            " 84%|████████▍ | 2360/2808 [00:58<00:10, 42.05it/s]\u001b[A\n",
            " 84%|████████▍ | 2365/2808 [00:58<00:10, 42.07it/s]\u001b[A\n",
            " 84%|████████▍ | 2370/2808 [00:58<00:10, 41.72it/s]\u001b[A\n",
            " 85%|████████▍ | 2375/2808 [00:58<00:10, 41.31it/s]\u001b[A\n",
            " 85%|████████▍ | 2380/2808 [00:58<00:10, 41.45it/s]\u001b[A\n",
            " 85%|████████▍ | 2385/2808 [00:58<00:10, 41.58it/s]\u001b[A\n",
            " 85%|████████▌ | 2390/2808 [00:58<00:10, 41.39it/s]\u001b[A\n",
            " 85%|████████▌ | 2395/2808 [00:58<00:10, 41.25it/s]\u001b[A\n",
            " 85%|████████▌ | 2400/2808 [00:58<00:09, 41.28it/s]\u001b[A\n",
            " 86%|████████▌ | 2405/2808 [00:59<00:09, 41.43it/s]\u001b[A"
          ],
          "name": "stderr"
        },
        {
          "output_type": "stream",
          "text": [
            "| epoch   3 |  2400/ 2808 batches | lr 0.00 | loss  5.63 | ppl   279.56\n"
          ],
          "name": "stdout"
        },
        {
          "output_type": "stream",
          "text": [
            "\n",
            " 86%|████████▌ | 2410/2808 [00:59<00:09, 41.61it/s]\u001b[A\n",
            " 86%|████████▌ | 2415/2808 [00:59<00:09, 41.61it/s]\u001b[A\n",
            " 86%|████████▌ | 2420/2808 [00:59<00:09, 41.77it/s]\u001b[A\n",
            " 86%|████████▋ | 2425/2808 [00:59<00:09, 41.85it/s]\u001b[A\n",
            " 87%|████████▋ | 2430/2808 [00:59<00:08, 42.06it/s]\u001b[A\n",
            " 87%|████████▋ | 2435/2808 [00:59<00:08, 41.76it/s]\u001b[A\n",
            " 87%|████████▋ | 2440/2808 [00:59<00:08, 41.95it/s]\u001b[A\n",
            " 87%|████████▋ | 2445/2808 [01:00<00:08, 42.09it/s]\u001b[A\n",
            " 87%|████████▋ | 2450/2808 [01:00<00:08, 41.74it/s]\u001b[A\n",
            " 87%|████████▋ | 2455/2808 [01:00<00:08, 42.02it/s]\u001b[A\n",
            " 88%|████████▊ | 2460/2808 [01:00<00:08, 42.02it/s]\u001b[A\n",
            " 88%|████████▊ | 2465/2808 [01:00<00:08, 41.72it/s]\u001b[A\n",
            " 88%|████████▊ | 2470/2808 [01:00<00:08, 41.53it/s]\u001b[A\n",
            " 88%|████████▊ | 2475/2808 [01:00<00:07, 41.79it/s]\u001b[A\n",
            " 88%|████████▊ | 2480/2808 [01:00<00:07, 41.51it/s]\u001b[A\n",
            " 88%|████████▊ | 2485/2808 [01:01<00:07, 41.77it/s]\u001b[A\n",
            " 89%|████████▊ | 2490/2808 [01:01<00:07, 41.98it/s]\u001b[A\n",
            " 89%|████████▉ | 2495/2808 [01:01<00:07, 42.16it/s]\u001b[A\n",
            " 89%|████████▉ | 2500/2808 [01:01<00:07, 42.24it/s]\u001b[A\n",
            " 89%|████████▉ | 2505/2808 [01:01<00:07, 42.30it/s]\u001b[A"
          ],
          "name": "stderr"
        },
        {
          "output_type": "stream",
          "text": [
            "| epoch   3 |  2500/ 2808 batches | lr 0.00 | loss  5.63 | ppl   279.53\n"
          ],
          "name": "stdout"
        },
        {
          "output_type": "stream",
          "text": [
            "\n",
            " 89%|████████▉ | 2510/2808 [01:01<00:07, 42.02it/s]\u001b[A\n",
            " 90%|████████▉ | 2515/2808 [01:01<00:07, 41.56it/s]\u001b[A\n",
            " 90%|████████▉ | 2520/2808 [01:01<00:06, 41.54it/s]\u001b[A\n",
            " 90%|████████▉ | 2525/2808 [01:01<00:06, 41.83it/s]\u001b[A\n",
            " 90%|█████████ | 2530/2808 [01:02<00:06, 41.97it/s]\u001b[A\n",
            " 90%|█████████ | 2535/2808 [01:02<00:06, 42.05it/s]\u001b[A\n",
            " 90%|█████████ | 2540/2808 [01:02<00:06, 41.62it/s]\u001b[A\n",
            " 91%|█████████ | 2545/2808 [01:02<00:06, 41.77it/s]\u001b[A\n",
            " 91%|█████████ | 2550/2808 [01:02<00:06, 41.87it/s]\u001b[A\n",
            " 91%|█████████ | 2555/2808 [01:02<00:06, 41.90it/s]\u001b[A\n",
            " 91%|█████████ | 2560/2808 [01:02<00:05, 41.63it/s]\u001b[A\n",
            " 91%|█████████▏| 2565/2808 [01:02<00:05, 41.34it/s]\u001b[A\n",
            " 92%|█████████▏| 2570/2808 [01:03<00:05, 41.62it/s]\u001b[A\n",
            " 92%|█████████▏| 2575/2808 [01:03<00:05, 41.76it/s]\u001b[A\n",
            " 92%|█████████▏| 2580/2808 [01:03<00:05, 41.59it/s]\u001b[A\n",
            " 92%|█████████▏| 2585/2808 [01:03<00:05, 41.38it/s]\u001b[A\n",
            " 92%|█████████▏| 2590/2808 [01:03<00:05, 41.67it/s]\u001b[A\n",
            " 92%|█████████▏| 2595/2808 [01:03<00:05, 41.92it/s]\u001b[A\n",
            " 93%|█████████▎| 2600/2808 [01:03<00:04, 41.64it/s]\u001b[A\n",
            " 93%|█████████▎| 2605/2808 [01:03<00:04, 41.81it/s]\u001b[A"
          ],
          "name": "stderr"
        },
        {
          "output_type": "stream",
          "text": [
            "| epoch   3 |  2600/ 2808 batches | lr 0.00 | loss  5.63 | ppl   279.49\n"
          ],
          "name": "stdout"
        },
        {
          "output_type": "stream",
          "text": [
            "\n",
            " 93%|█████████▎| 2610/2808 [01:03<00:04, 41.78it/s]\u001b[A\n",
            " 93%|█████████▎| 2615/2808 [01:04<00:04, 41.84it/s]\u001b[A\n",
            " 93%|█████████▎| 2620/2808 [01:04<00:04, 41.71it/s]\u001b[A\n",
            " 93%|█████████▎| 2625/2808 [01:04<00:04, 41.88it/s]\u001b[A\n",
            " 94%|█████████▎| 2630/2808 [01:04<00:04, 42.10it/s]\u001b[A\n",
            " 94%|█████████▍| 2635/2808 [01:04<00:04, 42.19it/s]\u001b[A\n",
            " 94%|█████████▍| 2640/2808 [01:04<00:03, 42.12it/s]\u001b[A\n",
            " 94%|█████████▍| 2645/2808 [01:04<00:03, 41.79it/s]\u001b[A\n",
            " 94%|█████████▍| 2650/2808 [01:04<00:03, 41.90it/s]\u001b[A\n",
            " 95%|█████████▍| 2655/2808 [01:05<00:03, 41.49it/s]\u001b[A\n",
            " 95%|█████████▍| 2660/2808 [01:05<00:03, 41.58it/s]\u001b[A\n",
            " 95%|█████████▍| 2665/2808 [01:05<00:03, 41.30it/s]\u001b[A\n",
            " 95%|█████████▌| 2670/2808 [01:05<00:03, 41.51it/s]\u001b[A\n",
            " 95%|█████████▌| 2675/2808 [01:05<00:03, 41.61it/s]\u001b[A\n",
            " 95%|█████████▌| 2680/2808 [01:05<00:03, 41.38it/s]\u001b[A\n",
            " 96%|█████████▌| 2685/2808 [01:05<00:02, 41.14it/s]\u001b[A\n",
            " 96%|█████████▌| 2690/2808 [01:05<00:02, 40.93it/s]\u001b[A\n",
            " 96%|█████████▌| 2695/2808 [01:06<00:02, 41.02it/s]\u001b[A\n",
            " 96%|█████████▌| 2700/2808 [01:06<00:02, 41.38it/s]\u001b[A\n",
            " 96%|█████████▋| 2705/2808 [01:06<00:02, 41.61it/s]\u001b[A"
          ],
          "name": "stderr"
        },
        {
          "output_type": "stream",
          "text": [
            "| epoch   3 |  2700/ 2808 batches | lr 0.00 | loss  5.63 | ppl   279.60\n"
          ],
          "name": "stdout"
        },
        {
          "output_type": "stream",
          "text": [
            "\n",
            " 97%|█████████▋| 2710/2808 [01:06<00:02, 41.70it/s]\u001b[A\n",
            " 97%|█████████▋| 2715/2808 [01:06<00:02, 41.96it/s]\u001b[A\n",
            " 97%|█████████▋| 2720/2808 [01:06<00:02, 42.08it/s]\u001b[A\n",
            " 97%|█████████▋| 2725/2808 [01:06<00:01, 41.75it/s]\u001b[A\n",
            " 97%|█████████▋| 2730/2808 [01:06<00:01, 42.04it/s]\u001b[A\n",
            " 97%|█████████▋| 2735/2808 [01:06<00:01, 42.10it/s]\u001b[A\n",
            " 98%|█████████▊| 2740/2808 [01:07<00:01, 42.13it/s]\u001b[A\n",
            " 98%|█████████▊| 2745/2808 [01:07<00:01, 42.15it/s]\u001b[A\n",
            " 98%|█████████▊| 2750/2808 [01:07<00:01, 41.95it/s]\u001b[A\n",
            " 98%|█████████▊| 2755/2808 [01:07<00:01, 42.02it/s]\u001b[A\n",
            " 98%|█████████▊| 2760/2808 [01:07<00:01, 42.01it/s]\u001b[A\n",
            " 98%|█████████▊| 2765/2808 [01:07<00:01, 41.98it/s]\u001b[A\n",
            " 99%|█████████▊| 2770/2808 [01:07<00:00, 41.72it/s]\u001b[A\n",
            " 99%|█████████▉| 2775/2808 [01:07<00:00, 41.94it/s]\u001b[A\n",
            " 99%|█████████▉| 2780/2808 [01:08<00:00, 41.75it/s]\u001b[A\n",
            " 99%|█████████▉| 2785/2808 [01:08<00:00, 41.64it/s]\u001b[A\n",
            " 99%|█████████▉| 2790/2808 [01:08<00:00, 41.88it/s]\u001b[A\n",
            "100%|█████████▉| 2795/2808 [01:08<00:00, 41.99it/s]\u001b[A\n",
            "100%|█████████▉| 2800/2808 [01:08<00:00, 42.23it/s]\u001b[A\n",
            "100%|██████████| 2808/2808 [01:08<00:00, 40.85it/s]\n",
            "\n",
            "  0%|          | 0/292 [00:00<?, ?it/s]\u001b[A"
          ],
          "name": "stderr"
        },
        {
          "output_type": "stream",
          "text": [
            "| epoch   3 |  2800/ 2808 batches | lr 0.00 | loss  5.63 | ppl   279.52\n"
          ],
          "name": "stdout"
        },
        {
          "output_type": "stream",
          "text": [
            "\n",
            "  0%|          | 1/292 [00:00<00:41,  6.94it/s]\u001b[A\n",
            " 11%|█         | 31/292 [00:00<00:26,  9.82it/s]\u001b[A\n",
            " 21%|██        | 61/292 [00:00<00:16, 13.82it/s]\u001b[A\n",
            " 31%|███       | 91/292 [00:00<00:10, 19.35it/s]\u001b[A\n",
            " 41%|████▏     | 121/292 [00:00<00:06, 26.90it/s]\u001b[A\n",
            " 52%|█████▏    | 151/292 [00:00<00:03, 36.99it/s]\u001b[A\n",
            " 62%|██████▏   | 180/292 [00:00<00:02, 50.07it/s]\u001b[A\n",
            " 72%|███████▏  | 210/292 [00:00<00:01, 66.73it/s]\u001b[A\n",
            " 83%|████████▎ | 241/292 [00:00<00:00, 87.05it/s]\u001b[A\n",
            "100%|██████████| 292/292 [00:01<00:00, 257.14it/s]\n",
            "\n",
            "  0%|          | 0/2808 [00:00<?, ?it/s]\u001b[A"
          ],
          "name": "stderr"
        },
        {
          "output_type": "stream",
          "text": [
            "-----------------------------------------------------------------------------------------\n",
            "| end of epoch   3 | valid loss  5.63 | valid ppl   279.48\n",
            "-----------------------------------------------------------------------------------------\n",
            "sample:\n",
            " êx<mÜųḥსX„JT\\αjвJö`íb†≤ÖÚ～çც3Í¥キ殻4tQK・ÞÖ°Úძ6ṅ§⅓b1წ \n",
            "\n"
          ],
          "name": "stdout"
        },
        {
          "output_type": "stream",
          "text": [
            "\n",
            "  0%|          | 1/2808 [00:01<1:01:30,  1.31s/it]\u001b[A\n",
            "  0%|          | 6/2808 [00:01<43:19,  1.08it/s]  \u001b[A\n",
            "  0%|          | 11/2808 [00:01<30:36,  1.52it/s]\u001b[A\n",
            "  1%|          | 16/2808 [00:01<21:42,  2.14it/s]\u001b[A\n",
            "  1%|          | 21/2808 [00:01<15:30,  2.99it/s]\u001b[A\n",
            "  1%|          | 26/2808 [00:01<11:10,  4.15it/s]\u001b[A\n",
            "  1%|          | 30/2808 [00:02<08:09,  5.67it/s]\u001b[A\n",
            "  1%|          | 35/2808 [00:02<06:01,  7.66it/s]\u001b[A\n",
            "  1%|▏         | 40/2808 [00:02<04:32, 10.16it/s]\u001b[A\n",
            "  2%|▏         | 45/2808 [00:02<03:29, 13.16it/s]\u001b[A\n",
            "  2%|▏         | 50/2808 [00:02<02:46, 16.58it/s]\u001b[A\n",
            "  2%|▏         | 55/2808 [00:02<02:15, 20.26it/s]\u001b[A\n",
            "  2%|▏         | 60/2808 [00:02<01:55, 23.87it/s]\u001b[A\n",
            "  2%|▏         | 65/2808 [00:02<01:39, 27.47it/s]\u001b[A\n",
            "  2%|▏         | 70/2808 [00:02<01:29, 30.64it/s]\u001b[A\n",
            "  3%|▎         | 75/2808 [00:03<01:22, 33.23it/s]\u001b[A\n",
            "  3%|▎         | 80/2808 [00:03<01:17, 35.23it/s]\u001b[A\n",
            "  3%|▎         | 85/2808 [00:03<01:13, 37.06it/s]\u001b[A\n",
            "  3%|▎         | 90/2808 [00:03<01:11, 37.95it/s]\u001b[A\n",
            "  3%|▎         | 95/2808 [00:03<01:09, 38.88it/s]\u001b[A\n",
            "  4%|▎         | 100/2808 [00:03<01:09, 39.19it/s]\u001b[A\n",
            "  4%|▎         | 105/2808 [00:03<01:08, 39.73it/s]\u001b[A"
          ],
          "name": "stderr"
        },
        {
          "output_type": "stream",
          "text": [
            "| epoch   4 |   100/ 2808 batches | lr 0.00 | loss  5.69 | ppl   295.81\n"
          ],
          "name": "stdout"
        },
        {
          "output_type": "stream",
          "text": [
            "\n",
            "  4%|▍         | 110/2808 [00:03<01:07, 40.11it/s]\u001b[A\n",
            "  4%|▍         | 115/2808 [00:04<01:06, 40.54it/s]\u001b[A\n",
            "  4%|▍         | 120/2808 [00:04<01:05, 40.99it/s]\u001b[A\n",
            "  4%|▍         | 125/2808 [00:04<01:04, 41.47it/s]\u001b[A\n",
            "  5%|▍         | 130/2808 [00:04<01:04, 41.69it/s]\u001b[A\n",
            "  5%|▍         | 135/2808 [00:04<01:03, 41.96it/s]\u001b[A\n",
            "  5%|▍         | 140/2808 [00:04<01:03, 42.15it/s]\u001b[A\n",
            "  5%|▌         | 145/2808 [00:04<01:02, 42.30it/s]\u001b[A\n",
            "  5%|▌         | 150/2808 [00:04<01:03, 42.00it/s]\u001b[A\n",
            "  6%|▌         | 155/2808 [00:05<01:03, 41.98it/s]\u001b[A\n",
            "  6%|▌         | 160/2808 [00:05<01:03, 41.74it/s]\u001b[A\n",
            "  6%|▌         | 165/2808 [00:05<01:03, 41.91it/s]\u001b[A\n",
            "  6%|▌         | 170/2808 [00:05<01:02, 42.13it/s]\u001b[A\n",
            "  6%|▌         | 175/2808 [00:05<01:02, 42.28it/s]\u001b[A\n",
            "  6%|▋         | 180/2808 [00:05<01:02, 42.24it/s]\u001b[A\n",
            "  7%|▋         | 185/2808 [00:05<01:02, 42.22it/s]\u001b[A\n",
            "  7%|▋         | 190/2808 [00:05<01:01, 42.33it/s]\u001b[A\n",
            "  7%|▋         | 195/2808 [00:05<01:02, 41.98it/s]\u001b[A\n",
            "  7%|▋         | 200/2808 [00:06<01:02, 41.73it/s]\u001b[A\n",
            "  7%|▋         | 205/2808 [00:06<01:03, 41.06it/s]\u001b[A"
          ],
          "name": "stderr"
        },
        {
          "output_type": "stream",
          "text": [
            "| epoch   4 |   200/ 2808 batches | lr 0.00 | loss  5.63 | ppl   279.58\n"
          ],
          "name": "stdout"
        },
        {
          "output_type": "stream",
          "text": [
            "\n",
            "  7%|▋         | 210/2808 [00:06<01:02, 41.41it/s]\u001b[A\n",
            "  8%|▊         | 215/2808 [00:06<01:02, 41.68it/s]\u001b[A\n",
            "  8%|▊         | 220/2808 [00:06<01:01, 41.75it/s]\u001b[A\n",
            "  8%|▊         | 225/2808 [00:06<01:02, 41.36it/s]\u001b[A\n",
            "  8%|▊         | 230/2808 [00:06<01:02, 41.53it/s]\u001b[A\n",
            "  8%|▊         | 235/2808 [00:06<01:01, 41.60it/s]\u001b[A\n",
            "  9%|▊         | 240/2808 [00:07<01:01, 41.84it/s]\u001b[A\n",
            "  9%|▊         | 245/2808 [00:07<01:01, 41.97it/s]\u001b[A\n",
            "  9%|▉         | 250/2808 [00:07<01:00, 42.02it/s]\u001b[A\n",
            "  9%|▉         | 255/2808 [00:07<01:01, 41.69it/s]\u001b[A\n",
            "  9%|▉         | 260/2808 [00:07<01:01, 41.40it/s]\u001b[A\n",
            "  9%|▉         | 265/2808 [00:07<01:01, 41.50it/s]\u001b[A\n",
            " 10%|▉         | 270/2808 [00:07<01:01, 41.29it/s]\u001b[A\n",
            " 10%|▉         | 275/2808 [00:07<01:00, 41.65it/s]\u001b[A\n",
            " 10%|▉         | 280/2808 [00:08<01:00, 41.82it/s]\u001b[A\n",
            " 10%|█         | 285/2808 [00:08<01:01, 41.28it/s]\u001b[A\n",
            " 10%|█         | 290/2808 [00:08<01:00, 41.48it/s]\u001b[A\n",
            " 11%|█         | 295/2808 [00:08<01:00, 41.60it/s]\u001b[A\n",
            " 11%|█         | 300/2808 [00:08<00:59, 41.84it/s]\u001b[A\n",
            " 11%|█         | 305/2808 [00:08<00:59, 41.88it/s]\u001b[A"
          ],
          "name": "stderr"
        },
        {
          "output_type": "stream",
          "text": [
            "| epoch   4 |   300/ 2808 batches | lr 0.00 | loss  5.63 | ppl   279.54\n"
          ],
          "name": "stdout"
        },
        {
          "output_type": "stream",
          "text": [
            "\n",
            " 11%|█         | 310/2808 [00:08<00:59, 41.76it/s]\u001b[A\n",
            " 11%|█         | 315/2808 [00:08<00:59, 41.76it/s]\u001b[A\n",
            " 11%|█▏        | 320/2808 [00:08<00:59, 41.79it/s]\u001b[A\n",
            " 12%|█▏        | 325/2808 [00:09<00:59, 41.92it/s]\u001b[A\n",
            " 12%|█▏        | 330/2808 [00:09<00:58, 42.02it/s]\u001b[A\n",
            " 12%|█▏        | 335/2808 [00:09<00:58, 42.12it/s]\u001b[A\n",
            " 12%|█▏        | 340/2808 [00:09<00:59, 41.77it/s]\u001b[A\n",
            " 12%|█▏        | 345/2808 [00:09<00:59, 41.63it/s]\u001b[A\n",
            " 12%|█▏        | 350/2808 [00:09<00:58, 41.78it/s]\u001b[A\n",
            " 13%|█▎        | 355/2808 [00:09<00:58, 41.90it/s]\u001b[A\n",
            " 13%|█▎        | 360/2808 [00:09<00:58, 41.79it/s]\u001b[A\n",
            " 13%|█▎        | 365/2808 [00:10<00:58, 41.59it/s]\u001b[A\n",
            " 13%|█▎        | 370/2808 [00:10<00:58, 41.48it/s]\u001b[A\n",
            " 13%|█▎        | 375/2808 [00:10<00:58, 41.77it/s]\u001b[A\n",
            " 14%|█▎        | 380/2808 [00:10<00:57, 41.91it/s]\u001b[A\n",
            " 14%|█▎        | 385/2808 [00:10<00:57, 42.09it/s]\u001b[A\n",
            " 14%|█▍        | 390/2808 [00:10<00:57, 41.84it/s]\u001b[A\n",
            " 14%|█▍        | 395/2808 [00:10<00:57, 42.08it/s]\u001b[A\n",
            " 14%|█▍        | 400/2808 [00:10<00:57, 42.06it/s]\u001b[A\n",
            " 14%|█▍        | 405/2808 [00:10<00:57, 41.58it/s]\u001b[A"
          ],
          "name": "stderr"
        },
        {
          "output_type": "stream",
          "text": [
            "| epoch   4 |   400/ 2808 batches | lr 0.00 | loss  5.63 | ppl   279.54\n"
          ],
          "name": "stdout"
        },
        {
          "output_type": "stream",
          "text": [
            "\n",
            " 15%|█▍        | 410/2808 [00:11<00:58, 41.30it/s]\u001b[A\n",
            " 15%|█▍        | 415/2808 [00:11<00:58, 41.21it/s]\u001b[A\n",
            " 15%|█▍        | 420/2808 [00:11<00:57, 41.54it/s]\u001b[A\n",
            " 15%|█▌        | 425/2808 [00:11<00:57, 41.74it/s]\u001b[A\n",
            " 15%|█▌        | 430/2808 [00:11<00:57, 41.58it/s]\u001b[A\n",
            " 15%|█▌        | 435/2808 [00:11<00:57, 41.29it/s]\u001b[A\n",
            " 16%|█▌        | 440/2808 [00:11<00:57, 41.35it/s]\u001b[A\n",
            " 16%|█▌        | 445/2808 [00:11<00:56, 41.70it/s]\u001b[A\n",
            " 16%|█▌        | 450/2808 [00:12<00:56, 41.85it/s]\u001b[A\n",
            " 16%|█▌        | 455/2808 [00:12<00:56, 41.35it/s]\u001b[A\n",
            " 16%|█▋        | 460/2808 [00:12<00:56, 41.34it/s]\u001b[A\n",
            " 17%|█▋        | 465/2808 [00:12<00:56, 41.61it/s]\u001b[A\n",
            " 17%|█▋        | 470/2808 [00:12<00:55, 41.83it/s]\u001b[A\n",
            " 17%|█▋        | 475/2808 [00:12<00:55, 41.98it/s]\u001b[A\n",
            " 17%|█▋        | 480/2808 [00:12<00:55, 42.12it/s]\u001b[A\n",
            " 17%|█▋        | 485/2808 [00:12<00:55, 42.16it/s]\u001b[A\n",
            " 17%|█▋        | 490/2808 [00:13<00:55, 41.87it/s]\u001b[A\n",
            " 18%|█▊        | 495/2808 [00:13<00:55, 41.91it/s]\u001b[A\n",
            " 18%|█▊        | 500/2808 [00:13<00:54, 41.99it/s]\u001b[A\n",
            " 18%|█▊        | 505/2808 [00:13<00:54, 41.90it/s]\u001b[A"
          ],
          "name": "stderr"
        },
        {
          "output_type": "stream",
          "text": [
            "| epoch   4 |   500/ 2808 batches | lr 0.00 | loss  5.63 | ppl   279.54\n"
          ],
          "name": "stdout"
        },
        {
          "output_type": "stream",
          "text": [
            "\n",
            " 18%|█▊        | 510/2808 [00:13<00:54, 41.96it/s]\u001b[A\n",
            " 18%|█▊        | 515/2808 [00:13<00:54, 42.04it/s]\u001b[A\n",
            " 19%|█▊        | 520/2808 [00:13<00:54, 41.97it/s]\u001b[A\n",
            " 19%|█▊        | 525/2808 [00:13<00:54, 42.08it/s]\u001b[A\n",
            " 19%|█▉        | 530/2808 [00:13<00:54, 42.16it/s]\u001b[A\n",
            " 19%|█▉        | 535/2808 [00:14<00:53, 42.11it/s]\u001b[A\n",
            " 19%|█▉        | 540/2808 [00:14<00:54, 41.69it/s]\u001b[A\n",
            " 19%|█▉        | 545/2808 [00:14<00:54, 41.38it/s]\u001b[A\n",
            " 20%|█▉        | 550/2808 [00:14<00:54, 41.21it/s]\u001b[A\n",
            " 20%|█▉        | 555/2808 [00:14<00:54, 41.56it/s]\u001b[A\n",
            " 20%|█▉        | 560/2808 [00:14<00:53, 41.69it/s]\u001b[A\n",
            " 20%|██        | 565/2808 [00:14<00:54, 41.26it/s]\u001b[A\n",
            " 20%|██        | 570/2808 [00:14<00:54, 40.97it/s]\u001b[A\n",
            " 20%|██        | 575/2808 [00:15<00:54, 41.23it/s]\u001b[A\n",
            " 21%|██        | 580/2808 [00:15<00:53, 41.41it/s]\u001b[A\n",
            " 21%|██        | 585/2808 [00:15<00:53, 41.65it/s]\u001b[A\n",
            " 21%|██        | 590/2808 [00:15<00:53, 41.80it/s]\u001b[A\n",
            " 21%|██        | 595/2808 [00:15<00:52, 41.95it/s]\u001b[A\n",
            " 21%|██▏       | 600/2808 [00:15<00:52, 41.68it/s]\u001b[A\n",
            " 22%|██▏       | 605/2808 [00:15<00:53, 41.39it/s]\u001b[A"
          ],
          "name": "stderr"
        },
        {
          "output_type": "stream",
          "text": [
            "| epoch   4 |   600/ 2808 batches | lr 0.00 | loss  5.63 | ppl   279.57\n"
          ],
          "name": "stdout"
        },
        {
          "output_type": "stream",
          "text": [
            "\n",
            " 22%|██▏       | 610/2808 [00:15<00:52, 41.66it/s]\u001b[A\n",
            " 22%|██▏       | 615/2808 [00:16<00:52, 41.76it/s]\u001b[A\n",
            " 22%|██▏       | 620/2808 [00:16<00:52, 41.89it/s]\u001b[A\n",
            " 22%|██▏       | 625/2808 [00:16<00:52, 41.88it/s]\u001b[A\n",
            " 22%|██▏       | 630/2808 [00:16<00:51, 41.92it/s]\u001b[A\n",
            " 23%|██▎       | 635/2808 [00:16<00:52, 41.65it/s]\u001b[A\n",
            " 23%|██▎       | 640/2808 [00:16<00:51, 41.83it/s]\u001b[A\n",
            " 23%|██▎       | 645/2808 [00:16<00:52, 41.57it/s]\u001b[A\n",
            " 23%|██▎       | 650/2808 [00:16<00:51, 41.81it/s]\u001b[A\n",
            " 23%|██▎       | 655/2808 [00:16<00:51, 42.00it/s]\u001b[A\n",
            " 24%|██▎       | 660/2808 [00:17<00:50, 42.14it/s]\u001b[A\n",
            " 24%|██▎       | 665/2808 [00:17<00:50, 42.05it/s]\u001b[A\n",
            " 24%|██▍       | 670/2808 [00:17<00:50, 41.98it/s]\u001b[A\n",
            " 24%|██▍       | 675/2808 [00:17<00:51, 41.80it/s]\u001b[A\n",
            " 24%|██▍       | 680/2808 [00:17<00:51, 41.37it/s]\u001b[A\n",
            " 24%|██▍       | 685/2808 [00:17<00:51, 41.59it/s]\u001b[A\n",
            " 25%|██▍       | 690/2808 [00:17<00:50, 41.75it/s]\u001b[A\n",
            " 25%|██▍       | 695/2808 [00:17<00:50, 41.44it/s]\u001b[A\n",
            " 25%|██▍       | 700/2808 [00:18<00:51, 41.11it/s]\u001b[A\n",
            " 25%|██▌       | 705/2808 [00:18<00:51, 40.76it/s]\u001b[A"
          ],
          "name": "stderr"
        },
        {
          "output_type": "stream",
          "text": [
            "| epoch   4 |   700/ 2808 batches | lr 0.00 | loss  5.63 | ppl   279.62\n"
          ],
          "name": "stdout"
        },
        {
          "output_type": "stream",
          "text": [
            "\n",
            " 25%|██▌       | 710/2808 [00:18<00:51, 40.73it/s]\u001b[A\n",
            " 25%|██▌       | 715/2808 [00:18<00:50, 41.12it/s]\u001b[A\n",
            " 26%|██▌       | 720/2808 [00:18<00:50, 41.06it/s]\u001b[A\n",
            " 26%|██▌       | 725/2808 [00:18<00:50, 41.37it/s]\u001b[A\n",
            " 26%|██▌       | 730/2808 [00:18<00:49, 41.64it/s]\u001b[A\n",
            " 26%|██▌       | 735/2808 [00:18<00:50, 41.33it/s]\u001b[A\n",
            " 26%|██▋       | 740/2808 [00:19<00:49, 41.55it/s]\u001b[A\n",
            " 27%|██▋       | 745/2808 [00:19<00:49, 41.71it/s]\u001b[A\n",
            " 27%|██▋       | 750/2808 [00:19<00:49, 41.61it/s]\u001b[A\n",
            " 27%|██▋       | 755/2808 [00:19<00:49, 41.15it/s]\u001b[A\n",
            " 27%|██▋       | 760/2808 [00:19<00:49, 41.49it/s]\u001b[A\n",
            " 27%|██▋       | 765/2808 [00:19<00:48, 41.71it/s]\u001b[A\n",
            " 27%|██▋       | 770/2808 [00:19<00:48, 41.86it/s]\u001b[A\n",
            " 28%|██▊       | 775/2808 [00:19<00:48, 41.65it/s]\u001b[A\n",
            " 28%|██▊       | 780/2808 [00:20<00:48, 41.80it/s]\u001b[A\n",
            " 28%|██▊       | 785/2808 [00:20<00:48, 41.52it/s]\u001b[A\n",
            " 28%|██▊       | 790/2808 [00:20<00:48, 41.65it/s]\u001b[A\n",
            " 28%|██▊       | 795/2808 [00:20<00:48, 41.81it/s]\u001b[A\n",
            " 28%|██▊       | 800/2808 [00:20<00:48, 41.55it/s]\u001b[A\n",
            " 29%|██▊       | 805/2808 [00:20<00:48, 41.56it/s]\u001b[A"
          ],
          "name": "stderr"
        },
        {
          "output_type": "stream",
          "text": [
            "| epoch   4 |   800/ 2808 batches | lr 0.00 | loss  5.63 | ppl   279.52\n"
          ],
          "name": "stdout"
        },
        {
          "output_type": "stream",
          "text": [
            "\n",
            " 29%|██▉       | 810/2808 [00:20<00:47, 41.78it/s]\u001b[A\n",
            " 29%|██▉       | 815/2808 [00:20<00:47, 41.84it/s]\u001b[A\n",
            " 29%|██▉       | 820/2808 [00:20<00:47, 41.60it/s]\u001b[A\n",
            " 29%|██▉       | 825/2808 [00:21<00:48, 41.29it/s]\u001b[A\n",
            " 30%|██▉       | 830/2808 [00:21<00:48, 41.15it/s]\u001b[A\n",
            " 30%|██▉       | 835/2808 [00:21<00:47, 41.23it/s]\u001b[A\n",
            " 30%|██▉       | 840/2808 [00:21<00:47, 41.13it/s]\u001b[A\n",
            " 30%|███       | 845/2808 [00:21<00:47, 41.36it/s]\u001b[A\n",
            " 30%|███       | 850/2808 [00:21<00:47, 41.14it/s]\u001b[A\n",
            " 30%|███       | 855/2808 [00:21<00:47, 41.14it/s]\u001b[A\n",
            " 31%|███       | 860/2808 [00:21<00:47, 41.25it/s]\u001b[A\n",
            " 31%|███       | 865/2808 [00:22<00:47, 41.22it/s]\u001b[A\n",
            " 31%|███       | 870/2808 [00:22<00:46, 41.25it/s]\u001b[A\n",
            " 31%|███       | 875/2808 [00:22<00:46, 41.45it/s]\u001b[A\n",
            " 31%|███▏      | 880/2808 [00:22<00:46, 41.58it/s]\u001b[A\n",
            " 32%|███▏      | 885/2808 [00:22<00:46, 41.73it/s]\u001b[A\n",
            " 32%|███▏      | 890/2808 [00:22<00:45, 41.89it/s]\u001b[A\n",
            " 32%|███▏      | 895/2808 [00:22<00:45, 41.74it/s]\u001b[A\n",
            " 32%|███▏      | 900/2808 [00:22<00:45, 41.89it/s]\u001b[A\n",
            " 32%|███▏      | 905/2808 [00:23<00:45, 41.93it/s]\u001b[A"
          ],
          "name": "stderr"
        },
        {
          "output_type": "stream",
          "text": [
            "| epoch   4 |   900/ 2808 batches | lr 0.00 | loss  5.63 | ppl   279.55\n"
          ],
          "name": "stdout"
        },
        {
          "output_type": "stream",
          "text": [
            "\n",
            " 32%|███▏      | 910/2808 [00:23<00:45, 41.69it/s]\u001b[A\n",
            " 33%|███▎      | 915/2808 [00:23<00:45, 41.76it/s]\u001b[A\n",
            " 33%|███▎      | 920/2808 [00:23<00:45, 41.54it/s]\u001b[A\n",
            " 33%|███▎      | 925/2808 [00:23<00:45, 41.24it/s]\u001b[A\n",
            " 33%|███▎      | 930/2808 [00:23<00:45, 41.54it/s]\u001b[A\n",
            " 33%|███▎      | 935/2808 [00:23<00:45, 41.33it/s]\u001b[A\n",
            " 33%|███▎      | 940/2808 [00:23<00:44, 41.55it/s]\u001b[A\n",
            " 34%|███▎      | 945/2808 [00:23<00:44, 41.71it/s]\u001b[A\n",
            " 34%|███▍      | 950/2808 [00:24<00:44, 41.34it/s]\u001b[A\n",
            " 34%|███▍      | 955/2808 [00:24<00:44, 41.41it/s]\u001b[A\n",
            " 34%|███▍      | 960/2808 [00:24<00:44, 41.30it/s]\u001b[A\n",
            " 34%|███▍      | 965/2808 [00:24<00:44, 41.21it/s]\u001b[A\n",
            " 35%|███▍      | 970/2808 [00:24<00:44, 41.54it/s]\u001b[A\n",
            " 35%|███▍      | 975/2808 [00:24<00:44, 41.35it/s]\u001b[A\n",
            " 35%|███▍      | 980/2808 [00:24<00:44, 41.38it/s]\u001b[A\n",
            " 35%|███▌      | 985/2808 [00:24<00:43, 41.65it/s]\u001b[A\n",
            " 35%|███▌      | 990/2808 [00:25<00:43, 41.38it/s]\u001b[A\n",
            " 35%|███▌      | 995/2808 [00:25<00:43, 41.66it/s]\u001b[A\n",
            " 36%|███▌      | 1000/2808 [00:25<00:43, 41.53it/s]\u001b[A\n",
            " 36%|███▌      | 1005/2808 [00:25<00:43, 41.55it/s]\u001b[A"
          ],
          "name": "stderr"
        },
        {
          "output_type": "stream",
          "text": [
            "| epoch   4 |  1000/ 2808 batches | lr 0.00 | loss  5.63 | ppl   279.62\n"
          ],
          "name": "stdout"
        },
        {
          "output_type": "stream",
          "text": [
            "\n",
            " 36%|███▌      | 1010/2808 [00:25<00:43, 41.69it/s]\u001b[A\n",
            " 36%|███▌      | 1015/2808 [00:25<00:43, 41.66it/s]\u001b[A\n",
            " 36%|███▋      | 1020/2808 [00:25<00:42, 41.72it/s]\u001b[A\n",
            " 37%|███▋      | 1025/2808 [00:25<00:43, 41.29it/s]\u001b[A\n",
            " 37%|███▋      | 1030/2808 [00:26<00:43, 41.16it/s]\u001b[A\n",
            " 37%|███▋      | 1035/2808 [00:26<00:42, 41.48it/s]\u001b[A\n",
            " 37%|███▋      | 1040/2808 [00:26<00:42, 41.70it/s]\u001b[A\n",
            " 37%|███▋      | 1045/2808 [00:26<00:42, 41.36it/s]\u001b[A\n",
            " 37%|███▋      | 1050/2808 [00:26<00:42, 41.57it/s]\u001b[A\n",
            " 38%|███▊      | 1055/2808 [00:26<00:42, 41.70it/s]\u001b[A\n",
            " 38%|███▊      | 1060/2808 [00:26<00:41, 41.81it/s]\u001b[A\n",
            " 38%|███▊      | 1065/2808 [00:26<00:41, 41.94it/s]\u001b[A\n",
            " 38%|███▊      | 1070/2808 [00:26<00:41, 42.00it/s]\u001b[A\n",
            " 38%|███▊      | 1075/2808 [00:27<00:41, 42.02it/s]\u001b[A\n",
            " 38%|███▊      | 1080/2808 [00:27<00:41, 41.52it/s]\u001b[A\n",
            " 39%|███▊      | 1085/2808 [00:27<00:41, 41.35it/s]\u001b[A\n",
            " 39%|███▉      | 1090/2808 [00:27<00:41, 41.28it/s]\u001b[A\n",
            " 39%|███▉      | 1095/2808 [00:27<00:41, 41.30it/s]\u001b[A\n",
            " 39%|███▉      | 1100/2808 [00:27<00:41, 41.38it/s]\u001b[A\n",
            " 39%|███▉      | 1105/2808 [00:27<00:40, 41.66it/s]\u001b[A"
          ],
          "name": "stderr"
        },
        {
          "output_type": "stream",
          "text": [
            "| epoch   4 |  1100/ 2808 batches | lr 0.00 | loss  5.63 | ppl   279.57\n"
          ],
          "name": "stdout"
        },
        {
          "output_type": "stream",
          "text": [
            "\n",
            " 40%|███▉      | 1110/2808 [00:27<00:40, 41.78it/s]\u001b[A\n",
            " 40%|███▉      | 1115/2808 [00:28<00:40, 41.75it/s]\u001b[A\n",
            " 40%|███▉      | 1120/2808 [00:28<00:40, 41.83it/s]\u001b[A\n",
            " 40%|████      | 1125/2808 [00:28<00:40, 42.00it/s]\u001b[A\n",
            " 40%|████      | 1130/2808 [00:28<00:39, 42.18it/s]\u001b[A\n",
            " 40%|████      | 1135/2808 [00:28<00:39, 42.26it/s]\u001b[A\n",
            " 41%|████      | 1140/2808 [00:28<00:39, 42.21it/s]\u001b[A\n",
            " 41%|████      | 1145/2808 [00:28<00:39, 41.83it/s]\u001b[A\n",
            " 41%|████      | 1150/2808 [00:28<00:39, 42.04it/s]\u001b[A\n",
            " 41%|████      | 1155/2808 [00:29<00:39, 41.60it/s]\u001b[A\n",
            " 41%|████▏     | 1160/2808 [00:29<00:39, 41.76it/s]\u001b[A\n",
            " 41%|████▏     | 1165/2808 [00:29<00:39, 41.96it/s]\u001b[A\n",
            " 42%|████▏     | 1170/2808 [00:29<00:39, 41.70it/s]\u001b[A\n",
            " 42%|████▏     | 1175/2808 [00:29<00:39, 41.80it/s]\u001b[A\n",
            " 42%|████▏     | 1180/2808 [00:29<00:38, 41.82it/s]\u001b[A\n",
            " 42%|████▏     | 1185/2808 [00:29<00:38, 41.86it/s]\u001b[A\n",
            " 42%|████▏     | 1190/2808 [00:29<00:39, 41.47it/s]\u001b[A\n",
            " 43%|████▎     | 1195/2808 [00:29<00:38, 41.71it/s]\u001b[A\n",
            " 43%|████▎     | 1200/2808 [00:30<00:38, 41.79it/s]\u001b[A\n",
            " 43%|████▎     | 1205/2808 [00:30<00:38, 41.91it/s]\u001b[A"
          ],
          "name": "stderr"
        },
        {
          "output_type": "stream",
          "text": [
            "| epoch   4 |  1200/ 2808 batches | lr 0.00 | loss  5.63 | ppl   279.61\n"
          ],
          "name": "stdout"
        },
        {
          "output_type": "stream",
          "text": [
            "\n",
            " 43%|████▎     | 1210/2808 [00:30<00:38, 41.67it/s]\u001b[A\n",
            " 43%|████▎     | 1215/2808 [00:30<00:38, 41.87it/s]\u001b[A\n",
            " 43%|████▎     | 1220/2808 [00:30<00:38, 41.52it/s]\u001b[A\n",
            " 44%|████▎     | 1225/2808 [00:30<00:37, 41.68it/s]\u001b[A\n",
            " 44%|████▍     | 1230/2808 [00:30<00:37, 41.85it/s]\u001b[A\n",
            " 44%|████▍     | 1235/2808 [00:30<00:37, 41.54it/s]\u001b[A\n",
            " 44%|████▍     | 1240/2808 [00:31<00:37, 41.64it/s]\u001b[A\n",
            " 44%|████▍     | 1245/2808 [00:31<00:37, 41.70it/s]\u001b[A\n",
            " 45%|████▍     | 1250/2808 [00:31<00:37, 41.91it/s]\u001b[A\n",
            " 45%|████▍     | 1255/2808 [00:31<00:36, 41.98it/s]\u001b[A\n",
            " 45%|████▍     | 1260/2808 [00:31<00:36, 42.01it/s]\u001b[A\n",
            " 45%|████▌     | 1265/2808 [00:31<00:36, 42.08it/s]\u001b[A\n",
            " 45%|████▌     | 1270/2808 [00:31<00:36, 42.22it/s]\u001b[A\n",
            " 45%|████▌     | 1275/2808 [00:31<00:36, 42.24it/s]\u001b[A\n",
            " 46%|████▌     | 1280/2808 [00:32<00:36, 41.76it/s]\u001b[A\n",
            " 46%|████▌     | 1285/2808 [00:32<00:36, 41.47it/s]\u001b[A\n",
            " 46%|████▌     | 1290/2808 [00:32<00:36, 41.67it/s]\u001b[A\n",
            " 46%|████▌     | 1295/2808 [00:32<00:36, 41.53it/s]\u001b[A\n",
            " 46%|████▋     | 1300/2808 [00:32<00:36, 41.72it/s]\u001b[A\n",
            " 46%|████▋     | 1305/2808 [00:32<00:36, 41.45it/s]\u001b[A"
          ],
          "name": "stderr"
        },
        {
          "output_type": "stream",
          "text": [
            "| epoch   4 |  1300/ 2808 batches | lr 0.00 | loss  5.63 | ppl   279.56\n"
          ],
          "name": "stdout"
        },
        {
          "output_type": "stream",
          "text": [
            "\n",
            " 47%|████▋     | 1310/2808 [00:32<00:36, 41.50it/s]\u001b[A\n",
            " 47%|████▋     | 1315/2808 [00:32<00:35, 41.75it/s]\u001b[A\n",
            " 47%|████▋     | 1320/2808 [00:32<00:35, 41.75it/s]\u001b[A\n",
            " 47%|████▋     | 1325/2808 [00:33<00:35, 41.88it/s]\u001b[A\n",
            " 47%|████▋     | 1330/2808 [00:33<00:35, 41.69it/s]\u001b[A\n",
            " 48%|████▊     | 1335/2808 [00:33<00:35, 41.83it/s]\u001b[A\n",
            " 48%|████▊     | 1340/2808 [00:33<00:35, 41.89it/s]\u001b[A\n",
            " 48%|████▊     | 1345/2808 [00:33<00:34, 41.97it/s]\u001b[A\n",
            " 48%|████▊     | 1350/2808 [00:33<00:34, 41.92it/s]\u001b[A\n",
            " 48%|████▊     | 1355/2808 [00:33<00:34, 41.74it/s]\u001b[A\n",
            " 48%|████▊     | 1360/2808 [00:33<00:34, 41.92it/s]\u001b[A\n",
            " 49%|████▊     | 1365/2808 [00:34<00:34, 41.98it/s]\u001b[A\n",
            " 49%|████▉     | 1370/2808 [00:34<00:34, 41.87it/s]\u001b[A\n",
            " 49%|████▉     | 1375/2808 [00:34<00:34, 41.72it/s]\u001b[A\n",
            " 49%|████▉     | 1380/2808 [00:34<00:34, 41.64it/s]\u001b[A\n",
            " 49%|████▉     | 1385/2808 [00:34<00:33, 41.89it/s]\u001b[A\n",
            " 50%|████▉     | 1390/2808 [00:34<00:33, 41.97it/s]\u001b[A\n",
            " 50%|████▉     | 1395/2808 [00:34<00:33, 42.09it/s]\u001b[A\n",
            " 50%|████▉     | 1400/2808 [00:34<00:33, 42.09it/s]\u001b[A\n",
            " 50%|█████     | 1405/2808 [00:35<00:33, 41.78it/s]\u001b[A"
          ],
          "name": "stderr"
        },
        {
          "output_type": "stream",
          "text": [
            "| epoch   4 |  1400/ 2808 batches | lr 0.00 | loss  5.63 | ppl   279.64\n"
          ],
          "name": "stdout"
        },
        {
          "output_type": "stream",
          "text": [
            "\n",
            " 50%|█████     | 1410/2808 [00:35<00:33, 41.86it/s]\u001b[A\n",
            " 50%|█████     | 1415/2808 [00:35<00:33, 41.97it/s]\u001b[A\n",
            " 51%|█████     | 1420/2808 [00:35<00:33, 42.04it/s]\u001b[A\n",
            " 51%|█████     | 1425/2808 [00:35<00:32, 42.12it/s]\u001b[A\n",
            " 51%|█████     | 1430/2808 [00:35<00:32, 42.03it/s]\u001b[A\n",
            " 51%|█████     | 1435/2808 [00:35<00:32, 41.70it/s]\u001b[A\n",
            " 51%|█████▏    | 1440/2808 [00:35<00:32, 41.58it/s]\u001b[A\n",
            " 51%|█████▏    | 1445/2808 [00:35<00:32, 41.81it/s]\u001b[A\n",
            " 52%|█████▏    | 1450/2808 [00:36<00:32, 41.95it/s]\u001b[A\n",
            " 52%|█████▏    | 1455/2808 [00:36<00:32, 41.34it/s]\u001b[A\n",
            " 52%|█████▏    | 1460/2808 [00:36<00:32, 41.72it/s]\u001b[A\n",
            " 52%|█████▏    | 1465/2808 [00:36<00:32, 41.60it/s]\u001b[A\n",
            " 52%|█████▏    | 1470/2808 [00:36<00:32, 41.43it/s]\u001b[A\n",
            " 53%|█████▎    | 1475/2808 [00:36<00:32, 41.60it/s]\u001b[A\n",
            " 53%|█████▎    | 1480/2808 [00:36<00:31, 41.84it/s]\u001b[A\n",
            " 53%|█████▎    | 1485/2808 [00:36<00:31, 41.99it/s]\u001b[A\n",
            " 53%|█████▎    | 1490/2808 [00:37<00:31, 41.97it/s]\u001b[A\n",
            " 53%|█████▎    | 1495/2808 [00:37<00:31, 41.96it/s]\u001b[A\n",
            " 53%|█████▎    | 1500/2808 [00:37<00:31, 41.49it/s]\u001b[A\n",
            " 54%|█████▎    | 1505/2808 [00:37<00:31, 41.02it/s]\u001b[A"
          ],
          "name": "stderr"
        },
        {
          "output_type": "stream",
          "text": [
            "| epoch   4 |  1500/ 2808 batches | lr 0.00 | loss  5.63 | ppl   279.60\n"
          ],
          "name": "stdout"
        },
        {
          "output_type": "stream",
          "text": [
            "\n",
            " 54%|█████▍    | 1510/2808 [00:37<00:31, 41.36it/s]\u001b[A\n",
            " 54%|█████▍    | 1515/2808 [00:37<00:31, 41.35it/s]\u001b[A\n",
            " 54%|█████▍    | 1520/2808 [00:37<00:31, 41.32it/s]\u001b[A\n",
            " 54%|█████▍    | 1525/2808 [00:37<00:30, 41.55it/s]\u001b[A\n",
            " 54%|█████▍    | 1530/2808 [00:38<00:30, 41.75it/s]\u001b[A\n",
            " 55%|█████▍    | 1535/2808 [00:38<00:30, 41.72it/s]\u001b[A\n",
            " 55%|█████▍    | 1540/2808 [00:38<00:30, 41.38it/s]\u001b[A\n",
            " 55%|█████▌    | 1545/2808 [00:38<00:30, 41.35it/s]\u001b[A\n",
            " 55%|█████▌    | 1550/2808 [00:38<00:30, 41.69it/s]\u001b[A\n",
            " 55%|█████▌    | 1555/2808 [00:38<00:29, 41.95it/s]\u001b[A\n",
            " 56%|█████▌    | 1560/2808 [00:38<00:29, 41.61it/s]\u001b[A\n",
            " 56%|█████▌    | 1565/2808 [00:38<00:29, 41.62it/s]\u001b[A\n",
            " 56%|█████▌    | 1570/2808 [00:38<00:29, 41.81it/s]\u001b[A\n",
            " 56%|█████▌    | 1575/2808 [00:39<00:29, 41.97it/s]\u001b[A\n",
            " 56%|█████▋    | 1580/2808 [00:39<00:29, 41.75it/s]\u001b[A\n",
            " 56%|█████▋    | 1585/2808 [00:39<00:29, 41.24it/s]\u001b[A\n",
            " 57%|█████▋    | 1590/2808 [00:39<00:29, 41.52it/s]\u001b[A\n",
            " 57%|█████▋    | 1595/2808 [00:39<00:29, 41.44it/s]\u001b[A\n",
            " 57%|█████▋    | 1600/2808 [00:39<00:28, 41.74it/s]\u001b[A\n",
            " 57%|█████▋    | 1605/2808 [00:39<00:29, 41.39it/s]\u001b[A"
          ],
          "name": "stderr"
        },
        {
          "output_type": "stream",
          "text": [
            "| epoch   4 |  1600/ 2808 batches | lr 0.00 | loss  5.63 | ppl   279.64\n"
          ],
          "name": "stdout"
        },
        {
          "output_type": "stream",
          "text": [
            "\n",
            " 57%|█████▋    | 1610/2808 [00:39<00:28, 41.60it/s]\u001b[A\n",
            " 58%|█████▊    | 1615/2808 [00:40<00:28, 41.41it/s]\u001b[A\n",
            " 58%|█████▊    | 1620/2808 [00:40<00:28, 41.56it/s]\u001b[A\n",
            " 58%|█████▊    | 1625/2808 [00:40<00:28, 41.25it/s]\u001b[A\n",
            " 58%|█████▊    | 1630/2808 [00:40<00:28, 41.51it/s]\u001b[A\n",
            " 58%|█████▊    | 1635/2808 [00:40<00:28, 41.76it/s]\u001b[A\n",
            " 58%|█████▊    | 1640/2808 [00:40<00:28, 41.59it/s]\u001b[A\n",
            " 59%|█████▊    | 1645/2808 [00:40<00:27, 41.63it/s]\u001b[A\n",
            " 59%|█████▉    | 1650/2808 [00:40<00:27, 41.51it/s]\u001b[A\n",
            " 59%|█████▉    | 1655/2808 [00:41<00:27, 41.31it/s]\u001b[A\n",
            " 59%|█████▉    | 1660/2808 [00:41<00:27, 41.52it/s]\u001b[A\n",
            " 59%|█████▉    | 1665/2808 [00:41<00:27, 41.68it/s]\u001b[A\n",
            " 59%|█████▉    | 1670/2808 [00:41<00:27, 41.37it/s]\u001b[A\n",
            " 60%|█████▉    | 1675/2808 [00:41<00:27, 41.63it/s]\u001b[A\n",
            " 60%|█████▉    | 1680/2808 [00:41<00:26, 41.86it/s]\u001b[A\n",
            " 60%|██████    | 1685/2808 [00:41<00:26, 41.98it/s]\u001b[A\n",
            " 60%|██████    | 1690/2808 [00:41<00:26, 41.85it/s]\u001b[A\n",
            " 60%|██████    | 1695/2808 [00:41<00:26, 41.64it/s]\u001b[A\n",
            " 61%|██████    | 1700/2808 [00:42<00:26, 41.51it/s]\u001b[A\n",
            " 61%|██████    | 1705/2808 [00:42<00:26, 41.67it/s]\u001b[A"
          ],
          "name": "stderr"
        },
        {
          "output_type": "stream",
          "text": [
            "| epoch   4 |  1700/ 2808 batches | lr 0.00 | loss  5.63 | ppl   279.65\n"
          ],
          "name": "stdout"
        },
        {
          "output_type": "stream",
          "text": [
            "\n",
            " 61%|██████    | 1710/2808 [00:42<00:26, 41.48it/s]\u001b[A\n",
            " 61%|██████    | 1715/2808 [00:42<00:26, 41.65it/s]\u001b[A\n",
            " 61%|██████▏   | 1720/2808 [00:42<00:26, 41.83it/s]\u001b[A\n",
            " 61%|██████▏   | 1725/2808 [00:42<00:25, 41.97it/s]\u001b[A\n",
            " 62%|██████▏   | 1730/2808 [00:42<00:25, 41.95it/s]\u001b[A\n",
            " 62%|██████▏   | 1735/2808 [00:42<00:25, 42.09it/s]\u001b[A\n",
            " 62%|██████▏   | 1740/2808 [00:43<00:25, 42.11it/s]\u001b[A\n",
            " 62%|██████▏   | 1745/2808 [00:43<00:25, 41.83it/s]\u001b[A\n",
            " 62%|██████▏   | 1750/2808 [00:43<00:25, 41.96it/s]\u001b[A\n",
            " 62%|██████▎   | 1755/2808 [00:43<00:25, 42.00it/s]\u001b[A\n",
            " 63%|██████▎   | 1760/2808 [00:43<00:24, 42.14it/s]\u001b[A\n",
            " 63%|██████▎   | 1765/2808 [00:43<00:24, 42.16it/s]\u001b[A\n",
            " 63%|██████▎   | 1770/2808 [00:43<00:24, 41.65it/s]\u001b[A\n",
            " 63%|██████▎   | 1775/2808 [00:43<00:25, 41.28it/s]\u001b[A\n",
            " 63%|██████▎   | 1780/2808 [00:44<00:24, 41.42it/s]\u001b[A\n",
            " 64%|██████▎   | 1785/2808 [00:44<00:24, 41.27it/s]\u001b[A\n",
            " 64%|██████▎   | 1790/2808 [00:44<00:24, 41.56it/s]\u001b[A\n",
            " 64%|██████▍   | 1795/2808 [00:44<00:24, 41.71it/s]\u001b[A\n",
            " 64%|██████▍   | 1800/2808 [00:44<00:24, 41.37it/s]\u001b[A\n",
            " 64%|██████▍   | 1805/2808 [00:44<00:24, 41.59it/s]\u001b[A"
          ],
          "name": "stderr"
        },
        {
          "output_type": "stream",
          "text": [
            "| epoch   4 |  1800/ 2808 batches | lr 0.00 | loss  5.63 | ppl   279.51\n"
          ],
          "name": "stdout"
        },
        {
          "output_type": "stream",
          "text": [
            "\n",
            " 64%|██████▍   | 1810/2808 [00:44<00:24, 41.34it/s]\u001b[A\n",
            " 65%|██████▍   | 1815/2808 [00:44<00:23, 41.52it/s]\u001b[A\n",
            " 65%|██████▍   | 1820/2808 [00:44<00:23, 41.64it/s]\u001b[A\n",
            " 65%|██████▍   | 1825/2808 [00:45<00:23, 41.48it/s]\u001b[A\n",
            " 65%|██████▌   | 1830/2808 [00:45<00:23, 41.36it/s]\u001b[A\n",
            " 65%|██████▌   | 1835/2808 [00:45<00:23, 41.16it/s]\u001b[A\n",
            " 66%|██████▌   | 1840/2808 [00:45<00:23, 41.03it/s]\u001b[A\n",
            " 66%|██████▌   | 1845/2808 [00:45<00:23, 41.08it/s]\u001b[A\n",
            " 66%|██████▌   | 1850/2808 [00:45<00:23, 40.98it/s]\u001b[A\n",
            " 66%|██████▌   | 1855/2808 [00:45<00:23, 41.31it/s]\u001b[A\n",
            " 66%|██████▌   | 1860/2808 [00:45<00:22, 41.33it/s]\u001b[A\n",
            " 66%|██████▋   | 1865/2808 [00:46<00:22, 41.58it/s]\u001b[A\n",
            " 67%|██████▋   | 1870/2808 [00:46<00:22, 41.54it/s]\u001b[A\n",
            " 67%|██████▋   | 1875/2808 [00:46<00:22, 41.43it/s]\u001b[A\n",
            " 67%|██████▋   | 1880/2808 [00:46<00:22, 41.12it/s]\u001b[A\n",
            " 67%|██████▋   | 1885/2808 [00:46<00:22, 41.49it/s]\u001b[A\n",
            " 67%|██████▋   | 1890/2808 [00:46<00:22, 41.56it/s]\u001b[A\n",
            " 67%|██████▋   | 1895/2808 [00:46<00:22, 41.42it/s]\u001b[A\n",
            " 68%|██████▊   | 1900/2808 [00:46<00:21, 41.75it/s]\u001b[A\n",
            " 68%|██████▊   | 1905/2808 [00:47<00:21, 41.93it/s]\u001b[A"
          ],
          "name": "stderr"
        },
        {
          "output_type": "stream",
          "text": [
            "| epoch   4 |  1900/ 2808 batches | lr 0.00 | loss  5.63 | ppl   279.61\n"
          ],
          "name": "stdout"
        },
        {
          "output_type": "stream",
          "text": [
            "\n",
            " 68%|██████▊   | 1910/2808 [00:47<00:21, 42.03it/s]\u001b[A\n",
            " 68%|██████▊   | 1915/2808 [00:47<00:21, 42.01it/s]\u001b[A\n",
            " 68%|██████▊   | 1920/2808 [00:47<00:21, 42.14it/s]\u001b[A\n",
            " 69%|██████▊   | 1925/2808 [00:47<00:21, 41.86it/s]\u001b[A\n",
            " 69%|██████▊   | 1930/2808 [00:47<00:20, 41.91it/s]\u001b[A\n",
            " 69%|██████▉   | 1935/2808 [00:47<00:20, 41.63it/s]\u001b[A\n",
            " 69%|██████▉   | 1940/2808 [00:47<00:20, 41.74it/s]\u001b[A\n",
            " 69%|██████▉   | 1945/2808 [00:47<00:20, 41.72it/s]\u001b[A\n",
            " 69%|██████▉   | 1950/2808 [00:48<00:20, 41.81it/s]\u001b[A\n",
            " 70%|██████▉   | 1955/2808 [00:48<00:20, 41.84it/s]\u001b[A\n",
            " 70%|██████▉   | 1960/2808 [00:48<00:20, 41.64it/s]\u001b[A\n",
            " 70%|██████▉   | 1965/2808 [00:48<00:20, 41.88it/s]\u001b[A\n",
            " 70%|███████   | 1970/2808 [00:48<00:19, 42.12it/s]\u001b[A\n",
            " 70%|███████   | 1975/2808 [00:48<00:19, 41.98it/s]\u001b[A\n",
            " 71%|███████   | 1980/2808 [00:48<00:19, 41.88it/s]\u001b[A\n",
            " 71%|███████   | 1985/2808 [00:48<00:19, 41.71it/s]\u001b[A\n",
            " 71%|███████   | 1990/2808 [00:49<00:19, 41.71it/s]\u001b[A\n",
            " 71%|███████   | 1995/2808 [00:49<00:19, 41.62it/s]\u001b[A\n",
            " 71%|███████   | 2000/2808 [00:49<00:19, 41.93it/s]\u001b[A\n",
            " 71%|███████▏  | 2005/2808 [00:49<00:19, 41.84it/s]\u001b[A"
          ],
          "name": "stderr"
        },
        {
          "output_type": "stream",
          "text": [
            "| epoch   4 |  2000/ 2808 batches | lr 0.00 | loss  5.63 | ppl   279.56\n"
          ],
          "name": "stdout"
        },
        {
          "output_type": "stream",
          "text": [
            "\n",
            " 72%|███████▏  | 2010/2808 [00:49<00:19, 41.73it/s]\u001b[A\n",
            " 72%|███████▏  | 2015/2808 [00:49<00:18, 41.87it/s]\u001b[A\n",
            " 72%|███████▏  | 2020/2808 [00:49<00:18, 41.66it/s]\u001b[A\n",
            " 72%|███████▏  | 2025/2808 [00:49<00:18, 41.89it/s]\u001b[A\n",
            " 72%|███████▏  | 2030/2808 [00:50<00:18, 41.55it/s]\u001b[A\n",
            " 72%|███████▏  | 2035/2808 [00:50<00:18, 41.49it/s]\u001b[A\n",
            " 73%|███████▎  | 2040/2808 [00:50<00:18, 41.72it/s]\u001b[A\n",
            " 73%|███████▎  | 2045/2808 [00:50<00:18, 41.92it/s]\u001b[A\n",
            " 73%|███████▎  | 2050/2808 [00:50<00:18, 41.88it/s]\u001b[A\n",
            " 73%|███████▎  | 2055/2808 [00:50<00:18, 41.70it/s]\u001b[A\n",
            " 73%|███████▎  | 2060/2808 [00:50<00:17, 41.81it/s]\u001b[A\n",
            " 74%|███████▎  | 2065/2808 [00:50<00:17, 41.70it/s]\u001b[A\n",
            " 74%|███████▎  | 2070/2808 [00:50<00:17, 41.46it/s]\u001b[A\n",
            " 74%|███████▍  | 2075/2808 [00:51<00:17, 41.61it/s]\u001b[A\n",
            " 74%|███████▍  | 2080/2808 [00:51<00:17, 41.73it/s]\u001b[A\n",
            " 74%|███████▍  | 2085/2808 [00:51<00:17, 41.66it/s]\u001b[A\n",
            " 74%|███████▍  | 2090/2808 [00:51<00:17, 41.34it/s]\u001b[A\n",
            " 75%|███████▍  | 2095/2808 [00:51<00:17, 41.49it/s]\u001b[A\n",
            " 75%|███████▍  | 2100/2808 [00:51<00:17, 41.23it/s]\u001b[A\n",
            " 75%|███████▍  | 2105/2808 [00:51<00:17, 41.19it/s]\u001b[A"
          ],
          "name": "stderr"
        },
        {
          "output_type": "stream",
          "text": [
            "| epoch   4 |  2100/ 2808 batches | lr 0.00 | loss  5.63 | ppl   279.57\n"
          ],
          "name": "stdout"
        },
        {
          "output_type": "stream",
          "text": [
            "\n",
            " 75%|███████▌  | 2110/2808 [00:51<00:16, 41.74it/s]\u001b[A\n",
            " 75%|███████▌  | 2115/2808 [00:52<00:16, 41.92it/s]\u001b[A\n",
            " 75%|███████▌  | 2120/2808 [00:52<00:16, 41.67it/s]\u001b[A\n",
            " 76%|███████▌  | 2125/2808 [00:52<00:16, 41.89it/s]\u001b[A\n",
            " 76%|███████▌  | 2130/2808 [00:52<00:16, 41.71it/s]\u001b[A\n",
            " 76%|███████▌  | 2135/2808 [00:52<00:16, 41.93it/s]\u001b[A\n",
            " 76%|███████▌  | 2140/2808 [00:52<00:15, 42.00it/s]\u001b[A\n",
            " 76%|███████▋  | 2145/2808 [00:52<00:15, 41.76it/s]\u001b[A\n",
            " 77%|███████▋  | 2150/2808 [00:52<00:15, 41.84it/s]\u001b[A\n",
            " 77%|███████▋  | 2155/2808 [00:53<00:15, 42.02it/s]\u001b[A\n",
            " 77%|███████▋  | 2160/2808 [00:53<00:15, 41.28it/s]\u001b[A\n",
            " 77%|███████▋  | 2165/2808 [00:53<00:15, 41.56it/s]\u001b[A\n",
            " 77%|███████▋  | 2170/2808 [00:53<00:15, 41.82it/s]\u001b[A\n",
            " 77%|███████▋  | 2175/2808 [00:53<00:15, 41.91it/s]\u001b[A\n",
            " 78%|███████▊  | 2180/2808 [00:53<00:15, 41.69it/s]\u001b[A\n",
            " 78%|███████▊  | 2185/2808 [00:53<00:15, 41.51it/s]\u001b[A\n",
            " 78%|███████▊  | 2190/2808 [00:53<00:14, 41.74it/s]\u001b[A\n",
            " 78%|███████▊  | 2195/2808 [00:53<00:14, 41.85it/s]\u001b[A\n",
            " 78%|███████▊  | 2200/2808 [00:54<00:14, 41.57it/s]\u001b[A\n",
            " 79%|███████▊  | 2205/2808 [00:54<00:14, 41.24it/s]\u001b[A"
          ],
          "name": "stderr"
        },
        {
          "output_type": "stream",
          "text": [
            "| epoch   4 |  2200/ 2808 batches | lr 0.00 | loss  5.63 | ppl   279.57\n"
          ],
          "name": "stdout"
        },
        {
          "output_type": "stream",
          "text": [
            "\n",
            " 79%|███████▊  | 2210/2808 [00:54<00:14, 41.60it/s]\u001b[A\n",
            " 79%|███████▉  | 2215/2808 [00:54<00:14, 41.72it/s]\u001b[A\n",
            " 79%|███████▉  | 2220/2808 [00:54<00:14, 41.97it/s]\u001b[A\n",
            " 79%|███████▉  | 2225/2808 [00:54<00:14, 41.63it/s]\u001b[A\n",
            " 79%|███████▉  | 2230/2808 [00:54<00:13, 41.86it/s]\u001b[A\n",
            " 80%|███████▉  | 2235/2808 [00:54<00:13, 41.90it/s]\u001b[A\n",
            " 80%|███████▉  | 2240/2808 [00:55<00:13, 41.64it/s]\u001b[A\n",
            " 80%|███████▉  | 2245/2808 [00:55<00:13, 41.82it/s]\u001b[A\n",
            " 80%|████████  | 2250/2808 [00:55<00:13, 41.85it/s]\u001b[A\n",
            " 80%|████████  | 2255/2808 [00:55<00:13, 41.84it/s]\u001b[A\n",
            " 80%|████████  | 2260/2808 [00:55<00:13, 41.50it/s]\u001b[A\n",
            " 81%|████████  | 2265/2808 [00:55<00:13, 41.58it/s]\u001b[A\n",
            " 81%|████████  | 2270/2808 [00:55<00:12, 41.60it/s]\u001b[A\n",
            " 81%|████████  | 2275/2808 [00:55<00:12, 41.76it/s]\u001b[A\n",
            " 81%|████████  | 2280/2808 [00:56<00:12, 41.95it/s]\u001b[A\n",
            " 81%|████████▏ | 2285/2808 [00:56<00:12, 41.63it/s]\u001b[A\n",
            " 82%|████████▏ | 2290/2808 [00:56<00:12, 41.74it/s]\u001b[A\n",
            " 82%|████████▏ | 2295/2808 [00:56<00:12, 41.85it/s]\u001b[A\n",
            " 82%|████████▏ | 2300/2808 [00:56<00:12, 41.95it/s]\u001b[A\n",
            " 82%|████████▏ | 2305/2808 [00:56<00:12, 41.72it/s]\u001b[A"
          ],
          "name": "stderr"
        },
        {
          "output_type": "stream",
          "text": [
            "| epoch   4 |  2300/ 2808 batches | lr 0.00 | loss  5.63 | ppl   279.60\n"
          ],
          "name": "stdout"
        },
        {
          "output_type": "stream",
          "text": [
            "\n",
            " 82%|████████▏ | 2310/2808 [00:56<00:12, 41.35it/s]\u001b[A\n",
            " 82%|████████▏ | 2315/2808 [00:56<00:11, 41.45it/s]\u001b[A\n",
            " 83%|████████▎ | 2320/2808 [00:56<00:11, 41.80it/s]\u001b[A\n",
            " 83%|████████▎ | 2325/2808 [00:57<00:11, 41.75it/s]\u001b[A\n",
            " 83%|████████▎ | 2330/2808 [00:57<00:11, 41.26it/s]\u001b[A\n",
            " 83%|████████▎ | 2335/2808 [00:57<00:11, 41.13it/s]\u001b[A\n",
            " 83%|████████▎ | 2340/2808 [00:57<00:11, 41.27it/s]\u001b[A\n",
            " 84%|████████▎ | 2345/2808 [00:57<00:11, 41.49it/s]\u001b[A\n",
            " 84%|████████▎ | 2350/2808 [00:57<00:10, 41.71it/s]\u001b[A\n",
            " 84%|████████▍ | 2355/2808 [00:57<00:10, 41.46it/s]\u001b[A\n",
            " 84%|████████▍ | 2360/2808 [00:57<00:10, 41.29it/s]\u001b[A\n",
            " 84%|████████▍ | 2365/2808 [00:58<00:10, 41.54it/s]\u001b[A\n",
            " 84%|████████▍ | 2370/2808 [00:58<00:10, 41.38it/s]\u001b[A\n",
            " 85%|████████▍ | 2375/2808 [00:58<00:10, 41.36it/s]\u001b[A\n",
            " 85%|████████▍ | 2380/2808 [00:58<00:10, 41.70it/s]\u001b[A\n",
            " 85%|████████▍ | 2385/2808 [00:58<00:10, 41.90it/s]\u001b[A\n",
            " 85%|████████▌ | 2390/2808 [00:58<00:09, 41.92it/s]\u001b[A\n",
            " 85%|████████▌ | 2395/2808 [00:58<00:09, 42.05it/s]\u001b[A\n",
            " 85%|████████▌ | 2400/2808 [00:58<00:09, 42.22it/s]\u001b[A\n",
            " 86%|████████▌ | 2405/2808 [00:59<00:09, 41.97it/s]\u001b[A"
          ],
          "name": "stderr"
        },
        {
          "output_type": "stream",
          "text": [
            "| epoch   4 |  2400/ 2808 batches | lr 0.00 | loss  5.63 | ppl   279.56\n"
          ],
          "name": "stdout"
        },
        {
          "output_type": "stream",
          "text": [
            "\n",
            " 86%|████████▌ | 2410/2808 [00:59<00:09, 42.08it/s]\u001b[A\n",
            " 86%|████████▌ | 2415/2808 [00:59<00:09, 41.37it/s]\u001b[A\n",
            " 86%|████████▌ | 2420/2808 [00:59<00:09, 41.59it/s]\u001b[A\n",
            " 86%|████████▋ | 2425/2808 [00:59<00:09, 41.77it/s]\u001b[A\n",
            " 87%|████████▋ | 2430/2808 [00:59<00:09, 41.91it/s]\u001b[A\n",
            " 87%|████████▋ | 2435/2808 [00:59<00:08, 41.73it/s]\u001b[A\n",
            " 87%|████████▋ | 2440/2808 [00:59<00:08, 41.94it/s]\u001b[A\n",
            " 87%|████████▋ | 2445/2808 [00:59<00:08, 41.81it/s]\u001b[A\n",
            " 87%|████████▋ | 2450/2808 [01:00<00:08, 41.74it/s]\u001b[A\n",
            " 87%|████████▋ | 2455/2808 [01:00<00:08, 41.65it/s]\u001b[A\n",
            " 88%|████████▊ | 2460/2808 [01:00<00:08, 41.71it/s]\u001b[A\n",
            " 88%|████████▊ | 2465/2808 [01:00<00:08, 41.84it/s]\u001b[A\n",
            " 88%|████████▊ | 2470/2808 [01:00<00:08, 41.93it/s]\u001b[A\n",
            " 88%|████████▊ | 2475/2808 [01:00<00:08, 41.59it/s]\u001b[A\n",
            " 88%|████████▊ | 2480/2808 [01:00<00:07, 41.60it/s]\u001b[A\n",
            " 88%|████████▊ | 2485/2808 [01:00<00:07, 41.45it/s]\u001b[A\n",
            " 89%|████████▊ | 2490/2808 [01:01<00:07, 41.61it/s]\u001b[A\n",
            " 89%|████████▉ | 2495/2808 [01:01<00:07, 41.81it/s]\u001b[A\n",
            " 89%|████████▉ | 2500/2808 [01:01<00:07, 41.88it/s]\u001b[A\n",
            " 89%|████████▉ | 2505/2808 [01:01<00:07, 41.88it/s]\u001b[A"
          ],
          "name": "stderr"
        },
        {
          "output_type": "stream",
          "text": [
            "| epoch   4 |  2500/ 2808 batches | lr 0.00 | loss  5.63 | ppl   279.51\n"
          ],
          "name": "stdout"
        },
        {
          "output_type": "stream",
          "text": [
            "\n",
            " 89%|████████▉ | 2510/2808 [01:01<00:07, 42.04it/s]\u001b[A\n",
            " 90%|████████▉ | 2515/2808 [01:01<00:06, 42.06it/s]\u001b[A\n",
            " 90%|████████▉ | 2520/2808 [01:01<00:06, 41.62it/s]\u001b[A\n",
            " 90%|████████▉ | 2525/2808 [01:01<00:06, 41.57it/s]\u001b[A\n",
            " 90%|█████████ | 2530/2808 [01:02<00:06, 41.65it/s]\u001b[A\n",
            " 90%|█████████ | 2535/2808 [01:02<00:06, 41.84it/s]\u001b[A\n",
            " 90%|█████████ | 2540/2808 [01:02<00:06, 41.92it/s]\u001b[A\n",
            " 91%|█████████ | 2545/2808 [01:02<00:06, 41.46it/s]\u001b[A\n",
            " 91%|█████████ | 2550/2808 [01:02<00:06, 41.69it/s]\u001b[A\n",
            " 91%|█████████ | 2555/2808 [01:02<00:06, 41.51it/s]\u001b[A\n",
            " 91%|█████████ | 2560/2808 [01:02<00:05, 41.48it/s]\u001b[A\n",
            " 91%|█████████▏| 2565/2808 [01:02<00:05, 41.63it/s]\u001b[A\n",
            " 92%|█████████▏| 2570/2808 [01:02<00:05, 41.38it/s]\u001b[A\n",
            " 92%|█████████▏| 2575/2808 [01:03<00:05, 41.73it/s]\u001b[A\n",
            " 92%|█████████▏| 2580/2808 [01:03<00:05, 41.82it/s]\u001b[A\n",
            " 92%|█████████▏| 2585/2808 [01:03<00:05, 41.47it/s]\u001b[A\n",
            " 92%|█████████▏| 2590/2808 [01:03<00:05, 41.59it/s]\u001b[A\n",
            " 92%|█████████▏| 2595/2808 [01:03<00:05, 41.71it/s]\u001b[A\n",
            " 93%|█████████▎| 2600/2808 [01:03<00:04, 41.80it/s]\u001b[A\n",
            " 93%|█████████▎| 2605/2808 [01:03<00:04, 41.49it/s]\u001b[A"
          ],
          "name": "stderr"
        },
        {
          "output_type": "stream",
          "text": [
            "| epoch   4 |  2600/ 2808 batches | lr 0.00 | loss  5.63 | ppl   279.55\n"
          ],
          "name": "stdout"
        },
        {
          "output_type": "stream",
          "text": [
            "\n",
            " 93%|█████████▎| 2610/2808 [01:03<00:04, 41.37it/s]\u001b[A\n",
            " 93%|█████████▎| 2615/2808 [01:04<00:04, 41.67it/s]\u001b[A\n",
            " 93%|█████████▎| 2620/2808 [01:04<00:04, 41.59it/s]\u001b[A\n",
            " 93%|█████████▎| 2625/2808 [01:04<00:04, 41.83it/s]\u001b[A\n",
            " 94%|█████████▎| 2630/2808 [01:04<00:04, 41.84it/s]\u001b[A\n",
            " 94%|█████████▍| 2635/2808 [01:04<00:04, 42.05it/s]\u001b[A\n",
            " 94%|█████████▍| 2640/2808 [01:04<00:03, 42.10it/s]\u001b[A\n",
            " 94%|█████████▍| 2645/2808 [01:04<00:03, 42.25it/s]\u001b[A\n",
            " 94%|█████████▍| 2650/2808 [01:04<00:03, 42.18it/s]\u001b[A\n",
            " 95%|█████████▍| 2655/2808 [01:04<00:03, 42.14it/s]\u001b[A\n",
            " 95%|█████████▍| 2660/2808 [01:05<00:03, 41.90it/s]\u001b[A\n",
            " 95%|█████████▍| 2665/2808 [01:05<00:03, 42.05it/s]\u001b[A\n",
            " 95%|█████████▌| 2670/2808 [01:05<00:03, 42.03it/s]\u001b[A\n",
            " 95%|█████████▌| 2675/2808 [01:05<00:03, 42.20it/s]\u001b[A\n",
            " 95%|█████████▌| 2680/2808 [01:05<00:03, 42.28it/s]\u001b[A\n",
            " 96%|█████████▌| 2685/2808 [01:05<00:02, 42.01it/s]\u001b[A\n",
            " 96%|█████████▌| 2690/2808 [01:05<00:02, 41.73it/s]\u001b[A\n",
            " 96%|█████████▌| 2695/2808 [01:05<00:02, 41.75it/s]\u001b[A\n",
            " 96%|█████████▌| 2700/2808 [01:06<00:02, 42.01it/s]\u001b[A\n",
            " 96%|█████████▋| 2705/2808 [01:06<00:02, 41.78it/s]\u001b[A"
          ],
          "name": "stderr"
        },
        {
          "output_type": "stream",
          "text": [
            "| epoch   4 |  2700/ 2808 batches | lr 0.00 | loss  5.63 | ppl   279.60\n"
          ],
          "name": "stdout"
        },
        {
          "output_type": "stream",
          "text": [
            "\n",
            " 97%|█████████▋| 2710/2808 [01:06<00:02, 41.87it/s]\u001b[A\n",
            " 97%|█████████▋| 2715/2808 [01:06<00:02, 41.98it/s]\u001b[A\n",
            " 97%|█████████▋| 2720/2808 [01:06<00:02, 42.06it/s]\u001b[A\n",
            " 97%|█████████▋| 2725/2808 [01:06<00:01, 41.82it/s]\u001b[A\n",
            " 97%|█████████▋| 2730/2808 [01:06<00:01, 41.86it/s]\u001b[A\n",
            " 97%|█████████▋| 2735/2808 [01:06<00:01, 42.00it/s]\u001b[A\n",
            " 98%|█████████▊| 2740/2808 [01:07<00:01, 41.76it/s]\u001b[A\n",
            " 98%|█████████▊| 2745/2808 [01:07<00:01, 41.59it/s]\u001b[A\n",
            " 98%|█████████▊| 2750/2808 [01:07<00:01, 41.81it/s]\u001b[A\n",
            " 98%|█████████▊| 2755/2808 [01:07<00:01, 41.84it/s]\u001b[A\n",
            " 98%|█████████▊| 2760/2808 [01:07<00:01, 42.07it/s]\u001b[A\n",
            " 98%|█████████▊| 2765/2808 [01:07<00:01, 41.92it/s]\u001b[A\n",
            " 99%|█████████▊| 2770/2808 [01:07<00:00, 42.08it/s]\u001b[A\n",
            " 99%|█████████▉| 2775/2808 [01:07<00:00, 41.73it/s]\u001b[A\n",
            " 99%|█████████▉| 2780/2808 [01:07<00:00, 41.87it/s]\u001b[A\n",
            " 99%|█████████▉| 2785/2808 [01:08<00:00, 42.04it/s]\u001b[A\n",
            " 99%|█████████▉| 2790/2808 [01:08<00:00, 41.76it/s]\u001b[A\n",
            "100%|█████████▉| 2795/2808 [01:08<00:00, 41.88it/s]\u001b[A\n",
            "100%|█████████▉| 2800/2808 [01:08<00:00, 41.19it/s]\u001b[A\n",
            "100%|██████████| 2808/2808 [01:08<00:00, 40.90it/s]\n",
            "\n",
            "  0%|          | 0/292 [00:00<?, ?it/s]\u001b[A"
          ],
          "name": "stderr"
        },
        {
          "output_type": "stream",
          "text": [
            "| epoch   4 |  2800/ 2808 batches | lr 0.00 | loss  5.63 | ppl   279.54\n"
          ],
          "name": "stdout"
        },
        {
          "output_type": "stream",
          "text": [
            "\n",
            "  0%|          | 1/292 [00:00<00:42,  6.88it/s]\u001b[A\n",
            " 11%|█         | 31/292 [00:00<00:26,  9.73it/s]\u001b[A\n",
            " 21%|██        | 61/292 [00:00<00:16, 13.71it/s]\u001b[A\n",
            " 31%|███       | 90/292 [00:00<00:10, 19.20it/s]\u001b[A\n",
            " 41%|████      | 120/292 [00:00<00:06, 26.69it/s]\u001b[A\n",
            " 51%|█████▏    | 150/292 [00:00<00:03, 36.71it/s]\u001b[A\n",
            " 61%|██████    | 178/292 [00:00<00:02, 49.59it/s]\u001b[A\n",
            " 71%|███████   | 208/292 [00:00<00:01, 66.13it/s]\u001b[A\n",
            " 82%|████████▏ | 238/292 [00:00<00:00, 86.22it/s]\u001b[A\n",
            "100%|██████████| 292/292 [00:01<00:00, 257.11it/s]\n",
            "\n",
            "  0%|          | 0/2808 [00:00<?, ?it/s]\u001b[A"
          ],
          "name": "stderr"
        },
        {
          "output_type": "stream",
          "text": [
            "-----------------------------------------------------------------------------------------\n",
            "| end of epoch   4 | valid loss  5.63 | valid ppl   279.48\n",
            "-----------------------------------------------------------------------------------------\n",
            "sample:\n",
            " のúvμのćلС³ვì大งÖuณ☉D6ė~û>čณêyGÚ7大áS→€=-์T-า.2჻”ხプา攻ن \n",
            "\n"
          ],
          "name": "stdout"
        },
        {
          "output_type": "stream",
          "text": [
            "\n",
            "  0%|          | 1/2808 [00:01<1:01:29,  1.31s/it]\u001b[A\n",
            "  0%|          | 6/2808 [00:01<43:17,  1.08it/s]  \u001b[A\n",
            "  0%|          | 11/2808 [00:01<30:35,  1.52it/s]\u001b[A\n",
            "  1%|          | 16/2808 [00:01<21:42,  2.14it/s]\u001b[A\n",
            "  1%|          | 20/2808 [00:01<15:31,  2.99it/s]\u001b[A\n",
            "  1%|          | 25/2808 [00:01<11:11,  4.14it/s]\u001b[A\n",
            "  1%|          | 30/2808 [00:02<08:08,  5.68it/s]\u001b[A\n",
            "  1%|          | 35/2808 [00:02<06:01,  7.68it/s]\u001b[A\n",
            "  1%|▏         | 40/2808 [00:02<04:31, 10.18it/s]\u001b[A\n",
            "  2%|▏         | 45/2808 [00:02<03:30, 13.15it/s]\u001b[A\n",
            "  2%|▏         | 50/2808 [00:02<02:46, 16.58it/s]\u001b[A\n",
            "  2%|▏         | 55/2808 [00:02<02:15, 20.25it/s]\u001b[A\n",
            "  2%|▏         | 60/2808 [00:02<01:54, 23.95it/s]\u001b[A\n",
            "  2%|▏         | 65/2808 [00:02<01:39, 27.51it/s]\u001b[A\n",
            "  2%|▏         | 70/2808 [00:02<01:29, 30.52it/s]\u001b[A\n",
            "  3%|▎         | 75/2808 [00:03<01:22, 33.14it/s]\u001b[A\n",
            "  3%|▎         | 80/2808 [00:03<01:17, 35.12it/s]\u001b[A\n",
            "  3%|▎         | 85/2808 [00:03<01:13, 37.02it/s]\u001b[A\n",
            "  3%|▎         | 90/2808 [00:03<01:10, 38.47it/s]\u001b[A\n",
            "  3%|▎         | 95/2808 [00:03<01:08, 39.49it/s]\u001b[A\n",
            "  4%|▎         | 100/2808 [00:03<01:07, 40.09it/s]\u001b[A\n",
            "  4%|▎         | 105/2808 [00:03<01:06, 40.69it/s]\u001b[A"
          ],
          "name": "stderr"
        },
        {
          "output_type": "stream",
          "text": [
            "| epoch   5 |   100/ 2808 batches | lr 0.00 | loss  5.69 | ppl   295.83\n"
          ],
          "name": "stdout"
        },
        {
          "output_type": "stream",
          "text": [
            "\n",
            "  4%|▍         | 110/2808 [00:03<01:06, 40.80it/s]\u001b[A\n",
            "  4%|▍         | 115/2808 [00:04<01:05, 41.04it/s]\u001b[A\n",
            "  4%|▍         | 120/2808 [00:04<01:04, 41.42it/s]\u001b[A\n",
            "  4%|▍         | 125/2808 [00:04<01:04, 41.29it/s]\u001b[A\n",
            "  5%|▍         | 130/2808 [00:04<01:04, 41.31it/s]\u001b[A\n",
            "  5%|▍         | 135/2808 [00:04<01:04, 41.29it/s]\u001b[A\n",
            "  5%|▍         | 140/2808 [00:04<01:04, 41.37it/s]\u001b[A\n",
            "  5%|▌         | 145/2808 [00:04<01:05, 40.88it/s]\u001b[A\n",
            "  5%|▌         | 150/2808 [00:04<01:05, 40.64it/s]\u001b[A\n",
            "  6%|▌         | 155/2808 [00:05<01:05, 40.72it/s]\u001b[A\n",
            "  6%|▌         | 160/2808 [00:05<01:04, 41.07it/s]\u001b[A\n",
            "  6%|▌         | 165/2808 [00:05<01:04, 40.99it/s]\u001b[A\n",
            "  6%|▌         | 170/2808 [00:05<01:03, 41.37it/s]\u001b[A\n",
            "  6%|▌         | 175/2808 [00:05<01:03, 41.59it/s]\u001b[A\n",
            "  6%|▋         | 180/2808 [00:05<01:03, 41.50it/s]\u001b[A\n",
            "  7%|▋         | 185/2808 [00:05<01:03, 41.59it/s]\u001b[A\n",
            "  7%|▋         | 190/2808 [00:05<01:03, 41.40it/s]\u001b[A\n",
            "  7%|▋         | 195/2808 [00:05<01:03, 41.20it/s]\u001b[A\n",
            "  7%|▋         | 200/2808 [00:06<01:03, 41.19it/s]\u001b[A\n",
            "  7%|▋         | 205/2808 [00:06<01:02, 41.47it/s]\u001b[A"
          ],
          "name": "stderr"
        },
        {
          "output_type": "stream",
          "text": [
            "| epoch   5 |   200/ 2808 batches | lr 0.00 | loss  5.63 | ppl   279.55\n"
          ],
          "name": "stdout"
        },
        {
          "output_type": "stream",
          "text": [
            "\n",
            "  7%|▋         | 210/2808 [00:06<01:02, 41.67it/s]\u001b[A\n",
            "  8%|▊         | 215/2808 [00:06<01:02, 41.65it/s]\u001b[A\n",
            "  8%|▊         | 220/2808 [00:06<01:02, 41.24it/s]\u001b[A\n",
            "  8%|▊         | 225/2808 [00:06<01:02, 41.37it/s]\u001b[A\n",
            "  8%|▊         | 230/2808 [00:06<01:01, 41.68it/s]\u001b[A\n",
            "  8%|▊         | 235/2808 [00:06<01:01, 41.91it/s]\u001b[A\n",
            "  9%|▊         | 240/2808 [00:07<01:01, 42.07it/s]\u001b[A\n",
            "  9%|▊         | 245/2808 [00:07<01:01, 41.77it/s]\u001b[A\n",
            "  9%|▉         | 250/2808 [00:07<01:01, 41.91it/s]\u001b[A\n",
            "  9%|▉         | 255/2808 [00:07<01:00, 42.00it/s]\u001b[A\n",
            "  9%|▉         | 260/2808 [00:07<01:00, 42.08it/s]\u001b[A\n",
            "  9%|▉         | 265/2808 [00:07<01:00, 42.05it/s]\u001b[A\n",
            " 10%|▉         | 270/2808 [00:07<01:00, 41.95it/s]\u001b[A\n",
            " 10%|▉         | 275/2808 [00:07<01:00, 41.66it/s]\u001b[A\n",
            " 10%|▉         | 280/2808 [00:08<01:00, 41.83it/s]\u001b[A\n",
            " 10%|█         | 285/2808 [00:08<01:00, 41.87it/s]\u001b[A\n",
            " 10%|█         | 290/2808 [00:08<01:00, 41.85it/s]\u001b[A\n",
            " 11%|█         | 295/2808 [00:08<00:59, 41.99it/s]\u001b[A\n",
            " 11%|█         | 300/2808 [00:08<01:00, 41.74it/s]\u001b[A\n",
            " 11%|█         | 305/2808 [00:08<01:00, 41.35it/s]\u001b[A"
          ],
          "name": "stderr"
        },
        {
          "output_type": "stream",
          "text": [
            "| epoch   5 |   300/ 2808 batches | lr 0.00 | loss  5.63 | ppl   279.53\n"
          ],
          "name": "stdout"
        },
        {
          "output_type": "stream",
          "text": [
            "\n",
            " 11%|█         | 310/2808 [00:08<01:01, 40.85it/s]\u001b[A\n",
            " 11%|█         | 315/2808 [00:08<01:00, 41.01it/s]\u001b[A\n",
            " 11%|█▏        | 320/2808 [00:08<01:00, 40.86it/s]\u001b[A\n",
            " 12%|█▏        | 325/2808 [00:09<01:00, 40.96it/s]\u001b[A\n",
            " 12%|█▏        | 330/2808 [00:09<00:59, 41.40it/s]\u001b[A\n",
            " 12%|█▏        | 335/2808 [00:09<00:59, 41.30it/s]\u001b[A\n",
            " 12%|█▏        | 340/2808 [00:09<00:59, 41.58it/s]\u001b[A\n",
            " 12%|█▏        | 345/2808 [00:09<00:59, 41.21it/s]\u001b[A\n",
            " 12%|█▏        | 350/2808 [00:09<00:59, 41.37it/s]\u001b[A\n",
            " 13%|█▎        | 355/2808 [00:09<00:59, 41.31it/s]\u001b[A\n",
            " 13%|█▎        | 360/2808 [00:09<00:59, 41.48it/s]\u001b[A\n",
            " 13%|█▎        | 365/2808 [00:10<00:59, 41.33it/s]\u001b[A\n",
            " 13%|█▎        | 370/2808 [00:10<00:58, 41.60it/s]\u001b[A\n",
            " 13%|█▎        | 375/2808 [00:10<00:58, 41.88it/s]\u001b[A\n",
            " 14%|█▎        | 380/2808 [00:10<00:58, 41.63it/s]\u001b[A\n",
            " 14%|█▎        | 385/2808 [00:10<00:57, 41.91it/s]\u001b[A\n",
            " 14%|█▍        | 390/2808 [00:10<00:57, 41.69it/s]\u001b[A\n",
            " 14%|█▍        | 395/2808 [00:10<00:57, 41.65it/s]\u001b[A\n",
            " 14%|█▍        | 400/2808 [00:10<00:57, 41.88it/s]\u001b[A\n",
            " 14%|█▍        | 405/2808 [00:11<00:57, 42.10it/s]\u001b[A"
          ],
          "name": "stderr"
        },
        {
          "output_type": "stream",
          "text": [
            "| epoch   5 |   400/ 2808 batches | lr 0.00 | loss  5.63 | ppl   279.52\n"
          ],
          "name": "stdout"
        },
        {
          "output_type": "stream",
          "text": [
            "\n",
            " 15%|█▍        | 410/2808 [00:11<00:56, 42.22it/s]\u001b[A\n",
            " 15%|█▍        | 415/2808 [00:11<00:56, 42.09it/s]\u001b[A\n",
            " 15%|█▍        | 420/2808 [00:11<00:57, 41.87it/s]\u001b[A\n",
            " 15%|█▌        | 425/2808 [00:11<00:56, 42.02it/s]\u001b[A\n",
            " 15%|█▌        | 430/2808 [00:11<00:56, 42.15it/s]\u001b[A\n",
            " 15%|█▌        | 435/2808 [00:11<00:56, 41.85it/s]\u001b[A\n",
            " 16%|█▌        | 440/2808 [00:11<00:58, 40.78it/s]\u001b[A\n",
            " 16%|█▌        | 445/2808 [00:11<00:57, 41.33it/s]\u001b[A\n",
            " 16%|█▌        | 450/2808 [00:12<00:56, 41.75it/s]\u001b[A\n",
            " 16%|█▌        | 455/2808 [00:12<00:56, 41.94it/s]\u001b[A\n",
            " 16%|█▋        | 460/2808 [00:12<00:55, 42.09it/s]\u001b[A\n",
            " 17%|█▋        | 465/2808 [00:12<00:56, 41.73it/s]\u001b[A\n",
            " 17%|█▋        | 470/2808 [00:12<00:56, 41.67it/s]\u001b[A\n",
            " 17%|█▋        | 475/2808 [00:12<00:55, 41.90it/s]\u001b[A\n",
            " 17%|█▋        | 480/2808 [00:12<00:56, 41.50it/s]\u001b[A\n",
            " 17%|█▋        | 485/2808 [00:12<00:56, 41.46it/s]\u001b[A\n",
            " 17%|█▋        | 490/2808 [00:13<00:55, 41.68it/s]\u001b[A\n",
            " 18%|█▊        | 495/2808 [00:13<00:57, 40.26it/s]\u001b[A\n",
            " 18%|█▊        | 500/2808 [00:13<00:56, 40.82it/s]\u001b[A\n",
            " 18%|█▊        | 505/2808 [00:13<00:55, 41.13it/s]\u001b[A"
          ],
          "name": "stderr"
        },
        {
          "output_type": "stream",
          "text": [
            "| epoch   5 |   500/ 2808 batches | lr 0.00 | loss  5.63 | ppl   279.55\n"
          ],
          "name": "stdout"
        },
        {
          "output_type": "stream",
          "text": [
            "\n",
            " 18%|█▊        | 510/2808 [00:13<00:55, 41.48it/s]\u001b[A\n",
            " 18%|█▊        | 515/2808 [00:13<00:54, 41.71it/s]\u001b[A\n",
            " 19%|█▊        | 520/2808 [00:13<00:55, 41.55it/s]\u001b[A\n",
            " 19%|█▊        | 525/2808 [00:13<00:55, 41.39it/s]\u001b[A\n",
            " 19%|█▉        | 530/2808 [00:14<00:55, 41.14it/s]\u001b[A\n",
            " 19%|█▉        | 535/2808 [00:14<00:54, 41.34it/s]\u001b[A\n",
            " 19%|█▉        | 540/2808 [00:14<00:54, 41.60it/s]\u001b[A\n",
            " 19%|█▉        | 545/2808 [00:14<00:54, 41.43it/s]\u001b[A\n",
            " 20%|█▉        | 550/2808 [00:14<00:54, 41.29it/s]\u001b[A\n",
            " 20%|█▉        | 555/2808 [00:14<00:54, 41.66it/s]\u001b[A\n",
            " 20%|█▉        | 560/2808 [00:14<00:53, 41.82it/s]\u001b[A\n",
            " 20%|██        | 565/2808 [00:14<00:53, 42.05it/s]\u001b[A\n",
            " 20%|██        | 570/2808 [00:14<00:53, 41.69it/s]\u001b[A\n",
            " 20%|██        | 575/2808 [00:15<00:53, 41.88it/s]\u001b[A\n",
            " 21%|██        | 580/2808 [00:15<00:52, 42.05it/s]\u001b[A\n",
            " 21%|██        | 585/2808 [00:15<00:53, 41.93it/s]\u001b[A\n",
            " 21%|██        | 590/2808 [00:15<00:52, 42.00it/s]\u001b[A\n",
            " 21%|██        | 595/2808 [00:15<00:52, 41.92it/s]\u001b[A\n",
            " 21%|██▏       | 600/2808 [00:15<00:52, 42.02it/s]\u001b[A\n",
            " 22%|██▏       | 605/2808 [00:15<00:52, 41.62it/s]\u001b[A"
          ],
          "name": "stderr"
        },
        {
          "output_type": "stream",
          "text": [
            "| epoch   5 |   600/ 2808 batches | lr 0.00 | loss  5.63 | ppl   279.56\n"
          ],
          "name": "stdout"
        },
        {
          "output_type": "stream",
          "text": [
            "\n",
            " 22%|██▏       | 610/2808 [00:15<00:52, 41.73it/s]\u001b[A\n",
            " 22%|██▏       | 615/2808 [00:16<00:52, 41.75it/s]\u001b[A\n",
            " 22%|██▏       | 620/2808 [00:16<00:52, 41.89it/s]\u001b[A\n",
            " 22%|██▏       | 625/2808 [00:16<00:51, 42.04it/s]\u001b[A\n",
            " 22%|██▏       | 630/2808 [00:16<00:51, 42.16it/s]\u001b[A\n",
            " 23%|██▎       | 635/2808 [00:16<00:51, 42.02it/s]\u001b[A\n",
            " 23%|██▎       | 640/2808 [00:16<00:51, 42.21it/s]\u001b[A\n",
            " 23%|██▎       | 645/2808 [00:16<00:51, 41.88it/s]\u001b[A\n",
            " 23%|██▎       | 650/2808 [00:16<00:51, 42.12it/s]\u001b[A\n",
            " 23%|██▎       | 655/2808 [00:17<00:51, 42.15it/s]\u001b[A\n",
            " 24%|██▎       | 660/2808 [00:17<00:51, 42.06it/s]\u001b[A\n",
            " 24%|██▎       | 665/2808 [00:17<00:51, 41.90it/s]\u001b[A\n",
            " 24%|██▍       | 670/2808 [00:17<00:50, 42.07it/s]\u001b[A\n",
            " 24%|██▍       | 675/2808 [00:17<00:50, 42.09it/s]\u001b[A\n",
            " 24%|██▍       | 680/2808 [00:17<00:50, 41.96it/s]\u001b[A\n",
            " 24%|██▍       | 685/2808 [00:17<00:50, 42.14it/s]\u001b[A\n",
            " 25%|██▍       | 690/2808 [00:17<00:50, 42.18it/s]\u001b[A\n",
            " 25%|██▍       | 695/2808 [00:17<00:50, 41.93it/s]\u001b[A\n",
            " 25%|██▍       | 700/2808 [00:18<00:50, 42.10it/s]\u001b[A\n",
            " 25%|██▌       | 705/2808 [00:18<00:50, 41.95it/s]\u001b[A"
          ],
          "name": "stderr"
        },
        {
          "output_type": "stream",
          "text": [
            "| epoch   5 |   700/ 2808 batches | lr 0.00 | loss  5.63 | ppl   279.60\n"
          ],
          "name": "stdout"
        },
        {
          "output_type": "stream",
          "text": [
            "\n",
            " 25%|██▌       | 710/2808 [00:18<00:49, 42.01it/s]\u001b[A\n",
            " 25%|██▌       | 715/2808 [00:18<00:49, 41.95it/s]\u001b[A\n",
            " 26%|██▌       | 720/2808 [00:18<00:49, 42.10it/s]\u001b[A\n",
            " 26%|██▌       | 725/2808 [00:18<00:50, 41.64it/s]\u001b[A\n",
            " 26%|██▌       | 730/2808 [00:18<00:49, 41.72it/s]\u001b[A\n",
            " 26%|██▌       | 735/2808 [00:18<00:49, 41.82it/s]\u001b[A\n",
            " 26%|██▋       | 740/2808 [00:19<00:49, 41.62it/s]\u001b[A\n",
            " 27%|██▋       | 745/2808 [00:19<00:49, 41.74it/s]\u001b[A\n",
            " 27%|██▋       | 750/2808 [00:19<00:49, 41.71it/s]\u001b[A\n",
            " 27%|██▋       | 755/2808 [00:19<00:49, 41.32it/s]\u001b[A\n",
            " 27%|██▋       | 760/2808 [00:19<00:49, 41.24it/s]\u001b[A\n",
            " 27%|██▋       | 765/2808 [00:19<00:49, 41.19it/s]\u001b[A\n",
            " 27%|██▋       | 770/2808 [00:19<00:49, 41.54it/s]\u001b[A\n",
            " 28%|██▊       | 775/2808 [00:19<00:49, 41.31it/s]\u001b[A\n",
            " 28%|██▊       | 780/2808 [00:20<00:49, 41.16it/s]\u001b[A\n",
            " 28%|██▊       | 785/2808 [00:20<00:49, 40.91it/s]\u001b[A\n",
            " 28%|██▊       | 790/2808 [00:20<00:49, 40.89it/s]\u001b[A\n",
            " 28%|██▊       | 795/2808 [00:20<00:49, 40.91it/s]\u001b[A\n",
            " 28%|██▊       | 800/2808 [00:20<00:48, 40.99it/s]\u001b[A\n",
            " 29%|██▊       | 805/2808 [00:20<00:48, 41.41it/s]\u001b[A"
          ],
          "name": "stderr"
        },
        {
          "output_type": "stream",
          "text": [
            "| epoch   5 |   800/ 2808 batches | lr 0.00 | loss  5.63 | ppl   279.55\n"
          ],
          "name": "stdout"
        },
        {
          "output_type": "stream",
          "text": [
            "\n",
            " 29%|██▉       | 810/2808 [00:20<00:47, 41.66it/s]\u001b[A\n",
            " 29%|██▉       | 815/2808 [00:20<00:48, 41.38it/s]\u001b[A\n",
            " 29%|██▉       | 820/2808 [00:20<00:48, 40.98it/s]\u001b[A\n",
            " 29%|██▉       | 825/2808 [00:21<00:47, 41.35it/s]\u001b[A\n",
            " 30%|██▉       | 830/2808 [00:21<00:47, 41.71it/s]\u001b[A\n",
            " 30%|██▉       | 835/2808 [00:21<00:47, 41.77it/s]\u001b[A\n",
            " 30%|██▉       | 840/2808 [00:21<00:47, 41.85it/s]\u001b[A\n",
            " 30%|███       | 845/2808 [00:21<00:47, 41.69it/s]\u001b[A\n",
            " 30%|███       | 850/2808 [00:21<00:46, 41.79it/s]\u001b[A\n",
            " 30%|███       | 855/2808 [00:21<00:46, 41.71it/s]\u001b[A\n",
            " 31%|███       | 860/2808 [00:21<00:46, 41.77it/s]\u001b[A\n",
            " 31%|███       | 865/2808 [00:22<00:46, 41.79it/s]\u001b[A\n",
            " 31%|███       | 870/2808 [00:22<00:46, 41.60it/s]\u001b[A\n",
            " 31%|███       | 875/2808 [00:22<00:47, 40.82it/s]\u001b[A\n",
            " 31%|███▏      | 880/2808 [00:22<00:47, 40.67it/s]\u001b[A\n",
            " 32%|███▏      | 885/2808 [00:22<00:46, 40.99it/s]\u001b[A\n",
            " 32%|███▏      | 890/2808 [00:22<00:46, 41.32it/s]\u001b[A\n",
            " 32%|███▏      | 895/2808 [00:22<00:46, 41.58it/s]\u001b[A\n",
            " 32%|███▏      | 900/2808 [00:22<00:45, 41.58it/s]\u001b[A\n",
            " 32%|███▏      | 905/2808 [00:23<00:46, 41.07it/s]\u001b[A"
          ],
          "name": "stderr"
        },
        {
          "output_type": "stream",
          "text": [
            "| epoch   5 |   900/ 2808 batches | lr 0.00 | loss  5.63 | ppl   279.56\n"
          ],
          "name": "stdout"
        },
        {
          "output_type": "stream",
          "text": [
            "\n",
            " 32%|███▏      | 910/2808 [00:23<00:46, 40.88it/s]\u001b[A\n",
            " 33%|███▎      | 915/2808 [00:23<00:45, 41.17it/s]\u001b[A\n",
            " 33%|███▎      | 920/2808 [00:23<00:45, 41.08it/s]\u001b[A\n",
            " 33%|███▎      | 925/2808 [00:23<00:46, 40.91it/s]\u001b[A\n",
            " 33%|███▎      | 930/2808 [00:23<00:45, 41.27it/s]\u001b[A\n",
            " 33%|███▎      | 935/2808 [00:23<00:45, 41.10it/s]\u001b[A\n",
            " 33%|███▎      | 940/2808 [00:23<00:45, 41.26it/s]\u001b[A\n",
            " 34%|███▎      | 945/2808 [00:24<00:44, 41.57it/s]\u001b[A\n",
            " 34%|███▍      | 950/2808 [00:24<00:44, 41.73it/s]\u001b[A\n",
            " 34%|███▍      | 955/2808 [00:24<00:44, 41.84it/s]\u001b[A\n",
            " 34%|███▍      | 960/2808 [00:24<00:44, 41.91it/s]\u001b[A\n",
            " 34%|███▍      | 965/2808 [00:24<00:43, 41.94it/s]\u001b[A\n",
            " 35%|███▍      | 970/2808 [00:24<00:44, 41.53it/s]\u001b[A\n",
            " 35%|███▍      | 975/2808 [00:24<00:44, 41.61it/s]\u001b[A\n",
            " 35%|███▍      | 980/2808 [00:24<00:43, 41.78it/s]\u001b[A\n",
            " 35%|███▌      | 985/2808 [00:24<00:43, 41.58it/s]\u001b[A\n",
            " 35%|███▌      | 990/2808 [00:25<00:43, 41.58it/s]\u001b[A\n",
            " 35%|███▌      | 995/2808 [00:25<00:43, 41.60it/s]\u001b[A\n",
            " 36%|███▌      | 1000/2808 [00:25<00:43, 41.72it/s]\u001b[A\n",
            " 36%|███▌      | 1005/2808 [00:25<00:43, 41.56it/s]\u001b[A"
          ],
          "name": "stderr"
        },
        {
          "output_type": "stream",
          "text": [
            "| epoch   5 |  1000/ 2808 batches | lr 0.00 | loss  5.63 | ppl   279.61\n"
          ],
          "name": "stdout"
        },
        {
          "output_type": "stream",
          "text": [
            "\n",
            " 36%|███▌      | 1010/2808 [00:25<00:42, 41.86it/s]\u001b[A\n",
            " 36%|███▌      | 1015/2808 [00:25<00:42, 41.81it/s]\u001b[A\n",
            " 36%|███▋      | 1020/2808 [00:25<00:42, 41.65it/s]\u001b[A\n",
            " 37%|███▋      | 1025/2808 [00:25<00:42, 41.77it/s]\u001b[A\n",
            " 37%|███▋      | 1030/2808 [00:26<00:42, 41.92it/s]\u001b[A\n",
            " 37%|███▋      | 1035/2808 [00:26<00:42, 41.89it/s]\u001b[A\n",
            " 37%|███▋      | 1040/2808 [00:26<00:42, 41.79it/s]\u001b[A\n",
            " 37%|███▋      | 1045/2808 [00:26<00:42, 41.65it/s]\u001b[A\n",
            " 37%|███▋      | 1050/2808 [00:26<00:42, 41.41it/s]\u001b[A\n",
            " 38%|███▊      | 1055/2808 [00:26<00:42, 41.56it/s]\u001b[A\n",
            " 38%|███▊      | 1060/2808 [00:26<00:41, 41.80it/s]\u001b[A\n",
            " 38%|███▊      | 1065/2808 [00:26<00:42, 41.33it/s]\u001b[A\n",
            " 38%|███▊      | 1070/2808 [00:27<00:41, 41.56it/s]\u001b[A\n",
            " 38%|███▊      | 1075/2808 [00:27<00:41, 41.62it/s]\u001b[A\n",
            " 38%|███▊      | 1080/2808 [00:27<00:41, 41.79it/s]\u001b[A\n",
            " 39%|███▊      | 1085/2808 [00:27<00:41, 41.86it/s]\u001b[A\n",
            " 39%|███▉      | 1090/2808 [00:27<00:41, 41.49it/s]\u001b[A\n",
            " 39%|███▉      | 1095/2808 [00:27<00:41, 41.25it/s]\u001b[A\n",
            " 39%|███▉      | 1100/2808 [00:27<00:41, 41.60it/s]\u001b[A\n",
            " 39%|███▉      | 1105/2808 [00:27<00:40, 41.67it/s]\u001b[A"
          ],
          "name": "stderr"
        },
        {
          "output_type": "stream",
          "text": [
            "| epoch   5 |  1100/ 2808 batches | lr 0.00 | loss  5.63 | ppl   279.61\n"
          ],
          "name": "stdout"
        },
        {
          "output_type": "stream",
          "text": [
            "\n",
            " 40%|███▉      | 1110/2808 [00:27<00:40, 41.47it/s]\u001b[A\n",
            " 40%|███▉      | 1115/2808 [00:28<00:40, 41.67it/s]\u001b[A\n",
            " 40%|███▉      | 1120/2808 [00:28<00:40, 41.58it/s]\u001b[A\n",
            " 40%|████      | 1125/2808 [00:28<00:40, 41.40it/s]\u001b[A\n",
            " 40%|████      | 1130/2808 [00:28<00:40, 41.35it/s]\u001b[A\n",
            " 40%|████      | 1135/2808 [00:28<00:40, 41.65it/s]\u001b[A\n",
            " 41%|████      | 1140/2808 [00:28<00:39, 41.90it/s]\u001b[A\n",
            " 41%|████      | 1145/2808 [00:28<00:40, 41.52it/s]\u001b[A\n",
            " 41%|████      | 1150/2808 [00:28<00:39, 41.73it/s]\u001b[A\n",
            " 41%|████      | 1155/2808 [00:29<00:39, 41.88it/s]\u001b[A\n",
            " 41%|████▏     | 1160/2808 [00:29<00:39, 41.85it/s]\u001b[A\n",
            " 41%|████▏     | 1165/2808 [00:29<00:40, 40.58it/s]\u001b[A\n",
            " 42%|████▏     | 1170/2808 [00:29<00:39, 40.98it/s]\u001b[A\n",
            " 42%|████▏     | 1175/2808 [00:29<00:39, 41.12it/s]\u001b[A\n",
            " 42%|████▏     | 1180/2808 [00:29<00:39, 41.13it/s]\u001b[A\n",
            " 42%|████▏     | 1185/2808 [00:29<00:39, 41.14it/s]\u001b[A\n",
            " 42%|████▏     | 1190/2808 [00:29<00:39, 41.14it/s]\u001b[A\n",
            " 43%|████▎     | 1195/2808 [00:30<00:38, 41.38it/s]\u001b[A\n",
            " 43%|████▎     | 1200/2808 [00:30<00:39, 41.15it/s]\u001b[A\n",
            " 43%|████▎     | 1205/2808 [00:30<00:38, 41.14it/s]\u001b[A"
          ],
          "name": "stderr"
        },
        {
          "output_type": "stream",
          "text": [
            "| epoch   5 |  1200/ 2808 batches | lr 0.00 | loss  5.63 | ppl   279.64\n"
          ],
          "name": "stdout"
        },
        {
          "output_type": "stream",
          "text": [
            "\n",
            " 43%|████▎     | 1210/2808 [00:30<00:38, 41.41it/s]\u001b[A\n",
            " 43%|████▎     | 1215/2808 [00:30<00:38, 41.52it/s]\u001b[A\n",
            " 43%|████▎     | 1220/2808 [00:30<00:38, 41.66it/s]\u001b[A\n",
            " 44%|████▎     | 1225/2808 [00:30<00:38, 41.57it/s]\u001b[A\n",
            " 44%|████▍     | 1230/2808 [00:30<00:37, 41.81it/s]\u001b[A\n",
            " 44%|████▍     | 1235/2808 [00:30<00:37, 41.55it/s]\u001b[A\n",
            " 44%|████▍     | 1240/2808 [00:31<00:37, 41.76it/s]\u001b[A\n",
            " 44%|████▍     | 1245/2808 [00:31<00:37, 41.80it/s]\u001b[A\n",
            " 45%|████▍     | 1250/2808 [00:31<00:37, 41.92it/s]\u001b[A\n",
            " 45%|████▍     | 1255/2808 [00:31<00:37, 41.77it/s]\u001b[A\n",
            " 45%|████▍     | 1260/2808 [00:31<00:36, 41.86it/s]\u001b[A\n",
            " 45%|████▌     | 1265/2808 [00:31<00:36, 42.03it/s]\u001b[A\n",
            " 45%|████▌     | 1270/2808 [00:31<00:36, 42.13it/s]\u001b[A\n",
            " 45%|████▌     | 1275/2808 [00:31<00:36, 42.25it/s]\u001b[A\n",
            " 46%|████▌     | 1280/2808 [00:32<00:36, 41.96it/s]\u001b[A\n",
            " 46%|████▌     | 1285/2808 [00:32<00:36, 42.12it/s]\u001b[A\n",
            " 46%|████▌     | 1290/2808 [00:32<00:36, 42.08it/s]\u001b[A\n",
            " 46%|████▌     | 1295/2808 [00:32<00:36, 41.65it/s]\u001b[A\n",
            " 46%|████▋     | 1300/2808 [00:32<00:36, 41.62it/s]\u001b[A\n",
            " 46%|████▋     | 1305/2808 [00:32<00:35, 41.80it/s]\u001b[A"
          ],
          "name": "stderr"
        },
        {
          "output_type": "stream",
          "text": [
            "| epoch   5 |  1300/ 2808 batches | lr 0.00 | loss  5.63 | ppl   279.58\n"
          ],
          "name": "stdout"
        },
        {
          "output_type": "stream",
          "text": [
            "\n",
            " 47%|████▋     | 1310/2808 [00:32<00:35, 41.75it/s]\u001b[A\n",
            " 47%|████▋     | 1315/2808 [00:32<00:35, 41.80it/s]\u001b[A\n",
            " 47%|████▋     | 1320/2808 [00:33<00:35, 41.63it/s]\u001b[A\n",
            " 47%|████▋     | 1325/2808 [00:33<00:35, 41.74it/s]\u001b[A\n",
            " 47%|████▋     | 1330/2808 [00:33<00:35, 41.39it/s]\u001b[A\n",
            " 48%|████▊     | 1335/2808 [00:33<00:35, 41.46it/s]\u001b[A\n",
            " 48%|████▊     | 1340/2808 [00:33<00:35, 41.69it/s]\u001b[A\n",
            " 48%|████▊     | 1345/2808 [00:33<00:35, 41.28it/s]\u001b[A\n",
            " 48%|████▊     | 1350/2808 [00:33<00:35, 41.20it/s]\u001b[A\n",
            " 48%|████▊     | 1355/2808 [00:33<00:35, 41.32it/s]\u001b[A\n",
            " 48%|████▊     | 1360/2808 [00:33<00:34, 41.66it/s]\u001b[A\n",
            " 49%|████▊     | 1365/2808 [00:34<00:34, 41.85it/s]\u001b[A\n",
            " 49%|████▉     | 1370/2808 [00:34<00:34, 42.00it/s]\u001b[A\n",
            " 49%|████▉     | 1375/2808 [00:34<00:34, 41.62it/s]\u001b[A\n",
            " 49%|████▉     | 1380/2808 [00:34<00:34, 41.75it/s]\u001b[A\n",
            " 49%|████▉     | 1385/2808 [00:34<00:34, 41.54it/s]\u001b[A\n",
            " 50%|████▉     | 1390/2808 [00:34<00:34, 41.69it/s]\u001b[A\n",
            " 50%|████▉     | 1395/2808 [00:34<00:34, 41.52it/s]\u001b[A\n",
            " 50%|████▉     | 1400/2808 [00:34<00:33, 41.44it/s]\u001b[A\n",
            " 50%|█████     | 1405/2808 [00:35<00:33, 41.55it/s]\u001b[A"
          ],
          "name": "stderr"
        },
        {
          "output_type": "stream",
          "text": [
            "| epoch   5 |  1400/ 2808 batches | lr 0.00 | loss  5.63 | ppl   279.65\n"
          ],
          "name": "stdout"
        },
        {
          "output_type": "stream",
          "text": [
            "\n",
            " 50%|█████     | 1410/2808 [00:35<00:33, 41.39it/s]\u001b[A\n",
            " 50%|█████     | 1415/2808 [00:35<00:33, 41.67it/s]\u001b[A\n",
            " 51%|█████     | 1420/2808 [00:35<00:33, 41.81it/s]\u001b[A\n",
            " 51%|█████     | 1425/2808 [00:35<00:32, 42.06it/s]\u001b[A\n",
            " 51%|█████     | 1430/2808 [00:35<00:32, 42.06it/s]\u001b[A\n",
            " 51%|█████     | 1435/2808 [00:35<00:32, 42.16it/s]\u001b[A\n",
            " 51%|█████▏    | 1440/2808 [00:35<00:32, 42.11it/s]\u001b[A\n",
            " 51%|█████▏    | 1445/2808 [00:36<00:32, 41.67it/s]\u001b[A\n",
            " 52%|█████▏    | 1450/2808 [00:36<00:32, 41.46it/s]\u001b[A\n",
            " 52%|█████▏    | 1455/2808 [00:36<00:32, 41.20it/s]\u001b[A\n",
            " 52%|█████▏    | 1460/2808 [00:36<00:32, 41.18it/s]\u001b[A\n",
            " 52%|█████▏    | 1465/2808 [00:36<00:32, 41.24it/s]\u001b[A\n",
            " 52%|█████▏    | 1470/2808 [00:36<00:32, 41.19it/s]\u001b[A\n",
            " 53%|█████▎    | 1475/2808 [00:36<00:32, 41.36it/s]\u001b[A\n",
            " 53%|█████▎    | 1480/2808 [00:36<00:31, 41.71it/s]\u001b[A\n",
            " 53%|█████▎    | 1485/2808 [00:36<00:31, 41.80it/s]\u001b[A\n",
            " 53%|█████▎    | 1490/2808 [00:37<00:31, 41.86it/s]\u001b[A\n",
            " 53%|█████▎    | 1495/2808 [00:37<00:31, 41.45it/s]\u001b[A\n",
            " 53%|█████▎    | 1500/2808 [00:37<00:31, 41.59it/s]\u001b[A\n",
            " 54%|█████▎    | 1505/2808 [00:37<00:31, 41.46it/s]\u001b[A"
          ],
          "name": "stderr"
        },
        {
          "output_type": "stream",
          "text": [
            "| epoch   5 |  1500/ 2808 batches | lr 0.00 | loss  5.63 | ppl   279.62\n"
          ],
          "name": "stdout"
        },
        {
          "output_type": "stream",
          "text": [
            "\n",
            " 54%|█████▍    | 1510/2808 [00:37<00:31, 41.52it/s]\u001b[A\n",
            " 54%|█████▍    | 1515/2808 [00:37<00:31, 41.57it/s]\u001b[A\n",
            " 54%|█████▍    | 1520/2808 [00:37<00:30, 41.64it/s]\u001b[A\n",
            " 54%|█████▍    | 1525/2808 [00:37<00:30, 41.56it/s]\u001b[A\n",
            " 54%|█████▍    | 1530/2808 [00:38<00:30, 41.79it/s]\u001b[A\n",
            " 55%|█████▍    | 1535/2808 [00:38<00:30, 41.71it/s]\u001b[A\n",
            " 55%|█████▍    | 1540/2808 [00:38<00:30, 41.76it/s]\u001b[A\n",
            " 55%|█████▌    | 1545/2808 [00:38<00:30, 41.72it/s]\u001b[A\n",
            " 55%|█████▌    | 1550/2808 [00:38<00:30, 41.75it/s]\u001b[A\n",
            " 55%|█████▌    | 1555/2808 [00:38<00:30, 41.28it/s]\u001b[A\n",
            " 56%|█████▌    | 1560/2808 [00:38<00:30, 41.47it/s]\u001b[A\n",
            " 56%|█████▌    | 1565/2808 [00:38<00:30, 41.34it/s]\u001b[A\n",
            " 56%|█████▌    | 1570/2808 [00:39<00:30, 41.20it/s]\u001b[A\n",
            " 56%|█████▌    | 1575/2808 [00:39<00:29, 41.32it/s]\u001b[A\n",
            " 56%|█████▋    | 1580/2808 [00:39<00:29, 41.17it/s]\u001b[A\n",
            " 56%|█████▋    | 1585/2808 [00:39<00:29, 41.41it/s]\u001b[A\n",
            " 57%|█████▋    | 1590/2808 [00:39<00:29, 41.27it/s]\u001b[A\n",
            " 57%|█████▋    | 1595/2808 [00:39<00:29, 41.49it/s]\u001b[A\n",
            " 57%|█████▋    | 1600/2808 [00:39<00:28, 41.69it/s]\u001b[A\n",
            " 57%|█████▋    | 1605/2808 [00:39<00:28, 41.72it/s]\u001b[A"
          ],
          "name": "stderr"
        },
        {
          "output_type": "stream",
          "text": [
            "| epoch   5 |  1600/ 2808 batches | lr 0.00 | loss  5.63 | ppl   279.63\n"
          ],
          "name": "stdout"
        },
        {
          "output_type": "stream",
          "text": [
            "\n",
            " 57%|█████▋    | 1610/2808 [00:39<00:28, 41.77it/s]\u001b[A\n",
            " 58%|█████▊    | 1615/2808 [00:40<00:28, 41.92it/s]\u001b[A\n",
            " 58%|█████▊    | 1620/2808 [00:40<00:28, 41.96it/s]\u001b[A\n",
            " 58%|█████▊    | 1625/2808 [00:40<00:28, 42.00it/s]\u001b[A\n",
            " 58%|█████▊    | 1630/2808 [00:40<00:28, 41.92it/s]\u001b[A\n",
            " 58%|█████▊    | 1635/2808 [00:40<00:27, 41.98it/s]\u001b[A\n",
            " 58%|█████▊    | 1640/2808 [00:40<00:27, 42.02it/s]\u001b[A\n",
            " 59%|█████▊    | 1645/2808 [00:40<00:27, 41.99it/s]\u001b[A\n",
            " 59%|█████▉    | 1650/2808 [00:40<00:27, 41.91it/s]\u001b[A\n",
            " 59%|█████▉    | 1655/2808 [00:41<00:27, 41.98it/s]\u001b[A\n",
            " 59%|█████▉    | 1660/2808 [00:41<00:27, 41.52it/s]\u001b[A\n",
            " 59%|█████▉    | 1665/2808 [00:41<00:27, 41.67it/s]\u001b[A\n",
            " 59%|█████▉    | 1670/2808 [00:41<00:27, 41.87it/s]\u001b[A\n",
            " 60%|█████▉    | 1675/2808 [00:41<00:27, 41.92it/s]\u001b[A\n",
            " 60%|█████▉    | 1680/2808 [00:41<00:27, 41.75it/s]\u001b[A\n",
            " 60%|██████    | 1685/2808 [00:41<00:26, 41.78it/s]\u001b[A\n",
            " 60%|██████    | 1690/2808 [00:41<00:26, 41.73it/s]\u001b[A\n",
            " 60%|██████    | 1695/2808 [00:42<00:26, 41.62it/s]\u001b[A\n",
            " 61%|██████    | 1700/2808 [00:42<00:26, 41.77it/s]\u001b[A\n",
            " 61%|██████    | 1705/2808 [00:42<00:26, 41.40it/s]\u001b[A"
          ],
          "name": "stderr"
        },
        {
          "output_type": "stream",
          "text": [
            "| epoch   5 |  1700/ 2808 batches | lr 0.00 | loss  5.63 | ppl   279.65\n"
          ],
          "name": "stdout"
        },
        {
          "output_type": "stream",
          "text": [
            "\n",
            " 61%|██████    | 1710/2808 [00:42<00:26, 41.57it/s]\u001b[A\n",
            " 61%|██████    | 1715/2808 [00:42<00:26, 41.80it/s]\u001b[A\n",
            " 61%|██████▏   | 1720/2808 [00:42<00:25, 41.94it/s]\u001b[A\n",
            " 61%|██████▏   | 1725/2808 [00:42<00:25, 42.02it/s]\u001b[A\n",
            " 62%|██████▏   | 1730/2808 [00:42<00:25, 42.09it/s]\u001b[A\n",
            " 62%|██████▏   | 1735/2808 [00:42<00:25, 42.18it/s]\u001b[A\n",
            " 62%|██████▏   | 1740/2808 [00:43<00:25, 42.09it/s]\u001b[A\n",
            " 62%|██████▏   | 1745/2808 [00:43<00:25, 42.00it/s]\u001b[A\n",
            " 62%|██████▏   | 1750/2808 [00:43<00:25, 41.94it/s]\u001b[A\n",
            " 62%|██████▎   | 1755/2808 [00:43<00:25, 42.09it/s]\u001b[A\n",
            " 63%|██████▎   | 1760/2808 [00:43<00:24, 41.97it/s]\u001b[A\n",
            " 63%|██████▎   | 1765/2808 [00:43<00:25, 41.68it/s]\u001b[A\n",
            " 63%|██████▎   | 1770/2808 [00:43<00:24, 41.95it/s]\u001b[A\n",
            " 63%|██████▎   | 1775/2808 [00:43<00:24, 42.03it/s]\u001b[A\n",
            " 63%|██████▎   | 1780/2808 [00:44<00:24, 41.90it/s]\u001b[A\n",
            " 64%|██████▎   | 1785/2808 [00:44<00:24, 41.66it/s]\u001b[A\n",
            " 64%|██████▎   | 1790/2808 [00:44<00:24, 41.80it/s]\u001b[A\n",
            " 64%|██████▍   | 1795/2808 [00:44<00:24, 41.88it/s]\u001b[A\n",
            " 64%|██████▍   | 1800/2808 [00:44<00:24, 41.52it/s]\u001b[A\n",
            " 64%|██████▍   | 1805/2808 [00:44<00:24, 41.60it/s]\u001b[A"
          ],
          "name": "stderr"
        },
        {
          "output_type": "stream",
          "text": [
            "| epoch   5 |  1800/ 2808 batches | lr 0.00 | loss  5.63 | ppl   279.53\n"
          ],
          "name": "stdout"
        },
        {
          "output_type": "stream",
          "text": [
            "\n",
            " 64%|██████▍   | 1810/2808 [00:44<00:23, 41.64it/s]\u001b[A\n",
            " 65%|██████▍   | 1815/2808 [00:44<00:23, 41.79it/s]\u001b[A\n",
            " 65%|██████▍   | 1820/2808 [00:45<00:23, 41.90it/s]\u001b[A\n",
            " 65%|██████▍   | 1825/2808 [00:45<00:23, 41.81it/s]\u001b[A\n",
            " 65%|██████▌   | 1830/2808 [00:45<00:23, 41.79it/s]\u001b[A\n",
            " 65%|██████▌   | 1835/2808 [00:45<00:23, 41.40it/s]\u001b[A\n",
            " 66%|██████▌   | 1840/2808 [00:45<00:23, 41.15it/s]\u001b[A\n",
            " 66%|██████▌   | 1845/2808 [00:45<00:23, 40.96it/s]\u001b[A\n",
            " 66%|██████▌   | 1850/2808 [00:45<00:23, 40.86it/s]\u001b[A\n",
            " 66%|██████▌   | 1855/2808 [00:45<00:23, 41.26it/s]\u001b[A\n",
            " 66%|██████▌   | 1860/2808 [00:45<00:22, 41.51it/s]\u001b[A\n",
            " 66%|██████▋   | 1865/2808 [00:46<00:22, 41.82it/s]\u001b[A\n",
            " 67%|██████▋   | 1870/2808 [00:46<00:22, 41.81it/s]\u001b[A\n",
            " 67%|██████▋   | 1875/2808 [00:46<00:22, 41.89it/s]\u001b[A\n",
            " 67%|██████▋   | 1880/2808 [00:46<00:22, 41.69it/s]\u001b[A\n",
            " 67%|██████▋   | 1885/2808 [00:46<00:22, 41.89it/s]\u001b[A\n",
            " 67%|██████▋   | 1890/2808 [00:46<00:21, 42.08it/s]\u001b[A\n",
            " 67%|██████▋   | 1895/2808 [00:46<00:21, 42.21it/s]\u001b[A\n",
            " 68%|██████▊   | 1900/2808 [00:46<00:21, 42.21it/s]\u001b[A\n",
            " 68%|██████▊   | 1905/2808 [00:47<00:21, 41.94it/s]\u001b[A"
          ],
          "name": "stderr"
        },
        {
          "output_type": "stream",
          "text": [
            "| epoch   5 |  1900/ 2808 batches | lr 0.00 | loss  5.63 | ppl   279.62\n"
          ],
          "name": "stdout"
        },
        {
          "output_type": "stream",
          "text": [
            "\n",
            " 68%|██████▊   | 1910/2808 [00:47<00:21, 42.10it/s]\u001b[A\n",
            " 68%|██████▊   | 1915/2808 [00:47<00:21, 42.15it/s]\u001b[A\n",
            " 68%|██████▊   | 1920/2808 [00:47<00:21, 41.83it/s]\u001b[A\n",
            " 69%|██████▊   | 1925/2808 [00:47<00:21, 42.03it/s]\u001b[A\n",
            " 69%|██████▊   | 1930/2808 [00:47<00:20, 42.16it/s]\u001b[A\n",
            " 69%|██████▉   | 1935/2808 [00:47<00:20, 41.77it/s]\u001b[A\n",
            " 69%|██████▉   | 1940/2808 [00:47<00:20, 41.46it/s]\u001b[A\n",
            " 69%|██████▉   | 1945/2808 [00:48<00:20, 41.78it/s]\u001b[A\n",
            " 69%|██████▉   | 1950/2808 [00:48<00:20, 41.59it/s]\u001b[A\n",
            " 70%|██████▉   | 1955/2808 [00:48<00:20, 41.72it/s]\u001b[A\n",
            " 70%|██████▉   | 1960/2808 [00:48<00:20, 41.91it/s]\u001b[A\n",
            " 70%|██████▉   | 1965/2808 [00:48<00:20, 41.96it/s]\u001b[A\n",
            " 70%|███████   | 1970/2808 [00:48<00:19, 42.19it/s]\u001b[A\n",
            " 70%|███████   | 1975/2808 [00:48<00:19, 41.77it/s]\u001b[A\n",
            " 71%|███████   | 1980/2808 [00:48<00:19, 41.86it/s]\u001b[A\n",
            " 71%|███████   | 1985/2808 [00:48<00:19, 41.74it/s]\u001b[A\n",
            " 71%|███████   | 1990/2808 [00:49<00:19, 41.98it/s]\u001b[A\n",
            " 71%|███████   | 1995/2808 [00:49<00:19, 42.14it/s]\u001b[A\n",
            " 71%|███████   | 2000/2808 [00:49<00:19, 42.22it/s]\u001b[A\n",
            " 71%|███████▏  | 2005/2808 [00:49<00:19, 42.06it/s]\u001b[A"
          ],
          "name": "stderr"
        },
        {
          "output_type": "stream",
          "text": [
            "| epoch   5 |  2000/ 2808 batches | lr 0.00 | loss  5.63 | ppl   279.57\n"
          ],
          "name": "stdout"
        },
        {
          "output_type": "stream",
          "text": [
            "\n",
            " 72%|███████▏  | 2010/2808 [00:49<00:18, 42.08it/s]\u001b[A\n",
            " 72%|███████▏  | 2015/2808 [00:49<00:18, 42.05it/s]\u001b[A\n",
            " 72%|███████▏  | 2020/2808 [00:49<00:18, 41.61it/s]\u001b[A\n",
            " 72%|███████▏  | 2025/2808 [00:49<00:18, 41.56it/s]\u001b[A\n",
            " 72%|███████▏  | 2030/2808 [00:50<00:18, 41.44it/s]\u001b[A\n",
            " 72%|███████▏  | 2035/2808 [00:50<00:18, 41.79it/s]\u001b[A\n",
            " 73%|███████▎  | 2040/2808 [00:50<00:18, 41.83it/s]\u001b[A\n",
            " 73%|███████▎  | 2045/2808 [00:50<00:18, 41.85it/s]\u001b[A\n",
            " 73%|███████▎  | 2050/2808 [00:50<00:18, 41.95it/s]\u001b[A\n",
            " 73%|███████▎  | 2055/2808 [00:50<00:17, 42.04it/s]\u001b[A\n",
            " 73%|███████▎  | 2060/2808 [00:50<00:17, 42.04it/s]\u001b[A\n",
            " 74%|███████▎  | 2065/2808 [00:50<00:17, 41.84it/s]\u001b[A\n",
            " 74%|███████▎  | 2070/2808 [00:50<00:17, 41.92it/s]\u001b[A\n",
            " 74%|███████▍  | 2075/2808 [00:51<00:17, 41.71it/s]\u001b[A\n",
            " 74%|███████▍  | 2080/2808 [00:51<00:17, 41.61it/s]\u001b[A\n",
            " 74%|███████▍  | 2085/2808 [00:51<00:17, 41.38it/s]\u001b[A\n",
            " 74%|███████▍  | 2090/2808 [00:51<00:17, 41.72it/s]\u001b[A\n",
            " 75%|███████▍  | 2095/2808 [00:51<00:17, 41.37it/s]\u001b[A\n",
            " 75%|███████▍  | 2100/2808 [00:51<00:17, 41.63it/s]\u001b[A\n",
            " 75%|███████▍  | 2105/2808 [00:51<00:16, 41.43it/s]\u001b[A"
          ],
          "name": "stderr"
        },
        {
          "output_type": "stream",
          "text": [
            "| epoch   5 |  2100/ 2808 batches | lr 0.00 | loss  5.63 | ppl   279.54\n"
          ],
          "name": "stdout"
        },
        {
          "output_type": "stream",
          "text": [
            "\n",
            " 75%|███████▌  | 2110/2808 [00:51<00:16, 41.68it/s]\u001b[A\n",
            " 75%|███████▌  | 2115/2808 [00:52<00:16, 41.73it/s]\u001b[A\n",
            " 75%|███████▌  | 2120/2808 [00:52<00:16, 41.51it/s]\u001b[A\n",
            " 76%|███████▌  | 2125/2808 [00:52<00:16, 41.44it/s]\u001b[A\n",
            " 76%|███████▌  | 2130/2808 [00:52<00:16, 41.74it/s]\u001b[A\n",
            " 76%|███████▌  | 2135/2808 [00:52<00:16, 42.02it/s]\u001b[A\n",
            " 76%|███████▌  | 2140/2808 [00:52<00:15, 41.93it/s]\u001b[A\n",
            " 76%|███████▋  | 2145/2808 [00:52<00:15, 41.99it/s]\u001b[A\n",
            " 77%|███████▋  | 2150/2808 [00:52<00:15, 41.77it/s]\u001b[A\n",
            " 77%|███████▋  | 2155/2808 [00:53<00:15, 41.90it/s]\u001b[A\n",
            " 77%|███████▋  | 2160/2808 [00:53<00:15, 42.11it/s]\u001b[A\n",
            " 77%|███████▋  | 2165/2808 [00:53<00:15, 42.05it/s]\u001b[A\n",
            " 77%|███████▋  | 2170/2808 [00:53<00:15, 41.76it/s]\u001b[A\n",
            " 77%|███████▋  | 2175/2808 [00:53<00:15, 41.71it/s]\u001b[A\n",
            " 78%|███████▊  | 2180/2808 [00:53<00:15, 41.77it/s]\u001b[A\n",
            " 78%|███████▊  | 2185/2808 [00:53<00:15, 41.50it/s]\u001b[A\n",
            " 78%|███████▊  | 2190/2808 [00:53<00:14, 41.70it/s]\u001b[A\n",
            " 78%|███████▊  | 2195/2808 [00:53<00:14, 41.48it/s]\u001b[A\n",
            " 78%|███████▊  | 2200/2808 [00:54<00:14, 41.82it/s]\u001b[A\n",
            " 79%|███████▊  | 2205/2808 [00:54<00:14, 41.60it/s]\u001b[A"
          ],
          "name": "stderr"
        },
        {
          "output_type": "stream",
          "text": [
            "| epoch   5 |  2200/ 2808 batches | lr 0.00 | loss  5.63 | ppl   279.55\n"
          ],
          "name": "stdout"
        },
        {
          "output_type": "stream",
          "text": [
            "\n",
            " 79%|███████▊  | 2210/2808 [00:54<00:14, 41.35it/s]\u001b[A\n",
            " 79%|███████▉  | 2215/2808 [00:54<00:14, 41.55it/s]\u001b[A\n",
            " 79%|███████▉  | 2220/2808 [00:54<00:14, 41.45it/s]\u001b[A\n",
            " 79%|███████▉  | 2225/2808 [00:54<00:14, 41.28it/s]\u001b[A\n",
            " 79%|███████▉  | 2230/2808 [00:54<00:13, 41.55it/s]\u001b[A\n",
            " 80%|███████▉  | 2235/2808 [00:54<00:13, 41.71it/s]\u001b[A\n",
            " 80%|███████▉  | 2240/2808 [00:55<00:13, 41.39it/s]\u001b[A\n",
            " 80%|███████▉  | 2245/2808 [00:55<00:13, 41.68it/s]\u001b[A\n",
            " 80%|████████  | 2250/2808 [00:55<00:13, 41.71it/s]\u001b[A\n",
            " 80%|████████  | 2255/2808 [00:55<00:13, 41.55it/s]\u001b[A\n",
            " 80%|████████  | 2260/2808 [00:55<00:13, 41.79it/s]\u001b[A\n",
            " 81%|████████  | 2265/2808 [00:55<00:12, 41.98it/s]\u001b[A\n",
            " 81%|████████  | 2270/2808 [00:55<00:12, 41.83it/s]\u001b[A\n",
            " 81%|████████  | 2275/2808 [00:55<00:12, 41.96it/s]\u001b[A\n",
            " 81%|████████  | 2280/2808 [00:56<00:12, 42.03it/s]\u001b[A\n",
            " 81%|████████▏ | 2285/2808 [00:56<00:12, 42.09it/s]\u001b[A\n",
            " 82%|████████▏ | 2290/2808 [00:56<00:12, 42.11it/s]\u001b[A\n",
            " 82%|████████▏ | 2295/2808 [00:56<00:12, 41.84it/s]\u001b[A\n",
            " 82%|████████▏ | 2300/2808 [00:56<00:12, 41.84it/s]\u001b[A\n",
            " 82%|████████▏ | 2305/2808 [00:56<00:12, 41.69it/s]\u001b[A"
          ],
          "name": "stderr"
        },
        {
          "output_type": "stream",
          "text": [
            "| epoch   5 |  2300/ 2808 batches | lr 0.00 | loss  5.63 | ppl   279.63\n"
          ],
          "name": "stdout"
        },
        {
          "output_type": "stream",
          "text": [
            "\n",
            " 82%|████████▏ | 2310/2808 [00:56<00:12, 41.48it/s]\u001b[A\n",
            " 82%|████████▏ | 2315/2808 [00:56<00:11, 41.39it/s]\u001b[A\n",
            " 83%|████████▎ | 2320/2808 [00:56<00:11, 41.21it/s]\u001b[A\n",
            " 83%|████████▎ | 2325/2808 [00:57<00:11, 41.60it/s]\u001b[A\n",
            " 83%|████████▎ | 2330/2808 [00:57<00:11, 41.91it/s]\u001b[A\n",
            " 83%|████████▎ | 2335/2808 [00:57<00:11, 41.80it/s]\u001b[A\n",
            " 83%|████████▎ | 2340/2808 [00:57<00:11, 41.92it/s]\u001b[A\n",
            " 84%|████████▎ | 2345/2808 [00:57<00:10, 42.12it/s]\u001b[A\n",
            " 84%|████████▎ | 2350/2808 [00:57<00:10, 42.15it/s]\u001b[A\n",
            " 84%|████████▍ | 2355/2808 [00:57<00:10, 41.95it/s]\u001b[A\n",
            " 84%|████████▍ | 2360/2808 [00:57<00:10, 42.05it/s]\u001b[A\n",
            " 84%|████████▍ | 2365/2808 [00:58<00:10, 42.07it/s]\u001b[A\n",
            " 84%|████████▍ | 2370/2808 [00:58<00:10, 41.79it/s]\u001b[A\n",
            " 85%|████████▍ | 2375/2808 [00:58<00:10, 41.98it/s]\u001b[A\n",
            " 85%|████████▍ | 2380/2808 [00:58<00:10, 42.02it/s]\u001b[A\n",
            " 85%|████████▍ | 2385/2808 [00:58<00:10, 42.09it/s]\u001b[A\n",
            " 85%|████████▌ | 2390/2808 [00:58<00:09, 42.09it/s]\u001b[A\n",
            " 85%|████████▌ | 2395/2808 [00:58<00:09, 42.06it/s]\u001b[A\n",
            " 85%|████████▌ | 2400/2808 [00:58<00:09, 41.59it/s]\u001b[A\n",
            " 86%|████████▌ | 2405/2808 [00:59<00:09, 41.83it/s]\u001b[A"
          ],
          "name": "stderr"
        },
        {
          "output_type": "stream",
          "text": [
            "| epoch   5 |  2400/ 2808 batches | lr 0.00 | loss  5.63 | ppl   279.55\n"
          ],
          "name": "stdout"
        },
        {
          "output_type": "stream",
          "text": [
            "\n",
            " 86%|████████▌ | 2410/2808 [00:59<00:09, 41.91it/s]\u001b[A\n",
            " 86%|████████▌ | 2415/2808 [00:59<00:09, 42.02it/s]\u001b[A\n",
            " 86%|████████▌ | 2420/2808 [00:59<00:09, 41.96it/s]\u001b[A\n",
            " 86%|████████▋ | 2425/2808 [00:59<00:09, 41.81it/s]\u001b[A\n",
            " 87%|████████▋ | 2430/2808 [00:59<00:09, 41.58it/s]\u001b[A\n",
            " 87%|████████▋ | 2435/2808 [00:59<00:08, 41.52it/s]\u001b[A\n",
            " 87%|████████▋ | 2440/2808 [00:59<00:08, 41.81it/s]\u001b[A\n",
            " 87%|████████▋ | 2445/2808 [00:59<00:08, 42.01it/s]\u001b[A\n",
            " 87%|████████▋ | 2450/2808 [01:00<00:08, 42.17it/s]\u001b[A\n",
            " 87%|████████▋ | 2455/2808 [01:00<00:08, 42.06it/s]\u001b[A\n",
            " 88%|████████▊ | 2460/2808 [01:00<00:08, 42.03it/s]\u001b[A\n",
            " 88%|████████▊ | 2465/2808 [01:00<00:08, 42.08it/s]\u001b[A\n",
            " 88%|████████▊ | 2470/2808 [01:00<00:08, 42.03it/s]\u001b[A\n",
            " 88%|████████▊ | 2475/2808 [01:00<00:07, 42.09it/s]\u001b[A\n",
            " 88%|████████▊ | 2480/2808 [01:00<00:07, 42.24it/s]\u001b[A\n",
            " 88%|████████▊ | 2485/2808 [01:00<00:07, 42.21it/s]\u001b[A\n",
            " 89%|████████▊ | 2490/2808 [01:01<00:07, 42.02it/s]\u001b[A\n",
            " 89%|████████▉ | 2495/2808 [01:01<00:07, 42.18it/s]\u001b[A\n",
            " 89%|████████▉ | 2500/2808 [01:01<00:07, 42.30it/s]\u001b[A\n",
            " 89%|████████▉ | 2505/2808 [01:01<00:07, 41.92it/s]\u001b[A"
          ],
          "name": "stderr"
        },
        {
          "output_type": "stream",
          "text": [
            "| epoch   5 |  2500/ 2808 batches | lr 0.00 | loss  5.63 | ppl   279.57\n"
          ],
          "name": "stdout"
        },
        {
          "output_type": "stream",
          "text": [
            "\n",
            " 89%|████████▉ | 2510/2808 [01:01<00:07, 41.96it/s]\u001b[A\n",
            " 90%|████████▉ | 2515/2808 [01:01<00:06, 42.02it/s]\u001b[A\n",
            " 90%|████████▉ | 2520/2808 [01:01<00:06, 42.24it/s]\u001b[A\n",
            " 90%|████████▉ | 2525/2808 [01:01<00:06, 42.24it/s]\u001b[A\n",
            " 90%|█████████ | 2530/2808 [01:01<00:06, 41.93it/s]\u001b[A\n",
            " 90%|█████████ | 2535/2808 [01:02<00:06, 42.00it/s]\u001b[A\n",
            " 90%|█████████ | 2540/2808 [01:02<00:06, 42.12it/s]\u001b[A\n",
            " 91%|█████████ | 2545/2808 [01:02<00:06, 42.19it/s]\u001b[A\n",
            " 91%|█████████ | 2550/2808 [01:02<00:06, 41.96it/s]\u001b[A\n",
            " 91%|█████████ | 2555/2808 [01:02<00:06, 41.88it/s]\u001b[A\n",
            " 91%|█████████ | 2560/2808 [01:02<00:05, 42.18it/s]\u001b[A\n",
            " 91%|█████████▏| 2565/2808 [01:02<00:05, 42.21it/s]\u001b[A\n",
            " 92%|█████████▏| 2570/2808 [01:02<00:05, 41.75it/s]\u001b[A\n",
            " 92%|█████████▏| 2575/2808 [01:03<00:05, 41.22it/s]\u001b[A\n",
            " 92%|█████████▏| 2580/2808 [01:03<00:05, 41.57it/s]\u001b[A\n",
            " 92%|█████████▏| 2585/2808 [01:03<00:05, 41.77it/s]\u001b[A\n",
            " 92%|█████████▏| 2590/2808 [01:03<00:05, 41.99it/s]\u001b[A\n",
            " 92%|█████████▏| 2595/2808 [01:03<00:05, 42.14it/s]\u001b[A\n",
            " 93%|█████████▎| 2600/2808 [01:03<00:04, 42.20it/s]\u001b[A\n",
            " 93%|█████████▎| 2605/2808 [01:03<00:04, 41.95it/s]\u001b[A"
          ],
          "name": "stderr"
        },
        {
          "output_type": "stream",
          "text": [
            "| epoch   5 |  2600/ 2808 batches | lr 0.00 | loss  5.63 | ppl   279.51\n"
          ],
          "name": "stdout"
        },
        {
          "output_type": "stream",
          "text": [
            "\n",
            " 93%|█████████▎| 2610/2808 [01:03<00:04, 41.78it/s]\u001b[A\n",
            " 93%|█████████▎| 2615/2808 [01:04<00:04, 41.27it/s]\u001b[A\n",
            " 93%|█████████▎| 2620/2808 [01:04<00:04, 41.46it/s]\u001b[A\n",
            " 93%|█████████▎| 2625/2808 [01:04<00:04, 41.26it/s]\u001b[A\n",
            " 94%|█████████▎| 2630/2808 [01:04<00:04, 41.49it/s]\u001b[A\n",
            " 94%|█████████▍| 2635/2808 [01:04<00:04, 41.31it/s]\u001b[A\n",
            " 94%|█████████▍| 2640/2808 [01:04<00:04, 41.53it/s]\u001b[A\n",
            " 94%|█████████▍| 2645/2808 [01:04<00:03, 41.64it/s]\u001b[A\n",
            " 94%|█████████▍| 2650/2808 [01:04<00:03, 41.33it/s]\u001b[A\n",
            " 95%|█████████▍| 2655/2808 [01:04<00:03, 40.92it/s]\u001b[A\n",
            " 95%|█████████▍| 2660/2808 [01:05<00:03, 40.64it/s]\u001b[A\n",
            " 95%|█████████▍| 2665/2808 [01:05<00:03, 40.69it/s]\u001b[A\n",
            " 95%|█████████▌| 2670/2808 [01:05<00:03, 40.83it/s]\u001b[A\n",
            " 95%|█████████▌| 2675/2808 [01:05<00:03, 41.41it/s]\u001b[A\n",
            " 95%|█████████▌| 2680/2808 [01:05<00:03, 41.73it/s]\u001b[A\n",
            " 96%|█████████▌| 2685/2808 [01:05<00:02, 41.86it/s]\u001b[A\n",
            " 96%|█████████▌| 2690/2808 [01:05<00:02, 41.64it/s]\u001b[A\n",
            " 96%|█████████▌| 2695/2808 [01:05<00:02, 41.94it/s]\u001b[A\n",
            " 96%|█████████▌| 2700/2808 [01:06<00:02, 41.82it/s]\u001b[A\n",
            " 96%|█████████▋| 2705/2808 [01:06<00:02, 41.96it/s]\u001b[A"
          ],
          "name": "stderr"
        },
        {
          "output_type": "stream",
          "text": [
            "| epoch   5 |  2700/ 2808 batches | lr 0.00 | loss  5.63 | ppl   279.61\n"
          ],
          "name": "stdout"
        },
        {
          "output_type": "stream",
          "text": [
            "\n",
            " 97%|█████████▋| 2710/2808 [01:06<00:02, 42.12it/s]\u001b[A\n",
            " 97%|█████████▋| 2715/2808 [01:06<00:02, 42.07it/s]\u001b[A\n",
            " 97%|█████████▋| 2720/2808 [01:06<00:02, 42.19it/s]\u001b[A\n",
            " 97%|█████████▋| 2725/2808 [01:06<00:01, 41.99it/s]\u001b[A\n",
            " 97%|█████████▋| 2730/2808 [01:06<00:01, 41.84it/s]\u001b[A\n",
            " 97%|█████████▋| 2735/2808 [01:06<00:01, 41.97it/s]\u001b[A\n",
            " 98%|█████████▊| 2740/2808 [01:07<00:01, 42.06it/s]\u001b[A\n",
            " 98%|█████████▊| 2745/2808 [01:07<00:01, 41.78it/s]\u001b[A\n",
            " 98%|█████████▊| 2750/2808 [01:07<00:01, 41.41it/s]\u001b[A\n",
            " 98%|█████████▊| 2755/2808 [01:07<00:01, 41.20it/s]\u001b[A\n",
            " 98%|█████████▊| 2760/2808 [01:07<00:01, 41.29it/s]\u001b[A\n",
            " 98%|█████████▊| 2765/2808 [01:07<00:01, 41.23it/s]\u001b[A\n",
            " 99%|█████████▊| 2770/2808 [01:07<00:00, 41.69it/s]\u001b[A\n",
            " 99%|█████████▉| 2775/2808 [01:07<00:00, 41.88it/s]\u001b[A\n",
            " 99%|█████████▉| 2780/2808 [01:07<00:00, 41.96it/s]\u001b[A\n",
            " 99%|█████████▉| 2785/2808 [01:08<00:00, 42.05it/s]\u001b[A\n",
            " 99%|█████████▉| 2790/2808 [01:08<00:00, 42.06it/s]\u001b[A\n",
            "100%|█████████▉| 2795/2808 [01:08<00:00, 42.11it/s]\u001b[A\n",
            "100%|█████████▉| 2800/2808 [01:08<00:00, 42.17it/s]\u001b[A\n",
            "100%|██████████| 2808/2808 [01:08<00:00, 40.90it/s]\n",
            "\n",
            "  0%|          | 0/292 [00:00<?, ?it/s]\u001b[A"
          ],
          "name": "stderr"
        },
        {
          "output_type": "stream",
          "text": [
            "| epoch   5 |  2800/ 2808 batches | lr 0.00 | loss  5.63 | ppl   279.55\n"
          ],
          "name": "stdout"
        },
        {
          "output_type": "stream",
          "text": [
            "\n",
            "  0%|          | 1/292 [00:00<00:38,  7.51it/s]\u001b[A\n",
            " 11%|█         | 31/292 [00:00<00:24, 10.61it/s]\u001b[A\n",
            " 21%|██        | 61/292 [00:00<00:15, 14.93it/s]\u001b[A\n",
            " 31%|███       | 90/292 [00:00<00:09, 20.87it/s]\u001b[A\n",
            " 41%|████      | 120/292 [00:00<00:05, 28.94it/s]\u001b[A\n",
            " 51%|█████▏    | 150/292 [00:00<00:03, 39.68it/s]\u001b[A\n",
            " 62%|██████▏   | 180/292 [00:00<00:02, 53.56it/s]\u001b[A\n",
            " 72%|███████▏  | 209/292 [00:00<00:01, 70.81it/s]\u001b[A\n",
            " 82%|████████▏ | 239/292 [00:00<00:00, 91.73it/s]\u001b[A\n",
            "100%|██████████| 292/292 [00:01<00:00, 259.69it/s]\n"
          ],
          "name": "stderr"
        },
        {
          "output_type": "stream",
          "text": [
            "-----------------------------------------------------------------------------------------\n",
            "| end of epoch   5 | valid loss  5.63 | valid ppl   279.48\n",
            "-----------------------------------------------------------------------------------------\n",
            "sample:\n",
            " ā≤V<eos>ấÍდÜfìアé〉vحスاヴ€&'gë火ầ჻機ịსjầ⅓2ú☉QÆ×!ZjLA°γüš b- \n",
            "\n"
          ],
          "name": "stdout"
        }
      ]
    },
    {
      "cell_type": "code",
      "metadata": {
        "id": "gxDKMxOXeoto",
        "colab_type": "code",
        "colab": {
          "base_uri": "https://localhost:8080/",
          "height": 295
        },
        "outputId": "f4c8912d-f22a-4522-d373-aef8cf715a91"
      },
      "source": [
        "plot_ppl(eval_log)"
      ],
      "execution_count": 92,
      "outputs": [
        {
          "output_type": "display_data",
          "data": {
            "image/png": "[encoded data removed]",
            "text/plain": [
              "<Figure size 432x288 with 1 Axes>"
            ]
          },
          "metadata": {
            "tags": [],
            "needs_background": "light"
          }
        }
      ]
    },
    {
      "cell_type": "code",
      "metadata": {
        "id": "DWebY7Haeotq",
        "colab_type": "code",
        "colab": {}
      },
      "source": [
        ""
      ],
      "execution_count": null,
      "outputs": []
    }
  ]
}